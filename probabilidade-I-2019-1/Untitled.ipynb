{
 "cells": [
  {
   "cell_type": "markdown",
   "metadata": {},
   "source": [
    "### Varíaveis aleatórias\n",
    "\n",
    "Uma varíavel aleatória é uma expressão cujo valor é o resultado de um determinado experimento.\n",
    "\n",
    "###### Exemplo:\n",
    "    Suponha um experimento que consiste em jogar uma moeda três vezes, suponha a moeda não viciada, ou seja P(H) = P(T) = 1/2. Seja X a varíavel aleatória que denota quantas vezes foi obtido uma cara, então:\n",
    "\n",
    "$$\n",
    "\\begin{align}\n",
    "P(X = 0) &= P(TTT) = \\frac{1}{8}\\\\\n",
    "P(X = 1) &= P\\{(TTH),(THT),(HTT)\\} = \\frac{3}{8}\\\\\n",
    "P(X = 2) &= P\\{(THH),(HHT),(HTH)\\} = \\frac{3}{8}\\\\\n",
    "P(X = 3) &= P(HHH) = \\frac{1}{8}\\\\\n",
    "\\end{align}\n",
    "$$"
   ]
  },
  {
   "cell_type": "code",
   "execution_count": null,
   "metadata": {},
   "outputs": [],
   "source": []
  }
 ],
 "metadata": {
  "kernelspec": {
   "display_name": "Python 3",
   "language": "python",
   "name": "python3"
  },
  "language_info": {
   "codemirror_mode": {
    "name": "ipython",
    "version": 3
   },
   "file_extension": ".py",
   "mimetype": "text/x-python",
   "name": "python",
   "nbconvert_exporter": "python",
   "pygments_lexer": "ipython3",
   "version": "3.7.1"
  }
 },
 "nbformat": 4,
 "nbformat_minor": 2
}
