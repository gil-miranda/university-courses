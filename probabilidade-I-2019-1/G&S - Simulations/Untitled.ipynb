{
 "cells": [
  {
   "cell_type": "code",
   "execution_count": 16,
   "metadata": {},
   "outputs": [],
   "source": [
    "import numpy as np\n",
    "import matplotlib.pyplot as plt"
   ]
  },
  {
   "cell_type": "markdown",
   "metadata": {},
   "source": [
    "### Rolagem de dado viciado - p. 3\n",
    "$$\n",
    "m(\\omega_1) = \\frac{1}{2}\\\\\n",
    "m(\\omega_2) = \\frac{1}{3}\\\\\n",
    "m(\\omega_3) = \\frac{1}{6}\\\\\n",
    "$$"
   ]
  },
  {
   "cell_type": "code",
   "execution_count": 15,
   "metadata": {},
   "outputs": [
    {
     "name": "stdout",
     "output_type": "stream",
     "text": [
      "Simulado: 0.494400 - 0.336400 - 0.169200\n",
      "Esperado: 0.500000 - 0.333333 - 0.166667\n"
     ]
    }
   ],
   "source": [
    "prob = [0,0,0]\n",
    "for i in range(5000):\n",
    "    rnd = np.random.randint(1,7)\n",
    "    output = 0\n",
    "    if rnd < 4: output = 1\n",
    "    elif rnd > 3 and rnd < 6: output = 2\n",
    "    else: output = 3\n",
    "    prob[output-1] += 1\n",
    "s = sum(prob)\n",
    "print('Simulado: %f - %f - %f' % (prob[0]/s,prob[1]/s,prob[2]/s))\n",
    "print('Esperado: %f - %f - %f' % (1/2,1/3,1/6))"
   ]
  }
 ],
 "metadata": {
  "kernelspec": {
   "display_name": "Python 3",
   "language": "python",
   "name": "python3"
  },
  "language_info": {
   "codemirror_mode": {
    "name": "ipython",
    "version": 3
   },
   "file_extension": ".py",
   "mimetype": "text/x-python",
   "name": "python",
   "nbconvert_exporter": "python",
   "pygments_lexer": "ipython3",
   "version": "3.7.1"
  }
 },
 "nbformat": 4,
 "nbformat_minor": 2
}
