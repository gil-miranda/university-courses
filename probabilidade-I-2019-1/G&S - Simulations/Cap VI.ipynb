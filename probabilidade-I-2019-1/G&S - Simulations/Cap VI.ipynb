{
 "cells": [
  {
   "cell_type": "code",
   "execution_count": 1,
   "metadata": {},
   "outputs": [],
   "source": [
    "import numpy as np\n",
    "import matplotlib.pyplot as plt"
   ]
  },
  {
   "cell_type": "code",
   "execution_count": 50,
   "metadata": {},
   "outputs": [],
   "source": [
    "\n",
    "def check(n):\n",
    "    if n%2 == 0: return True\n",
    "    else: return False"
   ]
  },
  {
   "cell_type": "code",
   "execution_count": 64,
   "metadata": {},
   "outputs": [
    {
     "name": "stdout",
     "output_type": "stream",
     "text": [
      "-68\n"
     ]
    }
   ],
   "source": [
    "pontos = 0\n",
    "for i in range(10000):\n",
    "    rnd = np.random.randint(low = 1, high = 7)\n",
    "    if check(rnd): pontos += 1\n",
    "    else: pontos -= 1\n",
    "print(pontos)"
   ]
  },
  {
   "cell_type": "code",
   "execution_count": 88,
   "metadata": {},
   "outputs": [],
   "source": [
    "dist = [0,0,0,0,0,0]\n",
    "freq = [0,0,0,0,0,0]\n",
    "n = 12354687\n",
    "for i in range(n):\n",
    "    rnd = np.random.randint(low = 1, high = 7)\n",
    "    if rnd == 1: dist[0] += 1\n",
    "    elif rnd == 2: dist[1] += 1\n",
    "    elif rnd == 3: dist[2] += 1\n",
    "    elif rnd == 4: dist[3] += 1\n",
    "    elif rnd == 5: dist[4] += 1\n",
    "    elif rnd == 6: dist[5] += 1"
   ]
  },
  {
   "cell_type": "code",
   "execution_count": 89,
   "metadata": {},
   "outputs": [
    {
     "data": {
      "text/plain": [
       "([2061895, 2059611, 2057532, 2060172, 2058899, 2056578],\n",
       " [0.16689172295502103,\n",
       "  0.16670685384421313,\n",
       "  0.1665385776264506,\n",
       "  0.16675226171249827,\n",
       "  0.1666492238937336,\n",
       "  0.16646135996808337])"
      ]
     },
     "execution_count": 89,
     "metadata": {},
     "output_type": "execute_result"
    }
   ],
   "source": [
    "for i in range(len(dist)):\n",
    "    freq[i] = dist[i]/n\n",
    "dist,freq"
   ]
  },
  {
   "cell_type": "code",
   "execution_count": 91,
   "metadata": {},
   "outputs": [
    {
     "data": {
      "text/plain": [
       "0.16666666666666666"
      ]
     },
     "execution_count": 91,
     "metadata": {},
     "output_type": "execute_result"
    }
   ],
   "source": [
    "1/6"
   ]
  },
  {
   "cell_type": "code",
   "execution_count": null,
   "metadata": {},
   "outputs": [],
   "source": []
  }
 ],
 "metadata": {
  "kernelspec": {
   "display_name": "Python 3",
   "language": "python",
   "name": "python3"
  },
  "language_info": {
   "codemirror_mode": {
    "name": "ipython",
    "version": 3
   },
   "file_extension": ".py",
   "mimetype": "text/x-python",
   "name": "python",
   "nbconvert_exporter": "python",
   "pygments_lexer": "ipython3",
   "version": "3.7.3"
  }
 },
 "nbformat": 4,
 "nbformat_minor": 2
}
