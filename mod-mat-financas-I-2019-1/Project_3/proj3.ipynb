{
 "cells": [
  {
   "cell_type": "code",
   "execution_count": 210,
   "metadata": {},
   "outputs": [],
   "source": [
    "import numpy as np\n",
    "import scipy.stats as si\n",
    "import scipy\n",
    "import sympy as sy\n",
    "import matplotlib.pyplot as plt\n",
    "import pandas as pd\n",
    "# import sympy.statistics as systats"
   ]
  },
  {
   "cell_type": "code",
   "execution_count": 40,
   "metadata": {},
   "outputs": [],
   "source": [
    "def euro_opt(S, K, T, r, sigma, option = 'call'):\n",
    "    \n",
    "    #S: spot price\n",
    "    #K: strike price\n",
    "    #T: time to maturity\n",
    "    #r: interest rate\n",
    "    #sigma: volatility of underlying asset\n",
    "    \n",
    "    d1 = (np.log(S / K) + (r + 0.5 * sigma ** 2) * T) / (sigma * np.sqrt(T))\n",
    "    d2 = (np.log(S / K) + (r - 0.5 * sigma ** 2) * T) / (sigma * np.sqrt(T))\n",
    "    \n",
    "    if option == 'call':\n",
    "        result = (S * si.norm.cdf(d1, 0.0, 1.0) - K * np.exp(-r * T) * si.norm.cdf(d2, 0.0, 1.0))\n",
    "    if option == 'put':\n",
    "        result = (K * np.exp(-r * T) * si.norm.cdf(-d2, 0.0, 1.0) - S * si.norm.cdf(-d1, 0.0, 1.0))\n",
    "        \n",
    "    return result"
   ]
  },
  {
   "cell_type": "code",
   "execution_count": 52,
   "metadata": {},
   "outputs": [
    {
     "data": {
      "text/plain": [
       "8.550200169925013"
      ]
     },
     "execution_count": 52,
     "metadata": {},
     "output_type": "execute_result"
    }
   ],
   "source": [
    "euro_opt(27,27.25,6,0.065,0.0000000000001)"
   ]
  },
  {
   "cell_type": "code",
   "execution_count": 42,
   "metadata": {},
   "outputs": [],
   "source": [
    "def vega(S, K, T, r, sigma):\n",
    "\n",
    "    #S: spot price\n",
    "    #K: strike price\n",
    "    #T: time to maturity\n",
    "    #r: interest rate\n",
    "    #sigma: volatility of underlying asset\n",
    "    \n",
    "    d1 = (np.log(S / K) + (r + 0.5 * sigma ** 2) * T) / (sigma * np.sqrt(T))\n",
    "    \n",
    "    vega = S * si.norm.cdf(d1, 0.0, 1.0) * np.sqrt(T)\n",
    "    \n",
    "    return vega"
   ]
  },
  {
   "cell_type": "code",
   "execution_count": 48,
   "metadata": {},
   "outputs": [
    {
     "data": {
      "text/plain": [
       "66.1362230551458"
      ]
     },
     "execution_count": 48,
     "metadata": {},
     "output_type": "execute_result"
    }
   ],
   "source": [
    "vega(27,27.25,6,0.065,.001)"
   ]
  },
  {
   "cell_type": "code",
   "execution_count": 75,
   "metadata": {},
   "outputs": [
    {
     "data": {
      "text/plain": [
       "23.176669536768507"
      ]
     },
     "execution_count": 75,
     "metadata": {},
     "output_type": "execute_result"
    }
   ],
   "source": [
    "black_scholes(-1,27,48.5,0.016,5,.65,0)"
   ]
  },
  {
   "cell_type": "code",
   "execution_count": 159,
   "metadata": {},
   "outputs": [],
   "source": [
    "#-------------------------------------------------------------------------------\n",
    "# Name:        Scenario Analysis Black Scholes\n",
    "# Purpose:\n",
    "#\n",
    "# Author:      Jamie\n",
    "#\n",
    "# Created:     20/06/2012\n",
    "# Copyright:   (c) Jamie 2012\n",
    "# Licence:     <your licence>\n",
    "#-------------------------------------------------------------------------------\n",
    "\n",
    "from scipy import stats\n",
    "import math\n",
    "\n",
    "def black_scholes (cp, s, k, t, rf, v):\n",
    "        \"\"\" Price an option using the Black-Scholes model.\n",
    "        s: initial stock price\n",
    "        k: strike price\n",
    "        t: expiration time\n",
    "        v: volatility\n",
    "        rf: risk-free rate\n",
    "        cp: +1/-1 for call/put\n",
    "        \"\"\"\n",
    "\n",
    "        d1 = (math.log(s/k)+(rf+0.5*math.pow(v,2))*t)/(v*math.sqrt(t))\n",
    "        d2 = d1 - v*math.sqrt(t)\n",
    "\n",
    "        optprice = (cp*s*math.exp(-div*t)*stats.norm.cdf(cp*d1)) - (cp*k*math.exp(-rf*t)*stats.norm.cdf(cp*d2))\n",
    "        return optprice\n"
   ]
  },
  {
   "cell_type": "code",
   "execution_count": 78,
   "metadata": {},
   "outputs": [
    {
     "data": {
      "text/plain": [
       "23.176669536768507"
      ]
     },
     "execution_count": 78,
     "metadata": {},
     "output_type": "execute_result"
    }
   ],
   "source": []
  },
  {
   "cell_type": "code",
   "execution_count": 124,
   "metadata": {},
   "outputs": [],
   "source": [
    "def bissecao(f,a,b, p, tol=1e-8):\n",
    "    # YOUR CODE HERE\n",
    "    # p = [cp, s, k, t, v, rf, div, price]\n",
    "    count = 0\n",
    "    while b-a >= tol:\n",
    "        count += 1\n",
    "        z = (a+b)/2\n",
    "        if f(p[0],p[1],p[2],p[3],z,p[5],p[6],p[7]) <= tol:\n",
    "            return z, count\n",
    "        if f(p[0],p[1],p[2],p[3],a,p[5],p[6],p[7])*f(p[0],p[1],p[2],p[3],z,p[5],p[6],p[7]) < 0:\n",
    "            b = z\n",
    "        else:\n",
    "            a = z\n",
    "    return z, count"
   ]
  },
  {
   "cell_type": "code",
   "execution_count": 138,
   "metadata": {},
   "outputs": [],
   "source": [
    "def h(cp, s, k, t, v, rf, div, price):\n",
    "    #  print(black_scholes(cp, s, k, t, v, rf, div) - price)\n",
    "    return abs(black_scholes(cp, s, k, t, v, rf, div) - price)"
   ]
  },
  {
   "cell_type": "code",
   "execution_count": 139,
   "metadata": {},
   "outputs": [
    {
     "name": "stdout",
     "output_type": "stream",
     "text": [
      "0.26928565347123623\n",
      "0.1095862197097155\n",
      "0.26928565347123623\n",
      "1.0132549214567277\n",
      "0.26928565347123623\n",
      "1.0132549214567277\n",
      "1.581320063767489\n",
      "1.0132549214567277\n",
      "1.581320063767489\n",
      "1.9006520304136956\n",
      "1.581320063767489\n",
      "1.9006520304136956\n",
      "2.0676267546886606\n",
      "1.9006520304136956\n",
      "2.0676267546886606\n",
      "2.1527723919917783\n",
      "2.0676267546886606\n",
      "2.1527723919917783\n",
      "2.195739933640265\n",
      "2.1527723919917783\n",
      "2.195739933640265\n",
      "2.2173199815349633\n",
      "2.195739933640265\n",
      "2.2173199815349633\n",
      "2.2281337790224143\n",
      "2.2173199815349633\n",
      "2.2281337790224143\n",
      "2.233546584478237\n",
      "2.2281337790224143\n",
      "2.233546584478237\n",
      "2.236254459318289\n",
      "2.233546584478237\n",
      "2.236254459318289\n",
      "2.2376087641967324\n",
      "2.236254459318289\n",
      "2.2376087641967324\n",
      "2.2382860084294514\n",
      "2.2376087641967324\n",
      "2.2382860084294514\n",
      "2.2386246534852816\n",
      "2.2382860084294514\n",
      "2.2386246534852816\n",
      "2.2387939817469658\n",
      "2.2386246534852816\n",
      "2.2387939817469658\n",
      "2.2388786473111004\n",
      "2.2387939817469658\n",
      "2.2388786473111004\n",
      "2.2389209804514856\n",
      "2.2388786473111004\n",
      "2.2389209804514856\n",
      "2.2389421471112456\n",
      "2.2389209804514856\n",
      "2.2389421471112456\n",
      "2.2389527304635273\n",
      "2.2389421471112456\n",
      "2.2389527304635273\n",
      "2.238958022145262\n",
      "2.2389527304635273\n",
      "2.238958022145262\n",
      "2.238960667987527\n",
      "2.238958022145262\n",
      "2.238960667987527\n",
      "2.238961990909008\n",
      "2.238960667987527\n",
      "2.238961990909008\n",
      "2.238962652369832\n",
      "2.238961990909008\n",
      "2.238962652369832\n",
      "2.2389629831002793\n",
      "2.238962652369832\n",
      "2.2389629831002793\n",
      "2.2389631484654977\n",
      "2.2389629831002793\n",
      "2.2389631484654977\n",
      "2.2389632311481087\n",
      "2.2389631484654977\n",
      "2.2389632311481087\n",
      "2.238963272489425\n",
      "2.2389632311481087\n",
      "2.238963272489425\n",
      "2.238963293160076\n",
      "2.238963272489425\n",
      "2.238963293160076\n",
      "2.238963303495403\n",
      "2.238963293160076\n",
      "2.238963303495403\n"
     ]
    },
    {
     "data": {
      "text/plain": [
       "(4.999999990873039, 29)"
      ]
     },
     "execution_count": 139,
     "metadata": {},
     "output_type": "execute_result"
    }
   ],
   "source": [
    "bissecao(h,0.1,5,[-1,27,48.5,0.016,0.1,0.065,0,21.34])"
   ]
  },
  {
   "cell_type": "code",
   "execution_count": 140,
   "metadata": {},
   "outputs": [
    {
     "data": {
      "text/plain": [
       "6.801033221436356"
      ]
     },
     "execution_count": 140,
     "metadata": {},
     "output_type": "execute_result"
    }
   ],
   "source": [
    "black_scholes(-1,27,32,0.0164,2.55,0.065,0)"
   ]
  },
  {
   "cell_type": "code",
   "execution_count": 143,
   "metadata": {},
   "outputs": [
    {
     "name": "stdout",
     "output_type": "stream",
     "text": [
      "-16.34372377748709\n"
     ]
    },
    {
     "data": {
      "text/plain": [
       "[<matplotlib.lines.Line2D at 0x7f8d5010e8d0>]"
      ]
     },
     "execution_count": 143,
     "metadata": {},
     "output_type": "execute_result"
    },
    {
     "data": {
      "image/png": "[encoded data removed]",
      "text/plain": [
       "<Figure size 432x288 with 1 Axes>"
      ]
     },
     "metadata": {
      "needs_background": "light"
     },
     "output_type": "display_data"
    }
   ],
   "source": [
    "ts = np.linspace(0.1,5,200)\n",
    "plt.plot(ts,[h(-1,27,32,0.0164,0.7,0.065,0,21.34)]*200)"
   ]
  },
  {
   "cell_type": "code",
   "execution_count": 169,
   "metadata": {},
   "outputs": [
    {
     "data": {
      "text/plain": [
       "5.000239133333103"
      ]
     },
     "execution_count": 169,
     "metadata": {},
     "output_type": "execute_result"
    }
   ],
   "source": [
    "black_scholes(-1,27,32,0.0164,0.065,0.715)"
   ]
  },
  {
   "cell_type": "code",
   "execution_count": 172,
   "metadata": {},
   "outputs": [
    {
     "data": {
      "text/plain": [
       "3900"
      ]
     },
     "execution_count": 172,
     "metadata": {},
     "output_type": "execute_result"
    }
   ],
   "source": []
  },
  {
   "cell_type": "code",
   "execution_count": 219,
   "metadata": {},
   "outputs": [
    {
     "data": {
      "text/plain": [
       "0.7199792850227894"
      ]
     },
     "execution_count": 219,
     "metadata": {},
     "output_type": "execute_result"
    }
   ],
   "source": [
    "cp = -1\n",
    "s = 27\n",
    "k = 32\n",
    "t = 0.016\n",
    "rf = 0.065\n",
    "price = 5\n",
    "def h(vol):\n",
    "#   print(black_scholes(cp, s, k, t, vol, rf, div) - price)\n",
    "    return black_scholes(cp, s, k, t, rf, vol) - price\n",
    "\n",
    "scipy.optimize.bisect(h,1e-6,5,xtol=1e-16)"
   ]
  },
  {
   "cell_type": "code",
   "execution_count": 214,
   "metadata": {},
   "outputs": [],
   "source": []
  },
  {
   "cell_type": "code",
   "execution_count": 222,
   "metadata": {},
   "outputs": [
    {
     "data": {
      "text/plain": [
       "0.4237032042981779"
      ]
     },
     "execution_count": 222,
     "metadata": {},
     "output_type": "execute_result"
    }
   ],
   "source": [
    "cp = 1\n",
    "s = 27\n",
    "k = 26.25\n",
    "t = 0.016\n",
    "rf = 0.065\n",
    "price = 1.04\n",
    "def h(vol):\n",
    "    return black_scholes(cp, s, k, t, rf, vol) - price\n",
    "scipy.optimize.bisect(h,1e-6,5,xtol=1e-16)"
   ]
  },
  {
   "cell_type": "code",
   "execution_count": 224,
   "metadata": {},
   "outputs": [
    {
     "data": {
      "text/plain": [
       "1.0399962926697413"
      ]
     },
     "execution_count": 224,
     "metadata": {},
     "output_type": "execute_result"
    }
   ],
   "source": [
    "black_scholes(1, 27, 26.25, 0.016, 0.065, 0.42370)"
   ]
  },
  {
   "cell_type": "code",
   "execution_count": 395,
   "metadata": {},
   "outputs": [],
   "source": [
    "from scipy import stats\n",
    "import math\n",
    "\n",
    "def black_scholes (cp, s, k, t, rf, v):\n",
    "        \"\"\" Price an option using the Black-Scholes model.\n",
    "        s: initial stock price\n",
    "        k: strike price\n",
    "        t: expiration time\n",
    "        v: volatility\n",
    "        rf: risk-free rate\n",
    "        cp: +1/-1 for call/put\n",
    "        \"\"\"\n",
    "\n",
    "        d1 = (math.log(s/k)+(rf+0.5*math.pow(v,2))*t)/(v*math.sqrt(t))\n",
    "        d2 = d1 - v*math.sqrt(t)\n",
    "\n",
    "        optprice = (cp*s*math.exp(-div*t)*stats.norm.cdf(cp*d1)) - (cp*k*math.exp(-rf*t)*stats.norm.cdf(cp*d2))\n",
    "        return optprice\n",
    "\n",
    "def volat_impl(cp, s, k, t, rf, price):\n",
    "    def h(vol):\n",
    "        return black_scholes(cp, s, k, t, rf, vol) - price\n",
    "    return scipy.optimize.bisect(h,1e-6,5,xtol=1e-16)"
   ]
  },
  {
   "cell_type": "code",
   "execution_count": null,
   "metadata": {},
   "outputs": [],
   "source": []
  },
  {
   "cell_type": "code",
   "execution_count": 396,
   "metadata": {},
   "outputs": [
    {
     "data": {
      "text/plain": [
       "0.18993518619015592"
      ]
     },
     "execution_count": 396,
     "metadata": {},
     "output_type": "execute_result"
    }
   ],
   "source": [
    "black_scholes(1,27,28,0.016,0.065,0.3914)"
   ]
  },
  {
   "cell_type": "code",
   "execution_count": 425,
   "metadata": {},
   "outputs": [],
   "source": [
    "data = pd.read_csv('BRFOODS.csv',';')\n",
    "# data"
   ]
  },
  {
   "cell_type": "code",
   "execution_count": 426,
   "metadata": {},
   "outputs": [],
   "source": [
    "'''\n",
    "Setting CONSTANTS\n",
    "'''\n",
    "\n",
    "sigla_acao = 'BRFS3'\n",
    "empresa = 'BRFoods S.A.'\n",
    "preco_acao = 27.00\n",
    "dias = [6,28]\n",
    "\n",
    "\n",
    "puts = data['Tipo'] == 'PUT'\n",
    "calls = data['Tipo'] == 'CALL'\n",
    "dia1706 = data['TF'] == '17-06-2019'\n",
    "dia1507 = data['TF'] == '15-07-2019'"
   ]
  },
  {
   "cell_type": "code",
   "execution_count": 435,
   "metadata": {},
   "outputs": [
    {
     "data": {
      "image/png": "[encoded data removed]",
      "text/plain": [
       "<Figure size 720x432 with 1 Axes>"
      ]
     },
     "metadata": {
      "needs_background": "light"
     },
     "output_type": "display_data"
    }
   ],
   "source": [
    "## PUT Com 6 dias a vencer\n",
    "\n",
    "## Buscando as informações no DataFrame\n",
    "df_k = data[puts & dia1706].iloc[0:,2:3]\n",
    "df_s = data[puts & dia1706].iloc[0:,3:4]\n",
    "ks = df_k.values.flatten()\n",
    "Ss = df_s.values.flatten()\n",
    "\n",
    "## Setando o array com as volatilidades a serem plotadas\n",
    "vs = []\n",
    "for (k,s) in zip(ks,Ss):\n",
    "    vs.append(volat_impl(-1,preco_acao,k,dias[0]/365,0.065,s))\n",
    "\n",
    "## Plot do gráfico\n",
    "plt.figure(figsize=(10,6))\n",
    "plt.plot(ks,vs, marker='o')\n",
    "plt.xlabel('Strikes')\n",
    "plt.ylabel('Volatilidade')\n",
    "plt.title('Gráfico Smile - Volatilidade x Strike - PUT Com 6 dias a vencer')\n",
    "plt.grid()\n",
    "plt.show()"
   ]
  },
  {
   "cell_type": "code",
   "execution_count": 446,
   "metadata": {},
   "outputs": [
    {
     "data": {
      "image/png": "[encoded data removed]",
      "text/plain": [
       "<Figure size 720x432 with 1 Axes>"
      ]
     },
     "metadata": {
      "needs_background": "light"
     },
     "output_type": "display_data"
    }
   ],
   "source": [
    "## CALL Com 6 dias a vencer\n",
    "\n",
    "## Buscando as informações no DataFrame\n",
    "df_k = data[calls & dia1706].iloc[0:,2:3]\n",
    "df_s = data[calls & dia1706].iloc[0:,3:4]\n",
    "ks = df_k.values.flatten()\n",
    "Ss = df_s.values.flatten()\n",
    "\n",
    "## Setando o array com as volatilidades a serem plotadas\n",
    "vs = []\n",
    "for (k,s) in zip(ks,Ss):\n",
    "    vs.append(volat_impl(1,preco_acao,k,dias[0]/365,0.065,s))\n",
    "\n",
    "## Plot do gráfico\n",
    "plt.figure(figsize=(10,6))\n",
    "plt.plot(ks,vs, marker='o')\n",
    "plt.xlabel('Strikes')\n",
    "plt.ylabel('Volatilidade')\n",
    "plt.title('Gráfico Smile - Volatilidade x Strike - CALL Com 6 dias a vencer')\n",
    "plt.grid()\n",
    "plt.show()"
   ]
  },
  {
   "cell_type": "code",
   "execution_count": 451,
   "metadata": {},
   "outputs": [
    {
     "data": {
      "image/png": "[encoded data removed]",
      "text/plain": [
       "<Figure size 720x432 with 1 Axes>"
      ]
     },
     "metadata": {
      "needs_background": "light"
     },
     "output_type": "display_data"
    }
   ],
   "source": [
    "## PUT Com 28 dias a vencer\n",
    "\n",
    "## Buscando as informações no DataFrame\n",
    "df_k = data[puts & dia1507].iloc[0:,2:3]\n",
    "df_s = data[puts & dia1507].iloc[0:,3:4]\n",
    "ks = df_k.values.flatten()\n",
    "Ss = df_s.values.flatten()\n",
    "\n",
    "## Setando o array com as volatilidades a serem plotadas\n",
    "vs = []\n",
    "for (k,s) in zip(ks,Ss):\n",
    "    vs.append(volat_impl(-1,preco_acao,k,dias[1]/365,0.065,s))\n",
    "\n",
    "## Plot do gráfico\n",
    "plt.figure(figsize=(10,6))\n",
    "plt.plot(ks,vs, marker='o')\n",
    "plt.xlabel('Strikes')\n",
    "plt.ylabel('Volatilidade')\n",
    "plt.title('Gráfico Smile - Volatilidade x Strike - PUT com 28 dias a vencer')\n",
    "plt.grid()\n",
    "plt.show()"
   ]
  },
  {
   "cell_type": "code",
   "execution_count": 456,
   "metadata": {},
   "outputs": [
    {
     "data": {
      "image/png": "[encoded data removed]",
      "text/plain": [
       "<Figure size 720x432 with 1 Axes>"
      ]
     },
     "metadata": {
      "needs_background": "light"
     },
     "output_type": "display_data"
    }
   ],
   "source": [
    "## CALL Com 28 dias a vencer\n",
    "\n",
    "## Buscando as informações no DataFrame\n",
    "df_k = data[calls & dia1507].iloc[0:,2:3]\n",
    "df_s = data[calls & dia1507].iloc[0:,3:4]\n",
    "ks = df_k.values.flatten()\n",
    "Ss = df_s.values.flatten()\n",
    "\n",
    "## Setando o array com as volatilidades a serem plotadas\n",
    "vs = []\n",
    "for (k,s) in zip(ks,Ss):\n",
    "    vs.append(volat_impl(1,preco_acao,k,dias[1]/365,0.065,s))\n",
    "\n",
    "## Plot do gráfico\n",
    "plt.figure(figsize=(10,6))\n",
    "plt.plot(ks,vs, marker='o')\n",
    "plt.xlabel('Strikes')\n",
    "plt.ylabel('Volatilidade')\n",
    "plt.title('Gráfico Smile - Volatilidade x Strike - CALL com 28 dias a vencer')\n",
    "plt.grid()\n",
    "plt.show()"
   ]
  }
 ],
 "metadata": {
  "kernelspec": {
   "display_name": "Python 3",
   "language": "python",
   "name": "python3"
  },
  "language_info": {
   "codemirror_mode": {
    "name": "ipython",
    "version": 3
   },
   "file_extension": ".py",
   "mimetype": "text/x-python",
   "name": "python",
   "nbconvert_exporter": "python",
   "pygments_lexer": "ipython3",
   "version": "3.7.3"
  }
 },
 "nbformat": 4,
 "nbformat_minor": 2
}
