{
 "cells": [
  {
   "cell_type": "code",
   "execution_count": 1,
   "metadata": {},
   "outputs": [],
   "source": [
    "from scipy import stats\n",
    "import matplotlib.pyplot as plt\n",
    "import pandas as pd\n",
    "import math"
   ]
  },
  {
   "cell_type": "code",
   "execution_count": 2,
   "metadata": {},
   "outputs": [],
   "source": [
    "def black_scholes (cp, s, k, t, rf, v, div = 0):\n",
    "        \"\"\" Price an option using the Black-Scholes model.\n",
    "        s: initial stock price\n",
    "        k: strike price\n",
    "        t: expiration time\n",
    "        v: volatility\n",
    "        rf: risk-free rate\n",
    "        cp: +1/-1 for call/put\n",
    "        \"\"\"\n",
    "\n",
    "        d1 = (math.log(s/k)+(rf+0.5*math.pow(v,2))*t)/(v*math.sqrt(t))\n",
    "        d2 = d1 - v*math.sqrt(t)\n",
    "\n",
    "        optprice = (cp*s*math.exp(-div*t)*stats.norm.cdf(cp*d1)) - (cp*k*math.exp(-rf*t)*stats.norm.cdf(cp*d2))\n",
    "        return optprice\n",
    "\n",
    "def volat_impl(cp, s, k, t, rf, price):\n",
    "    def h(vol):\n",
    "        return black_scholes(cp, s, k, t, rf, vol) - price\n",
    "    return scipy.optimize.bisect(h,1e-6,5,xtol=1e-16)"
   ]
  },
  {
   "cell_type": "code",
   "execution_count": 3,
   "metadata": {},
   "outputs": [],
   "source": [
    "data = pd.read_csv('BRFOODS.csv',';')"
   ]
  },
  {
   "cell_type": "code",
   "execution_count": 4,
   "metadata": {},
   "outputs": [],
   "source": [
    "'''\n",
    "Setting CONSTANTS\n",
    "'''\n",
    "\n",
    "sigla_acao = 'BRFS3'\n",
    "empresa = 'BRFoods S.A.'\n",
    "preco_acao = 27.00\n",
    "dias = [6,28]\n",
    "\n",
    "\n",
    "puts = data['Tipo'] == 'PUT'\n",
    "calls = data['Tipo'] == 'CALL'\n",
    "dia1706 = data['TF'] == '17-06-2019'\n",
    "dia1507 = data['TF'] == '15-07-2019'"
   ]
  },
  {
   "cell_type": "code",
   "execution_count": 5,
   "metadata": {},
   "outputs": [
    {
     "ename": "NameError",
     "evalue": "name 'scipy' is not defined",
     "output_type": "error",
     "traceback": [
      "\u001b[0;31m---------------------------------------------------------------------------\u001b[0m",
      "\u001b[0;31mNameError\u001b[0m                                 Traceback (most recent call last)",
      "\u001b[0;32m<ipython-input-5-a509bdf2391f>\u001b[0m in \u001b[0;36m<module>\u001b[0;34m()\u001b[0m\n\u001b[1;32m     10\u001b[0m \u001b[0mvs\u001b[0m \u001b[0;34m=\u001b[0m \u001b[0;34m[\u001b[0m\u001b[0;34m]\u001b[0m\u001b[0;34m\u001b[0m\u001b[0;34m\u001b[0m\u001b[0m\n\u001b[1;32m     11\u001b[0m \u001b[0;32mfor\u001b[0m \u001b[0;34m(\u001b[0m\u001b[0mk\u001b[0m\u001b[0;34m,\u001b[0m\u001b[0ms\u001b[0m\u001b[0;34m)\u001b[0m \u001b[0;32min\u001b[0m \u001b[0mzip\u001b[0m\u001b[0;34m(\u001b[0m\u001b[0mks\u001b[0m\u001b[0;34m,\u001b[0m\u001b[0mSs\u001b[0m\u001b[0;34m)\u001b[0m\u001b[0;34m:\u001b[0m\u001b[0;34m\u001b[0m\u001b[0;34m\u001b[0m\u001b[0m\n\u001b[0;32m---> 12\u001b[0;31m     \u001b[0mvs\u001b[0m\u001b[0;34m.\u001b[0m\u001b[0mappend\u001b[0m\u001b[0;34m(\u001b[0m\u001b[0mvolat_impl\u001b[0m\u001b[0;34m(\u001b[0m\u001b[0;34m-\u001b[0m\u001b[0;36m1\u001b[0m\u001b[0;34m,\u001b[0m\u001b[0mpreco_acao\u001b[0m\u001b[0;34m,\u001b[0m\u001b[0mk\u001b[0m\u001b[0;34m,\u001b[0m\u001b[0mdias\u001b[0m\u001b[0;34m[\u001b[0m\u001b[0;36m0\u001b[0m\u001b[0;34m]\u001b[0m\u001b[0;34m/\u001b[0m\u001b[0;36m365\u001b[0m\u001b[0;34m,\u001b[0m\u001b[0;36m0.065\u001b[0m\u001b[0;34m,\u001b[0m\u001b[0ms\u001b[0m\u001b[0;34m)\u001b[0m\u001b[0;34m)\u001b[0m\u001b[0;34m\u001b[0m\u001b[0;34m\u001b[0m\u001b[0m\n\u001b[0m\u001b[1;32m     13\u001b[0m \u001b[0;34m\u001b[0m\u001b[0m\n\u001b[1;32m     14\u001b[0m \u001b[0;31m## Plot do gráfico\u001b[0m\u001b[0;34m\u001b[0m\u001b[0;34m\u001b[0m\u001b[0;34m\u001b[0m\u001b[0m\n",
      "\u001b[0;32m<ipython-input-2-2d4bdcab58a0>\u001b[0m in \u001b[0;36mvolat_impl\u001b[0;34m(cp, s, k, t, rf, price)\u001b[0m\n\u001b[1;32m     18\u001b[0m     \u001b[0;32mdef\u001b[0m \u001b[0mh\u001b[0m\u001b[0;34m(\u001b[0m\u001b[0mvol\u001b[0m\u001b[0;34m)\u001b[0m\u001b[0;34m:\u001b[0m\u001b[0;34m\u001b[0m\u001b[0;34m\u001b[0m\u001b[0m\n\u001b[1;32m     19\u001b[0m         \u001b[0;32mreturn\u001b[0m \u001b[0mblack_scholes\u001b[0m\u001b[0;34m(\u001b[0m\u001b[0mcp\u001b[0m\u001b[0;34m,\u001b[0m \u001b[0ms\u001b[0m\u001b[0;34m,\u001b[0m \u001b[0mk\u001b[0m\u001b[0;34m,\u001b[0m \u001b[0mt\u001b[0m\u001b[0;34m,\u001b[0m \u001b[0mrf\u001b[0m\u001b[0;34m,\u001b[0m \u001b[0mvol\u001b[0m\u001b[0;34m)\u001b[0m \u001b[0;34m-\u001b[0m \u001b[0mprice\u001b[0m\u001b[0;34m\u001b[0m\u001b[0;34m\u001b[0m\u001b[0m\n\u001b[0;32m---> 20\u001b[0;31m     \u001b[0;32mreturn\u001b[0m \u001b[0mscipy\u001b[0m\u001b[0;34m.\u001b[0m\u001b[0moptimize\u001b[0m\u001b[0;34m.\u001b[0m\u001b[0mbisect\u001b[0m\u001b[0;34m(\u001b[0m\u001b[0mh\u001b[0m\u001b[0;34m,\u001b[0m\u001b[0;36m1e-6\u001b[0m\u001b[0;34m,\u001b[0m\u001b[0;36m5\u001b[0m\u001b[0;34m,\u001b[0m\u001b[0mxtol\u001b[0m\u001b[0;34m=\u001b[0m\u001b[0;36m1e-16\u001b[0m\u001b[0;34m)\u001b[0m\u001b[0;34m\u001b[0m\u001b[0;34m\u001b[0m\u001b[0m\n\u001b[0m",
      "\u001b[0;31mNameError\u001b[0m: name 'scipy' is not defined"
     ]
    }
   ],
   "source": [
    "## PUT Com 6 dias a vencer\n",
    "\n",
    "## Buscando as informações no DataFrame\n",
    "df_k = data[puts & dia1706].iloc[0:,2:3]\n",
    "df_s = data[puts & dia1706].iloc[0:,3:4]\n",
    "ks = df_k.values.flatten()\n",
    "Ss = df_s.values.flatten()\n",
    "\n",
    "## Setando o array com as volatilidades a serem plotadas\n",
    "vs = []\n",
    "for (k,s) in zip(ks,Ss):\n",
    "    vs.append(volat_impl(-1,preco_acao,k,dias[0]/365,0.065,s))\n",
    "\n",
    "## Plot do gráfico\n",
    "plt.figure(figsize=(10,6))\n",
    "plt.plot(ks,vs, marker='o')\n",
    "plt.xlabel('Strikes')\n",
    "plt.ylabel('Volatilidade')\n",
    "plt.title('Gráfico Smile - Volatilidade x Strike - PUT Com 6 dias a vencer')\n",
    "plt.grid()\n",
    "plt.show()"
   ]
  },
  {
   "cell_type": "code",
   "execution_count": null,
   "metadata": {},
   "outputs": [],
   "source": [
    "## CALL Com 6 dias a vencer\n",
    "\n",
    "## Buscando as informações no DataFrame\n",
    "df_k = data[calls & dia1706].iloc[0:,2:3]\n",
    "df_s = data[calls & dia1706].iloc[0:,3:4]\n",
    "ks = df_k.values.flatten()\n",
    "Ss = df_s.values.flatten()\n",
    "\n",
    "## Setando o array com as volatilidades a serem plotadas\n",
    "vs = []\n",
    "for (k,s) in zip(ks,Ss):\n",
    "    vs.append(volat_impl(1,preco_acao,k,dias[0]/365,0.065,s))\n",
    "\n",
    "## Plot do gráfico\n",
    "plt.figure(figsize=(10,6))\n",
    "plt.plot(ks,vs, marker='o')\n",
    "plt.xlabel('Strikes')\n",
    "plt.ylabel('Volatilidade')\n",
    "plt.title('Gráfico Smile - Volatilidade x Strike - CALL Com 6 dias a vencer')\n",
    "plt.grid()\n",
    "plt.show()"
   ]
  },
  {
   "cell_type": "code",
   "execution_count": null,
   "metadata": {},
   "outputs": [],
   "source": [
    "## PUT Com 28 dias a vencer\n",
    "\n",
    "## Buscando as informações no DataFrame\n",
    "df_k = data[puts & dia1507].iloc[0:,2:3]\n",
    "df_s = data[puts & dia1507].iloc[0:,3:4]\n",
    "ks = df_k.values.flatten()\n",
    "Ss = df_s.values.flatten()\n",
    "\n",
    "## Setando o array com as volatilidades a serem plotadas\n",
    "vs = []\n",
    "for (k,s) in zip(ks,Ss):\n",
    "    vs.append(volat_impl(-1,preco_acao,k,dias[1]/365,0.065,s))\n",
    "\n",
    "## Plot do gráfico\n",
    "plt.figure(figsize=(10,6))\n",
    "plt.plot(ks,vs, marker='o')\n",
    "plt.xlabel('Strikes')\n",
    "plt.ylabel('Volatilidade')\n",
    "plt.title('Gráfico Smile - Volatilidade x Strike - PUT com 28 dias a vencer')\n",
    "plt.grid()\n",
    "plt.show()"
   ]
  },
  {
   "cell_type": "code",
   "execution_count": null,
   "metadata": {},
   "outputs": [],
   "source": [
    "## CALL Com 28 dias a vencer\n",
    "\n",
    "## Buscando as informações no DataFrame\n",
    "df_k = data[calls & dia1507].iloc[0:,2:3]\n",
    "df_s = data[calls & dia1507].iloc[0:,3:4]\n",
    "ks = df_k.values.flatten()\n",
    "Ss = df_s.values.flatten()\n",
    "\n",
    "## Setando o array com as volatilidades a serem plotadas\n",
    "vs = []\n",
    "for (k,s) in zip(ks,Ss):\n",
    "    vs.append(volat_impl(1,preco_acao,k,dias[1]/365,0.065,s))\n",
    "\n",
    "## Plot do gráfico\n",
    "plt.figure(figsize=(10,6))\n",
    "plt.plot(ks,vs, marker='o')\n",
    "plt.xlabel('Strikes')\n",
    "plt.ylabel('Volatilidade')\n",
    "plt.title('Gráfico Smile - Volatilidade x Strike - CALL com 28 dias a vencer')\n",
    "plt.grid()\n",
    "plt.show()"
   ]
  }
 ],
 "metadata": {
  "kernelspec": {
   "display_name": "Python 3",
   "language": "python",
   "name": "python3"
  },
  "language_info": {
   "codemirror_mode": {
    "name": "ipython",
    "version": 3
   },
   "file_extension": ".py",
   "mimetype": "text/x-python",
   "name": "python",
   "nbconvert_exporter": "python",
   "pygments_lexer": "ipython3",
   "version": "3.7.3"
  }
 },
 "nbformat": 4,
 "nbformat_minor": 2
}
