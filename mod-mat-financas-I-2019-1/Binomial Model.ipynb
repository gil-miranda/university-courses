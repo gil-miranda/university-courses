{
 "cells": [
  {
   "cell_type": "code",
   "execution_count": 172,
   "metadata": {},
   "outputs": [],
   "source": [
    "#Garbage\n",
    "u = 2\n",
    "d = 1/2\n",
    "r = 1/10\n",
    "ts = 3 # Representa a cardinalidade do conjunto t_n\n",
    "ptil = ((1+r) - d) / (u-d)\n",
    "qtil = 1-ptil\n",
    "k = 6\n",
    "\n",
    "s0 = 10\n",
    "\n",
    "S = []\n",
    "\n",
    "def setS(s0, t = ts):  \n",
    "    for i in range(1,t+1):\n",
    "        S.append(u**(t+1-i)*d**(i)*s0)\n",
    "\n",
    "        \n",
    "def call(k,s):\n",
    "    if k >= s: return 0\n",
    "    return s-k\n",
    "\n",
    "def put(k,s):\n",
    "    if s>= k: return 0\n",
    "    return k-s\n",
    "\n",
    "#V = [call(k,S[0]), call(k,S[1])]\n",
    "\n",
    "def getV(V):\n",
    "    return (1/(1+r))*(ptil*V[0]+qtil*V[1])\n",
    "\n",
    "#V0 = getV(V)\n",
    "#V0\n",
    "    "
   ]
  },
  {
   "cell_type": "code",
   "execution_count": 173,
   "metadata": {},
   "outputs": [],
   "source": [
    "#Garbage\n",
    "Sf = [30,5] # Representa meus possiveis valores futuros para a ação\n",
    "ts = 4 # Representa a cardinalidade do conjunto t_n (ou em quantas partições irei discretizar)\n",
    "s0 = 10 # Valor da ação em t0\n",
    "u = Sf[0]/s0 # Up factor geral\n",
    "d = Sf[1]/s0 # Down factor geral\n",
    "udisc = (Sf[0]/s0)**(1/(ts-1)) # Discretização do Up factor\n",
    "ddisc = (Sf[1]/s0)**(1/(ts-1)) # Discretização do Down factor\n",
    "\n",
    "r = 1/10\n",
    "\n",
    "\n",
    "ptil = ((1+r) - d) / (u-d)\n",
    "qtil = 1-ptil\n",
    "k = 6\n",
    "\n",
    "def setS(s0, t = ts):\n",
    "    S = []\n",
    "    for i in range(0,t):\n",
    "        S.append(udisc**(t-1-i)*ddisc**(i)*s0)\n",
    "    return S\n",
    "\n",
    "        \n",
    "def call(k,s):\n",
    "    if k >= s: return 0\n",
    "    return s-k\n",
    "\n",
    "def put(k,s):\n",
    "    if s>= k: return 0\n",
    "    return k-s\n",
    "\n",
    "#V = [call(k,S[0]), call(k,S[1])]\n",
    "\n",
    "def getV(V):\n",
    "    return (1/(1+r))*(ptil*V[0]+qtil*V[1])\n",
    "\n",
    "#V0 = getV(V)\n",
    "#V0\n",
    "    "
   ]
  },
  {
   "cell_type": "code",
   "execution_count": 169,
   "metadata": {},
   "outputs": [
    {
     "data": {
      "text/plain": [
       "0.7937005259840998"
      ]
     },
     "execution_count": 169,
     "metadata": {},
     "output_type": "execute_result"
    }
   ],
   "source": [
    "ddisc"
   ]
  },
  {
   "cell_type": "code",
   "execution_count": 170,
   "metadata": {},
   "outputs": [],
   "source": [
    "S = setS(10,4)"
   ]
  },
  {
   "cell_type": "code",
   "execution_count": 171,
   "metadata": {},
   "outputs": [
    {
     "data": {
      "text/plain": [
       "[29.999999999999996, 16.509636244473135, 9.0856029641607, 5.000000000000001]"
      ]
     },
     "execution_count": 171,
     "metadata": {},
     "output_type": "execute_result"
    }
   ],
   "source": [
    "S"
   ]
  },
  {
   "cell_type": "code",
   "execution_count": 137,
   "metadata": {},
   "outputs": [
    {
     "data": {
      "text/plain": [
       "47.622031559045986"
      ]
     },
     "execution_count": 137,
     "metadata": {},
     "output_type": "execute_result"
    }
   ],
   "source": [
    "60*ddisc"
   ]
  },
  {
   "cell_type": "code",
   "execution_count": 133,
   "metadata": {},
   "outputs": [
    {
     "data": {
      "text/plain": [
       "11.393346117057515"
      ]
     },
     "execution_count": 133,
     "metadata": {},
     "output_type": "execute_result"
    }
   ],
   "source": [
    "6.27*udisc"
   ]
  },
  {
   "cell_type": "code",
   "execution_count": 92,
   "metadata": {},
   "outputs": [
    {
     "data": {
      "text/plain": [
       "6.643081680504345"
      ]
     },
     "execution_count": 92,
     "metadata": {},
     "output_type": "execute_result"
    }
   ],
   "source": []
  },
  {
   "cell_type": "code",
   "execution_count": 93,
   "metadata": {},
   "outputs": [
    {
     "data": {
      "text/plain": [
       "5.27242052364079"
      ]
     },
     "execution_count": 93,
     "metadata": {},
     "output_type": "execute_result"
    }
   ],
   "source": []
  },
  {
   "cell_type": "markdown",
   "metadata": {},
   "source": [
    "## Discretizando uma binomial em multinomial"
   ]
  },
  {
   "cell_type": "code",
   "execution_count": 174,
   "metadata": {},
   "outputs": [],
   "source": [
    "Sf = [30,5] # Representa meus possiveis valores futuros para a ação\n",
    "ts = 4 # Representa a cardinalidade do conjunto t_n (ou em quantas partições irei discretizar)\n",
    "s0 = 10 # Valor da ação em t0\n",
    "u = Sf[0]/s0 # Up factor geral\n",
    "d = Sf[1]/s0 # Down factor geral\n",
    "udisc = (Sf[0]/s0)**(1/(ts-1)) # Discretização do Up factor\n",
    "ddisc = (Sf[1]/s0)**(1/(ts-1)) # Discretização do Down factor\n",
    "\n",
    "def setS(s0, t = ts):\n",
    "    S = []\n",
    "    for i in range(0,t):\n",
    "        S.append(udisc**(t-1-i)*ddisc**(i)*s0)\n",
    "    return S"
   ]
  },
  {
   "cell_type": "code",
   "execution_count": 177,
   "metadata": {},
   "outputs": [],
   "source": [
    "S = setS(10,4)"
   ]
  },
  {
   "cell_type": "code",
   "execution_count": 176,
   "metadata": {},
   "outputs": [
    {
     "data": {
      "text/plain": [
       "[29.999999999999996, 16.509636244473135, 9.0856029641607, 5.000000000000001]"
      ]
     },
     "execution_count": 176,
     "metadata": {},
     "output_type": "execute_result"
    }
   ],
   "source": [
    "S"
   ]
  },
  {
   "cell_type": "code",
   "execution_count": 67,
   "metadata": {},
   "outputs": [],
   "source": [
    "c1 = 1+(5/10)**(1/3)\n",
    "c2 = 1+(5/10)**(1/2)\n",
    "c3 = (5/10)"
   ]
  },
  {
   "cell_type": "code",
   "execution_count": 73,
   "metadata": {},
   "outputs": [],
   "source": [
    "d = 1-(5/10)/3"
   ]
  },
  {
   "cell_type": "code",
   "execution_count": 74,
   "metadata": {},
   "outputs": [
    {
     "data": {
      "text/plain": [
       "8.333333333333334"
      ]
     },
     "execution_count": 74,
     "metadata": {},
     "output_type": "execute_result"
    }
   ],
   "source": [
    "10*d"
   ]
  },
  {
   "cell_type": "code",
   "execution_count": 56,
   "metadata": {},
   "outputs": [
    {
     "data": {
      "text/plain": [
       "2.3811015779522995"
      ]
     },
     "execution_count": 56,
     "metadata": {},
     "output_type": "execute_result"
    }
   ],
   "source": [
    "3*c"
   ]
  },
  {
   "cell_type": "code",
   "execution_count": 54,
   "metadata": {},
   "outputs": [
    {
     "data": {
      "text/plain": [
       "7.746517133604814"
      ]
     },
     "execution_count": 54,
     "metadata": {},
     "output_type": "execute_result"
    }
   ],
   "source": [
    "9.76*c\n"
   ]
  },
  {
   "cell_type": "code",
   "execution_count": 76,
   "metadata": {},
   "outputs": [
    {
     "data": {
      "text/plain": [
       "2.0"
      ]
     },
     "execution_count": 76,
     "metadata": {},
     "output_type": "execute_result"
    }
   ],
   "source": [
    "(160/10)**(1/4)"
   ]
  },
  {
   "cell_type": "code",
   "execution_count": 79,
   "metadata": {},
   "outputs": [
    {
     "data": {
      "text/plain": [
       "0.4"
      ]
     },
     "execution_count": 79,
     "metadata": {},
     "output_type": "execute_result"
    }
   ],
   "source": [
    "2/5\n"
   ]
  },
  {
   "cell_type": "code",
   "execution_count": 80,
   "metadata": {},
   "outputs": [
    {
     "data": {
      "text/plain": [
       "61.81818181818182"
      ]
     },
     "execution_count": 80,
     "metadata": {},
     "output_type": "execute_result"
    }
   ],
   "source": [
    "680/11"
   ]
  },
  {
   "cell_type": "code",
   "execution_count": 81,
   "metadata": {},
   "outputs": [
    {
     "data": {
      "text/plain": [
       "68.0"
      ]
     },
     "execution_count": 81,
     "metadata": {},
     "output_type": "execute_result"
    }
   ],
   "source": [
    "2/5*(140) + 3/5*(20)"
   ]
  },
  {
   "cell_type": "code",
   "execution_count": 82,
   "metadata": {},
   "outputs": [
    {
     "data": {
      "text/plain": [
       "61.81818181818182"
      ]
     },
     "execution_count": 82,
     "metadata": {},
     "output_type": "execute_result"
    }
   ],
   "source": [
    "68 * 10/11"
   ]
  },
  {
   "cell_type": "code",
   "execution_count": 85,
   "metadata": {},
   "outputs": [
    {
     "data": {
      "text/plain": [
       "61.81818181818182"
      ]
     },
     "execution_count": 85,
     "metadata": {},
     "output_type": "execute_result"
    }
   ],
   "source": [
    "680/11"
   ]
  },
  {
   "cell_type": "code",
   "execution_count": null,
   "metadata": {},
   "outputs": [],
   "source": []
  }
 ],
 "metadata": {
  "kernelspec": {
   "display_name": "Python 3",
   "language": "python",
   "name": "python3"
  },
  "language_info": {
   "codemirror_mode": {
    "name": "ipython",
    "version": 3
   },
   "file_extension": ".py",
   "mimetype": "text/x-python",
   "name": "python",
   "nbconvert_exporter": "python",
   "pygments_lexer": "ipython3",
   "version": "3.7.3"
  }
 },
 "nbformat": 4,
 "nbformat_minor": 2
}
