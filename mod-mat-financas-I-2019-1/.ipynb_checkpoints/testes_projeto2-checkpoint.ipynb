{
 "cells": [
  {
   "cell_type": "code",
   "execution_count": 2,
   "metadata": {},
   "outputs": [],
   "source": [
    "#################################################################################\n",
    "#\n",
    "# Project           : University Courses / Modelagem Matemática em Finanças I\n",
    "#\n",
    "# Program name      : binomial.py\n",
    "#\n",
    "# Author            : gilmiranda\n",
    "#\n",
    "# Date created      : 03-30-2019\n",
    "#\n",
    "# Purpose           : Take a binomial one step tree with initial values and two final values\n",
    "#                     and discretize for an arbitrary time 't'\n",
    "#\n",
    "# Revision History  :\n",
    "#\n",
    "# Date          Author          Ref    Revision (Date in MM-DD-YYYY format)\n",
    "# 03-30-2019    gilmiranda      1      Created.\n",
    "# 03-31-2019    gilmiranda      2      Bug-fix no calc_Vs, agora o algoritmo\n",
    "#                                      calcula corretamente o V_0, ou valor justo\n",
    "#\n",
    "#################################################################################\n",
    "\n",
    "class binomial:\n",
    "    def __init__(self):\n",
    "        self.Sf = [0,0] ## Guarda os valores finais da binomial inicial\n",
    "        self.Sf_disc = [] ## Guarda os valores finais da multinomial, já discretizada\n",
    "        self.Vs = [] ## Matriz com todos os Vs ao longo do tempo na árvore, sendo o indíce n de cada vetor, seu t_n\n",
    "        self.Vf = []\n",
    "        self.ts = 1 ## Tempo a ser discretizado\n",
    "        self.s0 = 10 ## Valor inicial da árvore\n",
    "        self.u = self.Sf[0]/self.s0 ## Up factor inicial\n",
    "        self.d = self.Sf[1]/self.s0 ## Down factor inicial\n",
    "        self.r = 1/10 ## Taxa de juros\n",
    "        self.k = 1 ## Strike da opção call/put\n",
    "        self.u_disc = 1\n",
    "        self.d_disc = 1\n",
    "        self.ptil = 1\n",
    "        self.qtil = 1\n",
    "\n",
    "    def set_k(self, k): ## Seta strike\n",
    "        self.k = k\n",
    "\n",
    "    def set_Sf(self,s): ## Seta Sf\n",
    "        self.Sf[0] = s[0]\n",
    "        self.Sf[1] = s[1]\n",
    "\n",
    "    def set_s0(self,s): ## Seta S0\n",
    "        if s == 0: raise ValueError('Preço inicial 0 não será modelado')\n",
    "        self.s0 = s\n",
    "\n",
    "    def set_Ts(self,t):\n",
    "        self.ts = t\n",
    "\n",
    "    def set_riskneutral(self):\n",
    "        self.ptil = ((1+self.r)-self.d_disc)/(self.u_disc - self.d_disc)\n",
    "        self.qtil = 1-self.ptil\n",
    "\n",
    "    def set_factors(self):\n",
    "            self.u_disc =((self.Sf[0]/self.s0)**(1/(self.ts-1)))\n",
    "            self.d_disc = ((self.Sf[1]/self.s0)**(1/(self.ts-1)))\n",
    "\n",
    "    def discretize(self):\n",
    "        self.Sf_disc = []\n",
    "        for i in range(0,self.ts):\n",
    "            self.Sf_disc.append(self.u_disc**(self.ts-1-i)*self.d_disc**(i)*self.s0)\n",
    "\n",
    "    def print_Sf(self):\n",
    "        print(self.Sf_disc)\n",
    "\n",
    "    def call(self, s):\n",
    "        if self.k >= s: return 0\n",
    "        return s - self.k\n",
    "\n",
    "    def put(self, s):\n",
    "        if s >= self.k: return 0\n",
    "        return self.k - s\n",
    "\n",
    "    def set_Vf(self, f):\n",
    "        self.Vf = [f(i) for i in self.Sf_disc]\n",
    "\n",
    "    def calcprev_V(self,Vnxt):\n",
    "        return (1/(1+self.r))*(Vnxt[0]*self.ptil + Vnxt[1]*self.qtil)\n",
    "\n",
    "    def calc_Vs(self):\n",
    "        self.Vs.append(self.Vf)\n",
    "        for j in range(0,self.ts-1):\n",
    "            aux = []\n",
    "            c = len(self.Vs[-1])\n",
    "            for i in range(0,c-1):\n",
    "                aux.append(self.calcprev_V((self.Vs[-1][i],self.Vs[-1][i+1])))\n",
    "            self.Vs.append(aux)\n",
    "        self.Vs = self.Vs[::-1]\n"
   ]
  },
  {
   "cell_type": "code",
   "execution_count": 1,
   "metadata": {},
   "outputs": [],
   "source": [
    "import numpy as np\n",
    "import matplotlib.pyplot as plt"
   ]
  },
  {
   "cell_type": "code",
   "execution_count": 9,
   "metadata": {},
   "outputs": [],
   "source": [
    "## Variavel para armazenar o estado inicial do modelo, S = [S0, S1(H), S1(T)]\n",
    "S = [8,16,4]\n",
    "\n",
    "## Up down Factors inicias\n",
    "u = S[1]/S[0]\n",
    "d = S[2]/S[0]\n",
    "\n",
    "## taxa de juros\n",
    "r = 1/10\n",
    "\n",
    "## probabilidades neutra-risco\n",
    "## Definidas pela equação 1.2.15 do Teorema 1.2.2 p12 Shreeve\n",
    "ptil = ((1+r)-d)/u-d\n",
    "qtil = 1-ptil\n",
    "\n",
    "\n",
    "## rotina para garantir sanidade do modelo 0 < d < 1+r < u\n",
    "assert(0<d and d < 1+r and 1+r < u)"
   ]
  },
  {
   "cell_type": "code",
   "execution_count": 4,
   "metadata": {},
   "outputs": [
    {
     "data": {
      "text/plain": [
       "0.5"
      ]
     },
     "execution_count": 4,
     "metadata": {},
     "output_type": "execute_result"
    }
   ],
   "source": [
    "d"
   ]
  },
  {
   "cell_type": "code",
   "execution_count": null,
   "metadata": {},
   "outputs": [],
   "source": []
  }
 ],
 "metadata": {
  "kernelspec": {
   "display_name": "Python 3",
   "language": "python",
   "name": "python3"
  },
  "language_info": {
   "codemirror_mode": {
    "name": "ipython",
    "version": 3
   },
   "file_extension": ".py",
   "mimetype": "text/x-python",
   "name": "python",
   "nbconvert_exporter": "python",
   "pygments_lexer": "ipython3",
   "version": "3.7.3"
  }
 },
 "nbformat": 4,
 "nbformat_minor": 2
}
