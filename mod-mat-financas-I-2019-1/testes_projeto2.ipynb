{
 "cells": [
  {
   "cell_type": "code",
   "execution_count": 67,
   "metadata": {},
   "outputs": [],
   "source": [
    "#################################################################################\n",
    "#\n",
    "# Project           : University Courses / Modelagem Matemática em Finanças I\n",
    "#\n",
    "# Program name      : binomial.py\n",
    "#\n",
    "# Author            : gilmiranda\n",
    "#\n",
    "# Date created      : 03-30-2019\n",
    "#\n",
    "# Purpose           : Take a binomial one step tree with initial values and two final values\n",
    "#                     and discretize for an arbitrary time 't'\n",
    "#\n",
    "# Revision History  :\n",
    "#\n",
    "# Date          Author          Ref    Revision (Date in MM-DD-YYYY format)\n",
    "# 03-30-2019    gilmiranda      1      Created.\n",
    "# 03-31-2019    gilmiranda      2      Bug-fix no calc_Vs, agora o algoritmo\n",
    "#                                      calcula corretamente o V_0, ou valor justo\n",
    "#\n",
    "#################################################################################\n",
    "\n",
    "class binomial:\n",
    "    def __init__(self):\n",
    "        self.Sf = [0,0] ## Guarda os valores finais da binomial inicial\n",
    "        self.Sf_disc = [] ## Guarda os valores finais da multinomial, já discretizada\n",
    "        self.Vs = [] ## Matriz com todos os Vs ao longo do tempo na árvore, sendo o indíce n de cada vetor, seu t_n\n",
    "        self.Vf = []\n",
    "        self.ts = 1 ## Tempo a ser discretizado\n",
    "        self.s0 = 10 ## Valor inicial da árvore\n",
    "        self.u = self.Sf[0]/self.s0 ## Up factor inicial\n",
    "        self.d = self.Sf[1]/self.s0 ## Down factor inicial\n",
    "        self.r = 1/10 ## Taxa de juros\n",
    "        self.k = 1 ## Strike da opção call/put\n",
    "        self.u_disc = 1\n",
    "        self.d_disc = 1\n",
    "        self.ptil = 1\n",
    "        self.qtil = 1\n",
    "\n",
    "    def set_k(self, k): ## Seta strike\n",
    "        self.k = k\n",
    "\n",
    "    def set_Sf(self,s): ## Seta Sf\n",
    "        self.Sf[0] = s[0]\n",
    "        self.Sf[1] = s[1]\n",
    "\n",
    "    def set_s0(self,s): ## Seta S0\n",
    "        if s == 0: raise ValueError('Preço inicial 0 não será modelado')\n",
    "        self.s0 = s\n",
    "\n",
    "    def set_Ts(self,t):\n",
    "        self.ts = t\n",
    "\n",
    "    def set_riskneutral(self):\n",
    "        self.ptil = ((1+self.r)-self.d_disc)/(self.u_disc - self.d_disc)\n",
    "        self.qtil = 1-self.ptil\n",
    "\n",
    "    def set_factors(self):\n",
    "            self.u_disc =((self.Sf[0]/self.s0)**(1/(self.ts-1)))\n",
    "            self.d_disc = ((self.Sf[1]/self.s0)**(1/(self.ts-1)))\n",
    "\n",
    "    def discretize(self):\n",
    "        self.Sf_disc = []\n",
    "        for i in range(0,self.ts):\n",
    "            self.Sf_disc.append(self.u_disc**(self.ts-1-i)*self.d_disc**(i)*self.s0)\n",
    "\n",
    "    def print_Sf(self):\n",
    "        print(self.Sf_disc)\n",
    "\n",
    "    def call(self, s):\n",
    "        if self.k >= s: return 0\n",
    "        return s - self.k\n",
    "\n",
    "    def put(self, s):\n",
    "        if s >= self.k: return 0\n",
    "        return self.k - s\n",
    "\n",
    "    def set_Vf(self, f):\n",
    "        self.Vf = [f(i) for i in self.Sf_disc]\n",
    "\n",
    "    def calcprev_V(self,Vnxt):\n",
    "        return (1/(1+self.r))*(Vnxt[0]*self.ptil + Vnxt[1]*self.qtil)\n",
    "\n",
    "    def calc_Vs(self):\n",
    "        self.Vs.append(self.Vf)\n",
    "        for j in range(0,self.ts-1):\n",
    "            aux = []\n",
    "            c = len(self.Vs[-1])\n",
    "            for i in range(0,c-1):\n",
    "                aux.append(self.calcprev_V((self.Vs[-1][i],self.Vs[-1][i+1])))\n",
    "            self.Vs.append(aux)\n",
    "        self.Vs = self.Vs[::-1]\n"
   ]
  },
  {
   "cell_type": "code",
   "execution_count": 82,
   "metadata": {},
   "outputs": [],
   "source": [
    "# Codes to set-up a test\n",
    "import binomial\n",
    "b = binomial.binomial()\n",
    "b.set_Sf((8,2))\n",
    "b.set_k(5)\n",
    "b.set_Ts(4)\n",
    "b.set_factors()\n",
    "b.set_riskneutral()\n",
    "b.discretize()\n",
    "b.set_Vf(b.call)\n",
    "b.calc_Vs()"
   ]
  },
  {
   "cell_type": "code",
   "execution_count": 84,
   "metadata": {},
   "outputs": [
    {
     "name": "stdout",
     "output_type": "stream",
     "text": [
      "[8.000000000000002, 5.039684199579494, 3.1748021039364, 2.0000000000000004]\n"
     ]
    },
    {
     "data": {
      "text/plain": [
       "(None,\n",
       " [[7.5031929681525895],\n",
       "  [5.527724543143447, 0.07377148833231399],\n",
       "  [4.072284214672991, 0.05410695395469824, 0.0],\n",
       "  [3.0000000000000018, 0.03968419957949365, 0, 0]])"
      ]
     },
     "execution_count": 84,
     "metadata": {},
     "output_type": "execute_result"
    }
   ],
   "source": [
    "b.print_Sf(),b.Vs"
   ]
  },
  {
   "cell_type": "code",
   "execution_count": 86,
   "metadata": {},
   "outputs": [
    {
     "data": {
      "text/plain": [
       "0.7937005259840998"
      ]
     },
     "execution_count": 86,
     "metadata": {},
     "output_type": "execute_result"
    }
   ],
   "source": [
    ".5**(1/3)"
   ]
  },
  {
   "cell_type": "code",
   "execution_count": 2,
   "metadata": {},
   "outputs": [],
   "source": [
    "import numpy as np\n",
    "import matplotlib.pyplot as plt"
   ]
  },
  {
   "cell_type": "code",
   "execution_count": 3,
   "metadata": {},
   "outputs": [],
   "source": [
    "## S -> array com 3 valores: valor inicial, valor final Heads, valor final Tails\n",
    "## t -> fator de divisão do tempo\n",
    "## factors -> array com 3 valores: up, down, r = taxa de juros\n",
    "## tipo -> 0 = call, 1 = put\n",
    "## retv0 -> True calcula V_0\n",
    "def discretizador(S, t, factors = [2.0,0.5,.25], tipo = 0, retv0 = True):\n",
    "    ## Variavel para armazenar o estado inicial do modelo, S = [S0, S1(H), S1(T)]\n",
    "    ts = int(t**(-1)) # Representa a cardinalidade do conjunto t_n (ou em quantas partições irei discretizar)\n",
    "    ## Up down Factors inicias\n",
    "    u = factors[0]\n",
    "    d = factors[1]\n",
    "\n",
    "    udisc = (u)**(1/(ts-1)) # Discretização do Up factor\n",
    "    ddisc = (d)**(1/(ts-1)) # Discretização do Down factor\n",
    "    \n",
    "    ## taxa de juros\n",
    "    r = factors[2]\n",
    "\n",
    "    ## probabilidades neutra-risco\n",
    "    ## Definidas pela equação 1.2.15 do Teorema 1.2.2 p12 Shreeve\n",
    "    ptil = 1/2\n",
    "    qtil = 1/2\n",
    "\n",
    "    ## rotina para garantir sanidade do modelo 0 < d < 1+r < u\n",
    "    assert(0 < d and d < 1+r and 1+r < u)\n",
    "    Sf = []\n",
    "    for i in range(0,ts+1):\n",
    "        Sf.append(udisc**(t-1-i)*ddisc**(i)*S[0])\n",
    "    return Sf"
   ]
  },
  {
   "cell_type": "code",
   "execution_count": 4,
   "metadata": {},
   "outputs": [
    {
     "data": {
      "text/plain": [
       "[3.363585661014858,\n",
       " 2.1189261887185906,\n",
       " 1.3348398541700346,\n",
       " 0.8408964152537147,\n",
       " 0.5297315471796477]"
      ]
     },
     "execution_count": 4,
     "metadata": {},
     "output_type": "execute_result"
    }
   ],
   "source": [
    "discretizador([4,8,2],1/4)"
   ]
  },
  {
   "cell_type": "code",
   "execution_count": 5,
   "metadata": {},
   "outputs": [],
   "source": [
    "def Sfinais(s0,Sf, t):\n",
    "    ts = int(t**(-1)) # Representa a cardinalidade do conjunto t_n (ou em quantas partições irei discretizar)\n",
    "    u = Sf[0]/s0 # Up factor geral\n",
    "    d = Sf[1]/s0 # Down factor geral\n",
    "    udisc = (Sf[0]/s0)**(1/(ts-1)) # Discretização do Up factor\n",
    "    ddisc = (Sf[1]/s0)**(1/(ts-1)) # Discretização do Down factor\n",
    "    S = []\n",
    "    for i in range(0,ts):\n",
    "        S.append(udisc**(t-1-i)*ddisc**(i)*s0)\n",
    "    return S"
   ]
  },
  {
   "cell_type": "code",
   "execution_count": 6,
   "metadata": {},
   "outputs": [
    {
     "data": {
      "text/plain": [
       "[3.363585661014858, 2.1189261887185906, 1.3348398541700346, 0.8408964152537147]"
      ]
     },
     "execution_count": 6,
     "metadata": {},
     "output_type": "execute_result"
    }
   ],
   "source": [
    "Sfinais(4,[8,2],1/4)"
   ]
  },
  {
   "cell_type": "code",
   "execution_count": 7,
   "metadata": {},
   "outputs": [
    {
     "data": {
      "text/plain": [
       "2.0"
      ]
     },
     "execution_count": 7,
     "metadata": {},
     "output_type": "execute_result"
    }
   ],
   "source": [
    "8/4"
   ]
  },
  {
   "cell_type": "code",
   "execution_count": 8,
   "metadata": {},
   "outputs": [
    {
     "data": {
      "text/plain": [
       "0.5"
      ]
     },
     "execution_count": 8,
     "metadata": {},
     "output_type": "execute_result"
    }
   ],
   "source": [
    "2/4"
   ]
  },
  {
   "cell_type": "code",
   "execution_count": null,
   "metadata": {},
   "outputs": [],
   "source": []
  },
  {
   "cell_type": "code",
   "execution_count": 65,
   "metadata": {},
   "outputs": [],
   "source": [
    "def binomial(s0,sf,t,k,r,tipo=0):\n",
    "    ## s0 valor inicial da binomial\n",
    "    ## sf valores finais da binomial\n",
    "    ## t fração a ser dividido o tempo\n",
    "\n",
    "    ts = int(t**(-1))\n",
    "    u = sf[0]/s0\n",
    "    d = sf[1]/s0\n",
    "    udisc = u**(1/(ts-1))\n",
    "    ddisc = d**(1/(ts-1))\n",
    "    def geraS():\n",
    "        S = [[s0]]\n",
    "        for i in range(1,ts):\n",
    "            aux = []\n",
    "            c = len(S[-1])\n",
    "            for j in range(0,c+1):\n",
    "                aux.append(s0*(udisc**(c-j))*(ddisc**(j)))\n",
    "            S.append(aux)\n",
    "        return S\n",
    "\n",
    "    ## S-> Valores de Stock price\n",
    "    ## k-> Valor do call/put\n",
    "    ## tipo-> 0: call, 1: put\n",
    "\n",
    "    def geraV(S):\n",
    "\n",
    "        ## Metódo que dá um call/put nos valores finais\n",
    "        def setaVf(sf):\n",
    "            vf = []\n",
    "            for i in range(len(sf)):\n",
    "                if(tipo == 0):\n",
    "                    if k >= sf[i]: vf.append((0,sf[i]))\n",
    "                    else: vf.append((sf[i] - k,sf[i]))\n",
    "                else:\n",
    "                    if sf[i] >= k: vf.append(0)\n",
    "                    else: vf.append(k - sf[i])\n",
    "            return vf\n",
    "\n",
    "        ## Algoritmo da seção 1.3\n",
    "        def V(s,n):\n",
    "            print(Vs[-1][0][1])\n",
    "            print(s[0])\n",
    "            print('aa')\n",
    "            for i in range(0,n+1):\n",
    "                if abs(Vs[-1][i][1] - s[i]) < 1e-2:\n",
    "                    vH = Vs[-1][i][0]\n",
    "                if Vs[-1][i][1] == s[i]:\n",
    "                    vT = Vs[-1][i][0]\n",
    "            return (1/(1+r))*(vH + vT)\n",
    "        \n",
    "        Vs = []\n",
    "        Vs.append(setaVf(S[-1]))\n",
    "        n = len(S)\n",
    "        for j in range(n):\n",
    "            aux = []\n",
    "            for i in range(n):\n",
    "                aux.append(V(S[n-i-1],n-i-1))\n",
    "            Vs.append(aux)\n",
    "            return Vs\n",
    "    \n",
    "    Ss = geraS()\n",
    "    Vs = geraV(Ss)\n",
    "    return [Ss,Vs]"
   ]
  },
  {
   "cell_type": "code",
   "execution_count": 66,
   "metadata": {},
   "outputs": [
    {
     "name": "stdout",
     "output_type": "stream",
     "text": [
      "8.0\n",
      "8.0\n",
      "aa\n",
      "8.0\n",
      "6.349604207872798\n",
      "aa\n"
     ]
    },
    {
     "ename": "UnboundLocalError",
     "evalue": "local variable 'vH' referenced before assignment",
     "output_type": "error",
     "traceback": [
      "\u001b[0;31m---------------------------------------------------------------------------\u001b[0m",
      "\u001b[0;31mUnboundLocalError\u001b[0m                         Traceback (most recent call last)",
      "\u001b[0;32m<ipython-input-66-940a3bdaeaf1>\u001b[0m in \u001b[0;36m<module>\u001b[0;34m\u001b[0m\n\u001b[0;32m----> 1\u001b[0;31m \u001b[0mS\u001b[0m \u001b[0;34m=\u001b[0m \u001b[0mbinomial\u001b[0m\u001b[0;34m(\u001b[0m\u001b[0;36m4\u001b[0m\u001b[0;34m,\u001b[0m\u001b[0;34m[\u001b[0m\u001b[0;36m8\u001b[0m\u001b[0;34m,\u001b[0m\u001b[0;36m2\u001b[0m\u001b[0;34m]\u001b[0m\u001b[0;34m,\u001b[0m\u001b[0;36m1\u001b[0m\u001b[0;34m/\u001b[0m\u001b[0;36m4\u001b[0m\u001b[0;34m,\u001b[0m\u001b[0;36m5\u001b[0m\u001b[0;34m,\u001b[0m\u001b[0;36m1\u001b[0m\u001b[0;34m/\u001b[0m\u001b[0;36m4\u001b[0m\u001b[0;34m)\u001b[0m\u001b[0;34m\u001b[0m\u001b[0;34m\u001b[0m\u001b[0m\n\u001b[0m",
      "\u001b[0;32m<ipython-input-65-e1c0bb20edc9>\u001b[0m in \u001b[0;36mbinomial\u001b[0;34m(s0, sf, t, k, r, tipo)\u001b[0m\n\u001b[1;32m     60\u001b[0m \u001b[0;34m\u001b[0m\u001b[0m\n\u001b[1;32m     61\u001b[0m     \u001b[0mSs\u001b[0m \u001b[0;34m=\u001b[0m \u001b[0mgeraS\u001b[0m\u001b[0;34m(\u001b[0m\u001b[0;34m)\u001b[0m\u001b[0;34m\u001b[0m\u001b[0;34m\u001b[0m\u001b[0m\n\u001b[0;32m---> 62\u001b[0;31m     \u001b[0mVs\u001b[0m \u001b[0;34m=\u001b[0m \u001b[0mgeraV\u001b[0m\u001b[0;34m(\u001b[0m\u001b[0mSs\u001b[0m\u001b[0;34m)\u001b[0m\u001b[0;34m\u001b[0m\u001b[0;34m\u001b[0m\u001b[0m\n\u001b[0m\u001b[1;32m     63\u001b[0m     \u001b[0;32mreturn\u001b[0m \u001b[0;34m[\u001b[0m\u001b[0mSs\u001b[0m\u001b[0;34m,\u001b[0m\u001b[0mVs\u001b[0m\u001b[0;34m]\u001b[0m\u001b[0;34m\u001b[0m\u001b[0;34m\u001b[0m\u001b[0m\n",
      "\u001b[0;32m<ipython-input-65-e1c0bb20edc9>\u001b[0m in \u001b[0;36mgeraV\u001b[0;34m(S)\u001b[0m\n\u001b[1;32m     55\u001b[0m             \u001b[0maux\u001b[0m \u001b[0;34m=\u001b[0m \u001b[0;34m[\u001b[0m\u001b[0;34m]\u001b[0m\u001b[0;34m\u001b[0m\u001b[0;34m\u001b[0m\u001b[0m\n\u001b[1;32m     56\u001b[0m             \u001b[0;32mfor\u001b[0m \u001b[0mi\u001b[0m \u001b[0;32min\u001b[0m \u001b[0mrange\u001b[0m\u001b[0;34m(\u001b[0m\u001b[0mn\u001b[0m\u001b[0;34m)\u001b[0m\u001b[0;34m:\u001b[0m\u001b[0;34m\u001b[0m\u001b[0;34m\u001b[0m\u001b[0m\n\u001b[0;32m---> 57\u001b[0;31m                 \u001b[0maux\u001b[0m\u001b[0;34m.\u001b[0m\u001b[0mappend\u001b[0m\u001b[0;34m(\u001b[0m\u001b[0mV\u001b[0m\u001b[0;34m(\u001b[0m\u001b[0mS\u001b[0m\u001b[0;34m[\u001b[0m\u001b[0mn\u001b[0m\u001b[0;34m-\u001b[0m\u001b[0mi\u001b[0m\u001b[0;34m-\u001b[0m\u001b[0;36m1\u001b[0m\u001b[0;34m]\u001b[0m\u001b[0;34m,\u001b[0m\u001b[0mn\u001b[0m\u001b[0;34m-\u001b[0m\u001b[0mi\u001b[0m\u001b[0;34m-\u001b[0m\u001b[0;36m1\u001b[0m\u001b[0;34m)\u001b[0m\u001b[0;34m)\u001b[0m\u001b[0;34m\u001b[0m\u001b[0;34m\u001b[0m\u001b[0m\n\u001b[0m\u001b[1;32m     58\u001b[0m             \u001b[0mVs\u001b[0m\u001b[0;34m.\u001b[0m\u001b[0mappend\u001b[0m\u001b[0;34m(\u001b[0m\u001b[0maux\u001b[0m\u001b[0;34m)\u001b[0m\u001b[0;34m\u001b[0m\u001b[0;34m\u001b[0m\u001b[0m\n\u001b[1;32m     59\u001b[0m             \u001b[0;32mreturn\u001b[0m \u001b[0mVs\u001b[0m\u001b[0;34m\u001b[0m\u001b[0;34m\u001b[0m\u001b[0m\n",
      "\u001b[0;32m<ipython-input-65-e1c0bb20edc9>\u001b[0m in \u001b[0;36mV\u001b[0;34m(s, n)\u001b[0m\n\u001b[1;32m     47\u001b[0m                 \u001b[0;32mif\u001b[0m \u001b[0mVs\u001b[0m\u001b[0;34m[\u001b[0m\u001b[0;34m-\u001b[0m\u001b[0;36m1\u001b[0m\u001b[0;34m]\u001b[0m\u001b[0;34m[\u001b[0m\u001b[0mi\u001b[0m\u001b[0;34m]\u001b[0m\u001b[0;34m[\u001b[0m\u001b[0;36m1\u001b[0m\u001b[0;34m]\u001b[0m \u001b[0;34m==\u001b[0m \u001b[0ms\u001b[0m\u001b[0;34m[\u001b[0m\u001b[0mi\u001b[0m\u001b[0;34m]\u001b[0m\u001b[0;34m:\u001b[0m\u001b[0;34m\u001b[0m\u001b[0;34m\u001b[0m\u001b[0m\n\u001b[1;32m     48\u001b[0m                     \u001b[0mvT\u001b[0m \u001b[0;34m=\u001b[0m \u001b[0mVs\u001b[0m\u001b[0;34m[\u001b[0m\u001b[0;34m-\u001b[0m\u001b[0;36m1\u001b[0m\u001b[0;34m]\u001b[0m\u001b[0;34m[\u001b[0m\u001b[0mi\u001b[0m\u001b[0;34m]\u001b[0m\u001b[0;34m[\u001b[0m\u001b[0;36m0\u001b[0m\u001b[0;34m]\u001b[0m\u001b[0;34m\u001b[0m\u001b[0;34m\u001b[0m\u001b[0m\n\u001b[0;32m---> 49\u001b[0;31m             \u001b[0;32mreturn\u001b[0m \u001b[0;34m(\u001b[0m\u001b[0;36m1\u001b[0m\u001b[0;34m/\u001b[0m\u001b[0;34m(\u001b[0m\u001b[0;36m1\u001b[0m\u001b[0;34m+\u001b[0m\u001b[0mr\u001b[0m\u001b[0;34m)\u001b[0m\u001b[0;34m)\u001b[0m\u001b[0;34m*\u001b[0m\u001b[0;34m(\u001b[0m\u001b[0mvH\u001b[0m \u001b[0;34m+\u001b[0m \u001b[0mvT\u001b[0m\u001b[0;34m)\u001b[0m\u001b[0;34m\u001b[0m\u001b[0;34m\u001b[0m\u001b[0m\n\u001b[0m\u001b[1;32m     50\u001b[0m \u001b[0;34m\u001b[0m\u001b[0m\n\u001b[1;32m     51\u001b[0m         \u001b[0mVs\u001b[0m \u001b[0;34m=\u001b[0m \u001b[0;34m[\u001b[0m\u001b[0;34m]\u001b[0m\u001b[0;34m\u001b[0m\u001b[0;34m\u001b[0m\u001b[0m\n",
      "\u001b[0;31mUnboundLocalError\u001b[0m: local variable 'vH' referenced before assignment"
     ]
    }
   ],
   "source": [
    "S = binomial(4,[8,2],1/4,5,1/4)"
   ]
  },
  {
   "cell_type": "code",
   "execution_count": 18,
   "metadata": {},
   "outputs": [
    {
     "data": {
      "text/plain": [
       "[[[4],\n",
       "  [5.039684199579493, 3.174802103936399],\n",
       "  [6.349604207872798, 4.0, 2.519842099789747],\n",
       "  [8.0, 5.039684199579494, 3.1748021039363996, 2.0000000000000004]],\n",
       " [(3.0, 8.0),\n",
       "  (0.03968419957949365, 5.039684199579494),\n",
       "  (0, 3.1748021039363996),\n",
       "  (0, 2.0000000000000004)]]"
      ]
     },
     "execution_count": 18,
     "metadata": {},
     "output_type": "execute_result"
    }
   ],
   "source": [
    "S"
   ]
  },
  {
   "cell_type": "code",
   "execution_count": 19,
   "metadata": {},
   "outputs": [
    {
     "data": {
      "text/plain": [
       "4"
      ]
     },
     "execution_count": 19,
     "metadata": {},
     "output_type": "execute_result"
    }
   ],
   "source": [
    "len(S[0])"
   ]
  },
  {
   "cell_type": "code",
   "execution_count": null,
   "metadata": {},
   "outputs": [],
   "source": []
  }
 ],
 "metadata": {
  "kernelspec": {
   "display_name": "Python 3",
   "language": "python",
   "name": "python3"
  },
  "language_info": {
   "codemirror_mode": {
    "name": "ipython",
    "version": 3
   },
   "file_extension": ".py",
   "mimetype": "text/x-python",
   "name": "python",
   "nbconvert_exporter": "python",
   "pygments_lexer": "ipython3",
   "version": "3.7.3"
  }
 },
 "nbformat": 4,
 "nbformat_minor": 2
}
