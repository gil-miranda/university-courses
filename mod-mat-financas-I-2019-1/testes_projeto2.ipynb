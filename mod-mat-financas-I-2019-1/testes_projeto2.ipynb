{
 "cells": [
  {
   "cell_type": "code",
   "execution_count": 2,
   "metadata": {},
   "outputs": [],
   "source": [
    "#################################################################################\n",
    "#\n",
    "# Project           : University Courses / Modelagem Matemática em Finanças I\n",
    "#\n",
    "# Program name      : binomial.py\n",
    "#\n",
    "# Author            : gilmiranda\n",
    "#\n",
    "# Date created      : 03-30-2019\n",
    "#\n",
    "# Purpose           : Take a binomial one step tree with initial values and two final values\n",
    "#                     and discretize for an arbitrary time 't'\n",
    "#\n",
    "# Revision History  :\n",
    "#\n",
    "# Date          Author          Ref    Revision (Date in MM-DD-YYYY format)\n",
    "# 03-30-2019    gilmiranda      1      Created.\n",
    "# 03-31-2019    gilmiranda      2      Bug-fix no calc_Vs, agora o algoritmo\n",
    "#                                      calcula corretamente o V_0, ou valor justo\n",
    "#\n",
    "#################################################################################\n",
    "\n",
    "class binomial:\n",
    "    def __init__(self):\n",
    "        self.Sf = [0,0] ## Guarda os valores finais da binomial inicial\n",
    "        self.Sf_disc = [] ## Guarda os valores finais da multinomial, já discretizada\n",
    "        self.Vs = [] ## Matriz com todos os Vs ao longo do tempo na árvore, sendo o indíce n de cada vetor, seu t_n\n",
    "        self.Vf = []\n",
    "        self.ts = 1 ## Tempo a ser discretizado\n",
    "        self.s0 = 10 ## Valor inicial da árvore\n",
    "        self.u = self.Sf[0]/self.s0 ## Up factor inicial\n",
    "        self.d = self.Sf[1]/self.s0 ## Down factor inicial\n",
    "        self.r = 1/10 ## Taxa de juros\n",
    "        self.k = 1 ## Strike da opção call/put\n",
    "        self.u_disc = 1\n",
    "        self.d_disc = 1\n",
    "        self.ptil = 1\n",
    "        self.qtil = 1\n",
    "\n",
    "    def set_k(self, k): ## Seta strike\n",
    "        self.k = k\n",
    "\n",
    "    def set_Sf(self,s): ## Seta Sf\n",
    "        self.Sf[0] = s[0]\n",
    "        self.Sf[1] = s[1]\n",
    "\n",
    "    def set_s0(self,s): ## Seta S0\n",
    "        if s == 0: raise ValueError('Preço inicial 0 não será modelado')\n",
    "        self.s0 = s\n",
    "\n",
    "    def set_Ts(self,t):\n",
    "        self.ts = t\n",
    "\n",
    "    def set_riskneutral(self):\n",
    "        self.ptil = ((1+self.r)-self.d_disc)/(self.u_disc - self.d_disc)\n",
    "        self.qtil = 1-self.ptil\n",
    "\n",
    "    def set_factors(self):\n",
    "            self.u_disc =((self.Sf[0]/self.s0)**(1/(self.ts-1)))\n",
    "            self.d_disc = ((self.Sf[1]/self.s0)**(1/(self.ts-1)))\n",
    "\n",
    "    def discretize(self):\n",
    "        self.Sf_disc = []\n",
    "        for i in range(0,self.ts):\n",
    "            self.Sf_disc.append(self.u_disc**(self.ts-1-i)*self.d_disc**(i)*self.s0)\n",
    "\n",
    "    def print_Sf(self):\n",
    "        print(self.Sf_disc)\n",
    "\n",
    "    def call(self, s):\n",
    "        if self.k >= s: return 0\n",
    "        return s - self.k\n",
    "\n",
    "    def put(self, s):\n",
    "        if s >= self.k: return 0\n",
    "        return self.k - s\n",
    "\n",
    "    def set_Vf(self, f):\n",
    "        self.Vf = [f(i) for i in self.Sf_disc]\n",
    "\n",
    "    def calcprev_V(self,Vnxt):\n",
    "        return (1/(1+self.r))*(Vnxt[0]*self.ptil + Vnxt[1]*self.qtil)\n",
    "\n",
    "    def calc_Vs(self):\n",
    "        self.Vs.append(self.Vf)\n",
    "        for j in range(0,self.ts-1):\n",
    "            aux = []\n",
    "            c = len(self.Vs[-1])\n",
    "            for i in range(0,c-1):\n",
    "                aux.append(self.calcprev_V((self.Vs[-1][i],self.Vs[-1][i+1])))\n",
    "            self.Vs.append(aux)\n",
    "        self.Vs = self.Vs[::-1]\n"
   ]
  },
  {
   "cell_type": "code",
   "execution_count": 3,
   "metadata": {},
   "outputs": [],
   "source": [
    "import numpy as np\n",
    "import matplotlib.pyplot as plt"
   ]
  },
  {
   "cell_type": "code",
   "execution_count": 41,
   "metadata": {},
   "outputs": [],
   "source": [
    "## S -> array com 3 valores: valor inicial, valor final Heads, valor final Tails\n",
    "## t -> fator de divisão do tempo\n",
    "## factors -> array com 3 valores: up, down, r = taxa de juros\n",
    "## tipo -> 0 = call, 1 = put\n",
    "## retv0 -> True calcula V_0\n",
    "def discretizador(S, t, factors = [2.0,0.5,.25], tipo = 0, retv0 = True):\n",
    "    ## Variavel para armazenar o estado inicial do modelo, S = [S0, S1(H), S1(T)]\n",
    "    ts = int(t**(-1)) # Representa a cardinalidade do conjunto t_n (ou em quantas partições irei discretizar)\n",
    "    ## Up down Factors inicias\n",
    "    u = factors[0]\n",
    "    d = factors[1]\n",
    "\n",
    "    udisc = (u)**(1/(ts-1)) # Discretização do Up factor\n",
    "    ddisc = (d)**(1/(ts-1)) # Discretização do Down factor\n",
    "    \n",
    "    ## taxa de juros\n",
    "    r = factors[2]\n",
    "\n",
    "    ## probabilidades neutra-risco\n",
    "    ## Definidas pela equação 1.2.15 do Teorema 1.2.2 p12 Shreeve\n",
    "    ptil = 1/2\n",
    "    qtil = 1/2\n",
    "\n",
    "    ## rotina para garantir sanidade do modelo 0 < d < 1+r < u\n",
    "    assert(0 < d and d < 1+r and 1+r < u)\n",
    "    Sf = []\n",
    "    for i in range(0,ts+1):\n",
    "        Sf.append(udisc**(t-1-i)*ddisc**(i)*S[0])\n",
    "    return Sf"
   ]
  },
  {
   "cell_type": "code",
   "execution_count": 43,
   "metadata": {},
   "outputs": [
    {
     "data": {
      "text/plain": [
       "[3.363585661014858,\n",
       " 2.1189261887185906,\n",
       " 1.3348398541700346,\n",
       " 0.8408964152537147,\n",
       " 0.5297315471796477]"
      ]
     },
     "execution_count": 43,
     "metadata": {},
     "output_type": "execute_result"
    }
   ],
   "source": [
    "discretizador([4,8,2],1/4)"
   ]
  },
  {
   "cell_type": "code",
   "execution_count": 36,
   "metadata": {},
   "outputs": [],
   "source": [
    "def Sfinais(s0,Sf, t):\n",
    "    ts = int(t**(-1)) # Representa a cardinalidade do conjunto t_n (ou em quantas partições irei discretizar)\n",
    "    u = Sf[0]/s0 # Up factor geral\n",
    "    d = Sf[1]/s0 # Down factor geral\n",
    "    udisc = (Sf[0]/s0)**(1/(ts-1)) # Discretização do Up factor\n",
    "    ddisc = (Sf[1]/s0)**(1/(ts-1)) # Discretização do Down factor\n",
    "    S = []\n",
    "    for i in range(0,ts):\n",
    "        S.append(udisc**(t-1-i)*ddisc**(i)*s0)\n",
    "    return S"
   ]
  },
  {
   "cell_type": "code",
   "execution_count": 37,
   "metadata": {},
   "outputs": [
    {
     "data": {
      "text/plain": [
       "[3.363585661014858, 2.1189261887185906, 1.3348398541700346, 0.8408964152537147]"
      ]
     },
     "execution_count": 37,
     "metadata": {},
     "output_type": "execute_result"
    }
   ],
   "source": [
    "Sfinais(4,[8,2],1/4)"
   ]
  },
  {
   "cell_type": "code",
   "execution_count": 38,
   "metadata": {},
   "outputs": [
    {
     "data": {
      "text/plain": [
       "2.0"
      ]
     },
     "execution_count": 38,
     "metadata": {},
     "output_type": "execute_result"
    }
   ],
   "source": [
    "8/4"
   ]
  },
  {
   "cell_type": "code",
   "execution_count": 39,
   "metadata": {},
   "outputs": [
    {
     "data": {
      "text/plain": [
       "0.5"
      ]
     },
     "execution_count": 39,
     "metadata": {},
     "output_type": "execute_result"
    }
   ],
   "source": [
    "2/4"
   ]
  },
  {
   "cell_type": "code",
   "execution_count": 114,
   "metadata": {},
   "outputs": [],
   "source": []
  },
  {
   "cell_type": "code",
   "execution_count": 125,
   "metadata": {},
   "outputs": [
    {
     "ename": "SyntaxError",
     "evalue": "invalid syntax (<ipython-input-125-2c66f6a82bd4>, line 41)",
     "output_type": "error",
     "traceback": [
      "\u001b[0;36m  File \u001b[0;32m\"<ipython-input-125-2c66f6a82bd4>\"\u001b[0;36m, line \u001b[0;32m41\u001b[0m\n\u001b[0;31m    vH = [i[0] if i[1] == udisc*s for i in vf]\u001b[0m\n\u001b[0m                                    ^\u001b[0m\n\u001b[0;31mSyntaxError\u001b[0m\u001b[0;31m:\u001b[0m invalid syntax\n"
     ]
    }
   ],
   "source": [
    "def binomial(s0,sf,t,k,r,tipo=0):\n",
    "    ## s0 valor inicial da binomial\n",
    "    ## sf valores finais da binomial\n",
    "    ## t fração a ser dividido o tempo\n",
    "\n",
    "    ts = int(t**(-1))\n",
    "    u = sf[0]/s0\n",
    "    d = sf[1]/s0\n",
    "    udisc = u**(1/(ts-1))\n",
    "    ddisc = d**(1/(ts-1))\n",
    "    def geraS():\n",
    "        S = [[s0]]\n",
    "        for i in range(1,ts):\n",
    "            aux = []\n",
    "            c = len(S[-1])\n",
    "            for j in range(0,c+1):\n",
    "                aux.append(s0*(udisc**(c-j))*(ddisc**(j)))\n",
    "            S.append(aux)\n",
    "        return S\n",
    "\n",
    "    ## S-> Valores de Stock price\n",
    "    ## k-> Valor do call/put\n",
    "    ## tipo-> 0: call, 1: put\n",
    "\n",
    "    def geraV(S):\n",
    "\n",
    "        ## Metódo que dá um call/put nos valores finais\n",
    "        def setaVf(sf):\n",
    "            vf = []\n",
    "            for i in range(len(sf)):\n",
    "                if(tipo == 0):\n",
    "                    if k >= sf[i]: vf.append((0,sf[i]))\n",
    "                    else: vf.append((sf[i] - k,sf[i]))\n",
    "                else:\n",
    "                    if sf[i] >= k: vf.append(0)\n",
    "                    else: vf.append(k - sf[i])\n",
    "            return vf\n",
    "\n",
    "        ## Algoritmo da seção 1.3\n",
    "        def V(s,n):\n",
    "            for i in range(0,n+1):\n",
    "                if \n",
    "                vH = [i[0] if i[1] == udisc*s for i in vf]\n",
    "            vT = [i[0] if i[1] == ddisc*s for i in vf]\n",
    "            return (1/(1+r))*()\n",
    "\n",
    "        return setaVf(S[-1])\n",
    "    \n",
    "    Ss = geraS()\n",
    "    Vs = geraV(Ss)\n",
    "    return [Ss,Vs]"
   ]
  },
  {
   "cell_type": "code",
   "execution_count": 121,
   "metadata": {},
   "outputs": [],
   "source": [
    "S = geraS(4,[8,2],1/4)"
   ]
  },
  {
   "cell_type": "code",
   "execution_count": 122,
   "metadata": {},
   "outputs": [
    {
     "data": {
      "text/plain": [
       "[(3.0, 8.0),\n",
       " (0.03968419957949365, 5.039684199579494),\n",
       " (0, 3.1748021039363996),\n",
       " (0, 2.0000000000000004)]"
      ]
     },
     "execution_count": 122,
     "metadata": {},
     "output_type": "execute_result"
    }
   ],
   "source": [
    "geraV(S,5,1/4)"
   ]
  },
  {
   "cell_type": "code",
   "execution_count": 123,
   "metadata": {},
   "outputs": [
    {
     "data": {
      "text/plain": [
       "[6.349604207872798, 4.0, 2.519842099789747]"
      ]
     },
     "execution_count": 123,
     "metadata": {},
     "output_type": "execute_result"
    }
   ],
   "source": [
    "S[-2]"
   ]
  },
  {
   "cell_type": "code",
   "execution_count": null,
   "metadata": {},
   "outputs": [],
   "source": []
  }
 ],
 "metadata": {
  "kernelspec": {
   "display_name": "Python 3",
   "language": "python",
   "name": "python3"
  },
  "language_info": {
   "codemirror_mode": {
    "name": "ipython",
    "version": 3
   },
   "file_extension": ".py",
   "mimetype": "text/x-python",
   "name": "python",
   "nbconvert_exporter": "python",
   "pygments_lexer": "ipython3",
   "version": "3.7.3"
  }
 },
 "nbformat": 4,
 "nbformat_minor": 2
}
