{
 "cells": [
  {
   "cell_type": "markdown",
   "metadata": {},
   "source": [
    "![CC-BY-SA](https://mirrors.creativecommons.org/presskit/buttons/88x31/svg/by-sa.svg)\n",
    "This notebook was created by [Bernardo Freitas Paulo da Costa](http://www.im.ufrj.br/bernardofpc),\n",
    "and is licensed under Creative Commons BY-SA"
   ]
  },
  {
   "cell_type": "markdown",
   "metadata": {},
   "source": [
    "# Funções em `ndarrays`\n",
    "\n",
    "Tendo vetores NumPy (e arrays, e etc.), chamar funções neles pode ser feito de duas formas:\n",
    "1. operando elemento por elemento explicitamente; ou\n",
    "2. operando \"no array inteiro\".\n",
    "\n",
    "A segunda forma é o análogo das \"operações vetorizadas\", para funções.\n",
    "Vejamos a diferença..."
   ]
  },
  {
   "cell_type": "code",
   "execution_count": null,
   "metadata": {
    "collapsed": true
   },
   "outputs": [],
   "source": [
    "import numpy as np"
   ]
  },
  {
   "cell_type": "markdown",
   "metadata": {},
   "source": [
    "As duas linhas abaixo constróem, respectivamente:\n",
    "1. uma lista com os elementos de 1 a 10^6.\n",
    "2. um vetor com os mesmos elementos."
   ]
  },
  {
   "cell_type": "code",
   "execution_count": null,
   "metadata": {
    "collapsed": true
   },
   "outputs": [],
   "source": [
    "l = list(range(1,int(1e6)+1))\n",
    "v = np.arange(1,1e6+1)"
   ]
  },
  {
   "cell_type": "markdown",
   "metadata": {},
   "source": [
    "### Exercício\n",
    "\n",
    "Compare o tempo que leva para calcular o seno de todos estes números, usando\n",
    "1. A lista com `np.sin`\n",
    "2. O array com `np.sin`\n",
    "3. Uma list-compreension que aplica `np.sin` em cada elemento da lista"
   ]
  },
  {
   "cell_type": "code",
   "execution_count": null,
   "metadata": {
    "collapsed": true
   },
   "outputs": [],
   "source": [
    "### Resposta aqui\n"
   ]
  },
  {
   "cell_type": "markdown",
   "metadata": {},
   "source": [
    "# Escrevendo funções vetoriais\n",
    "\n",
    "Muitas vezes vamos escrever funções que recebem um único valor.\n",
    "Entretanto, às vezes, pode ser útil que nossas funções recebam um vetor e retornem o vetor que é o resultado de aplicar a função em cada elemento do vetor.\n",
    "\n",
    "O exemplo anterior mostra que, se a nossa função chamar operações vetorizadas,\n",
    "é MUITO melhor usar diretamente o vetor do que percorrer elemento a elemento."
   ]
  },
  {
   "cell_type": "markdown",
   "metadata": {},
   "source": [
    "### Exercício\n",
    "\n",
    "Escreva uma função que, dado um vetor, retorna a soma dos desvios em relação à média.\n",
    "Em fórmula:\n",
    "$$\\sum_i |v_i - m|$$\n",
    "onde $m$ é a média dos $v_i$.\n",
    "\n",
    "Compare a versão que calcula a soma iterativamente, com uma que cria o vetor $w$ tal que $w_i = |v_i - m|$.\n",
    "(Dica: use a função `abs` do numpy.)"
   ]
  },
  {
   "cell_type": "code",
   "execution_count": null,
   "metadata": {
    "collapsed": true
   },
   "outputs": [],
   "source": [
    "v = np.random.rand(70000)"
   ]
  },
  {
   "cell_type": "code",
   "execution_count": null,
   "metadata": {
    "collapsed": true
   },
   "outputs": [],
   "source": [
    "def desvios_for(v):\n",
    "    \"\"\"Versão que calcula cada valor absoluto separadamente, num for.\"\"\"\n",
    "    ### Resposta aqui\n"
   ]
  },
  {
   "cell_type": "code",
   "execution_count": null,
   "metadata": {
    "collapsed": true
   },
   "outputs": [],
   "source": [
    "def desvios_sum(v):\n",
    "    \"\"\"Versão que calcula cada valor absoluto numa list comprehension, e usa sum.\"\"\"\n",
    "    ### Resposta aqui\n"
   ]
  },
  {
   "cell_type": "code",
   "execution_count": null,
   "metadata": {
    "collapsed": true
   },
   "outputs": [],
   "source": [
    "def desvios_np(v):\n",
    "    \"\"\"Versão com np.abs()\"\"\"\n",
    "    ### Resposta aqui\n"
   ]
  },
  {
   "cell_type": "code",
   "execution_count": null,
   "metadata": {
    "collapsed": true
   },
   "outputs": [],
   "source": [
    "%timeit desvios_for(v)\n",
    "%timeit desvios_sum(v)\n",
    "%timeit desvios_np(v)"
   ]
  },
  {
   "cell_type": "markdown",
   "metadata": {},
   "source": [
    "# Duas ferramentas para vetorizar\n",
    "\n",
    "## Axis\n",
    "\n",
    "Provavelmente você já deve ter conhecido o argumento `axis=...`\n",
    "que indica ao NumPy que a operação deve ser feita apenas numa dimensão,\n",
    "e não em todas.\n",
    "Muitas vezes, a possibilidade de transformar um código \"escalar\" num código _vetorizado_\n",
    "passa por usar funções do NumPy com um eixo bem escolhido."
   ]
  },
  {
   "cell_type": "code",
   "execution_count": null,
   "metadata": {
    "collapsed": true
   },
   "outputs": [],
   "source": [
    "A = np.random.rand(5,4,2,6,3)\n",
    "B = np.sum(A, axis=(1,3,4))\n",
    "B"
   ]
  },
  {
   "cell_type": "markdown",
   "metadata": {},
   "source": [
    "## shape\n",
    "\n",
    "A segunda dica é usar `.shape` para descobrir as dimensões de uma matriz.\n",
    "Em geral, as operações só fazem sentido quando os operandos tem a mesma dimensão,\n",
    "ou quando uma das dimensões tem apenas um elemento (caso particular, a multiplicação por escalar!).\n",
    "Isso pode ser (bastante!) explorado durante a construção do código no Notebook:\n",
    "vá observando ao longo do algoritmo como a `shape` das matrizes e vetores evolui.\n",
    "Ao verificar que as dimensões que você está usando são sempre compatíveis,\n",
    "você já terá dado um grande passo em direção ao uso vetorizado dos `ndarrays`."
   ]
  },
  {
   "cell_type": "code",
   "execution_count": null,
   "metadata": {
    "collapsed": true
   },
   "outputs": [],
   "source": [
    "A.shape"
   ]
  },
  {
   "cell_type": "code",
   "execution_count": null,
   "metadata": {
    "collapsed": true
   },
   "outputs": [],
   "source": [
    "B.shape"
   ]
  }
 ],
 "metadata": {
  "kernelspec": {
   "display_name": "Python 3",
   "language": "python",
   "name": "python3"
  },
  "language_info": {
   "codemirror_mode": {
    "name": "ipython",
    "version": 3
   },
   "file_extension": ".py",
   "mimetype": "text/x-python",
   "name": "python",
   "nbconvert_exporter": "python",
   "pygments_lexer": "ipython3",
   "version": "3.4.6"
  }
 },
 "nbformat": 4,
 "nbformat_minor": 1
}
