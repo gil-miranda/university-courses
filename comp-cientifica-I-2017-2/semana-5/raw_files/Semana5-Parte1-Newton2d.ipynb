{
 "cells": [
  {
   "cell_type": "markdown",
   "metadata": {},
   "source": [
    "![CC-BY-SA](https://mirrors.creativecommons.org/presskit/buttons/88x31/svg/by-sa.svg)\n",
    "This notebook was created by [Bernardo Freitas Paulo da Costa](http://www.im.ufrj.br/bernardofpc),\n",
    "and is licensed under Creative Commons BY-SA"
   ]
  },
  {
   "cell_type": "code",
   "execution_count": 1,
   "metadata": {
    "collapsed": true
   },
   "outputs": [],
   "source": [
    "import numpy as np\n",
    "import matplotlib.pyplot as plt"
   ]
  },
  {
   "cell_type": "markdown",
   "metadata": {},
   "source": [
    "# O método de Newton em dimensão maior\n",
    "\n",
    "A ideia de \"seguir a tangente\" para\n",
    "- aproximar a função $f$\n",
    "- e com isso achar um zero \"mais rápido\"\n",
    "\n",
    "pode ser generalizada para qualquer dimensão (até infinita!).\n",
    "\n",
    "Antes de mais nada, vejamos o que quer dizer encontrar uma raiz em 2-D."
   ]
  },
  {
   "cell_type": "markdown",
   "metadata": {},
   "source": [
    "### Exercício: Equações e raízes\n",
    "\n",
    "Imagine que temos uma função $f : R^2 \\to R$, representando uma equação $f(x) = 0$.\n",
    "Por exemplo, pense na função $f(x,y) = x^2 - y$.\n",
    "Quais são as raízes de $f$?\n",
    "Quantas são?"
   ]
  },
  {
   "cell_type": "markdown",
   "metadata": {},
   "source": [
    "## O método de Newton\n",
    "\n",
    "Lembre-se que o passo de Newton é dado por $f(x)/f'(x)$.\n",
    "A derivada de $f:R^2 \\to R$ pode ser dada por um vetor (o gradiente).\n",
    "Não faz muito sentido dividir um escalar $f(x)$ por um vetor...\n",
    "\n",
    "Assim, a generalização do método de Newton\n",
    "necessita que $f'(x)$ seja uma matriz quadrada (para podermos \"dividir\").\n",
    "Isso acontece quando $f: R^n \\to R^n$;\n",
    "neste caso, $f(x)$ é um vetor, e de fato (ainda bem!) faz sentido dividir um vetor por uma matriz.\n",
    "\n",
    "### Exercício\n",
    "\n",
    "O que quer dizer, neste caso, encontrar uma raiz de $f$??"
   ]
  },
  {
   "cell_type": "markdown",
   "metadata": {},
   "source": [
    "## Prática\n",
    "\n",
    "Agora, temos que programar uma função $f$ que receba um vetor, e retorne um vetor.\n",
    "Imagine que queremos programar a seguinte função:\n",
    "\n",
    "$$ f(x,y) = \\big(x^2 - 2y^3 + 3xy, \\cos(x) + \\sin(y)\\big). $$\n",
    " \n",
    "Como escrever isso no computador?"
   ]
  },
  {
   "cell_type": "code",
   "execution_count": 2,
   "metadata": {
    "collapsed": true
   },
   "outputs": [],
   "source": [
    "def f(x,y):\n",
    "    ### Resposta aqui\n"
   ]
  },
  {
   "cell_type": "markdown",
   "metadata": {},
   "source": [
    "### Exercício\n",
    "\n",
    "Em que sentido esta função é \"vetorial\"?"
   ]
  },
  {
   "cell_type": "code",
   "execution_count": 3,
   "metadata": {},
   "outputs": [
    {
     "data": {
      "text/plain": [
       "(array([  3.20000000e+01,   2.81580000e+01,   2.46240000e+01,\n",
       "          2.13860000e+01,   1.84320000e+01,   1.57500000e+01,\n",
       "          1.33280000e+01,   1.11540000e+01,   9.21600000e+00,\n",
       "          7.50200000e+00,   6.00000000e+00,   4.69800000e+00,\n",
       "          3.58400000e+00,   2.64600000e+00,   1.87200000e+00,\n",
       "          1.25000000e+00,   7.68000000e-01,   4.14000000e-01,\n",
       "          1.76000000e-01,   4.20000000e-02,   1.26217745e-29,\n",
       "          3.80000000e-02,   1.44000000e-01,   3.06000000e-01,\n",
       "          5.12000000e-01,   7.50000000e-01,   1.00800000e+00,\n",
       "          1.27400000e+00,   1.53600000e+00,   1.78200000e+00,\n",
       "          2.00000000e+00,   2.17800000e+00,   2.30400000e+00,\n",
       "          2.36600000e+00,   2.35200000e+00,   2.25000000e+00,\n",
       "          2.04800000e+00,   1.73400000e+00,   1.29600000e+00,\n",
       "          7.22000000e-01,  -2.84217094e-14,  -8.82000000e-01,\n",
       "         -1.93600000e+00,  -3.17400000e+00,  -4.60800000e+00,\n",
       "         -6.25000000e+00,  -8.11200000e+00,  -1.02060000e+01,\n",
       "         -1.25440000e+01,  -1.51380000e+01]),\n",
       " array([-1.32544426, -1.26958965, -1.20104973, -1.1205093 , -1.02877313,\n",
       "        -0.92675778, -0.81548259, -0.69605936, -0.56968133, -0.43761124,\n",
       "        -0.30116868, -0.16171694, -0.02064938,  0.1206245 ,  0.26069314,\n",
       "         0.39815702,  0.53164265,  0.65981628,  0.78139725,  0.89517075,\n",
       "         1.        ,  1.09483758,  1.17873591,  1.2508567 ,  1.31047934,\n",
       "         1.3570081 ,  1.38997809,  1.40905987,  1.4140628 ,  1.40493688,\n",
       "         1.38177329,  1.34480348,  1.29439684,  1.23105701,  1.15541687,\n",
       "         1.06823219,  0.97037408,  0.86282032,  0.74664554,  0.62301052,\n",
       "         0.49315059,  0.35836326,  0.21999529,  0.07942919, -0.06193053,\n",
       "        -0.20267147, -0.34138738, -0.47669226, -0.60723419, -0.73170884]))"
      ]
     },
     "execution_count": 3,
     "metadata": {},
     "output_type": "execute_result"
    }
   ],
   "source": [
    "### Resposta aqui\n"
   ]
  },
  {
   "cell_type": "code",
   "execution_count": 4,
   "metadata": {},
   "outputs": [
    {
     "data": {
      "text/plain": [
       "(2, 50, 50)"
      ]
     },
     "execution_count": 4,
     "metadata": {},
     "output_type": "execute_result"
    }
   ],
   "source": [
    "### Resposta aqui\n"
   ]
  },
  {
   "cell_type": "markdown",
   "metadata": {},
   "source": [
    "## Uma nova interface\n",
    "\n",
    "Para sempre passarmos \"um ponto\" pelo método de Newton, precisamos \"desconstruir\" os argumentos de `f`."
   ]
  },
  {
   "cell_type": "code",
   "execution_count": 5,
   "metadata": {
    "collapsed": true
   },
   "outputs": [],
   "source": [
    "def f(v):\n",
    "    x,y = v\n",
    "    return (x**2 - 2*y**3 + 3*x*y, np.cos(x) + np.sin(y))"
   ]
  },
  {
   "cell_type": "markdown",
   "metadata": {},
   "source": [
    "### Exercício\n",
    "\n",
    "Agora, implemente a derivada"
   ]
  },
  {
   "cell_type": "code",
   "execution_count": 6,
   "metadata": {
    "collapsed": true
   },
   "outputs": [],
   "source": [
    "def df(v):\n",
    "    ### Resposta aqui\n"
   ]
  },
  {
   "cell_type": "markdown",
   "metadata": {},
   "source": [
    "### Exercício\n",
    "\n",
    "Estas funções continuam vetoriais?  Em que sentido?"
   ]
  },
  {
   "cell_type": "code",
   "execution_count": 7,
   "metadata": {},
   "outputs": [
    {
     "data": {
      "text/plain": [
       "(2, 2, 50, 50)"
      ]
     },
     "execution_count": 7,
     "metadata": {},
     "output_type": "execute_result"
    }
   ],
   "source": [
    "np.shape(df([Xs, Ys]))"
   ]
  },
  {
   "cell_type": "markdown",
   "metadata": {},
   "source": [
    "## O algoritmo\n",
    "\n",
    "Agora que sabemos calcular o passo matematicamente, só precisamos:\n",
    "- adaptar o critério de parada\n",
    "- calcular numericamente o passo"
   ]
  },
  {
   "cell_type": "code",
   "execution_count": 8,
   "metadata": {
    "collapsed": true
   },
   "outputs": [],
   "source": [
    "def newton_list(f, df, x, abstol=1e-8, reltol=1e-8, ytol=1e-8, maxiter=100):\n",
    "    fx = f(x)\n",
    "    if np.linalg.norm(fx) < ytol:\n",
    "        return [x]\n",
    "    step = np.linalg.solve(df(x), fx)\n",
    "    newx = x - step\n",
    "    if maxiter == 0:\n",
    "        return [newx]\n",
    "    if np.linalg.norm(step) < abstol or np.linalg.norm(step) < reltol*np.linalg.norm(x):\n",
    "        return [newx]\n",
    "\n",
    "    return [x] + newton_list(f, df, newx, abstol, reltol, ytol, maxiter-1)"
   ]
  },
  {
   "cell_type": "code",
   "execution_count": 9,
   "metadata": {},
   "outputs": [
    {
     "data": {
      "text/plain": [
       "[[1, 1],\n",
       " array([-28.50856316, -47.51427194]),\n",
       " array([-99.32635853, -30.38104147]),\n",
       " array([-91.21395802, -17.93223128]),\n",
       " array([-52.8207729 , -10.81007523]),\n",
       " array([-50.49040323,  -3.00681873]),\n",
       " array([-32.03497638,   1.99508323]),\n",
       " array([-30.64584916,   8.14518789]),\n",
       " array([-27.38834407,   6.08293195]),\n",
       " array([-25.14231496,   5.15621071]),\n",
       " array([-24.39741321,   4.91408273]),\n",
       " array([-24.73887666,   4.95927761]),\n",
       " array([-24.8484647,   4.9764188]),\n",
       " array([-24.86554244,   4.97906911]),\n",
       " array([-24.86599109,   4.97913876]),\n",
       " array([-24.8659914 ,   4.97913881])]"
      ]
     },
     "execution_count": 9,
     "metadata": {},
     "output_type": "execute_result"
    }
   ],
   "source": [
    "newton_list(f, df, [1,1])"
   ]
  },
  {
   "cell_type": "code",
   "execution_count": 10,
   "metadata": {},
   "outputs": [
    {
     "data": {
      "text/plain": [
       "(5.6843418860808015e-14, -4.496403249731884e-14)"
      ]
     },
     "execution_count": 10,
     "metadata": {},
     "output_type": "execute_result"
    }
   ],
   "source": [
    "f(_[-1])"
   ]
  },
  {
   "cell_type": "code",
   "execution_count": 11,
   "metadata": {},
   "outputs": [
    {
     "data": {
      "text/plain": [
       "[[2, 2],\n",
       " array([ 2.43240234,  2.24022352]),\n",
       " array([ 2.46480906,  2.24696598]),\n",
       " array([ 2.46518405,  2.24720488]),\n",
       " array([ 2.46518409,  2.24720489])]"
      ]
     },
     "execution_count": 11,
     "metadata": {},
     "output_type": "execute_result"
    }
   ],
   "source": [
    "newton_list(f, df, [2,2])"
   ]
  },
  {
   "cell_type": "code",
   "execution_count": 12,
   "metadata": {},
   "outputs": [
    {
     "data": {
      "text/plain": [
       "(0.0, 6.6613381477509392e-16)"
      ]
     },
     "execution_count": 12,
     "metadata": {},
     "output_type": "execute_result"
    }
   ],
   "source": [
    "f(_[-1])"
   ]
  },
  {
   "cell_type": "markdown",
   "metadata": {},
   "source": [
    "# Atenção:\n",
    "\n",
    "É muito importante que a derivada esteja calculada corretamente, senão pode dar bastante errado.\n",
    "Em particular, as derivadas cruzadas devem estar corretamente colocadas:\n",
    "\n",
    "$$ \\begin{bmatrix}\n",
    "\\frac{\\partial f_1(v)}{\\partial x_1} & \\frac{\\partial f_1(v)}{\\partial x_2} \\\\\n",
    "\\frac{\\partial f_2(v)}{\\partial x_1} & \\frac{\\partial f_2(v)}{\\partial x_2}\n",
    "\\end{bmatrix} $$"
   ]
  },
  {
   "cell_type": "code",
   "execution_count": 13,
   "metadata": {
    "collapsed": true
   },
   "outputs": [],
   "source": [
    "### Resposta aqui\n"
   ]
  },
  {
   "cell_type": "code",
   "execution_count": 14,
   "metadata": {},
   "outputs": [
    {
     "name": "stderr",
     "output_type": "stream",
     "text": [
      "/usr/lib64/python3.4/site-packages/ipykernel_launcher.py:3: RuntimeWarning: overflow encountered in double_scalars\n",
      "  This is separate from the ipykernel package so we can avoid doing imports until\n",
      "/usr/lib64/python3.4/site-packages/ipykernel_launcher.py:3: RuntimeWarning: invalid value encountered in double_scalars\n",
      "  This is separate from the ipykernel package so we can avoid doing imports until\n",
      "/usr/lib64/python3.4/site-packages/ipykernel_launcher.py:3: RuntimeWarning: invalid value encountered in cos\n",
      "  This is separate from the ipykernel package so we can avoid doing imports until\n",
      "/usr/lib64/python3.4/site-packages/ipykernel_launcher.py:3: RuntimeWarning: invalid value encountered in sin\n",
      "  This is separate from the ipykernel package so we can avoid doing imports until\n",
      "/usr/lib64/python3.4/site-packages/ipykernel_launcher.py:4: RuntimeWarning: invalid value encountered in double_scalars\n",
      "  after removing the cwd from sys.path.\n",
      "/usr/lib64/python3.4/site-packages/ipykernel_launcher.py:4: RuntimeWarning: invalid value encountered in sin\n",
      "  after removing the cwd from sys.path.\n",
      "/usr/lib64/python3.4/site-packages/ipykernel_launcher.py:5: RuntimeWarning: invalid value encountered in cos\n",
      "  \"\"\"\n"
     ]
    },
    {
     "data": {
      "text/plain": [
       "[[2, 2],\n",
       " array([ 2.02184346,  2.24022352]),\n",
       " array([ 2.1382931 , -1.71101269]),\n",
       " array([ 1.94510041,  2.77166898]),\n",
       " array([  2.37690026, -15.87713326]),\n",
       " array([ -5.40849471e+00,   1.18731836e+04]),\n",
       " array([  2.31113002e+03,  -4.36244660e+12]),\n",
       " array([ -9.52898635e+11,  -1.88048045e+38]),\n",
       " array([  1.02786929e+037,  -1.65982096e+115]),\n",
       " array([-inf,  inf]),\n",
       " array([ nan,  nan]),\n",
       " array([ nan,  nan]),\n",
       " array([ nan,  nan]),\n",
       " array([ nan,  nan]),\n",
       " array([ nan,  nan]),\n",
       " array([ nan,  nan])]"
      ]
     },
     "execution_count": 14,
     "metadata": {},
     "output_type": "execute_result"
    }
   ],
   "source": [
    "newton_list(f, df_errada, [2,2], maxiter=15)"
   ]
  }
 ],
 "metadata": {
  "kernelspec": {
   "display_name": "Python 3",
   "language": "python",
   "name": "python3"
  },
  "language_info": {
   "codemirror_mode": {
    "name": "ipython",
    "version": 3
   },
   "file_extension": ".py",
   "mimetype": "text/x-python",
   "name": "python",
   "nbconvert_exporter": "python",
   "pygments_lexer": "ipython3",
   "version": "3.4.6"
  }
 },
 "nbformat": 4,
 "nbformat_minor": 2
}
