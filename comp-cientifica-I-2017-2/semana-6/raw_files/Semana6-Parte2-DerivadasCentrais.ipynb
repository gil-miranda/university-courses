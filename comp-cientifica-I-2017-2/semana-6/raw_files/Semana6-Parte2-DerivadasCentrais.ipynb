{
 "cells": [
  {
   "cell_type": "markdown",
   "metadata": {},
   "source": [
    "![CC-BY-SA](https://mirrors.creativecommons.org/presskit/buttons/88x31/svg/by-sa.svg)\n",
    "This notebook was created by [Bernardo Freitas Paulo da Costa](http://www.im.ufrj.br/bernardofpc),\n",
    "and is licensed under Creative Commons BY-SA"
   ]
  },
  {
   "cell_type": "code",
   "execution_count": null,
   "metadata": {},
   "outputs": [],
   "source": [
    "import numpy as np\n",
    "import matplotlib.pyplot as plt"
   ]
  },
  {
   "cell_type": "markdown",
   "metadata": {},
   "source": [
    "# Simetria: uma ideia central\n",
    "\n",
    "Se uma função é 2 vezes derivável, temos que\n",
    "$$ f(x+h) = f(x) + h f'(x) + \\frac{h^2}{2} f''(x) + o(h^2) $$\n",
    "onde $o(h^2)$ é um termo **muito pequeno** quando comparado com $h^2$.\n",
    "\n",
    "Um outro quociente fundamental é\n",
    "$$ f'(x) = \\lim _ {h \\to 0} \\frac{f(x+h) - f(x-h)}{2h}. $$\n",
    "Ao usar as fórmulas de Taylor acima até a ordem 2 para calcular as aproximações,\n",
    "vemos que os termos de ordem *par* se anulam:\n",
    "\n",
    "$$ \\frac{f(x+h) - f(x-h)}{2h}\n",
    "   = \\frac{\\big(f(x) + h f'(x) + \\frac{h^2}{2} f''(x) + o(h^2)\\big)\n",
    "   - \\big( f(x) - h f'(x) + \\frac{h^2}{2} f''(x) + o(h^2) \\big)}{2h} = o(h). $$\n",
    "\n",
    "Este método é bem melhor do que o anterior quando a função é duas vezes derivável:\n",
    "agora, o erro é **muito menor** do que o passo, em vez de ser \"mais ou menos do mesmo tamanho\"."
   ]
  },
  {
   "cell_type": "markdown",
   "metadata": {},
   "source": [
    "## Uma nova estimativa do erro\n",
    "\n",
    "Para termos uma melhor ideia de quanto é $o(h)$, vamos supor que a função é três vezes derivável.\n",
    "Agora, podemos trocar $o(h^2)$ por $h^3 \\frac{f'''(\\xi_\\pm)}{6}$ (um $\\xi$ para cada valor de $x\\pm h$),\n",
    "e assim o erro será $ \\frac{h^2}{6} [f'''(\\xi_+) + f'''(\\xi_-)]$.\n",
    "Vejamos o que acontece para o seno:"
   ]
  },
  {
   "cell_type": "code",
   "execution_count": null,
   "metadata": {},
   "outputs": [],
   "source": [
    "def df_sym(f,x,h=1e-5):\n",
    "    return (f(x+h) - f(x-h))/(2*h)"
   ]
  },
  {
   "cell_type": "code",
   "execution_count": null,
   "metadata": {},
   "outputs": [],
   "source": [
    "h = 0.2e-2\n",
    "xs = np.arange(0,7,0.05)\n",
    "dfx = np.cos(xs)\n",
    "dfx_approx_3 = df_sym(np.sin,xs,h)"
   ]
  },
  {
   "cell_type": "code",
   "execution_count": null,
   "metadata": {},
   "outputs": [],
   "source": [
    "_, [ax1, ax2] = plt.subplots(ncols=2, figsize=(15,4))\n",
    "\n",
    "ax1.set_title('Erro de aproximação')\n",
    "ax1.plot(xs, dfx - dfx_approx_3)\n",
    "\n",
    "ax2.set_title('Erro na estimativa do erro')\n",
    "ax2.plot(xs, (dfx_approx_3 - dfx) - (-(h ** 2) * np.cos(xs)/6))\n",
    "plt.show()"
   ]
  },
  {
   "cell_type": "markdown",
   "metadata": {},
   "source": [
    "### Exercício:\n",
    "\n",
    "Até que valor podemos \"reduzir\" o erro de aproximação, diminuindo $h$?"
   ]
  },
  {
   "cell_type": "markdown",
   "metadata": {},
   "source": [
    "### Exercício: derivadas numéricas de funções numéricas\n",
    "\n",
    "Mude\n",
    "- a tolerância da bisseção subjacente à função `f`,\n",
    "- o passo dado pela derivada numérica\n",
    "\n",
    "e veja como o gráfico de `f` e de sua derivada muda."
   ]
  },
  {
   "cell_type": "code",
   "execution_count": null,
   "metadata": {},
   "outputs": [],
   "source": [
    "# A função `f` do notebook anterior, com tolerância variável\n",
    "from rootfinding import bissection\n",
    "\n",
    "def f(t, tol):\n",
    "    def g(x):\n",
    "        return t*np.cos(x) - x\n",
    "    return bissection(g,-np.pi/2,np.pi/2, tol)\n",
    "\n",
    "def fvect(v, tol):\n",
    "    return np.array([f(vi, tol) for vi in v])\n",
    "\n",
    "v = np.arange(-3,3,0.05)"
   ]
  },
  {
   "cell_type": "code",
   "execution_count": null,
   "metadata": {},
   "outputs": [],
   "source": [
    "# A derivada simples, para comparar também\n",
    "def df(f, x, h=1e-5):\n",
    "    return (f(x+h) - f(x))/h"
   ]
  },
  {
   "cell_type": "code",
   "execution_count": null,
   "metadata": {},
   "outputs": [],
   "source": [
    "def do(logtol, logh, logh_sym):\n",
    "    _, [ax1, ax2, ax3] = plt.subplots(ncols=3, figsize=(17,4))\n",
    "    \n",
    "    tol = 2**(-logtol)\n",
    "    h   = 2**(-logh)\n",
    "    h_s = 2**(-logh_sym)\n",
    "    myf = lambda v: fvect(v, tol)\n",
    "    ax1.plot(v, myf(v))\n",
    "    ax1.set_title('f with precision 2**-{}'.format(logtol))\n",
    "\n",
    "    ax2.plot(v, df(myf, v, h))\n",
    "    ax2.set_title('df with step 2**-{}'.format(logh))\n",
    "\n",
    "    ax3.plot(v, df_sym(myf, v, h_s))\n",
    "    ax3.set_title('df_sym with step 2**-{}'.format(logh_sym))\n",
    "    plt.show()"
   ]
  },
  {
   "cell_type": "code",
   "execution_count": null,
   "metadata": {},
   "outputs": [],
   "source": [
    "### Interactive solution\n",
    "from ipywidgets import FloatSlider, IntSlider\n",
    "from ipywidgets import interact, interactive"
   ]
  },
  {
   "cell_type": "code",
   "execution_count": null,
   "metadata": {},
   "outputs": [],
   "source": [
    "logtols = IntSlider(min=5, value=10, max=50)\n",
    "loghs   = IntSlider(min=0, value=5, max=30)\n",
    "loghs_sym   = IntSlider(min=0, value=5, max=30)\n",
    "\n",
    "interactive(do, logtol=logtols, logh=loghs, logh_sym=loghs_sym)"
   ]
  },
  {
   "cell_type": "markdown",
   "metadata": {},
   "source": [
    "Será que você consegue calcular a derivada de $f$ de forma algebrica?\n",
    "Na verdade, basta ser \"suficientemente preciso\" para fazer um gráfico do **erro** de cada um dos métodos."
   ]
  },
  {
   "cell_type": "code",
   "execution_count": null,
   "metadata": {},
   "outputs": [],
   "source": [
    "def do(logtol, logh, logh_sym):\n",
    "    _, [[ax1, ax2, ax3], [ax4, ax5, ax6]] = plt.subplots(nrows=2, ncols=3, figsize=(17,9))\n",
    "    \n",
    "    tol = 2**(-logtol)\n",
    "    h   = 2**(-logh)\n",
    "    h_s = 2**(-logh_sym)\n",
    "    myf = lambda v: fvect(v, tol)\n",
    "\n",
    "    fv = myf(v)\n",
    "    ax1.plot(v, fv)\n",
    "    ax1.set_title('f with precision 2**-{}'.format(logtol))\n",
    "\n",
    "    dfv = df(myf, v, h)\n",
    "    ax2.plot(v, dfv)\n",
    "    ax2.set_title('df with step 2**-{}'.format(logh))\n",
    "\n",
    "    dfv_s = df_sym(myf, v, h_s)\n",
    "    ax3.plot(v, dfv_s)\n",
    "    ax3.set_title('df_sym with step 2**-{}'.format(logh_sym))\n",
    "\n",
    "    # Calcule aqui a derivada de verdade!\n",
    "    ### Resposta aqui\n",
    "\n",
    "    ax5.plot(v, dfv -  dfv_true)\n",
    "    ax6.plot(v, dfv_s - dfv_true)\n",
    "    plt.show()\n",
    "\n",
    "interactive(do, logtol=logtols, logh=loghs, logh_sym=loghs_sym)"
   ]
  },
  {
   "cell_type": "markdown",
   "metadata": {},
   "source": [
    "### Exercício: Programação funcional\n",
    "\n",
    "Escreva uma função \"gerar_derivada\" que, dada uma função `f` e um passo `h`,\n",
    "retorna uma função `df(x)` que é uma derivada aproximada de `f` em `x`."
   ]
  },
  {
   "cell_type": "code",
   "execution_count": null,
   "metadata": {},
   "outputs": [],
   "source": [
    "def gerar_derivada(f, h=1e-5):\n",
    "    ### Resposta aqui\n"
   ]
  },
  {
   "cell_type": "code",
   "execution_count": null,
   "metadata": {},
   "outputs": [],
   "source": [
    "dsin = gerar_derivada(np.sin)\n",
    "plt.plot(xs, dsin(xs))\n",
    "plt.show()"
   ]
  }
 ],
 "metadata": {
  "kernelspec": {
   "display_name": "Python 3",
   "language": "python",
   "name": "python3"
  },
  "language_info": {
   "codemirror_mode": {
    "name": "ipython",
    "version": 3
   },
   "file_extension": ".py",
   "mimetype": "text/x-python",
   "name": "python",
   "nbconvert_exporter": "python",
   "pygments_lexer": "ipython3"
  }
 },
 "nbformat": 4,
 "nbformat_minor": 1
}
