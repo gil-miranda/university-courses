{
 "cells": [
  {
   "cell_type": "markdown",
   "metadata": {},
   "source": [
    "![CC-BY-SA](https://mirrors.creativecommons.org/presskit/buttons/88x31/svg/by-sa.svg)\n",
    "This notebook was created by [Bernardo Freitas Paulo da Costa](http://www.im.ufrj.br/bernardofpc),\n",
    "and is licensed under Creative Commons BY-SA"
   ]
  },
  {
   "cell_type": "code",
   "execution_count": null,
   "metadata": {},
   "outputs": [],
   "source": [
    "import numpy as np\n",
    "import matplotlib.pyplot as plt"
   ]
  },
  {
   "cell_type": "markdown",
   "metadata": {},
   "source": [
    "# Ortogonalização\n",
    "\n",
    "Vamos ver uma das ideias mais importantes em espaços vetoriais: produtos internos e vetores ortogonais.\n",
    "Além das diversas interpretações geométricas que temos com isso,\n",
    "também obteremos algoritmos numéricos bastante interessantes!"
   ]
  },
  {
   "cell_type": "markdown",
   "metadata": {},
   "source": [
    "### Exercício\n",
    "\n",
    "Suponha que temos 2 vetores $u$ e $v$, que linearmente independentes.\n",
    "- Como calcular um vetor ortogonal a $u$?\n",
    "- Como calcular um vetor ortogonal a $v$?\n",
    "- Como calcular uma base ortonormal?\n",
    "\n",
    "Depois de fazer em $R^2$, veja se as \"mesmas\" contas funcionam em $R^n$."
   ]
  },
  {
   "cell_type": "code",
   "execution_count": null,
   "metadata": {},
   "outputs": [],
   "source": [
    "def base(u,v):\n",
    "    \"\"\"Calcula uma base ortonormal a partir de dois vetores u e v,\"\"\"\n",
    "    ### Resposta aqui\n"
   ]
  },
  {
   "cell_type": "code",
   "execution_count": null,
   "metadata": {},
   "outputs": [],
   "source": [
    "base([0,1], [1,1])"
   ]
  },
  {
   "cell_type": "code",
   "execution_count": null,
   "metadata": {},
   "outputs": [],
   "source": [
    "v1, v2 = base([1,2,3], [3,2,1])\n",
    "print(v1, v2, sep='\\n')"
   ]
  },
  {
   "cell_type": "code",
   "execution_count": null,
   "metadata": {},
   "outputs": [],
   "source": [
    "np.dot(v1, v2)"
   ]
  },
  {
   "cell_type": "markdown",
   "metadata": {},
   "source": [
    "# O algoritmo de Gram-Schmidt\n",
    "\n",
    "\n",
    "Vamos generalizar o que fizemos antes para 3 vetores, e depois $n$ vetores.\n",
    "O resultado será um método para, a partir de uma base (qualquer!) de $R^n$,\n",
    "obtermos uma base ortonormal, por indução (o que mais?)."
   ]
  },
  {
   "cell_type": "code",
   "execution_count": null,
   "metadata": {},
   "outputs": [],
   "source": [
    "def resto(v, us):\n",
    "    \"\"\"Calcula um vetor w, ortogonal a todos os vetores da lista us, que supomos serem ortonormais.\"\"\"\n",
    "    ### Resposta aqui\n"
   ]
  },
  {
   "cell_type": "code",
   "execution_count": null,
   "metadata": {},
   "outputs": [],
   "source": [
    "v3 = resto([4,5,1], [v1, v2])\n",
    "v3"
   ]
  },
  {
   "cell_type": "code",
   "execution_count": null,
   "metadata": {},
   "outputs": [],
   "source": [
    "np.dot(v3,v1), np.dot(v3,v2)"
   ]
  },
  {
   "cell_type": "markdown",
   "metadata": {},
   "source": [
    "### Exercício\n",
    "\n",
    "Agora, termine Gram-Schmidt:\n",
    "comece com duas listas de vetores, cuja reunião é uma base de $R^n$,\n",
    "e onde a segunda lista é, além disso, ortonormal.\n",
    "Naturalmente, a segunda lista começa vazia, e vai \"crescendo\" de um em um conforme a outra decresce."
   ]
  },
  {
   "cell_type": "code",
   "execution_count": null,
   "metadata": {},
   "outputs": [],
   "source": [
    "def gram_schmidt(vs, us):\n",
    "    \"\"\"Obtem uma base ortonormal para o subespaço gerado pelos vetores das listas vs e us.\n",
    "    \n",
    "    Os vetores de us devem ser ortonormais.  Use uma lista vazia para inicializar.\"\"\"\n",
    "    ### Resposta aqui\n"
   ]
  },
  {
   "cell_type": "code",
   "execution_count": null,
   "metadata": {},
   "outputs": [],
   "source": [
    "### Resposta aqui\n"
   ]
  },
  {
   "cell_type": "code",
   "execution_count": null,
   "metadata": {},
   "outputs": [],
   "source": [
    "vs = [[1,2,3], [4,3,2], [1,-2,1]]\n",
    "base = gram_schmidt_rec(vs, [])\n",
    "base"
   ]
  },
  {
   "cell_type": "code",
   "execution_count": null,
   "metadata": {},
   "outputs": [],
   "source": [
    "base = np.array(base)\n",
    "base"
   ]
  },
  {
   "cell_type": "code",
   "execution_count": null,
   "metadata": {},
   "outputs": [],
   "source": [
    "np.matmul(base, base.T)"
   ]
  },
  {
   "cell_type": "markdown",
   "metadata": {},
   "source": [
    "# Fatoração QR\n",
    "\n",
    "A fatoração QR está para a fatoração LU como o algoritmo de Gram-Schmidt está para o de Gauss:\n",
    "ou seja, vamos \"guardar\" numa matriz extra ($R$)\n",
    "as operações feitas para ortogonalizar os vetores de $A$\n",
    "que ficarão armazenados na matriz ortogonal $Q$.\n",
    "\n",
    "O único detalhe é que (tradicionalmente) vamos olhar para as **colunas** de $A$ como vetores,\n",
    "e portanto ao fazer operações em colunas o algoritmo aparece \"transposto\":\n",
    "o resultado está na matriz da esquerda, e as \"operações em colunas\" geram uma matriz triangular superior."
   ]
  },
  {
   "cell_type": "markdown",
   "metadata": {},
   "source": [
    "## Transformando os vetores\n",
    "\n",
    "Temos $A = [a_1 \\ a_2 \\ a_3 \\ldots ]$.\n",
    "Ao realizar Gram-Schmidt, obtemos vetores ortonormais $e_1$, $e_2$, $e_3\\ldots$.\n",
    "O primeiro é apenas a normalização de $a_1$.\n",
    "O segundo tem a componente na direção de $e_1$ retirada, e depois é normalizado.\n",
    "E assim por diante.\n",
    "Olhando (que nem na eliminação) as operações ao contrário, temos:\n",
    "\n",
    "$$ \\def\\h<#1,#2>{\\left\\langle#1,#2\\right\\rangle}\n",
    "\\begin{align}\n",
    "a_1 & = \\h<a_1,e_1>e_1 && = \\beta_1 e_1\\\\\n",
    "a_2 & = \\h<a_2,e_1>e_1 + \\h<a_2,e_2>e_2 && = \\gamma _ {2,1} e_1 + \\beta_2 e_2 \\\\\n",
    "a_3 & = \\h<a_3,e_1>e_1 + \\h<a_3,e_2>e_2 + \\h<a_3,e_3>e_3 && = \\gamma _ {3,1} e_1 + \\gamma _ {3,2} e_2 + \\beta_3 e_3\n",
    "\\end{align}$$"
   ]
  },
  {
   "cell_type": "markdown",
   "metadata": {},
   "source": [
    "Assim, olhando as colunas, temos:\n",
    "$$A = \\begin{bmatrix} & & \\\\ a_1 & a_2 & a_3 \\\\ & & \\end{bmatrix}\n",
    "= \\begin{bmatrix} & & \\\\ e_1 & e_2 & e_3 \\\\ & & \\end{bmatrix}\n",
    "  \\begin{bmatrix}\\beta_1 & \\gamma _ {2,1} & \\gamma _ {3,1} \\\\ 0 & \\beta_2 & \\gamma _ {3,2} \\\\ 0 & 0 & \\beta_3\\end{bmatrix}\n",
    "= QR.$$"
   ]
  },
  {
   "cell_type": "markdown",
   "metadata": {},
   "source": [
    "### Observação\n",
    "Na verdade, **sempre** podemos decompor um vetor $v$ numa base ortonormal $\\{e_i\\}$ pela fórmula\n",
    "\n",
    "$$ v = \\sum_i \\h<v,e_i>e_i. $$\n",
    "O que acontece de especial no algoritmo de Gram-Schmidt é que os vetores $e_k$ só dependem dos $a_i$ com $i \\le k$,\n",
    "e portanto o mesmo vale para a volta: os $a_k$ podem ser determinados conhecendo apenas os $e_i$ para $i \\le k$."
   ]
  },
  {
   "cell_type": "markdown",
   "metadata": {},
   "source": [
    "### Numpy\n",
    "\n",
    "O algoritmo de fatoração QR é bastante útil, e por isso é possível usá-lo via `numpy.linalg.qr`."
   ]
  },
  {
   "cell_type": "markdown",
   "metadata": {},
   "source": [
    "### Exercício\n",
    "\n",
    "Verifique que a fatoração QR retorna matrizes ortogonais.\n",
    "Use `rand(n,m)` para produzir algumas matrizes aleatórias.\n",
    "\n",
    "Qual a diferença de $Q^T Q$ para a matriz identidade da dimensão correspondente?\n",
    "Como isso se comporta quando a dimensão aumenta?"
   ]
  },
  {
   "cell_type": "code",
   "execution_count": null,
   "metadata": {},
   "outputs": [],
   "source": [
    "def graph_qtq(n, ntry=10):\n",
    "    i = np.identity(n)\n",
    "    ### Resposta aqui\n"
   ]
  },
  {
   "cell_type": "code",
   "execution_count": null,
   "metadata": {},
   "outputs": [],
   "source": [
    "for i,n in enumerate(np.logspace(1,2,dtype=int,num=6)):\n",
    "    if i % 2 == 0:\n",
    "        plt.figure(figsize=(15,4))\n",
    "    plt.subplot(1,2,(i%2)+1)\n",
    "    graph_qtq(n)\n",
    "    plt.title('n = {}'.format(n))"
   ]
  },
  {
   "cell_type": "code",
   "execution_count": null,
   "metadata": {},
   "outputs": [],
   "source": [
    "plt.show()"
   ]
  }
 ],
 "metadata": {
  "kernelspec": {
   "display_name": "Python 3",
   "language": "python3.4",
   "name": "python3"
  },
  "language_info": {
   "codemirror_mode": {
    "name": "ipython",
    "version": 3
   },
   "file_extension": ".py",
   "mimetype": "text/x-python",
   "name": "python",
   "nbconvert_exporter": "python",
   "pygments_lexer": "ipython3"
  }
 },
 "nbformat": 4,
 "nbformat_minor": 1
}
