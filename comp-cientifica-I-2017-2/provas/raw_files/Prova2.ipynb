{
 "cells": [
  {
   "cell_type": "markdown",
   "metadata": {},
   "source": [
    "![CC-BY-SA](https://mirrors.creativecommons.org/presskit/buttons/88x31/svg/by-sa.svg)\n",
    "This notebook was created by [Bernardo Freitas Paulo da Costa](http://www.im.ufrj.br/bernardofpc),\n",
    "and is licensed under Creative Commons BY-SA"
   ]
  },
  {
   "cell_type": "code",
   "execution_count": null,
   "metadata": {},
   "outputs": [],
   "source": [
    "import numpy as np\n",
    "import matplotlib.pyplot as plt"
   ]
  },
  {
   "cell_type": "markdown",
   "metadata": {},
   "source": [
    "# Calculando primitivas\n",
    "\n",
    "Agora que sabemos calcular integrais, também podemos calcular primitivas de funções.\n",
    "Há algumas ideias de como fazer isso:\n",
    "- uma função `primitiva(f,x,h)`, análoga a `df(f,x,h)`, que calcula a primitiva de $f$ nos pontos do vetor `x`.\n",
    "- uma função `primitiva(f,h)`, análoga a `df(f,h)`, que retorna uma função que calcula a primitiva de $f$ \"sob demanda\".\n",
    "\n",
    "Mas isso não basta:\n",
    "Imagine, por exemplo, que vamos calcular a primitiva de $\\sin(x^2)$, chame esta função de $F$.\n",
    "Ora, o valor de $F(1)$ não é único, ele depende de uma _constante de integração_,\n",
    "que pode ser assimilada ao ponto inicial da integral (numérica!) que vamos fazer.\n",
    "Assim, nossos métodos precisam de um argumento a mais: $a$, o ponto inicial.\n",
    "\n",
    "Temos mais uma dificuldade a vencer: a estrutura da nossa função supõe que fixamos o passo $h$ de integração.\n",
    "O que acontece se o usuário quiser calcular a primitiva em $a + 23.512h$???\n",
    "\n",
    "Uma solução diferente seria fixar o número de subdivisões, $n$.\n",
    "Mas isso também não é muito bom:\n",
    "Se $n$ for grande, mas estivermos calculando a primitiva num ponto próximo, vamos estar \"fazendo contas à toa\";\n",
    "se $n$ não for grande o suficiente, ao calcular num ponto mais distante, a resposta estará muito errada.\n",
    "\n",
    "## Organização\n",
    "\n",
    "- A primeira parte da prova irá construir as aproximações de $F$, calculando as primitivas \"com passo $h$\".\n",
    "- A segunda parte irá desenvolver técnicas de interpolação para resolver o problema de $a+ 23.512h$.\n",
    "\n",
    "Por questões de tempo (e tamanho da prova!) a terceira parte, que traça as primitivas para valores fracionários de $h$,\n",
    "e a quarta parte, que se esforça para calcular $f$ o mínimo possível, ficam para uma outra vez ;-)"
   ]
  },
  {
   "cell_type": "markdown",
   "metadata": {},
   "source": [
    "# Parte 1: Primitivas (35 pts)\n",
    "\n",
    "## Ferramentas básicas"
   ]
  },
  {
   "cell_type": "code",
   "execution_count": null,
   "metadata": {
    "deletable": false,
    "nbgrader": {
     "checksum": "763615f8fd3d7337ba2741c5196f96cb",
     "grade": false,
     "grade_id": "int_meth",
     "locked": false,
     "schema_version": 1,
     "solution": true
    }
   },
   "outputs": [],
   "source": [
    "# Inclua aqui cauchy, midpoint e simpson\n",
    "# YOUR CODE HERE\n",
    "raise NotImplementedError()"
   ]
  },
  {
   "cell_type": "code",
   "execution_count": null,
   "metadata": {},
   "outputs": [],
   "source": [
    "ans = 1 - np.cos(1)\n",
    "a =   cauchy(np.sin, 0, 1, n=1000)\n",
    "b = midpoint(np.sin, 0, 1, n=500)\n",
    "c =  simpson(np.sin, 0, 1, n=100)\n",
    "np.array([a, b, c]) - ans"
   ]
  },
  {
   "cell_type": "markdown",
   "metadata": {},
   "source": [
    "## 1.1 A função `primitiva()` simples\n",
    "\n",
    "As funções de integração recebem $n$, então é preciso \"converter\" o argumento $h$\n",
    "(que faz mais sentido para nós neste caso) em $n$.\n",
    "Este é o propósito da função `primitiva()` abaixo.\n",
    "\n",
    "Obs: não é óbvio como vetorizar a função `F()` abaixo.  Não vamos precisar disso."
   ]
  },
  {
   "cell_type": "code",
   "execution_count": null,
   "metadata": {
    "deletable": false,
    "nbgrader": {
     "checksum": "caa27b7997485743812a231e31af5801",
     "grade": false,
     "grade_id": "primitiva",
     "locked": false,
     "schema_version": 1,
     "solution": true
    }
   },
   "outputs": [],
   "source": [
    "def primitiva(f,a,h=0.01,meth=simpson):\n",
    "    \"\"\"Retorna uma função que calcula a integral de f no intervalo [a,x], usando o método meth.\"\"\"\n",
    "    def F(x):\n",
    "    # YOUR CODE HERE\n",
    "    raise NotImplementedError()\n",
    "    return F"
   ]
  },
  {
   "cell_type": "code",
   "execution_count": null,
   "metadata": {
    "deletable": false,
    "editable": false,
    "nbgrader": {
     "checksum": "4cf457a62a3b1c4882e227f04fca404c",
     "grade": false,
     "grade_id": "cell-4005ff111fd6f8cc",
     "locked": true,
     "schema_version": 1,
     "solution": false
    }
   },
   "outputs": [],
   "source": [
    "def veryclose(a,b):\n",
    "    return np.isclose(a,b, rtol=1e-12, atol=1e-12)"
   ]
  },
  {
   "cell_type": "markdown",
   "metadata": {},
   "source": [
    "Testando o funcionamento básico de `primitiva`"
   ]
  },
  {
   "cell_type": "code",
   "execution_count": null,
   "metadata": {
    "deletable": false,
    "editable": false,
    "nbgrader": {
     "checksum": "f8cea030344aee581de9b183fae0d526",
     "grade": true,
     "grade_id": "primitiva_t1",
     "locked": true,
     "points": 1,
     "schema_version": 1,
     "solution": false
    }
   },
   "outputs": [],
   "source": [
    "F = primitiva(np.sin,0)\n",
    "assert veryclose(F(1), simpson(np.sin,0,1))"
   ]
  },
  {
   "cell_type": "code",
   "execution_count": null,
   "metadata": {
    "deletable": false,
    "editable": false,
    "nbgrader": {
     "checksum": "7fb6a912dfa43b1d0096fbd6bef9b4bb",
     "grade": true,
     "grade_id": "primitiva_t2",
     "locked": true,
     "points": 1,
     "schema_version": 1,
     "solution": false
    }
   },
   "outputs": [],
   "source": [
    "F = primitiva(np.exp,0)\n",
    "assert veryclose(F(1), simpson(np.exp,0,1))"
   ]
  },
  {
   "cell_type": "code",
   "execution_count": null,
   "metadata": {
    "deletable": false,
    "editable": false,
    "nbgrader": {
     "checksum": "a88f474a332192143435ef4a6c8f2177",
     "grade": true,
     "grade_id": "primitiva_t3",
     "locked": true,
     "points": 1,
     "schema_version": 1,
     "solution": false
    }
   },
   "outputs": [],
   "source": [
    "F = primitiva(np.sin,0)\n",
    "assert veryclose(F(10), simpson(np.sin,0,10,n=1000))"
   ]
  },
  {
   "cell_type": "markdown",
   "metadata": {},
   "source": [
    "Testando que os argumentos são levados em conta"
   ]
  },
  {
   "cell_type": "code",
   "execution_count": null,
   "metadata": {
    "deletable": false,
    "editable": false,
    "nbgrader": {
     "checksum": "1948529df74277f75cfcf6c059584d7e",
     "grade": true,
     "grade_id": "primitiva_t4",
     "locked": true,
     "points": 1,
     "schema_version": 1,
     "solution": false
    }
   },
   "outputs": [],
   "source": [
    "F = primitiva(np.sin,4)\n",
    "assert veryclose(F(5), simpson(np.sin,4,5))"
   ]
  },
  {
   "cell_type": "code",
   "execution_count": null,
   "metadata": {
    "deletable": false,
    "editable": false,
    "nbgrader": {
     "checksum": "ba314beb11b6422e866c3bb29978fec3",
     "grade": true,
     "grade_id": "primitiva_t5",
     "locked": true,
     "points": 1,
     "schema_version": 1,
     "solution": false
    }
   },
   "outputs": [],
   "source": [
    "F = primitiva(np.exp,0, meth=cauchy)\n",
    "assert veryclose(F(1), cauchy(np.exp,0,1))"
   ]
  },
  {
   "cell_type": "code",
   "execution_count": null,
   "metadata": {
    "deletable": false,
    "editable": false,
    "nbgrader": {
     "checksum": "950db2404d0243315c52a908c56564cc",
     "grade": true,
     "grade_id": "primitiva_t6",
     "locked": true,
     "points": 1,
     "schema_version": 1,
     "solution": false
    }
   },
   "outputs": [],
   "source": [
    "F = primitiva(np.cos,0, h=0.1)\n",
    "assert veryclose(F(1), simpson(np.cos,0,1,n=10))"
   ]
  },
  {
   "cell_type": "markdown",
   "metadata": {},
   "source": [
    "Testes finais"
   ]
  },
  {
   "cell_type": "code",
   "execution_count": null,
   "metadata": {
    "deletable": false,
    "editable": false,
    "nbgrader": {
     "checksum": "bda9579d897439ea0e866f1a4f01340d",
     "grade": true,
     "grade_id": "primitiva_t7",
     "locked": true,
     "points": 1,
     "schema_version": 1,
     "solution": false
    }
   },
   "outputs": [],
   "source": [
    "F = primitiva(np.sin,10, h=0.001, meth=midpoint)\n",
    "assert veryclose(F(12), midpoint(np.sin,10,12,n=2000))"
   ]
  },
  {
   "cell_type": "code",
   "execution_count": null,
   "metadata": {
    "deletable": false,
    "editable": false,
    "nbgrader": {
     "checksum": "b0f22adea942bb9afdcda0d52f0467e0",
     "grade": true,
     "grade_id": "simp_neg",
     "locked": true,
     "points": 1,
     "schema_version": 1,
     "solution": false
    }
   },
   "outputs": [],
   "source": [
    "assert simpson(np.cos, 1, 0) < 0"
   ]
  },
  {
   "cell_type": "code",
   "execution_count": null,
   "metadata": {
    "deletable": false,
    "editable": false,
    "nbgrader": {
     "checksum": "b7f10d72b32c36521d84689a6e25b8a5",
     "grade": true,
     "grade_id": "primitiva_t8",
     "locked": true,
     "points": 2,
     "schema_version": 1,
     "solution": false
    }
   },
   "outputs": [],
   "source": [
    "F = primitiva(np.cos,2)\n",
    "assert veryclose(F(1), simpson(np.cos,2,1))"
   ]
  },
  {
   "cell_type": "markdown",
   "metadata": {},
   "source": [
    "## 1.2 Erros\n",
    "\n",
    "Agora, vamos estudar como o erro da primitiva evolui,\n",
    "- ao afastar o ponto final $x$ de $a$; e\n",
    "- ao aumentar / diminuir $h$."
   ]
  },
  {
   "cell_type": "code",
   "execution_count": null,
   "metadata": {},
   "outputs": [],
   "source": [
    "F_num = primitiva(np.sin,0)"
   ]
  },
  {
   "cell_type": "code",
   "execution_count": null,
   "metadata": {
    "deletable": false,
    "nbgrader": {
     "checksum": "45b76c690c0cb7dca93e6abd4635b1f9",
     "grade": true,
     "grade_id": "F_analitica",
     "locked": false,
     "points": 1,
     "schema_version": 1,
     "solution": true
    }
   },
   "outputs": [],
   "source": [
    "# Dê aqui a primitiva exata correspondente à expressão acima:\n",
    "def F_analitica(x):\n",
    "    # YOUR CODE HERE\n",
    "    raise NotImplementedError()"
   ]
  },
  {
   "cell_type": "markdown",
   "metadata": {},
   "source": [
    "Faça o gráfico do erro de `F_num` para `F_analítica` com $x \\in [5,8]$."
   ]
  },
  {
   "cell_type": "code",
   "execution_count": null,
   "metadata": {
    "deletable": false,
    "nbgrader": {
     "checksum": "2ab36321ddd6ae2a942a95fa09c21b48",
     "grade": true,
     "grade_id": "graph_err",
     "locked": false,
     "points": 2,
     "schema_version": 1,
     "solution": true
    }
   },
   "outputs": [],
   "source": [
    "xs = np.linspace(5,8,num=100)\n",
    "# YOUR CODE HERE\n",
    "raise NotImplementedError()"
   ]
  },
  {
   "cell_type": "markdown",
   "metadata": {},
   "source": [
    "Faça agora no intervalo $[5,100]$.\n",
    "Tome cuidado para o gráfico ficar claro!"
   ]
  },
  {
   "cell_type": "code",
   "execution_count": null,
   "metadata": {
    "deletable": false,
    "nbgrader": {
     "checksum": "d0281e1128a1ef4b6c3e0a124e7ec01f",
     "grade": true,
     "grade_id": "graph_err_100",
     "locked": false,
     "points": 3,
     "schema_version": 1,
     "solution": true
    }
   },
   "outputs": [],
   "source": [
    "# YOUR CODE HERE\n",
    "raise NotImplementedError()"
   ]
  },
  {
   "cell_type": "markdown",
   "metadata": {},
   "source": [
    "Comente"
   ]
  },
  {
   "cell_type": "markdown",
   "metadata": {
    "deletable": false,
    "nbgrader": {
     "checksum": "3f4739e5e15711e13fc4db3f4cda29b0",
     "grade": true,
     "grade_id": "comm_per",
     "locked": false,
     "points": 2,
     "schema_version": 1,
     "solution": true
    }
   },
   "source": [
    "YOUR ANSWER HERE"
   ]
  },
  {
   "cell_type": "markdown",
   "metadata": {},
   "source": [
    "Mantendo o intervalo $[5,8]$,\n",
    "trace as curvas de erro (no mesmo eixo) para 3 valores diferentes de $h$."
   ]
  },
  {
   "cell_type": "code",
   "execution_count": null,
   "metadata": {
    "deletable": false,
    "nbgrader": {
     "checksum": "fd4c853266ace1b4dac16c4be85b0b5f",
     "grade": true,
     "grade_id": "graph_3err",
     "locked": false,
     "points": 3,
     "schema_version": 1,
     "solution": true
    }
   },
   "outputs": [],
   "source": [
    "xs = np.linspace(5,8,num=100)\n",
    "# YOUR CODE HERE\n",
    "raise NotImplementedError()"
   ]
  },
  {
   "cell_type": "markdown",
   "metadata": {},
   "source": [
    "Faça também o gráfico para outro método de integração."
   ]
  },
  {
   "cell_type": "code",
   "execution_count": null,
   "metadata": {
    "deletable": false,
    "nbgrader": {
     "checksum": "aae62f1773f39b140d22dde117044881",
     "grade": true,
     "grade_id": "graph_other_meth",
     "locked": false,
     "points": 2,
     "schema_version": 1,
     "solution": true
    }
   },
   "outputs": [],
   "source": [
    "xs = np.linspace(5,8,num=100)\n",
    "# YOUR CODE HERE\n",
    "raise NotImplementedError()"
   ]
  },
  {
   "cell_type": "markdown",
   "metadata": {},
   "source": [
    "A taxa de decaimento é a que você espera? Porquê?"
   ]
  },
  {
   "cell_type": "markdown",
   "metadata": {
    "deletable": false,
    "nbgrader": {
     "checksum": "9572440bc8dad5e461c7b6d205506880",
     "grade": true,
     "grade_id": "decay_order",
     "locked": false,
     "points": 2,
     "schema_version": 1,
     "solution": true
    }
   },
   "source": [
    "YOUR ANSWER HERE"
   ]
  },
  {
   "cell_type": "markdown",
   "metadata": {},
   "source": [
    "## 1.3 Mais erros\n",
    "\n",
    "O que a sua função faz quando o tamanho do intervalo de integração não é múltiplo de $h$?"
   ]
  },
  {
   "cell_type": "code",
   "execution_count": null,
   "metadata": {
    "deletable": false,
    "nbgrader": {
     "checksum": "f07bddd43e284d53ea6c82fa36c25e70",
     "grade": true,
     "grade_id": "graph_04",
     "locked": false,
     "points": 1,
     "schema_version": 1,
     "solution": true
    }
   },
   "outputs": [],
   "source": [
    "xs = np.linspace(5,8,num=100)\n",
    "h = 0.4\n",
    "F_num = primitiva(np.sin,0, h=h)\n",
    "# YOUR CODE HERE\n",
    "raise NotImplementedError()"
   ]
  },
  {
   "cell_type": "markdown",
   "metadata": {},
   "source": [
    "Você consegue explicar este comportamento do erro?"
   ]
  },
  {
   "cell_type": "markdown",
   "metadata": {
    "deletable": false,
    "nbgrader": {
     "checksum": "b802c38572cac65ccf8ebb5a3a885013",
     "grade": true,
     "grade_id": "err_04_explain",
     "locked": false,
     "points": 3,
     "schema_version": 1,
     "solution": true
    }
   },
   "source": [
    "YOUR ANSWER HERE"
   ]
  },
  {
   "cell_type": "markdown",
   "metadata": {},
   "source": [
    "Faça novos gráficos do erro (com valores diferentes para $h$, e com métodos de integração diferentes).\n",
    "Isso apóia a sua explicação acima?"
   ]
  },
  {
   "cell_type": "code",
   "execution_count": null,
   "metadata": {
    "deletable": false,
    "nbgrader": {
     "checksum": "bf94c04fda3d2b1003cacfb886a771d0",
     "grade": true,
     "grade_id": "graph_explain_04",
     "locked": false,
     "points": 4,
     "schema_version": 1,
     "solution": true
    }
   },
   "outputs": [],
   "source": [
    "xs = np.linspace(5,8,num=100)\n",
    "_ , axs = plt.subplots(ncols=3, figsize=(15,4))\n",
    "\n",
    "for m,ax in zip([cauchy,midpoint,simpson], axs):\n",
    "    for h in [0.1, 0.3, 0.6]:\n",
    "        # YOUR CODE HERE\n",
    "        raise NotImplementedError()\n",
    "    ax.set_title(m.__name__)\n",
    "    ax.legend()\n",
    "plt.show()"
   ]
  },
  {
   "cell_type": "markdown",
   "metadata": {},
   "source": [
    "Comente abaixo."
   ]
  },
  {
   "cell_type": "markdown",
   "metadata": {
    "deletable": false,
    "nbgrader": {
     "checksum": "b1ee20e550c9bb0f5a1c455b6a88fd47",
     "grade": true,
     "grade_id": "final_comm",
     "locked": false,
     "points": 2,
     "schema_version": 1,
     "solution": true
    }
   },
   "source": [
    "YOUR ANSWER HERE"
   ]
  },
  {
   "cell_type": "markdown",
   "metadata": {},
   "source": [
    "# Parte 2: Interpolação parcial (25 pts)\n",
    "\n",
    "Vimos que tomar uma interpolação de ordem muito alta pode ser muito difícil, e sujeito a erro.\n",
    "Além disso, estamos quase sempre usando pontos igualmente espaçados para calcular a integral,\n",
    "o que pode aumentar a sensibilidade ao erro.\n",
    "\n",
    "Assim, vamos usar uma técnica \"simples\" de interpolação por partes\n",
    "para contornar o problema."
   ]
  },
  {
   "cell_type": "markdown",
   "metadata": {},
   "source": [
    "## Ferramentas básicas"
   ]
  },
  {
   "cell_type": "code",
   "execution_count": null,
   "metadata": {
    "deletable": false,
    "nbgrader": {
     "checksum": "ee00f66e03d939cb6a538f15cf0e20f7",
     "grade": false,
     "grade_id": "lagrange",
     "locked": false,
     "schema_version": 1,
     "solution": true
    }
   },
   "outputs": [],
   "source": [
    "# interpolador de lagrange\n",
    "# YOUR CODE HERE\n",
    "raise NotImplementedError()"
   ]
  },
  {
   "cell_type": "code",
   "execution_count": null,
   "metadata": {
    "deletable": false,
    "editable": false,
    "nbgrader": {
     "checksum": "8addb087dcf5c792f8ca9e23da5d16c8",
     "grade": true,
     "grade_id": "lagrange_ok",
     "locked": true,
     "points": 0,
     "schema_version": 1,
     "solution": false
    }
   },
   "outputs": [],
   "source": [
    "# Isso vale 0 pontos, claro...\n",
    "p = lagrange([0,1,2], [2,4,8])\n",
    "assert p(3) == 14"
   ]
  },
  {
   "cell_type": "markdown",
   "metadata": {},
   "source": [
    "## 2.1 Achando pontos próximos\n",
    "\n",
    "Suponha que temos acesso a todos os valores de $y$ correspondentes a $x$ que são múltiplos de $0.1$.\n",
    "Suponha também que vamos interpolar no intervalo $[0, 0.1]$.\n",
    "Dê uma função que retorna os $n$ nós (xs) mais próximos de $0$."
   ]
  },
  {
   "cell_type": "code",
   "execution_count": null,
   "metadata": {
    "deletable": false,
    "nbgrader": {
     "checksum": "c3807867e18e504b89946d56bfcf277b",
     "grade": false,
     "grade_id": "close_nodes",
     "locked": false,
     "schema_version": 1,
     "solution": true
    }
   },
   "outputs": [],
   "source": [
    "def close_nodes(n):\n",
    "    \"\"\"Retorna os n nós mais próximos de [0,0.1] com espaçamento 0.1\"\"\"\n",
    "    # YOUR CODE HERE\n",
    "    raise NotImplementedError()"
   ]
  },
  {
   "cell_type": "code",
   "execution_count": null,
   "metadata": {},
   "outputs": [],
   "source": [
    "close_nodes(10)"
   ]
  },
  {
   "cell_type": "code",
   "execution_count": null,
   "metadata": {},
   "outputs": [],
   "source": [
    "close_nodes(11)"
   ]
  },
  {
   "cell_type": "code",
   "execution_count": null,
   "metadata": {
    "deletable": false,
    "editable": false,
    "nbgrader": {
     "checksum": "8bf52cb63922d01c7569b81bec4b3422",
     "grade": true,
     "grade_id": "close_nodes_3",
     "locked": true,
     "points": 1,
     "schema_version": 1,
     "solution": false
    }
   },
   "outputs": [],
   "source": [
    "ans = np.array([-0.1,  0. ,  0.1])\n",
    "assert np.allclose(close_nodes(3), ans, rtol=1e-12, atol=1e-12)"
   ]
  },
  {
   "cell_type": "code",
   "execution_count": null,
   "metadata": {
    "deletable": false,
    "editable": false,
    "nbgrader": {
     "checksum": "b20a7b0ac3783a47ae52f81f49c7ce37",
     "grade": true,
     "grade_id": "close_nodes_11",
     "locked": true,
     "points": 2,
     "schema_version": 1,
     "solution": false
    }
   },
   "outputs": [],
   "source": [
    "ans = np.array([-0.5, -0.4, -0.3, -0.2, -0.1,  0. ,  0.1,  0.2,  0.3,  0.4,  0.5])\n",
    "assert np.allclose(close_nodes(11), ans, rtol=1e-12, atol=1e-12)"
   ]
  },
  {
   "cell_type": "code",
   "execution_count": null,
   "metadata": {
    "deletable": false,
    "editable": false,
    "nbgrader": {
     "checksum": "05edf35694d97c67bd06579a4f5ae2ea",
     "grade": true,
     "grade_id": "close_nodes_10",
     "locked": true,
     "points": 2,
     "schema_version": 1,
     "solution": false
    }
   },
   "outputs": [],
   "source": [
    "# Tanto faz se começa com -0.5 ou termina com 0.5\n",
    "assert veryclose( np.sum(np.abs(close_nodes(10))), 2.5 )"
   ]
  },
  {
   "cell_type": "markdown",
   "metadata": {},
   "source": [
    "## 2.2 Interpolador de pontos próximos\n",
    "\n",
    "Agora, faça uma função `interp_prox(f,n)` que retorna o polinômio interpolador da função $f$\n",
    "nos $n$ pontos mais próximos do intervalo $[0,0.1]$ como acima.\n",
    "\n",
    "(Obs: na \"vida real\", teríamos uma lista de pontos `xs` e `ys`\n",
    "dos quais vamos escolher os $n$ pares correspondentes aos $n$ $x_i$ mais próximos de cada $t$,\n",
    "mas isto demanda mais programação, e não é tão importante assim para o que vamos fazer)"
   ]
  },
  {
   "cell_type": "code",
   "execution_count": null,
   "metadata": {
    "deletable": false,
    "nbgrader": {
     "checksum": "1924621f92b88f772ffdd4bf44eace07",
     "grade": false,
     "grade_id": "interp_prox",
     "locked": false,
     "schema_version": 1,
     "solution": true
    }
   },
   "outputs": [],
   "source": [
    "def interp_prox(f,n):\n",
    "    # YOUR CODE HERE\n",
    "    raise NotImplementedError()"
   ]
  },
  {
   "cell_type": "code",
   "execution_count": null,
   "metadata": {},
   "outputs": [],
   "source": [
    "pol = interp_prox(np.sin, 5)\n",
    "pol(0.01), pol(0.01) - np.sin(0.01)"
   ]
  },
  {
   "cell_type": "code",
   "execution_count": null,
   "metadata": {
    "deletable": false,
    "editable": false,
    "nbgrader": {
     "checksum": "1c3363a87867b333dd42621bab836075",
     "grade": true,
     "grade_id": "interp_prox_001",
     "locked": true,
     "points": 2,
     "schema_version": 1,
     "solution": false
    }
   },
   "outputs": [],
   "source": [
    "pol = interp_prox(np.sin, 5)\n",
    "assert np.isclose(pol(0.01), np.sin(0.01))\n",
    "assert not(veryclose(pol(0.01), np.sin(0.01)))"
   ]
  },
  {
   "cell_type": "code",
   "execution_count": null,
   "metadata": {
    "deletable": false,
    "editable": false,
    "nbgrader": {
     "checksum": "6362b3179bf7366a90108ef8756e2bd0",
     "grade": true,
     "grade_id": "interp_prox_004",
     "locked": true,
     "points": 1,
     "schema_version": 1,
     "solution": false
    }
   },
   "outputs": [],
   "source": [
    "pol = interp_prox(np.exp, 5)\n",
    "assert np.isclose(pol(0.04), np.exp(0.04))\n",
    "assert not(veryclose(pol(0.04), np.exp(0.04)))"
   ]
  },
  {
   "cell_type": "code",
   "execution_count": null,
   "metadata": {
    "deletable": false,
    "editable": false,
    "nbgrader": {
     "checksum": "21d9389e5e02285c5cfc1f62598266f7",
     "grade": true,
     "grade_id": "interp_prox_001_10",
     "locked": true,
     "points": 2,
     "schema_version": 1,
     "solution": false
    }
   },
   "outputs": [],
   "source": [
    "pol = interp_prox(np.sin, 10)\n",
    "assert veryclose(pol(0.01), np.sin(0.01))"
   ]
  },
  {
   "cell_type": "code",
   "execution_count": null,
   "metadata": {
    "deletable": false,
    "editable": false,
    "nbgrader": {
     "checksum": "c5fd312f758f9493d93d87fa11fbf4d2",
     "grade": true,
     "grade_id": "interp_prox_007_10",
     "locked": true,
     "points": 1,
     "schema_version": 1,
     "solution": false
    }
   },
   "outputs": [],
   "source": [
    "pol = interp_prox(np.cos, 10)\n",
    "assert veryclose(pol(0.07), np.cos(0.07))"
   ]
  },
  {
   "cell_type": "markdown",
   "metadata": {},
   "source": [
    "## 2.3 Erros\n",
    "\n",
    "Faça agora um gráfico do erro de interpolação da função `np.sin()` para $t$ no intervalo $[0,0.1]$,\n",
    "para diferentes valores de $n$."
   ]
  },
  {
   "cell_type": "code",
   "execution_count": null,
   "metadata": {
    "deletable": false,
    "nbgrader": {
     "checksum": "e31f4c95e666d1a689d0993bf319cd58",
     "grade": true,
     "grade_id": "graph_err_0_1",
     "locked": false,
     "points": 3,
     "schema_version": 1,
     "solution": true
    }
   },
   "outputs": [],
   "source": [
    "ns = [2,3,4,5,6]\n",
    "# YOUR CODE HERE\n",
    "raise NotImplementedError()"
   ]
  },
  {
   "cell_type": "markdown",
   "metadata": {},
   "source": [
    "Repita para as funções exponencial e cosseno.\n",
    "Faça dois gráficos na mesma figura."
   ]
  },
  {
   "cell_type": "code",
   "execution_count": null,
   "metadata": {
    "deletable": false,
    "nbgrader": {
     "checksum": "a5b414aa8736fc5d66fa0f6ae216ce5e",
     "grade": true,
     "grade_id": "graph_err_exp_cos",
     "locked": false,
     "points": 3,
     "schema_version": 1,
     "solution": true
    }
   },
   "outputs": [],
   "source": [
    "# YOUR CODE HERE\n",
    "raise NotImplementedError()"
   ]
  },
  {
   "cell_type": "markdown",
   "metadata": {},
   "source": [
    "O que você percebe? Parece haver alguma explicação?"
   ]
  },
  {
   "cell_type": "code",
   "execution_count": null,
   "metadata": {
    "deletable": false,
    "nbgrader": {
     "checksum": "a59819a6bc40e2adb0e3f4c2ce3e96f0",
     "grade": true,
     "grade_id": "compare_sin_cos_exp",
     "locked": false,
     "points": 2,
     "schema_version": 1,
     "solution": true
    }
   },
   "outputs": [],
   "source": [
    "# YOUR CODE HERE\n",
    "raise NotImplementedError()"
   ]
  },
  {
   "cell_type": "markdown",
   "metadata": {},
   "source": [
    "Como você faria para testar se sua explicação está correta?\n",
    "Escolha uma outra função (ou _outras funções_!) para interpolar."
   ]
  },
  {
   "cell_type": "code",
   "execution_count": null,
   "metadata": {
    "deletable": false,
    "nbgrader": {
     "checksum": "cffbf56bca2acbd27642b413739fb777",
     "grade": true,
     "grade_id": "interp_other",
     "locked": false,
     "points": 3,
     "schema_version": 1,
     "solution": true
    }
   },
   "outputs": [],
   "source": [
    "# YOUR CODE HERE\n",
    "raise NotImplementedError()"
   ]
  },
  {
   "cell_type": "markdown",
   "metadata": {},
   "source": [
    "E comente abaixo."
   ]
  },
  {
   "cell_type": "markdown",
   "metadata": {
    "deletable": false,
    "nbgrader": {
     "checksum": "95b78b44ffcac2ba546c5d695d0f1080",
     "grade": true,
     "grade_id": "interp_other_explain",
     "locked": false,
     "points": 3,
     "schema_version": 1,
     "solution": true
    }
   },
   "source": [
    "YOUR ANSWER HERE"
   ]
  }
 ],
 "metadata": {
  "kernelspec": {
   "display_name": "Python 3",
   "language": "python",
   "name": "python3"
  },
  "language_info": {
   "codemirror_mode": {
    "name": "ipython",
    "version": 3
   },
   "file_extension": ".py",
   "mimetype": "text/x-python",
   "name": "python",
   "nbconvert_exporter": "python",
   "pygments_lexer": "ipython3",
   "version": "3.4.6"
  }
 },
 "nbformat": 4,
 "nbformat_minor": 2
}
