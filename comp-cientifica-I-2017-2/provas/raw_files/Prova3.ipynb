{
 "cells": [
  {
   "cell_type": "markdown",
   "metadata": {},
   "source": [
    "![CC-BY-SA](https://mirrors.creativecommons.org/presskit/buttons/88x31/svg/by-sa.svg)\n",
    "This notebook was created by [Bernardo Freitas Paulo da Costa](http://www.im.ufrj.br/bernardofpc),\n",
    "and is licensed under Creative Commons BY-SA"
   ]
  },
  {
   "cell_type": "code",
   "execution_count": null,
   "metadata": {
    "deletable": false,
    "editable": false,
    "nbgrader": {
     "checksum": "2bdb649ab0d38ac151e8c318465ec698",
     "grade": false,
     "grade_id": "cell-0fd17d77846b6cb4",
     "locked": true,
     "schema_version": 1,
     "solution": false
    }
   },
   "outputs": [],
   "source": [
    "import numpy as np\n",
    "import matplotlib.pyplot as plt"
   ]
  },
  {
   "cell_type": "markdown",
   "metadata": {},
   "source": [
    "# Parte 1: Interpolação em domínios infinitos\n",
    "\n",
    "Para calcular integrais em domínios infinitos, há duas técnicas:\n",
    "- interpolar funções em $(-\\infty,\\infty)$ (ou $[0,+\\infty)$, mas não vamos considerar este caso aqui);\n",
    "- realizar uma mudança de variáveis para um intervalo finito, e interpolar em $(-1,1)$.\n",
    "\n",
    "Nesta parte, vamos estudar a construção análoga à base de polinômios ortogonais para intervalos infinitos.\n",
    "Como base de interpolação, vamos usar polinômios \"corrigidos\" para decairem no infinito:\n",
    "Senão, eles não seriam integráveis.\n",
    "\n",
    "Assim, vamos definir o produto interno entre dois polinômios $P$ e $Q$ por\n",
    "$$ \\langle P,Q\\rangle = \\int_{-\\infty}^\\infty P(t)Q(t) e^{-t^2/2}\\, dt. $$"
   ]
  },
  {
   "cell_type": "markdown",
   "metadata": {},
   "source": [
    "### 1.1: Integrais e \"fatoriais\"\n",
    "\n",
    "Integrando por partes com $t e^{-t^2/2}$, mostre que\n",
    "$$\\int_{-\\infty}^\\infty t^{m+2} e^{-t^2/2} \\, dt = (m+1) \\int_{-\\infty}^\\infty t^m e^{-t^2/2} \\, dt.$$\n",
    "\n",
    "Como fica a fórmula acima em função de $n = m+2$?\n",
    "(isso será útil para implementar o cálculo destas integrais, mais abaixo)"
   ]
  },
  {
   "cell_type": "markdown",
   "metadata": {
    "deletable": false,
    "nbgrader": {
     "checksum": "54596d2eec0f357b5d1ca6339a138362",
     "grade": true,
     "grade_id": "ipp",
     "locked": false,
     "points": 3,
     "schema_version": 1,
     "solution": true
    }
   },
   "source": [
    "YOUR ANSWER HERE"
   ]
  },
  {
   "cell_type": "markdown",
   "metadata": {},
   "source": [
    "É dado $\\int_{-\\infty}^\\infty e^{-t^2/2} \\, dt = C = \\sqrt{2\\pi}$.\n",
    "Mostre que $\\int_{-\\infty}^\\infty t e^{-t^2/2} \\, dt = 0$."
   ]
  },
  {
   "cell_type": "markdown",
   "metadata": {
    "deletable": false,
    "nbgrader": {
     "checksum": "ac9017d1b02764dcba49853d328d5628",
     "grade": true,
     "grade_id": "integracao",
     "locked": false,
     "points": 1,
     "schema_version": 1,
     "solution": true
    }
   },
   "source": [
    "YOUR ANSWER HERE"
   ]
  },
  {
   "cell_type": "markdown",
   "metadata": {},
   "source": [
    "Agora, escreva a função `allints(n)`,\n",
    "que calcula todas as integrais $\\int_{-\\infty}^\\infty t^j e^{-t^2/2} \\, dt$ para $0 \\le j < n$.\n",
    "\n",
    "Cuidado com a recorrência / _loop_:\n",
    "a cada etapa diminuímos **2** do expoente."
   ]
  },
  {
   "cell_type": "code",
   "execution_count": null,
   "metadata": {
    "deletable": false,
    "nbgrader": {
     "checksum": "a4257b18aae0ad992fb012f0b1051f13",
     "grade": false,
     "grade_id": "allints",
     "locked": false,
     "schema_version": 1,
     "solution": true
    }
   },
   "outputs": [],
   "source": [
    "C = np.sqrt(2*np.pi)\n",
    "def allints(n):\n",
    "    \"\"\"Retorna uma lista de tamanho n, com as integrais de 0 até n-1.\"\"\"\n",
    "    # YOUR CODE HERE\n",
    "    raise NotImplementedError()"
   ]
  },
  {
   "cell_type": "code",
   "execution_count": null,
   "metadata": {},
   "outputs": [],
   "source": [
    "allints(5)"
   ]
  },
  {
   "cell_type": "code",
   "execution_count": null,
   "metadata": {},
   "outputs": [],
   "source": [
    "allints(6)"
   ]
  },
  {
   "cell_type": "code",
   "execution_count": null,
   "metadata": {
    "deletable": false,
    "editable": false,
    "nbgrader": {
     "checksum": "e9c4348b32e0139858952aff08e57b6e",
     "grade": true,
     "grade_id": "allints_6",
     "locked": true,
     "points": 2,
     "schema_version": 1,
     "solution": false
    }
   },
   "outputs": [],
   "source": [
    "assert allints(6) == [2.5066282746310002, 0, 2.5066282746310002, 0, 7.5198848238930012, 0]"
   ]
  },
  {
   "cell_type": "code",
   "execution_count": null,
   "metadata": {
    "deletable": false,
    "editable": false,
    "nbgrader": {
     "checksum": "528bedb4a031f007dad9f30287029426",
     "grade": true,
     "grade_id": "allints_rand",
     "locked": true,
     "points": 2,
     "schema_version": 1,
     "solution": false
    }
   },
   "outputs": [],
   "source": [
    "for n in np.random.randint(low=10,high=30,size=5):\n",
    "    assert len(allints(int(n))) == n"
   ]
  },
  {
   "cell_type": "code",
   "execution_count": null,
   "metadata": {},
   "outputs": [],
   "source": [
    "%time x = allints(30)"
   ]
  },
  {
   "cell_type": "markdown",
   "metadata": {},
   "source": [
    "O teste abaixo deve passar em menos de 30 segundos.\n",
    "Se a geração de 30 integrais (linha acima) já levar mais de 1 segundo, isso poderá ser um problema."
   ]
  },
  {
   "cell_type": "code",
   "execution_count": null,
   "metadata": {
    "deletable": false,
    "editable": false,
    "nbgrader": {
     "checksum": "f4d861752ca29ed97a4d9e9133f3414a",
     "grade": true,
     "grade_id": "allints_100",
     "locked": true,
     "points": 2,
     "schema_version": 1,
     "solution": false
    }
   },
   "outputs": [],
   "source": [
    "prev = 0\n",
    "for i,x in enumerate(allints(100)):\n",
    "    if i % 2 == 0:\n",
    "        assert prev <= x\n",
    "        prev = x\n",
    "    else:\n",
    "        assert x == 0    "
   ]
  },
  {
   "cell_type": "markdown",
   "metadata": {},
   "source": [
    "### 1.2: Calculando o produto de polinômios\n",
    "\n",
    "Escreva uma função que calcula os coeficientes do produto de dois polinômios."
   ]
  },
  {
   "cell_type": "code",
   "execution_count": null,
   "metadata": {
    "deletable": false,
    "nbgrader": {
     "checksum": "077554a4e9d9d460732f7dc470e14d31",
     "grade": false,
     "grade_id": "coefs_product",
     "locked": false,
     "schema_version": 1,
     "solution": true
    }
   },
   "outputs": [],
   "source": [
    "# De uma aula anterior\n",
    "def coefs_product(p, q):\n",
    "    \"\"\"Calcula os coeficientes do polinômio P*Q.\n",
    "    \n",
    "    As listas / vetores de coeficientes p e q não precisam ter o mesmo tamanho.\"\"\"\n",
    "    # YOUR CODE HERE\n",
    "    raise NotImplementedError()"
   ]
  },
  {
   "cell_type": "code",
   "execution_count": null,
   "metadata": {},
   "outputs": [],
   "source": [
    "coefs_product([0,1,2],[0,0,1])"
   ]
  },
  {
   "cell_type": "code",
   "execution_count": null,
   "metadata": {
    "deletable": false,
    "editable": false,
    "nbgrader": {
     "checksum": "bad98e38e5949214a1d5b4ab34e04ba6",
     "grade": true,
     "grade_id": "coefprod_simple",
     "locked": true,
     "points": 1,
     "schema_version": 1,
     "solution": false
    }
   },
   "outputs": [],
   "source": [
    "ans = np.array([0, 0, 0, 1, 2])\n",
    "assert np.all(ans == coefs_product([0,1,2],[0,0,1]))"
   ]
  },
  {
   "cell_type": "code",
   "execution_count": null,
   "metadata": {},
   "outputs": [],
   "source": [
    "coefs_product([1,2,5],[3,4])"
   ]
  },
  {
   "cell_type": "code",
   "execution_count": null,
   "metadata": {
    "deletable": false,
    "editable": false,
    "nbgrader": {
     "checksum": "8b1d33d228b728be5d21b3e3096601fa",
     "grade": true,
     "grade_id": "coefprod_mix",
     "locked": true,
     "points": 2,
     "schema_version": 1,
     "solution": false
    }
   },
   "outputs": [],
   "source": [
    "ans = np.array([ 3, 10, 23, 20])\n",
    "assert np.all(ans == coefs_product([1,2,5],[3,4]))"
   ]
  },
  {
   "cell_type": "code",
   "execution_count": null,
   "metadata": {
    "deletable": false,
    "editable": false,
    "nbgrader": {
     "checksum": "614ba3ffc72eeb04a303428a0627f717",
     "grade": true,
     "grade_id": "coefprod_deg",
     "locked": true,
     "points": 2,
     "schema_version": 1,
     "solution": false
    }
   },
   "outputs": [],
   "source": [
    "for d1,d2 in np.random.randint(4,10, size=(10,2)):\n",
    "    c1 = np.random.rand(d1+1) # Polinômio de grau d1\n",
    "    c2 = np.random.rand(d2+1) # Polinômio de grau d2\n",
    "    assert len(coefs_product(c1,c2)) == d1+d2+1 # Polinômio de grau d1+d2"
   ]
  },
  {
   "cell_type": "markdown",
   "metadata": {},
   "source": [
    "### 1.3 Produto interno\n",
    "\n",
    "Escreva a função `inner_expdecay` que calcula o produto interno de dois polinômios $P$ e $Q$,\n",
    "dados pela lista de seus coeficientes.\n",
    "Note que o cálculo das integrais dos monômios é dado pela função `allints()`!"
   ]
  },
  {
   "cell_type": "code",
   "execution_count": null,
   "metadata": {
    "deletable": false,
    "nbgrader": {
     "checksum": "4994582d085c526479570760c682d4b5",
     "grade": false,
     "grade_id": "expdecay",
     "locked": false,
     "schema_version": 1,
     "solution": true
    }
   },
   "outputs": [],
   "source": [
    "def inner_expdecay(ps,qs):\n",
    "    \"\"\"Produto interno dado pela integral com decaimento exponencial.\"\"\"\n",
    "    # YOUR CODE HERE\n",
    "    raise NotImplementedError()"
   ]
  },
  {
   "cell_type": "code",
   "execution_count": null,
   "metadata": {
    "deletable": false,
    "editable": false,
    "nbgrader": {
     "checksum": "5bc285684ff7c437461f309c8fe7a145",
     "grade": true,
     "grade_id": "expdecay_1",
     "locked": true,
     "points": 1,
     "schema_version": 1,
     "solution": false
    }
   },
   "outputs": [],
   "source": [
    "assert inner_expdecay([0,0,1],[0,0,0,0,1]) == 15*np.sqrt(2*np.pi)"
   ]
  },
  {
   "cell_type": "code",
   "execution_count": null,
   "metadata": {
    "deletable": false,
    "editable": false,
    "nbgrader": {
     "checksum": "1e7c0b6c04ebf9ccd1d4e07b8ac63a08",
     "grade": true,
     "grade_id": "expdecay_2",
     "locked": true,
     "points": 1,
     "schema_version": 1,
     "solution": false
    }
   },
   "outputs": [],
   "source": [
    "assert inner_expdecay([0,0,1],[0,1,0,1]) == 0"
   ]
  },
  {
   "cell_type": "code",
   "execution_count": null,
   "metadata": {
    "deletable": false,
    "editable": false,
    "nbgrader": {
     "checksum": "e53d993e9429db81655e0f9fc72dc37d",
     "grade": true,
     "grade_id": "expdecay_3",
     "locked": true,
     "points": 1,
     "schema_version": 1,
     "solution": false
    }
   },
   "outputs": [],
   "source": [
    "assert inner_expdecay([1,-1,0,1],[-1,0,1]) == 0"
   ]
  },
  {
   "cell_type": "code",
   "execution_count": null,
   "metadata": {
    "deletable": false,
    "editable": false,
    "nbgrader": {
     "checksum": "dfac933130da34d2c6060efc07e12166",
     "grade": true,
     "grade_id": "expdecay_4",
     "locked": true,
     "points": 1,
     "schema_version": 1,
     "solution": false
    }
   },
   "outputs": [],
   "source": [
    "assert np.isclose(inner_expdecay([1,-1,0,1],[-1/4,0,0.3,0,1]), 3.05*C, rtol=1e-12, atol=1e-12)"
   ]
  },
  {
   "cell_type": "markdown",
   "metadata": {},
   "source": [
    "### 1.4 Base de polinômios"
   ]
  },
  {
   "cell_type": "code",
   "execution_count": null,
   "metadata": {
    "deletable": false,
    "editable": false,
    "nbgrader": {
     "checksum": "e9451d689a6f56137d190a685c7f1e76",
     "grade": false,
     "grade_id": "cell-02eb4670ec25d25c",
     "locked": true,
     "schema_version": 1,
     "solution": false
    }
   },
   "outputs": [],
   "source": [
    "# Código para Gram-Scmidt\n",
    "def resto(v, us, inner):\n",
    "    prods = [inner(v,u)*u for u in us]\n",
    "    vv = v - np.sum(prods, axis=0)\n",
    "    return vv/np.sqrt(inner(vv,vv))\n",
    "    \n",
    "def gram_schmidt(vs, inner):\n",
    "    \"\"\"Retorna vetores ortognais com relação ao produto interno `inner`,\n",
    "    a partir de uma coleção de vetores independentes em `vs`.\"\"\"\n",
    "    us = []\n",
    "    while len(vs) > 0:\n",
    "        v = vs[0]\n",
    "        vv = resto(v, us, inner)\n",
    "        us.append(vv)\n",
    "        vs = vs[1:]\n",
    "    return us"
   ]
  },
  {
   "cell_type": "markdown",
   "metadata": {},
   "source": [
    "Escreva a função `findbase`, que retorna os $n$ primeiros polinômios ortogonais para o produto interno `inner`."
   ]
  },
  {
   "cell_type": "code",
   "execution_count": null,
   "metadata": {
    "deletable": false,
    "nbgrader": {
     "checksum": "cb63f60dcf889a32abc409581f0ab4c7",
     "grade": false,
     "grade_id": "findbase",
     "locked": false,
     "schema_version": 1,
     "solution": true
    }
   },
   "outputs": [],
   "source": [
    "def findbase(n,inner):\n",
    "    \"\"\"Retorna os coeficientes dos $n$ primeiros polinômios ortogonais para o produto interno dado por `inner`.\"\"\"\n",
    "    # YOUR CODE HERE\n",
    "    raise NotImplementedError()"
   ]
  },
  {
   "cell_type": "code",
   "execution_count": null,
   "metadata": {},
   "outputs": [],
   "source": [
    "base_3 = findbase(3, inner=inner_expdecay)\n",
    "for deg, p in enumerate(base_3):\n",
    "    print('{} -> {}'.format(deg, p))"
   ]
  },
  {
   "cell_type": "code",
   "execution_count": null,
   "metadata": {
    "deletable": false,
    "editable": false,
    "nbgrader": {
     "checksum": "a652dcd162f84e5b58121f3164e27f7c",
     "grade": true,
     "grade_id": "findbase_norm1",
     "locked": true,
     "points": 2,
     "schema_version": 1,
     "solution": false
    }
   },
   "outputs": [],
   "source": [
    "base_3 = findbase(3, inner=inner_expdecay)\n",
    "for p in base_3:\n",
    "    assert np.isclose(inner_expdecay(p,p), 1, rtol=1e-12, atol=1e-12)"
   ]
  },
  {
   "cell_type": "code",
   "execution_count": null,
   "metadata": {
    "deletable": false,
    "editable": false,
    "nbgrader": {
     "checksum": "d99f7296e98a15e40987fbcc713826ab",
     "grade": true,
     "grade_id": "findbase_orth",
     "locked": true,
     "points": 1,
     "schema_version": 1,
     "solution": false
    }
   },
   "outputs": [],
   "source": [
    "base_3 = findbase(3, inner=inner_expdecay)\n",
    "assert np.isclose(inner_expdecay(base_3[0], base_3[1]), 0, rtol=1e-12, atol=1e-12)"
   ]
  },
  {
   "cell_type": "code",
   "execution_count": null,
   "metadata": {
    "deletable": false,
    "editable": false,
    "nbgrader": {
     "checksum": "fc7244d4ae2281ba2a549309a6de27cc",
     "grade": true,
     "grade_id": "findbase_orth2",
     "locked": true,
     "points": 1,
     "schema_version": 1,
     "solution": false
    }
   },
   "outputs": [],
   "source": [
    "base_3 = findbase(3, inner=inner_expdecay)\n",
    "assert np.isclose(inner_expdecay(base_3[0], base_3[2]), 0, rtol=1e-12, atol=1e-12)\n",
    "assert np.isclose(inner_expdecay(base_3[2], base_3[1]), 0, rtol=1e-12, atol=1e-12)"
   ]
  },
  {
   "cell_type": "markdown",
   "metadata": {},
   "source": [
    "### 1.5 Gráficos"
   ]
  },
  {
   "cell_type": "markdown",
   "metadata": {},
   "source": [
    "Faça o gráfico dos polinômios ortogonais de graus 7 e 8.\n",
    "Faça, também, o gráfico das funções interpoladoras correspondentes,\n",
    "que incorporam o fator $\\exp(-t^2/4)$."
   ]
  },
  {
   "cell_type": "code",
   "execution_count": null,
   "metadata": {},
   "outputs": [],
   "source": [
    "base_10 = findbase(10, inner=inner_expdecay)"
   ]
  },
  {
   "cell_type": "code",
   "execution_count": null,
   "metadata": {
    "deletable": false,
    "nbgrader": {
     "checksum": "e788be863f667b859e71fc350acf5d65",
     "grade": true,
     "grade_id": "graph_p",
     "locked": false,
     "points": 2,
     "schema_version": 1,
     "solution": true
    }
   },
   "outputs": [],
   "source": [
    "ts = np.linspace(-8,8,400)\n",
    "_, [ax1, ax2] = plt.subplots(ncols=2, figsize=(13,4))\n",
    "# YOUR CODE HERE\n",
    "raise NotImplementedError()\n",
    "plt.show()"
   ]
  },
  {
   "cell_type": "markdown",
   "metadata": {},
   "source": [
    "O que estes gráficos sugerem quanto aos zeros dos polinômios?\n",
    "Isso é esperado?"
   ]
  },
  {
   "cell_type": "markdown",
   "metadata": {
    "deletable": false,
    "nbgrader": {
     "checksum": "b662d4c3ec0c44cd942c1b38bd0db06e",
     "grade": true,
     "grade_id": "roots",
     "locked": false,
     "points": 3,
     "schema_version": 1,
     "solution": true
    }
   },
   "source": [
    "YOUR ANSWER HERE"
   ]
  },
  {
   "cell_type": "markdown",
   "metadata": {},
   "source": [
    "# Parte 2: Aproximando recorrências\n",
    "\n",
    "Nesta parte, vamos estudar a velocidade com que uma sequência tende a zero.\n",
    "A ideia é relativamente simples:\n",
    "- geramos uma boa quantidade de elementos (100, 1000, 10000)\n",
    "- observamos a velocidade de decaimento com gráficos\n",
    "- fazemos um ajuste com uma base de funções adaptada"
   ]
  },
  {
   "cell_type": "markdown",
   "metadata": {},
   "source": [
    "## 2.1 Gerando elementos"
   ]
  },
  {
   "cell_type": "markdown",
   "metadata": {},
   "source": [
    "A sequência $g_n$ é definida pela recorrência\n",
    "$$n \\, g_n = \\displaystyle \\sum_{k=0}^{n-1} \\frac{g_k}{n-k} \\quad \\text{para $n > 0$}.$$"
   ]
  },
  {
   "cell_type": "markdown",
   "metadata": {},
   "source": [
    "Escreva uma função `listgs(N, g0)` que retorna uma lista com $N$ termos, dado o valor de $g_0$."
   ]
  },
  {
   "cell_type": "code",
   "execution_count": null,
   "metadata": {
    "deletable": false,
    "nbgrader": {
     "checksum": "99a33c78cde70397bcaf64fc0e731af9",
     "grade": false,
     "grade_id": "listgs",
     "locked": false,
     "schema_version": 1,
     "solution": true
    }
   },
   "outputs": [],
   "source": [
    "def listgs(N, g0=1.0):\n",
    "    if N == 0: return []\n",
    "    # YOUR CODE HERE\n",
    "    raise NotImplementedError()"
   ]
  },
  {
   "cell_type": "code",
   "execution_count": null,
   "metadata": {},
   "outputs": [],
   "source": [
    "listgs(10)"
   ]
  },
  {
   "cell_type": "code",
   "execution_count": null,
   "metadata": {
    "deletable": false,
    "editable": false,
    "nbgrader": {
     "checksum": "d19a207d156ff3e126c8104244f2f3e3",
     "grade": true,
     "grade_id": "listgs_13",
     "locked": true,
     "points": 2,
     "schema_version": 1,
     "solution": false
    }
   },
   "outputs": [],
   "source": [
    "l = listgs(10)\n",
    "assert l[1] == 1\n",
    "assert l[3] == 19/36"
   ]
  },
  {
   "cell_type": "code",
   "execution_count": null,
   "metadata": {
    "deletable": false,
    "editable": false,
    "nbgrader": {
     "checksum": "9897f775e78dd7792c59fd92439de144",
     "grade": true,
     "grade_id": "listgs_8",
     "locked": true,
     "points": 1,
     "schema_version": 1,
     "solution": false
    }
   },
   "outputs": [],
   "source": [
    "l = listgs(10)\n",
    "assert np.isclose(l[8], 0.11604132712112623, rtol=1e-12, atol=1e-12)"
   ]
  },
  {
   "cell_type": "markdown",
   "metadata": {},
   "source": [
    "As medidas de tempo abaixo deveriam rodar em menos de 1 segundo,\n",
    "mas não valem ponto: o importante é passar nos asserts abaixo ;-)"
   ]
  },
  {
   "cell_type": "code",
   "execution_count": null,
   "metadata": {},
   "outputs": [],
   "source": [
    "%time l = listgs(100)\n",
    "%time l = listgs(200)\n",
    "%time l = listgs(400)"
   ]
  },
  {
   "cell_type": "code",
   "execution_count": null,
   "metadata": {
    "deletable": false,
    "editable": false,
    "nbgrader": {
     "checksum": "9af20b076446a6b37cecc3ec300a89f2",
     "grade": true,
     "grade_id": "listgs_len",
     "locked": true,
     "points": 1,
     "schema_version": 1,
     "solution": false
    }
   },
   "outputs": [],
   "source": [
    "for n in np.random.randint(low=30, high=200, size=8):\n",
    "    assert len(listgs(n)) == n"
   ]
  },
  {
   "cell_type": "code",
   "execution_count": null,
   "metadata": {
    "deletable": false,
    "editable": false,
    "nbgrader": {
     "checksum": "98c8c85d321c88903665b98e2f31bf63",
     "grade": true,
     "grade_id": "listgs_dec",
     "locked": true,
     "points": 1,
     "schema_version": 1,
     "solution": false
    }
   },
   "outputs": [],
   "source": [
    "# A sequência é decrescente\n",
    "l = listgs(200)\n",
    "prev = 1\n",
    "for li in l[2:]:\n",
    "    assert li < prev\n",
    "    prev = li"
   ]
  },
  {
   "cell_type": "markdown",
   "metadata": {},
   "source": [
    "## 2.2 Vendo a sequência\n",
    "\n",
    "Agora, faça os gráficos em escala linear e logarítmica, dos elementos de $g$ até 200."
   ]
  },
  {
   "cell_type": "code",
   "execution_count": null,
   "metadata": {
    "deletable": false,
    "nbgrader": {
     "checksum": "02536035a79f2edfc257f621429c891c",
     "grade": true,
     "grade_id": "listgs_graph",
     "locked": false,
     "points": 3,
     "schema_version": 1,
     "solution": true
    }
   },
   "outputs": [],
   "source": [
    "gs = listgs(200)\n",
    "# YOUR CODE HERE\n",
    "raise NotImplementedError()"
   ]
  },
  {
   "cell_type": "markdown",
   "metadata": {},
   "source": [
    "Sabemos que a sequência $g_n$ tende a zero, e com velocidade $1/n^2$.\n",
    "Em qual dos gráficos isso é mais visível?"
   ]
  },
  {
   "cell_type": "markdown",
   "metadata": {
    "deletable": false,
    "nbgrader": {
     "checksum": "99ed2062163cb4269c1526b5e239ef4a",
     "grade": true,
     "grade_id": "graphs_visible",
     "locked": false,
     "points": 2,
     "schema_version": 1,
     "solution": true
    }
   },
   "source": [
    "YOUR ANSWER HERE"
   ]
  },
  {
   "cell_type": "markdown",
   "metadata": {},
   "source": [
    "Desprezando alguns dos termos do início da sequência,\n",
    "faça um outro gráfico que mostre melhor ainda esta velocidade de convergência."
   ]
  },
  {
   "cell_type": "code",
   "execution_count": null,
   "metadata": {
    "deletable": false,
    "nbgrader": {
     "checksum": "ee977537c2c2c8fda5a3d1b30c0fe1a4",
     "grade": true,
     "grade_id": "better_graph",
     "locked": false,
     "points": 2,
     "schema_version": 1,
     "solution": true
    }
   },
   "outputs": [],
   "source": [
    "ns = np.arange(200)\n",
    "# YOUR CODE HERE\n",
    "raise NotImplementedError()"
   ]
  },
  {
   "cell_type": "markdown",
   "metadata": {},
   "source": [
    "## 2.3 Um primeiro ajuste\n",
    "\n",
    "Na escala correta, e sem alguns termos iniciais, o gráfico de $g_n$ em função de $n$ fica próximo a uma reta.\n",
    "Encontre o coeficiente angular desta reta, através de uma regressão.\n",
    "\n",
    "Pense bem quais são os pontos $xs$ e $ys$ que vão ser interpolados!"
   ]
  },
  {
   "cell_type": "code",
   "execution_count": null,
   "metadata": {
    "deletable": false,
    "nbgrader": {
     "checksum": "0ff34bcd1b62f5d29e197c82edc2a242",
     "grade": true,
     "grade_id": "regressao",
     "locked": false,
     "points": 3,
     "schema_version": 1,
     "solution": true
    }
   },
   "outputs": [],
   "source": [
    "# YOUR CODE HERE\n",
    "raise NotImplementedError()"
   ]
  },
  {
   "cell_type": "markdown",
   "metadata": {},
   "source": [
    "Qual o significado deste coeficiente?"
   ]
  },
  {
   "cell_type": "markdown",
   "metadata": {
    "deletable": false,
    "nbgrader": {
     "checksum": "cc9a24a056c2ac0e819a67aa4df86c24",
     "grade": true,
     "grade_id": "significado_regressao",
     "locked": false,
     "points": 2,
     "schema_version": 1,
     "solution": true
    }
   },
   "source": [
    "YOUR ANSWER HERE"
   ]
  },
  {
   "cell_type": "markdown",
   "metadata": {},
   "source": [
    "## 2.4 Regressão"
   ]
  },
  {
   "cell_type": "markdown",
   "metadata": {},
   "source": [
    "Um problema da interpolação polinomial, neste caso,\n",
    "é que o polinômio tende a infinito quando $n \\to \\infty$,\n",
    "que não tem nada a ver com o comportamento de nossa sequência!\n",
    "\n",
    "Assim, vamos fazer uma regressão: ajustaremos um modelo da forma\n",
    "$$ g_n = \\sum \\frac{c_i}{n^i}. $$"
   ]
  },
  {
   "cell_type": "markdown",
   "metadata": {},
   "source": [
    "Começamos com um modelo simples: já que a ordem parece ser $2$,\n",
    "vamos incluir termos correspondentes a $i = 0, 1, 2, 3, 4$, e encontrar 5 coeficientes.\n",
    "Isto pode ser escrito como uma equação matricial $$ M c = g $$\n",
    "para encontrar os coeficientes $c_i$."
   ]
  },
  {
   "cell_type": "markdown",
   "metadata": {},
   "source": [
    "Escreva a função `model_M` que monta a matriz (transposta) das equações de regressão deste modelo, a partir dos nós.\n",
    "A utilidade da transposta será vista mais à frente."
   ]
  },
  {
   "cell_type": "code",
   "execution_count": null,
   "metadata": {
    "deletable": false,
    "nbgrader": {
     "checksum": "90acb28537c33afa93dc44b3744c7a36",
     "grade": false,
     "grade_id": "model_M",
     "locked": false,
     "schema_version": 1,
     "solution": true
    }
   },
   "outputs": [],
   "source": [
    "def model_M(ts):\n",
    "    # Retorna a matriz correspondente ao sistema linear\n",
    "    # YOUR CODE HERE\n",
    "    raise NotImplementedError()"
   ]
  },
  {
   "cell_type": "code",
   "execution_count": null,
   "metadata": {},
   "outputs": [],
   "source": [
    "ts = np.array([10.,11.,12.])\n",
    "model_M(ts)"
   ]
  },
  {
   "cell_type": "code",
   "execution_count": null,
   "metadata": {
    "deletable": false,
    "editable": false,
    "nbgrader": {
     "checksum": "23316e253e3b1a71fab8dc6ef32bc2c0",
     "grade": true,
     "grade_id": "model_M_shape",
     "locked": true,
     "points": 1,
     "schema_version": 1,
     "solution": false
    }
   },
   "outputs": [],
   "source": [
    "ts = np.array([10.,11.,12.])\n",
    "assert model_M(ts).shape == (5,3)"
   ]
  },
  {
   "cell_type": "code",
   "execution_count": null,
   "metadata": {
    "deletable": false,
    "editable": false,
    "nbgrader": {
     "checksum": "b9d03cf8c9044c8492807721b2b464bc",
     "grade": true,
     "grade_id": "model_M_lines",
     "locked": true,
     "points": 2,
     "schema_version": 1,
     "solution": false
    }
   },
   "outputs": [],
   "source": [
    "ts = np.array([10.,11.,12.])\n",
    "assert np.all(model_M(ts)[0,:] == [1,1,1])\n",
    "assert np.all(model_M(ts)[3,:] == ts**(-3))"
   ]
  },
  {
   "cell_type": "markdown",
   "metadata": {},
   "source": [
    "A função `model_par` resolve o sistema de mínimos quadrados para a regressão.\n",
    "Ela já usa o fato que $M$ será dada transposta."
   ]
  },
  {
   "cell_type": "code",
   "execution_count": null,
   "metadata": {
    "deletable": false,
    "editable": false,
    "nbgrader": {
     "checksum": "d83e7a8f987096bdfbbd2f49e9c18767",
     "grade": false,
     "grade_id": "cell-42df2db3e69360b0",
     "locked": true,
     "schema_version": 1,
     "solution": false
    }
   },
   "outputs": [],
   "source": [
    "def model_par(ts,ys):\n",
    "    # Calcula os parâmetros para os dados (t_i, y_i), resolvendo o sistema linear\n",
    "    M = model_M(ts)\n",
    "    coefs, _, _, _ = np.linalg.lstsq(M.T, ys)\n",
    "    return coefs"
   ]
  },
  {
   "cell_type": "markdown",
   "metadata": {},
   "source": [
    "Vejamos os coeficientes correspondentes ao ajuste dos coeficientes $c_i$ aos valores de $g_n$ com $n \\ge 50$:"
   ]
  },
  {
   "cell_type": "code",
   "execution_count": null,
   "metadata": {
    "deletable": false,
    "editable": false,
    "nbgrader": {
     "checksum": "4c8a7d5896607857d04d1bc0acca26e9",
     "grade": true,
     "grade_id": "par50",
     "locked": true,
     "points": 1,
     "schema_version": 1,
     "solution": false
    }
   },
   "outputs": [],
   "source": [
    "par50 = model_par(ns[50:], gs[50:])\n",
    "assert np.allclose( par50, [6.57866942e-07, -4.18061360e-04, 5.31238434, 43.8474307, -253.419214] )"
   ]
  },
  {
   "cell_type": "code",
   "execution_count": null,
   "metadata": {},
   "outputs": [],
   "source": [
    "par50"
   ]
  },
  {
   "cell_type": "markdown",
   "metadata": {},
   "source": [
    "Alguns coeficientes são grandes, outros pequenos.\n",
    "Ajuste agora para $n \\ge 100$."
   ]
  },
  {
   "cell_type": "code",
   "execution_count": null,
   "metadata": {
    "deletable": false,
    "editable": false,
    "nbgrader": {
     "checksum": "99bacde3200a8eedf1a4ab0b850b1870",
     "grade": true,
     "grade_id": "par100",
     "locked": true,
     "points": 1,
     "schema_version": 1,
     "solution": false
    }
   },
   "outputs": [],
   "source": [
    "par100 = model_par(ns[100:], gs[100:])\n",
    "assert np.allclose(par100, [2.46712634e-07, -2.15314040e-04, 5.27599121, 46.6782960, -334.410465])"
   ]
  },
  {
   "cell_type": "code",
   "execution_count": null,
   "metadata": {},
   "outputs": [],
   "source": [
    "par100"
   ]
  },
  {
   "cell_type": "markdown",
   "metadata": {},
   "source": [
    "O que aconteceu?"
   ]
  },
  {
   "cell_type": "markdown",
   "metadata": {
    "deletable": false,
    "nbgrader": {
     "checksum": "37c7a7d7ea639ce2d8558a46c272190d",
     "grade": true,
     "grade_id": "par50_vs_100",
     "locked": false,
     "points": 2,
     "schema_version": 1,
     "solution": true
    }
   },
   "source": [
    "YOUR ANSWER HERE"
   ]
  },
  {
   "cell_type": "markdown",
   "metadata": {},
   "source": [
    "## 2.5 Vendo as componentes da regressão\n",
    "\n",
    "Para entender a contribuição de cada coeficiente, não basta, em geral, olhar para o seu valor.\n",
    "Devemos ver o tamanho das **funções** correspondentes a cada coeficiente, no intervalo interpolado.\n",
    "\n",
    "Escreva a função `plot_components(ts, coefs)`, que faz o gráfico, no mesmo eixo,\n",
    "de cada um dos termos $\\displaystyle \\frac{c_i}{n^i}$ que compõem a interpolação para os valores de $n$ em `ts`.\n",
    "\n",
    "Dica: a função `model_M` já calcula os valores de cada termo em função de $n$,\n",
    "basta acrescentar os coeficientes!"
   ]
  },
  {
   "cell_type": "code",
   "execution_count": null,
   "metadata": {},
   "outputs": [],
   "source": [
    "# Se você não calculou par50 e par100 corretos, você pode usar estes valores para os coeficientes $c_i$ em ordem.\n",
    "par50  = np.array([6.57866942e-07, -4.18061360e-04, 5.31238434, 43.8474307, -253.419214])\n",
    "par100 = np.array([2.46712634e-07, -2.15314040e-04, 5.27599121, 46.6782960, -334.410465])"
   ]
  },
  {
   "cell_type": "code",
   "execution_count": null,
   "metadata": {
    "deletable": false,
    "nbgrader": {
     "checksum": "19bada44f79b670daf90d7a41e6b1686",
     "grade": true,
     "grade_id": "plot_components",
     "locked": false,
     "points": 3,
     "schema_version": 1,
     "solution": true
    }
   },
   "outputs": [],
   "source": [
    "def plot_components(ts, coefs):\n",
    "    i = 0 # Para legenda ;-)\n",
    "    # YOUR CODE HERE\n",
    "    raise NotImplementedError()"
   ]
  },
  {
   "cell_type": "code",
   "execution_count": null,
   "metadata": {},
   "outputs": [],
   "source": [
    "plot_components(ns[50:], par50)\n",
    "plt.legend(loc='center left', bbox_to_anchor=(1., 0.5))\n",
    "plt.show()"
   ]
  },
  {
   "cell_type": "code",
   "execution_count": null,
   "metadata": {},
   "outputs": [],
   "source": [
    "plot_components(ns[100:], model_par(ns[100:], gs[100:]))\n",
    "plt.legend(loc='center left', bbox_to_anchor=(1., 0.5))\n",
    "plt.show()"
   ]
  },
  {
   "cell_type": "markdown",
   "metadata": {},
   "source": [
    "O que já é possível concluir a partir destes dois gráficos, sobre os termos que compõem a regressão de $g_n$?"
   ]
  },
  {
   "cell_type": "markdown",
   "metadata": {
    "deletable": false,
    "nbgrader": {
     "checksum": "c15b4fd42c10579ee6f8749f9af19b14",
     "grade": true,
     "grade_id": "termos_gn",
     "locked": false,
     "points": 2,
     "schema_version": 1,
     "solution": true
    }
   },
   "source": [
    "YOUR ANSWER HERE"
   ]
  },
  {
   "cell_type": "markdown",
   "metadata": {},
   "source": [
    "Refaça a função `plot_components` para passar\n",
    "- um estilo de linha diferente,\n",
    "- um nome diferente para cada caso (para a legenda)\n",
    "\n",
    "Assim, podemos **sobrepor** os gráficos acima, para comparar melhor."
   ]
  },
  {
   "cell_type": "code",
   "execution_count": null,
   "metadata": {
    "deletable": false,
    "nbgrader": {
     "checksum": "3fb2de1e36153ee1d4a41dc859a9deaf",
     "grade": true,
     "grade_id": "plot_components_args",
     "locked": false,
     "points": 2,
     "schema_version": 1,
     "solution": true
    }
   },
   "outputs": [],
   "source": [
    "def plot_components(ts, coefs, ls='-', case=''):\n",
    "    i = 0\n",
    "    # YOUR CODE HERE\n",
    "    raise NotImplementedError()"
   ]
  },
  {
   "cell_type": "code",
   "execution_count": null,
   "metadata": {
    "deletable": false,
    "editable": false,
    "nbgrader": {
     "checksum": "6aafad8f5760b0d67d8db33b2b3c7a5f",
     "grade": false,
     "grade_id": "cell-b3baff5d71dc0bd4",
     "locked": true,
     "schema_version": 1,
     "solution": false
    }
   },
   "outputs": [],
   "source": [
    "plt.figure(figsize=(8,4))\n",
    "plot_components(ns[50:], model_par(ns[50:], gs[50:]), case=50)\n",
    "plot_components(ns[100:], model_par(ns[100:], gs[100:]), case=100, ls='--')\n",
    "plt.legend(loc='center left', bbox_to_anchor=(1., 0.5))\n",
    "plt.show()"
   ]
  },
  {
   "cell_type": "markdown",
   "metadata": {},
   "source": [
    "Quais coeficientes parecem estar corretos, ou próximos disto?\n",
    "O comportamento das componentes de ordens 0 e 1 é razoável?"
   ]
  },
  {
   "cell_type": "markdown",
   "metadata": {
    "deletable": false,
    "nbgrader": {
     "checksum": "c35aba6aaa816ec866e2e20a89820d18",
     "grade": true,
     "grade_id": "final_comms",
     "locked": false,
     "points": 2,
     "schema_version": 1,
     "solution": true
    }
   },
   "source": [
    "YOUR ANSWER HERE"
   ]
  }
 ],
 "metadata": {
  "kernelspec": {
   "display_name": "Python 3",
   "language": "python",
   "name": "python3"
  },
  "language_info": {
   "codemirror_mode": {
    "name": "ipython",
    "version": 3
   },
   "file_extension": ".py",
   "mimetype": "text/x-python",
   "name": "python",
   "nbconvert_exporter": "python",
   "pygments_lexer": "ipython3",
   "version": "3.4.6"
  }
 },
 "nbformat": 4,
 "nbformat_minor": 2
}
