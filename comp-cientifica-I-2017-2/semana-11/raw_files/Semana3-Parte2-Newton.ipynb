{
 "cells": [
  {
   "cell_type": "markdown",
   "metadata": {},
   "source": [
    "![CC-BY-SA](https://mirrors.creativecommons.org/presskit/buttons/88x31/svg/by-sa.svg)\n",
    "This notebook was created by [Bernardo Freitas Paulo da Costa](http://www.im.ufrj.br/bernardofpc),\n",
    "and is licensed under Creative Commons BY-SA"
   ]
  },
  {
   "cell_type": "markdown",
   "metadata": {},
   "source": [
    "# O método de Newton para calcular raízes\n",
    "\n",
    "O método da bisseção é bastante geral (funciona para qualquer função contínua!),\n",
    "e converge \"geométricamente rápido\": o erro na etapa $n+1$ será, aproximadamente,\n",
    "a metade do erro da etapa anterior.\n",
    "\n",
    "Para funções cuja derivada é conhecida, entretanto,\n",
    "o _método de Newton_ é uma alternativa muito poderosa,\n",
    "pois converge com maior velocidade.\n",
    "Além disso, ele dispensa conhecer dois pontos onde o sinal da função seja diferente.\n",
    "Vejamos como ele funciona."
   ]
  },
  {
   "cell_type": "markdown",
   "metadata": {},
   "source": [
    "## Idéia geométrica\n",
    "\n",
    "Dado um ponto $(x,f(x))$ no gráfico de $f$, se traçarmos a tangente,\n",
    "esta será uma boa aproximação da função \"perto\" de $x$.\n",
    "Assim, seguimos esta reta tangente até que ela encontre o eixo-$x$ no ponto $(z,0)$,\n",
    "esperando que esta interseção esteja próxima da verdadeira raiz,\n",
    "que é a interseção da _curva_ descrita por $f$ e o eixo-$x$.\n",
    "\n",
    "Em fórmulas, temos:\n",
    "$$ (z,0) \\in T = \\big\\{ (x, f(x)) + t (1, f'(x)) \\mid t \\in R \\big\\} $$\n",
    "para o ponto $(z,0)$ que está na reta tangente $T$ e também no eixo-$x$\n",
    "(pois sua coordenada $y = 0$).\n",
    "Resolvendo o sistema, encontramos\n",
    "$$ z = x - \\frac{f(x)}{f'(x)}. $$"
   ]
  },
  {
   "cell_type": "markdown",
   "metadata": {},
   "source": [
    "A presença de $f'(x)$ no denominador mostra que este método funciona **mal**\n",
    "quando está próximo de uma raiz de $f'$.\n",
    "Além disso, o método de Newton não fornece um \"intervalo de confiança\" como no caso da bisseção.\n",
    "\n",
    "Assim, é muito importante ter aqui um critério de convergência para poder parar as iterações.\n",
    "Em geral, este pode ser dado por três diferentes parâmetros:\n",
    "\n",
    "- O número de iterações feitas: se estamos calculando \"há muito tempo\", talvez o método esteja \"perdido\"\n",
    "- A distância de $f(x)$ para zero: talvez já tenhamos calculado algo suficientemente próximo de uma raiz,\n",
    "    se $\\lvert f(x)\\rvert \\ll 1$\n",
    "- A distância de $x$ para um zero: se a diferença entre dois pontos sucessivos ($x$ e $z$ no nosso exemplo)\n",
    "    for pequena, então é _provável_ que estejamos perto de uma raiz."
   ]
  },
  {
   "cell_type": "markdown",
   "metadata": {},
   "source": [
    "## Impementação\n",
    "\n",
    "Para programar o método de Newton como uma função recursiva,\n",
    "podemos fazer um paralelo com o método da bisseção.\n",
    "No caso da bisseção, a cada etapa testávamos se a aproximação já estava suficientemente perto\n",
    "(por exemplo, se uma estimativa do erro absoluto fosse pequena),\n",
    "e caso contrário dividíamos o intervalo por 2 para continuar buscando a raiz.\n",
    "\n",
    "Aqui, também vamos estimar o erro (só que desta vez não há mais _garantia_ de que o erro será menor do que a estimativa),\n",
    "e, se este ainda for \"grande\", vamos produzir um novo ponto (usando a tangente) para continuar buscando uma raiz."
   ]
  },
  {
   "cell_type": "code",
   "execution_count": 1,
   "metadata": {
    "collapsed": true
   },
   "outputs": [],
   "source": [
    "def newton(f,df,x, prec=1e-8, maxiter=100):\n",
    "    if maxiter == 0:\n",
    "        return None\n",
    "    dx = f(x)/df(x)\n",
    "    newx = x - dx\n",
    "    \n",
    "    if abs(dx) < prec:\n",
    "        return newx\n",
    "    else:\n",
    "        return newton(f,df,newx, prec,maxiter-1)"
   ]
  },
  {
   "cell_type": "code",
   "execution_count": 2,
   "metadata": {
    "collapsed": true
   },
   "outputs": [],
   "source": [
    "from math import sin, cos, pi"
   ]
  },
  {
   "cell_type": "code",
   "execution_count": 3,
   "metadata": {
    "collapsed": true
   },
   "outputs": [],
   "source": [
    "def d_cos(x):\n",
    "    return -sin(x)"
   ]
  },
  {
   "cell_type": "code",
   "execution_count": 4,
   "metadata": {},
   "outputs": [
    {
     "data": {
      "text/plain": [
       "1.5707963267948966"
      ]
     },
     "execution_count": 4,
     "metadata": {},
     "output_type": "execute_result"
    }
   ],
   "source": [
    "newton(cos, d_cos, 2)"
   ]
  },
  {
   "cell_type": "code",
   "execution_count": 5,
   "metadata": {},
   "outputs": [
    {
     "data": {
      "text/plain": [
       "0.0"
      ]
     },
     "execution_count": 5,
     "metadata": {},
     "output_type": "execute_result"
    }
   ],
   "source": [
    "# Funciona bem MESMO!\n",
    "_ - pi/2"
   ]
  },
  {
   "cell_type": "markdown",
   "metadata": {},
   "source": [
    "## Usando `print` e `format`\n",
    "\n",
    "Vamos escrever uma função para nos ajudar a fazer os testes do método de Newton, e comparar com a bisseção.\n",
    "Como desejamos comparar os valores retornados por ambos os métodos,\n",
    "é importante que estes sejam fáceis de ler na tela.\n",
    "\n",
    "O mecanismo do `Out[]` do IPython (onde bastaria que retornássemos alguns valores) é bastante útil,\n",
    "mas obriga a lembrar todo o contexto.\n",
    "Com `print`, podemos incluir informações textuais a mais,\n",
    "além de formatar os valores de maneira uniforme (usando `.format()` ou `%`),\n",
    "o que ajuda a comparação.\n",
    "\n",
    "- Exemplos: de usos [mais comuns][mkaz], e os [oficiais do Python][py-ex]\n",
    "- Referência: [a documentação do Python][doc]\n",
    "\n",
    "[py-ex]: https://docs.python.org/3/library/string.html#format-examples\n",
    "[doc]:   https://docs.python.org/3/library/string.html#format-string-syntax\n",
    "[mkaz]:  https://mkaz.github.io/2012/10/10/python-string-format/"
   ]
  },
  {
   "cell_type": "code",
   "execution_count": 6,
   "metadata": {
    "collapsed": true
   },
   "outputs": [],
   "source": [
    "from rootfinding import bissection"
   ]
  },
  {
   "cell_type": "code",
   "execution_count": 7,
   "metadata": {
    "collapsed": true
   },
   "outputs": [],
   "source": [
    "def testar(f,df,a,b):\n",
    "    x = bissection(f,a,b, tol=1e-10)\n",
    "    y = newton(f,df,a,  prec=1e-10)\n",
    "    print('''\\\n",
    "Bisseção: z ~= {: 18.10e} (f(z) = {: .8f})\n",
    "Newton  : z ~= {: 18.10e} (f(z) = {: .8f})'''.format(x,f(x),y,f(y)))"
   ]
  },
  {
   "cell_type": "code",
   "execution_count": 8,
   "metadata": {},
   "outputs": [
    {
     "name": "stdout",
     "output_type": "stream",
     "text": [
      "Bisseção: z ~=   3.1415926536e+00 (f(z) = -0.00000000)\n",
      "Newton  : z ~=   0.0000000000e+00 (f(z) =  0.00000000)\n"
     ]
    }
   ],
   "source": [
    "testar(sin,cos,1,4)"
   ]
  },
  {
   "cell_type": "code",
   "execution_count": 9,
   "metadata": {
    "collapsed": true
   },
   "outputs": [],
   "source": [
    "def f(x): return x**3 - 2\n",
    "def df(x): return 3*x**2"
   ]
  },
  {
   "cell_type": "code",
   "execution_count": 10,
   "metadata": {},
   "outputs": [
    {
     "name": "stdout",
     "output_type": "stream",
     "text": [
      "Bisseção: z ~=   1.2500000000e+00 (f(z) = -0.04687500)\n",
      "Newton  : z ~=   1.2599210499e+00 (f(z) =  0.00000000)\n"
     ]
    }
   ],
   "source": [
    "testar(f,df,2.5,0)"
   ]
  },
  {
   "cell_type": "markdown",
   "metadata": {},
   "source": [
    "### Exercício\n",
    "\n",
    "Modifique os métodos da bisseção e de Newton para que eles retornem também o número total de vezes que a função \"entrou\" na recursão, e use essa informação numa nova função `testar`."
   ]
  },
  {
   "cell_type": "code",
   "execution_count": 11,
   "metadata": {
    "collapsed": true
   },
   "outputs": [],
   "source": [
    "def newton(f,df,x, prec=1e-8, maxiter=100):\n",
    "    ### Resposta aqui\n"
   ]
  },
  {
   "cell_type": "code",
   "execution_count": 12,
   "metadata": {
    "collapsed": true
   },
   "outputs": [],
   "source": [
    "def bissecao(f,a,b,prec=1e-8):\n",
    "    ### Resposta aqui\n"
   ]
  },
  {
   "cell_type": "code",
   "execution_count": 13,
   "metadata": {
    "collapsed": true
   },
   "outputs": [],
   "source": [
    "def testar(f,df,a,b):\n",
    "    ### Resposta aqui\n"
   ]
  },
  {
   "cell_type": "code",
   "execution_count": 14,
   "metadata": {},
   "outputs": [
    {
     "name": "stdout",
     "output_type": "stream",
     "text": [
      "Bisseção: z ~=   3.1415926536e+00 (f(z) = -0.00000000) in  37 iterations\n",
      "Newton  : z ~=   3.1415926536e+00 (f(z) =  0.00000000) in   6 iterations\n"
     ]
    }
   ],
   "source": [
    "testar(sin,cos,2,4)"
   ]
  },
  {
   "cell_type": "code",
   "execution_count": 15,
   "metadata": {},
   "outputs": [
    {
     "name": "stdout",
     "output_type": "stream",
     "text": [
      "Bisseção: z ~=   1.2599210499e+00 (f(z) = -0.00000000) in  37 iterations\n",
      "Newton  : z ~=   1.2599210499e+00 (f(z) =  0.00000000) in   7 iterations\n"
     ]
    }
   ],
   "source": [
    "testar(f,df,2.5,0)"
   ]
  },
  {
   "cell_type": "markdown",
   "metadata": {},
   "source": [
    "### Exercício\n",
    "\n",
    "Modifique o método de Newton para que ele também pare quando o valor de $f(x)$ seja menor do que `y_tol`."
   ]
  },
  {
   "cell_type": "code",
   "execution_count": 16,
   "metadata": {
    "collapsed": true
   },
   "outputs": [],
   "source": [
    "def newton(f,df,x, prec=1e-8, tol=1e-8, maxiter=100):\n",
    "    ### Resposta aqui\n"
   ]
  },
  {
   "cell_type": "code",
   "execution_count": 17,
   "metadata": {},
   "outputs": [
    {
     "name": "stdout",
     "output_type": "stream",
     "text": [
      "Bisseção: z ~=   3.1415926536e+00 (f(z) = -0.00000000) in  37 iterations\n",
      "Newton  : z ~=   3.1415926537e+00 (f(z) = -0.00000000) in   6 iterations\n"
     ]
    }
   ],
   "source": [
    "testar(sin,cos,2,4)"
   ]
  },
  {
   "cell_type": "markdown",
   "metadata": {},
   "source": [
    "Quantos \"casos base\" para a recorrência esta função possui?"
   ]
  }
 ],
 "metadata": {
  "kernelspec": {
   "display_name": "Python 3",
   "language": "python",
   "name": "python3"
  },
  "language_info": {
   "codemirror_mode": {
    "name": "ipython",
    "version": 3
   },
   "file_extension": ".py",
   "mimetype": "text/x-python",
   "name": "python",
   "nbconvert_exporter": "python",
   "pygments_lexer": "ipython3",
   "version": "3.4.6"
  }
 },
 "nbformat": 4,
 "nbformat_minor": 1
}
