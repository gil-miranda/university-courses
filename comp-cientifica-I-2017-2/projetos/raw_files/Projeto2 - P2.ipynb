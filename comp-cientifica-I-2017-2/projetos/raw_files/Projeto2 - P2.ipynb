{
 "cells": [
  {
   "cell_type": "markdown",
   "metadata": {},
   "source": [
    "![CC-BY-SA](https://mirrors.creativecommons.org/presskit/buttons/88x31/svg/by-sa.svg)\n",
    "This notebook was created by [Bernardo Freitas Paulo da Costa](http://www.im.ufrj.br/bernardofpc),\n",
    "and is licensed under Creative Commons BY-SA"
   ]
  },
  {
   "cell_type": "markdown",
   "metadata": {},
   "source": [
    "# Vamos melhorar a P2\n",
    "\n",
    "O objetivo é fazer o gráfico da primitiva de várias funções,\n",
    "calculando-as o mínimo possível."
   ]
  },
  {
   "cell_type": "markdown",
   "metadata": {},
   "source": [
    "## Funções que se contam\n",
    "\n",
    "Para ver, sem dúvidas, quantas vezes uma função foi chamada,\n",
    "o mais simples é que ela mesma modifique um contador cada vez que ela é chamada.\n",
    "No nosso caso, com funções vetorizadas do `numpy`, temos que levar em conta duas \"medidas\":\n",
    "- cada vez que a função é chamada,\n",
    "- o número de pontos em que ela foi calculada."
   ]
  },
  {
   "cell_type": "code",
   "execution_count": null,
   "metadata": {},
   "outputs": [],
   "source": [
    "import numpy as np\n",
    "import matplotlib.pyplot as plt"
   ]
  },
  {
   "cell_type": "code",
   "execution_count": null,
   "metadata": {},
   "outputs": [],
   "source": [
    "# Adaptado de http://www.python-course.eu/python3_count_function_calls.php\n",
    "def counted(fn):\n",
    "    def wrapper(xs, *args, **kwargs):\n",
    "        wrapper.called += 1\n",
    "        if isinstance(xs, np.ndarray):\n",
    "            wrapper.nevals += xs.size\n",
    "        elif isinstance(xs, list):\n",
    "            wrapper.nevals += len(xs)\n",
    "        else:\n",
    "            wrapper.nevals += 1\n",
    "        return fn(xs, *args, **kwargs)\n",
    "    wrapper.called = 0\n",
    "    wrapper.nevals = 0\n",
    "    wrapper.__name__= fn.__name__\n",
    "    return wrapper"
   ]
  },
  {
   "cell_type": "markdown",
   "metadata": {},
   "source": [
    "### Exemplo de uso de `counted`:"
   ]
  },
  {
   "cell_type": "code",
   "execution_count": null,
   "metadata": {},
   "outputs": [],
   "source": [
    "seno = counted(np.sin)"
   ]
  },
  {
   "cell_type": "code",
   "execution_count": null,
   "metadata": {},
   "outputs": [],
   "source": [
    "a = np.random.rand(10,30)"
   ]
  },
  {
   "cell_type": "code",
   "execution_count": null,
   "metadata": {},
   "outputs": [],
   "source": [
    "_ = seno(a)\n",
    "seno.called, seno.nevals"
   ]
  },
  {
   "cell_type": "code",
   "execution_count": null,
   "metadata": {},
   "outputs": [],
   "source": [
    "_ = seno([4,4,5])\n",
    "seno.called, seno.nevals"
   ]
  },
  {
   "cell_type": "markdown",
   "metadata": {},
   "source": [
    "# Parte 3\n",
    "\n",
    "Use `np.cumsum` para evitar calcular várias vezes as funções num mesmo ponto:"
   ]
  },
  {
   "cell_type": "code",
   "execution_count": null,
   "metadata": {},
   "outputs": [],
   "source": [
    "def prim_cauchy(f,a,b,n):\n",
    "    \"\"\"Retorna a primitiva de $f$ no intervalo $[a,b]$, calculado em $n$ pontos intermediários via Cauchy.\"\"\"\n",
    "    ### Resposta aqui\n"
   ]
  },
  {
   "cell_type": "code",
   "execution_count": null,
   "metadata": {},
   "outputs": [],
   "source": [
    "# Reset\n",
    "seno.called = 0\n",
    "seno.nevals = 0\n",
    "# Cálculo\n",
    "ts, pri = prim_cauchy(seno, 0, 10, 230)\n",
    "# Esperado: (1, 230)\n",
    "seno.called, seno.nevals"
   ]
  },
  {
   "cell_type": "code",
   "execution_count": null,
   "metadata": {},
   "outputs": [],
   "source": [
    "plt.plot(ts, pri)\n",
    "plt.plot(ts, 1 - np.cos(ts))\n",
    "plt.show()"
   ]
  },
  {
   "cell_type": "markdown",
   "metadata": {},
   "source": [
    "Faça o mesmo para `prim_midpoint` e `prim_simpson`.\n",
    "No caso de Simpson, se você chamar apenas duas vezes a função (com dois vetores) já está bastante bom."
   ]
  },
  {
   "cell_type": "code",
   "execution_count": null,
   "metadata": {},
   "outputs": [],
   "source": [
    "def prim_midpoint(f,a,b,n):\n",
    "    ### Resposta aqui\n"
   ]
  },
  {
   "cell_type": "code",
   "execution_count": null,
   "metadata": {},
   "outputs": [],
   "source": [
    "def prim_simpson(f,a,b,n):\n",
    "    ### Resposta aqui\n"
   ]
  },
  {
   "cell_type": "code",
   "execution_count": null,
   "metadata": {},
   "outputs": [],
   "source": [
    "prim_simpson(seno, 0, 10, 10)"
   ]
  },
  {
   "cell_type": "markdown",
   "metadata": {},
   "source": [
    "Faça agora um gráfico do erro em função de `nevals`, ao mudar $n$ nos três métodos acima.\n",
    "\n",
    "Sugestão: faça três eixos, um para cada método, mas faça várias curvas de erro em cada eixo.\n",
    "Tente também comparar erros para o mesmo valor de `nevals`."
   ]
  },
  {
   "cell_type": "code",
   "execution_count": null,
   "metadata": {},
   "outputs": [],
   "source": [
    "eval_per_int = [1,1,2]\n",
    "meths = [prim_cauchy, prim_midpoint, prim_simpson]\n",
    "names = ['cauchy', 'midpoint', 'simpson']"
   ]
  },
  {
   "cell_type": "code",
   "execution_count": null,
   "metadata": {},
   "outputs": [],
   "source": [
    "### Defina aqui uma função para fazer as contas\n",
    "### Resposta aqui\n"
   ]
  },
  {
   "cell_type": "code",
   "execution_count": null,
   "metadata": {},
   "outputs": [],
   "source": [
    "### Gráficos aqui\n",
    "### Resposta aqui\n"
   ]
  },
  {
   "cell_type": "markdown",
   "metadata": {},
   "source": [
    "Observe o que acontece para outras funções, por exemplo\n",
    "- `np.exp`\n",
    "- `np.log`\n",
    "- ...\n",
    "\n",
    "Uma medida interessante é o erro _relativo_ cometido, não apenas o erro absoluto."
   ]
  },
  {
   "cell_type": "code",
   "execution_count": null,
   "metadata": {},
   "outputs": [],
   "source": [
    "expo = counted(np.exp)"
   ]
  },
  {
   "cell_type": "code",
   "execution_count": null,
   "metadata": {},
   "outputs": [],
   "source": [
    "### Resposta aqui\n"
   ]
  },
  {
   "cell_type": "code",
   "execution_count": null,
   "metadata": {},
   "outputs": [],
   "source": [
    "### Resposta aqui\n"
   ]
  },
  {
   "cell_type": "markdown",
   "metadata": {},
   "source": [
    "# Parte 4\n",
    "\n",
    "Agora, vamos calcular interpoladores também mais eficientes.\n",
    "A estratégia será a seguinte:\n",
    "- Escolher uma \"ordem\" de interpolação $n$, e um grau de \"sobreposição\" $m$;\n",
    "- Obter uma lista de polinômios interpoladores, em grupos sucessivos de pontos calculados via `cumsum` da parte anterior;\n",
    "- Usar `np.piecewise` para escolher qual polinômio usar, para cada ponto em que desejamos aproximar a primitiva."
   ]
  },
  {
   "cell_type": "markdown",
   "metadata": {},
   "source": [
    "## Interpolador por partes, com sobreposição\n",
    "\n",
    "Dados dois números $n > m$, separe os nós `ts` em grupos de $n$ pontos,\n",
    "onde grupos sucessivos contém $m$ pontos em comum.\n",
    "Vamos tentar observar as vantagens e desvantagens de tomar $m$ grande."
   ]
  },
  {
   "cell_type": "code",
   "execution_count": null,
   "metadata": {},
   "outputs": [],
   "source": [
    "def particionar(xs,n,m):\n",
    "    \"\"\"Particiona os nós de interpolação `xs` em grupos de n nós, com sobreposição de m,\n",
    "    retornando a lista de grupos.\n",
    "    \n",
    "    Se necessário, o último grupo pode ter menos de n nós, mas sempre terá mais do que m nós.\"\"\"\n",
    "    # Você pode usar que xs[i:j] nunca dá erro: o \"pior\" que pode acontecer é retornar um array vazio.\n",
    "    assert n > m >= 0\n",
    "    N = len(xs)\n",
    "    ### Resposta aqui\n"
   ]
  },
  {
   "cell_type": "code",
   "execution_count": null,
   "metadata": {},
   "outputs": [],
   "source": [
    "particionar(np.arange(19), 5, 2)"
   ]
  },
  {
   "cell_type": "code",
   "execution_count": null,
   "metadata": {},
   "outputs": [],
   "source": [
    "particionar(np.arange(20), 5, 2)"
   ]
  },
  {
   "cell_type": "markdown",
   "metadata": {},
   "source": [
    "Agora, com a mesma ideia de particionar, divida as listas de pontos de interpolação em grupos:"
   ]
  },
  {
   "cell_type": "code",
   "execution_count": null,
   "metadata": {},
   "outputs": [],
   "source": [
    "def agrupar(xs, ys, n, m):\n",
    "    assert n > m >= 0\n",
    "    N = len(xs)\n",
    "    ### Resposta aqui\n"
   ]
  },
  {
   "cell_type": "code",
   "execution_count": null,
   "metadata": {},
   "outputs": [],
   "source": [
    "xs = np.arange(20)\n",
    "agrupar(xs, np.sin(xs), 5, 2)"
   ]
  },
  {
   "cell_type": "markdown",
   "metadata": {},
   "source": [
    "Verifique que a sua função agrupadora funciona com argumentos que não são inteiros consecutivos.\n",
    "Por exemplo, faça testes com `rand`..."
   ]
  },
  {
   "cell_type": "markdown",
   "metadata": {},
   "source": [
    "## Fatiando os intervalos\n",
    "\n",
    "Agora que temos diversos intervalos disponíveis para interpolar,\n",
    "precisamos decidir a qual dos intervalos pertencem os números de um vetor `ts`.\n",
    "Escreva uma função que, dados $xs$, $n$ e $m$, retorna duas listas,\n",
    "com extremidades inferiores e superiores de interpolação.\n",
    "\n",
    "Obs: na verdade, como vamos usar `np.piecewise()`,\n",
    "não é necessário retornar exatamente extremidades disjuntas.\n",
    "Isso pode simplificar o código, como na função abaixo."
   ]
  },
  {
   "cell_type": "code",
   "execution_count": null,
   "metadata": {},
   "outputs": [],
   "source": [
    "def extremidades_1(xs,n,m):\n",
    "    \"\"\"Exemplo de cálculo das extremidades.\"\"\"\n",
    "    grupos = particionar(xs,n,m)\n",
    "    return [g[0] for g in grupos], [g[-1] for g in grupos]"
   ]
  },
  {
   "cell_type": "code",
   "execution_count": null,
   "metadata": {},
   "outputs": [],
   "source": [
    "extremidades_1(xs,5,2)"
   ]
  },
  {
   "cell_type": "markdown",
   "metadata": {},
   "source": [
    "Depois de fazer as questões seguintes usando este cálculo \"simples\" de extremidades,\n",
    "defina uma versão melhor abaixo, e explique porque ela deveria ser melhor."
   ]
  },
  {
   "cell_type": "code",
   "execution_count": null,
   "metadata": {},
   "outputs": [],
   "source": [
    "def extremidades(xs,n,m):\n",
    "    ### Resposta aqui\n"
   ]
  },
  {
   "cell_type": "markdown",
   "metadata": {},
   "source": [
    "Explique aqui ;-)"
   ]
  },
  {
   "cell_type": "markdown",
   "metadata": {},
   "source": [
    "## A função interpoladora por partes\n",
    "\n",
    "Agora, com a lista de pontos para interpolar, e as extremidades que \"escolhem\" cada polinômio,\n",
    "- calcule (uma única vez) os polinômios interpoladores;\n",
    "- retorne uma função (vetorial!) que usa `np.piecewise()` e as extremidades para calcular a interpolação por partes."
   ]
  },
  {
   "cell_type": "code",
   "execution_count": null,
   "metadata": {},
   "outputs": [],
   "source": [
    "from interpolation import baricentric as lagrange"
   ]
  },
  {
   "cell_type": "code",
   "execution_count": null,
   "metadata": {},
   "outputs": [],
   "source": [
    "def build_interp(xs, ys, n, m):\n",
    "    \"\"\"Retorna uma lista de polinômios interpoladores usando divisões em blocos de n pontos.\"\"\"\n",
    "    blocos = agrupar(xs,ys,n,m)\n",
    "    polys = [lagrange(xis,yis) for xis,yis in blocos]\n",
    "    l,r = extremidades(xs,n,m)\n",
    "    def ipp(ts):\n",
    "        conds = [np.all([li <= ts, ts <= ri], axis=0) for li,ri in zip(l,r)]\n",
    "        return np.piecewise(ts, conds, polys)\n",
    "    return ipp"
   ]
  },
  {
   "cell_type": "markdown",
   "metadata": {},
   "source": [
    "### Um teste do interpolador"
   ]
  },
  {
   "cell_type": "code",
   "execution_count": null,
   "metadata": {},
   "outputs": [],
   "source": [
    "xs = np.arange(0,5,0.1)\n",
    "ys = np.sin(xs)\n",
    "f = build_interp(xs,ys,6,2)\n",
    "# Em 1 ponto\n",
    "f(np.pi)"
   ]
  },
  {
   "cell_type": "code",
   "execution_count": null,
   "metadata": {},
   "outputs": [],
   "source": [
    "# Em 1 array\n",
    "t = np.random.rand(10)\n",
    "print(f(t))\n",
    "print(np.sin(t))\n",
    "print(f(t) - np.sin(t))"
   ]
  },
  {
   "cell_type": "markdown",
   "metadata": {},
   "source": [
    "# Juntando com as primitivas\n",
    "\n",
    "## Um primeiro exemplo\n",
    "\n",
    "A partir dos pontos abaixo,\n",
    "observe como a escolha dos valores de \"ordem\" e \"sobreposição\" ($n$ e $m$)\n",
    "influenciam a qualidade da interpolação para pontos \"no meio\"."
   ]
  },
  {
   "cell_type": "code",
   "execution_count": null,
   "metadata": {},
   "outputs": [],
   "source": [
    "### Pontos calculados via integração numérica + cumsum\n",
    "xs, Fxs = prim_simpson(seno, 0, 10, 200)\n",
    "### Pontos a calcular por interpolação\n",
    "ts = np.linspace(3,5,num=300)"
   ]
  },
  {
   "cell_type": "code",
   "execution_count": null,
   "metadata": {},
   "outputs": [],
   "source": [
    "### Resposta aqui\n"
   ]
  },
  {
   "cell_type": "code",
   "execution_count": null,
   "metadata": {},
   "outputs": [],
   "source": [
    "### Aumente e diminua a ordem de interpolação.  Até onde devemos ir?\n",
    "### Resposta aqui\n"
   ]
  },
  {
   "cell_type": "markdown",
   "metadata": {},
   "source": [
    "## Outros exemplos\n",
    "\n",
    "Repita o estudo acima para outras funções, tanto com primitivas conhecidas, como com primitivas desconhecidas.\n",
    "Qual a melhor forma de estimar uma primitiva com alta precisão?"
   ]
  },
  {
   "cell_type": "code",
   "execution_count": null,
   "metadata": {},
   "outputs": [],
   "source": []
  },
  {
   "cell_type": "markdown",
   "metadata": {},
   "source": [
    "# Diversão extra\n",
    "\n",
    "É claro que calcular integrais precisas com a regra de Simpson não é o mais eficiente...\n",
    "Tente usar `np.cumsum()` também para os métodos interpolatórios de alta ordem,\n",
    "e tente calcular (por exemplo) a primitiva de $f(x) = \\sin(x) + \\cos(\\pi x)$\n",
    "com precisão de `1e-12` ao longo do intervalo $[0,20]$, calculando o mínimo possível a função $f$."
   ]
  }
 ],
 "metadata": {
  "kernelspec": {
   "display_name": "Python 3",
   "language": "python3.4",
   "name": "python3"
  },
  "language_info": {
   "codemirror_mode": {
    "name": "ipython",
    "version": 3
   },
   "file_extension": ".py",
   "mimetype": "text/x-python",
   "name": "python",
   "nbconvert_exporter": "python",
   "pygments_lexer": "ipython3"
  }
 },
 "nbformat": 4,
 "nbformat_minor": 2
}
