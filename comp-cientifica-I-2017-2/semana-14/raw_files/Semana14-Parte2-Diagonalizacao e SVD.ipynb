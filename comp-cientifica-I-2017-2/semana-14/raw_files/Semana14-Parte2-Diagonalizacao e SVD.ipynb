{
 "cells": [
  {
   "cell_type": "markdown",
   "metadata": {},
   "source": [
    "![CC-BY-SA](https://mirrors.creativecommons.org/presskit/buttons/88x31/svg/by-sa.svg)\n",
    "This notebook was created by [Bernardo Freitas Paulo da Costa](http://www.im.ufrj.br/bernardofpc),\n",
    "and is licensed under Creative Commons BY-SA"
   ]
  },
  {
   "cell_type": "code",
   "execution_count": 1,
   "metadata": {
    "collapsed": true
   },
   "outputs": [],
   "source": [
    "import numpy as np\n",
    "import matplotlib.pyplot as plt"
   ]
  },
  {
   "cell_type": "markdown",
   "metadata": {},
   "source": [
    "# Calculando todos os autovalores e autovetores\n",
    "\n",
    "Pode ser que seja necessário conhecer todos os autovalores e autovetores de uma matriz.\n",
    "Neste caso, uma solução (além de calcular todas as raízes do polinômio característico de $A$)\n",
    "é criar uma série de transformações de $A$ que **preservam** os autovalores.\n",
    "Da mesma forma como transformamos $A = PLU$ através de operações de linhas\n",
    "(e poderíamos ter feito colunas também),\n",
    "outras operações levam a matrizes com mesmos autovalores,\n",
    "como é o caso de _similitudes_:\n",
    "dizemos que $A$ é similar a $B$ se existe uma matriz $P$ tal que\n",
    "$A = P^{-1} B P$.\n",
    "Se $Av = \\lambda v$, então\n",
    "$$ P^{-1} B P v = \\lambda v \\Leftrightarrow B (Pv) = \\lambda (Pv) $$\n",
    "o que mostra que $Pv$ é um autovetor de $B$ com o mesmo autovalor.\n",
    "\n",
    "Assim, buscamos uma seqüência de transformações que sejam similitudes."
   ]
  },
  {
   "cell_type": "markdown",
   "metadata": {},
   "source": [
    "## Fatoração QR e similitudes\n",
    "\n",
    "Uma das maneiras mais curiosas de obter estas similitudes é a fatoração QR:\n",
    "ela é bastante similar à fatoração LU: ainda há um bloco triangular superior, que agora chamamos $R$,\n",
    "mas $Q$ é uma matriz mais especial: é uma matriz ortogonal,\n",
    "ou seja, suas colunas (e linhas) são ortogonais entre si e de norma 1.\n",
    "Isso (como já vimos na diagonalização) é muito útil para calcular inversas!\n",
    "\n",
    "Assim, se temos $A = QR$, também é verdade que $Q^{-1}A = Q^T A = R$\n",
    "e portanto a matriz $B = RQ$ é igual a $Q^{-1} A Q$, ou seja, $B$ é similar a $A$.\n",
    "Também $A$ é similar a $B$, já que $A = Q B Q^{-1}$.\n",
    "\n",
    "Vamos continuar: fatoramos $B$ novamente em $Q_2 R_2$, e permutamos,\n",
    "obtendo $C = R_2 Q_2$.\n",
    "Isso dá $B = Q_2 C Q_2^{-1}$, e portanto\n",
    "$A = Q Q_2 C Q_2^{-1} Q^{-1}$.\n",
    "\n",
    "Da mesma forma que iteramos a aplicação da matriz $A$ em um vetor $u$,\n",
    "podemos ver a repetição desta \"troca de lados\" entre $Q$s e $R$s sucessivos como uma aplicação de $A$\n",
    "aos vetores de $Q$ (que são ortogonais entre si, como uma base de autovetores de $A$ deve ser, se $A$ é simétrica).\n",
    "\n",
    "Quando $A$ é simétrica, isso funciona exatamente assim:\n",
    "os vetores dos produtos das $Q$s convergem para autovetores de $A$,\n",
    "e a seqüência $A$, $B$, $C$, $\\ldots$ converge para uma matriz diagnoal,\n",
    "formada pelos autovalores de $A$ (que também são de $B$, $C$, etc.)."
   ]
  },
  {
   "cell_type": "markdown",
   "metadata": {},
   "source": [
    "### Exercício\n",
    "\n",
    "Implemente este algoritmo.\n",
    "Inclua dois critérios de parada: um número máximo de iterações e uma tolerância.\n",
    "Também retorne três valores: a matriz $Q$ limite, a matriz $R$ limite, e o número de iterações feitas."
   ]
  },
  {
   "cell_type": "code",
   "execution_count": 2,
   "metadata": {
    "collapsed": true
   },
   "outputs": [],
   "source": [
    "def qrsequence(A, tol=1e-12, nmax=1000, debug=False):\n",
    "    ### Resposta aqui\n"
   ]
  },
  {
   "cell_type": "markdown",
   "metadata": {},
   "source": [
    "Verifique que o seu algoritmo calcula corretamente a decomposição de $A$:"
   ]
  },
  {
   "cell_type": "code",
   "execution_count": 3,
   "metadata": {},
   "outputs": [
    {
     "name": "stdout",
     "output_type": "stream",
     "text": [
      "[[ 0.27348454  0.15400255 -0.94946797]\n",
      " [ 0.65158608  0.69645331  0.30064658]\n",
      " [ 0.70756045 -0.7008823   0.09012329]]\n",
      "\n",
      "[[  1.35266810e+01  -8.92477224e-08   6.02359462e-16]\n",
      " [ -8.92477203e-08  -3.60862677e+00   2.12608013e-17]\n",
      " [  1.09156317e-29   2.78284590e-22   8.19458148e-02]]\n",
      "\n",
      "13\n"
     ]
    },
    {
     "data": {
      "text/plain": [
       "array([[ 1.,  2.,  3.],\n",
       "       [ 2.,  4.,  8.],\n",
       "       [ 3.,  8.,  5.]])"
      ]
     },
     "execution_count": 3,
     "metadata": {},
     "output_type": "execute_result"
    }
   ],
   "source": [
    "A = np.array([[1,2,3], [2,4,8], [3,8,5]])\n",
    "Qlim, Rlim, niter = qrsequence(A)\n",
    "print(Qlim, Rlim, niter, sep='\\n\\n')\n",
    "np.dot(Qlim,np.dot(Rlim,Qlim.T))"
   ]
  },
  {
   "cell_type": "markdown",
   "metadata": {},
   "source": [
    "Como você faria para verificar se os vetores coluna de $Q$ são realmente autovetores de $A$?"
   ]
  },
  {
   "cell_type": "code",
   "execution_count": 4,
   "metadata": {
    "collapsed": true
   },
   "outputs": [],
   "source": [
    "def verify_av(A,v):\n",
    "    ### Resposta aqui\n"
   ]
  },
  {
   "cell_type": "code",
   "execution_count": 5,
   "metadata": {},
   "outputs": [
    {
     "name": "stdout",
     "output_type": "stream",
     "text": [
      "8.92477266759e-08\n",
      "8.92477237375e-08\n",
      "2.6049170547e-16\n"
     ]
    }
   ],
   "source": [
    "for v in Qlim.T:\n",
    "    verify_av(A,v)"
   ]
  },
  {
   "cell_type": "markdown",
   "metadata": {},
   "source": [
    "Agora, tente a seguinte matriz:"
   ]
  },
  {
   "cell_type": "code",
   "execution_count": 6,
   "metadata": {},
   "outputs": [
    {
     "data": {
      "text/plain": [
       "array([[  6.66133815e-16,  -8.88178420e-16,  -1.33226763e-15],\n",
       "       [  1.33226763e-15,   0.00000000e+00,  -7.54951657e-15],\n",
       "       [ -1.77635684e-15,  -2.66453526e-15,  -7.10542736e-15]])"
      ]
     },
     "execution_count": 6,
     "metadata": {},
     "output_type": "execute_result"
    }
   ],
   "source": [
    "A = np.array([[1,2,3], [3,4,3], [3,6,5]])\n",
    "Qlim, Rlim, niter = qrsequence(A, nmax=100)\n",
    "np.dot(Qlim,np.dot(Rlim,Qlim.T)) - A"
   ]
  },
  {
   "cell_type": "code",
   "execution_count": 7,
   "metadata": {},
   "outputs": [
    {
     "data": {
      "text/plain": [
       "99"
      ]
     },
     "execution_count": 7,
     "metadata": {},
     "output_type": "execute_result"
    }
   ],
   "source": [
    "niter"
   ]
  },
  {
   "cell_type": "code",
   "execution_count": 8,
   "metadata": {},
   "outputs": [
    {
     "name": "stdout",
     "output_type": "stream",
     "text": [
      "8.48431244129e-15\n",
      "2.67041711453\n",
      "1.20010094753\n"
     ]
    }
   ],
   "source": [
    "for i,v in enumerate(Qlim.T):\n",
    "    verify_av(A,v)"
   ]
  },
  {
   "cell_type": "markdown",
   "metadata": {},
   "source": [
    "Porque isso ocorre?"
   ]
  },
  {
   "cell_type": "code",
   "execution_count": 9,
   "metadata": {},
   "outputs": [
    {
     "name": "stdout",
     "output_type": "stream",
     "text": [
      "[[ 0.35627459 -0.56327552  0.74551265]\n",
      " [ 0.52481075 -0.5394954  -0.65842114]\n",
      " [ 0.77307315  0.62583177  0.10340454]]\n",
      "\n",
      "[[  1.04557428e+001  -2.33994248e+000  -1.06399478e+000]\n",
      " [  3.17777415e-107  -1.94544318e-001  -5.55119269e-001]\n",
      " [  2.26485138e-107   1.28677766e+000  -2.61198506e-001]]\n"
     ]
    }
   ],
   "source": [
    "print(Qlim, end='\\n\\n')\n",
    "print(Rlim)"
   ]
  },
  {
   "cell_type": "markdown",
   "metadata": {},
   "source": [
    "# Fatoração / Decomposição SVD\n",
    "\n",
    "SVD (_Singular Value Decomposition_) é uma outra fatoração de matrizes,\n",
    "mais geral do que a diagonalização, e que serve também para matrizes retangulares.\n",
    "Essencialmente, ela consiste em encontrar **duas** bases\n",
    "(em vez de apenas uma que é o caso de autovetores da diagonalização)\n",
    "que sejam adaptadas à matriz $A$.\n",
    "Assim, queremos escrever\n",
    "$$ A = U \\Sigma V^{-1} , $$\n",
    "onde $U$ e $V$ são ortogonais (correspondendo a mudanças de base \"por rotação\")\n",
    "e $\\Sigma$ é uma matriz diagonal (correspondendo a multiplicações entre as bases).\n",
    "\n",
    "Neste caso, a idéia é usar uma matriz simétrica\n",
    "(para a qual sabemos existir a diagonalização e bases \"apropriadas\")\n",
    "associada a $A$: $A^T A$.\n",
    "Parece apelação, mas ao supor a decomposição $A = U \\Sigma V^{-1}$,\n",
    "com matrizes ortogonais $U$ e $V$, temos\n",
    "$$ A^T A = {V^{-1}}^T \\Sigma^T U^T U \\Sigma V^{-1} = V \\Sigma^T \\Sigma V^{-1} $$\n",
    "que é **a diagonalização** de $A^T A$, se tomarmos $\\Sigma^T \\Sigma = D$.\n",
    "\n",
    "Assim, podemos obter uma base de \"vetores especiais\" a partir de $V$,\n",
    "e em seguida tomamos uma matriz diagonal $\\Sigma$ tal que $\\Sigma^T \\Sigma = D$;\n",
    "o mais simples é usar a raiz quadrada dos elementos diagonais de $D$\n",
    "(que são positivos porque $A^T A$ é simétrica!).\n",
    "Enfim, para obter $U$, basta resolver o sistema $A = U \\Sigma V^{-1}$,\n",
    "que é linear em $U$."
   ]
  },
  {
   "cell_type": "markdown",
   "metadata": {},
   "source": [
    "### Exercício\n",
    "\n",
    "Escreva um código para a decomposição SVD.\n",
    "Para diagonalizar $A^T A$, você pode usar o cálculo de autovalores e autovetores da iteração QR."
   ]
  },
  {
   "cell_type": "code",
   "execution_count": 10,
   "metadata": {
    "collapsed": true
   },
   "outputs": [],
   "source": [
    "def svd(A, tol=1e-12, nmax=1000, debug=False):\n",
    "    ### Resposta aqui\n",
    "\n",
    "    return U, Sigma, V"
   ]
  },
  {
   "cell_type": "code",
   "execution_count": 11,
   "metadata": {},
   "outputs": [
    {
     "name": "stdout",
     "output_type": "stream",
     "text": [
      "[[-0.3332243  -0.78664991  0.51975336]\n",
      " [-0.5354972   0.61162192  0.58237558]\n",
      " [-0.77601824 -0.08426472 -0.6250561 ]]\n",
      "\n",
      "[ 10.77055427   1.28977222   0.57588917]\n",
      "\n",
      "[[-0.39624429  0.61671489  0.68018616]\n",
      " [-0.69305132  0.28501119 -0.66215443]\n",
      " [-0.60222116 -0.73377883  0.31448101]]\n"
     ]
    }
   ],
   "source": [
    "u,s,v = svd(A)\n",
    "print(u,s,v, sep='\\n\\n')"
   ]
  },
  {
   "cell_type": "markdown",
   "metadata": {},
   "source": [
    "Como verificar que esta é de fato a decomposição SVD de $A$?"
   ]
  },
  {
   "cell_type": "code",
   "execution_count": 12,
   "metadata": {},
   "outputs": [
    {
     "data": {
      "text/plain": [
       "array([[ -1.11022302e-15,  -4.44089210e-16,  -8.88178420e-16],\n",
       "       [ -8.88178420e-16,  -1.77635684e-15,  -1.33226763e-15],\n",
       "       [ -1.77635684e-15,  -2.66453526e-15,  -8.88178420e-16]])"
      ]
     },
     "execution_count": 12,
     "metadata": {},
     "output_type": "execute_result"
    }
   ],
   "source": [
    "### Resposta aqui\n"
   ]
  }
 ],
 "metadata": {
  "kernelspec": {
   "display_name": "Python 3",
   "language": "python3.4",
   "name": "python3"
  },
  "language_info": {
   "codemirror_mode": {
    "name": "ipython",
    "version": 3
   },
   "file_extension": ".py",
   "mimetype": "text/x-python",
   "name": "python",
   "nbconvert_exporter": "python",
   "pygments_lexer": "ipython3",
   "version": "3.4.6"
  }
 },
 "nbformat": 4,
 "nbformat_minor": 1
}
