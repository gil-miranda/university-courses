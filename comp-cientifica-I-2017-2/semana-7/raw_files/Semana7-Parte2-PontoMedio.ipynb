{
 "cells": [
  {
   "cell_type": "markdown",
   "metadata": {},
   "source": [
    "![CC-BY-SA](https://mirrors.creativecommons.org/presskit/buttons/88x31/svg/by-sa.svg)\n",
    "This notebook was created by [Bernardo Freitas Paulo da Costa](http://www.im.ufrj.br/bernardofpc),\n",
    "and is licensed under Creative Commons BY-SA"
   ]
  },
  {
   "cell_type": "code",
   "execution_count": 1,
   "metadata": {},
   "outputs": [],
   "source": [
    "import numpy as np\n",
    "import matplotlib.pyplot as plt"
   ]
  },
  {
   "cell_type": "markdown",
   "metadata": {},
   "source": [
    "# Diminuindo o erro: a fórmula do valor médio e a fórmula dos trapézios\n",
    "\n",
    "Vimos que o erro ao considerar somas de Riemann (na verdade, deveríamos chamar de \"somas de Cauchy\" estas que usam o ponto inicial)\n",
    "tende a zero porque a oscilação da função diminui conforme o tamanho do intervalo considerado diminui.\n",
    "Será que é possível (analogamente às diferenças centrais) obter fórmulas que convirjam mais rápido?\n",
    "\n",
    "Em geral (ou seja, para funções apenas contínuas) isso não é possível,\n",
    "pois a oscilação $\\omega$ é o único mecanismo de controle que possuímos.\n",
    "Mas, seguindo o princípio geral do curso, \"mais derivadas = melhor convergência\",\n",
    "então vamos procurar métodos que nos dêem erros menores se supusermos que a função seja derivável.\n",
    "\n",
    "Começamos com funções uma vez deriváveis."
   ]
  },
  {
   "cell_type": "markdown",
   "metadata": {},
   "source": [
    "## Erro, com derivadas\n",
    "\n",
    "A primeira coisa a ser feita é estimar o erro da fórmula que já temos, supondo que $f$ seja derivável.\n",
    "Começamos com as somas de Cauchy, onde $x_k = c_k$:\n",
    "$$\\begin{align}\n",
    "e _ {n,k} & = h \\cdot \\left| f(c_k) - \\int_0^1 f(c_k + th) \\, dt \\right|\n",
    "     = h \\cdot \\left| \\int_0^1 \\big[ f(c_k) - f(c_k + th) \\big] \\, dt \\right| \\\\\n",
    "   & = h \\cdot \\left| \\int_0^1 f'(\\xi_t)(-th) \\, dt \\right|\n",
    "     = h^2 \\cdot \\left| \\int_0^1 f'(\\xi_t) t \\, dt \\right| \\\\\n",
    "   & \\leq h^2 \\cdot \\int_0^1 \\max \\bigl| f'(\\xi) \\bigr| t \\, dt\n",
    "     =    h^2 \\cdot \\max \\bigl| f'(\\xi) \\bigr| \\cdot \\int_0^1 t \\, dt\n",
    "     =    h^2 \\cdot \\max \\bigl| f'(\\xi) \\bigr| \\cdot \\frac{1}{2}\n",
    "\\end{align}$$\n",
    "onde usamos a fórmula do valor médio para derivada: $f(y) - f(x) = f'(\\xi)(y - x)$ para algum $\\xi \\in (x,y)$.\n",
    "\n",
    "Ao somar todos os $e _ {n,k}$, teremos então que o erro $E_n$ será, no máximo,\n",
    "$$\n",
    "\\def\\maxhalf{\\frac{\\max \\bigl| f'(\\xi) \\bigr|}{2}}\n",
    "E_n\n",
    "  \\leq \\sum _ {k=0}^{n-1} e _ {n,k}\n",
    "  \\leq n \\cdot h^2 \\maxhalf\n",
    "  \\leq h \\cdot (b - a) \\maxhalf.\n",
    "$$\n",
    "Assim, o erro da \"fórmula de Cauchy\" decresce linearmente com $h$.\n",
    "\n",
    "Obs: podemos obter esta estimativa da estimativa anterior e a seguinte relação:\n",
    "a oscilação de $f$ num intervalo é sempre menor do que o máximo do valor absoluto da derivada $f'$\n",
    "neste mesmo intervalo, vezes o comprimento do intervalo."
   ]
  },
  {
   "cell_type": "markdown",
   "metadata": {},
   "source": [
    "## Como diminuir o erro?\n",
    "\n",
    "Para reduzir o erro, podemos apostar em duas vertentes.\n",
    "Ou fazemos os erros $e _ {n,k}$ se compensarem, ou reduzimos os $e _ {n,k}$ diretamente.\n",
    "A primeira estratégia depende muito da função considerada, então vamos tentar arrumar um outro método.\n",
    "Em suma, gostaríamos de reduzir o erro\n",
    "$$\\big(\\text{Estimativa da integral de $f$ no intervalo $[c_k, d_k]$}\\big) - \\int_{c_k}^{d_k} f(u) \\, du.$$\n",
    "\n",
    "Inspirados pela fórmula das diferenças centrais, podemos pensar que, se calcularmos $f$ no meio do intervalo,\n",
    "em vez de no bordo, o erro pode ser menor.\n",
    "Ou seja, usaremos $f\\left(\\frac{c_k + d_k}{2}\\right)$ em vez de $f(c_k)$ como estimativa de $f$.\n",
    "Assim, em vez de calcularmos $S_n$, calcularemos\n",
    "$$M_n = \\sum_{k=0}^{n-1} f \\left(\\frac{c_k + d_k}{2} \\right) \\cdot h.$$\n",
    "Esta fórmula é conhecida como **fórmula do ponto médio**."
   ]
  },
  {
   "cell_type": "markdown",
   "metadata": {},
   "source": [
    "### Exercício:\n",
    "\n",
    "- Implemente a fórmula do ponto médio.\n",
    "- Refaça os gráficos para as funções seno e gaussiana."
   ]
  },
  {
   "cell_type": "code",
   "execution_count": 2,
   "metadata": {
    "collapsed": true
   },
   "outputs": [],
   "source": [
    "def midpoint(f,a,b,n=100):\n",
    "    \"\"\"Calcula uma aproximação da integral de $f$ no intervalo $[a,b]$, com $n$ pontos pela fórmula do ponto médio.\"\"\"\n",
    "    ### Resposta aqui\n"
   ]
  },
  {
   "cell_type": "code",
   "execution_count": 3,
   "metadata": {},
   "outputs": [],
   "source": [
    "# Use esta caixa para calcular os erros\n",
    "def f(x): return np.sin(x)\n",
    "def g(x): return np.exp(-x**2)\n",
    "\n",
    "# Sugestão de valores de $n$ para usar\n",
    "ns = np.array([int(x) for x in np.logspace(1,4)])\n",
    "### Resposta aqui\n"
   ]
  },
  {
   "cell_type": "code",
   "execution_count": 4,
   "metadata": {
    "collapsed": true
   },
   "outputs": [],
   "source": [
    "def glinha(x):\n",
    "    return -2*x*np.exp(-x**2)\n",
    "K_g = abs(glinha(np.pi) - glinha(0))"
   ]
  },
  {
   "cell_type": "code",
   "execution_count": 5,
   "metadata": {},
   "outputs": [
    {
     "data": {
      "image/png": "[encoded data removed]",
      "text/plain": [
       "<matplotlib.figure.Figure at 0x7fef49668828>"
      ]
     },
     "metadata": {},
     "output_type": "display_data"
    }
   ],
   "source": [
    "plt.loglog(ns, abs(F_m - true_F), '.', label='seno')\n",
    "plt.loglog(ns, abs(G_m - true_G), '+', label='gaussiana')\n",
    "plt.loglog(ns, np.pi**2/(24*ns**2)*2, label='estimativa seno')\n",
    "plt.loglog(ns, np.pi**2/(24*ns**2)*K_g, label='estimativa gaussiana')\n",
    "plt.xlabel('Número de passos')\n",
    "plt.ylabel('Erro')\n",
    "plt.title('Método do ponto médio para a integral')\n",
    "plt.legend(loc=0)\n",
    "plt.show()"
   ]
  },
  {
   "cell_type": "markdown",
   "metadata": {},
   "source": [
    "### Exercício: estimativa do erro\n",
    "\n",
    "- Suponha que $f$ seja **duas** vezes diferenciável, e estime o erro cometido pela fórmula do ponto médio.\n",
    "  Para aproveitar a simetria ao máximo, introduza $m_k = \\frac{c_k + d_k}{2}$\n",
    "  e faça uma mudança de variáveis para o intervalo $[-1,1]$ (em vez de $[0,1]$, que não é simétrico!).\n",
    "\n",
    "Dê sua resposta aqui\n"
   ]
  }
 ],
 "metadata": {
  "kernelspec": {
   "display_name": "Python 3",
   "language": "python3.4",
   "name": "python3"
  },
  "language_info": {
   "codemirror_mode": {
    "name": "ipython",
    "version": 3
   },
   "file_extension": ".py",
   "mimetype": "text/x-python",
   "name": "python",
   "nbconvert_exporter": "python",
   "pygments_lexer": "ipython3",
   "version": "3.4.6"
  }
 },
 "nbformat": 4,
 "nbformat_minor": 1
}
