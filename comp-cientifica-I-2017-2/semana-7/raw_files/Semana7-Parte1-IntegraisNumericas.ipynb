{
 "cells": [
  {
   "cell_type": "markdown",
   "metadata": {},
   "source": [
    "![CC-BY-SA](https://mirrors.creativecommons.org/presskit/buttons/88x31/svg/by-sa.svg)\n",
    "This notebook was created by [Bernardo Freitas Paulo da Costa](http://www.im.ufrj.br/bernardofpc),\n",
    "and is licensed under Creative Commons BY-SA"
   ]
  },
  {
   "cell_type": "markdown",
   "metadata": {},
   "source": [
    "# Integrais\n",
    "\n",
    "A derivada de uma função (conhecida \"explicitamente\") sempre pode ser obtida aplicando-se as diversas regras de derivação.\n",
    "Assim, até um computador pode calcular _algebricamente_ a derivada de expressões explícitas _arbitrariamente complexas_, como\n",
    "\n",
    "$$f(x) = \\exp(x^3 - \\log^2(x)) + \\frac{\\sin(\\tan(1-x))}{\\cos(\\cos(x) - 2) + 1}.$$\n",
    "\n",
    "Mas para integrais não é tão simples obter expressões analíticas explícitas.\n",
    "De fato, desde [um teorema de Liouville de 1835][1],\n",
    "sabemos que existem funções cuja integral não pode ser expressa em \"termos simples\".\n",
    "Por exemplo $f(x) = \\exp(-x^2)$ é bastante \"simples\" em sua expressão, mas não tem uma \"integral simples\".\n",
    "\n",
    "[1]: https://en.wikipedia.org/wiki/Liouville%27s_theorem_(differential_algebra)"
   ]
  },
  {
   "cell_type": "markdown",
   "metadata": {},
   "source": [
    "Portanto, possuir métodos para calcular derivadas numericamente é ainda mais importante.\n",
    "E, felizmente, há diversos métodos, com bastante precisão."
   ]
  },
  {
   "cell_type": "markdown",
   "metadata": {},
   "source": [
    "# Integrais = somas de Riemann\n",
    "\n",
    "Vamos, aqui, nos concentrar no caso mais simples, mas também mais importante,\n",
    "do cálculo de uma integral _definida_ de uma função contínua: $$I = \\int_a^b f(x) \\, dx. $$\n",
    "\n",
    "Uma tal integral é o limite das _somas de Riemann_: $\\int f = \\lim_{n\\to\\infty} S_n$, onde\n",
    "$$S_n = \\sum _ {k = 0}^{n-1} f(x_k) \\cdot (d_k - c_k)$$\n",
    "onde $x_k$ será um ponto do intervalo $J_k = [c_k, d_k]$.\n",
    "Não apenas devemos ter um número cada vez maior de intervalos,\n",
    "mas o tamanho deles também deve diminuir:\n",
    "só garantimos que o limite existe quando o _maior comprimento_ dos intervalos $J_k$ tender a zero.\n",
    "\n",
    "Assim como fizemos para a derivada, onde \"paramos\" o limite antes de obter $h = 0$,\n",
    "vamos também, para a integral, calcular apenas $S_n$ para um $n$ suficientemente grande.\n",
    "E, também como fizemos para a derivada, vamos usar $h$ como variável principal.\n",
    "Aqui, $h$ será este \"maior comprimento\"."
   ]
  },
  {
   "cell_type": "markdown",
   "metadata": {},
   "source": [
    "## Uma fórmula de Cauchy\n",
    "\n",
    "Resta, então, ter um critério para escolher os intervalos $J_k$ e os pontos $x_k \\in J_k$.\n",
    "O mais natural para os $J_k$ é tomar todos eles \"iguais\", ou seja:\n",
    "$$ c_k = a + kh \\quad \\text{e}\\quad d_k = c_k + h, \\qquad \\text{onde } h = \\frac{b-a}{n}.$$\n",
    "\n",
    "Já para os $x_k$, o primeiro critério (historicamente) foi dado por Cauchy: $x_k = c_k$.\n",
    "(Riemann mostrou que não precisávamos de _nenhuma_ regra para os $x_k$:\n",
    "conquanto os intervalos diminuíssem e a função fosse contínua,\n",
    "as somas $S_n$ convergiriam para a sua integral.\n",
    "Mas isso não nos interessa aqui: **precisamos** dar uma regra para o computador poder calcular!)"
   ]
  },
  {
   "cell_type": "markdown",
   "metadata": {},
   "source": [
    "### Exercício:\n",
    "Implemente a soma de Cauchy."
   ]
  },
  {
   "cell_type": "code",
   "execution_count": 1,
   "metadata": {},
   "outputs": [],
   "source": [
    "import numpy as np\n",
    "import matplotlib.pyplot as plt"
   ]
  },
  {
   "cell_type": "code",
   "execution_count": 2,
   "metadata": {
    "collapsed": true
   },
   "outputs": [],
   "source": [
    "def Cauchy_n(f,a,b,n=100):\n",
    "    \"\"\"Calcula uma aproximação da integral de $f$ no intervalo $[a,b]$, com $n$ pontos pela fórmula de Cauchy.\"\"\"\n",
    "    ### Resposta aqui\n"
   ]
  },
  {
   "cell_type": "markdown",
   "metadata": {},
   "source": [
    "# Análise de erro\n",
    "\n",
    "O reflexo básico de toda esta seção será analisar como o erro $S_n - I$ tende a zero quando $n \\to \\infty$,\n",
    "ou, o que é o mesmo, quando $h \\to 0$.\n",
    "\n",
    "## Decomposição\n",
    "\n",
    "A primeira observação quanto ao erro é que este pode ser decomposto em uma _soma_ de $n$ erros diferentes.\n",
    "Isso porque, da aditividade da integral, temos:\n",
    "$$\\int_a^b f(x) \\, dx = \\sum _ {k=0}^{n-1} \\left( \\int _ {c_k}^{d_k} f(x) \\, dx \\right)\n",
    "                      = \\sum _ {k=0}^{n-1} I _ {n,k}$$\n",
    "onde, introduzimos a notação $I _ {n,k}$ para as integrais em cada intervalo.\n",
    "Isso dá uma decomposição de $I$ análoga à fórmula da soma de Cauchy, $S_n = \\sum_{k=0}^{n-1} S_{n,k}$.\n",
    "\n",
    "Assim, o _erro_ da soma de Cauchy será:\n",
    "$$S_n - I = \\sum_k \\big( S _ {n,k} - I _ {n,k} \\big) = \\sum_k e _ {n,k}. $$\n",
    "Obviamente, alguns erros podem ocorrer por excesso, e outros por falta,\n",
    "mas devemos nos previnir - matematicamente - para a pior conspiração possível."
   ]
  },
  {
   "cell_type": "markdown",
   "metadata": {},
   "source": [
    "## Erro de um termo: análise dos $e_{n,k}$.\n",
    "\n",
    "Como $f$ é contínua, o valor de $f(x)$ não varia muito dentro de um intervalo $J_k$.\n",
    "Mais ainda, conforme este intervalo diminui, menor será a variação de $f(x)$.\n",
    "A diferença entre o mínimo e o máximo de $f$ num intervalo $[x,y]$ é chamada de _oscilação_ de $f$ no intervalo,\n",
    "muitas vezes denotada $\\omega(f;x,y)$.\n",
    "\n",
    "Lembre, além disso, que a integral é uma \"área\", e portanto conforme $h$ diminui,\n",
    "também diminui o intervalo de integração, e com ele o valor da integral $I _ {n,k}$.\n",
    "Portanto, o erro diminui por duas razões quando $h \\to 0$: primeiramente,\n",
    "porque a função oscila menos num intervalo menor,\n",
    "segundo, porque a própria integral diminui de magnitude.\n",
    "\n",
    "Como já estamos treinados para pensar em erros relativos,\n",
    "percebemos que a diminuição importante do erro na integral\n",
    "vem da menor oscilação, e não da \"simples\" redução do intervalo de integração.\n",
    "Se a oscilação não diminuir, teremos um erro relativo essencialmente igual."
   ]
  },
  {
   "cell_type": "markdown",
   "metadata": {},
   "source": [
    "### Uma mudança de variáveis\n",
    "\n",
    "Vamos aplicar uma mudança de variáveis na integral $I_{n,k}$\n",
    "para que o intervalo de integração não dependa mais de $h$.\n",
    "Isso nos dá uma fórmula mais simples para os erros $e_{n,k}$.\n",
    "\n",
    "Primeiro, a integral:\n",
    "$$I _ {n,k} = \\int _ {c_k}^{d_k = c_k + h} f(x)\\,dx\n",
    "            = \\int_0^1 f \\big( c_k + th \\big) \\cdot h \\, dt\n",
    "            = h \\int_0^1 f \\big( c_k + th \\big)  \\, dt.$$\n",
    "E agora, o erro:\n",
    "$$e _ {n,k} = f(x_k) \\cdot h - I _ {n,k} = h \\int_0^1 \\big( f(x_k) - f(c_k + th) \\big) \\, dt.$$\n",
    "\n",
    "Podemos, daí, retirar uma estimativa do erro:\n",
    "$$\n",
    "\\lvert e _ {n,k} \\rvert\n",
    "   \\leq h \\int_0^1 \\bigl| f(x_k) - f(c_k + th) \\bigr| \\, dt\n",
    "   \\leq h \\int_0^1 \\omega(f; c_k, d_k) \\, dt\n",
    "   =    h \\cdot \\omega(f; c_k, d_k).\n",
    "$$"
   ]
  },
  {
   "cell_type": "markdown",
   "metadata": {},
   "source": [
    "## O erro total\n",
    "\n",
    "Como vimos anteriormente, o erro é a soma dos erros de cada termo,\n",
    "e poderia ocorrer que todos eles estivessem na mesma direção.\n",
    "Por isso, no pior dos casos, temos que\n",
    "$$\n",
    "\\left|S_n - I\\right|\n",
    "   \\leq \\sum _ {k=0}^{n-1} e _ {n,k}\n",
    "   \\leq h \\sum _ {k=0}^{n-1} \\omega(f; c_k, d_k).\n",
    "$$\n",
    "\n",
    "Como $f$ é contínua, quando $h \\to 0$, cada um dos $\\omega(f; c_k, d_k)$ diminui.\n",
    "Iremos, na verdade, estimar ainda mais grosseiramente:\n",
    "vamos usar $\\omega(f;h)$,\n",
    "que é o máximo da variação de $f$ sobre todos os intervalos de comprimento $h$ dentro de $[a,b]$.\n",
    "A continuidade _uniforme_ de $f$ no intervalo $[a,b]$ inteiro garante que $\\omega(f;h)$\n",
    "também tende a zero quando $h\\to0$.\n",
    "\n",
    "Assim, temos, para nossa estimativa:\n",
    "$$\\left|S_n - I\\right| \\leq h \\sum _ {k=0}^{n-1} \\omega(f;h) = nh \\, \\omega(f;h).$$\n",
    "Ora, da definição de $h$ temos que $b - a = nh$, logo:\n",
    "$$E_n \\leq (b-a) \\cdot \\omega\\left(f; \\frac{b-a}{n} \\right). $$\n",
    "\n",
    "Nesta fórmula, vemos bem que a importância de $n\\to \\infty$ (ou, equivalentemente, $h \\to 0$)\n",
    "reside na redução da oscilação da função, nos pequenos intervalos de discretização.\n",
    "Além disso, como só usamos a _continuidade_ de $f$,\n",
    "esta estimativa vale qualquer que seja o método de escolha dos pontos $x_k$."
   ]
  },
  {
   "cell_type": "markdown",
   "metadata": {},
   "source": [
    "### Exercício: erros de integração\n",
    "\n",
    "Faça um gráfico do erro de integração de $f(x) = \\sin(x)$ no intervalo $[0,\\pi]$, em função do número de pontos utilizados.\n",
    "Como você faria para estimar o erro ao integrar $\\exp(-x^2)$ no intervalo $[0,\\pi]$?"
   ]
  },
  {
   "cell_type": "code",
   "execution_count": 3,
   "metadata": {},
   "outputs": [],
   "source": [
    "# Use esta caixa para calcular os erros\n",
    "def f(x): return np.sin(x)\n",
    "def g(x): return np.exp(-x**2)\n",
    "\n",
    "# Sugestão de valores de $n$ para usar\n",
    "ns = np.array([int(x) for x in np.logspace(1,4)])\n",
    "\n",
    "### Resposta aqui\n"
   ]
  },
  {
   "cell_type": "code",
   "execution_count": 4,
   "metadata": {},
   "outputs": [
    {
     "data": {
      "image/png": "[encoded data removed]",
      "text/plain": [
       "<matplotlib.figure.Figure at 0x7feffd7bdf98>"
      ]
     },
     "metadata": {},
     "output_type": "display_data"
    }
   ],
   "source": [
    "# E esta caixa para fazer o gráfico\n",
    "### Resposta aqui\n"
   ]
  },
  {
   "cell_type": "markdown",
   "metadata": {},
   "source": [
    "Refaça o gráfico para a integral no intervalo $[0,1]$.\n",
    "O que aconteceu?"
   ]
  },
  {
   "cell_type": "code",
   "execution_count": 5,
   "metadata": {
    "collapsed": true
   },
   "outputs": [],
   "source": [
    "# Use esta caixa para calcular os erros\n",
    "### Resposta aqui\n"
   ]
  },
  {
   "cell_type": "code",
   "execution_count": 6,
   "metadata": {},
   "outputs": [
    {
     "data": {
      "image/png": "[encoded data removed]",
      "text/plain": [
       "<matplotlib.figure.Figure at 0x7feffd24f0b8>"
      ]
     },
     "metadata": {},
     "output_type": "display_data"
    }
   ],
   "source": [
    "# E esta caixa para fazer o gráfico\n",
    "### Resposta aqui\n"
   ]
  },
  {
   "cell_type": "markdown",
   "metadata": {},
   "source": [
    "### Exercício: tempo de cálculo\n",
    "\n",
    "Compare o tempo de cálculo da fórmula de Cauchy com $10^6$ pontos,\n",
    "na forma vetorizada e na forma iterativa, para a função $g$."
   ]
  },
  {
   "cell_type": "code",
   "execution_count": 7,
   "metadata": {},
   "outputs": [
    {
     "name": "stdout",
     "output_type": "stream",
     "text": [
      "10 loops, best of 3: 98.6 ms per loop\n",
      "1 loop, best of 3: 1.42 s per loop\n"
     ]
    }
   ],
   "source": [
    "### Resposta aqui\n"
   ]
  }
 ],
 "metadata": {
  "kernelspec": {
   "display_name": "Python 3",
   "language": "python3.4",
   "name": "python3"
  },
  "language_info": {
   "codemirror_mode": {
    "name": "ipython",
    "version": 3
   },
   "file_extension": ".py",
   "mimetype": "text/x-python",
   "name": "python",
   "nbconvert_exporter": "python",
   "pygments_lexer": "ipython3",
   "version": "3.4.6"
  }
 },
 "nbformat": 4,
 "nbformat_minor": 1
}
