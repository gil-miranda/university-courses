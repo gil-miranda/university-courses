{
 "cells": [
  {
   "cell_type": "markdown",
   "metadata": {},
   "source": [
    "![CC-BY-SA](https://mirrors.creativecommons.org/presskit/buttons/88x31/svg/by-sa.svg)\n",
    "This notebook was created by [Bernardo Freitas Paulo da Costa](http://www.im.ufrj.br/bernardofpc),\n",
    "and is licensed under Creative Commons BY-SA"
   ]
  },
  {
   "cell_type": "markdown",
   "metadata": {},
   "source": [
    "# Representações limitadas de números reais\n",
    "\n",
    "Ao contrário do que acontece com os inteiros em Python, os números reais não são representados em \"tamanho arbitrário\".\n",
    "A razão mais simples para isso é que nem sempre é claro quando faz sentido **parar de aumentar a precisão**,\n",
    "e por isto esta decisão é passada para o programador.\n",
    "Em geral, a maior parte dos programas usa representações altamente compactas e eficientes, com \"pouca\" precisão,\n",
    "e apenas raramente são usados números com uma precisão maior.\n",
    "\n",
    "Neste curso, os números \"reais\" em Python serão usados praticamente todo o tempo,\n",
    "exceto numa breve aula sobre precisão aumentada.\n",
    "Por questão de completude, veremos aqui as representações mais comuns para números reais."
   ]
  },
  {
   "cell_type": "markdown",
   "metadata": {},
   "source": [
    "# Interpretação e representação\n",
    "\n",
    "Uma das ideias fundamentais em computação é que podemos interpretar números de formas bastante diferentes.\n",
    "O exemplo fundamental é o que o seu computador faz para _escrever_:"
   ]
  },
  {
   "cell_type": "code",
   "execution_count": null,
   "metadata": {
    "collapsed": true
   },
   "outputs": [],
   "source": [
    "chr(65)"
   ]
  },
  {
   "cell_type": "markdown",
   "metadata": {},
   "source": [
    "O que foi feito acima mostra que o computador _interpreta_ o número `65` como o caracter `A`.\n",
    "\"Inversamente\", podemos pensar que nós _representamos_ o caracter `A` pelo número `65`.\n",
    "\n",
    "De fato, a única capacidade do seu computador é manipular _bits_: sequências de zeros e uns, como por exemplo"
   ]
  },
  {
   "cell_type": "code",
   "execution_count": null,
   "metadata": {
    "collapsed": true
   },
   "outputs": [],
   "source": [
    "0b1000001"
   ]
  },
  {
   "cell_type": "code",
   "execution_count": null,
   "metadata": {
    "collapsed": true
   },
   "outputs": [],
   "source": [
    "0b0101010101010111101110101"
   ]
  },
  {
   "cell_type": "markdown",
   "metadata": {},
   "source": [
    "Além disso, as operações \"elementares\" do seu computador só são feitas com uma quantidade _limitada_ de bits.\n",
    "Em geral, esta quantidade é chamada [word size](https://en.wikipedia.org/wiki/Word_size),\n",
    "e num computador moderno é de 64 bits.\n",
    "Os operandos elementares são os objetos de base que o seu computador conhece **em hardware**.\n",
    "Qualquer outra operação é realizada _em software_,\n",
    "e desta forma também dizemos que são objetos \"compostos\".\n",
    "\n",
    "Detalhes:\n",
    "1. algumas operações podem ser feitas com mais ou menos bits do que um `word`;\n",
    "   quando dizemos que um processador \"é de 64 bits\", isto se refere às operações com \"ponteiros\".\n",
    "2. num computador moderno há possibilidade de realizar operações, em geral, com operandos de 32, 64, 80, 128, 256 e 512 bits)\n",
    "3. os inteiros do Python podem ser **muito** maiores do que 512 bits; assim sendo, eles não são objetos elementares;\n",
    "   os \"inteiros elementares\" do seu computador podem ser de 32 ou 64 bits."
   ]
  },
  {
   "cell_type": "markdown",
   "metadata": {},
   "source": [
    "## Abstrações: um par representação e interpretação"
   ]
  },
  {
   "cell_type": "markdown",
   "metadata": {},
   "source": [
    "É claro que seria muito inconveniente comunicar com um computador (ou seja, programá-lo)\n",
    "se a única linguagem possível fossem zeros e uns.\n",
    "Por isso, as linguagens de programação nos fornecem **abstrações** que permitem escrever algo que _nos_ é mais inteligível.\n",
    "Mas cada abstração vem com um par (represetação/interpretação),\n",
    "regras fixas que realizam a transformação de algo \"humanamente compreensível\"\n",
    "para algo \"computadoramente compreensível\" (ou seja, zeros e uns!)\n",
    "\n",
    "Em geral, nunca nos preocupamos de _como_ o computador representa os objetos com que trabalhamos,\n",
    "a menos que\n",
    "1. estejamos nós mesmos **desenvolvendo** uma representação;\n",
    "2. estejamos face a um **limite** de representação."
   ]
  },
  {
   "cell_type": "markdown",
   "metadata": {},
   "source": [
    "Neste curso, além da numeração binária exposta acima, para a representação de inteiros,\n",
    "vamos observar a representação de números reais com ponto fixo e ponto flutuante.\n",
    "Estes são exemplos fundamentais de representação _em hardware_,\n",
    "mas que também podem ser **emulados** _em software_."
   ]
  },
  {
   "cell_type": "markdown",
   "metadata": {},
   "source": [
    "# Erros absolutos e números de ponto fixo"
   ]
  },
  {
   "cell_type": "markdown",
   "metadata": {},
   "source": [
    "A primeira observação é que, num computador,\n",
    "sempre existe uma quantidade **finita** de números reais representáveis como objetos elementares.\n",
    "Isso tem duas consequências:\n",
    "1. sempre existe um _maior número \"real\"_,\n",
    "2. sempre existe um _próximo número \"real\"_.\n",
    "\n",
    "É claro que também valem as propriedades análogas \"no outro sentido\"."
   ]
  },
  {
   "cell_type": "markdown",
   "metadata": {},
   "source": [
    "Digamos que um número \"real\" possui 64 bits.\n",
    "\n",
    "Uma idéia simples para representar números reais seria considerar que\n",
    "1. vamos interpretar os 64 bits como um número inteiro escrito em base 2\n",
    "2. e em seguida a cada número inteiro corresponde um número real, através de uma fórmula do tipo\n",
    "$$ real = \\frac{inteiro}{10^9} $$\n",
    "\n",
    "Isto é o que chamamos **ponto fixo**.\n",
    "Este nome vem de imaginarmos que existe um ponto (implícito) no número inteiro que o computador vê,\n",
    "e cuja posição é fixa (dada pelo $10^9$).\n",
    "\n",
    "É claro que a escolha de $10^9$ para o denominador é completamente arbitrária,\n",
    "e diferentes sistemas poderiam escolher diferentes denominadores.\n",
    "Assim, uma representação em ponto fixo é dada por\n",
    "$$\\frac{inteiro}{den} \\qquad \\text{onde o denominador $den$ está fixo.}$$"
   ]
  },
  {
   "cell_type": "markdown",
   "metadata": {},
   "source": [
    "### Exercício\n",
    "\n",
    "1. Qual o maior número real representável pelo sistema de ponto fixo acima? E o menor?\n",
    "2. Qual o maior erro absoluto / relativo deste sistema? E o menor?\n",
    "3. Quais constantes físicas podem ser representadas por este sistema de forma aceitável? (veja [a Wikipédia](https://en.wikipedia.org/wiki/Physical_constants#Table_of_physical_constants))\n",
    "4. O que fazer para representar negativos?"
   ]
  },
  {
   "cell_type": "markdown",
   "metadata": {},
   "source": [
    "### Exercício\n",
    "\n",
    "Seu computador usa números em base dois.\n",
    "Em que situações usar um denominador que seja uma potência de dois simplifica as operações aritméticas?"
   ]
  },
  {
   "cell_type": "markdown",
   "metadata": {},
   "source": [
    "# Erros relativos e números de ponto flutuante (Konrad Zuse, 1936)"
   ]
  },
  {
   "cell_type": "markdown",
   "metadata": {},
   "source": [
    "Uma variação óbvia desta estrutura é representar o número real sempre em duas partes: um numerador e um denominador, ambos inteiros. Assim, na verdade, representamos apenas números racionais (não que isso seja um problema, já que temos apenas uma quantidade finita de números disponíveis), mas ganhamos em flexibilidade.\n",
    "\n",
    "Porém, não faz muito sentido poder usar todos os números inteiros no denominador: isso geraria muita redundância!\n",
    "Vamos pensar, então, que o denominador pode mudar, mas não para \"qualquer coisa\", e vamos pensar, principalmente, qual é o nosso objetivo ao representar os números reais de forma aproximada."
   ]
  },
  {
   "cell_type": "markdown",
   "metadata": {},
   "source": [
    "Num sistema discreto de números \"reais\", o erro que cometemos ao usar aproximações é, no máximo,\n",
    "a diferença entre os dois números consecutivos do sistema que estão \"logo abaixo\" e \"logo acima\" do verdadeiro número real.\n",
    "\n",
    "E, na maior parte das vezes, o que nos interessa são erros relativos, e não erros absolutos.\n",
    "Se uma aula leva 120 minutos ou 119, não há muita diferença.\n",
    "Se uma aula leva 2h ou 1h, há muita diferença!\n",
    "Isso explica porque fixar o denominador não é, na maior parte das vezes, uma boa solução.\n",
    "O erro relativo entre $\\frac{2}{den}$ e $\\frac{1}{den}$ é muito maior do que o erro entre $\\frac{120}{den}$ e $\\frac{119}{den}$.\n",
    "\n",
    "Assim, a nossa escala deve ser adaptada aos erros relativos, e é a escala logarítmica.\n",
    "(Se você está preocupado com números negativos, você está certo;\n",
    "mas vamos deixar isso de lado por enquanto, e pensar que o sinal do número pode ser separado do resto - como realmente ocorre!)\n",
    "Deixando o zero de lado (que é especial para o logaritmo), podemos representar um número sob a forma\n",
    "$$base^{inteiro}, \\qquad \\text{onde a base $base$ está fixa.}$$\n",
    "\n",
    "Assim, o erro relativo entre dois números nesta representação é o erro entre $1$ e $base$,\n",
    "que é o mesmo que entre $base^1$ e $base^2$, e entre quaisquer dois números consecutivos.\n",
    "(menos o zero; erros relativos com zero são sempre muito grandes... mais disso, mais tarde)\n",
    "Se escolhermos a $base$ suficientemente próxima de $1$, teremos erros relativos suficientement pequenos, em toda a escala!"
   ]
  },
  {
   "cell_type": "markdown",
   "metadata": {},
   "source": [
    "Mas há um problema com esta representação: as operações de soma e subtração de números \"reais\" serão muito custosas.\n",
    "As de multiplicação e divisão, por outro lado, podem operar _diretamente_ com os números inteiros correspondentes,\n",
    "somando-os ou subtraindo-os, que são operações que o chip já tem que fazer, por outras razões!\n",
    "\n",
    "Isso levou a uma outra solução, inspirada em parte da física, da necessidade de erros relativos baixos,\n",
    "e de reaproveitar os circuitos lógicos já presentes no computador: usar **notação científica**.\n",
    "Um número $x$ em notação científica é dado por\n",
    "$$ x = \\text{mantissa} \\times 10^\\text{expoente}, \\qquad \\text{onde}\n",
    "\\begin{cases}1 \\leq \\text{mantissa} < 10, \\text{e}\\\\ \\text{o expoente é um número inteiro.}\\end{cases} $$\n",
    "\n",
    "Da mesma forma que os números racionais, temos que guardar dois números para cada \"real\": a _mantissa_ e o _expoente_.\n",
    "Mas agora, note que não há redundância, porque restringimos o domínio da mantissa.\n",
    "A _mantissa_ será um número racional representado com **ponto fixo**:\n",
    "a maior parte da magnitude dos números está capturada pelo _expoente_,\n",
    "e ao usar ponto fixo num pequeno intervalo não há _tanta_ variação da precisão.\n",
    "\n",
    "Este sistema se chama **ponto flutuante** porque a posição do ponto decimal varia de acordo com o expoente.\n",
    "A grande vantagem deste sistema é que as operações aritméticas podem usar as partes do sistema que tratam de números inteiros,\n",
    "apenas ajustando os números para \"alinhar\" os pontos decimais corretamente\n",
    "(no caso de somas; os produtos dispensam isto porque a magnitude depende mais dos expoentes do que das mantissas!)."
   ]
  },
  {
   "cell_type": "markdown",
   "metadata": {},
   "source": [
    "\n",
    "### Exercício\n",
    "\n",
    "Repita a questão dos pontos fixos para pontos flutuantes:\n",
    "1. estude sua amplitude (maior / menor) ;\n",
    "1. o número de casas significativas (e o erro relativo);\n",
    "1. e compare com o uso de pontos fixos para representar as constantes físicas."
   ]
  },
  {
   "cell_type": "markdown",
   "metadata": {},
   "source": [
    "Num computador, o sistema de representação binário para os inteiros sugere que o ponto flutuante também esteja \"em base 2\".\n",
    "Assim, na verdade: um número em ponto flutuante (em base 2) é dado por\n",
    "$$ mantissa \\times 2^{expoente} \\qquad \\text{onde $1 \\leq mantissa < 2$ e o $expoente$ é um número inteiro}. $$\n",
    "\n",
    "Note que a menor amplitude da mantissa também nos dá uma menor variação do erro relativo no início e no fim da escala!\n",
    "Uma outra apresentação para este sistema é a seguinte:\n",
    "$$ \\left[ 1 + \\frac{inteiro}{den} \\right] * 2^{expoente} \\qquad \\text{onde o denominador $den$ está fixo, $0 \\leq inteiro < den$ e $expoente \\in Z$.}$$\n",
    "Nesta notação, é fácil ver que o erro relativo máximo será de $1/(2 * den)$, que é a **resolução** deste sistema de representação.\n",
    "\n",
    "Este sitema ainda exige que se armazenem **duas** informações sobre o número real representado:\n",
    "a parte fracionária determinada pelo número $inteiro$, e o $expoente$, também inteiro."
   ]
  },
  {
   "cell_type": "markdown",
   "metadata": {},
   "source": [
    "### Exercício\n",
    "\n",
    "No seu computador, os \"reais\" de 64 bits usam 11 bits para o expoente e 52 bits para a mantissa, além de um bit de sinal.\n",
    "Verifique (experimentalmente!) se os limites para o seu computador coincidem com os teóricos do exercício acima."
   ]
  },
  {
   "cell_type": "code",
   "execution_count": null,
   "metadata": {
    "collapsed": true
   },
   "outputs": [],
   "source": []
  }
 ],
 "metadata": {
  "kernelspec": {
   "display_name": "Python 3",
   "language": "python",
   "name": "python3"
  },
  "language_info": {
   "codemirror_mode": {
    "name": "ipython",
    "version": 3
   },
   "file_extension": ".py",
   "mimetype": "text/x-python",
   "name": "python",
   "nbconvert_exporter": "python",
   "pygments_lexer": "ipython3",
   "version": "3.4.6"
  }
 },
 "nbformat": 4,
 "nbformat_minor": 1
}
