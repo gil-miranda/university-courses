{
 "cells": [
  {
   "cell_type": "markdown",
   "metadata": {},
   "source": [
    "![CC-BY-SA](https://mirrors.creativecommons.org/presskit/buttons/88x31/svg/by-sa.svg)\n",
    "This notebook was created by [Bernardo Freitas Paulo da Costa](http://www.im.ufrj.br/bernardofpc),\n",
    "and is licensed under Creative Commons BY-SA"
   ]
  },
  {
   "cell_type": "code",
   "execution_count": null,
   "metadata": {},
   "outputs": [],
   "source": [
    "import numpy as np\n",
    "import matplotlib.pyplot as plt"
   ]
  },
  {
   "cell_type": "markdown",
   "metadata": {},
   "source": [
    "# Programação funcional\n",
    "\n",
    "Pode parecer estranho à primeira vista, pois estamos acostumados a que uma função retorne um objeto,\n",
    "algo como um número, uma _string_, uma lista, ...\n",
    "Mas em Python podemos retornar uma função, isso também é um valor aceitável de retorno.\n",
    "O caso básico de utilização desta idéia é construir uma função _diferente_ para situações diferentes.\n",
    "\n",
    "O procedimento padrão para retornar uma função é o mesmo que para retornar um valor \"normal\":\n",
    "criamos a função dentro do corpo da nossa \"função mestre\", e retornamos a variável correspondente.\n",
    "Uma forma de entender isso é que, quando escrevemos\n",
    "\n",
    "    def f(...):\n",
    "        ...\n",
    "\n",
    "estamos criando uma variável `f`, que representa a função em questão."
   ]
  },
  {
   "cell_type": "markdown",
   "metadata": {},
   "source": [
    "## Desenhando tangentes\n",
    "\n",
    "A reta tangente a uma função $f$ no ponto $(a, f(a))$ tem inclinação $f'(a)$.\n",
    "Logo, para diferentes valores de $a$ teremos diferentes retas tangentes.\n",
    "Assim, se quisermos, por exemplo, desenhar a secante junto com o gráfico da função,\n",
    "precisamos da **função afim** correspondente.\n",
    "Esta função afim é dada por $T_{f,a}(x) = f(a) + (x-a)f'(a)$.\n",
    "Portanto, dadas a função $f$, sua derivada $f'$ e a abscissa $a$ para o cálculo da tangente,\n",
    "construimos a função afim e retornamos a mesma."
   ]
  },
  {
   "cell_type": "code",
   "execution_count": null,
   "metadata": {},
   "outputs": [],
   "source": [
    "def tangente(f, df, a):\n",
    "    def T(x):\n",
    "        return f(a) + df(a)*(x-a)\n",
    "    return T"
   ]
  },
  {
   "cell_type": "code",
   "execution_count": null,
   "metadata": {},
   "outputs": [],
   "source": [
    "T1 = tangente(np.sin, np.cos, 0.8)"
   ]
  },
  {
   "cell_type": "code",
   "execution_count": null,
   "metadata": {},
   "outputs": [],
   "source": [
    "ts = np.arange(-1,3,0.01)\n",
    "plt.plot(ts, np.sin(ts))\n",
    "plt.plot(ts, T1(ts), '--')\n",
    "plt.show()"
   ]
  },
  {
   "cell_type": "markdown",
   "metadata": {},
   "source": [
    "Podemos melhorar o código da nossa função tangente.\n",
    "\n",
    "De fato, da forma como está feito, temos que calcular $f(a)$ e $f'(a)$ para _cada_ vez que usamos a função $T$.\n",
    "Isso é um desperdício."
   ]
  },
  {
   "cell_type": "code",
   "execution_count": null,
   "metadata": {},
   "outputs": [],
   "source": [
    "def tangente(f, df, a):\n",
    "    fa = f(a)\n",
    "    dfa = df(a)\n",
    "    def T(x):\n",
    "        return fa + dfa*(x-a)\n",
    "    return T"
   ]
  },
  {
   "cell_type": "markdown",
   "metadata": {},
   "source": [
    "Entretanto, o **mais importante** da função `T` é que ela é _vetorial_.\n",
    "Ou seja, se o argumento `x` for um vetor do NumPy,\n",
    "a função `T` fará as operações corretas para calcular a reta tangente para cada `xi`."
   ]
  },
  {
   "cell_type": "markdown",
   "metadata": {},
   "source": [
    "### Exercício\n",
    "\n",
    "Desenhe várias tangentes à função $x\\mapsto \\sin(x) + \\cos(x^2)$, usando um `for`."
   ]
  },
  {
   "cell_type": "code",
   "execution_count": null,
   "metadata": {},
   "outputs": [],
   "source": [
    "pts_tangencia = [0, 0.5, 1, 1.333, 2.4]\n",
    "ts = np.arange(-1,3,0.01)\n",
    "### Resposta aqui\n"
   ]
  },
  {
   "cell_type": "markdown",
   "metadata": {},
   "source": [
    "### Exercício:\n",
    "\n",
    "Adapte a construção acima da reta tangente para traçar uma _secante_:\n",
    "a secante a uma curva é a reta que passa por dois pontos $(x_1, f(x_1))$ e $(x_2, f(x_2))$."
   ]
  },
  {
   "cell_type": "code",
   "execution_count": null,
   "metadata": {},
   "outputs": [],
   "source": [
    "def secante(f,x1,x2):\n",
    "    ### Resposta aqui\n"
   ]
  },
  {
   "cell_type": "markdown",
   "metadata": {},
   "source": [
    "Agora, trace algumas secantes à função $f$ do exercício acima."
   ]
  },
  {
   "cell_type": "code",
   "execution_count": null,
   "metadata": {},
   "outputs": [],
   "source": [
    "pts_secante = [ [0,1], [0,2], [1,2] ]\n",
    "ts = np.arange(-1,3,0.01)\n",
    "### Resposta aqui\n"
   ]
  },
  {
   "cell_type": "markdown",
   "metadata": {},
   "source": [
    "Enfim, veja que as secantes convergem para a tangente!"
   ]
  },
  {
   "cell_type": "code",
   "execution_count": null,
   "metadata": {},
   "outputs": [],
   "source": [
    "ts = np.arange(-1, 3, 0.01)\n",
    "a = 0.5\n",
    "x2s = [0.55,0.6,0.8,1]\n",
    "### Resposta aqui\n"
   ]
  },
  {
   "cell_type": "markdown",
   "metadata": {},
   "source": [
    "Outra forma de ver a convergência, é fazer uma animação!"
   ]
  },
  {
   "cell_type": "code",
   "execution_count": null,
   "metadata": {},
   "outputs": [],
   "source": [
    "from matplotlib import animation\n",
    "from IPython.display import HTML"
   ]
  },
  {
   "cell_type": "code",
   "execution_count": null,
   "metadata": {},
   "outputs": [],
   "source": [
    "### Resposta aqui\n"
   ]
  }
 ],
 "metadata": {
  "kernelspec": {
   "display_name": "Python 3",
   "language": "python",
   "name": "python3"
  },
  "language_info": {
   "codemirror_mode": {
    "name": "ipython",
    "version": 3
   },
   "file_extension": ".py",
   "mimetype": "text/x-python",
   "name": "python",
   "nbconvert_exporter": "python",
   "pygments_lexer": "ipython3"
  }
 },
 "nbformat": 4,
 "nbformat_minor": 1
}
