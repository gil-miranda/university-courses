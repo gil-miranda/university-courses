{
 "cells": [
  {
   "cell_type": "markdown",
   "metadata": {},
   "source": [
    "![CC-BY-SA](https://mirrors.creativecommons.org/presskit/buttons/88x31/svg/by-sa.svg)\n",
    "This notebook was created by [Bernardo Freitas Paulo da Costa](http://www.im.ufrj.br/bernardofpc),\n",
    "and is licensed under Creative Commons BY-SA"
   ]
  },
  {
   "cell_type": "code",
   "execution_count": null,
   "metadata": {},
   "outputs": [],
   "source": [
    "import numpy as np\n",
    "import matplotlib.pyplot as plt"
   ]
  },
  {
   "cell_type": "markdown",
   "metadata": {},
   "source": [
    "# Resolvendo equações diferenciais ordinárias (EDOs)\n",
    "\n",
    "Podemos generalizar as ideias de integração para resolver EDOs.\n",
    "Lembrando (?), uma EDO é uma equação da seguinte forma:\n",
    "\n",
    "$$ \\begin{align}\n",
    " f'(t) & = F(t, f(t)) \\\\\n",
    "f(t_0) & = y_0\n",
    "\\end{align} $$\n",
    "\n",
    "onde a primeira equação dá a \"dinâmica\" (ou seja, a forma como $f$ evolui no tempo),\n",
    "e a segunda equação é a condição inicial.\n",
    "Mais exatamente, os _dados_ de uma EDO são:\n",
    "- uma função $F(t,y): R \\times R \\to R$, que define a dinâmica; e\n",
    "- a condição inicial $(t_0, y_0)$."
   ]
  },
  {
   "cell_type": "markdown",
   "metadata": {},
   "source": [
    "# O método de Euler\n",
    "\n",
    "Um método para resolver numericamente uma EDO foi dado por Euler.\n",
    "A ideia é muito similar ao método de integração de Cauchy:\n",
    "1. Definimos um intervalo $I = [t_0, t_f]$ onde desejamos aproximar a função $f$.\n",
    "2. Dividimos $I$ em `nstep` pedacinhos iguais, de comprimento $h$.\n",
    "   Os tempos assim obtidos são em geral denotados $t_i$.\n",
    "3. Já sabemos o valor de $f$ em $t_0$: $y_0$.\n",
    "   Podemos com isso aproximar o valor de $f$ em $t_1$: $f(t_1) \\sim f(t_0) + f'(t_0)(t_1 - t_0)$.\n",
    "   Ora, sabemos calcular $f'(t_0)$ pela função $F$: é $F(t_0, f(t_0)) = F(t_0, y_0)$.\n",
    "   Isso dá uma aproximação $f(t_1) \\sim y_1$.\n",
    "4. Agora, basta fazer isso sucessivamente para todos os tempos até chegarmos em $t_f$."
   ]
  },
  {
   "cell_type": "code",
   "execution_count": null,
   "metadata": {},
   "outputs": [],
   "source": [
    "def euler_forward(F, I, y0, nstep=100, retstep=False):\n",
    "    \"\"\"Método de Euler explícito para f'(t) = F(t, f(t)) no intervalo I = [t0, tf] com condição inicial f(t0) = y0.\n",
    "    Usa `nstep` passos de tamanho igual a $h = I/nstep$, e calcula f nos pontos $t_0 + jh$.\n",
    "    \n",
    "    Se `retstep = True`, retorna também os tempos utilizados para integração.\"\"\"\n",
    "    t0, tf = I\n",
    "    ### Resposta aqui\n"
   ]
  },
  {
   "cell_type": "markdown",
   "metadata": {},
   "source": [
    "## Testando\n",
    "\n",
    "Resolva a equação diferencial $f' = \\sqrt{|3f - 2|}$, começando em $f(0) = 1$, e depois começando em $f(0) = 0$."
   ]
  },
  {
   "cell_type": "code",
   "execution_count": null,
   "metadata": {},
   "outputs": [],
   "source": [
    "def F1(t,y):\n",
    "    \"\"\"Função da dinâmica\"\"\"\n",
    "    ### Resposta aqui\n"
   ]
  },
  {
   "cell_type": "code",
   "execution_count": null,
   "metadata": {},
   "outputs": [],
   "source": [
    "fts, ts = euler_forward(F1, [0,2], 1, nstep=100, retstep=True)\n",
    "fts2, ts2 = euler_forward(F1, [0,2], 1, nstep=200, retstep=True)\n",
    "plt.plot(ts, fts, '--')\n",
    "plt.plot(ts2, fts2)\n",
    "plt.title('Duas soluções diferentes')\n",
    "plt.show()"
   ]
  },
  {
   "cell_type": "markdown",
   "metadata": {},
   "source": [
    "Agora, começando em outras condições iniciais."
   ]
  },
  {
   "cell_type": "code",
   "execution_count": null,
   "metadata": {},
   "outputs": [],
   "source": [
    "fts, ts = euler_forward(F1, [0,2], 0, nstep=100, retstep=True)\n",
    "fts2, ts2 = euler_forward(F1, [0,2], 0, nstep=200, retstep=True)\n",
    "plt.plot(ts, fts, '--')\n",
    "plt.plot(ts2, fts2)\n",
    "plt.show()"
   ]
  },
  {
   "cell_type": "markdown",
   "metadata": {},
   "source": [
    "## Erros\n",
    "\n",
    "Agora, escolha uma equação diferencial cuja solução você conhece,\n",
    "e faça o gráfico dos erros."
   ]
  },
  {
   "cell_type": "code",
   "execution_count": null,
   "metadata": {},
   "outputs": [],
   "source": [
    "### Resposta aqui\n"
   ]
  },
  {
   "cell_type": "markdown",
   "metadata": {},
   "source": [
    "## Equações de ordem superior\n",
    "\n",
    "Podemos também resolver EDOs de ordem mais alta, trocando ordens por novas variáveis.\n",
    "Assim, uma EDO do tipo $f''(t) = F(t, f(t), f'(t))$ pode ser transformada no sistema\n",
    "$$ \\begin{align}\n",
    " f'(t) & = g(t) \\\\\n",
    " g'(t) & = F(t, f(t), g(t)) \\\\\n",
    "f(t_0) & = y_0 \\\\\n",
    "g(t_0) & = dy_0\n",
    "\\end{align} $$\n",
    "onde também temos 2 condições iniciais."
   ]
  },
  {
   "cell_type": "markdown",
   "metadata": {},
   "source": [
    "### Exercício e exemplo\n",
    "\n",
    "Defina `F3` que corresponde ao sistema $f''(t) = -f(t)$.\n",
    "Vamos usar o mesmo método de Euler, então pense como são os argumentos de entrada e saída de `F3`."
   ]
  },
  {
   "cell_type": "code",
   "execution_count": null,
   "metadata": {},
   "outputs": [],
   "source": [
    "# Calcule os erros em [0,2 pi]\n",
    "### Resposta aqui\n"
   ]
  },
  {
   "cell_type": "code",
   "execution_count": null,
   "metadata": {},
   "outputs": [],
   "source": [
    "# Agora, calcule os erros para mais tempo\n",
    "### Resposta aqui\n"
   ]
  },
  {
   "cell_type": "markdown",
   "metadata": {},
   "source": [
    "### Exemplo da vida real\n",
    "\n",
    "Resolva o pêndulo simples, $f''(t) = -\\sin(f(t))$.\n",
    "Note que esta EDO não tem solução fechada..."
   ]
  },
  {
   "cell_type": "code",
   "execution_count": null,
   "metadata": {},
   "outputs": [],
   "source": [
    "### Resposta aqui\n"
   ]
  },
  {
   "cell_type": "markdown",
   "metadata": {},
   "source": [
    "### O que aconteceu?"
   ]
  },
  {
   "cell_type": "markdown",
   "metadata": {},
   "source": []
  }
 ],
 "metadata": {
  "kernelspec": {
   "display_name": "Python 3",
   "language": "python3.4",
   "name": "python3"
  },
  "language_info": {
   "codemirror_mode": {
    "name": "ipython",
    "version": 3
   },
   "file_extension": ".py",
   "mimetype": "text/x-python",
   "name": "python",
   "nbconvert_exporter": "python",
   "pygments_lexer": "ipython3"
  }
 },
 "nbformat": 4,
 "nbformat_minor": 2
}
