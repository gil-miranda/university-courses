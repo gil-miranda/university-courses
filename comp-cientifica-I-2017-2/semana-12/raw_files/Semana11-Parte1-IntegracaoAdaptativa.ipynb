{
 "cells": [
  {
   "cell_type": "markdown",
   "metadata": {},
   "source": [
    "![CC-BY-SA](https://mirrors.creativecommons.org/presskit/buttons/88x31/svg/by-sa.svg)\n",
    "This notebook was created by [Bernardo Freitas Paulo da Costa](http://www.im.ufrj.br/bernardofpc),\n",
    "and is licensed under Creative Commons BY-SA"
   ]
  },
  {
   "cell_type": "code",
   "execution_count": 1,
   "metadata": {
    "collapsed": true
   },
   "outputs": [],
   "source": [
    "import numpy as np\n",
    "import matplotlib.pyplot as plt"
   ]
  },
  {
   "cell_type": "markdown",
   "metadata": {},
   "source": [
    "# Fórmulas adaptativas\n",
    "\n",
    "O problema maior da integração é que, ao diminuir $h$, aumentamos o tempo de cálculo.\n",
    "O que gostaríamos de fazer é, então, poder variar $h$ ao longo do algoritmo,\n",
    "em função do intervalo que estejamos calculando.\n",
    "\n",
    "Ou seja, vamos ter que achar, dependendo da função, os valores de $h$ \"certos\".\n",
    "Mais ainda, gostaríamos que o método fosse \"de passo variável\":\n",
    "isso permite \"dar um zoom\" quando a função variar muito (segunda ou quarta derivada de $f$,\n",
    "dependendo de usar ponto médio ou Simpson)\n",
    "\n",
    "## Recursão, o retorno\n",
    "\n",
    "Uma solução para este problema é recursiva\n",
    "\n",
    "1. Tomamos um intervalo $I$ sobre o qual vamos calcular uma \"boa\" aproximação da integral\n",
    "2. Usamos alguma fórmula para calcular sua aproximação $A$\n",
    "3. Usamos outra fórmula, teóricamente mais precisa, para calcular uma segunda aproximação $A'$.\n",
    "4. Com $A$ e $A'$, podemos estimar o **erro** cometido pelas integrais\n",
    "    1. Se ambas aproximações estiverem próximas, o erro deve ser pequeno, e usamos $A'$.\n",
    "    2. Senão, dividimos o intervalo em duas partes (esquerda e direita, olhaí a bisseção) $I_e$ e $I_d$,\n",
    "       calculamos ambas as integrais com precisão suficiente, e usamos a soma."
   ]
  },
  {
   "cell_type": "code",
   "execution_count": 2,
   "metadata": {
    "collapsed": true
   },
   "outputs": [],
   "source": [
    "def simpson_adaptativo(f, a,b, tol=1e-6):\n",
    "    ### Resposta aqui\n"
   ]
  },
  {
   "cell_type": "code",
   "execution_count": 3,
   "metadata": {},
   "outputs": [
    {
     "data": {
      "text/plain": [
       "1.8390715313050514"
      ]
     },
     "execution_count": 3,
     "metadata": {},
     "output_type": "execute_result"
    }
   ],
   "source": [
    "simpson_adaptativo(np.sin, 0,10)"
   ]
  },
  {
   "cell_type": "code",
   "execution_count": 4,
   "metadata": {},
   "outputs": [
    {
     "data": {
      "text/plain": [
       "2.2285988610093455e-09"
      ]
     },
     "execution_count": 4,
     "metadata": {},
     "output_type": "execute_result"
    }
   ],
   "source": [
    "ans = 1 - np.cos(10)\n",
    "_ - ans"
   ]
  },
  {
   "cell_type": "code",
   "execution_count": 5,
   "metadata": {},
   "outputs": [
    {
     "data": {
      "text/plain": [
       "1.8390715290768667"
      ]
     },
     "execution_count": 5,
     "metadata": {},
     "output_type": "execute_result"
    }
   ],
   "source": [
    "simpson_adaptativo(np.sin, 0,10, tol=1e-10)"
   ]
  },
  {
   "cell_type": "code",
   "execution_count": 6,
   "metadata": {},
   "outputs": [
    {
     "data": {
      "text/plain": [
       "4.1411318818518339e-13"
      ]
     },
     "execution_count": 6,
     "metadata": {},
     "output_type": "execute_result"
    }
   ],
   "source": [
    "ans = 1 - np.cos(10)\n",
    "_ - ans"
   ]
  },
  {
   "cell_type": "markdown",
   "metadata": {},
   "source": [
    "### Evitando calcular demais\n",
    "\n",
    "Uma otimização importante seria não recalcular a função nos pontos que já foram utilizados anteriormente.\n",
    "Isso quer dizer que temos que \"passar mais informação\" na recursão.\n",
    "\n",
    "Também, podemos modificar a função para que ela retorne o número de pontos em que calculamos `f`."
   ]
  },
  {
   "cell_type": "code",
   "execution_count": 7,
   "metadata": {
    "collapsed": true
   },
   "outputs": [],
   "source": [
    "### Resposta aqui\n"
   ]
  },
  {
   "cell_type": "code",
   "execution_count": 8,
   "metadata": {},
   "outputs": [
    {
     "data": {
      "text/plain": [
       "(0.4596978890854006, 13)"
      ]
     },
     "execution_count": 8,
     "metadata": {},
     "output_type": "execute_result"
    }
   ],
   "source": [
    "simpson_adaptativo(np.sin,0,1)"
   ]
  },
  {
   "cell_type": "code",
   "execution_count": 9,
   "metadata": {},
   "outputs": [
    {
     "data": {
      "text/plain": [
       "-1.9495354036669355e-07"
      ]
     },
     "execution_count": 9,
     "metadata": {},
     "output_type": "execute_result"
    }
   ],
   "source": [
    "ans = 1 - np.cos(1)\n",
    "ans - _[0]"
   ]
  },
  {
   "cell_type": "markdown",
   "metadata": {},
   "source": [
    "### Exercício\n",
    "\n",
    "Faça um gráfico com o número de passos necessários\n",
    "para calcular as integrais de $f$ e $g$ com precisões cada vez melhores.\n",
    "Depois, tente incorporar $h$, que é mais dificíl de integrar."
   ]
  },
  {
   "cell_type": "code",
   "execution_count": 10,
   "metadata": {
    "collapsed": true
   },
   "outputs": [],
   "source": [
    "def f(x): return np.sin(x)\n",
    "def g(x): return np.exp(-x**2)\n",
    "def h(x): return np.exp(x**3)"
   ]
  },
  {
   "cell_type": "code",
   "execution_count": 11,
   "metadata": {
    "collapsed": true
   },
   "outputs": [],
   "source": [
    "# Sugestões de tolerâncias\n",
    "tols = np.logspace(-40,-10, base=2)\n",
    "\n",
    "# Faça aqui f e g\n",
    "### Resposta aqui\n"
   ]
  },
  {
   "cell_type": "code",
   "execution_count": 12,
   "metadata": {
    "collapsed": true
   },
   "outputs": [],
   "source": [
    "# E aqui h.  Use outras tolerâncias...\n",
    "### Resposta aqui\n"
   ]
  },
  {
   "cell_type": "code",
   "execution_count": 13,
   "metadata": {
    "collapsed": true
   },
   "outputs": [],
   "source": [
    "# Calculando valores \"exatos\" ;-)\n",
    "from integrals import simpson\n",
    "true_F = 2\n",
    "true_G = simpson(g,0,1,10**5)\n",
    "true_H = simpson(h,2,4,10**5)"
   ]
  },
  {
   "cell_type": "code",
   "execution_count": 14,
   "metadata": {},
   "outputs": [
    {
     "data": {
      "image/png": "[encoded data removed]",
      "text/plain": [
       "<matplotlib.figure.Figure at 0x7fbe4b2450f0>"
      ]
     },
     "metadata": {},
     "output_type": "display_data"
    }
   ],
   "source": [
    "# E agora, os gráficos!\n",
    "_, [ax1,ax2,ax3] = plt.subplots(ncols=3, figsize=(18,4))\n",
    "\n",
    "### Resposta aqui\n",
    "\n",
    "\n",
    "plt.show()"
   ]
  }
 ],
 "metadata": {
  "kernelspec": {
   "display_name": "Python 3",
   "language": "python3.4",
   "name": "python3"
  },
  "language_info": {
   "codemirror_mode": {
    "name": "ipython",
    "version": 3
   },
   "file_extension": ".py",
   "mimetype": "text/x-python",
   "name": "python",
   "nbconvert_exporter": "python",
   "pygments_lexer": "ipython3",
   "version": "3.4.6"
  }
 },
 "nbformat": 4,
 "nbformat_minor": 1
}
