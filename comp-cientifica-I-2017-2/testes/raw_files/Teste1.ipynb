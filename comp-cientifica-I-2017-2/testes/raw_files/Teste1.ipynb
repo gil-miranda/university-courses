{
 "cells": [
  {
   "cell_type": "markdown",
   "metadata": {},
   "source": [
    "![CC-BY-SA](https://mirrors.creativecommons.org/presskit/buttons/88x31/svg/by-sa.svg)\n",
    "This notebook was created by [Bernardo Freitas Paulo da Costa](http://www.im.ufrj.br/bernardofpc),\n",
    "and is licensed under Creative Commons BY-SA"
   ]
  },
  {
   "cell_type": "markdown",
   "metadata": {},
   "source": [
    "# Listas e funções.\n",
    "\n",
    "\n",
    "Uma habilidade fundamental deste curso é se sentir à vontade para manipular listas e funções.\n",
    "Nada melhor que um exercício que misture as duas!"
   ]
  },
  {
   "cell_type": "code",
   "execution_count": null,
   "metadata": {
    "deletable": false,
    "editable": false,
    "nbgrader": {
     "checksum": "d2cf2fcdcb663b6a25acf06db2b479b7",
     "grade": false,
     "grade_id": "import_math",
     "locked": true,
     "schema_version": 1,
     "solution": false
    }
   },
   "outputs": [],
   "source": [
    "from math import sin, cos"
   ]
  },
  {
   "cell_type": "code",
   "execution_count": null,
   "metadata": {
    "collapsed": true,
    "deletable": false,
    "editable": false,
    "nbgrader": {
     "checksum": "bb58a73ce452fa6f2c2de26f07f86c29",
     "grade": false,
     "grade_id": "inspect_tests",
     "locked": true,
     "schema_version": 1,
     "solution": false
    }
   },
   "outputs": [],
   "source": [
    "from inspect import getsourcelines\n",
    "import re\n",
    "\n",
    "def haslistcomp(fun):\n",
    "    t,_ = getsourcelines(fun)\n",
    "    regexp = re.compile('\\[.* for .* in .*\\]')\n",
    "    for l in t:\n",
    "        if regexp.search(l):\n",
    "            return True\n",
    "    return False\n",
    "\n",
    "def has_selfcall(fun):\n",
    "    t,i = getsourcelines(fun)\n",
    "    regexp = re.compile(fun.__name__)\n",
    "    numcalls = sum([1 for l in t[i:] if regexp.search(l)])\n",
    "    return numcalls > 0"
   ]
  },
  {
   "cell_type": "markdown",
   "metadata": {},
   "source": [
    "# Aplicando funções em listas\n",
    "\n",
    "Escreva uma função `aplicar_na_lista` que recebe uma função `f` e uma lista `l`\n",
    "e retorna a lista resultante de aplicar `f` em cada um dos elementos de `l`.\n",
    "\n",
    "Use uma [_list comprehension_](https://docs.python.org/3/tutorial/datastructures.html#list-comprehensions) para fazer isso."
   ]
  },
  {
   "cell_type": "code",
   "execution_count": null,
   "metadata": {
    "collapsed": true,
    "deletable": false,
    "nbgrader": {
     "checksum": "e8c2fb1f013da4efa1d34551e494689f",
     "grade": false,
     "grade_id": "aplicar_na_lista",
     "locked": false,
     "schema_version": 1,
     "solution": true
    }
   },
   "outputs": [],
   "source": [
    "def aplicar_na_lista(f,l):\n",
    "    # YOUR CODE HERE\n",
    "    raise NotImplementedError()"
   ]
  },
  {
   "cell_type": "markdown",
   "metadata": {},
   "source": [
    "Vamos ver que está funcionando:"
   ]
  },
  {
   "cell_type": "code",
   "execution_count": null,
   "metadata": {},
   "outputs": [],
   "source": [
    "# Criando uma lista\n",
    "l = list(range(10))\n",
    "l"
   ]
  },
  {
   "cell_type": "code",
   "execution_count": null,
   "metadata": {
    "deletable": false,
    "editable": false,
    "nbgrader": {
     "checksum": "4b7a4e9f78f94e955d4d30aeecb9bf72",
     "grade": true,
     "grade_id": "aplicar_na_lista1",
     "locked": true,
     "points": 1,
     "schema_version": 1,
     "solution": false
    }
   },
   "outputs": [],
   "source": [
    "assert aplicar_na_lista(cos, l) == [1.0,\n",
    " 0.5403023058681398,\n",
    " -0.4161468365471424,\n",
    " -0.9899924966004454,\n",
    " -0.6536436208636119,\n",
    " 0.28366218546322625,\n",
    " 0.960170286650366,\n",
    " 0.7539022543433046,\n",
    " -0.14550003380861354,\n",
    " -0.9111302618846769]"
   ]
  },
  {
   "cell_type": "code",
   "execution_count": null,
   "metadata": {},
   "outputs": [],
   "source": [
    "def odd(x):\n",
    "    return x%2\n",
    "\n",
    "aplicar_na_lista(odd, l)"
   ]
  },
  {
   "cell_type": "code",
   "execution_count": null,
   "metadata": {
    "deletable": false,
    "editable": false,
    "nbgrader": {
     "checksum": "42bf8430aa92173ed66764cbc1b4e259",
     "grade": true,
     "grade_id": "aplicar_na_lista2",
     "locked": true,
     "points": 1,
     "schema_version": 1,
     "solution": false
    }
   },
   "outputs": [],
   "source": [
    "assert aplicar_na_lista(odd, l) == [0, 1, 0, 1, 0, 1, 0, 1, 0, 1]"
   ]
  },
  {
   "cell_type": "markdown",
   "metadata": {},
   "source": [
    "Agora, vamos ver se de fato você usou uma list comprehension:"
   ]
  },
  {
   "cell_type": "code",
   "execution_count": null,
   "metadata": {
    "deletable": false,
    "editable": false,
    "nbgrader": {
     "checksum": "e2a17b93be824da2fd57413db9ea6c53",
     "grade": true,
     "grade_id": "aplicar_na_lista_listcomp",
     "locked": true,
     "points": 3,
     "schema_version": 1,
     "solution": false
    }
   },
   "outputs": [],
   "source": [
    "assert haslistcomp(aplicar_na_lista)"
   ]
  },
  {
   "cell_type": "markdown",
   "metadata": {},
   "source": [
    "Veja só que propriedade interessante!"
   ]
  },
  {
   "cell_type": "code",
   "execution_count": null,
   "metadata": {},
   "outputs": [],
   "source": [
    "from numpy.random import randint"
   ]
  },
  {
   "cell_type": "code",
   "execution_count": null,
   "metadata": {},
   "outputs": [],
   "source": [
    "n_el = randint(100)\n",
    "x = list(range(n_el*2))\n",
    "sum(aplicar_na_lista(odd, x)), n_el"
   ]
  },
  {
   "cell_type": "markdown",
   "metadata": {},
   "source": [
    "Podemos usar propriedades interessantes para testar a sua função de forma aleatória!"
   ]
  },
  {
   "cell_type": "code",
   "execution_count": null,
   "metadata": {
    "collapsed": true,
    "deletable": false,
    "editable": false,
    "nbgrader": {
     "checksum": "43aa101db123dfebd1b2071f5cd1b609",
     "grade": true,
     "grade_id": "aplicar_na_lista_rand",
     "locked": true,
     "points": 3,
     "schema_version": 1,
     "solution": false
    }
   },
   "outputs": [],
   "source": [
    "for _ in range(10):\n",
    "    n_el = randint(100)\n",
    "    x = list(range(n_el*2))\n",
    "    assert sum(aplicar_na_lista(odd, x)) == n_el"
   ]
  },
  {
   "cell_type": "markdown",
   "metadata": {},
   "source": [
    "Uma propriedade mais geral ainda:"
   ]
  },
  {
   "cell_type": "code",
   "execution_count": null,
   "metadata": {
    "collapsed": true,
    "deletable": false,
    "editable": false,
    "nbgrader": {
     "checksum": "1419afd6f7c790e9696d857b69de63e5",
     "grade": true,
     "grade_id": "aplicar_na_lista_concat",
     "locked": true,
     "points": 3,
     "schema_version": 1,
     "solution": false
    }
   },
   "outputs": [],
   "source": [
    "l2 = list(range(50,60))\n",
    "assert aplicar_na_lista(odd, l+l2) == aplicar_na_lista(odd, l) + aplicar_na_lista(odd, l2)"
   ]
  },
  {
   "cell_type": "code",
   "execution_count": null,
   "metadata": {
    "collapsed": true,
    "deletable": false,
    "editable": false,
    "nbgrader": {
     "checksum": "213c290d6537bffff12756d1218ca329",
     "grade": true,
     "grade_id": "aplicar_na_lista_mult",
     "locked": true,
     "points": 2,
     "schema_version": 1,
     "solution": false
    }
   },
   "outputs": [],
   "source": [
    "assert aplicar_na_lista(sin, l*3) == aplicar_na_lista(sin, l)*3"
   ]
  },
  {
   "cell_type": "markdown",
   "metadata": {},
   "source": [
    "## Aplicando várias vezes\n",
    "\n",
    "Escreva uma função recursiva `aplicar_n_vezes` que recebe\n",
    "- uma função `f`,\n",
    "- uma lista `l`,\n",
    "- e um inteiro `n`;\n",
    "\n",
    "e retorna a lista resultante ao aplicar $n$ vezes a função `f` em cada elemento de `l`."
   ]
  },
  {
   "cell_type": "code",
   "execution_count": null,
   "metadata": {
    "collapsed": true,
    "deletable": false,
    "nbgrader": {
     "checksum": "f111a0bc23d36a7d00c0ba2f868fa7ac",
     "grade": false,
     "grade_id": "aplicar_n_vezes",
     "locked": false,
     "schema_version": 1,
     "solution": true
    }
   },
   "outputs": [],
   "source": [
    "def aplicar_n_vezes(f,l,n=2):\n",
    "    # YOUR CODE HERE\n",
    "    raise NotImplementedError()"
   ]
  },
  {
   "cell_type": "markdown",
   "metadata": {},
   "source": [
    "Testes básicos"
   ]
  },
  {
   "cell_type": "code",
   "execution_count": null,
   "metadata": {
    "collapsed": true,
    "deletable": false,
    "editable": false,
    "nbgrader": {
     "checksum": "b8fc82c11b3b0a1b62e4431832432b21",
     "grade": true,
     "grade_id": "aplicar_n_vezes_2",
     "locked": true,
     "points": 2,
     "schema_version": 1,
     "solution": false
    }
   },
   "outputs": [],
   "source": [
    "assert aplicar_na_lista(odd, aplicar_na_lista(odd, l)) == aplicar_n_vezes(odd, l, 2)"
   ]
  },
  {
   "cell_type": "code",
   "execution_count": null,
   "metadata": {
    "collapsed": true,
    "deletable": false,
    "editable": false,
    "nbgrader": {
     "checksum": "9c8237a7904a746051ac22f4a79cb544",
     "grade": true,
     "grade_id": "aplicar_n_vezes_3",
     "locked": true,
     "points": 1,
     "schema_version": 1,
     "solution": false
    }
   },
   "outputs": [],
   "source": [
    "assert aplicar_na_lista(sin, aplicar_na_lista(sin, aplicar_na_lista(sin, l))) == aplicar_n_vezes(sin, l, 3)"
   ]
  },
  {
   "cell_type": "markdown",
   "metadata": {},
   "source": [
    "De novo, uma propriedade \"geral\":"
   ]
  },
  {
   "cell_type": "code",
   "execution_count": null,
   "metadata": {
    "collapsed": true,
    "deletable": false,
    "editable": false,
    "nbgrader": {
     "checksum": "05c33dd5afc79c25acf19a2ce53ebf21",
     "grade": true,
     "grade_id": "aplicar_n_vezes_35",
     "locked": true,
     "points": 1,
     "schema_version": 1,
     "solution": false
    }
   },
   "outputs": [],
   "source": [
    "assert aplicar_n_vezes(sin, aplicar_n_vezes(sin, l, 5), 3) == aplicar_n_vezes(sin, l, 8)"
   ]
  },
  {
   "cell_type": "markdown",
   "metadata": {},
   "source": [
    "Vamos ver que você fez uma função recursiva, testando se a função chama a si mesma:"
   ]
  },
  {
   "cell_type": "code",
   "execution_count": null,
   "metadata": {
    "collapsed": true,
    "deletable": false,
    "editable": false,
    "nbgrader": {
     "checksum": "2fd7740b590473ab3f38970b6556ea4c",
     "grade": true,
     "grade_id": "aplicar_n_vezes_rec_call",
     "locked": true,
     "points": 1,
     "schema_version": 1,
     "solution": false
    }
   },
   "outputs": [],
   "source": [
    "assert has_selfcall(aplicar_n_vezes)"
   ]
  },
  {
   "cell_type": "markdown",
   "metadata": {},
   "source": [
    "Também podemos testar que **de fato** a função está chamando a si mesma obrigando o Python a calcular \"recursões demais\",\n",
    "o que gera um erro:"
   ]
  },
  {
   "cell_type": "code",
   "execution_count": null,
   "metadata": {
    "deletable": false,
    "editable": false,
    "nbgrader": {
     "checksum": "2a7c37e52fb7c71b384e15415dd20aa7",
     "grade": true,
     "grade_id": "aplicar_n_vezes_rec_explode",
     "locked": true,
     "points": 2,
     "schema_version": 1,
     "solution": false
    }
   },
   "outputs": [],
   "source": [
    "import sys\n",
    "prevlim = sys.getrecursionlimit()\n",
    "sys.setrecursionlimit(50)\n",
    "\n",
    "try:\n",
    "    aplicar_n_vezes(sin, l, 50)\n",
    "    sys.setrecursionlimit(prevlim)\n",
    "    assert False\n",
    "except RuntimeError as e:\n",
    "    sys.setrecursionlimit(prevlim)\n",
    "    assert e.args[0][:32] == 'maximum recursion depth exceeded'"
   ]
  },
  {
   "cell_type": "markdown",
   "metadata": {},
   "source": [
    "Agora, escreva uma versão _iterativa_ da função `aplicar_n_vezes`, que usa um `for`,\n",
    "e não estoura o limite de recursão (já que a função não chama a si mesma!)"
   ]
  },
  {
   "cell_type": "code",
   "execution_count": null,
   "metadata": {
    "collapsed": true,
    "deletable": false,
    "nbgrader": {
     "checksum": "c4a8d170d9746c7f18bfc3e4e535c141",
     "grade": false,
     "grade_id": "aplicar_n_iter",
     "locked": false,
     "schema_version": 1,
     "solution": true
    }
   },
   "outputs": [],
   "source": [
    "def aplicar_n_vezes_iter(f,l,n=2):\n",
    "    # YOUR CODE HERE\n",
    "    raise NotImplementedError()"
   ]
  },
  {
   "cell_type": "markdown",
   "metadata": {},
   "source": [
    "Agora, os testes são óbvios temos uma função \"de referência\" para comparar!"
   ]
  },
  {
   "cell_type": "code",
   "execution_count": null,
   "metadata": {
    "collapsed": true,
    "deletable": false,
    "editable": false,
    "nbgrader": {
     "checksum": "cf907d9d086c3c8a42fb2c6ab7d1adbd",
     "grade": true,
     "grade_id": "aplicar_n_iter_1",
     "locked": true,
     "points": 2,
     "schema_version": 1,
     "solution": false
    }
   },
   "outputs": [],
   "source": [
    "assert aplicar_n_vezes_iter(sin, l, 3) == aplicar_n_vezes(sin, l, 3)"
   ]
  },
  {
   "cell_type": "code",
   "execution_count": null,
   "metadata": {
    "deletable": false,
    "editable": false,
    "nbgrader": {
     "checksum": "f713a097faa957816ba7507b05f851f4",
     "grade": true,
     "grade_id": "aplicar_n_iter_2",
     "locked": true,
     "points": 2,
     "schema_version": 1,
     "solution": false
    }
   },
   "outputs": [],
   "source": [
    "res1 = aplicar_n_vezes_iter(cos, l2+l+l2, 8)\n",
    "res2 = aplicar_n_vezes(cos, l2, 8) + aplicar_n_vezes(cos, l, 8) + aplicar_n_vezes(cos, l2, 8)\n",
    "assert res1 == res2"
   ]
  },
  {
   "cell_type": "markdown",
   "metadata": {},
   "source": [
    "Vejamos que a sua função não estoura a pilha!"
   ]
  },
  {
   "cell_type": "code",
   "execution_count": null,
   "metadata": {
    "deletable": false,
    "editable": false,
    "nbgrader": {
     "checksum": "f28467695eff6a700bd3ae90595e4925",
     "grade": true,
     "grade_id": "aplicar_n_iter_nonrec",
     "locked": true,
     "points": 3,
     "schema_version": 1,
     "solution": false
    }
   },
   "outputs": [],
   "source": [
    "sys.setrecursionlimit(50)\n",
    "\n",
    "try:\n",
    "    aplicar_n_vezes_iter(sin, l, 50)\n",
    "    sys.setrecursionlimit(prevlim)\n",
    "except RuntimeError as e:\n",
    "    sys.setrecursionlimit(prevlim)\n",
    "    assert False"
   ]
  }
 ],
 "metadata": {
  "kernelspec": {
   "display_name": "Python 3",
   "language": "python",
   "name": "python3"
  },
  "language_info": {
   "codemirror_mode": {
    "name": "ipython",
    "version": 3
   },
   "file_extension": ".py",
   "mimetype": "text/x-python",
   "name": "python",
   "nbconvert_exporter": "python",
   "pygments_lexer": "ipython3",
   "version": "3.4.6"
  }
 },
 "nbformat": 4,
 "nbformat_minor": 2
}
