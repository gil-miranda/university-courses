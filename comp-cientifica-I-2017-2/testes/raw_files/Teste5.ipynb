{
 "cells": [
  {
   "cell_type": "markdown",
   "metadata": {},
   "source": [
    "![CC-BY-SA](https://mirrors.creativecommons.org/presskit/buttons/88x31/svg/by-sa.svg)\n",
    "This notebook was created by [Bernardo Freitas Paulo da Costa](http://www.im.ufrj.br/bernardofpc),\n",
    "and is licensed under Creative Commons BY-SA"
   ]
  },
  {
   "cell_type": "code",
   "execution_count": null,
   "metadata": {},
   "outputs": [],
   "source": [
    "import numpy as np\n",
    "import matplotlib.pyplot as plt"
   ]
  },
  {
   "cell_type": "markdown",
   "metadata": {},
   "source": [
    "# Calculando derivadas de ordem superior\n",
    "\n",
    "A primeira ideia para calcular a derivada segunda de uma função é calcular duas vezes a derivada.\n",
    "Inclusive porque esta é a definição!\n",
    "\n",
    "Assim, $f''(x) \\sim [f'(x+h) - f'(x-h)]/2h$, e o cálculo de $f'(x\\pm h)$ pode ser feito analogamente.\n",
    "\n",
    "Implemente esta fórmula."
   ]
  },
  {
   "cell_type": "code",
   "execution_count": null,
   "metadata": {
    "deletable": false,
    "nbgrader": {
     "checksum": "feb974864c343eca5929d1e13a5312a0",
     "grade": false,
     "grade_id": "ddf",
     "locked": false,
     "schema_version": 1,
     "solution": true
    }
   },
   "outputs": [],
   "source": [
    "def ddf(f, x, h=1e-5):\n",
    "    \"\"\"Calcula uma aproximação da segunda derivada de $f$, nos pontos do vetor x, usando passos de tamanho $h$.\"\"\"\n",
    "    # YOUR CODE HERE\n",
    "    raise NotImplementedError()"
   ]
  },
  {
   "cell_type": "markdown",
   "metadata": {},
   "source": [
    "Testando uma função fácil."
   ]
  },
  {
   "cell_type": "code",
   "execution_count": null,
   "metadata": {
    "deletable": false,
    "editable": false,
    "nbgrader": {
     "checksum": "1c78053d65e90f0468f7cba51adca69d",
     "grade": true,
     "grade_id": "ddf1",
     "locked": true,
     "points": 1,
     "schema_version": 1,
     "solution": false
    }
   },
   "outputs": [],
   "source": [
    "# Perto\n",
    "assert np.abs(ddf(np.sin, 1, 0.01) - (-np.sin(1))) < 1e-4"
   ]
  },
  {
   "cell_type": "code",
   "execution_count": null,
   "metadata": {
    "deletable": false,
    "editable": false,
    "nbgrader": {
     "checksum": "c5ee69578f309269527cf625f76b4fbb",
     "grade": true,
     "grade_id": "ddf2",
     "locked": true,
     "points": 1,
     "schema_version": 1,
     "solution": false
    }
   },
   "outputs": [],
   "source": [
    "# Mas não perto demais\n",
    "assert np.abs(ddf(np.sin, 1, 0.01) - (-np.sin(1))) > 1e-6"
   ]
  },
  {
   "cell_type": "code",
   "execution_count": null,
   "metadata": {
    "deletable": false,
    "editable": false,
    "nbgrader": {
     "checksum": "ce3b807fbb6163d7674a1e8470726385",
     "grade": true,
     "grade_id": "ddf3",
     "locked": true,
     "points": 1,
     "schema_version": 1,
     "solution": false
    }
   },
   "outputs": [],
   "source": [
    "# Bem mais perto de algo um pouco errado\n",
    "assert np.isclose(ddf(np.sin, 1, 0.01), -0.841442936, atol=1e-7)"
   ]
  },
  {
   "cell_type": "markdown",
   "metadata": {},
   "source": [
    "Testando que, ao diminuir o passo, de fato o erro diminui."
   ]
  },
  {
   "cell_type": "code",
   "execution_count": null,
   "metadata": {
    "deletable": false,
    "editable": false,
    "nbgrader": {
     "checksum": "7622ce74d0422b94741c87ca5f29dcb4",
     "grade": true,
     "grade_id": "ddf4",
     "locked": true,
     "points": 1,
     "schema_version": 1,
     "solution": false
    }
   },
   "outputs": [],
   "source": [
    "assert np.abs(ddf(np.sin, 1, 0.001) - (-np.sin(1))) < 1e-6"
   ]
  },
  {
   "cell_type": "code",
   "execution_count": null,
   "metadata": {
    "deletable": false,
    "editable": false,
    "nbgrader": {
     "checksum": "e2df0fe7c104de8e08378191ea39eb46",
     "grade": true,
     "grade_id": "ddf5",
     "locked": true,
     "points": 1,
     "schema_version": 1,
     "solution": false
    }
   },
   "outputs": [],
   "source": [
    "assert np.abs(ddf(np.sin, 1, 0.001) - (-np.sin(1))) > 1e-8"
   ]
  },
  {
   "cell_type": "code",
   "execution_count": null,
   "metadata": {
    "deletable": false,
    "editable": false,
    "nbgrader": {
     "checksum": "28abe9f882ee2fca40f611896f3b15a8",
     "grade": true,
     "grade_id": "ddf6",
     "locked": true,
     "points": 1,
     "schema_version": 1,
     "solution": false
    }
   },
   "outputs": [],
   "source": [
    "assert np.isclose(ddf(np.sin, 1, 0.001), -0.8414704338, atol=1e-9)"
   ]
  },
  {
   "cell_type": "markdown",
   "metadata": {},
   "source": [
    "### Derivadas laterais\n",
    "\n",
    "Poderíamos ter calculado duas vezes as derivadas laterais.\n",
    "Implemente esta solução também."
   ]
  },
  {
   "cell_type": "code",
   "execution_count": null,
   "metadata": {
    "deletable": false,
    "nbgrader": {
     "checksum": "26e6e68938766c5c535a44cd11bce1ed",
     "grade": false,
     "grade_id": "ddf_l",
     "locked": false,
     "schema_version": 1,
     "solution": true
    }
   },
   "outputs": [],
   "source": [
    "def ddf_lateral(f, x, h=1e-5):\n",
    "    \"\"\"Calcula uma aproximação da segunda derivada de $f$, nos pontos do vetor x, usando passos de tamanho $h$.\"\"\"\n",
    "    # YOUR CODE HERE\n",
    "    raise NotImplementedError()"
   ]
  },
  {
   "cell_type": "code",
   "execution_count": null,
   "metadata": {
    "deletable": false,
    "editable": false,
    "nbgrader": {
     "checksum": "41f5635bb5a3c3fddf35ea715d40d78a",
     "grade": true,
     "grade_id": "ddf_l1",
     "locked": true,
     "points": 1,
     "schema_version": 1,
     "solution": false
    }
   },
   "outputs": [],
   "source": [
    "assert np.abs(ddf_lateral(np.sin, 1, 0.01) + np.sin(1)) < 1e-2\n",
    "assert np.abs(ddf_lateral(np.sin, 1, 0.01) + np.sin(1)) > 1e-3"
   ]
  },
  {
   "cell_type": "code",
   "execution_count": null,
   "metadata": {
    "deletable": false,
    "editable": false,
    "nbgrader": {
     "checksum": "1b306d6e77318b7aac86aefcb93a2487",
     "grade": true,
     "grade_id": "ddf_l2",
     "locked": true,
     "points": 1,
     "schema_version": 1,
     "solution": false
    }
   },
   "outputs": [],
   "source": [
    "assert np.isclose(ddf_lateral(np.sin, 1, 0.01), -0.84682478770914393, atol=1e-5)"
   ]
  },
  {
   "cell_type": "markdown",
   "metadata": {},
   "source": [
    "Ao diminuir o passo, o erro diminui também"
   ]
  },
  {
   "cell_type": "code",
   "execution_count": null,
   "metadata": {
    "deletable": false,
    "editable": false,
    "nbgrader": {
     "checksum": "2ea608b984af08d01fa67aeeadd773be",
     "grade": true,
     "grade_id": "ddf_l3",
     "locked": true,
     "points": 2,
     "schema_version": 1,
     "solution": false
    }
   },
   "outputs": [],
   "source": [
    "e1 = ddf_lateral(np.sin, 1, 0.01) + np.sin(1)\n",
    "e2 = ddf_lateral(np.sin, 1, 0.001) + np.sin(1)\n",
    "assert np.isclose(np.abs(e1/e2), 10, atol=1)"
   ]
  },
  {
   "cell_type": "code",
   "execution_count": null,
   "metadata": {
    "deletable": false,
    "editable": false,
    "nbgrader": {
     "checksum": "31b1fc974c421a27ccccf9e156da116a",
     "grade": true,
     "grade_id": "ddf_l4",
     "locked": true,
     "points": 2,
     "schema_version": 1,
     "solution": false
    }
   },
   "outputs": [],
   "source": [
    "np.random.seed(1)\n",
    "for x in np.random.randn(100):\n",
    "    e1 = ddf_lateral(np.sin, x, 0.01) + np.sin(x)\n",
    "    e2 = ddf_lateral(np.sin, x, 0.0001) + np.sin(x)\n",
    "    assert np.isclose(np.abs(e1/e2), 100, atol=15), (x, e1, e2, e1/e2)"
   ]
  },
  {
   "cell_type": "markdown",
   "metadata": {},
   "source": [
    "## Gráficos\n",
    "\n",
    "Faça um gráfico do erro da segunda derivada, para algum valor do passo,\n",
    "usando ambos os métodos `ddf` e `ddf_lateral`.\n",
    "Qual dá o maior erro?"
   ]
  },
  {
   "cell_type": "code",
   "execution_count": null,
   "metadata": {
    "deletable": false,
    "nbgrader": {
     "checksum": "af50c129efb906d4e2bce5daa41f36fc",
     "grade": true,
     "grade_id": "graf_err",
     "locked": false,
     "points": 3,
     "schema_version": 1,
     "solution": true
    }
   },
   "outputs": [],
   "source": [
    "f = np.sin\n",
    "xs = np.arange(0,7,0.05)\n",
    "# YOUR CODE HERE\n",
    "raise NotImplementedError()"
   ]
  },
  {
   "cell_type": "markdown",
   "metadata": {},
   "source": [
    "Mude o tamanho do passo, e refaça os gráficos.\n",
    "**Antes** de aparecer erro numérico, os erros tendem a zero?\n",
    "Com que velocidade?"
   ]
  },
  {
   "cell_type": "code",
   "execution_count": null,
   "metadata": {
    "deletable": false,
    "nbgrader": {
     "checksum": "612dcb310d3abb17b64c705f18417579",
     "grade": true,
     "grade_id": "graph_err2",
     "locked": false,
     "points": 2,
     "schema_version": 1,
     "solution": true
    }
   },
   "outputs": [],
   "source": [
    "# YOUR CODE HERE\n",
    "raise NotImplementedError()"
   ]
  },
  {
   "cell_type": "markdown",
   "metadata": {},
   "source": [
    "Comente abaixo a velocidade de decaimento do erro."
   ]
  },
  {
   "cell_type": "markdown",
   "metadata": {
    "deletable": false,
    "nbgrader": {
     "checksum": "9e4b1e26da0c5ca8c7519ee5767b3ce0",
     "grade": true,
     "grade_id": "err_decay",
     "locked": false,
     "points": 2,
     "schema_version": 1,
     "solution": true
    }
   },
   "source": [
    "YOUR ANSWER HERE"
   ]
  },
  {
   "cell_type": "markdown",
   "metadata": {},
   "source": [
    "## Limites de passo\n",
    "\n",
    "Já sabemos que não podemos fazer $h \\to 0$.\n",
    "O objetivo desta parte é encontrar um $h$ \"quase ótimo\" para cada um dos métodos."
   ]
  },
  {
   "cell_type": "code",
   "execution_count": null,
   "metadata": {},
   "outputs": [],
   "source": [
    "### Interactive solution\n",
    "from ipywidgets import IntSlider, interactive"
   ]
  },
  {
   "cell_type": "markdown",
   "metadata": {},
   "source": [
    "Escreva uma função `do(logh1, logh2)` que faz dois gráficos de erro do seno, no intervalo $[0,7]$,\n",
    "para passos $h_1 = 2^{\\tt logh1}$ para a derivada simétrica `ddf`,\n",
    "e respectivamente para $h_2 = 2^{\\tt logh2}$ para a derivada lateral `ddf_lateral`."
   ]
  },
  {
   "cell_type": "code",
   "execution_count": null,
   "metadata": {
    "deletable": false,
    "nbgrader": {
     "checksum": "01f2a087c3a695d97093d8ee5ac0ba80",
     "grade": true,
     "grade_id": "do_iter",
     "locked": false,
     "points": 3,
     "schema_version": 1,
     "solution": true
    }
   },
   "outputs": [],
   "source": [
    "xs = np.arange(0,7,0.05)\n",
    "# YOUR CODE HERE\n",
    "raise NotImplementedError()"
   ]
  },
  {
   "cell_type": "code",
   "execution_count": null,
   "metadata": {},
   "outputs": [],
   "source": [
    "logh1s = IntSlider(min=0, value=5, max=30)\n",
    "logh2s = IntSlider(min=0, value=5, max=30)\n",
    "\n",
    "interactive(do, logh1=logh1s, logh2=logh2s)"
   ]
  },
  {
   "cell_type": "markdown",
   "metadata": {},
   "source": [
    "## Generalizando\n",
    "\n",
    "Como seria a fórmula para a derivada terceira?\n",
    "Implemente o método simétrico abaixo."
   ]
  },
  {
   "cell_type": "code",
   "execution_count": null,
   "metadata": {
    "deletable": false,
    "nbgrader": {
     "checksum": "9b1930655042bc5ed02582e415a9deb0",
     "grade": false,
     "grade_id": "dddf",
     "locked": false,
     "schema_version": 1,
     "solution": true
    }
   },
   "outputs": [],
   "source": [
    "def dddf(f, x, h=1e-5):\n",
    "# YOUR CODE HERE\n",
    "raise NotImplementedError()"
   ]
  },
  {
   "cell_type": "code",
   "execution_count": null,
   "metadata": {
    "deletable": false,
    "editable": false,
    "nbgrader": {
     "checksum": "512160e5ca0d645aae66120f321f3882",
     "grade": true,
     "grade_id": "dddf1",
     "locked": true,
     "points": 1,
     "schema_version": 1,
     "solution": false
    }
   },
   "outputs": [],
   "source": [
    "assert (dddf(np.sin, 1, 0.01) + np.cos(1)) < 1e-4"
   ]
  },
  {
   "cell_type": "code",
   "execution_count": null,
   "metadata": {
    "deletable": false,
    "editable": false,
    "nbgrader": {
     "checksum": "871a9b3dd84c6142029004ab9f2b3177",
     "grade": true,
     "grade_id": "dddf2",
     "locked": true,
     "points": 1,
     "schema_version": 1,
     "solution": false
    }
   },
   "outputs": [],
   "source": [
    "assert (dddf(np.sin, 1, 0.01) + np.cos(1)) > 1e-5"
   ]
  },
  {
   "cell_type": "markdown",
   "metadata": {},
   "source": [
    "Fixando $x=1$, e variando $h$, faça um gráfico do erro de cálculo para a derivada terceira do seno.\n",
    "Qual parece ser o melhor passo para a derivada terceira simétrica?"
   ]
  },
  {
   "cell_type": "code",
   "execution_count": null,
   "metadata": {
    "deletable": false,
    "nbgrader": {
     "checksum": "4712f96b7aa53691dcc37d8e706b8396",
     "grade": true,
     "grade_id": "graph_err_ddd1",
     "locked": false,
     "points": 2,
     "schema_version": 1,
     "solution": true
    }
   },
   "outputs": [],
   "source": [
    "# Seno\n",
    "# YOUR CODE HERE\n",
    "raise NotImplementedError()"
   ]
  },
  {
   "cell_type": "markdown",
   "metadata": {},
   "source": [
    "Faça abaixo um gráfico análogo, para a derivada terceira da exponencial, calculada em $x = 1, 3, 10$.\n",
    "Use uma única figura e três curvas, portanto não esqueça da legenda."
   ]
  },
  {
   "cell_type": "code",
   "execution_count": null,
   "metadata": {
    "deletable": false,
    "nbgrader": {
     "checksum": "7794ab10ddac48fe89b4465fb17e7ad0",
     "grade": true,
     "grade_id": "graph_err_ddd2",
     "locked": false,
     "points": 3,
     "schema_version": 1,
     "solution": true
    }
   },
   "outputs": [],
   "source": [
    "xs = np.array([0.1,0.3,1,3])\n",
    "# YOUR CODE HERE\n",
    "raise NotImplementedError()"
   ]
  },
  {
   "cell_type": "markdown",
   "metadata": {},
   "source": [
    "Comente abaixo os gráficos em especial o ponto de menor erro para a derivada terceira.\n",
    "\n",
    "Você percebe alguma relação do \"melhor $h$\" para cada uma das derivadas simétricas que calculamos ($f'$, $f''$ e $f'''$)?"
   ]
  },
  {
   "cell_type": "markdown",
   "metadata": {
    "deletable": false,
    "nbgrader": {
     "checksum": "b1f397c798747534bd4fbd3d2c786edf",
     "grade": true,
     "grade_id": "comments",
     "locked": false,
     "points": 3,
     "schema_version": 1,
     "solution": true
    }
   },
   "source": [
    "YOUR ANSWER HERE"
   ]
  }
 ],
 "metadata": {
  "kernelspec": {
   "display_name": "Python 3",
   "language": "python",
   "name": "python3"
  },
  "language_info": {
   "codemirror_mode": {
    "name": "ipython",
    "version": 3
   },
   "file_extension": ".py",
   "mimetype": "text/x-python",
   "name": "python",
   "nbconvert_exporter": "python",
   "pygments_lexer": "ipython3",
   "version": "3.4.6"
  }
 },
 "nbformat": 4,
 "nbformat_minor": 1
}
