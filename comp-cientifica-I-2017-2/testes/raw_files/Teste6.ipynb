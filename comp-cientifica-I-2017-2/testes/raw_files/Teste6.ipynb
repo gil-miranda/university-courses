{
 "cells": [
  {
   "cell_type": "markdown",
   "metadata": {},
   "source": [
    "![CC-BY-SA](https://mirrors.creativecommons.org/presskit/buttons/88x31/svg/by-sa.svg)\n",
    "This notebook was created by [Bernardo Freitas Paulo da Costa](http://www.im.ufrj.br/bernardofpc),\n",
    "and is licensed under Creative Commons BY-SA"
   ]
  },
  {
   "cell_type": "code",
   "execution_count": null,
   "metadata": {
    "deletable": false,
    "editable": false,
    "nbgrader": {
     "checksum": "d493560ca054c010ecabc1a2e5fd6e9b",
     "grade": false,
     "grade_id": "cell-a9fe2e0bccbef2b5",
     "locked": true,
     "schema_version": 1,
     "solution": false
    }
   },
   "outputs": [],
   "source": [
    "import numpy as np\n",
    "import matplotlib.pyplot as plt"
   ]
  },
  {
   "cell_type": "markdown",
   "metadata": {},
   "source": [
    "Inclua abaixo seus métodos numéricos para encontrar raízes."
   ]
  },
  {
   "cell_type": "code",
   "execution_count": null,
   "metadata": {
    "deletable": false,
    "nbgrader": {
     "checksum": "4a5bb8e2662a0dd0c0112ae86cdb3779",
     "grade": false,
     "grade_id": "cell-99416d31c0cf2a14",
     "locked": false,
     "schema_version": 1,
     "solution": true
    }
   },
   "outputs": [],
   "source": [
    "# YOUR CODE HERE\n",
    "raise NotImplementedError()"
   ]
  },
  {
   "cell_type": "markdown",
   "metadata": {},
   "source": [
    "# Encontrando raízes de polinômios\n",
    "\n",
    "O objetivo desta prova é desenvolver um método eficiente para encontrar\n",
    "todas as raízes reais de um polinômio com coeficientes reais."
   ]
  },
  {
   "cell_type": "markdown",
   "metadata": {},
   "source": [
    "# Parte 1: polinômios de grau pequeno (independente das partes 2 e 3)\n",
    "\n",
    "## 1.1 Funções afins\n",
    "\n",
    "Suponha que $f$ é um polinômio de grau 1.  Escreva uma função que retorna a sua raiz."
   ]
  },
  {
   "cell_type": "code",
   "execution_count": null,
   "metadata": {
    "deletable": false,
    "nbgrader": {
     "checksum": "0db78141cb887f434d4343ac2b75b20c",
     "grade": false,
     "grade_id": "raiz1",
     "locked": false,
     "schema_version": 1,
     "solution": true
    }
   },
   "outputs": [],
   "source": [
    "def raiz1(f):\n",
    "    # YOUR CODE HERE\n",
    "    raise NotImplementedError()"
   ]
  },
  {
   "cell_type": "code",
   "execution_count": null,
   "metadata": {},
   "outputs": [],
   "source": [
    "def f_lin(x):\n",
    "    return 4*x + 1.342\n",
    "\n",
    "raiz1(f_lin)"
   ]
  },
  {
   "cell_type": "code",
   "execution_count": null,
   "metadata": {},
   "outputs": [],
   "source": [
    "f_lin(raiz1(f_lin))"
   ]
  },
  {
   "cell_type": "code",
   "execution_count": null,
   "metadata": {
    "deletable": false,
    "editable": false,
    "nbgrader": {
     "checksum": "f3670fdbb6225ae50017df943d471934",
     "grade": true,
     "grade_id": "raiz1_test",
     "locked": true,
     "points": 2,
     "schema_version": 1,
     "solution": false
    }
   },
   "outputs": [],
   "source": [
    "def f(x):\n",
    "    return -423.33*x + 784\n",
    "\n",
    "assert raiz1(f) == 1.851983086480996\n",
    "assert f(raiz1(f)) == 0"
   ]
  },
  {
   "cell_type": "code",
   "execution_count": null,
   "metadata": {
    "deletable": false,
    "editable": false,
    "nbgrader": {
     "checksum": "313780927995e92fe63996afa8abea16",
     "grade": true,
     "grade_id": "raiz1_random",
     "locked": true,
     "points": 2,
     "schema_version": 1,
     "solution": false
    }
   },
   "outputs": [],
   "source": [
    "np.random.seed(1)\n",
    "# Gerando 100 polinômios aleatórios de grau 1\n",
    "for a,b in np.random.randn(100, 2):\n",
    "    def f(x):\n",
    "        return a*x + b\n",
    "    r = raiz1(f)\n",
    "    assert np.abs( f(r) ) < 2e-14 * (np.abs(r) + np.abs(b)), (a,b,r,f(r))"
   ]
  },
  {
   "cell_type": "markdown",
   "metadata": {},
   "source": [
    "Agora, escreva uma função que diz se $f$ é crescente ou decrescente,\n",
    "retornando 1 ou -1 respectivamente."
   ]
  },
  {
   "cell_type": "code",
   "execution_count": null,
   "metadata": {
    "deletable": false,
    "nbgrader": {
     "checksum": "37fcb6eaf7d232b26e2f804753f12811",
     "grade": false,
     "grade_id": "crescente1",
     "locked": false,
     "schema_version": 1,
     "solution": true
    }
   },
   "outputs": [],
   "source": [
    "def crescente1(f):\n",
    "    # YOUR CODE HERE\n",
    "    raise NotImplementedError()"
   ]
  },
  {
   "cell_type": "code",
   "execution_count": null,
   "metadata": {
    "deletable": false,
    "editable": false,
    "nbgrader": {
     "checksum": "f71f37607f13adebfa9e880aee39bdbc",
     "grade": true,
     "grade_id": "crescente1_test",
     "locked": true,
     "points": 1,
     "schema_version": 1,
     "solution": false
    }
   },
   "outputs": [],
   "source": [
    "assert crescente1(f_lin) == 1"
   ]
  },
  {
   "cell_type": "code",
   "execution_count": null,
   "metadata": {
    "deletable": false,
    "editable": false,
    "nbgrader": {
     "checksum": "bfe69cdf64c11bbd0f326261e6bdb3f6",
     "grade": true,
     "grade_id": "crescente1_random",
     "locked": true,
     "points": 1,
     "schema_version": 1,
     "solution": false
    }
   },
   "outputs": [],
   "source": [
    "np.random.seed(2)\n",
    "for a,b in np.random.randn(100, 2):\n",
    "    def f(x):\n",
    "        return a*x + b\n",
    "    r = crescente1(f)\n",
    "    assert r * a > 0"
   ]
  },
  {
   "cell_type": "markdown",
   "metadata": {},
   "source": [
    "## 1.2 Funções quadráticas\n",
    "\n",
    "Suponha agora que $f$ é um polinômio de grau 2.\n",
    "\n",
    "### 1.2.1 Concavidade\n",
    "\n",
    "Escreva uma função que descobre se a concavidade de $f$ está para cima ou para baixo."
   ]
  },
  {
   "cell_type": "code",
   "execution_count": null,
   "metadata": {
    "deletable": false,
    "nbgrader": {
     "checksum": "97ab330f2d660cee4d7a6e4a27027892",
     "grade": false,
     "grade_id": "concavidade",
     "locked": false,
     "schema_version": 1,
     "solution": true
    }
   },
   "outputs": [],
   "source": [
    "def concavidade(f):\n",
    "    # YOUR CODE HERE\n",
    "    raise NotImplementedError()"
   ]
  },
  {
   "cell_type": "code",
   "execution_count": null,
   "metadata": {},
   "outputs": [],
   "source": [
    "def f_quad(x):\n",
    "    return x**2 + 6*x - 10\n",
    "\n",
    "concavidade(f_quad)"
   ]
  },
  {
   "cell_type": "code",
   "execution_count": null,
   "metadata": {
    "deletable": false,
    "editable": false,
    "nbgrader": {
     "checksum": "32a27cbd9ede7441fa8df87081088322",
     "grade": true,
     "grade_id": "concavidate_test",
     "locked": true,
     "points": 1,
     "schema_version": 1,
     "solution": false
    }
   },
   "outputs": [],
   "source": [
    "assert concavidade(f_quad) == 1"
   ]
  },
  {
   "cell_type": "code",
   "execution_count": null,
   "metadata": {
    "deletable": false,
    "editable": false,
    "nbgrader": {
     "checksum": "fb7d83310fdfda2f469cfdc1409e2254",
     "grade": true,
     "grade_id": "concavidade_random",
     "locked": true,
     "points": 2,
     "schema_version": 1,
     "solution": false
    }
   },
   "outputs": [],
   "source": [
    "np.random.seed(3)\n",
    "for a,b,c in np.random.randn(100, 3):\n",
    "    def f(x):\n",
    "        return a*x**2 + b*x + c\n",
    "    ans = concavidade(f)\n",
    "    assert ans == np.sign(a), (ans, a)"
   ]
  },
  {
   "cell_type": "markdown",
   "metadata": {},
   "source": [
    "### 1.2.2 Vértice\n",
    "\n",
    "Agora, faça uma função que encontra o vértice da parábola determinada por $f$."
   ]
  },
  {
   "cell_type": "code",
   "execution_count": null,
   "metadata": {
    "deletable": false,
    "nbgrader": {
     "checksum": "689e506b755c0df3a7e91b9cfff44fca",
     "grade": false,
     "grade_id": "vertice",
     "locked": false,
     "schema_version": 1,
     "solution": true
    }
   },
   "outputs": [],
   "source": [
    "def vertice(f):\n",
    "    # YOUR CODE HERE\n",
    "    raise NotImplementedError()"
   ]
  },
  {
   "cell_type": "code",
   "execution_count": null,
   "metadata": {},
   "outputs": [],
   "source": [
    "vertice(f_quad)"
   ]
  },
  {
   "cell_type": "code",
   "execution_count": null,
   "metadata": {
    "deletable": false,
    "editable": false,
    "nbgrader": {
     "checksum": "c8219bf319d7bf227f5f002661a7ea96",
     "grade": true,
     "grade_id": "vertice_test",
     "locked": true,
     "points": 1,
     "schema_version": 1,
     "solution": false
    }
   },
   "outputs": [],
   "source": [
    "assert vertice(f_quad) == -3"
   ]
  },
  {
   "cell_type": "code",
   "execution_count": null,
   "metadata": {
    "deletable": false,
    "editable": false,
    "nbgrader": {
     "checksum": "7745cae0dbf0b22fd29bad4b6a346af3",
     "grade": true,
     "grade_id": "vertice_random",
     "locked": true,
     "points": 2,
     "schema_version": 1,
     "solution": false
    }
   },
   "outputs": [],
   "source": [
    "np.random.seed(4)\n",
    "for a,b,c in np.random.randn(100, 3):\n",
    "    def f(x):\n",
    "        return a*x**2 + b*x + c\n",
    "    ans = vertice(f)\n",
    "    assert np.abs(ans + b/2/a) < 1e-13 * (np.abs(a) + np.abs(b) + np.abs(ans)), (a,b,-b/2/a, ans+b/2/a)"
   ]
  },
  {
   "cell_type": "markdown",
   "metadata": {},
   "source": [
    "### 1.2.3 Raízes\n",
    "\n",
    "Agora, faça uma função que encontra as duas raízes de $f$, ou que diz que a função não tem raiz.\n",
    "Nesta prova, vamos supor que não há raízes duplas, para simplificar.\n",
    "\n",
    "(Esta função é relativamente fácil se você calculou o vértice)"
   ]
  },
  {
   "cell_type": "code",
   "execution_count": null,
   "metadata": {
    "deletable": false,
    "nbgrader": {
     "checksum": "87167c411b22cc0834894af4294ad57d",
     "grade": false,
     "grade_id": "raiz2",
     "locked": false,
     "schema_version": 1,
     "solution": true
    }
   },
   "outputs": [],
   "source": [
    "def raiz2(f):\n",
    "    # YOUR CODE HERE\n",
    "    raise NotImplementedError()"
   ]
  },
  {
   "cell_type": "code",
   "execution_count": null,
   "metadata": {},
   "outputs": [],
   "source": [
    "raiz2(f_quad)"
   ]
  },
  {
   "cell_type": "code",
   "execution_count": null,
   "metadata": {
    "deletable": false,
    "editable": false,
    "nbgrader": {
     "checksum": "002c4f3d0c6858688326ab80367c79af",
     "grade": true,
     "grade_id": "raiz2_test",
     "locked": true,
     "points": 2,
     "schema_version": 1,
     "solution": false
    }
   },
   "outputs": [],
   "source": [
    "r1, r2 = raiz2(f_quad)\n",
    "assert r1 <= r2\n",
    "assert np.allclose( [f_quad(r1), f_quad(r2)], [0,0], atol=1e-13, rtol=1e-13 )"
   ]
  },
  {
   "cell_type": "code",
   "execution_count": null,
   "metadata": {
    "deletable": false,
    "editable": false,
    "nbgrader": {
     "checksum": "c8b9b51f2e7fd5562cee6f6cacab403b",
     "grade": true,
     "grade_id": "raiz2_none",
     "locked": true,
     "points": 2,
     "schema_version": 1,
     "solution": false
    }
   },
   "outputs": [],
   "source": [
    "def f_quad2(x): return x**2 + 0.1\n",
    "assert raiz2(f_quad2) is None"
   ]
  },
  {
   "cell_type": "markdown",
   "metadata": {},
   "source": [
    "## 1.3 Contando as raizes de uma cúbica\n",
    "\n",
    "Suponha que você tem tanto $f$, um polinômio de grau 3, como $f'$, um polinômio de grau 2.\n",
    "\n",
    "Escreva uma função que diga quantas raízes o polinômio tem,\n",
    "olhando para as raízes de $f'$."
   ]
  },
  {
   "cell_type": "code",
   "execution_count": null,
   "metadata": {
    "deletable": false,
    "nbgrader": {
     "checksum": "fd66a0756321d8e0eccf128438995b43",
     "grade": false,
     "grade_id": "nroots",
     "locked": false,
     "schema_version": 1,
     "solution": true
    }
   },
   "outputs": [],
   "source": [
    "def nroots(f, df):\n",
    "    # YOUR CODE HERE\n",
    "    raise NotImplementedError()"
   ]
  },
  {
   "cell_type": "code",
   "execution_count": null,
   "metadata": {
    "deletable": false,
    "editable": false,
    "nbgrader": {
     "checksum": "874015eff32fe3cd2838a35844e0e078",
     "grade": true,
     "grade_id": "nroots_test1",
     "locked": true,
     "points": 1,
     "schema_version": 1,
     "solution": false
    }
   },
   "outputs": [],
   "source": [
    "def f_cubic(x): return x**3 + x + 1\n",
    "def df_cubic(x): return 3*x**2 + 1\n",
    "\n",
    "assert nroots(f_cubic, df_cubic) == 1"
   ]
  },
  {
   "cell_type": "code",
   "execution_count": null,
   "metadata": {},
   "outputs": [],
   "source": [
    "xs = np.arange(-2,2,0.01)\n",
    "plt.plot(xs, f_cubic(xs))\n",
    "plt.axhline(linestyle='--', color='k', linewidth=1)\n",
    "plt.show()"
   ]
  },
  {
   "cell_type": "code",
   "execution_count": null,
   "metadata": {
    "deletable": false,
    "editable": false,
    "nbgrader": {
     "checksum": "a48820517d080ce755f6c79fda81a24f",
     "grade": true,
     "grade_id": "nroots_test3",
     "locked": true,
     "points": 1,
     "schema_version": 1,
     "solution": false
    }
   },
   "outputs": [],
   "source": [
    "def f_cubic(x): return x**3 - 3*x + 1\n",
    "def df_cubic(x): return 3*x**2 - 3\n",
    "\n",
    "assert nroots(f_cubic, df_cubic) == 3"
   ]
  },
  {
   "cell_type": "code",
   "execution_count": null,
   "metadata": {},
   "outputs": [],
   "source": [
    "xs = np.arange(-2,2,0.01)\n",
    "plt.plot(xs, f_cubic(xs))\n",
    "plt.axhline(linestyle='--', color='k', linewidth=1)\n",
    "plt.show()"
   ]
  },
  {
   "cell_type": "code",
   "execution_count": null,
   "metadata": {
    "deletable": false,
    "editable": false,
    "nbgrader": {
     "checksum": "94d35061b9a2d3b8b65da8dc15d5a88e",
     "grade": true,
     "grade_id": "nroots_random",
     "locked": true,
     "points": 2,
     "schema_version": 1,
     "solution": false
    }
   },
   "outputs": [],
   "source": [
    "# Aqui há testes escondidos"
   ]
  },
  {
   "cell_type": "markdown",
   "metadata": {},
   "source": [
    "# Parte 2: Álgebra computacional\n",
    "\n",
    "Vamos representar um polinômio $p(x) = a_0 + a_1 x + \\ldots + a_d x^d$ pela lista de seus coeficientes, nesta ordem:\n",
    "`[a0, a1, ..., ad]`."
   ]
  },
  {
   "cell_type": "markdown",
   "metadata": {},
   "source": [
    "## 2.1: Calculando polinômios\n",
    "\n",
    "Escreva uma função que, dados os coeficientes, e um número real $x$, retorna $p(x)$.\n",
    "\n",
    "(Não se preocupe em fazer a função ser vetorizada em `x`, não vamos usar muito)"
   ]
  },
  {
   "cell_type": "code",
   "execution_count": null,
   "metadata": {
    "deletable": false,
    "nbgrader": {
     "checksum": "badec3e75928ba2382720e66ab9bbe73",
     "grade": false,
     "grade_id": "evalp",
     "locked": false,
     "schema_version": 1,
     "solution": true
    }
   },
   "outputs": [],
   "source": [
    "def eval_p(p, x):\n",
    "    # YOUR CODE HERE\n",
    "    raise NotImplementedError()"
   ]
  },
  {
   "cell_type": "code",
   "execution_count": null,
   "metadata": {},
   "outputs": [],
   "source": [
    "eval_p([1,2,3], 4)"
   ]
  },
  {
   "cell_type": "code",
   "execution_count": null,
   "metadata": {
    "deletable": false,
    "editable": false,
    "nbgrader": {
     "checksum": "de256b0b26e2a1a85fd30799ac43ae93",
     "grade": true,
     "grade_id": "evalp_test",
     "locked": true,
     "points": 2,
     "schema_version": 1,
     "solution": false
    }
   },
   "outputs": [],
   "source": [
    "assert eval_p([1,2,3], 4) == 57"
   ]
  },
  {
   "cell_type": "markdown",
   "metadata": {},
   "source": [
    "Agora, escreva uma função análoga, que retorna a _função polinomial_ determinada pelos coeficientes."
   ]
  },
  {
   "cell_type": "code",
   "execution_count": null,
   "metadata": {
    "deletable": false,
    "nbgrader": {
     "checksum": "f7c06d1755d2d5f3fb46bd86e65c13ae",
     "grade": false,
     "grade_id": "funp",
     "locked": false,
     "schema_version": 1,
     "solution": true
    }
   },
   "outputs": [],
   "source": [
    "def fun_p(p):\n",
    "    # YOUR CODE HERE\n",
    "    raise NotImplementedError()"
   ]
  },
  {
   "cell_type": "markdown",
   "metadata": {
    "collapsed": true
   },
   "source": [
    "## 2.2: Derivada\n",
    "\n",
    "Escreva uma função que, dados os coeficientes do polinômio, retorna os coeficientes de sua derivada."
   ]
  },
  {
   "cell_type": "code",
   "execution_count": null,
   "metadata": {
    "deletable": false,
    "nbgrader": {
     "checksum": "f5b2ec3d5280eeead026e4cbece5b304",
     "grade": false,
     "grade_id": "dpol",
     "locked": false,
     "schema_version": 1,
     "solution": true
    }
   },
   "outputs": [],
   "source": [
    "def d_pol(p):\n",
    "    # YOUR CODE HERE\n",
    "    raise NotImplementedError()"
   ]
  },
  {
   "cell_type": "code",
   "execution_count": null,
   "metadata": {},
   "outputs": [],
   "source": [
    "d_pol([3,1,5,7,2])"
   ]
  },
  {
   "cell_type": "code",
   "execution_count": null,
   "metadata": {
    "deletable": false,
    "editable": false,
    "nbgrader": {
     "checksum": "37ee3212c1cda8d85988d0dcc0234d5a",
     "grade": true,
     "grade_id": "dpol_test",
     "locked": true,
     "points": 2,
     "schema_version": 1,
     "solution": false
    }
   },
   "outputs": [],
   "source": [
    "assert all(d_pol([3,1,5,7,2]) == np.array([ 1, 10, 21,  8]))"
   ]
  },
  {
   "cell_type": "markdown",
   "metadata": {},
   "source": [
    "Faça agora um gráfico de $x^5 - 4x + 1$ e de sua derivada, na mesma figura, usando `eval_p` ou `fun_p`."
   ]
  },
  {
   "cell_type": "code",
   "execution_count": null,
   "metadata": {
    "deletable": false,
    "nbgrader": {
     "checksum": "8cd7b8beb0dbc9c67921353716255b41",
     "grade": true,
     "grade_id": "dpol_graph",
     "locked": false,
     "points": 2,
     "schema_version": 1,
     "solution": true
    }
   },
   "outputs": [],
   "source": [
    "# YOUR CODE HERE\n",
    "raise NotImplementedError()"
   ]
  },
  {
   "cell_type": "markdown",
   "metadata": {},
   "source": [
    "## 2.3 Sinal no infinito\n",
    "\n",
    "Escreva uma função que retorna o sinal de $p(x)$ em $\\pm \\infty$, dados os coeficientes."
   ]
  },
  {
   "cell_type": "code",
   "execution_count": null,
   "metadata": {
    "deletable": false,
    "nbgrader": {
     "checksum": "8957e2f8b3d5022557d336d7fd1257ba",
     "grade": false,
     "grade_id": "sign_inf",
     "locked": false,
     "schema_version": 1,
     "solution": true
    }
   },
   "outputs": [],
   "source": [
    "# YOUR CODE HERE\n",
    "raise NotImplementedError()"
   ]
  },
  {
   "cell_type": "markdown",
   "metadata": {},
   "source": [
    "Retirar alguns desses"
   ]
  },
  {
   "cell_type": "code",
   "execution_count": null,
   "metadata": {
    "deletable": false,
    "editable": false,
    "nbgrader": {
     "checksum": "7e5c46e0bfa7712888ff53176f4fe4cc",
     "grade": true,
     "grade_id": "sign_inf_test1",
     "locked": true,
     "points": 1,
     "schema_version": 1,
     "solution": false
    }
   },
   "outputs": [],
   "source": [
    "assert sign_inf([1,2,3,4,5,6]) == 1\n",
    "assert sign_inf([1,2,3,4,5,6], minus=True) == -1"
   ]
  },
  {
   "cell_type": "code",
   "execution_count": null,
   "metadata": {
    "deletable": false,
    "editable": false,
    "nbgrader": {
     "checksum": "99030bfff71f9b177c773dba4059e057",
     "grade": true,
     "grade_id": "sign_inf_test2",
     "locked": true,
     "points": 1,
     "schema_version": 1,
     "solution": false
    }
   },
   "outputs": [],
   "source": [
    "assert sign_inf([1,2,3,4,5,6,7]) == 1\n",
    "assert sign_inf([1,2,3,4,5,6,7], minus=True) == 1"
   ]
  },
  {
   "cell_type": "code",
   "execution_count": null,
   "metadata": {
    "deletable": false,
    "editable": false,
    "nbgrader": {
     "checksum": "82fc8dcb1b7c38301e5864cb578c722d",
     "grade": true,
     "grade_id": "sign_inf_test3",
     "locked": true,
     "points": 1,
     "schema_version": 1,
     "solution": false
    }
   },
   "outputs": [],
   "source": [
    "assert sign_inf([1,2,3,4,5,-6]) == -1\n",
    "assert sign_inf([1,2,3,4,5,-6], minus=True) == 1"
   ]
  },
  {
   "cell_type": "code",
   "execution_count": null,
   "metadata": {
    "deletable": false,
    "editable": false,
    "nbgrader": {
     "checksum": "aeaf7535531e1cda88dd34e112be754f",
     "grade": true,
     "grade_id": "sign_inf_test4",
     "locked": true,
     "points": 1,
     "schema_version": 1,
     "solution": false
    }
   },
   "outputs": [],
   "source": [
    "assert sign_inf([1,2,3,4,5,6,-7]) == -1\n",
    "assert sign_inf([1,2,3,4,5,6,-7], minus=True) == -1"
   ]
  },
  {
   "cell_type": "markdown",
   "metadata": {},
   "source": [
    "## 2.4 Raízes de polinômios do segundo grau (independente da parte 3)\n",
    "\n",
    "Escreva uma função que, dados os coeficientes `[c,b,a]` de um polinômio do segundo grau,\n",
    "retorna as duas raízes reias, ou `None` se não houver."
   ]
  },
  {
   "cell_type": "code",
   "execution_count": null,
   "metadata": {
    "deletable": false,
    "nbgrader": {
     "checksum": "8a19129698edd2d265f0e5a78689b306",
     "grade": false,
     "grade_id": "raiz2c",
     "locked": false,
     "schema_version": 1,
     "solution": true
    }
   },
   "outputs": [],
   "source": [
    "def raiz2_c(p):\n",
    "    # YOUR CODE HERE\n",
    "    raise NotImplementedError()"
   ]
  },
  {
   "cell_type": "code",
   "execution_count": null,
   "metadata": {},
   "outputs": [],
   "source": [
    "raiz2_c([-1,-2,3])"
   ]
  },
  {
   "cell_type": "code",
   "execution_count": null,
   "metadata": {
    "deletable": false,
    "editable": false,
    "nbgrader": {
     "checksum": "3c2e446ecd0ed05087e843ef9509f58f",
     "grade": true,
     "grade_id": "raiz2c_test",
     "locked": true,
     "points": 1,
     "schema_version": 1,
     "solution": false
    }
   },
   "outputs": [],
   "source": [
    "r1, r2 = raiz2_c([-1,-2,3])\n",
    "assert r1 == -1/3\n",
    "assert r2 == 1"
   ]
  },
  {
   "cell_type": "code",
   "execution_count": null,
   "metadata": {
    "deletable": false,
    "editable": false,
    "nbgrader": {
     "checksum": "298c9b313857838202105083ed8df7d0",
     "grade": true,
     "grade_id": "raiz2c_random",
     "locked": true,
     "points": 2,
     "schema_version": 1,
     "solution": false
    }
   },
   "outputs": [],
   "source": [
    "np.random.seed(5)\n",
    "for a,b,c in np.random.randn(100, 3):\n",
    "    def f(x):\n",
    "        return a*x**2 + b*x + c\n",
    "    raizes = raiz2(f)\n",
    "    if raizes is None:\n",
    "        assert raiz2_c([c,b,a]) is None\n",
    "    else:\n",
    "        raizes_c = raiz2_c([c,b,a])\n",
    "        assert np.allclose(raizes, raizes_c, rtol=1e-12, atol=1e-12), (raizes, raizes_c)"
   ]
  },
  {
   "cell_type": "markdown",
   "metadata": {},
   "source": [
    "## 2.5 Coeficientes do polinômio de segundo grau\n",
    "\n",
    "Escreva uma função tal que, dados dois números reais $r_1$ e $r_2$\n",
    "retorna uma lista com os coeficientes `[c,b,a]`\n",
    "tal que $r_1$ e $r_2$ sejam as raízes do polinômio do segundo grau correspondente."
   ]
  },
  {
   "cell_type": "code",
   "execution_count": null,
   "metadata": {
    "deletable": false,
    "nbgrader": {
     "checksum": "ff9fb2605316816eb4281e18c77327bd",
     "grade": false,
     "grade_id": "makecoefs",
     "locked": false,
     "schema_version": 1,
     "solution": true
    }
   },
   "outputs": [],
   "source": [
    "def make_coefs(r1, r2):\n",
    "    # YOUR CODE HERE\n",
    "    raise NotImplementedError()"
   ]
  },
  {
   "cell_type": "code",
   "execution_count": null,
   "metadata": {},
   "outputs": [],
   "source": [
    "make_coefs(1,2)"
   ]
  },
  {
   "cell_type": "code",
   "execution_count": null,
   "metadata": {
    "deletable": false,
    "editable": false,
    "nbgrader": {
     "checksum": "66e359c628786b7f3652baedb9df2fbd",
     "grade": true,
     "grade_id": "makecoefs_random",
     "locked": true,
     "points": 2,
     "schema_version": 1,
     "solution": false
    }
   },
   "outputs": [],
   "source": [
    "for r1,r2 in np.random.randn(100,2):\n",
    "    p = make_coefs(r1,r2)\n",
    "    assert abs(eval_p(p,r1)) < 1e-12\n",
    "    assert abs(eval_p(p,r2)) < 1e-12"
   ]
  },
  {
   "cell_type": "markdown",
   "metadata": {},
   "source": [
    "## 2.6 Erros\n",
    "\n",
    "Seja $P_\\varepsilon$ o polinômio cujas raízes são $1 \\pm \\varepsilon$.\n",
    "Calcule a menor raíz de $P_\\varepsilon$ pela função `raiz2_c()`,\n",
    "e observe como o erro evolui para diversos valores de $\\varepsilon$."
   ]
  },
  {
   "cell_type": "code",
   "execution_count": null,
   "metadata": {
    "deletable": false,
    "nbgrader": {
     "checksum": "0524e1a78cbd329908536e6784dd1e01",
     "grade": true,
     "grade_id": "errors_graph",
     "locked": false,
     "points": 3,
     "schema_version": 1,
     "solution": true
    }
   },
   "outputs": [],
   "source": [
    "eps = np.logspace(-40,5,base=2, num=500)\n",
    "# YOUR CODE HERE\n",
    "raise NotImplementedError()"
   ]
  },
  {
   "cell_type": "markdown",
   "metadata": {},
   "source": [
    "Você consegue explicar a origem deste erro?"
   ]
  },
  {
   "cell_type": "markdown",
   "metadata": {
    "deletable": false,
    "nbgrader": {
     "checksum": "5e0e53a9047eb00f8fe659280d31c018",
     "grade": true,
     "grade_id": "errors_explain",
     "locked": false,
     "points": 2,
     "schema_version": 1,
     "solution": true
    }
   },
   "source": [
    "YOUR ANSWER HERE"
   ]
  },
  {
   "cell_type": "markdown",
   "metadata": {},
   "source": [
    "# Parte 3: Polinômios de grau arbitrário\n",
    "\n",
    "Para encontrar raízes de um polinômio $p$, vamos olhar para as raízes da sua derivada,\n",
    "e com isso obter todos os intervalos possíveis onde há raízes de $p$."
   ]
  },
  {
   "cell_type": "markdown",
   "metadata": {},
   "source": [
    "## 3.1 Raízes encaixadas\n",
    "\n",
    "Seja $f$ uma função diferenciável, e $f'$ sua derivada.\n",
    "**Prove** (no notebook ou numa folha avulsa) que entre duas raizes consecutivas de $f'$,\n",
    "existe no máximo uma raiz de $f$.\n",
    "\n",
    "(Se você precisar, pode supor que $f'$ é contínua)"
   ]
  },
  {
   "cell_type": "markdown",
   "metadata": {
    "deletable": false,
    "nbgrader": {
     "checksum": "32b28472a9014c0b151306e963dc0a2f",
     "grade": true,
     "grade_id": "nested_roots",
     "locked": false,
     "points": 4,
     "schema_version": 1,
     "solution": true
    }
   },
   "source": [
    "YOUR ANSWER HERE"
   ]
  },
  {
   "cell_type": "markdown",
   "metadata": {},
   "source": [
    "## 3.2 Raízes até o infinito\n",
    "\n",
    "Além das possíveis raízes de $p$ que haja entre as raízes de $p'$,\n",
    "pode haver raízes \"para além das extremas\", em cada direção.\n",
    "\n",
    "Dados os coeficientes de um polinômio, e um ponto $x$,\n",
    "retorne um ponto $X$ tal que $p(X)$ tenha o mesmo sinal que $p(+\\infty)$,\n",
    "e que seja maior ou igual a $x$."
   ]
  },
  {
   "cell_type": "code",
   "execution_count": null,
   "metadata": {
    "deletable": false,
    "nbgrader": {
     "checksum": "2d5aa277178f407f1e0029439975ff27",
     "grade": false,
     "grade_id": "aux1",
     "locked": false,
     "schema_version": 1,
     "solution": true
    }
   },
   "outputs": [],
   "source": [
    "def aux1(p, x):\n",
    "    # YOUR CODE HERE\n",
    "    raise NotImplementedError()"
   ]
  },
  {
   "cell_type": "code",
   "execution_count": null,
   "metadata": {
    "deletable": false,
    "editable": false,
    "nbgrader": {
     "checksum": "9d1e2cc1162219a1a3e32fe451e8f7f4",
     "grade": true,
     "grade_id": "aux1_random",
     "locked": true,
     "points": 2,
     "schema_version": 1,
     "solution": false
    }
   },
   "outputs": [],
   "source": [
    "np.random.seed(8)\n",
    "for p in np.random.randn(100, 10):\n",
    "    x = aux1(p,0)\n",
    "    assert eval_p(p,x) * sign_inf(p) > 0\n",
    "    assert x > 0"
   ]
  },
  {
   "cell_type": "markdown",
   "metadata": {},
   "source": [
    "Faça uma função análoga para encontrar um ponto menor do que $x$, cujo sinal seja o mesmo que o sinal em $-\\infty$."
   ]
  },
  {
   "cell_type": "code",
   "execution_count": null,
   "metadata": {
    "deletable": false,
    "nbgrader": {
     "checksum": "2e9b3533c572c8fedd5441411a25e28a",
     "grade": false,
     "grade_id": "aux2",
     "locked": false,
     "schema_version": 1,
     "solution": true
    }
   },
   "outputs": [],
   "source": [
    "def aux2(p, x):\n",
    "    # YOUR CODE HERE\n",
    "    raise NotImplementedError()"
   ]
  },
  {
   "cell_type": "markdown",
   "metadata": {},
   "source": [
    "## 3.3 O passo de indução\n",
    "\n",
    "Escreva uma função que, dada uma lista de pontos `[x0, x1, ..., xn]`,\n",
    "encontra um zero em cada intervalo, se houver,\n",
    "incluindo os intervalos infinitos $(-\\infty,x_0)$ e $(x_n, \\infty)$."
   ]
  },
  {
   "cell_type": "code",
   "execution_count": null,
   "metadata": {
    "deletable": false,
    "nbgrader": {
     "checksum": "7fcb396c9d0a530f139f840e1689e92b",
     "grade": false,
     "grade_id": "inducao",
     "locked": false,
     "schema_version": 1,
     "solution": true
    }
   },
   "outputs": [],
   "source": [
    "def raizes_intervalos(p, zeros_der):\n",
    "    # YOUR CODE HERE\n",
    "    raise NotImplementedError()"
   ]
  },
  {
   "cell_type": "code",
   "execution_count": null,
   "metadata": {
    "deletable": false,
    "editable": false,
    "nbgrader": {
     "checksum": "fa074b61fef7c9a91fdfdafcae68d3b9",
     "grade": true,
     "grade_id": "inducao_test1",
     "locked": true,
     "points": 2,
     "schema_version": 1,
     "solution": false
    }
   },
   "outputs": [],
   "source": [
    "p = [0,-2,1]\n",
    "zeros_der = [1]\n",
    "ans = [0,2]\n",
    "assert np.allclose(ans, raizes_intervalos(p, zeros_der), atol=1e-13, rtol=1e-13)"
   ]
  },
  {
   "cell_type": "code",
   "execution_count": null,
   "metadata": {
    "deletable": false,
    "editable": false,
    "nbgrader": {
     "checksum": "eee7f868175dc3b0e8febb5f355f308e",
     "grade": true,
     "grade_id": "inducao_test2",
     "locked": true,
     "points": 2,
     "schema_version": 1,
     "solution": false
    }
   },
   "outputs": [],
   "source": [
    "p = [2,-2,1]\n",
    "zeros_der = [-1]\n",
    "assert raizes_intervalos(p, zeros_der) == []"
   ]
  },
  {
   "cell_type": "code",
   "execution_count": null,
   "metadata": {},
   "outputs": [],
   "source": [
    "p = [3,5,-20,4,1]\n",
    "zeros_der = [-5.035286135110316, 0.13031598251839685, 1.9049701525919194]\n",
    "raizes_intervalos(p, zeros_der)"
   ]
  },
  {
   "cell_type": "code",
   "execution_count": null,
   "metadata": {
    "deletable": false,
    "editable": false,
    "nbgrader": {
     "checksum": "df509891a17124ccf7d7fe9cf8874173",
     "grade": true,
     "grade_id": "inducao_test3",
     "locked": true,
     "points": 2,
     "schema_version": 1,
     "solution": false
    }
   },
   "outputs": [],
   "source": [
    "p = [3,5,-20,4,1]\n",
    "zeros_der = [-5.035286135110316, 0.13031598251839685, 1.9049701525919194]\n",
    "ans = [-6.9654801153285089,\n",
    " -0.27707634751771126,\n",
    " 0.58488321666365461,\n",
    " 2.657673246182565]\n",
    "assert np.allclose(ans, raizes_intervalos(p, zeros_der), atol=1e-13, rtol=1e-13)"
   ]
  },
  {
   "cell_type": "code",
   "execution_count": null,
   "metadata": {
    "deletable": false,
    "editable": false,
    "nbgrader": {
     "checksum": "584ea846a7acb6b5e7394f1c35967ac0",
     "grade": true,
     "grade_id": "inducao_test4",
     "locked": true,
     "points": 2,
     "schema_version": 1,
     "solution": false
    }
   },
   "outputs": [],
   "source": [
    "p = [40,5,-20,4,1]\n",
    "r = raizes_intervalos(p, zeros_der)\n",
    "assert len(r) == 2\n",
    "assert np.abs(eval_p(p, r[0])) < 1e-12\n",
    "assert np.abs(eval_p(p, r[1])) < 1e-12"
   ]
  },
  {
   "cell_type": "markdown",
   "metadata": {},
   "source": [
    "## 3.4 Juntando tudo\n",
    "\n",
    "Agora, escreva uma função (recursiva!) que calcula todas as raízes reais de um polinômio.\n",
    "Não se esqueça\n",
    "- de retornar as raízes em ordem (para poder usar `raizes_intervalos()` recursivamente)\n",
    "- de ter um caso base para grau 1!"
   ]
  },
  {
   "cell_type": "code",
   "execution_count": null,
   "metadata": {
    "deletable": false,
    "nbgrader": {
     "checksum": "082e2976275f038119db0779322ac3b0",
     "grade": false,
     "grade_id": "allroots",
     "locked": false,
     "schema_version": 1,
     "solution": true
    }
   },
   "outputs": [],
   "source": [
    "def all_roots(p):\n",
    "    # YOUR CODE HERE\n",
    "    raise NotImplementedError()"
   ]
  },
  {
   "cell_type": "code",
   "execution_count": null,
   "metadata": {},
   "outputs": [],
   "source": [
    "coefs = [0.2,-2,1,1]\n",
    "all_roots(coefs)"
   ]
  },
  {
   "cell_type": "code",
   "execution_count": null,
   "metadata": {
    "deletable": false,
    "editable": false,
    "nbgrader": {
     "checksum": "09a87cae2fb13eae4af826afe7e9171e",
     "grade": true,
     "grade_id": "allroots_test1",
     "locked": true,
     "points": 2,
     "schema_version": 1,
     "solution": false
    }
   },
   "outputs": [],
   "source": [
    "coefs = [0.2,-2,1,1]\n",
    "ans = [-2.0324501292055701, 0.10624345669581943, 0.92620667250975075]\n",
    "assert np.allclose(all_roots(coefs), ans, atol=1e-13, rtol=1e-13)"
   ]
  },
  {
   "cell_type": "code",
   "execution_count": null,
   "metadata": {
    "deletable": false,
    "editable": false,
    "nbgrader": {
     "checksum": "196482f5ad8da83209cd81dc90fe4ad5",
     "grade": true,
     "grade_id": "allroots_test2",
     "locked": true,
     "points": 2,
     "schema_version": 1,
     "solution": false
    }
   },
   "outputs": [],
   "source": [
    "coefs = [0.2,-2,1,1]\n",
    "for r in all_roots(coefs):\n",
    "    assert np.abs(eval_p(coefs,r)) < 1e-13"
   ]
  },
  {
   "cell_type": "code",
   "execution_count": null,
   "metadata": {},
   "outputs": [],
   "source": [
    "coefs = [0.2,10,1,1,-2,-3,1]\n",
    "all_roots(coefs)"
   ]
  },
  {
   "cell_type": "code",
   "execution_count": null,
   "metadata": {
    "deletable": false,
    "editable": false,
    "nbgrader": {
     "checksum": "d50270468fb50630491ae647e28fe8d4",
     "grade": true,
     "grade_id": "allroots_test3",
     "locked": true,
     "points": 2,
     "schema_version": 1,
     "solution": false
    }
   },
   "outputs": [],
   "source": [
    "for r in all_roots(coefs): \n",
    "    assert np.abs(eval_p(coefs,r)) < 1e-12"
   ]
  }
 ],
 "metadata": {
  "kernelspec": {
   "display_name": "Python 3",
   "language": "python",
   "name": "python3"
  },
  "language_info": {
   "codemirror_mode": {
    "name": "ipython",
    "version": 3
   },
   "file_extension": ".py",
   "mimetype": "text/x-python",
   "name": "python",
   "nbconvert_exporter": "python",
   "pygments_lexer": "ipython3",
   "version": "3.4.6"
  }
 },
 "nbformat": 4,
 "nbformat_minor": 2
}
