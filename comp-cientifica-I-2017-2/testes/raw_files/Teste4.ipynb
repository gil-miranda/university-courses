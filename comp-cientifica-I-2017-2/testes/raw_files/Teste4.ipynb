{
 "cells": [
  {
   "cell_type": "markdown",
   "metadata": {},
   "source": [
    "![CC-BY-SA](https://mirrors.creativecommons.org/presskit/buttons/88x31/svg/by-sa.svg)\n",
    "This notebook was created by [Bernardo Freitas Paulo da Costa](http://www.im.ufrj.br/bernardofpc),\n",
    "and is licensed under Creative Commons BY-SA"
   ]
  },
  {
   "cell_type": "code",
   "execution_count": null,
   "metadata": {},
   "outputs": [],
   "source": [
    "import numpy as np\n",
    "import matplotlib.pyplot as plt"
   ]
  },
  {
   "cell_type": "markdown",
   "metadata": {},
   "source": [
    "# 1. A _Regula Falsi_\n",
    "\n",
    "O método da _Regula Falsi_ é uma mistura entre o método da bisseção e o da secante:\n",
    "- Tomamos dois pontos $a$ e $b$ tais que $f(a) \\cdot f(b) < 0$, como no método da bisseção;\n",
    "- Usamos como próximo ponto a aproximação secante $z = \\frac{a f(b) - b f(a)}{f(b) - f(a)}$;\n",
    "- E continuamos no intervalo $[a,z]$ ou $[z,b]$ em que $f$ mude de sinal, como na bisseção.\n",
    "\n",
    "## 1.1 Código\n",
    "\n",
    "Implemente esta variante.  Vamos usar tanto `prec` (da bisseção) como `maxiter` (da secante) como critérios de parada:\n",
    "- se o intervalo $(a,b)$ tiver comprimento menor do que `prec`, diremos que o método convergiu, e retornamos o intervalo atual;\n",
    "- se não for possível fazer mais iterações, (também) retornamos o intervalo atual;\n",
    "- senão, calculamos o novo ponto, escolhemos o novo intervalo, e fazemos a recursão."
   ]
  },
  {
   "cell_type": "code",
   "execution_count": null,
   "metadata": {
    "deletable": false,
    "nbgrader": {
     "checksum": "eed9a3618d2486872b1e95714c6c7915",
     "grade": false,
     "grade_id": "rf",
     "locked": false,
     "schema_version": 1,
     "solution": true
    }
   },
   "outputs": [],
   "source": [
    "def regula_falsi(f,a,b,prec=1e-8,maxiter=100):\n",
    "    # YOUR CODE HERE\n",
    "    raise NotImplementedError()"
   ]
  },
  {
   "cell_type": "code",
   "execution_count": null,
   "metadata": {},
   "outputs": [],
   "source": [
    "import funcoes_teste as ft"
   ]
  },
  {
   "cell_type": "code",
   "execution_count": null,
   "metadata": {
    "deletable": false,
    "editable": false,
    "nbgrader": {
     "checksum": "b691af925df955c81673fa7501eb8061",
     "grade": true,
     "grade_id": "rf_1",
     "locked": true,
     "points": 2,
     "schema_version": 1,
     "solution": false
    }
   },
   "outputs": [],
   "source": [
    "assert np.allclose(regula_falsi(ft.g1, 0, 2), (0.69314718055994529, 2), rtol=1e-15, atol=1e-15)"
   ]
  },
  {
   "cell_type": "code",
   "execution_count": null,
   "metadata": {
    "deletable": false,
    "editable": false,
    "nbgrader": {
     "checksum": "20b11af4ec287795fd6ba2eac30d165f",
     "grade": true,
     "grade_id": "rf_2",
     "locked": true,
     "points": 1,
     "schema_version": 1,
     "solution": false
    }
   },
   "outputs": [],
   "source": [
    "assert np.allclose(regula_falsi(ft.g2, 0, 2), (1.414213562373095, 1.4142135623730951), rtol=1e-15, atol=1e-15)"
   ]
  },
  {
   "cell_type": "code",
   "execution_count": null,
   "metadata": {
    "deletable": false,
    "editable": false,
    "nbgrader": {
     "checksum": "f45bb9c636cd328da2d4b0088d9aa27d",
     "grade": true,
     "grade_id": "rf_3",
     "locked": true,
     "points": 1,
     "schema_version": 1,
     "solution": false
    }
   },
   "outputs": [],
   "source": [
    "assert np.allclose(regula_falsi(ft.g3, 0, 2), (0.84936886239267306, 0.86510529519350243), rtol=1e-15, atol=1e-15)"
   ]
  },
  {
   "cell_type": "markdown",
   "metadata": {},
   "source": [
    "## 1.2 Instrumentando o código\n",
    "\n",
    "Agora, modifique o método para que ele retorne a lista de todos os intervalos gerados."
   ]
  },
  {
   "cell_type": "code",
   "execution_count": null,
   "metadata": {
    "deletable": false,
    "nbgrader": {
     "checksum": "613c753d1052748e1fbb2f3778e08bb6",
     "grade": false,
     "grade_id": "rf_list",
     "locked": false,
     "schema_version": 1,
     "solution": true
    }
   },
   "outputs": [],
   "source": [
    "def regula_falsi_list(f,a,b,prec=1e-8,maxiter=100):\n",
    "    # YOUR CODE HERE\n",
    "    raise NotImplementedError()"
   ]
  },
  {
   "cell_type": "code",
   "execution_count": null,
   "metadata": {
    "deletable": false,
    "editable": false,
    "nbgrader": {
     "checksum": "e9371acde727154b8044025e3c19f69b",
     "grade": true,
     "grade_id": "rf_1_101",
     "locked": true,
     "points": 2,
     "schema_version": 1,
     "solution": false
    }
   },
   "outputs": [],
   "source": [
    "assert len(regula_falsi_list(ft.g1, 0, 2)) == 101"
   ]
  },
  {
   "cell_type": "code",
   "execution_count": null,
   "metadata": {
    "deletable": false,
    "editable": false,
    "nbgrader": {
     "checksum": "2a5e09b5a6a5c3342ae8a8661d1393a5",
     "grade": true,
     "grade_id": "rf_2_23",
     "locked": true,
     "points": 2,
     "schema_version": 1,
     "solution": false
    }
   },
   "outputs": [],
   "source": [
    "assert len(regula_falsi_list(ft.g2, 0, 2)) == 23"
   ]
  },
  {
   "cell_type": "code",
   "execution_count": null,
   "metadata": {
    "deletable": false,
    "editable": false,
    "nbgrader": {
     "checksum": "522e9579b756a4ff180c99936d7d1592",
     "grade": true,
     "grade_id": "rf_3_101",
     "locked": true,
     "points": 1,
     "schema_version": 1,
     "solution": false
    }
   },
   "outputs": [],
   "source": [
    "assert len(regula_falsi_list(ft.g3, 0, 2)) == 101"
   ]
  },
  {
   "cell_type": "markdown",
   "metadata": {},
   "source": [
    "## 1.3 Convergência\n",
    "\n",
    "Faça uma função que, dada uma lista de intervalos (como a que é retornada pela `regula_falsi_list`!),\n",
    "faz o gráfico do comprimento dos intervalos."
   ]
  },
  {
   "cell_type": "code",
   "execution_count": null,
   "metadata": {
    "deletable": false,
    "nbgrader": {
     "checksum": "ac7e76653b3ac19aac80a4aa104646b9",
     "grade": true,
     "grade_id": "plot_interval_lens",
     "locked": false,
     "points": 2,
     "schema_version": 1,
     "solution": true
    }
   },
   "outputs": [],
   "source": [
    "def plot_interval_lens(l):\n",
    "    # YOUR CODE HERE\n",
    "    raise NotImplementedError()"
   ]
  },
  {
   "cell_type": "markdown",
   "metadata": {},
   "source": [
    "Agora, verifique como evolui o comprimento dos intervalos, para cada uma das três funções acima."
   ]
  },
  {
   "cell_type": "code",
   "execution_count": null,
   "metadata": {
    "deletable": false,
    "editable": false,
    "nbgrader": {
     "checksum": "d3518ad08292d347fe5e17978f693be1",
     "grade": false,
     "grade_id": "three_lens",
     "locked": true,
     "schema_version": 1,
     "solution": false
    }
   },
   "outputs": [],
   "source": [
    "plt.figure(figsize=(15,4))\n",
    "\n",
    "plt.subplot(1,3,1)\n",
    "plot_interval_lens(regula_falsi_list(ft.g1, 0, 2))\n",
    "\n",
    "plt.subplot(1,3,2)\n",
    "plot_interval_lens(regula_falsi_list(ft.g2, 0, 2))\n",
    "\n",
    "plt.subplot(1,3,3)\n",
    "plot_interval_lens(regula_falsi_list(ft.g3, 0, 2))\n",
    "plt.yscale('log')\n",
    "\n",
    "plt.show()"
   ]
  },
  {
   "cell_type": "markdown",
   "metadata": {},
   "source": [
    "Isso é coerente com o comportamento da função `regula_falsi_list`?"
   ]
  },
  {
   "cell_type": "markdown",
   "metadata": {
    "deletable": false,
    "nbgrader": {
     "checksum": "a310c359d822be61dc2178ba0e98ca94",
     "grade": true,
     "grade_id": "comment_lens",
     "locked": false,
     "points": 3,
     "schema_version": 1,
     "solution": true
    }
   },
   "source": [
    "YOUR ANSWER HERE"
   ]
  },
  {
   "cell_type": "markdown",
   "metadata": {},
   "source": [
    "## 1.4 Convergência separada\n",
    "\n",
    "Agora, faça uma função que, dada a mesma lista de intervalos e um número real `ans`,\n",
    "faz o gráfico da distância de cada uma das extremidades a `ans`.\n",
    "Não esqueça de indicar qual é a extremidade correspondente a cada curva, num `label` para a legenda ;-)"
   ]
  },
  {
   "cell_type": "code",
   "execution_count": null,
   "metadata": {
    "deletable": false,
    "nbgrader": {
     "checksum": "c041ad792c7ef3fc33a00262ce449c15",
     "grade": true,
     "grade_id": "plot_interval_dist",
     "locked": false,
     "points": 3,
     "schema_version": 1,
     "solution": true
    }
   },
   "outputs": [],
   "source": [
    "def plot_interval_distance(l, ans):\n",
    "    # YOUR CODE HERE\n",
    "    raise NotImplementedError()"
   ]
  },
  {
   "cell_type": "code",
   "execution_count": null,
   "metadata": {
    "deletable": false,
    "editable": false,
    "nbgrader": {
     "checksum": "1102ddafd2ebff6aee5c0898b9487a2b",
     "grade": false,
     "grade_id": "distances_1",
     "locked": true,
     "schema_version": 1,
     "solution": false
    }
   },
   "outputs": [],
   "source": [
    "plot_interval_distance(regula_falsi_list(ft.g1,0,2), np.log(2))\n",
    "plt.legend()\n",
    "plt.show()"
   ]
  },
  {
   "cell_type": "markdown",
   "metadata": {},
   "source": [
    "O que aconteceu com o método?"
   ]
  },
  {
   "cell_type": "markdown",
   "metadata": {
    "deletable": false,
    "nbgrader": {
     "checksum": "d6d88db8ced0c669901e84058a1859df",
     "grade": true,
     "grade_id": "comments_dist_g1",
     "locked": false,
     "points": 2,
     "schema_version": 1,
     "solution": true
    }
   },
   "source": [
    "YOUR ANSWER HERE"
   ]
  },
  {
   "cell_type": "markdown",
   "metadata": {},
   "source": [
    "Faça o gráfico análogo para $g_2$, e comente."
   ]
  },
  {
   "cell_type": "code",
   "execution_count": null,
   "metadata": {
    "deletable": false,
    "nbgrader": {
     "checksum": "e3313d5ca9107ca2767ed9fc648d426b",
     "grade": true,
     "grade_id": "graph_dist_g2",
     "locked": false,
     "points": 1,
     "schema_version": 1,
     "solution": true
    }
   },
   "outputs": [],
   "source": [
    "# Faça contas aqui, comente na caixa abaixo!\n",
    "# YOUR CODE HERE\n",
    "raise NotImplementedError()"
   ]
  },
  {
   "cell_type": "markdown",
   "metadata": {
    "deletable": false,
    "nbgrader": {
     "checksum": "71f218a9f931f890aaf665066a5ae8a2",
     "grade": true,
     "grade_id": "comment_dist_g2",
     "locked": false,
     "points": 2,
     "schema_version": 1,
     "solution": true
    }
   },
   "source": [
    "YOUR ANSWER HERE"
   ]
  },
  {
   "cell_type": "markdown",
   "metadata": {},
   "source": [
    "## 2 Modificando a _Regula Falsi_\n",
    "\n",
    "O que vimos antes mostra que a _Regula Falsi_ possui alguns defeitos.\n",
    "Vamos explorar duas modificações:\n",
    "- alterar o critério de parada\n",
    "- alterar o método de seleção do intervalo\n",
    "\n",
    "## 2.1 Critério de parada\n",
    "\n",
    "Em vez de pararmos quando o intervalo \"de possibilidade da raiz\" for pequeno\n",
    "(o que é bom para a garantia de erro, como na bisseção),\n",
    "vamos parar quando o \"passo\" for pequeno.\n",
    "Ou seja, se a extremidade que \"se mexer\" for \"se mexer muito pouco\" (ou seja, menos que `prec`), paramos.\n",
    "Note que este critério só pode ser calculado após determinar o \"novo ponto\"."
   ]
  },
  {
   "cell_type": "code",
   "execution_count": null,
   "metadata": {
    "deletable": false,
    "nbgrader": {
     "checksum": "b6cb8e1d59232781e43f69d9a9e90a5a",
     "grade": false,
     "grade_id": "rf_new",
     "locked": false,
     "schema_version": 1,
     "solution": true
    }
   },
   "outputs": [],
   "source": [
    "def regula_falsi_list_new(f,a,b,prec=1e-8,maxiter=100):\n",
    "    # YOUR CODE HERE\n",
    "    raise NotImplementedError()"
   ]
  },
  {
   "cell_type": "code",
   "execution_count": null,
   "metadata": {
    "deletable": false,
    "editable": false,
    "nbgrader": {
     "checksum": "5fcddbf9eaf5444709bc2b2ad0dc9e74",
     "grade": true,
     "grade_id": "rf_new_1",
     "locked": true,
     "points": 2,
     "schema_version": 1,
     "solution": false
    }
   },
   "outputs": [],
   "source": [
    "l = regula_falsi_list_new(ft.g1, 0,2)\n",
    "assert len(l) == 29\n",
    "assert np.allclose(l[-1], (np.log(2),2), rtol=1e-8, atol=1e-8)"
   ]
  },
  {
   "cell_type": "code",
   "execution_count": null,
   "metadata": {
    "deletable": false,
    "editable": false,
    "nbgrader": {
     "checksum": "f516a0b2642b1ac1f8fd7cfae10744ae",
     "grade": true,
     "grade_id": "rf_new_2",
     "locked": true,
     "points": 1,
     "schema_version": 1,
     "solution": false
    }
   },
   "outputs": [],
   "source": [
    "l = regula_falsi_list_new(ft.g2, 0,2)\n",
    "assert len(l) == 13\n",
    "assert np.allclose(l[-1], (np.sqrt(2),2), rtol=1e-8, atol=1e-8)"
   ]
  },
  {
   "cell_type": "code",
   "execution_count": null,
   "metadata": {
    "deletable": false,
    "editable": false,
    "nbgrader": {
     "checksum": "0c208bc36d37dd30f19229095e20f9f4",
     "grade": true,
     "grade_id": "rf_new_3",
     "locked": true,
     "points": 1,
     "schema_version": 1,
     "solution": false
    }
   },
   "outputs": [],
   "source": [
    "l = regula_falsi_list_new(ft.g3, 0,2)\n",
    "assert len(l) == 8\n",
    "assert np.abs(ft.g3(l[-1][0])) < 1e-8"
   ]
  },
  {
   "cell_type": "markdown",
   "metadata": {},
   "source": [
    "O que acontece se quisermos esperar o passo da _Regula Falsi_ ficar menor do que `1e-12`?\n",
    "Faça alguns experimentos numéricos, e depois comente."
   ]
  },
  {
   "cell_type": "code",
   "execution_count": null,
   "metadata": {
    "deletable": false,
    "nbgrader": {
     "checksum": "b5d9280fdcfcc99f4e92a3ff3e0fff70",
     "grade": true,
     "grade_id": "num_xp",
     "locked": false,
     "points": 1,
     "schema_version": 1,
     "solution": true
    }
   },
   "outputs": [],
   "source": [
    "# Faça contas aqui, comente na caixa abaixo!\n",
    "# YOUR CODE HERE\n",
    "raise NotImplementedError()"
   ]
  },
  {
   "cell_type": "markdown",
   "metadata": {
    "deletable": false,
    "nbgrader": {
     "checksum": "0b744501e30b6030059e3ac736e35b46",
     "grade": true,
     "grade_id": "num_xp_comments",
     "locked": false,
     "points": 3,
     "schema_version": 1,
     "solution": true
    }
   },
   "source": [
    "YOUR ANSWER HERE"
   ]
  },
  {
   "cell_type": "markdown",
   "metadata": {},
   "source": [
    "## 2.2 Passos combinados\n",
    "\n",
    "Uma outra tática é combinar a bisseção com a _Regula Falsi_.\n",
    "Assim, teremos passos \"alternados\", uma vez com o ponto médio, outra vez com o ponto da secante.\n",
    "Vamos fazer isso com um par de funções que se chamam mutuamente (isso é chamado de \"co-rotinas\").\n",
    "\n",
    "Como vamos usar bisseção, não precisamos mais usar `maxiter`.\n",
    "Por outro lado, existe agora um \"risco\" de acertar a raiz em cheio,\n",
    "então adicione também um teste para $f(z) = 0$."
   ]
  },
  {
   "cell_type": "code",
   "execution_count": null,
   "metadata": {
    "deletable": false,
    "nbgrader": {
     "checksum": "b5bebda269bce2b18cb5ea8f9b5a70d3",
     "grade": false,
     "grade_id": "rf_biss1",
     "locked": false,
     "schema_version": 1,
     "solution": true
    }
   },
   "outputs": [],
   "source": [
    "def rf_biss_list(f, a,b, prec=1e-8):\n",
    "    \"\"\"RF + bisseção, passo da Regula Falsi. \"\"\"\n",
    "    # YOUR CODE HERE\n",
    "    raise NotImplementedError()"
   ]
  },
  {
   "cell_type": "code",
   "execution_count": null,
   "metadata": {
    "deletable": false,
    "nbgrader": {
     "checksum": "7d49d7712c150c38bdc4a19fb12680d0",
     "grade": false,
     "grade_id": "rf_biss2",
     "locked": false,
     "schema_version": 1,
     "solution": true
    }
   },
   "outputs": [],
   "source": [
    "def biss_rf_list(f, a,b, prec=1e-8):\n",
    "    \"\"\"bisseção + RF, passo da bisseção. \"\"\"\n",
    "    # YOUR CODE HERE\n",
    "    raise NotImplementedError()"
   ]
  },
  {
   "cell_type": "code",
   "execution_count": null,
   "metadata": {
    "deletable": false,
    "editable": false,
    "nbgrader": {
     "checksum": "a48802f8aa6d2676a1c38ef41fffc714",
     "grade": true,
     "grade_id": "rf_biss_1",
     "locked": true,
     "points": 2,
     "schema_version": 1,
     "solution": false
    }
   },
   "outputs": [],
   "source": [
    "l = rf_biss_list(ft.g1, 0, 2)\n",
    "assert len(l) == 19\n",
    "assert ft.g1(l[-1][0]) == 0"
   ]
  },
  {
   "cell_type": "code",
   "execution_count": null,
   "metadata": {
    "deletable": false,
    "editable": false,
    "nbgrader": {
     "checksum": "2cdca980b9a46e767a070666534dc651",
     "grade": true,
     "grade_id": "rf_biss_2",
     "locked": true,
     "points": 1,
     "schema_version": 1,
     "solution": false
    }
   },
   "outputs": [],
   "source": [
    "l = rf_biss_list(ft.g2, 0, 2)\n",
    "assert len(l) == 16\n",
    "assert abs(l[-1][1] - l[-1][0]) < 1e-8"
   ]
  },
  {
   "cell_type": "code",
   "execution_count": null,
   "metadata": {
    "deletable": false,
    "editable": false,
    "nbgrader": {
     "checksum": "b05ad31f73140983dc4eebd830230592",
     "grade": true,
     "grade_id": "rf_biss_3",
     "locked": true,
     "points": 1,
     "schema_version": 1,
     "solution": false
    }
   },
   "outputs": [],
   "source": [
    "l = rf_biss_list(ft.g3, 0, 2)\n",
    "assert len(l) == 23\n",
    "assert ft.g3(l[-1][0]) == 0"
   ]
  },
  {
   "cell_type": "markdown",
   "metadata": {},
   "source": [
    "## 2.3 Comparando\n",
    "\n",
    "Faça um gráfico da distância à raiz, usando a _Regula Falsi_ original, e esta.\n",
    "Sugestão: modifique a sua função para ter um `label` a mais em argumento."
   ]
  },
  {
   "cell_type": "code",
   "execution_count": null,
   "metadata": {
    "deletable": false,
    "nbgrader": {
     "checksum": "fda05981d16fbbc6e192268bdfbcba79",
     "grade": false,
     "grade_id": "plot_interval_label",
     "locked": false,
     "schema_version": 1,
     "solution": true
    }
   },
   "outputs": [],
   "source": [
    "def plot_interval_distance(l, ans, label=''):\n",
    "    # YOUR CODE HERE\n",
    "    raise NotImplementedError()"
   ]
  },
  {
   "cell_type": "code",
   "execution_count": null,
   "metadata": {
    "deletable": false,
    "nbgrader": {
     "checksum": "0c6d183c449dd4a73ab52692e573285c",
     "grade": true,
     "grade_id": "rf_vs_rf_biss",
     "locked": false,
     "points": 3,
     "schema_version": 1,
     "solution": true
    }
   },
   "outputs": [],
   "source": [
    "# Faça o gráfico aqui!\n",
    "# YOUR CODE HERE\n",
    "raise NotImplementedError()"
   ]
  },
  {
   "cell_type": "markdown",
   "metadata": {},
   "source": [
    "Explique porque esta mudança\n",
    "1. Faz sentido\n",
    "2. De fato acelerou a convergência nos casos acima"
   ]
  },
  {
   "cell_type": "markdown",
   "metadata": {
    "deletable": false,
    "nbgrader": {
     "checksum": "d7ae9f36e34678e2e6762b254788039f",
     "grade": true,
     "grade_id": "comment_rf_biss",
     "locked": false,
     "points": 3,
     "schema_version": 1,
     "solution": true
    }
   },
   "source": [
    "YOUR ANSWER HERE"
   ]
  }
 ],
 "metadata": {
  "kernelspec": {
   "display_name": "Python 3",
   "language": "python",
   "name": "python3"
  },
  "language_info": {
   "codemirror_mode": {
    "name": "ipython",
    "version": 3
   },
   "file_extension": ".py",
   "mimetype": "text/x-python",
   "name": "python",
   "nbconvert_exporter": "python",
   "pygments_lexer": "ipython3",
   "version": "3.4.6"
  }
 },
 "nbformat": 4,
 "nbformat_minor": 1
}
