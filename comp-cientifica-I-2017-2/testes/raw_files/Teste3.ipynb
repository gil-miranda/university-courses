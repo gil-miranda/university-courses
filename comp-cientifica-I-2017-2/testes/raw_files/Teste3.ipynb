{
 "cells": [
  {
   "cell_type": "markdown",
   "metadata": {},
   "source": [
    "![CC-BY-SA](https://mirrors.creativecommons.org/presskit/buttons/88x31/svg/by-sa.svg)\n",
    "This notebook was created by [Bernardo Freitas Paulo da Costa](http://www.im.ufrj.br/bernardofpc),\n",
    "and is licensed under Creative Commons BY-SA"
   ]
  },
  {
   "cell_type": "markdown",
   "metadata": {},
   "source": [
    "# Tempo de convergência\n",
    "\n",
    "Vamos neste teste observar quanto tempo o Método de Newton leva para convergir!"
   ]
  },
  {
   "cell_type": "code",
   "execution_count": null,
   "metadata": {
    "deletable": false,
    "editable": false,
    "nbgrader": {
     "checksum": "b30dd7c75b5867775173c10be2bdfb0d",
     "grade": false,
     "grade_id": "cell-fc2505b30bb3dbeb",
     "locked": true,
     "schema_version": 1,
     "solution": false
    }
   },
   "outputs": [],
   "source": [
    "import numpy as np"
   ]
  },
  {
   "cell_type": "markdown",
   "metadata": {},
   "source": [
    "## Parte 0:\n",
    "\n",
    "Newton contando iterações:\n",
    "modifique o método de Newton para que ele retorne um par com a raíz e o número de iterações."
   ]
  },
  {
   "cell_type": "code",
   "execution_count": null,
   "metadata": {
    "deletable": false,
    "nbgrader": {
     "checksum": "c73e29ad87bf71348d2f339dabd6d788",
     "grade": false,
     "grade_id": "newton_nsteps",
     "locked": false,
     "schema_version": 1,
     "solution": true
    }
   },
   "outputs": [],
   "source": [
    "def newton_nsteps(f, df, x, prec=1e-12, maxsteps=100):\n",
    "    # YOUR CODE HERE\n",
    "    raise NotImplementedError()"
   ]
  },
  {
   "cell_type": "markdown",
   "metadata": {},
   "source": [
    "Testando que tanto o valor de retorno como o número de passos estão \"contando do lugar certo\".\n",
    "Se você estiver obtendo erros de \"contar\" um a mais / a menos, lembre que o método de Newton:\n",
    "- pára quando o passo esteja menor do que `prec`\n",
    "- mas **anda** este último passo, já que seria desperdício não usar um valor já calculado,\n",
    "- e retorna o número de passos efetuados."
   ]
  },
  {
   "cell_type": "code",
   "execution_count": null,
   "metadata": {
    "deletable": false,
    "editable": false,
    "nbgrader": {
     "checksum": "4fd8d9885e52d46e8a964837b687fe41",
     "grade": true,
     "grade_id": "newton_sin1",
     "locked": true,
     "points": 2,
     "schema_version": 1,
     "solution": false
    }
   },
   "outputs": [],
   "source": [
    "assert newton_nsteps(np.sin, np.cos, 1) == (0.0, 5)"
   ]
  },
  {
   "cell_type": "code",
   "execution_count": null,
   "metadata": {
    "deletable": false,
    "editable": false,
    "nbgrader": {
     "checksum": "e0a1f749f1270f41b985b02ade950242",
     "grade": true,
     "grade_id": "newton_sin1000",
     "locked": true,
     "points": 2,
     "schema_version": 1,
     "solution": false
    }
   },
   "outputs": [],
   "source": [
    "ans, n = newton_nsteps(np.sin, np.cos, 1000)\n",
    "assert n == 5\n",
    "assert np.sin(ans) == -1.7627486140082825e-14"
   ]
  },
  {
   "cell_type": "markdown",
   "metadata": {},
   "source": [
    "## Parte 1: Uma inversa simples\n",
    "\n",
    "Escreva uma função `arcoseno`, que calcule pelo método de Newton o arco seno de um número entre -1 e 1,\n",
    "e também retorne o número de iterações necessárias para isso.\n",
    "Como ainda temos um parâmetro \"sobrando\", vou pedir para vocês começarem sempre em $x = 0$."
   ]
  },
  {
   "cell_type": "code",
   "execution_count": null,
   "metadata": {
    "deletable": false,
    "nbgrader": {
     "checksum": "d68c7a907a59164d70af109f901e9b3b",
     "grade": false,
     "grade_id": "arcoseno",
     "locked": false,
     "schema_version": 1,
     "solution": true
    }
   },
   "outputs": [],
   "source": [
    "def arcoseno(y):\n",
    "    # YOUR CODE HERE\n",
    "    raise NotImplementedError()"
   ]
  },
  {
   "cell_type": "code",
   "execution_count": null,
   "metadata": {},
   "outputs": [],
   "source": [
    "arcoseno(0.5)"
   ]
  },
  {
   "cell_type": "markdown",
   "metadata": {},
   "source": [
    "### Testes básicos"
   ]
  },
  {
   "cell_type": "code",
   "execution_count": null,
   "metadata": {
    "deletable": false,
    "editable": false,
    "nbgrader": {
     "checksum": "b6862553bbb1afeef0f1f9b6b9a5d3e0",
     "grade": true,
     "grade_id": "asin05",
     "locked": true,
     "points": 2,
     "schema_version": 1,
     "solution": false
    }
   },
   "outputs": [],
   "source": [
    "ans, n = arcoseno(0.5)\n",
    "assert ans == np.arcsin(0.5)\n",
    "assert n == 5"
   ]
  },
  {
   "cell_type": "code",
   "execution_count": null,
   "metadata": {
    "deletable": false,
    "editable": false,
    "nbgrader": {
     "checksum": "66815b699bc59a34328cb514fb73e3d7",
     "grade": true,
     "grade_id": "asin08",
     "locked": true,
     "points": 1,
     "schema_version": 1,
     "solution": false
    }
   },
   "outputs": [],
   "source": [
    "ans, n = arcoseno(0.8)\n",
    "assert abs(ans - np.arcsin(0.8)) < 2e-16\n",
    "assert n == 6"
   ]
  },
  {
   "cell_type": "code",
   "execution_count": null,
   "metadata": {
    "deletable": false,
    "editable": false,
    "nbgrader": {
     "checksum": "5849f72675e4e953366d74898abc98ed",
     "grade": true,
     "grade_id": "asin099",
     "locked": true,
     "points": 0,
     "schema_version": 1,
     "solution": false
    }
   },
   "outputs": [],
   "source": [
    "ans, n = arcoseno(0.99)\n",
    "assert abs(ans - np.arcsin(0.99)) < 4e-16\n",
    "assert n == 8"
   ]
  },
  {
   "cell_type": "markdown",
   "metadata": {},
   "source": [
    "### Testando propriedades\n",
    "\n",
    "Uma propriedade bem razoável do método:"
   ]
  },
  {
   "cell_type": "code",
   "execution_count": null,
   "metadata": {
    "deletable": false,
    "editable": false,
    "nbgrader": {
     "checksum": "b5bb568208b154390569296917372cd1",
     "grade": true,
     "grade_id": "asin_prop1",
     "locked": true,
     "points": 2,
     "schema_version": 1,
     "solution": false
    }
   },
   "outputs": [],
   "source": [
    "for x in np.random.rand(5):\n",
    "    a,m = arcoseno(x)\n",
    "    b,n = arcoseno(-x)\n",
    "    assert (a == -b)\n",
    "    assert (m == n)"
   ]
  },
  {
   "cell_type": "markdown",
   "metadata": {},
   "source": [
    "Como você descreveria em palavras esta propriedade?"
   ]
  },
  {
   "cell_type": "markdown",
   "metadata": {},
   "source": [
    "Uma outra propriedade:"
   ]
  },
  {
   "cell_type": "code",
   "execution_count": null,
   "metadata": {
    "deletable": false,
    "editable": false,
    "nbgrader": {
     "checksum": "be149e6631fb020988182114924bd39b",
     "grade": true,
     "grade_id": "asin_prop2",
     "locked": true,
     "points": 2,
     "schema_version": 1,
     "solution": false
    }
   },
   "outputs": [],
   "source": [
    "prevans, prevn = 0, 0\n",
    "for x in np.arange(0.1,1,0.03):\n",
    "    ans, n = arcoseno(x)\n",
    "    assert prevans < ans\n",
    "    assert prevn <= n\n",
    "    prevans, prevn = ans, n"
   ]
  },
  {
   "cell_type": "markdown",
   "metadata": {},
   "source": [
    "### Observando um pouco mais:\n",
    "\n",
    "Eis aqui um resultado para pensar:\n",
    "mesmo que a tolerância sugerida seja `1e-12`, o erro foi quase `1e-8`.\n",
    "E levamos 28 passos."
   ]
  },
  {
   "cell_type": "code",
   "execution_count": null,
   "metadata": {
    "deletable": false,
    "editable": false,
    "nbgrader": {
     "checksum": "a23cba735cdc4488260df96458a13778",
     "grade": false,
     "grade_id": "cell-09a2f08ff598e031",
     "locked": true,
     "schema_version": 1,
     "solution": false
    }
   },
   "outputs": [],
   "source": [
    "ans, n = arcoseno(1)\n",
    "np.pi/2 - ans, n"
   ]
  },
  {
   "cell_type": "markdown",
   "metadata": {},
   "source": [
    "## Parte 2: Um arcoseno melhor\n",
    "\n",
    "Sabemos que $\\sin(x) \\sim x$, logo também deve ser verdade que $x \\sim \\arcsin(x)$.\n",
    "Use isso para ter um ponto inicial melhor para o método de Newton:"
   ]
  },
  {
   "cell_type": "code",
   "execution_count": null,
   "metadata": {
    "deletable": false,
    "nbgrader": {
     "checksum": "2a470f045641d0eb1c43ccc66ac9817c",
     "grade": false,
     "grade_id": "asin_fast",
     "locked": false,
     "schema_version": 1,
     "solution": true
    }
   },
   "outputs": [],
   "source": [
    "def arcoseno_rapido(y):\n",
    "    # YOUR CODE HERE\n",
    "    raise NotImplementedError()"
   ]
  },
  {
   "cell_type": "code",
   "execution_count": null,
   "metadata": {
    "deletable": false,
    "editable": false,
    "nbgrader": {
     "checksum": "dab52cc642d7cd0c20c6484f3fd8ffa7",
     "grade": true,
     "grade_id": "fast_asin05",
     "locked": true,
     "points": 1,
     "schema_version": 1,
     "solution": false
    }
   },
   "outputs": [],
   "source": [
    "ans, n = arcoseno_rapido(0.5)\n",
    "assert ans == np.arcsin(0.5)\n",
    "assert n == 4"
   ]
  },
  {
   "cell_type": "code",
   "execution_count": null,
   "metadata": {
    "deletable": false,
    "editable": false,
    "nbgrader": {
     "checksum": "91ffb02b2ece577c8690bfa9ad04a264",
     "grade": true,
     "grade_id": "fast_asin099",
     "locked": true,
     "points": 1,
     "schema_version": 1,
     "solution": false
    }
   },
   "outputs": [],
   "source": [
    "ans, n = arcoseno_rapido(0.99)\n",
    "assert abs(ans - np.arcsin(0.99)) < 4e-16\n",
    "assert n == 7"
   ]
  },
  {
   "cell_type": "markdown",
   "metadata": {},
   "source": [
    "Veja só:"
   ]
  },
  {
   "cell_type": "code",
   "execution_count": null,
   "metadata": {
    "deletable": false,
    "editable": false,
    "nbgrader": {
     "checksum": "12c377850d524908aa0b5e46a29d68b3",
     "grade": true,
     "grade_id": "asin_fastasin",
     "locked": true,
     "points": 2,
     "schema_version": 1,
     "solution": false
    }
   },
   "outputs": [],
   "source": [
    "for x in np.arange(0.1,1,0.03):\n",
    "    a, m = arcoseno(x)\n",
    "    b, n = arcoseno_rapido(x)\n",
    "    assert a == b\n",
    "    assert m == n + 1"
   ]
  },
  {
   "cell_type": "markdown",
   "metadata": {},
   "source": [
    "Porque isso acontece sempre?\n",
    "Ajudou muito ter uma aproximação muito boa do arco seno?"
   ]
  },
  {
   "cell_type": "markdown",
   "metadata": {},
   "source": []
  },
  {
   "cell_type": "markdown",
   "metadata": {},
   "source": [
    "## Parte 3: Um gráfico e uma bisseção\n",
    "\n",
    "Faça um gráfico do número de iterações necessárias para calcular o arco seno dos números de -0.9 a 0.9.\n",
    "Depois, faça outro com o número de iterações para 0.9 até 0.999."
   ]
  },
  {
   "cell_type": "code",
   "execution_count": null,
   "metadata": {
    "deletable": false,
    "editable": false,
    "nbgrader": {
     "checksum": "02b09503e46320e43aeebfe1938bcd98",
     "grade": false,
     "grade_id": "cell-825cf556fc1b43d0",
     "locked": true,
     "schema_version": 1,
     "solution": false
    }
   },
   "outputs": [],
   "source": [
    "import matplotlib.pyplot as plt"
   ]
  },
  {
   "cell_type": "code",
   "execution_count": null,
   "metadata": {
    "deletable": false,
    "nbgrader": {
     "checksum": "b0faa3b49910cf6575c09ae7282f7c5d",
     "grade": true,
     "grade_id": "graf_niter",
     "locked": false,
     "points": 3,
     "schema_version": 1,
     "solution": true
    }
   },
   "outputs": [],
   "source": [
    "# YOUR CODE HERE\n",
    "raise NotImplementedError()"
   ]
  },
  {
   "cell_type": "markdown",
   "metadata": {},
   "source": [
    "Agora, olhando o gráfico para ter os chutes iniciais,\n",
    "faça uma \"bisseção\" para descobrir a partir de qual número real\n",
    "a sua função `arcoseno` necessita de 6 iterações para convergir."
   ]
  },
  {
   "cell_type": "code",
   "execution_count": null,
   "metadata": {
    "deletable": false,
    "nbgrader": {
     "checksum": "46f0c3fcb0deb9fec849369292ead657",
     "grade": false,
     "grade_id": "niter6",
     "locked": false,
     "schema_version": 1,
     "solution": true
    }
   },
   "outputs": [],
   "source": [
    "# Dê abaixo a resposta na forma\n",
    "# x = ...\n",
    "# YOUR CODE HERE\n",
    "raise NotImplementedError()"
   ]
  },
  {
   "cell_type": "code",
   "execution_count": null,
   "metadata": {
    "deletable": false,
    "editable": false,
    "nbgrader": {
     "checksum": "a649f75ad18bfa6c8023e6c1f28b5004",
     "grade": true,
     "grade_id": "test_niter6",
     "locked": true,
     "points": 3,
     "schema_version": 1,
     "solution": false
    }
   },
   "outputs": [],
   "source": [
    "# Testando que de fato usamos 6 iterações\n",
    "_, n = arcoseno(x)\n",
    "assert n == 6\n",
    "# e que o número anterior (no computador) leva 5\n",
    "_, n = arcoseno(x - 1e-16)\n",
    "assert n == 5\n",
    "# Ah, porque subtrair 1e-16 garante que será o anterior??"
   ]
  },
  {
   "cell_type": "markdown",
   "metadata": {},
   "source": [
    "Agora, vamos ver quanto tempo demora para chegar em 20 iterações!\n",
    "\n",
    "Sugestão: implemente a função abaixo, vai ajudar para a última questão também!"
   ]
  },
  {
   "cell_type": "code",
   "execution_count": null,
   "metadata": {
    "deletable": false,
    "nbgrader": {
     "checksum": "24743a2b95f0bc4a76498aa430e7e58d",
     "grade": false,
     "grade_id": "cell-e9a69acc43191e49",
     "locked": false,
     "schema_version": 1,
     "solution": true
    }
   },
   "outputs": [],
   "source": [
    "def biss_newton_n(a,b, n):\n",
    "    \"\"\"Encontra o ponto $x \\in [a,b]$ tal que `arcoseno(x)` leva $n$ iterações, e o \"anterior\" leva $n-1$. \"\"\"\n",
    "    # YOUR CODE HERE\n",
    "    raise NotImplementedError()"
   ]
  },
  {
   "cell_type": "code",
   "execution_count": null,
   "metadata": {
    "deletable": false,
    "nbgrader": {
     "checksum": "749b71c51f2e8275668706ed734cfc9c",
     "grade": false,
     "grade_id": "niter_20",
     "locked": false,
     "schema_version": 1,
     "solution": true
    }
   },
   "outputs": [],
   "source": [
    "# Dê abaixo a resposta na forma\n",
    "# x = ...\n",
    "# YOUR CODE HERE\n",
    "raise NotImplementedError()"
   ]
  },
  {
   "cell_type": "code",
   "execution_count": null,
   "metadata": {
    "deletable": false,
    "editable": false,
    "nbgrader": {
     "checksum": "b22d9513a7f05aba8505fa18ae36efaf",
     "grade": true,
     "grade_id": "test_niter20",
     "locked": true,
     "points": 2,
     "schema_version": 1,
     "solution": false
    }
   },
   "outputs": [],
   "source": [
    "_, n = arcoseno(x)\n",
    "assert n == 20\n",
    "_, n = arcoseno(x - 1e-16)\n",
    "assert n == 19"
   ]
  },
  {
   "cell_type": "markdown",
   "metadata": {
    "collapsed": true
   },
   "source": [
    "Enfim, faça um gráfico dos pontos $x$ que são as mudanças de número de iteração, para vários valores de $n$"
   ]
  },
  {
   "cell_type": "code",
   "execution_count": null,
   "metadata": {
    "deletable": false,
    "nbgrader": {
     "checksum": "bcb272321ca366c50227919ba73c7f47",
     "grade": true,
     "grade_id": "graf_niters",
     "locked": false,
     "points": 2,
     "schema_version": 1,
     "solution": true
    }
   },
   "outputs": [],
   "source": [
    "# YOUR CODE HERE\n",
    "raise NotImplementedError()"
   ]
  }
 ],
 "metadata": {
  "kernelspec": {
   "display_name": "Python 3",
   "language": "python",
   "name": "python3"
  },
  "language_info": {
   "codemirror_mode": {
    "name": "ipython",
    "version": 3
   },
   "file_extension": ".py",
   "mimetype": "text/x-python",
   "name": "python",
   "nbconvert_exporter": "python",
   "pygments_lexer": "ipython3",
   "version": "3.4.6"
  }
 },
 "nbformat": 4,
 "nbformat_minor": 2
}
