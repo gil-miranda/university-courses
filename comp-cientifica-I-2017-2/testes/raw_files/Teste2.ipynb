{
 "cells": [
  {
   "cell_type": "markdown",
   "metadata": {},
   "source": [
    "![CC-BY-SA](https://mirrors.creativecommons.org/presskit/buttons/88x31/svg/by-sa.svg)\n",
    "This notebook was created by [Bernardo Freitas Paulo da Costa](http://www.im.ufrj.br/bernardofpc),\n",
    "and is licensed under Creative Commons BY-SA"
   ]
  },
  {
   "cell_type": "code",
   "execution_count": null,
   "metadata": {
    "deletable": false,
    "editable": false,
    "nbgrader": {
     "checksum": "d8b0c8369a7f5481641c57f88dd6ae2b",
     "grade": false,
     "grade_id": "sys",
     "locked": true,
     "schema_version": 1,
     "solution": false
    }
   },
   "outputs": [],
   "source": [
    "import sys"
   ]
  },
  {
   "cell_type": "code",
   "execution_count": null,
   "metadata": {
    "deletable": false,
    "editable": false,
    "nbgrader": {
     "checksum": "55168d6ec6532a734115c2ce8bb3bba6",
     "grade": false,
     "grade_id": "selfcall",
     "locked": true,
     "schema_version": 1,
     "solution": false
    }
   },
   "outputs": [],
   "source": [
    "from inspect import getsourcelines\n",
    "import re\n",
    "\n",
    "def has_selfcall(fun):\n",
    "    t,i = getsourcelines(fun)\n",
    "    regexp = re.compile(fun.__name__)\n",
    "    numcalls = sum([1 for l in t[i:] if regexp.search(l)])\n",
    "    return numcalls > 0"
   ]
  },
  {
   "cell_type": "markdown",
   "metadata": {},
   "source": [
    "# Instrumentar funções\n",
    "\n",
    "Uma outra habilidade necessária no curso é você _instrumentar_ suas funções para extrair informação extra."
   ]
  },
  {
   "cell_type": "markdown",
   "metadata": {},
   "source": [
    "## Fibonacci\n",
    "\n",
    "Implemente uma função recursiva `fibo` que calcula o $n$-ésimo número de Fibonacci.\n",
    "Lembre-se que os números de Fibonacci são definidos por:\n",
    "$$ \\begin{cases} F_0 = 0 \\\\ F_1 = 1 \\\\ F _ {n+2} = F _ {n+1} + F_n \\end{cases}. $$"
   ]
  },
  {
   "cell_type": "code",
   "execution_count": null,
   "metadata": {
    "deletable": false,
    "nbgrader": {
     "checksum": "f51354e593e2ec3420019f0d43e77ed0",
     "grade": false,
     "grade_id": "fibo",
     "locked": false,
     "schema_version": 1,
     "solution": true
    }
   },
   "outputs": [],
   "source": [
    "def fibo(n):\n",
    "    # YOUR CODE HERE\n",
    "    raise NotImplementedError()"
   ]
  },
  {
   "cell_type": "code",
   "execution_count": null,
   "metadata": {},
   "outputs": [],
   "source": [
    "fibo(10)"
   ]
  },
  {
   "cell_type": "markdown",
   "metadata": {},
   "source": [
    "Testando parte da definição:"
   ]
  },
  {
   "cell_type": "code",
   "execution_count": null,
   "metadata": {
    "deletable": false,
    "editable": false,
    "nbgrader": {
     "checksum": "4d0d8206d68a467d5cd7a469f45255a5",
     "grade": true,
     "grade_id": "fibo01",
     "locked": true,
     "points": 1,
     "schema_version": 1,
     "solution": false
    }
   },
   "outputs": [],
   "source": [
    "assert fibo(0) == 0\n",
    "assert fibo(1) == 1"
   ]
  },
  {
   "cell_type": "code",
   "execution_count": null,
   "metadata": {
    "deletable": false,
    "editable": false,
    "nbgrader": {
     "checksum": "a0c9cb2b90517e539d94e47d1f7b3cca",
     "grade": true,
     "grade_id": "fibo_rec_prop",
     "locked": true,
     "points": 2,
     "schema_version": 1,
     "solution": false
    }
   },
   "outputs": [],
   "source": [
    "assert fibo(15) == fibo(14) + fibo(13)"
   ]
  },
  {
   "cell_type": "markdown",
   "metadata": {},
   "source": [
    "Testando que de fato ela é recursiva:"
   ]
  },
  {
   "cell_type": "code",
   "execution_count": null,
   "metadata": {
    "deletable": false,
    "editable": false,
    "nbgrader": {
     "checksum": "8fad7ac2111987a8403e7004d7037a87",
     "grade": true,
     "grade_id": "fibo_selfcall",
     "locked": true,
     "points": 1,
     "schema_version": 1,
     "solution": false
    }
   },
   "outputs": [],
   "source": [
    "assert has_selfcall(fibo)"
   ]
  },
  {
   "cell_type": "code",
   "execution_count": null,
   "metadata": {
    "deletable": false,
    "editable": false,
    "nbgrader": {
     "checksum": "d7a122d6c447acdaad1b2e501c1bc8c2",
     "grade": true,
     "grade_id": "fibo_rec",
     "locked": true,
     "points": 1,
     "schema_version": 1,
     "solution": false
    }
   },
   "outputs": [],
   "source": [
    "prevlim = sys.getrecursionlimit()\n",
    "sys.setrecursionlimit(50)\n",
    "\n",
    "try:\n",
    "    fibo(50)\n",
    "    sys.setrecursionlimit(prevlim)\n",
    "    assert False\n",
    "except RuntimeError as e:\n",
    "    sys.setrecursionlimit(prevlim)\n",
    "    assert e.args[0][:32] == 'maximum recursion depth exceeded'"
   ]
  },
  {
   "cell_type": "markdown",
   "metadata": {},
   "source": [
    "Uma propriedade interessante dos números de Fibonacci é a divisibilidade:"
   ]
  },
  {
   "cell_type": "code",
   "execution_count": null,
   "metadata": {
    "deletable": false,
    "editable": false,
    "nbgrader": {
     "checksum": "f22204602a5457ff40c5501b9a2f10a8",
     "grade": true,
     "grade_id": "fibo_div",
     "locked": true,
     "points": 1,
     "schema_version": 1,
     "solution": false
    }
   },
   "outputs": [],
   "source": [
    "assert fibo(21) % fibo(7) == 0"
   ]
  },
  {
   "cell_type": "markdown",
   "metadata": {},
   "source": [
    "## Contando\n",
    "\n",
    "Agora, vamos instrumentar.\n",
    "\n",
    "Escreva uma função `fibo_ncalls` que, além de retornar o $n$-ésimo número de Fibonacci,\n",
    "também retorne quantas vezes ela foi chamada."
   ]
  },
  {
   "cell_type": "code",
   "execution_count": null,
   "metadata": {
    "deletable": false,
    "nbgrader": {
     "checksum": "400c657d3357e1f3b6be735f8ecdbf52",
     "grade": false,
     "grade_id": "fibo_ncalls",
     "locked": false,
     "schema_version": 1,
     "solution": true
    }
   },
   "outputs": [],
   "source": [
    "def fibo_ncalls(n):\n",
    "    # YOUR CODE HERE\n",
    "    raise NotImplementedError()"
   ]
  },
  {
   "cell_type": "code",
   "execution_count": null,
   "metadata": {},
   "outputs": [],
   "source": [
    "fibo_ncalls(3)"
   ]
  },
  {
   "cell_type": "markdown",
   "metadata": {},
   "source": [
    "Vejamos que ela conta corretamente o número de Fibonacci:"
   ]
  },
  {
   "cell_type": "code",
   "execution_count": null,
   "metadata": {
    "deletable": false,
    "editable": false,
    "nbgrader": {
     "checksum": "65aebeb53d5988e055402b425f5a78f8",
     "grade": true,
     "grade_id": "fibo_ncalls_ok",
     "locked": true,
     "points": 2,
     "schema_version": 1,
     "solution": false
    }
   },
   "outputs": [],
   "source": [
    "for x in range(10):\n",
    "    assert fibo_ncalls(x)[0] == fibo(x)"
   ]
  },
  {
   "cell_type": "markdown",
   "metadata": {},
   "source": [
    "E que `fibo_ncalls` continua sendo recursiva:"
   ]
  },
  {
   "cell_type": "code",
   "execution_count": null,
   "metadata": {
    "deletable": false,
    "editable": false,
    "nbgrader": {
     "checksum": "62bbe6e5a682f465207b0ca1118ee183",
     "grade": true,
     "grade_id": "fibo_ncalls_self",
     "locked": true,
     "points": 1,
     "schema_version": 1,
     "solution": false
    }
   },
   "outputs": [],
   "source": [
    "assert has_selfcall(fibo_ncalls)"
   ]
  },
  {
   "cell_type": "code",
   "execution_count": null,
   "metadata": {
    "deletable": false,
    "editable": false,
    "nbgrader": {
     "checksum": "7e78ec937bf02906c28cb2b8c32a60f3",
     "grade": true,
     "grade_id": "fibo_ncalls_rec",
     "locked": true,
     "points": 1,
     "schema_version": 1,
     "solution": false
    }
   },
   "outputs": [],
   "source": [
    "prevlim = sys.getrecursionlimit()\n",
    "sys.setrecursionlimit(50)\n",
    "\n",
    "try:\n",
    "    fibo_ncalls(50)\n",
    "    sys.setrecursionlimit(prevlim)\n",
    "    assert False\n",
    "except RuntimeError as e:\n",
    "    sys.setrecursionlimit(prevlim)\n",
    "    assert e.args[0][:32] == 'maximum recursion depth exceeded'"
   ]
  },
  {
   "cell_type": "markdown",
   "metadata": {},
   "source": [
    "# Instrumentando a bisseção\n",
    "\n",
    "Vamos fazer algo mais informativo do que apenas o número de vezes que a função se chama.\n",
    "Vamos retornar _listas_ com informação extra.\n",
    "\n",
    "## Retornando listas em funções recursivas\n",
    "\n",
    "Para \"esquentar os motores\", vamos voltar à função fatorial:\n",
    "implemente uma função **recursiva** `fatoriais(n)` que retorna a lista com os fatoriais de 0 até `n`.\n",
    "\n",
    "Dica: como a chamada recursiva já dá praticamente a lista toda, o que você precisa fazer para incluir um elemento a mais no valor de retorno?"
   ]
  },
  {
   "cell_type": "code",
   "execution_count": null,
   "metadata": {
    "deletable": false,
    "nbgrader": {
     "checksum": "8eaad32bc5ff888edce1c67760726992",
     "grade": false,
     "grade_id": "fatoriais",
     "locked": false,
     "schema_version": 1,
     "solution": true
    }
   },
   "outputs": [],
   "source": [
    "def fatoriais(n):\n",
    "    # YOUR CODE HERE\n",
    "    raise NotImplementedError()"
   ]
  },
  {
   "cell_type": "code",
   "execution_count": null,
   "metadata": {},
   "outputs": [],
   "source": [
    "# Testes simples para você ver\n",
    "fatoriais(0), fatoriais(4)"
   ]
  },
  {
   "cell_type": "code",
   "execution_count": null,
   "metadata": {
    "deletable": false,
    "editable": false,
    "nbgrader": {
     "checksum": "447cd5e1d2f87a6b51aa699ab6183cce",
     "grade": true,
     "grade_id": "fatoriais_list",
     "locked": true,
     "points": 2,
     "schema_version": 1,
     "solution": false
    }
   },
   "outputs": [],
   "source": [
    "# Retorna uma lista\n",
    "assert isinstance(fatoriais(10), list)\n",
    "assert len(fatoriais(100)) == 101"
   ]
  },
  {
   "cell_type": "code",
   "execution_count": null,
   "metadata": {
    "deletable": false,
    "editable": false,
    "nbgrader": {
     "checksum": "a4fa720e6973659166a006046091374a",
     "grade": true,
     "grade_id": "fatoriais_4",
     "locked": true,
     "points": 1,
     "schema_version": 1,
     "solution": false
    }
   },
   "outputs": [],
   "source": [
    "# Dá certo num caso pequeno\n",
    "assert fatoriais(4) == [1,1,2,6,24]"
   ]
  },
  {
   "cell_type": "code",
   "execution_count": null,
   "metadata": {
    "deletable": false,
    "editable": false,
    "nbgrader": {
     "checksum": "2a04cfc3b85433731f1831fde2a5929e",
     "grade": true,
     "grade_id": "fatoriais_sub",
     "locked": true,
     "points": 1,
     "schema_version": 1,
     "solution": false
    }
   },
   "outputs": [],
   "source": [
    "# Os fatoriais até 10 também estão na lista dos fatoriais até 13 ;-)\n",
    "assert fatoriais(10) == fatoriais(13)[:11]"
   ]
  },
  {
   "cell_type": "code",
   "execution_count": null,
   "metadata": {
    "deletable": false,
    "editable": false,
    "nbgrader": {
     "checksum": "2e976aa74ada70a85f3b9cca2ce59e6c",
     "grade": true,
     "grade_id": "fatoriais_div",
     "locked": true,
     "points": 2,
     "schema_version": 1,
     "solution": false
    }
   },
   "outputs": [],
   "source": [
    "l = fatoriais(100)\n",
    "assert l[0] == 1\n",
    "for i in range(1,101):\n",
    "    assert i == l[i]//l[i-1]"
   ]
  },
  {
   "cell_type": "markdown",
   "metadata": {},
   "source": [
    "## Agora, a bisseção\n",
    "\n",
    "Escreva a bisseção de forma recursiva, e que retorne a lista de todos os intervalos considerados.\n",
    "O primeiro intervalo é o próprio $[a,b]$, e o último é o que está \"mais perto\" da solução.\n",
    "\n",
    "Vamos **representar** o intervalo $[a,b]$ pelo **par** `(a,b)`. Assim, a sua função retornará uma lista de pares:\n",
    "    \n",
    "    In: bissecao(cos, 0, 8, tol=1)\n",
    "    Out: [(0, 8), (0, 4.0), (0, 2.0), (1.0, 2.0)]"
   ]
  },
  {
   "cell_type": "code",
   "execution_count": null,
   "metadata": {
    "deletable": false,
    "nbgrader": {
     "checksum": "3122e0c31dda929b04dd145e0c5a0e0e",
     "grade": false,
     "grade_id": "bissecao",
     "locked": false,
     "schema_version": 1,
     "solution": true
    }
   },
   "outputs": [],
   "source": [
    "def bissecao(f, a, b, tol=1e-6):\n",
    "    # YOUR CODE HERE\n",
    "    raise NotImplementedError()"
   ]
  },
  {
   "cell_type": "code",
   "execution_count": null,
   "metadata": {},
   "outputs": [],
   "source": [
    "from math import cos\n",
    "bissecao(cos, 0, 8, tol=1)"
   ]
  },
  {
   "cell_type": "code",
   "execution_count": null,
   "metadata": {
    "deletable": false,
    "editable": false,
    "nbgrader": {
     "checksum": "9cde6bb315b370797f7fc1a0fbaf1a14",
     "grade": true,
     "grade_id": "bissecao_list",
     "locked": true,
     "points": 1,
     "schema_version": 1,
     "solution": false
    }
   },
   "outputs": [],
   "source": [
    "assert isinstance(bissecao(cos, 0, 3), list)"
   ]
  },
  {
   "cell_type": "code",
   "execution_count": null,
   "metadata": {
    "deletable": false,
    "editable": false,
    "nbgrader": {
     "checksum": "ea75b07f5c0f5b09a1804f30f0d0b438",
     "grade": true,
     "grade_id": "bissecao_prop",
     "locked": true,
     "points": 2,
     "schema_version": 1,
     "solution": false
    }
   },
   "outputs": [],
   "source": [
    "l = bissecao(cos, 0, 2)\n",
    "x,y = l[-1]\n",
    "assert abs(x-y) <= 1e-6"
   ]
  },
  {
   "cell_type": "code",
   "execution_count": null,
   "metadata": {
    "deletable": false,
    "editable": false,
    "nbgrader": {
     "checksum": "cdf1e7661b384e262934992cbc8ad51d",
     "grade": true,
     "grade_id": "bissecao_shrink",
     "locked": true,
     "points": 2,
     "schema_version": 1,
     "solution": false
    }
   },
   "outputs": [],
   "source": [
    "l = bissecao(cos, 0, 2)\n",
    "fator = 2/1e-6\n",
    "assert fator <= 2**(len(l)-1) < 2*fator"
   ]
  },
  {
   "cell_type": "markdown",
   "metadata": {},
   "source": [
    "## Precisão relativa\n",
    "Agora, modifique o teste de recursão para que a raiz seja encontrada com precisão **relativa** `tol`.\n",
    "Cuidado com números negativos e casos onde o intervalo contém 0!"
   ]
  },
  {
   "cell_type": "code",
   "execution_count": null,
   "metadata": {
    "deletable": false,
    "nbgrader": {
     "checksum": "636f22f60e8f86945ab1f1cc240ab0df",
     "grade": false,
     "grade_id": "bissecao_rel",
     "locked": false,
     "schema_version": 1,
     "solution": true
    }
   },
   "outputs": [],
   "source": [
    "def bissecao(f, a, b, tol=1e-6):\n",
    "    # YOUR CODE HERE\n",
    "    raise NotImplementedError()"
   ]
  },
  {
   "cell_type": "code",
   "execution_count": null,
   "metadata": {
    "deletable": false,
    "editable": false,
    "nbgrader": {
     "checksum": "a472c7ea6559b21b383f6fa3e11a372f",
     "grade": true,
     "grade_id": "biss_rel_type",
     "locked": true,
     "points": 1,
     "schema_version": 1,
     "solution": false
    }
   },
   "outputs": [],
   "source": [
    "assert isinstance(bissecao(cos, 0, 3), list)"
   ]
  },
  {
   "cell_type": "code",
   "execution_count": null,
   "metadata": {},
   "outputs": [],
   "source": [
    "from math import pi"
   ]
  },
  {
   "cell_type": "code",
   "execution_count": null,
   "metadata": {
    "deletable": false,
    "editable": false,
    "nbgrader": {
     "checksum": "1bc6acebe42c33f059a4a60d367e574a",
     "grade": true,
     "grade_id": "biss_rel_err",
     "locked": true,
     "points": 1,
     "schema_version": 1,
     "solution": false
    }
   },
   "outputs": [],
   "source": [
    "l = bissecao(cos, 0, 2)\n",
    "x,y = l[-1]\n",
    "assert abs(x-y)/(pi/2) <= 1e-6"
   ]
  },
  {
   "cell_type": "code",
   "execution_count": null,
   "metadata": {
    "deletable": false,
    "editable": false,
    "nbgrader": {
     "checksum": "25ebcbaef6ebafd3046de74c1d4e798d",
     "grade": true,
     "grade_id": "biss_rel_hard",
     "locked": true,
     "points": 2,
     "schema_version": 1,
     "solution": false
    }
   },
   "outputs": [],
   "source": [
    "l = bissecao(cos, -0.87, -3.43, tol=1e-1)\n",
    "x,y = l[-1]\n",
    "assert abs(x-y)/(pi/2) <= 1e-1"
   ]
  },
  {
   "cell_type": "code",
   "execution_count": null,
   "metadata": {
    "deletable": false,
    "editable": false,
    "nbgrader": {
     "checksum": "9f1c3f3ea27222b8a25909763eea08a9",
     "grade": true,
     "grade_id": "biss_rel_negs",
     "locked": true,
     "points": 1,
     "schema_version": 1,
     "solution": false
    }
   },
   "outputs": [],
   "source": [
    "l = bissecao(cos, -5,10)\n",
    "x,y = l[-1]\n",
    "assert (x - pi/2) <= 1e-6 * pi/2\n",
    "assert (y - pi/2) <= 1e-6 * pi/2"
   ]
  },
  {
   "cell_type": "code",
   "execution_count": null,
   "metadata": {
    "deletable": false,
    "editable": false,
    "nbgrader": {
     "checksum": "95c1dcaacf395a15a542991e36745c11",
     "grade": true,
     "grade_id": "biss_rel_precise_err",
     "locked": true,
     "points": 2,
     "schema_version": 1,
     "solution": false
    }
   },
   "outputs": [],
   "source": [
    "l = bissecao(cos, -3,7)\n",
    "x,y = l[-1]\n",
    "abs_err = abs(y-x)\n",
    "assert 0.5e-6 < abs_err/(3*pi/2) <= 1e-6\n",
    "assert 10 * 2**(1-len(l)) == abs_err"
   ]
  },
  {
   "cell_type": "code",
   "execution_count": null,
   "metadata": {
    "deletable": false,
    "editable": false,
    "nbgrader": {
     "checksum": "50754ce8f1a92d016d5dced28305d4fd",
     "grade": true,
     "grade_id": "biss_rel_shrink",
     "locked": true,
     "points": 2,
     "schema_version": 1,
     "solution": false
    }
   },
   "outputs": [],
   "source": [
    "# Verificando que os intervalos de fato são divididos por 2 a cada vez\n",
    "l = bissecao(cos, -3,7, 1e-14)\n",
    "assert l[0] == (-3,7)\n",
    "diam = 10\n",
    "for x,y in l[1:]:\n",
    "    # O que vem depois da vírgula do assert aparece no caso de dar erro\n",
    "    assert abs(y-x) == diam/2, ((y-x), diam/2)\n",
    "    diam = y-x"
   ]
  }
 ],
 "metadata": {
  "kernelspec": {
   "display_name": "Python 3",
   "language": "python",
   "name": "python3"
  },
  "language_info": {
   "codemirror_mode": {
    "name": "ipython",
    "version": 3
   },
   "file_extension": ".py",
   "mimetype": "text/x-python",
   "name": "python",
   "nbconvert_exporter": "python",
   "pygments_lexer": "ipython3",
   "version": "3.4.6"
  }
 },
 "nbformat": 4,
 "nbformat_minor": 2
}
