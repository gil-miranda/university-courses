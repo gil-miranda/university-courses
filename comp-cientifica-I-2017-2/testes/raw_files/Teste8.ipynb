{
 "cells": [
  {
   "cell_type": "markdown",
   "metadata": {},
   "source": [
    "![CC-BY-SA](https://mirrors.creativecommons.org/presskit/buttons/88x31/svg/by-sa.svg)\n",
    "This notebook was created by [Bernardo Freitas Paulo da Costa](http://www.im.ufrj.br/bernardofpc),\n",
    "and is licensed under Creative Commons BY-SA"
   ]
  },
  {
   "cell_type": "code",
   "execution_count": null,
   "metadata": {
    "deletable": false,
    "editable": false,
    "nbgrader": {
     "checksum": "91fc4915d39a72c800a33245a3c35074",
     "grade": false,
     "grade_id": "cell-cd609b13c6ce3c00",
     "locked": true,
     "schema_version": 1,
     "solution": false
    }
   },
   "outputs": [],
   "source": [
    "import numpy as np\n",
    "import matplotlib.pyplot as plt"
   ]
  },
  {
   "cell_type": "code",
   "execution_count": null,
   "metadata": {
    "deletable": false,
    "nbgrader": {
     "checksum": "5578519cd2cbd650458c91a359819825",
     "grade": false,
     "grade_id": "fourier_model",
     "locked": false,
     "schema_version": 1,
     "solution": true
    }
   },
   "outputs": [],
   "source": [
    "def model(cks, x):\n",
    "    \"\"\"Calcula f(x) para os coeficientes de Fourier c_k dados na lista cks.\n",
    "    A lista cks tem comprimento ímpar, e os coeficientes vem na ordem [-M,...,-1,0,1,2,...,M].\"\"\"\n",
    "    n = len(cks)\n",
    "    assert(n%2 == 1)\n",
    "    M = (n-1)//2\n",
    "\n",
    "    # Atenção para que esta função seja vetorizada em x\n",
    "    # YOUR CODE HERE\n",
    "    raise NotImplementedError()"
   ]
  },
  {
   "cell_type": "code",
   "execution_count": null,
   "metadata": {
    "deletable": false,
    "nbgrader": {
     "checksum": "c85235c5e0461125e8de45dbad99fc08",
     "grade": false,
     "grade_id": "fourier",
     "locked": false,
     "schema_version": 1,
     "solution": true
    }
   },
   "outputs": [],
   "source": [
    "def fourier(y):\n",
    "    \"\"\"Transformada discreta de Fourier, o vetor `y` corresponde aos valores em (2n+1) pontos igualmente espaçados.\n",
    "    Retorna tanto o vetor dos coeficientes como uma função que calcula a interpolação.\"\"\"\n",
    "    n = len(y)\n",
    "    assert(n%2 == 1)\n",
    "    M = (n-1)//2\n",
    "    # Calcule os coeficientes cks\n",
    "    cks = np.zeros(n, dtype='complex')\n",
    "    # YOUR CODE HERE\n",
    "    raise NotImplementedError()\n",
    "    return cks, (lambda x: model(cks,x))"
   ]
  },
  {
   "cell_type": "markdown",
   "metadata": {},
   "source": [
    "# Interpolação via Fourier\n",
    "\n",
    "Suponha que temos uma função $f$ num intervalo $[a,b]$,\n",
    "e que calculamos $f(x)$ para $n=2M+1$ pontos $x_i$, igualmente espaçados de $a$ até $b$, inclusive.\n",
    "(pois $f(b)$ pode ser diferente de $f(a)$, em geral!)\n",
    "\n",
    "Podemos usar os coeficientes de Fourier para calcular uma função que aproxima $f$ neste intervalo.\n",
    "- Qual o \"período\" de $f$, implícito nesta escolha de pontos?\n",
    "- Como transformar o vetor $t$ para obtermos uma função $2\\pi$ periódica?\n",
    "- É preciso transformar mais alguma coisa?"
   ]
  },
  {
   "cell_type": "markdown",
   "metadata": {
    "deletable": false,
    "nbgrader": {
     "checksum": "c9b57faebae813bdee505576afd94779",
     "grade": true,
     "grade_id": "propriedades1",
     "locked": false,
     "points": 3,
     "schema_version": 1,
     "solution": true
    }
   },
   "source": [
    "YOUR ANSWER HERE"
   ]
  },
  {
   "cell_type": "code",
   "execution_count": null,
   "metadata": {
    "deletable": false,
    "nbgrader": {
     "checksum": "74880a0b8d542e55c30c5e53c715505d",
     "grade": false,
     "grade_id": "fourier_interp",
     "locked": false,
     "schema_version": 1,
     "solution": true
    }
   },
   "outputs": [],
   "source": [
    "def fourier_interp(a,b,ys):\n",
    "    \"\"\"Interpolação de Fourier, com período no intervalo [a,b+h], dados 2m+1 valores igualmente espaçados entre a e b.\"\"\"\n",
    "    n = len(ys)\n",
    "    assert(n%2 == 1)\n",
    "    cks, fi = fourier(ys)\n",
    "    # YOUR CODE HERE\n",
    "    raise NotImplementedError()"
   ]
  },
  {
   "cell_type": "markdown",
   "metadata": {},
   "source": [
    "### Asserts"
   ]
  },
  {
   "cell_type": "code",
   "execution_count": null,
   "metadata": {
    "deletable": false,
    "editable": false,
    "nbgrader": {
     "checksum": "1d729da9339ff7948b93cdcaa018ff3d",
     "grade": true,
     "grade_id": "equal_nodes",
     "locked": true,
     "points": 2,
     "schema_version": 1,
     "solution": false
    }
   },
   "outputs": [],
   "source": [
    "xs = np.linspace(-1,2,num=21)\n",
    "ys = np.exp(xs)\n",
    "exp_interp = fourier_interp(-1,2,ys)\n",
    "assert np.allclose(exp_interp(xs), ys, atol=1e-12, rtol=1e-12)"
   ]
  },
  {
   "cell_type": "code",
   "execution_count": null,
   "metadata": {},
   "outputs": [],
   "source": [
    "ts = np.random.rand(10)\n",
    "exp_interp(ts) - np.exp(ts)"
   ]
  },
  {
   "cell_type": "code",
   "execution_count": null,
   "metadata": {
    "deletable": false,
    "editable": false,
    "nbgrader": {
     "checksum": "f24e69660d506da4358730eb21d6e204",
     "grade": true,
     "grade_id": "close_middle",
     "locked": true,
     "points": 3,
     "schema_version": 1,
     "solution": false
    }
   },
   "outputs": [],
   "source": [
    "xs = np.linspace(-1,2,num=21)\n",
    "ys = np.exp(xs)\n",
    "exp_interp = fourier_interp(-1,2,ys)\n",
    "\n",
    "np.random.seed(1)\n",
    "ts = np.random.rand(10)\n",
    "assert np.allclose(exp_interp(ts), np.exp(ts), atol=0.2)"
   ]
  },
  {
   "cell_type": "markdown",
   "metadata": {},
   "source": [
    "### Gráfico\n",
    "\n",
    "Faça o gráfico da interpolação e do erro, na mesma figura."
   ]
  },
  {
   "cell_type": "code",
   "execution_count": null,
   "metadata": {
    "deletable": false,
    "nbgrader": {
     "checksum": "30ff84a6768e336f672c07220e7d0cab",
     "grade": true,
     "grade_id": "graf_interp_err",
     "locked": false,
     "points": 4,
     "schema_version": 1,
     "solution": true
    }
   },
   "outputs": [],
   "source": [
    "# YOUR CODE HERE\n",
    "raise NotImplementedError()"
   ]
  },
  {
   "cell_type": "markdown",
   "metadata": {},
   "source": [
    "### Oscilação\n",
    "\n",
    "Porque você acha que houve as oscilações nos gráficos acima?"
   ]
  },
  {
   "cell_type": "markdown",
   "metadata": {
    "deletable": false,
    "nbgrader": {
     "checksum": "369e7636631cd827c5179cc5c68d7048",
     "grade": true,
     "grade_id": "explain_osc",
     "locked": false,
     "points": 2,
     "schema_version": 1,
     "solution": true
    }
   },
   "source": [
    "YOUR ANSWER HERE"
   ]
  },
  {
   "cell_type": "markdown",
   "metadata": {},
   "source": [
    "## Comparando com Lagrange"
   ]
  },
  {
   "cell_type": "code",
   "execution_count": null,
   "metadata": {},
   "outputs": [],
   "source": [
    "from interpolation import lagrange_v as lagrange"
   ]
  },
  {
   "cell_type": "markdown",
   "metadata": {},
   "source": [
    "Faça o gráfico do erro de interpolação, nas mesmas condições, para a interpolação de Lagrange nestes 21 pontos."
   ]
  },
  {
   "cell_type": "code",
   "execution_count": null,
   "metadata": {
    "deletable": false,
    "nbgrader": {
     "checksum": "fe3b6bd0ca8c475edb6e3b3cc5b683c5",
     "grade": true,
     "grade_id": "graf_err",
     "locked": false,
     "points": 3,
     "schema_version": 1,
     "solution": true
    }
   },
   "outputs": [],
   "source": [
    "# YOUR CODE HERE\n",
    "raise NotImplementedError()"
   ]
  },
  {
   "cell_type": "markdown",
   "metadata": {},
   "source": [
    "### Comente"
   ]
  },
  {
   "cell_type": "markdown",
   "metadata": {
    "deletable": false,
    "nbgrader": {
     "checksum": "f8811755eaaf4f9fa6a846fef6cd8c65",
     "grade": true,
     "grade_id": "lagr_vs_fourier_1",
     "locked": false,
     "points": 2,
     "schema_version": 1,
     "solution": true
    }
   },
   "source": [
    "YOUR ANSWER HERE"
   ]
  },
  {
   "cell_type": "markdown",
   "metadata": {},
   "source": [
    "# Refletindo um pouco\n",
    "\n",
    "Em vez de interpolar os valores de $f(x)$ em $[a,b]$, vamos repetir os valores em ordem oposta."
   ]
  },
  {
   "cell_type": "markdown",
   "metadata": {},
   "source": [
    "### Intervalo efetivo\n",
    "\n",
    "Qual era o período implícito de $f$ no caso anterior?\n",
    "Qual o período agora?"
   ]
  },
  {
   "cell_type": "markdown",
   "metadata": {
    "deletable": false,
    "nbgrader": {
     "checksum": "f395bdb96c0c9b775f6fbac23a93587b",
     "grade": true,
     "grade_id": "periodo_refletido",
     "locked": false,
     "points": 2,
     "schema_version": 1,
     "solution": true
    }
   },
   "source": [
    "YOUR ANSWER HERE"
   ]
  },
  {
   "cell_type": "markdown",
   "metadata": {},
   "source": [
    "### Usando `np.fft`\n",
    "\n",
    "Como vamos ter um número par de pontos, devido à repetição,\n",
    "o mais simples será usar `np.fft.fft` para calcular os coeficientes $c_m$.\n",
    "\n",
    "Dê a nova transformação afim a ser efetuada em $x$, dado o \"novo período\" de $f$,\n",
    "e em seguida implemente a interpolação simétrica."
   ]
  },
  {
   "cell_type": "markdown",
   "metadata": {
    "deletable": false,
    "nbgrader": {
     "checksum": "2a0835a5ac7338cc51e4ebbb407fc6c9",
     "grade": true,
     "grade_id": "t_afim_coefs",
     "locked": false,
     "points": 2,
     "schema_version": 1,
     "solution": true
    }
   },
   "source": [
    "YOUR ANSWER HERE"
   ]
  },
  {
   "cell_type": "code",
   "execution_count": null,
   "metadata": {
    "deletable": false,
    "nbgrader": {
     "checksum": "fbe50bbd06029a9fd608e5ef4987d6f8",
     "grade": true,
     "grade_id": "fourier_interp_sym",
     "locked": false,
     "points": 2,
     "schema_version": 1,
     "solution": true
    }
   },
   "outputs": [],
   "source": [
    "def fourier_interp_sym(a,b,ys):\n",
    "    n = len(ys)\n",
    "    ysy = np.concatenate([ys, ys[::-1]])\n",
    "    cks = np.fft.fft(ysy)\n",
    "    # YOUR CODE HERE\n",
    "    raise NotImplementedError()"
   ]
  },
  {
   "cell_type": "markdown",
   "metadata": {},
   "source": [
    "Refaça os gráficos da interpolação e do erro:"
   ]
  },
  {
   "cell_type": "code",
   "execution_count": null,
   "metadata": {
    "deletable": false,
    "nbgrader": {
     "checksum": "133856a3194aea1eb54b740a610782de",
     "grade": true,
     "grade_id": "novos_grafs",
     "locked": false,
     "points": 2,
     "schema_version": 1,
     "solution": true
    }
   },
   "outputs": [],
   "source": [
    "# YOUR CODE HERE\n",
    "raise NotImplementedError()"
   ]
  },
  {
   "cell_type": "markdown",
   "metadata": {},
   "source": [
    "Comente."
   ]
  },
  {
   "cell_type": "markdown",
   "metadata": {
    "deletable": false,
    "nbgrader": {
     "checksum": "fab27494bc355e1c67b62c30905c0cb1",
     "grade": true,
     "grade_id": "erros_interp_fourier_sym",
     "locked": false,
     "points": 2,
     "schema_version": 1,
     "solution": true
    }
   },
   "source": [
    "YOUR ANSWER HERE"
   ]
  },
  {
   "cell_type": "markdown",
   "metadata": {},
   "source": [
    "# Mais uma interpolação\n",
    "\n",
    "Compare a interpolação de Fourier (sem simetria) com a interpolação de Lagrange para\n",
    "$$f(x) = \\frac{1}{1 + x^2}$$\n",
    "no intervalo $[-5,5]$."
   ]
  },
  {
   "cell_type": "code",
   "execution_count": null,
   "metadata": {
    "deletable": false,
    "nbgrader": {
     "checksum": "0aff1a86cf3a0a58da9f756d5360db52",
     "grade": true,
     "grade_id": "nova_f",
     "locked": false,
     "points": 2,
     "schema_version": 1,
     "solution": true
    }
   },
   "outputs": [],
   "source": [
    "# Defina $f$ e os pontos de interpolação\n",
    "# YOUR CODE HERE\n",
    "raise NotImplementedError()"
   ]
  },
  {
   "cell_type": "code",
   "execution_count": null,
   "metadata": {
    "deletable": false,
    "nbgrader": {
     "checksum": "8f7ca25dcfd60686e3338571bb56a572",
     "grade": true,
     "grade_id": "nova_f_fourier",
     "locked": false,
     "points": 1,
     "schema_version": 1,
     "solution": true
    }
   },
   "outputs": [],
   "source": [
    "# Faça os gráficos para Fourier\n",
    "# YOUR CODE HERE\n",
    "raise NotImplementedError()"
   ]
  },
  {
   "cell_type": "code",
   "execution_count": null,
   "metadata": {
    "deletable": false,
    "nbgrader": {
     "checksum": "8823ad1d1ad9e9f09a5df0c12c3b8426",
     "grade": true,
     "grade_id": "nova_f_lagr",
     "locked": false,
     "points": 2,
     "schema_version": 1,
     "solution": true
    }
   },
   "outputs": [],
   "source": [
    "# Enfim, os gráficos para Lagrange\n",
    "# YOUR CODE HERE\n",
    "raise NotImplementedError()"
   ]
  },
  {
   "cell_type": "markdown",
   "metadata": {},
   "source": [
    "Comente"
   ]
  },
  {
   "cell_type": "markdown",
   "metadata": {
    "deletable": false,
    "nbgrader": {
     "checksum": "f021dec73f7e9cebf4e5ad691fece1a1",
     "grade": true,
     "grade_id": "final_comms",
     "locked": false,
     "points": 3,
     "schema_version": 1,
     "solution": true
    }
   },
   "source": [
    "YOUR ANSWER HERE"
   ]
  }
 ],
 "metadata": {
  "kernelspec": {
   "display_name": "Python 3",
   "language": "python",
   "name": "python3"
  },
  "language_info": {
   "codemirror_mode": {
    "name": "ipython",
    "version": 3
   },
   "file_extension": ".py",
   "mimetype": "text/x-python",
   "name": "python",
   "nbconvert_exporter": "python",
   "pygments_lexer": "ipython3",
   "version": "3.4.6"
  }
 },
 "nbformat": 4,
 "nbformat_minor": 1
}
