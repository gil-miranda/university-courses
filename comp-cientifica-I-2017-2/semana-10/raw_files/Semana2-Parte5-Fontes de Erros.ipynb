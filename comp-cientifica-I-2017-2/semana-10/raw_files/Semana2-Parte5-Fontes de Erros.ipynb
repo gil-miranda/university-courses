{
 "cells": [
  {
   "cell_type": "markdown",
   "metadata": {},
   "source": [
    "![CC-BY-SA](https://mirrors.creativecommons.org/presskit/buttons/88x31/svg/by-sa.svg)\n",
    "This notebook was created by [Bernardo Freitas Paulo da Costa](http://www.im.ufrj.br/bernardofpc),\n",
    "and is licensed under Creative Commons BY-SA"
   ]
  },
  {
   "cell_type": "markdown",
   "metadata": {},
   "source": [
    "Vimos que o computador raramente dá a resposta exata a um problema numérico.\n",
    "O erro que ele comete pode chamado genericamente de \"erro numérico\",\n",
    "mas é importante entender a **causa** deste erro, para, se for necessário, reduzí-lo!\n",
    "\n",
    "Vejamos alguns termos, e pensemos um pouco sobre isso."
   ]
  },
  {
   "cell_type": "markdown",
   "metadata": {},
   "source": [
    "# Erro de representação\n",
    "\n",
    "Erro de representação é quando um número real $r$ é representado por um número aproximado $\\bar r$ no computador.\n",
    "\n",
    "### Exercício\n",
    "\n",
    "1. Qual o erro de representação para $\\pi$, $e$ e $\\sqrt2$?"
   ]
  },
  {
   "cell_type": "code",
   "execution_count": null,
   "metadata": {
    "collapsed": true
   },
   "outputs": [],
   "source": [
    "from math import pi, e, sqrt"
   ]
  },
  {
   "cell_type": "code",
   "execution_count": null,
   "metadata": {
    "collapsed": true
   },
   "outputs": [],
   "source": [
    "pi, e, sqrt(2)"
   ]
  },
  {
   "cell_type": "markdown",
   "metadata": {},
   "source": [
    "### Exercício\n",
    "\n",
    "1. Imagine que $x_i$ sejam $N$ números reais, e que sejam representados por $y_i$, com precisão $\\epsilon$.\n",
    "   Explique porque a condição \"$|x_i - y_i| < \\epsilon$\" é razoável.\n",
    "1. Nestas condições, qual é o erro para a soma $\\sum x_i$, calculada a partir dos $y_i$?\n",
    "   Explique porque \"o pior caso possível de acúmulo dos erros\" é uma interpretação razoável.\n",
    "1. Mostre que a condição de \"representar os dados físicos com erro menor do que $\\epsilon$\" é equivalente a ponto fixo."
   ]
  },
  {
   "cell_type": "markdown",
   "metadata": {},
   "source": [
    "# Erro de precisão / arredondamento\n",
    "\n",
    "Suponha que $x$ e $y$ sejam números exatamente representados no seu computador, mas que $x+y$ não exista.\n",
    "Quando escrevemos `z = x+y`, o número que temos em `z` não é a soma, mas tem um erro.\n",
    "Este erro é conhecido como \"erro de precisão\", e aparece porque as contas feitas pelo seu computador,\n",
    "mesmo com dados exatos, estão sujeitas a erro porque a precisão dos números representados é finita."
   ]
  },
  {
   "cell_type": "code",
   "execution_count": null,
   "metadata": {
    "collapsed": true
   },
   "outputs": [],
   "source": [
    "# Este é um exemplo clássico de arredondamento\n",
    "x = 0.1\n",
    "s = 0\n",
    "for n in range(10):\n",
    "    s += x\n",
    "s, 1-s"
   ]
  },
  {
   "cell_type": "code",
   "execution_count": null,
   "metadata": {
    "collapsed": true
   },
   "outputs": [],
   "source": [
    "### Resposta aqui\n"
   ]
  },
  {
   "cell_type": "code",
   "execution_count": null,
   "metadata": {
    "collapsed": true
   },
   "outputs": [],
   "source": [
    "# Este é outro exemplo:\n",
    "x = 3/10000\n",
    "x, 3 - 10000 * x"
   ]
  },
  {
   "cell_type": "markdown",
   "metadata": {},
   "source": [
    "### Exercício\n",
    "\n",
    "O que há de comum entre os erros acima?"
   ]
  },
  {
   "cell_type": "markdown",
   "metadata": {},
   "source": [
    "### Exercício\n",
    "\n",
    "1. Em que caso ocorre erro de precisão ao trabalhar com ponto fixo?\n",
    "   Em outros termos: quando a soma / diferença / produto / quociente de dois números de ponto fixo não pode ser representada por outro número de ponto fixo?\n",
    "1. Em que casos ocorre erro de precisão ao trabalhar com ponto flutuante?"
   ]
  },
  {
   "cell_type": "markdown",
   "metadata": {},
   "source": [
    "## Erro de cancelamento\n",
    "\n",
    "Este é um caso particular, mas importante, de erro de arredondamento em ponto flutuante.\n",
    "Imagine que $x$ e $y$ sejam números próximos, por exemplo, $x = y + \\varepsilon$,\n",
    "onde $\\varepsilon \\ll |x|, |y|$.\n",
    "Quando calculamos $x - y$, deveríamos obter $\\varepsilon$, mas em geral vem errado."
   ]
  },
  {
   "cell_type": "markdown",
   "metadata": {},
   "source": [
    "### Exercício:\n",
    "\n",
    "1. Vamos usar $y = 10^n$, $\\varepsilon = 3^k$ para vários valores de $n$ e $k$.  Quais são valores razoáveis para $n$ e $k$?\n",
    "2. Calcule $x = y + \\varepsilon$, $x-y$ e compare com $\\varepsilon$.\n",
    "3. Como observar os resultados de forma clara?"
   ]
  },
  {
   "cell_type": "code",
   "execution_count": null,
   "metadata": {
    "collapsed": true
   },
   "outputs": [],
   "source": [
    "### Resposta aqui\n"
   ]
  },
  {
   "cell_type": "markdown",
   "metadata": {},
   "source": [
    "### Exercício\n",
    "\n",
    "1. Quão errado (em termos relativos e absolutos) pode ser o erro de cancelamento?\n",
    "2. Quando que este erro é importante?"
   ]
  },
  {
   "cell_type": "markdown",
   "metadata": {},
   "source": [
    "O problema é que ao calcular $\\bar x = \\bar y + \\bar\\varepsilon$, cometemos um erro (relativo) pequeno,\n",
    "truncando $\\varepsilon$.\n",
    "Assim, quando fazemos a subtração $\\bar x - \\bar y$, obtemos a versão truncada de $\\bar\\varepsilon$."
   ]
  },
  {
   "cell_type": "markdown",
   "metadata": {},
   "source": [
    "# Erro de aproximação\n",
    "\n",
    "Muitas vezes, o próprio método numérico que usamos não encontra a resposta certa.\n",
    "Por exemplo, o método da bisseção termina quando o intervalo fica \"suficientemente pequeno\".\n",
    "Outros métodos que veremos ao longo do curso também irão \"aproximar\" a solução,\n",
    "e, **mesmo que as contas fossem feitas com números reais** (ou seja, com \"precisão infinita\"),\n",
    "a resposta ainda assim conteria um erro.\n",
    "Este erro é dito erro de aproximação."
   ]
  }
 ],
 "metadata": {
  "kernelspec": {
   "display_name": "Python 3",
   "language": "python",
   "name": "python3"
  },
  "language_info": {
   "codemirror_mode": {
    "name": "ipython",
    "version": 3
   },
   "file_extension": ".py",
   "mimetype": "text/x-python",
   "name": "python",
   "nbconvert_exporter": "python",
   "pygments_lexer": "ipython3",
   "version": "3.4.6"
  }
 },
 "nbformat": 4,
 "nbformat_minor": 2
}
