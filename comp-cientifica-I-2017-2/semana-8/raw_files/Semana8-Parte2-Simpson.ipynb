{
 "cells": [
  {
   "cell_type": "markdown",
   "metadata": {},
   "source": [
    "![CC-BY-SA](https://mirrors.creativecommons.org/presskit/buttons/88x31/svg/by-sa.svg)\n",
    "This notebook was created by [Bernardo Freitas Paulo da Costa](http://www.im.ufrj.br/bernardofpc),\n",
    "and is licensed under Creative Commons BY-SA"
   ]
  },
  {
   "cell_type": "code",
   "execution_count": null,
   "metadata": {
    "collapsed": true
   },
   "outputs": [],
   "source": [
    "import numpy as np\n",
    "import matplotlib.pyplot as plt"
   ]
  },
  {
   "cell_type": "markdown",
   "metadata": {},
   "source": [
    "# A fórmula de Simpson\n",
    "\n",
    "Em vez de usarmos uma aproximação \"de Riemann\" para a integral (ou seja, com apenas um ponto),\n",
    "vamos usar a idéia principal das outras demonstrações:\n",
    "queremos estimar com maior precisão as integrais\n",
    "$$ I _ {n,k} = \\int_{c_k}^{d_k = c_k + h} f(x)\\,dx. $$\n",
    "\n",
    "É claro (pense porquê!) que se só tivermos acesso a um ponto, o melhor que podemos fazer é usar o ponto médio $m_k = \\frac{c_k + d_k}{2}$.\n",
    "Se só tivermos dois pontos, a situação é mais complicada.\n",
    "Usando $c_k$ e $d_k$, que é a fórmula do trapézio, nem fica melhor do que apenas o ponto médio.\n",
    "Mas podemos combinar os pontos extremos $c_k$ e $d_k$ com o ponto médio, e ter 3 pontos."
   ]
  },
  {
   "cell_type": "markdown",
   "metadata": {},
   "source": [
    "### Exercício\n",
    "\n",
    "Já vimos nas aulas passadas que podemos expandir pela fórmula de Taylor tanto o integrando em\n",
    "$I = \\int_{-1}^1 f(t) \\, dt$, quanto os valores de $f(\\pm1)$,\n",
    "e com isto obter a precisão da regra de integração.\n",
    "Use todas estas fórmulas para mostrar que a combinação dos valores de $f(c_k)$, $f(m_k)$ e $f(d_k)$\n",
    "que cancela mais ordens é:\n",
    "$$ I _ {n,k} \\sim h \\, \\frac{f(c_k) + 4 f(m_k) + f(d_k)}{6}. $$\n",
    "\n",
    "Até que ordem é necessário supor que a função $f$ é diferenciável?"
   ]
  },
  {
   "cell_type": "markdown",
   "metadata": {},
   "source": [
    "### Exercício\n",
    "\n",
    "Implemente a fórmula de Simpson (não esqueça que você tem que somar todas as aproximações dos $I _ {n,k}$!).\n",
    "\n",
    "Faça um gráfico do erro em função de $n$ (ou $h$).\n",
    "Três integrais:\n",
    "$$ \\int_0^\\pi \\sin(t) dt \\quad,\\quad \\int_0^1 \\exp(-x^2) dt \\quad,\\quad \\int_3^5 \\exp(x^3) dt. $$"
   ]
  },
  {
   "cell_type": "code",
   "execution_count": null,
   "metadata": {
    "collapsed": true
   },
   "outputs": [],
   "source": [
    "def simpson(f,a,b, n=100):\n",
    "    ### Resposta aqui\n"
   ]
  },
  {
   "cell_type": "code",
   "execution_count": null,
   "metadata": {
    "collapsed": true
   },
   "outputs": [],
   "source": [
    "def f(x): return np.sin(x)\n",
    "def g(x): return np.exp(-x**2)\n",
    "def h(x): return np.exp(x**3)"
   ]
  },
  {
   "cell_type": "code",
   "execution_count": null,
   "metadata": {
    "collapsed": true
   },
   "outputs": [],
   "source": [
    "# Contas aqui...\n",
    "ns = np.logspace(1,4,dtype=int)\n",
    "\n",
    "### Resposta aqui\n"
   ]
  },
  {
   "cell_type": "code",
   "execution_count": null,
   "metadata": {
    "collapsed": true
   },
   "outputs": [],
   "source": [
    "# Calcule aqui os valores exatos das integrais\n",
    "### Resposta aqui\n"
   ]
  },
  {
   "cell_type": "markdown",
   "metadata": {},
   "source": [
    "### Bonus\n",
    "Use a fórmula do ponto médio para estimar o erro de integração usando as derivadas em $a$ e $b$."
   ]
  },
  {
   "cell_type": "code",
   "execution_count": null,
   "metadata": {
    "collapsed": true
   },
   "outputs": [],
   "source": [
    "# Calcule as derivadas aqui (ou seja, as funções!)\n",
    "### Resposta aqui\n"
   ]
  },
  {
   "cell_type": "code",
   "execution_count": null,
   "metadata": {
    "collapsed": true
   },
   "outputs": [],
   "source": [
    "# E calcule aqui a estimativa do erro\n",
    "### Resposta aqui\n"
   ]
  },
  {
   "cell_type": "code",
   "execution_count": null,
   "metadata": {
    "collapsed": true
   },
   "outputs": [],
   "source": [
    "plt.figure(figsize=(12,6))\n",
    "\n",
    "# Trace as curvas abaixo\n",
    "### Resposta aqui\n",
    "\n",
    "\n",
    "plt.xlabel('Número de passos')\n",
    "plt.ylabel('Erro relativo')\n",
    "plt.title('Método de Simpson')\n",
    "plt.legend(loc=0)\n",
    "\n",
    "plt.show()"
   ]
  },
  {
   "cell_type": "markdown",
   "metadata": {},
   "source": [
    "### Exercício\n",
    "\n",
    "É melhor usar a fórmula de Simpson com passo $0.1$ ou a fórmula do ponto médio com passo $0.05$? (Note que o passo foi escolhido de forma a que ambas calculem aproximadamente o mesmo número de termos de $f$.) E se fosse $0.01$ e $0.005$?\n",
    "\n",
    "Compare o método do ponto médio e o de Simpson, para as três funções."
   ]
  },
  {
   "cell_type": "code",
   "execution_count": null,
   "metadata": {
    "collapsed": true
   },
   "outputs": [],
   "source": [
    "from integrals import midpoint"
   ]
  },
  {
   "cell_type": "code",
   "execution_count": null,
   "metadata": {
    "collapsed": true
   },
   "outputs": [],
   "source": [
    "# Faça aqui as contas com o ponto médio\n",
    "### Resposta aqui\n"
   ]
  },
  {
   "cell_type": "code",
   "execution_count": null,
   "metadata": {
    "collapsed": true
   },
   "outputs": [],
   "source": [
    "_, [ax1, ax2, ax3] = plt.subplots(ncols=3, figsize=(15,4))\n",
    "\n",
    "# E aqui, os gráficos\n",
    "### Resposta aqui\n",
    "\n",
    "\n",
    "plt.show()"
   ]
  }
 ],
 "metadata": {
  "kernelspec": {
   "display_name": "Python 3",
   "language": "python3.4",
   "name": "python3"
  },
  "language_info": {
   "codemirror_mode": {
    "name": "ipython",
    "version": 3
   },
   "file_extension": ".py",
   "mimetype": "text/x-python",
   "name": "python",
   "nbconvert_exporter": "python",
   "pygments_lexer": "ipython3",
   "version": "3.4.6"
  }
 },
 "nbformat": 4,
 "nbformat_minor": 1
}
