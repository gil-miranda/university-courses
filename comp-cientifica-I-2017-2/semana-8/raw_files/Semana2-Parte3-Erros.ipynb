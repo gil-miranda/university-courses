{
 "cells": [
  {
   "cell_type": "markdown",
   "metadata": {},
   "source": [
    "![CC-BY-SA](https://mirrors.creativecommons.org/presskit/buttons/88x31/svg/by-sa.svg)\n",
    "This notebook was created by [Bernardo Freitas Paulo da Costa](http://www.im.ufrj.br/bernardofpc),\n",
    "and is licensed under Creative Commons BY-SA"
   ]
  },
  {
   "cell_type": "markdown",
   "metadata": {},
   "source": [
    "# Erros, erros, erros!\n",
    "\n",
    "Em geral, é muito pouco comum que os métodos computacionais que nós vamos usar dêem uma resposta exata.\n",
    "Por exemplo, se queremos calcular $\\sqrt2$, o computador não poderá jamais dar todas as casas decimais deste número.\n",
    "Mais ainda, visto que o computador usa representação em base 2, também não será capaz de escrever $0.1$ exatamente!\n",
    "\n",
    "Mas (para problemas do mundo \"real\") isto não é um problema.\n",
    "Afinal, muitas vezes estes problemas vêem com dados sujeitos a erros de medida, e portanto não faz sentido achar uma resposta tão exata quando o problema original já é inexato.\n",
    "Assim, o mais importante é entender o quão longe da resposta estamos, e (quando possível) **garantir** que não estamos longe demais.\n",
    "\n",
    "Nesta primeira abordagem, vamos nos concentrar em achar um zero de uma função $f:\\mathbf{R}\\to \\mathbf{R}$.\n",
    "A intuição que desenvolveremos aqui servirá para os métodos da bisseção e de Newton (e também para resolver equações lineares $Ax = b$), e pode ser facilmente estendida para a análise de derivadas, integrais e outros problemas de que trataremos ao longo do curso."
   ]
  },
  {
   "cell_type": "markdown",
   "metadata": {},
   "source": [
    "# Intervalos\n",
    "\n",
    "Uma forma relativamente simples de garantir uma raiz de $f$ é dizer que _existe_ uma raiz de $f$ num certo intervalo $[a,b]$.\n",
    "Quanto menor o comprimento do intervalo, mais precisa será a resposta à questão \"_Exiba uma raiz de $f$_\".\n",
    "\n",
    "Observe que o método da bisseção já dá esta informação.\n",
    "Mais ainda, ele permite que, dado um intervalo, possamos \"melhorar\" cada vez mais a qualidade da resposta, calculando $f$ em mais alguns pontos."
   ]
  },
  {
   "cell_type": "markdown",
   "metadata": {},
   "source": [
    "# Erros\n",
    "\n",
    "Mas o mais comum não é garantir um intervalo, porque (muitas vezes) o método que usamos irá mais naturalmente fornecer um único valor $x$ que está perto da raiz \"de verdade\" $z$.\n",
    "\n",
    "Existem duas medidas naturais para o erro: absoluto e relativo."
   ]
  },
  {
   "cell_type": "markdown",
   "metadata": {},
   "source": [
    "## Erro absoluto\n",
    "\n",
    "O erro absoluto é definido como $\\lvert x - z\\rvert$, ou seja, o quanto a resposta do computador difere do valor \"real\".\n",
    "\n",
    "### Exercício\n",
    "\n",
    "1. Imagine que $x_i$ sejam $N$ números reais, e que sejam representados por $y_i$, com precisão $\\epsilon$.\n",
    "   Explique porque a condição \"$|x_i - y_i| < \\epsilon$\" é razoável.\n",
    "1. Nestas condições, qual é o erro para a soma $\\sum x_i$, calculada a partir dos $y_i$?\n",
    "   Explique porque \"o pior caso possível de acúmulo dos erros\" é uma interpretação razoável.\n",
    "1. Mostre que a condição de \"representar os dados físicos com erro menor do que $\\epsilon$\" é equivalente a ponto fixo."
   ]
  },
  {
   "cell_type": "markdown",
   "metadata": {},
   "source": [
    "## Erro relativo\n",
    "\n",
    "O erro relativo é definido como $\\displaystyle \\left\\lvert \\frac{x - z}{z} \\right\\rvert$, ou seja, o quanto, _proporcionalmente_, a resposta do computador difere do valor \"real\"."
   ]
  },
  {
   "cell_type": "markdown",
   "metadata": {},
   "source": [
    "### Exercício\n",
    "\n",
    "Dê exemplos de situação onde\n",
    "\n",
    "1. O erro relativo seja maior do que o erro absoluto.\n",
    "2. O erro absoluto seja maior do que o erro relativo.\n",
    "3. O erro absoluto seja igual ao erro relativo."
   ]
  },
  {
   "cell_type": "markdown",
   "metadata": {},
   "source": [
    "### Exercício\n",
    "\n",
    "Escreva uma função que, dados dois números, retorne o erro absoluto e o erro relativo."
   ]
  },
  {
   "cell_type": "code",
   "execution_count": null,
   "metadata": {
    "collapsed": true
   },
   "outputs": [],
   "source": [
    "def erros(target, calculated):\n",
    "    ### Resposta aqui\n"
   ]
  },
  {
   "cell_type": "markdown",
   "metadata": {},
   "source": [
    "Esta função é simétrica? ($f(a,b) = f(b,a)$?)"
   ]
  }
 ],
 "metadata": {
  "kernelspec": {
   "display_name": "Python 3",
   "language": "python",
   "name": "python3"
  },
  "language_info": {
   "codemirror_mode": {
    "name": "ipython",
    "version": 3
   },
   "file_extension": ".py",
   "mimetype": "text/x-python",
   "name": "python",
   "nbconvert_exporter": "python",
   "pygments_lexer": "ipython3",
   "version": "3.4.6"
  }
 },
 "nbformat": 4,
 "nbformat_minor": 1
}
