{
 "cells": [
  {
   "cell_type": "markdown",
   "metadata": {},
   "source": [
    "![CC-BY-SA](https://mirrors.creativecommons.org/presskit/buttons/88x31/svg/by-sa.svg)\n",
    "This notebook was created by [Bernardo Freitas Paulo da Costa](http://www.im.ufrj.br/bernardofpc),\n",
    "and is licensed under Creative Commons BY-SA"
   ]
  },
  {
   "cell_type": "code",
   "execution_count": null,
   "metadata": {},
   "outputs": [],
   "source": [
    "import numpy as np\n",
    "import matplotlib.pyplot as plt"
   ]
  },
  {
   "cell_type": "markdown",
   "metadata": {},
   "source": [
    "# A regra do trapézio\n",
    "\n",
    "Outra idéia (também com cara de \"simetria\") para reduzir o erro é usar ambos pontos extremos em cada intervalo.\n",
    "A \"estimativa para $f$\" será a média de $f$ em cada um destes pontos, o que dá\n",
    "$$T_n\n",
    "  = \\sum _ {k=0}^{n-1} \\left(\\frac{f(c_k) + f(d_k)}{2}\\right) \\cdot h\n",
    "  = \\frac{f(a) + f(b)}{2} \\cdot h + \\sum _ {k=1}^{n-1} f(c_k) \\cdot h,$$\n",
    "\n",
    "onde $h$ é o comprimento de cada um dos intervalos $[c_k,d_k]$."
   ]
  },
  {
   "cell_type": "markdown",
   "metadata": {},
   "source": [
    "### Estimativa de erro\n",
    "\n",
    "Vamos primeiro estimar $\\frac{f(c_k) + f(d_k)}{2}$.\n",
    "Expandindo em série, temos $\\displaystyle f(m_k) + \\frac{f''(m_k)}{2} \\left(\\frac{h}{2}\\right)^2 + O(h^4)$."
   ]
  },
  {
   "cell_type": "markdown",
   "metadata": {},
   "source": [
    "Com isso, podemos calcular simplesmente o erro do método do trapézio.\n",
    "Como já calculamos o erro $I_{n,k} - h \\cdot f(m_k)$ no método do ponto médio,\n",
    "basta subtrair $\\displaystyle h \\cdot \\frac{f''(m_k)}{2} \\left(\\frac{h}{2}\\right)^2$\n",
    "do resultado lá obtido:\n",
    "$$\\begin{align}\n",
    "e _ {n,k} & = \\left( \\frac{h}{2} \\right)^3 \\left( \\frac{f''(m_k)}{2} \\frac{2}{3} + o(1) \\right)\n",
    "              - h \\cdot \\frac{f''(m_k)}{2} \\left(\\frac{h}{2}\\right)^2 \\\\\n",
    "          & = \\left( \\frac{h}{2} \\right)^3 \\left( \\frac{f''(m_k)}{2} \\frac{2}{3} + o(1) - 2 \\frac{f''(m_k)}{2} \\right) \\\\\n",
    "          & = \\left( \\frac{h}{2} \\right)^3 \\frac{f''(m_k)}{2} \\left( \\frac{-4}{3} \\right) + o(h^3) \\\\\n",
    "\\text{Assim, da mesma forma:} \\quad \\\\\n",
    "E_n       & = - \\left( \\frac{h}{2} \\right)^2 \\frac{f'(b) - f'(a)}{3} + o(h^2)\n",
    "\\end{align}$$"
   ]
  },
  {
   "cell_type": "code",
   "execution_count": null,
   "metadata": {},
   "outputs": [],
   "source": [
    "from integrals import cauchy, midpoint"
   ]
  },
  {
   "cell_type": "code",
   "execution_count": null,
   "metadata": {},
   "outputs": [],
   "source": [
    "def trap(f, a, b, n=100):\n",
    "    \"\"\"Calcula uma aproximação da integral de $f$ no intervalo $[a,b]$, com $n$ pontos pela fórmula do trapézio.\"\"\"\n",
    "    ### Resposta aqui\n"
   ]
  },
  {
   "cell_type": "code",
   "execution_count": null,
   "metadata": {},
   "outputs": [],
   "source": [
    "trap(np.sin, 0, 1)"
   ]
  },
  {
   "cell_type": "code",
   "execution_count": null,
   "metadata": {},
   "outputs": [],
   "source": [
    "-np.cos(1) + np.cos(0)"
   ]
  },
  {
   "cell_type": "markdown",
   "metadata": {},
   "source": [
    "## Olhando a convergência\n",
    "\n",
    "Já esperamos que o erro de integração decaia como $C/n^a$,\n",
    "para uma constante $C$ que depende de uma derivada de $f$,\n",
    "e uma potência $a$ que é a \"ordem\" do método.\n",
    "Por isso, para vermos o erro chegar perto de zero, vamos precisar de muitos pontos.\n",
    "Mas, se vamos ver $n$ variar de 10 até 1000000,\n",
    "não faz muito sentido calcular para _todos_ os valores neste intervalo.\n",
    "Ainda mais, porque o tempo de execução seria grande demais!\n",
    "\n",
    "Por isso, faz mais sentido gerar os `ns` _logaritmicamente_ espaçados.\n",
    "Mas `np.logspace`, por default, retorna valores reais,\n",
    "e não faz muito sentido dividir um intervalo em 234.51234 partes iguais...\n",
    "A chave `dtype` controla o tipo do valor de retorno,\n",
    "como podemos observar no exemplo abaixo:"
   ]
  },
  {
   "cell_type": "code",
   "execution_count": null,
   "metadata": {},
   "outputs": [],
   "source": [
    "np.logspace(2,20,base=2)"
   ]
  },
  {
   "cell_type": "code",
   "execution_count": null,
   "metadata": {},
   "outputs": [],
   "source": [
    "np.logspace(2,20,base=2,dtype=int)"
   ]
  },
  {
   "cell_type": "markdown",
   "metadata": {},
   "source": [
    "### Exercício\n",
    "\n",
    "Faça o gráfico do erro para a integral do seno e da exponencial, no intervalo $[0,1]$."
   ]
  },
  {
   "cell_type": "code",
   "execution_count": null,
   "metadata": {},
   "outputs": [],
   "source": [
    "# Contas\n",
    "ns = np.logspace(2,20,base=2,dtype=int)\n",
    "\n",
    "ISc = np.array([cauchy(np.sin,0,1,n) for n in ns])\n",
    "IEc = np.array([cauchy(np.exp,0,1,n) for n in ns])\n",
    "\n",
    "ISt = np.array([trap(np.sin,0,1,n) for n in ns])\n",
    "IEt = np.array([trap(np.exp,0,1,n) for n in ns])\n",
    "\n",
    "ISm = np.array([midpoint(np.sin,0,1,n) for n in ns])\n",
    "IEm = np.array([midpoint(np.exp,0,1,n) for n in ns])"
   ]
  },
  {
   "cell_type": "code",
   "execution_count": null,
   "metadata": {},
   "outputs": [],
   "source": [
    "# Gráfico\n",
    "ansS = (1 - np.cos(1))\n",
    "ansE = (np.exp(1) - 1)\n",
    "\n",
    "_, [ax1, ax2] = plt.subplots(ncols = 2, figsize=(12,4))\n",
    "ax1.loglog(ns, np.abs(ISc - ansS), '.', label='cauchy')\n",
    "ax1.loglog(ns, np.abs(ISt - ansS), 'x', label='trap')\n",
    "ax1.loglog(ns, np.abs(ISm - ansS), '^', label='mid')\n",
    "ax1.legend()\n",
    "ax1.set_title('Seno')\n",
    "\n",
    "ax2.loglog(ns, np.abs(IEc - ansE), '.', label='cauchy')\n",
    "ax2.loglog(ns, np.abs(IEt - ansE), 'x', label='trap')\n",
    "ax2.loglog(ns, np.abs(IEm - ansE), '^', label='mid')\n",
    "ax2.legend()\n",
    "ax2.set_title('Exp')\n",
    "plt.show()"
   ]
  },
  {
   "cell_type": "markdown",
   "metadata": {},
   "source": [
    "Como esperado, o erro da fórmula do trapézio é essencialmente o dobro do erro da fórmula do ponto médio!"
   ]
  },
  {
   "cell_type": "code",
   "execution_count": null,
   "metadata": {},
   "outputs": [],
   "source": [
    "# Gráfico\n",
    "ansS = (1 - np.cos(1))\n",
    "ansE = (np.exp(1) - 1)\n",
    "\n",
    "_, [ax1, ax2] = plt.subplots(ncols = 2, figsize=(12,4))\n",
    "ax1.semilogx(ns, np.abs(ISt - ansS)/np.abs(ISm - ansS), '.', label='trap/mid')\n",
    "ax1.legend()\n",
    "ax1.set_title('Seno')\n",
    "\n",
    "ax2.semilogx(ns, np.abs(IEt - ansE)/np.abs(IEm - ansE), '.', label='trap/mid')\n",
    "ax2.legend()\n",
    "ax2.set_title('Exp')\n",
    "plt.show()"
   ]
  }
 ],
 "metadata": {
  "kernelspec": {
   "display_name": "Python 3",
   "language": "python",
   "name": "python3"
  },
  "language_info": {
   "codemirror_mode": {
    "name": "ipython",
    "version": 3
   },
   "file_extension": ".py",
   "mimetype": "text/x-python",
   "name": "python",
   "nbconvert_exporter": "python",
   "pygments_lexer": "ipython3"
  }
 },
 "nbformat": 4,
 "nbformat_minor": 1
}
