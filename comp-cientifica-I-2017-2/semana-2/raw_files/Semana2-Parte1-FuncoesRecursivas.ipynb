{
 "cells": [
  {
   "cell_type": "markdown",
   "metadata": {},
   "source": [
    "![CC-BY-SA](https://mirrors.creativecommons.org/presskit/buttons/88x31/svg/by-sa.svg)\n",
    "This notebook was created by [Bernardo Freitas Paulo da Costa](http://www.im.ufrj.br/bernardofpc),\n",
    "and is licensed under Creative Commons BY-SA"
   ]
  },
  {
   "cell_type": "markdown",
   "metadata": {},
   "source": [
    "# Funções Recursivas\n",
    "\n",
    "Uma função é dita _recursiva_ quando ela \"chama a si mesma\".\n",
    "O princípio básico de uma função recursiva é o mesmo de \"dividir e conquistar\":\n",
    "para resolver um problema, vamos dividir este problema em partes menores,\n",
    "e resolver cada uma das partes (quando a função faz a chamada recursiva).\n",
    "\n",
    "É claro que, se a sua função **sempre** chamar a si mesma, ela nunca termina\n",
    "(dizemos que está em _loop infinito_).\n",
    "Por isso, uma função recursiva sempre tem (pelo menos) duas partes:\n",
    "- Uma que retorna um valor \"imediato\", sem chamar a si mesma\n",
    "- Uma outra que faz algumas contas, chama a si mesma, faz novas contas (se necessário) e retorna.\n",
    "\n",
    "Portanto quando você escrever uma função recursiva, sempre lembre de separar\n",
    "- a solução \"trivial\", que não precisa ser \"dividida\" para calcular a resposta\n",
    "- a estratégia de divisão."
   ]
  },
  {
   "cell_type": "markdown",
   "metadata": {},
   "source": [
    "### Exercício: fatorial\n",
    "\n",
    "A função fatorial é um dos exemplos clássicos de recorrência em matemática.\n",
    "O fatorial de um número inteiro $n$ é dado por:\n",
    "$$ n! = \\cases {1 & se $n = 0$\\\\ n \\cdot (n-1)! & se $n > 0$}. $$\n",
    "\n",
    "Implemente a função `fatorial(n)` usando um algoritmo recursivo."
   ]
  },
  {
   "cell_type": "code",
   "execution_count": 1,
   "metadata": {
    "collapsed": true
   },
   "outputs": [],
   "source": [
    "def fatorial(n):\n",
    "    ### Resposta aqui\n"
   ]
  },
  {
   "cell_type": "markdown",
   "metadata": {},
   "source": [
    "### Exercício: transformação\n",
    "\n",
    "A maior parte das funções recursivas pode ser transformada numa função com um _loop_ `while` ou `for`.\n",
    "\n",
    "1. Implemente `fatorial_loop(n)` que calcula o fatorial de $n$ com um loop `for`.\n",
    "2. Calcule $100!$, $200!$, $500!$, $1000!$ e $2000!$ com a função `fatorial` acima.\n",
    "3. Faça o mesmo com  `fatorial_loop`.\n",
    "4. Os resultados são iguais?"
   ]
  },
  {
   "cell_type": "code",
   "execution_count": 2,
   "metadata": {
    "collapsed": true
   },
   "outputs": [],
   "source": [
    "def fatorial_loop(n):\n",
    "    ### Resposta aqui\n"
   ]
  },
  {
   "cell_type": "markdown",
   "metadata": {},
   "source": [
    "### Exercício\n",
    "\n",
    "Funções com mais de um argumento também podem ser usadas em recorrências,\n",
    "mas estabelecer qual será esta recorrência pode ser mais difícil.\n",
    "\n",
    "1. Implemente a função `binom(n,k)` que calcula números binomiais usando a seguinte recorrência:\n",
    "$$ \\binom{n}{k} = \\cases {1 & se $k = 0$\\\\ \\frac{n}{k} \\cdot \\binom{n-1}{k-1} & se $k > 0$}. $$\n",
    "2. Implemente a função `binom_f(n,k)` que calcula números binomiais usando a definição via fatoriais.\n",
    "3. Verifique que ambas funções retornam o mesmo valor para diversos argumentos $n$ e $k$.\n",
    "4. Compare o tempo de execução de ambas funções, usando `%time`."
   ]
  },
  {
   "cell_type": "code",
   "execution_count": 3,
   "metadata": {
    "collapsed": true
   },
   "outputs": [],
   "source": [
    "def binom(n,k):\n",
    "    ### Resposta aqui\n"
   ]
  },
  {
   "cell_type": "code",
   "execution_count": 4,
   "metadata": {
    "collapsed": true
   },
   "outputs": [],
   "source": [
    "def binom_f(n,k):\n",
    "    ### Resposta aqui\n"
   ]
  },
  {
   "cell_type": "markdown",
   "metadata": {},
   "source": [
    "### Exercício: Transformação de novo\n",
    "\n",
    "1. Crie uma função `binom_loop` inspirada de `binom`, que usa um _loop_ `for` em vez de recorrência.\n",
    "2. Compare novamente os resultados e os tempos."
   ]
  },
  {
   "cell_type": "code",
   "execution_count": 5,
   "metadata": {
    "collapsed": true
   },
   "outputs": [],
   "source": [
    "def binom_loop(n,k):\n",
    "    ### Resposta aqui\n"
   ]
  },
  {
   "cell_type": "code",
   "execution_count": 6,
   "metadata": {},
   "outputs": [
    {
     "name": "stdout",
     "output_type": "stream",
     "text": [
      "CPU times: user 0 ns, sys: 0 ns, total: 0 ns\n",
      "Wall time: 8.11 µs\n",
      "CPU times: user 0 ns, sys: 0 ns, total: 0 ns\n",
      "Wall time: 15.7 µs\n",
      "CPU times: user 0 ns, sys: 0 ns, total: 0 ns\n",
      "Wall time: 6.44 µs\n"
     ]
    },
    {
     "data": {
      "text/plain": [
       "391328713776"
      ]
     },
     "execution_count": 6,
     "metadata": {},
     "output_type": "execute_result"
    }
   ],
   "source": [
    "# Apenas uma sugestão, brinque com outros valores!\n",
    "a = 70\n",
    "b = 10\n",
    "%time binom(a,b)\n",
    "%time binom_f(a,b)\n",
    "%time binom_loop(a,b)"
   ]
  },
  {
   "cell_type": "markdown",
   "metadata": {},
   "source": [
    "### Exercício bonus:\n",
    "\n",
    "O que acontece ao calcular $\\binom{700}{100}$ com cada uma das funções acima?"
   ]
  },
  {
   "cell_type": "code",
   "execution_count": 7,
   "metadata": {},
   "outputs": [
    {
     "name": "stdout",
     "output_type": "stream",
     "text": [
      "CPU times: user 0 ns, sys: 0 ns, total: 0 ns\n",
      "Wall time: 51 µs\n",
      "CPU times: user 0 ns, sys: 0 ns, total: 0 ns\n",
      "Wall time: 243 µs\n",
      "CPU times: user 0 ns, sys: 0 ns, total: 0 ns\n",
      "Wall time: 26 µs\n"
     ]
    },
    {
     "data": {
      "text/plain": [
       "2032333352341531577287914543897675591641296795242192030932508046636940305380752342799412684249757162861579136136249247345088"
      ]
     },
     "execution_count": 7,
     "metadata": {},
     "output_type": "execute_result"
    }
   ],
   "source": [
    "a = 700\n",
    "b = 100\n",
    "%time binom(a,b)\n",
    "%time binom_f(a,b)\n",
    "%time binom_loop(a,b)"
   ]
  }
 ],
 "metadata": {
  "kernelspec": {
   "display_name": "Python 3",
   "language": "python",
   "name": "python3"
  },
  "language_info": {
   "codemirror_mode": {
    "name": "ipython",
    "version": 3
   },
   "file_extension": ".py",
   "mimetype": "text/x-python",
   "name": "python",
   "nbconvert_exporter": "python",
   "pygments_lexer": "ipython3",
   "version": "3.4.6"
  }
 },
 "nbformat": 4,
 "nbformat_minor": 1
}
