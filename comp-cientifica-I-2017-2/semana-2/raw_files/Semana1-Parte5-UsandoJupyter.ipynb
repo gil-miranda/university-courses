{
 "cells": [
  {
   "cell_type": "markdown",
   "metadata": {},
   "source": [
    "![CC-BY-SA](https://mirrors.creativecommons.org/presskit/buttons/88x31/svg/by-sa.svg)\n",
    "This notebook was created by [Bernardo Freitas Paulo da Costa](http://www.im.ufrj.br/bernardofpc),\n",
    "and is licensed under Creative Commons BY-SA"
   ]
  },
  {
   "cell_type": "markdown",
   "metadata": {
    "deletable": true,
    "editable": true
   },
   "source": [
    "# Algumas sugestões e \"boas maneiras\"\n",
    "\n",
    "O ambiente do Jupyter permite testar o código conforme se vai desenvolvendo.\n",
    "Um bom uso deste modo \"testar e desenvoler\" irá dar uma boa sensação de produtividade,\n",
    "além de aumentar a sua confiança no que o código faz.\n",
    "\n",
    "Entretanto, não \"se empolgue\" e saia escrevendo código sem pensar.\n",
    "Isso pode ser uma das maiores tentações desta interface,\n",
    "e a longo prazo pode se tornar um hábito que vai reduzir a qualidade dos seus programas."
   ]
  },
  {
   "cell_type": "markdown",
   "metadata": {},
   "source": [
    "## Sugestão 1: Planeje antes de programar\n",
    "\n",
    "Por mais que você tenha vontade de \"sair programando\",\n",
    "procure organizar antes disso as suas ideias.\n",
    "Uma das recomendações mais simples para isso é usar lápis e papel.\n",
    "Pode parecer antiquado (e é!) mas ainda é a melhor forma de \"mudar de modo\" (ou seja, \"sair do computador\")\n",
    "e obrigar a pensar em todas as etapas,\n",
    "antes de ver os resultados."
   ]
  },
  {
   "cell_type": "markdown",
   "metadata": {},
   "source": [
    "## Sugestão 2: Escreva funções\n",
    "\n",
    "Quando uma parte do seu notebook estiver \"redonda\",\n",
    "transforme numa função.\n",
    "Pense quais são os argumentos de entrada e valores de retorno (num papel!),\n",
    "e **consolide** uma sequência de operações numa função.\n",
    "\n",
    "Isto irá ajudar a manter o seu código compreensível,\n",
    "além de permitir ganhar tempo em vezes futuras:\n",
    "em vez de \"voltar para as caixas acima\" e rodar mudando uma variável\n",
    "(talvez definida em um lugar \"perdido\" no seu notebook),\n",
    "você irá definir as variáveis num só lugar, e aplicar a função.\n",
    "\n",
    "### Bônus: você pode botar as funções num `for`.\n",
    "\n",
    "E com isso, você pode estudar fenômenos em _grande_ escala,\n",
    "ao repetir suas operações para um _grande_ conjunto de dados / parâmetros / ..."
   ]
  },
  {
   "cell_type": "markdown",
   "metadata": {},
   "source": [
    "## Sugestão 3: Organize seu notebook\n",
    "\n",
    "Use o _Markdown_ das caixas de texto, com títulos, listas, fórmulas, ...\n",
    "para explicar o que vem antes - ou um resultado que você acabou de obter num `Out[...]`.\n",
    "Separe em seções (e sub-seções se necessário)"
   ]
  },
  {
   "cell_type": "markdown",
   "metadata": {},
   "source": [
    "## Sugestão 4: Teste suas funções\n",
    "\n",
    "Muitas vezes pode parecer \"óbvio\" que a sua função faz o que você quer.\n",
    "Esperamos que seja sempre assim,\n",
    "mas o fato é que, de vez em quando, há algumas excessões.\n",
    "Os casos clássicos são variantes de \"efeitos de bordo\":\n",
    "- Quando a sua lista tem 0 / 1 elementos\n",
    "- Quando o índice que passamos é 0 / $n$, ...\n",
    "- Se passamos vetores com dimensões diferentes para uma função do `numpy`, ou um vetor e um escalar."
   ]
  },
  {
   "cell_type": "markdown",
   "metadata": {},
   "source": [
    "## Sugestão 5: Consolide funções em bibliotecas\n",
    "\n",
    "Uma vez que uma boa parte do seu código estiver\n",
    "- bem entendido\n",
    "- bem comentado\n",
    "- bem testado\n",
    "- e provavelmente não vai mudar\n",
    "\n",
    "você pode transformar esta parte num `.py`,\n",
    "que em seguida será `import`ado no seu notebook.\n",
    "\n",
    "Isso é particularmente útil quando o propósito fundamental do notebook for uma demonstração\n",
    "(gráficos, animações, resultados)\n",
    "e os detalhes das funções e algoritmos sub-jacentes não importem _para aquele notebook_.\n",
    "Como você pode muito bem imaginar,\n",
    "por mais que seja muitas vezes o caso neste curso,\n",
    "a forma como alguma função esteja escrita é bem menos relevante d**o que** a função faz."
   ]
  },
  {
   "cell_type": "markdown",
   "metadata": {},
   "source": [
    "### Bônus: docstrings\n",
    "\n",
    "Se você fez bons comentários sobre o comportamento da sua função (no _markdown_ do jupyter),\n",
    "será relativamente fácil transformar isto numa `docstring` para a sua função\n",
    "(a \"ajuda\" que aparece automaticamente com `<Shift-Tab>`).\n",
    "Não deixe de fazer isso!"
   ]
  },
  {
   "cell_type": "markdown",
   "metadata": {},
   "source": [
    "### Bônus: testes automáticos\n",
    "\n",
    "Se você fez (vários!) testes para as suas funções,\n",
    "você pode incorporá-los no mesmo `.py`, dentro de uma função `test()` (por exemplo)\n",
    "que será chamada ao executar o seu `.py`, como no exemplo a seguir:\n",
    "\n",
    "    if __name__ == 'main':\n",
    "        test()\n",
    "\n",
    "Este bloco só é executado quando o `.py` for executado, e não quando importado.\n",
    "Isso permite manter os testes juntos do código que eles testam,\n",
    "sem atrasar o uso \"pra valer\" das funções."
   ]
  },
  {
   "cell_type": "markdown",
   "metadata": {},
   "source": [
    "### Exercício: prática.\n",
    "\n",
    "1. Aplique as etapas 3-5 para o código que calcula o ângulo entre dois vetores.\n",
    "   Sugestão: o `.py` pode se chamar `geometry.py`.\n",
    "2. Agora, escreva uma nova função para calcular a área de um triângulo (em R^n!) dados 3 pontos.\n",
    "   Siga as etapas 1-5."
   ]
  },
  {
   "cell_type": "markdown",
   "metadata": {},
   "source": [
    "### Exercício: defenda-se do usuário.\n",
    "\n",
    "Uma sugestão de teste para os problemas de geometria:\n",
    "o que acontece se alguém passa dois vetores de dimensões diferentes?\n",
    "O que _deveria_ acontecer?\n",
    "Como garantir o comportamento certo?\n",
    "\n",
    "Observação: não se esqueça, o maior usuário do seu código é, em geral, você mesmo.\n",
    "Daqui a 3 meses.\n",
    "O que muitas vezes quer dizer que você não lembra _exatamente_ do que você pensou 3 meses antes.\n",
    "Por isso, defenda-se de você mesmo, seu futuro eu vai agradecer ;-)"
   ]
  }
 ],
 "metadata": {
  "kernelspec": {
   "display_name": "Python 3",
   "language": "python",
   "name": "python3"
  },
  "language_info": {
   "codemirror_mode": {
    "name": "ipython",
    "version": 3
   },
   "file_extension": ".py",
   "mimetype": "text/x-python",
   "name": "python",
   "nbconvert_exporter": "python",
   "pygments_lexer": "ipython3",
   "version": "3.4.5"
  }
 },
 "nbformat": 4,
 "nbformat_minor": 0
}
