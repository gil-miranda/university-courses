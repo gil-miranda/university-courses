{
 "cells": [
  {
   "cell_type": "markdown",
   "metadata": {},
   "source": [
    "# Análise Dimensional\n",
    "---"
   ]
  },
  {
   "cell_type": "markdown",
   "metadata": {},
   "source": [
    "## Modelos Matemáticos "
   ]
  },
  {
   "cell_type": "markdown",
   "metadata": {},
   "source": [
    "Simploriamente falando, um modelo matemático descreve o comportamento de um sistema do mundo real em termos de equações matemáticas. Nessa equações geralmente encontramos as propriedades (quantidades físicas) relevantes para a descrição do fenômeno em questão, em duas categorias: \n",
    "\n",
    "- **Variáveis**, que podem ser Dependentes ou Independentes. Por exemplo, na descrição cinemática de uma partícula $S = S(t)$, onde $S$ é a variável posição e $t$ é a variável tempo;\n",
    "- **Parâmetros**, por exemplo a posição inicial $S_0$, a velocidade $V_0$, a massa $m$, a gravidade $g$, a temperatura $\\theta$, etc.\n",
    "\n",
    "> **Observação:** Essa divisão não é estrita, por exemplo num problema de condução térmica, a tempetatura $\\theta$ pode ser uma varíavel do problema (ao ínves de um parâmetro).\n",
    "\n",
    "> **Observação 2:** Modelo Matemático não é um termo que tenha uma conceitualização única, então aqui fomos sucintos para a nossa necessidade atual, voltaremos a conceituá-lo outras vezes."
   ]
  },
  {
   "cell_type": "markdown",
   "metadata": {},
   "source": [
    "## Medições de grandezas físicas, Sistemas de Unidade e Dimensões"
   ]
  },
  {
   "cell_type": "markdown",
   "metadata": {},
   "source": [
    "É comum expressarmos *grandezas físicas* em termos de números, onde esses números são obtidos por medições dessas grandezas. Medição é o processo de comparação direto ou indireto de uma determinada quantidade com uma *unidade de medida* apropriada (um *padrão* pre-determinado). Por exemplo, quando dizemos que a massa de um copo de água é $200$ gramas, a massa de água é comparada com o padrão *unidade de massa*; quando dizemos que o comprimento de uma corda é $3$ metros, estamos comparando o comprimento da corda com uma *unidade de comprimento* padrão; igualmente ao dizermos que um carro está a $60$ quilômetros por hora estamos comparando a velocidade do carro com uma *unidade de velocidade*.\n",
    "\n",
    ">As unidades para medirmos grandezas físicas são divididas em duas categorias: *unidades fundamentais* e *unidades derivadas*\n",
    "\n",
    "Porém essa divisão é arbitrária e depende da classe de fenômenos que se pretende estudar. Por exemplo, para se estudar um fenômeno mecânico podemos adotar padrões de **massa, comprimento e tempo** como unidades fundamentais, nada nos impede porém de adotar outro conjunto tal como **força, comprimento e tempo** como fundamentais. Além disso, um conjunto fundamental sempre pode ser aumentado quando necessário, por exemplo para se estudar um fenômeno envolvendo transferência de calor, precisamos introduzir uma unidade fundamental relacionada ao fenômeno, nesse caso poderia ser a temperatura. O mesmo se repete se quisermos estudar um fenômeno eletro-mecânico. Veja por exemplo, o vídeo de um [IPMC](https://www.youtube.com/watch?v=0tS-RJ16BE4) -- Ionic Polymer Metal Composite (Compósitos de Polímeros Ionicos e Metal): um material que deforma (comportamento mecânico) com a aplicação de uma diferença de potencial elétrico [(vídeo)](https://www.youtube.com/watch?v=hDpWPZTGjeU)\n",
    "\n",
    "Uma vez que as unidades fundamentais tenham sido escolhidas, as unidades derivadas são obtidas a partir das unidades fundamentais usando as definições das grandezas físicas envolvidas. Um conjunto de unidades fundamentais que é suficiente para se medir as propriedades da classe de fenômenos considerados é chamado de *sistema de unidades*. Como exemplo, temos os sistemas [CGS](https://en.wikipedia.org/wiki/Centimetre%E2%80%93gram%E2%80%93second_system_of_units) (Centimetre–gram–second), [MKS](https://en.wikipedia.org/wiki/MKS_system_of_units) (Meter-kilogram-second) e o [SI](https://en.wikipedia.org/wiki/International_System_of_Units), o famoso Sistema Internacional (publicado em 1960). Abaixo na tabela temos algumas unidades do SI (suficientes para descrever os fenômenos termo-mecânicos por exemplo):"
   ]
  },
  {
   "cell_type": "markdown",
   "metadata": {},
   "source": [
    "| Grandeza    | Unidades  |    Nome    |  Dimensão |\n",
    "|-------------|:---------:|:----------:|:---------:|\n",
    "| comprimento |    $m$    |    metro   |    $L$    |\n",
    "| massa       |    $kg$   | quilograma |    $M$    |\n",
    "| tempo       |    $s$    |  segundos  |    $T$    |\n",
    "| temperatura |    $K$    |   kelvin   | $\\Theta$  |"
   ]
  },
  {
   "cell_type": "markdown",
   "metadata": {},
   "source": [
    "Como exemplos de unidades derivadas das unidades fundamentais, usando o sistema SI, temos as unidades para\n",
    "- área: $m^2$,\n",
    "\n",
    "- volume: $m^3$,\n",
    "\n",
    "- velocidade: $m/s$ ou $m \\cdot s^{-1}$,\n",
    "\n",
    "- aceleração: $m/s^2$ ou $m \\cdot s^{-2}$,\n",
    "\n",
    "- força: $\\dfrac{kg \\cdot m}{s^2}$ ou $kg \\cdot m \\cdot s^{-2}$ (neste caso a unidade é também denotada po $N$, de Newton),\n",
    "\n",
    "- trabalho: $\\dfrac{kg \\cdot m^2}{s^2}$ ou $kg \\cdot m^2 \\cdot s^{-2}$ (neste caso a unidade é também denotada po $J$, de Joule),\n",
    "\n",
    "- energia: a mesma do trabalho,\n",
    "\n",
    "- pressão: $\\dfrac{kg}{m \\cdot s^2}$ ou $kg \\cdot m^{-1} \\cdot s^{-2}$ (neste caso a unidade é também denotada po $Pa$, de Pascal),\n",
    "\n",
    "- densidade (massa específica): $\\dfrac{kg}{m^3}$ ou $kg \\cdot m^{-3}$,\n",
    "\n",
    "- difusividade (de massa e térmica): $\\dfrac{m^2}{s}$ ou $m^2 \\cdot s^{-1}$,\n",
    "\n",
    "- $\\cdots$"
   ]
  },
  {
   "cell_type": "markdown",
   "metadata": {},
   "source": [
    "**Pergunta:** Apesar de diferentes o que os sistemas de unidade CGS e MKS tem em comum? \n",
    "\n",
    "**Resposta:** As mesmas grandezas físicas são usadas para definir as unidades fundamentais. \n",
    "\n",
    "Consequentemente, dizemos que esses sistemas pertencem à mesma classe. Para generalizar, um conjunto de sistemas de unidades que diferem apenas nas magnitudes (mas não na natureza física das grandezas) das unidades fundamentais é denominado uma *classe de sistemas de unidades*. O MKS e o CGS são portanto membros da classe em que padrões de comprimentos, massas e tempos são usados como unidades fundamentais. \n",
    "\n",
    "Agora na suposição de tomarmos o CGS como o sistema original nesta classe, então as unidades correspondentes de um sistema arbitrário nessa mesma classe são da forma:\n",
    "\n",
    "$$\n",
    "\\large \\text{unidade de comprimento} = cm/L, \\\\\n",
    "\\large \\text{unidade de massa} = g/M, \\\\\n",
    "\\large \\text{unidade de tempo} = s/T,\n",
    "$$\n",
    "\n",
    "onde $L$, $M$ e $T$ são *números positivos*, os fatores pelos quais as unidades fundamentais devem ser escaladas para se passar de um sistema para outro. No exemplo acima, passando-se do CGS para o MKS ou SI teríamos $L = 0,01$, $M = 0,001$ e $T = 1$. A classe a que pertencem o CGS, o MKS e o SI é denominada a classe $LMT$.\n",
    "\n",
    "### Dimensão de uma grandeza física\n",
    "\n",
    "E como ficam as unidades derivadas em um sistema da mesma classe em relação a um sistema tomado como original? Por exemplo, se a unidade de comprimento é escalada por um fator $L$ e a unidade de tempo é escalada por um fator $T$, então a nova unidade de velocidade será escalada por um fator $LT^{-1}$. Da mesma forma, ao escalar a unidade de massa por um fator $M$ e a unidade de comprimento por um fator $L$, descobrimos que a nova unidade de densidade é escalada por um fator $L^{-3}M$. Outras grandezas podem ser tratadas de forma semelhante. A mudança no valor numérico de uma quantidade física após a passagem de um sistema de unidades para um sistema arbitrário dentro da mesma classe é determinada por sua **dimensão**.\n",
    "\n",
    "De acordo com [2],\n",
    "\n",
    "> \"*The function that determines the factor by which the numerical value of a physical quantity changes upon passage from the original system of units to an arbitrary system within a given class is called the dimension function, or dimension, of that quantity.*\"\n",
    "\n",
    "Por exemplo, a função dimensional, ou dimensão apenas, da velocidade $v$ na classe $LMT$ é $[v] = LT^{-1}$ (essa notação de colchetes para dimensão é devida a Maxwell). Do mesmo modo, a dimensão da densidade $\\rho$ na classe $LMT$ é $[\\rho] = L^{-3}M$. No caso da força, temos pela segunda lei de Newton a relação $f = m~a$, agora as dimensões em ambos os lados de qualquer equação que tenha sentido físico devem idênticos, portanto (no sistema $LMT$) temos\n",
    "$$\n",
    "\\Large\n",
    "[f] = [m][a] = M(LT^{-2}) = LMT^{-2}.\n",
    "$$\n",
    "\n",
    "**Observação :** Você poderá observar a última coluna da tabela acima com outros olhos.\n",
    "\n",
    "**Observação 2:** Grandezas cujos valores numéricos são idênticos em todos os sistemas de unidades dentro de uma determinada classe são chamadas de **adimensionais**; claramente, a função dimensional, ou dimensão, é igual à unidade para uma grandeza adimensional. Todas as outras grandezas são chamadas de **dimensionais**.\n",
    "\n",
    "\n",
    "Antes de prosseguirmos para falar da Análise Dimensional precisamos enunciar uma importante propriedade das funções dimensionais (ou dimensão). Nos exemplos considerados acima a dimensão (ou função dimensional) sempre foi uma lei de potência monomial, o que sucita a questão se existem grandezas físicas que, na classe $LMT$ por exemplo, são dadas por outros tipos de relações funcionais, como $L + M^2$, $e^L M$, ou $\\cos M \\log T$, etc. A resposta é NÃO, ou seja, a função dimensional (dimensão) de uma grandeza física é sempre uma lei de potência monomial. Uma prova desse fato para o classe $LMT$, e que se generaliza para qualquer outra classe de sistemas, como por exemplo $LMT\\Theta$ pode ser encontrada em [2].\n"
   ]
  },
  {
   "cell_type": "markdown",
   "metadata": {},
   "source": [
    "## Qual objetivo da análise dimensional?"
   ]
  },
  {
   "cell_type": "markdown",
   "metadata": {},
   "source": [
    "Resposta 1: \"Basically, dimensional analysis is a method for reducing the number and complexity of experimental variables that affect a given physical phenomenon, by using a sort of compacting technique. [...] Finally, dimensional analysis will often give a great deal of insight into the form of the physical relationship we are trying to study.\" [1]\n",
    "\n",
    "Resposta 2: \"Nondimensionalizing a mathematical model is a constructive way to formulate the model in terms of dimensionless quantities only. A big achievement is that dimensional analysis yields insight in the scaling relations of the system without using knowledge of any governing equation. An advantageous corollary is that the total number of variables and/or parameters is minimal.\"[3]"
   ]
  },
  {
   "cell_type": "markdown",
   "metadata": {},
   "source": [
    "Temos ainda um princípio físico fundamental para a análise dimensional, que geralmente é enunciado por: \"*Não podemos somar maças e laranjas*\" (\"We can't add apples and oranges\"), mas que pode ser mais formalmente expresso como,\n",
    "\n",
    "### Princípio da Homogeneidade Dimensional\n",
    "*Se uma equação verdadeiramente expressa uma relação adequada entre variáveis em um processo físico, ela será dimensionalmente homogênea; isto é, cada um dos seus termos de aditivo terão as mesmas dimensões.*"
   ]
  },
  {
   "cell_type": "markdown",
   "metadata": {},
   "source": [
    "## Exemplo Motivador"
   ]
  },
  {
   "cell_type": "markdown",
   "metadata": {},
   "source": [
    "Consideremos a relação que expressa o deslocamento de um corpo em quedra livre: \n",
    "$$\\Large S = S_0 + V_0 t + \\frac{1}{2} gt^2. \\quad (1)$$ \n",
    "Cada termo da equação tem a dimensão de comprimento, $L$, e portanto ela é *dimensionalmente homogênea*. Note ainda que qualquer sistema de unidades consistentes pode ser usado para calcular um resultado.\n",
    "\n",
    "Nesse caso temos a seguinte divisão:\n",
    "- 2 variáveis: $S$ e $t$;\n",
    "- 3 parâmetros: $S_0$, $V_0$ e $g$.\n",
    "\n",
    "Temos também a constante $\\frac{1}{2}$ que não possuí dimensão. Observe que tanto *variáveis* quanto *parâmetros* são dimensionais, e podem ser adimensionalizados, porém como veremos a seguir geralmente os parâmetros ajudam no processo de adimensionalização das variáveis. Cabe comentar também que o processo de derivar ou integral equação obviamente mudam a dimensão dos termos, mas não destroem a homogeneidade dimensional da relação.\n",
    "\n",
    "O primeiro passo no processo de adimensionalização é identificar quantas dimensões estão envolvidas nas variáveis e nos parâmetros, no nosso caso temos,\n",
    "$$\n",
    "\\Large\n",
    "[S] = [S_0] = L, \\quad [t] = T, \\quad [V_0] = LT^{-1}, \\quad [g] = LT^{-2},\n",
    "$$\n",
    "portanto **duas** dimensões estão envolvidas: comprimento, $L$, e tempo, $T$. Agora dentre os parâmetros, selecionamos 2 deles (chamados parâmetros de escala) para adimensionalizar as variáveis, neste caso teremos 3 opções de escolha:\n",
    "\n",
    "- **Opção 1:**  Parâmetros de escala: $S_0$ e $V_0$;\n",
    "    \n",
    "- **Opção 2:**  Parâmetros de escala: $V_0$ e $g$;\n",
    "    \n",
    "- **Opção 3:**  Parâmetros de escala: $S_0$ e $g$.\n",
    "\n",
    "Vamos agora avaliar as consequências de cada escolha das opções.\n",
    "\n",
    "#### Opção 1\n",
    "\n",
    "Usamos $S_0$ e $V_0$ para definir deslocamento e tempo adimensionais, denotados, por $S^{*}$ e $t^{*}$, respectivamente. Nesse caso, apenas as seguintes definições são adequadas:\n",
    "$$\n",
    "\\Large\n",
    "S^{*} = \\dfrac{S}{S_0},  \\quad  t^{*} = \\dfrac{V_0}{S_0}t.\n",
    "$$\n",
    "Com efeito, temos \n",
    "$$\n",
    "\\Large\n",
    "[S^{*}] = \\left[ \\dfrac{S}{S_0} \\right] = \\dfrac{[S]}{[S_0]} = \\dfrac{L}{L} = 1,  \\quad  [t^{*}] = \\left[ \\dfrac{V_0}{S_0}t \\right] = \\dfrac{[V_0]}{[S_0]}[t] = \\dfrac{LT^{-1}}{L}T = 1.\n",
    "$$\n",
    "Portanto substituindo $S^{*}$ e $t^{*}$ em $(1)$ e manipulando chegamos na nova relação:\n",
    "$$\n",
    "\\Large\n",
    "S^{*} = 1 + t^{*} + \\frac{1}{2} \\alpha {t^{*}}^2 \\quad\\text{com}\\quad \\alpha = \\frac{g S_0}{V_0^2}. \\quad (2)\n",
    "$$\n",
    "\n",
    "Observe que surgiu um novo parâmetro adimensional, $\\alpha$, neste caso relacionado a gravidade (o parâmetro que ficou de fora da escolha), e temos uma nova relação $(2)$, que carrega as mesma informações que a original, porém sendo mais apropriada se quisermos descrever os **efeitos da gravidade** na queda-livre. \n",
    "\n",
    "#### Opção 2\n",
    "\n",
    "Usamos $V_0$ e $g$ para definir deslocamento e tempo adimensionais, denotados, por $S^{**}$ e $t^{**}$, respectivamente. Nesse caso, apenas as seguintes definições são adequadas:\n",
    "$$\n",
    "\\Large\n",
    "S^{**} = \\dfrac{g}{V_0^2}S,  \\quad  t^{**} = \\dfrac{g}{V_0}t.\n",
    "$$\n",
    "Verifique como fizemos acima que $[S^{**}] = 1$ e $[t^{**}] = 1$. Agora, substituindo $S^{**}$ e $t^{**}$ em $(1)$ e manipulando chegamos na nova relação:\n",
    "$$\n",
    "\\Large\n",
    "S^{**} = \\alpha + t^{**} + \\frac{1}{2} {t^{**}}^2 \\quad\\text{com}\\quad \\alpha = \\frac{g S_0}{V_0^2}. \\quad (3)\n",
    "$$\n",
    "\n",
    "Observe que surgiu o mesmo novo parâmetro adimensional, $\\alpha$, que apareceu na Opção 1, porém agora relacionado a $S_0$ (o parâmetro que ficou de fora da escolha), e temos uma nova relação $(3)$, que carrega as mesma informações que a original, porém sendo mais apropriada se quisermos descrever os **efeitos da posição inicial** na queda-livre. \n",
    "\n",
    "#### Opção 3\n",
    "\n",
    "Usamos $S_0$ e $g$ para definir deslocamento e tempo adimensionais, denotados, por $S^{***}$ e $t^{***}$, respectivamente.\n",
    "Nesse caso, apenas as seguintes definições são adequadas:\n",
    "$$\n",
    "\\Large\n",
    "S^{***} = \\dfrac{S}{S_0},  \\quad  t^{***} = \\left( \\dfrac{g}{S_0} \\right)^{1/2} t.\n",
    "$$\n",
    "Verifique como fizemos acima que $[S^{***}] = 1$ e $[t^{***}] = 1$. Portanto, substituindo $S^{***}$ e $t^{***}$ em $(1)$ e manipulando chegamos na nova relação:\n",
    "$$\n",
    "\\Large\n",
    "S^{***} = 1 + \\beta t^{***} + \\frac{1}{2} {t^{***}}^2 \\quad\\text{com}\\quad \\beta = \\dfrac{1}{\\sqrt{\\alpha}} = \\frac{V_0}{\\sqrt{g S_0}}. \\quad (4)\n",
    "$$\n",
    "\n",
    "Finalmente, agora temos um novo parâmetro adimensional, $\\beta$ (mais que depende algebricamente de $\\alpha$), relacionado a $V_0$ (o parâmetro que ficou de fora da escolha), e temos uma nova relação $(4)$, que carrega as mesma informações que a original, porém sendo mais apropriada se quisermos descrever os **efeitos da velocidade inicial** na queda-livre.\n",
    "\n",
    "Nota-se que não três opções, o mesmo parâmetro $\\alpha$ aparece porém com significados diferentes: gravidade adimensional, posição inicial adimensional, e velocidade inicial adimensional. Enquanto que a relação original $(1)$ envolve 5 grandezas, podendo ser representada por\n",
    "$$\n",
    "\\Large\n",
    "S = f(t, S_0, V_0, g),\n",
    "$$\n",
    "as versões adimensionalizadas envolvem apenas 3, podendo ser representadas genericamente por\n",
    "$$\n",
    "\\Large\n",
    "S^* = f^*(t^*, \\alpha)   \\quad\\text{com}\\quad \\alpha = \\frac{g S_0}{V_0^2}.  \n",
    "$$\n",
    "\n",
    "A redução é contabilizada por $5 - 2 = 3$, onde $5$ é o números de variáveis e parâmetros e $2$ é o número de dimensões fundamentais envolvidas no problema, $\\{L,T\\}$ nesse caso. Veremos a seguir que esse resultado é um teorema fundamental da análise dimensional, conhecido como *Teorema Pi de Buckingham*"
   ]
  },
  {
   "cell_type": "markdown",
   "metadata": {},
   "source": [
    "## O Teorema Pi de Buckingham"
   ]
  },
  {
   "cell_type": "markdown",
   "metadata": {},
   "source": [
    "Os fundamentos do método de análise dimensional repousa em duas hipóteses: (1) A relação física proposta é dimensionalmente homogênea e (2) todas as variáveis relevantes foram incluídas na relação proposta.\n",
    "\n",
    "O teorema foi proposto em 1914 por Buckingham. O nome Pi se deve a notação matemática $\\Pi$ para um produtório, neste caso, um produto de grandezas (variáveis e parâmetros), dado que os *grupos adimensionais* fornecidos pelo teorema são produtos de potências (inteiras) de notados por originalmente por $\\pi_1$, $\\pi_2$, etc.\n",
    "\n",
    "### Teorema (Buckingham)\n",
    "\n",
    "> *Considere um sistema com variáveis $x_1, \\ldots, x_k$ e parâmetros $p_1, \\ldots, p_l$, em que $m$ dimensões fundamentais estão envolvidas. Então, $k+l-m$ grandezas adimensionais $\\pi_i$ podem ser definidas como potências das variáveis originais e dos parâmetros. E cada equação (escalar) \n",
    "$$\n",
    "\\Large\n",
    "f(x_1, \\ldots, x_k, p_1, \\ldots, p_l) = 0\n",
    "$$\n",
    "entre os $x_i$ e $p_j$ de um modelo matemático pode ser substituída por uma relação correspondente entre os $\\pi_i$:\n",
    "$$\n",
    "\\Large\n",
    "f^*(\\pi_1, \\ldots, \\pi_{k+l-m}) = 0\n",
    "$$*\n",
    "\n",
    "No centro da demonstração está o (querido?) Teorema do Núcleo e da Imagem. A ideia é a seguinte: considere um sistema como variáveis escalares $x_1, \\ldots, x_k$ e parâmetros escalares $p_1, \\ldots, p_l$, de modo que o número total de quantidades envolvidas é $N = k + l$. O modelo pode contemplar vetores, matrizes, etc, porém para o objetivo da análise todas as componentes devem ser tratadas separadamente. Agora formamos os produtos\n",
    "$$\n",
    "\\Large\n",
    "[x_1]^{r_1} ~\\cdots~ [x_k]^{r_k} ~ [p_1]^{r_{k+1}} ~\\cdots~ [p_l]^{r_N},\n",
    "$$\n",
    "e perguntamos para quais escolhas de $r_i$ os produtos são adimensionais. Para isso, substituímos cada $[x_i]$ e $[p_j]$ enm termos das suas dimensões fundamentais, se digamos, $m$ dimensões fundamentais $d_1, \\ldots, d_m$ estão envolvidas, a substituição dá origem ao (novo) produto\n",
    "$$\n",
    "\\Large\n",
    "d_1^{s_1} \\cdots d_m^{s_m},\n",
    "$$\n",
    "onde cada $s_i$, $i = 1, \\ldots, m$ é uma combinação linear dos $r_j$, $j = 1, \\ldots, N$. Portanto pedindo que\n",
    "$$\n",
    "\\Large\n",
    "s_i = 0, \\quad \\text{para} \\quad i = 1, \\ldots, m,\n",
    "$$\n",
    "obtemos um conjunto de $m$ equações lineares para $N$ incógnitas $r_1, \\ldots, r_N$, ou seja, obtemos um sistema linear homogêneo. Reduzimos o problema assim, ao problema de determinar o conjunto solução de um sistema linear homogêneo, ou seja, encontrar o Núcleo da matriz, de tamanho $m \\times N$ no caso, que define o sistema linear. Observe que pelo Teorema do Núcleo e da Imagem, a dimensão do Núcleo pode ser no máximo $N-m$, e portanto teríamos no máximo $N-m$ soluções linearmente indepentes, o que corresponde justamente as $N-m$ grandezas adimensionais $\\pi_i$ do enunciado do Teorema (lembrando que $N = k + l$). Esse procedimento será mostrado em exemplos a seguir."
   ]
  },
  {
   "cell_type": "markdown",
   "metadata": {},
   "source": [
    "### O pêndulo simples\n",
    "\n",
    "Considere o movimento do [pêndulo simples](https://pt.wikipedia.org/wiki/P%C3%AAndulo). As variáveis envolvidas na descrição do fenômeno são o ângulo $\\theta$ e o tempo $t$. Uma observação importante é que o ângulos em radianos são quantidades adimensionais por definição, então já temos de antemão que $[\\theta] = 1$. Como parâmetros temos, a massa $m$ do prumo, o comprimento $l$ da haste rígida, a gravidade $g$ e o ângulo inicial $\\theta_0$ (adimensional). Então temos $N = 2 + 4 = 6$, e também $3$ dimensões fundamentais, a saber, $L$, $M$ e $T$, portanto o sistema tem $3$ quantidades adimensionais. Como $\\theta$ e $\\theta_0$ já são adimensionais, eles são escolhas naturais. Para encontrar o terceiro adimensional, formamos o produto\n",
    "$$\n",
    "\\large\n",
    "[t]^{r_1} [l]^{r_2} [m]^{r_3} [g]^{r_4}.\n",
    "$$\n",
    "Agora, $[t] = T$, $[l] = L$, $[m] = M$ e $[g] = LT^{-2}$, e substituindo no produto acima teremos\n",
    "$$\n",
    "\\large\n",
    "T^{r_1} L^{r_2} M^{r_3} (LT^{-2})^{r_4} = T^{r_1 - 2 r_4} L^{r_2 + r_4} M^{r_3},\n",
    "$$\n",
    "\n",
    "A condição de perdir que o produto seja adimensional nos dá o sistema linear\n",
    "$$ \n",
    "\\large\n",
    "\\begin{cases}\n",
    "  r_1 - 2 r_4  = 0, \\\\\n",
    "  r_2 + r_4 = 0, \\\\\n",
    "  r_3 = 0,\n",
    "\\end{cases}\n",
    "$$\n",
    "\n",
    "Uma solução interessante para o sistema é $(1, -1/2, 0, 1/2)$, pois $r_1 = 1$, e nesse caso teremos o tempo $t$ adimensionalizado, com efeito\n",
    "$$\n",
    "\\large\n",
    "t^* = t~l^{-1/2}~g^{1/2} = t \\sqrt{ \\dfrac{g}{l} }.\n",
    "$$\n",
    "\n",
    "Note que a massa $m$ não está presente em nenhuma grandeza adimensional, neste caso, $\\theta$, $\\theta_0$ e $t^*$, o que implica que o movimento do pêndulo é independente de $m$. Além disso, o Teorema Pi nos diz que o movimento do pêndulo pode ser descrito através de uma relação entre $\\theta$, $\\theta_0$ e $t^*$, neste caso, podemos até assumir que a relação é explícita e da forma\n",
    "$$\n",
    "\\large\n",
    "\\theta = f^*(t^*, \\theta_0).\n",
    "$$\n",
    "\n",
    "Veremos agora que o raciocínio até aqui nos permite concluir sobre o período do movimento do pêndulo, apesar da análise dimensional feita até aqui não permitir concluir que o movimento é periódico, a observação do fenômeno nos permite postular tal hipótese, e desse modo, podemos assumir a exsitência de um período $\\tau$ igualmente satisfazendo\n",
    "$$\n",
    "\\large\n",
    "\\tau^* = \\tau \\sqrt{ \\dfrac{g}{l} },\n",
    "$$\n",
    "com $\\tau^*$ adimensional, isto é, $[\\tau^*] = 1$. \"Aplicando o colchete\" na relação acima podemos finalmente concluir que $\\tau$ deve ser proporcional a $\\sqrt{l/g}$, isto é,\n",
    "$$\n",
    "\\large\n",
    "\\tau \\sim \\sqrt{ \\dfrac{l}{g} }.\n",
    "$$"
   ]
  },
  {
   "cell_type": "markdown",
   "metadata": {},
   "source": [
    "## Exercícios\n",
    "\n",
    "[...]"
   ]
  },
  {
   "cell_type": "markdown",
   "metadata": {},
   "source": [
    "## Referências\n",
    "\n",
    "[1] White, F. W. *Fluid Mechanics*, Eighth Edition, McGraw-Hill Education, 2016.\n",
    "\n",
    "[2] Barenblatt, G. *Scaling*, Cambridge University Press, 2003.\n",
    "\n",
    "[3] Groesen, E. van, and Molenaar, J. *Continuum Modeling in the Physical Sciences*, SIAM, 2007. \n",
    "\n",
    "[4] https://ian-r-rose.github.io/automated-dimensional-analysis.html"
   ]
  }
 ],
 "metadata": {
  "kernelspec": {
   "display_name": "Python 3",
   "language": "python",
   "name": "python3"
  },
  "language_info": {
   "codemirror_mode": {
    "name": "ipython",
    "version": 3
   },
   "file_extension": ".py",
   "mimetype": "text/x-python",
   "name": "python",
   "nbconvert_exporter": "python",
   "pygments_lexer": "ipython3",
   "version": "3.7.8"
  }
 },
 "nbformat": 4,
 "nbformat_minor": 4
}
