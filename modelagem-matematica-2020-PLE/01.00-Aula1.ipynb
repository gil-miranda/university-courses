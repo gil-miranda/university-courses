{
 "cells": [
  {
   "cell_type": "markdown",
   "metadata": {
    "slideshow": {
     "slide_type": "skip"
    }
   },
   "source": [
    "<!--HEADER-->\n",
    "[*Guia de aulas da disciplina de Modelagem Matemática*](https://github.com/rmsrosa/modelagem_matematica) *do* [*IM-UFRJ*](https://www.im.ufrj.br)."
   ]
  },
  {
   "cell_type": "markdown",
   "metadata": {
    "slideshow": {
     "slide_type": "skip"
    }
   },
   "source": [
    "<!--NAVIGATOR-->\n",
    "\n",
    "<a href=\"https://colab.research.google.com/github/rmsrosa/modelagem_matematica/blob/modmat2019p1/aulas/01.00-Aula1.ipynb\"><img align=\"left\" src=\"https://colab.research.google.com/assets/colab-badge.svg\" alt=\"Open in Colab\" title=\"Open and Execute in Google Colaboratory\"></a>\n",
    "&nbsp;\n",
    "<a href=\"https://mybinder.org/v2/gh/rmsrosa/modelagem_matematica/modmat2019p1?filepath=aulas/01.00-Aula1.ipynb\"><img align=\"left\" src=\"https://mybinder.org/badge.svg\" alt=\"Open in binder\" title=\"Open and Execute in Binder\"></a>\n",
    "&nbsp;\n",
    "<a href=\"https://nbviewer.jupyter.org/github/rmsrosa/modelagem_matematica/blob/modmat2019p1/aulas/01.00-Aula1.slides.html\"><img align=\"left\" src=\"https://rmsrosa.github.io/jupyterbookmaker/badges/slides_badge.svg\" alt=\"Open slides\" title=\"Open and View Slides\"></a>\n",
    "&nbsp;\n",
    "\n",
    "[<- Página Inicial](00.00-Pagina_Inicial.ipynb) | [Página Inicial](00.00-Pagina_Inicial.ipynb) | [Aula 2: Analisando a oscilação de um pêndulo ->](02.00-Aula2.ipynb)\n",
    "\n",
    "---\n"
   ]
  },
  {
   "cell_type": "markdown",
   "metadata": {
    "slideshow": {
     "slide_type": "slide"
    }
   },
   "source": [
    "# Aula 1: Recordando python, jupyter, mínimos quadrados, regressão linear e ajuste de parâmetros\n",
    "\n",
    "**Data:** ---\n",
    "\n",
    "**Local:** Google Classroom\n",
    "\n",
    "**Professores:**\n",
    "- Adriano Côrtes\n",
    "    - *email:* <adriano.cortes@matematica.ufrj.br>\n",
    "- Alejandro Cabrera\n",
    "    - *gabinete:* C–125A\n",
    "    - *email:* <alejandro@matematica.ufrj.br>\n",
    "    - *página:* http://www.dma.im.ufrj.br/~acabrera/\n",
    "- Ricardo Rosa\n",
    "    - *gabinete:* C-113B\n",
    "    - *email:* <rrosa@im.ufrj.br>\n",
    "    - *página:* http://www.dma.im.ufrj.br/~rrosa\n",
    "\n"
   ]
  },
  {
   "cell_type": "markdown",
   "metadata": {
    "slideshow": {
     "slide_type": "slide"
    }
   },
   "source": [
    "## O material do curso no github\n",
    "\n",
    "Disponível no repositório [rmsrosa/modelagem_matematica](https://www.github.com/rmsrosa/modelagem_matematica)\n",
    "\n",
    "- ~\"Baixar\" o repositório inteiro, com todas os \"cadernos\" Jupyter;~\n",
    "- ~\"Baixar\" cada \"caderno\" individualmente;~\n",
    "- Interagir com os cadernos localmente via `jupyter lab` ou `jupyter notebook`;\n",
    "- ~Visualizar os cadernos no próprio github;~\n",
    "- Visualizar e interagir com os cadernos na nuvem:\n",
    "    - [Binder](https://mybinder.org); ou \n",
    "    - [Google Colab](https://colab.research.google.com/notebooks/welcome.ipynb).\n",
    "- Outras referências:\n",
    "    - G. Ledder, \"Mathematics for the Life Sciences\", Springer, 2013. Capítulo 2"
   ]
  },
  {
   "cell_type": "markdown",
   "metadata": {
    "slideshow": {
     "slide_type": "slide"
    }
   },
   "source": [
    "## Avaliação\n",
    "\n",
    "- Listas\n",
    "- Exercícios nos Notebooks\n",
    "- Projeto final"
   ]
  },
  {
   "cell_type": "markdown",
   "metadata": {
    "slideshow": {
     "slide_type": "slide"
    }
   },
   "source": [
    "## O ambiente Jupyter\n",
    "\n",
    "Há vários ambientes semelhantes:\n",
    "- [Jupyter lab](https://jupyterlab.readthedocs.io/en/stable/): Roda localmente e depende do ambiente python instalado na máquina e dos pacotes disponíveis no ambiente\n",
    "- [Jupyter notebook](https://jupyter.org): semelhante ao jupyter lab\n",
    "- [Binder](https://mybinder.org): Cria um ambiente customizado a cada vez que é acionado e apenas com os pacotes definidos no arquivo `requirements.txt` do repositório\n",
    "- [Google Colab](https://colab.research.google.com/notebooks/welcome.ipynb): Já tem o seu ambiente python próprio, com diversos pacotes pré-instalados, e carrega mais rápido do que o binder"
   ]
  },
  {
   "cell_type": "markdown",
   "metadata": {
    "slideshow": {
     "slide_type": "slide"
    }
   },
   "source": [
    "### Jupyter instalado localmente\n",
    "\n",
    "No terminal, em um diretório contendo as notas, execute o comando\n",
    "\n",
    "```bash\n",
    "jupyter lab\n",
    "```\n",
    "\n",
    "ou \n",
    "```bash\n",
    "jupyter notebook\n",
    "```\n",
    "\n",
    "Uma janela, ou aba, se abrirá no navegador, com o ambiente Jupyter.\n",
    "\n",
    "Se quiser usar um navegador diferente do padrão, basta usar o argumento `--browser`, e.g.:\n",
    "```bash\n",
    "jupyter lab --browser chrome\n",
    "```"
   ]
  },
  {
   "cell_type": "markdown",
   "metadata": {
    "slideshow": {
     "slide_type": "slide"
    }
   },
   "source": [
    "### Jupyter na nuvem via binder ou colab\n",
    "\n",
    "No `README.md` do repositório e em cada \"notebook\" há um link para abrir a página na nuvem. Por exemplo, os links abaixo abrem esta página em um desses dos ambientes de computação em nuvem:\n",
    "\n",
    "&nbsp;\n",
    "<a href=\"https://colab.research.google.com/github/rmsrosa/modelagem_matematica/blob/master/notebooks/01.00-Aula1.ipynb\"><img align=\"left\" src=\"https://colab.research.google.com/assets/colab-badge.svg\" alt=\"Open in Colab\" title=\"Open and Execute in Google Colaboratory\"></a>\n",
    "&nbsp;\n",
    "<a href=\"https://mybinder.org/v2/gh/rmsrosa/modelagem_matematica/master?filepath=notebooks/01.00-Aula1.ipynb\"><img align=\"left\" src=\"https://mybinder.org/badge.svg\" alt=\"Open in binder\" title=\"Open and Execute in Binder\"></a>\n",
    "&nbsp;"
   ]
  },
  {
   "cell_type": "markdown",
   "metadata": {
    "slideshow": {
     "slide_type": "fragment"
    }
   },
   "source": [
    "**Obs:** Se estiver visualizando um caderno jupyter pelo *github*, clicar com o **botão direito** do *mouse*\n",
    "\n",
    "---"
   ]
  },
  {
   "cell_type": "markdown",
   "metadata": {},
   "source": [
    "## Os resumões de comandos (*Cheat Sheet*)\n",
    "\n",
    "#### Nos exemplos que seguem e durante o curso é bom ter por perto os arquivos:\n",
    "- [Numpy Python Cheat Sheet](https://s3.amazonaws.com/assets.datacamp.com/blog_assets/Numpy_Python_Cheat_Sheet.pdf)\n",
    "- [Scipy Python Cheat Sheet](https://s3.amazonaws.com/assets.datacamp.com/blog_assets/Python_SciPy_Cheat_Sheet_Linear_Algebra.pdf)\n",
    "- [Matplotlib Cheat Sheet](https://s3.amazonaws.com/assets.datacamp.com/blog_assets/Python_Matplotlib_Cheat_Sheet.pdf)\n",
    "\n",
    "---"
   ]
  },
  {
   "cell_type": "markdown",
   "metadata": {},
   "source": [
    "## Algumas Ferramentas de Álgebra Linear"
   ]
  },
  {
   "cell_type": "markdown",
   "metadata": {},
   "source": [
    "### 1. Norma, Raiz da Média Quadrática e outras medidas  \n",
    "\n",
    "Dado um vetor $\\mathbf{x} \\in \\mathbb{R}^n$ denoteremos sua norma Euclidiana (também dita norma 2) por $||\\mathbf{x}||$. Porém a norma não é uma boa medida quando queremos comparar vetores de dimensões distintas. Por exemplo, denotando por $\\mathbf{1}$ o vetor de *uns* em $\\mathbb{R}^n$, isto é, $\\mathbf{1} = (1,1,\\ldots,1) \\in \\mathbb{R}^n$, temos que $||\\mathbf{1}|| = \\sqrt{n}$, ou seja, a sua norma é dependente da dimensão. Uma medida relacionada a norma é a **raiz da média quadrática** de $\\mathbf{x}$ (*root mean square - RMS*) definida por \n",
    "$$\n",
    "\\textbf{rms}(\\mathbf{x}) = \\sqrt{\\dfrac{x_1^2 + \\cdots + x_n^2}{n}} = \\dfrac{||\\mathbf{x}||}{\\sqrt{n}}.\n",
    "$$\n",
    "Observe agora que $\\textbf{rms}(\\mathbf{1}) = 1$, independente da dimensão, portanto sentimos que o valor da $\\textbf{rms}$ do vetor $\\mathbf{x}$ é uma melhor medida quando se trata da comparação de vetores de dimensões diferentes, com efeito, a raiz da média quadrática nos dá a informação de qual é \"tipicamente\" o valor absoluto das componentes do vetor, i.e., $|x_i|$.\n",
    "\n",
    "No `numpy` a norma é uma função do submódulo `linalg`, e a raiz da média quadrática precisa ser implementada como uma função. Façamos agora uns experimentos numéricos (código abaixo) para ganhar uma sensação da informação que a $\\textbf{rms}$ de um vetor nos fornece. Consideremos um vetor aleatório em $\\mathbf{x} \\in \\mathbb{R}^{100}$ amostrado da distribuição normal $\\mathcal{N}(10,50)$. Calculamos a $\\textbf{rms}$ desse vetor e plotamos um histograma dos valores absolutos das componentes do vetor. Os bins do histograma são definidos como $[0,\\textbf{rms}(\\mathbf{x}))$, $[\\textbf{rms}(\\mathbf{x}), 2\\textbf{rms}(\\mathbf{x}))$, $[2\\textbf{rms}(\\mathbf{x}), 3\\textbf{rms}(\\mathbf{x}))$, $[3\\textbf{rms}(\\mathbf{x}), 4\\textbf{rms}(\\mathbf{x}))$, $[4\\textbf{rms}(\\mathbf{x}), 5\\textbf{rms}(\\mathbf{x}))$. Note que a maioria dos valores se concentram no primeiro e segundo bins, e isso é explicado pela *Desigualdade de Chebyshev*.\n",
    "\n",
    "Suponha que o vetor $\\mathbf{x} \\in \\mathbb{R}^n$ tenha $k$ entradas satisfazendo $|x_i| \\geq a$ com $a > 0$, logo $x_i^2 \\geq a^2$, e segue que $||\\mathbf{x}||^2 = x_1^2 + \\cdots + x_n^2 \\geq ka^2$, uma vez que $k$ números na soma são maiores ou iguais do que $a^2$, e os $n-k$ restantes são não-negativos. Concluí-se assim que \n",
    "$$ \n",
    "k \\leq \\dfrac{||\\mathbf{x}||^2}{a^2},\n",
    "$$\n",
    "que é chamada a *Desigualdade de Chebyshev*. Finalmente a desigualdade é mais facilmente interpretada em termos do RMS do vetor, com efeito, sendo $k$ o mesmo que antes, podemos escrever\n",
    "$$ \n",
    "\\dfrac{k}{n} \\leq \\left( \\dfrac{\\textbf{rms}(\\mathbf{x})}{a} \\right)^2. \n",
    "$$\n",
    "O lado esquerdo da desigualdade acima é a fração de entradas do vetor que são maiores os iguais a $a$ em valor absoluto. Por exemplo, se fizermos $a = 2 \\cdot \\textbf{rms}(\\mathbf{x})$, então \n",
    "$$\n",
    "\\dfrac{k}{n} \\leq \\left( \\dfrac{\\textbf{rms}(\\mathbf{x})}{2 \\cdot \\textbf{rms}(\\mathbf{x})} \\right)^2 = \\left( \\dfrac{1}{2} \\right)^2 = \\dfrac{1}{4} = 25\\%.\n",
    "$$\n",
    "Isto é, não mais que $25\\%$ das entradas (em valor absoluto) podem exceder o dobro do valor do RMS. Igualmente, para $a = 4 \\cdot \\textbf{rms}(\\mathbf{x})$, teremos que não mais que $6,25\\%$ das entradas (em valor absoluto) podem exceder o valor do RMS por um fator 4."
   ]
  },
  {
   "cell_type": "code",
   "execution_count": 179,
   "metadata": {},
   "outputs": [
    {
     "name": "stdout",
     "output_type": "stream",
     "text": [
      "O rms do vetor x é 51.3735.\n",
      "\n",
      "[  0.          51.37348774 102.74697548 154.12046322 205.49395096\n",
      " 256.8674387 ] \n",
      "\n",
      "[67. 30.  3.  0.  0.] \n",
      "\n"
     ]
    },
    {
     "data": {
      "image/png": "[encoded data removed]",
      "text/plain": [
       "<Figure size 432x288 with 1 Axes>"
      ]
     },
     "metadata": {
      "needs_background": "light"
     },
     "output_type": "display_data"
    }
   ],
   "source": [
    "import numpy as np\n",
    "import matplotlib.pyplot as plt\n",
    "\n",
    "x = np.random.normal(10,50,100); #print(x,'\\n')\n",
    "\n",
    "norm = np.linalg.norm(x); #print(norm)\n",
    "\n",
    "def rms(x):\n",
    "    norm = np.linalg.norm(x)\n",
    "    scale = np.sqrt(1/len(x))\n",
    "    return scale*norm\n",
    "\n",
    "rms = rms(x); print('O rms do vetor x é {0:4.4f}.\\n'.format(rms))\n",
    "rms_bins = rms*np.arange(0,6); #print(rms_bins)\n",
    "\n",
    "count, bins, ignored = plt.hist(abs(x), rms_bins, density=False)\n",
    "\n",
    "print(bins,'\\n')\n",
    "print(count,'\\n')"
   ]
  },
  {
   "cell_type": "markdown",
   "metadata": {},
   "source": [
    "**Observação:** No livro do Boyd e Vandenberghe "
   ]
  },
  {
   "cell_type": "markdown",
   "metadata": {},
   "source": [
    "=========================================================================================                                                                "
   ]
  },
  {
   "cell_type": "markdown",
   "metadata": {
    "slideshow": {
     "slide_type": "slide"
    }
   },
   "source": [
    "### 2. Sistemas de equações algébricas lineares\n",
    "\n",
    "Podemos resolver sistemas de equações lineares com o pacote `numpy`:\n",
    "$$ \\begin{cases}\n",
    "  x + y - z = 1, \\\\\n",
    "  x - 2y + 3z = 3, \\\\\n",
    "  x + z = 2,\n",
    "\\end{cases}\n",
    "$$"
   ]
  },
  {
   "cell_type": "code",
   "execution_count": 15,
   "metadata": {
    "slideshow": {
     "slide_type": "fragment"
    }
   },
   "outputs": [
    {
     "name": "stdout",
     "output_type": "stream",
     "text": [
      "[[ 1.  1. -1.]\n",
      " [ 1. -2.  3.]\n",
      " [ 1.  0.  1.]] \n",
      "\n",
      "[[1]\n",
      " [3]\n",
      " [2]] \n",
      "\n",
      "A solução do sistema é \n",
      " [[ 1.5]\n",
      " [-0. ]\n",
      " [ 0.5]]\n"
     ]
    }
   ],
   "source": [
    "mat = np.array([ [1.0, 1.0, -1.0], [1.0, -2.0, 3.0], [1.0, 0.0, 1.0] ]);print(mat, '\\n')\n",
    "b = np.array([ [1], [3], [2] ]);print(b, '\\n')\n",
    "x = np.linalg.solve(mat,b)\n",
    "print('A solução do sistema é \\n',x)"
   ]
  },
  {
   "cell_type": "markdown",
   "metadata": {
    "slideshow": {
     "slide_type": "slide"
    }
   },
   "source": [
    "### E quando a matriz é singular? \n",
    "\n",
    "Se a matriz associada for singular (sem solução ou múltiplas soluções) ou se não for quadrada, obtemos um erro.\n",
    "\n",
    "Podemos resolver via escalonamento. o `numpy` fornece uma decomposição LU. O `sympy`, também, de resolução simbólica.\n",
    "\n",
    "No caso de um sistema sem solução, e.g. quando há muitas equações e poucas incógnitas, é útil usar mínimos quadrados e buscar a \"melhor\" solução, ou a solução \"mais próxima\"."
   ]
  },
  {
   "cell_type": "code",
   "execution_count": 181,
   "metadata": {
    "slideshow": {
     "slide_type": "fragment"
    }
   },
   "outputs": [
    {
     "ename": "LinAlgError",
     "evalue": "Singular matrix",
     "output_type": "error",
     "traceback": [
      "\u001b[0;31m---------------------------------------------------------------------------\u001b[0m",
      "\u001b[0;31mLinAlgError\u001b[0m                               Traceback (most recent call last)",
      "\u001b[0;32m<ipython-input-181-6877c54fd75f>\u001b[0m in \u001b[0;36m<module>\u001b[0;34m\u001b[0m\n\u001b[1;32m      1\u001b[0m \u001b[0mmat\u001b[0m \u001b[0;34m=\u001b[0m \u001b[0mnp\u001b[0m\u001b[0;34m.\u001b[0m\u001b[0marray\u001b[0m\u001b[0;34m(\u001b[0m\u001b[0;34m[\u001b[0m\u001b[0;34m[\u001b[0m\u001b[0;36m1.0\u001b[0m\u001b[0;34m,\u001b[0m \u001b[0;36m1.0\u001b[0m\u001b[0;34m,\u001b[0m \u001b[0;34m-\u001b[0m\u001b[0;36m1.0\u001b[0m\u001b[0;34m]\u001b[0m\u001b[0;34m,\u001b[0m \u001b[0;34m[\u001b[0m\u001b[0;36m1.0\u001b[0m\u001b[0;34m,\u001b[0m \u001b[0;34m-\u001b[0m\u001b[0;36m2.0\u001b[0m\u001b[0;34m,\u001b[0m \u001b[0;36m3.0\u001b[0m\u001b[0;34m]\u001b[0m\u001b[0;34m,\u001b[0m \u001b[0;34m[\u001b[0m\u001b[0;36m2.0\u001b[0m\u001b[0;34m,\u001b[0m \u001b[0;34m-\u001b[0m\u001b[0;36m4.0\u001b[0m\u001b[0;34m,\u001b[0m \u001b[0;36m6.0\u001b[0m\u001b[0;34m]\u001b[0m\u001b[0;34m]\u001b[0m\u001b[0;34m)\u001b[0m\u001b[0;34m\u001b[0m\u001b[0;34m\u001b[0m\u001b[0m\n\u001b[1;32m      2\u001b[0m \u001b[0mb\u001b[0m \u001b[0;34m=\u001b[0m \u001b[0mnp\u001b[0m\u001b[0;34m.\u001b[0m\u001b[0marray\u001b[0m\u001b[0;34m(\u001b[0m\u001b[0;34m[\u001b[0m\u001b[0;34m[\u001b[0m\u001b[0;36m1\u001b[0m\u001b[0;34m]\u001b[0m\u001b[0;34m,\u001b[0m\u001b[0;34m[\u001b[0m\u001b[0;36m3\u001b[0m\u001b[0;34m]\u001b[0m\u001b[0;34m,\u001b[0m \u001b[0;34m[\u001b[0m\u001b[0;36m6\u001b[0m\u001b[0;34m]\u001b[0m\u001b[0;34m]\u001b[0m\u001b[0;34m)\u001b[0m\u001b[0;34m\u001b[0m\u001b[0;34m\u001b[0m\u001b[0m\n\u001b[0;32m----> 3\u001b[0;31m \u001b[0mx\u001b[0m \u001b[0;34m=\u001b[0m \u001b[0mnp\u001b[0m\u001b[0;34m.\u001b[0m\u001b[0mlinalg\u001b[0m\u001b[0;34m.\u001b[0m\u001b[0msolve\u001b[0m\u001b[0;34m(\u001b[0m\u001b[0mmat\u001b[0m\u001b[0;34m,\u001b[0m\u001b[0mb\u001b[0m\u001b[0;34m)\u001b[0m\u001b[0;34m\u001b[0m\u001b[0;34m\u001b[0m\u001b[0m\n\u001b[0m\u001b[1;32m      4\u001b[0m \u001b[0mprint\u001b[0m\u001b[0;34m(\u001b[0m\u001b[0;34m'A solução do sistema é\\n'\u001b[0m\u001b[0;34m,\u001b[0m \u001b[0mx\u001b[0m\u001b[0;34m)\u001b[0m\u001b[0;34m\u001b[0m\u001b[0;34m\u001b[0m\u001b[0m\n",
      "\u001b[0;32m<__array_function__ internals>\u001b[0m in \u001b[0;36msolve\u001b[0;34m(*args, **kwargs)\u001b[0m\n",
      "\u001b[0;32m~/miniconda3/lib/python3.7/site-packages/numpy/linalg/linalg.py\u001b[0m in \u001b[0;36msolve\u001b[0;34m(a, b)\u001b[0m\n\u001b[1;32m    392\u001b[0m     \u001b[0msignature\u001b[0m \u001b[0;34m=\u001b[0m \u001b[0;34m'DD->D'\u001b[0m \u001b[0;32mif\u001b[0m \u001b[0misComplexType\u001b[0m\u001b[0;34m(\u001b[0m\u001b[0mt\u001b[0m\u001b[0;34m)\u001b[0m \u001b[0;32melse\u001b[0m \u001b[0;34m'dd->d'\u001b[0m\u001b[0;34m\u001b[0m\u001b[0;34m\u001b[0m\u001b[0m\n\u001b[1;32m    393\u001b[0m     \u001b[0mextobj\u001b[0m \u001b[0;34m=\u001b[0m \u001b[0mget_linalg_error_extobj\u001b[0m\u001b[0;34m(\u001b[0m\u001b[0m_raise_linalgerror_singular\u001b[0m\u001b[0;34m)\u001b[0m\u001b[0;34m\u001b[0m\u001b[0;34m\u001b[0m\u001b[0m\n\u001b[0;32m--> 394\u001b[0;31m     \u001b[0mr\u001b[0m \u001b[0;34m=\u001b[0m \u001b[0mgufunc\u001b[0m\u001b[0;34m(\u001b[0m\u001b[0ma\u001b[0m\u001b[0;34m,\u001b[0m \u001b[0mb\u001b[0m\u001b[0;34m,\u001b[0m \u001b[0msignature\u001b[0m\u001b[0;34m=\u001b[0m\u001b[0msignature\u001b[0m\u001b[0;34m,\u001b[0m \u001b[0mextobj\u001b[0m\u001b[0;34m=\u001b[0m\u001b[0mextobj\u001b[0m\u001b[0;34m)\u001b[0m\u001b[0;34m\u001b[0m\u001b[0;34m\u001b[0m\u001b[0m\n\u001b[0m\u001b[1;32m    395\u001b[0m \u001b[0;34m\u001b[0m\u001b[0m\n\u001b[1;32m    396\u001b[0m     \u001b[0;32mreturn\u001b[0m \u001b[0mwrap\u001b[0m\u001b[0;34m(\u001b[0m\u001b[0mr\u001b[0m\u001b[0;34m.\u001b[0m\u001b[0mastype\u001b[0m\u001b[0;34m(\u001b[0m\u001b[0mresult_t\u001b[0m\u001b[0;34m,\u001b[0m \u001b[0mcopy\u001b[0m\u001b[0;34m=\u001b[0m\u001b[0;32mFalse\u001b[0m\u001b[0;34m)\u001b[0m\u001b[0;34m)\u001b[0m\u001b[0;34m\u001b[0m\u001b[0;34m\u001b[0m\u001b[0m\n",
      "\u001b[0;32m~/miniconda3/lib/python3.7/site-packages/numpy/linalg/linalg.py\u001b[0m in \u001b[0;36m_raise_linalgerror_singular\u001b[0;34m(err, flag)\u001b[0m\n\u001b[1;32m     86\u001b[0m \u001b[0;34m\u001b[0m\u001b[0m\n\u001b[1;32m     87\u001b[0m \u001b[0;32mdef\u001b[0m \u001b[0m_raise_linalgerror_singular\u001b[0m\u001b[0;34m(\u001b[0m\u001b[0merr\u001b[0m\u001b[0;34m,\u001b[0m \u001b[0mflag\u001b[0m\u001b[0;34m)\u001b[0m\u001b[0;34m:\u001b[0m\u001b[0;34m\u001b[0m\u001b[0;34m\u001b[0m\u001b[0m\n\u001b[0;32m---> 88\u001b[0;31m     \u001b[0;32mraise\u001b[0m \u001b[0mLinAlgError\u001b[0m\u001b[0;34m(\u001b[0m\u001b[0;34m\"Singular matrix\"\u001b[0m\u001b[0;34m)\u001b[0m\u001b[0;34m\u001b[0m\u001b[0;34m\u001b[0m\u001b[0m\n\u001b[0m\u001b[1;32m     89\u001b[0m \u001b[0;34m\u001b[0m\u001b[0m\n\u001b[1;32m     90\u001b[0m \u001b[0;32mdef\u001b[0m \u001b[0m_raise_linalgerror_nonposdef\u001b[0m\u001b[0;34m(\u001b[0m\u001b[0merr\u001b[0m\u001b[0;34m,\u001b[0m \u001b[0mflag\u001b[0m\u001b[0;34m)\u001b[0m\u001b[0;34m:\u001b[0m\u001b[0;34m\u001b[0m\u001b[0;34m\u001b[0m\u001b[0m\n",
      "\u001b[0;31mLinAlgError\u001b[0m: Singular matrix"
     ]
    }
   ],
   "source": [
    "mat = np.array([[1.0, 1.0, -1.0], [1.0, -2.0, 3.0], [2.0, -4.0, 6.0]])\n",
    "b = np.array([[1],[3], [6]])\n",
    "x = np.linalg.solve(mat,b)\n",
    "print('A solução do sistema é\\n', x)"
   ]
  },
  {
   "cell_type": "markdown",
   "metadata": {
    "slideshow": {
     "slide_type": "skip"
    }
   },
   "source": [
    "Ou, para\n",
    "$$ \\begin{cases}\n",
    "  x + y - z = 1, \\\\\n",
    "  x - 2y + 3z = 3, \\\\\n",
    "\\end{cases}\n",
    "$$"
   ]
  },
  {
   "cell_type": "code",
   "execution_count": 182,
   "metadata": {
    "slideshow": {
     "slide_type": "skip"
    }
   },
   "outputs": [
    {
     "ename": "LinAlgError",
     "evalue": "Last 2 dimensions of the array must be square",
     "output_type": "error",
     "traceback": [
      "\u001b[0;31m---------------------------------------------------------------------------\u001b[0m",
      "\u001b[0;31mLinAlgError\u001b[0m                               Traceback (most recent call last)",
      "\u001b[0;32m<ipython-input-182-be251eb785f5>\u001b[0m in \u001b[0;36m<module>\u001b[0;34m\u001b[0m\n\u001b[1;32m      1\u001b[0m \u001b[0mmat\u001b[0m \u001b[0;34m=\u001b[0m \u001b[0mnp\u001b[0m\u001b[0;34m.\u001b[0m\u001b[0marray\u001b[0m\u001b[0;34m(\u001b[0m\u001b[0;34m[\u001b[0m\u001b[0;34m[\u001b[0m\u001b[0;36m1.0\u001b[0m\u001b[0;34m,\u001b[0m \u001b[0;36m1.0\u001b[0m\u001b[0;34m,\u001b[0m \u001b[0;34m-\u001b[0m\u001b[0;36m1.0\u001b[0m\u001b[0;34m]\u001b[0m\u001b[0;34m,\u001b[0m \u001b[0;34m[\u001b[0m\u001b[0;36m1.0\u001b[0m\u001b[0;34m,\u001b[0m \u001b[0;34m-\u001b[0m\u001b[0;36m2.0\u001b[0m\u001b[0;34m,\u001b[0m \u001b[0;36m3.0\u001b[0m\u001b[0;34m]\u001b[0m\u001b[0;34m]\u001b[0m\u001b[0;34m)\u001b[0m\u001b[0;34m\u001b[0m\u001b[0;34m\u001b[0m\u001b[0m\n\u001b[1;32m      2\u001b[0m \u001b[0mb\u001b[0m \u001b[0;34m=\u001b[0m \u001b[0mnp\u001b[0m\u001b[0;34m.\u001b[0m\u001b[0marray\u001b[0m\u001b[0;34m(\u001b[0m\u001b[0;34m[\u001b[0m\u001b[0;34m[\u001b[0m\u001b[0;36m1\u001b[0m\u001b[0;34m]\u001b[0m\u001b[0;34m,\u001b[0m\u001b[0;34m[\u001b[0m\u001b[0;36m3\u001b[0m\u001b[0;34m]\u001b[0m\u001b[0;34m]\u001b[0m\u001b[0;34m)\u001b[0m\u001b[0;34m\u001b[0m\u001b[0;34m\u001b[0m\u001b[0m\n\u001b[0;32m----> 3\u001b[0;31m \u001b[0mx\u001b[0m \u001b[0;34m=\u001b[0m \u001b[0mnp\u001b[0m\u001b[0;34m.\u001b[0m\u001b[0mlinalg\u001b[0m\u001b[0;34m.\u001b[0m\u001b[0msolve\u001b[0m\u001b[0;34m(\u001b[0m\u001b[0mmat\u001b[0m\u001b[0;34m,\u001b[0m\u001b[0mb\u001b[0m\u001b[0;34m)\u001b[0m\u001b[0;34m\u001b[0m\u001b[0;34m\u001b[0m\u001b[0m\n\u001b[0m\u001b[1;32m      4\u001b[0m \u001b[0mprint\u001b[0m\u001b[0;34m(\u001b[0m\u001b[0;34m'A solução do sistema é\\n'\u001b[0m\u001b[0;34m,\u001b[0m \u001b[0mx\u001b[0m\u001b[0;34m)\u001b[0m\u001b[0;34m\u001b[0m\u001b[0;34m\u001b[0m\u001b[0m\n",
      "\u001b[0;32m<__array_function__ internals>\u001b[0m in \u001b[0;36msolve\u001b[0;34m(*args, **kwargs)\u001b[0m\n",
      "\u001b[0;32m~/miniconda3/lib/python3.7/site-packages/numpy/linalg/linalg.py\u001b[0m in \u001b[0;36msolve\u001b[0;34m(a, b)\u001b[0m\n\u001b[1;32m    379\u001b[0m     \u001b[0ma\u001b[0m\u001b[0;34m,\u001b[0m \u001b[0m_\u001b[0m \u001b[0;34m=\u001b[0m \u001b[0m_makearray\u001b[0m\u001b[0;34m(\u001b[0m\u001b[0ma\u001b[0m\u001b[0;34m)\u001b[0m\u001b[0;34m\u001b[0m\u001b[0;34m\u001b[0m\u001b[0m\n\u001b[1;32m    380\u001b[0m     \u001b[0m_assert_stacked_2d\u001b[0m\u001b[0;34m(\u001b[0m\u001b[0ma\u001b[0m\u001b[0;34m)\u001b[0m\u001b[0;34m\u001b[0m\u001b[0;34m\u001b[0m\u001b[0m\n\u001b[0;32m--> 381\u001b[0;31m     \u001b[0m_assert_stacked_square\u001b[0m\u001b[0;34m(\u001b[0m\u001b[0ma\u001b[0m\u001b[0;34m)\u001b[0m\u001b[0;34m\u001b[0m\u001b[0;34m\u001b[0m\u001b[0m\n\u001b[0m\u001b[1;32m    382\u001b[0m     \u001b[0mb\u001b[0m\u001b[0;34m,\u001b[0m \u001b[0mwrap\u001b[0m \u001b[0;34m=\u001b[0m \u001b[0m_makearray\u001b[0m\u001b[0;34m(\u001b[0m\u001b[0mb\u001b[0m\u001b[0;34m)\u001b[0m\u001b[0;34m\u001b[0m\u001b[0;34m\u001b[0m\u001b[0m\n\u001b[1;32m    383\u001b[0m     \u001b[0mt\u001b[0m\u001b[0;34m,\u001b[0m \u001b[0mresult_t\u001b[0m \u001b[0;34m=\u001b[0m \u001b[0m_commonType\u001b[0m\u001b[0;34m(\u001b[0m\u001b[0ma\u001b[0m\u001b[0;34m,\u001b[0m \u001b[0mb\u001b[0m\u001b[0;34m)\u001b[0m\u001b[0;34m\u001b[0m\u001b[0;34m\u001b[0m\u001b[0m\n",
      "\u001b[0;32m~/miniconda3/lib/python3.7/site-packages/numpy/linalg/linalg.py\u001b[0m in \u001b[0;36m_assert_stacked_square\u001b[0;34m(*arrays)\u001b[0m\n\u001b[1;32m    202\u001b[0m         \u001b[0mm\u001b[0m\u001b[0;34m,\u001b[0m \u001b[0mn\u001b[0m \u001b[0;34m=\u001b[0m \u001b[0ma\u001b[0m\u001b[0;34m.\u001b[0m\u001b[0mshape\u001b[0m\u001b[0;34m[\u001b[0m\u001b[0;34m-\u001b[0m\u001b[0;36m2\u001b[0m\u001b[0;34m:\u001b[0m\u001b[0;34m]\u001b[0m\u001b[0;34m\u001b[0m\u001b[0;34m\u001b[0m\u001b[0m\n\u001b[1;32m    203\u001b[0m         \u001b[0;32mif\u001b[0m \u001b[0mm\u001b[0m \u001b[0;34m!=\u001b[0m \u001b[0mn\u001b[0m\u001b[0;34m:\u001b[0m\u001b[0;34m\u001b[0m\u001b[0;34m\u001b[0m\u001b[0m\n\u001b[0;32m--> 204\u001b[0;31m             \u001b[0;32mraise\u001b[0m \u001b[0mLinAlgError\u001b[0m\u001b[0;34m(\u001b[0m\u001b[0;34m'Last 2 dimensions of the array must be square'\u001b[0m\u001b[0;34m)\u001b[0m\u001b[0;34m\u001b[0m\u001b[0;34m\u001b[0m\u001b[0m\n\u001b[0m\u001b[1;32m    205\u001b[0m \u001b[0;34m\u001b[0m\u001b[0m\n\u001b[1;32m    206\u001b[0m \u001b[0;32mdef\u001b[0m \u001b[0m_assert_finite\u001b[0m\u001b[0;34m(\u001b[0m\u001b[0;34m*\u001b[0m\u001b[0marrays\u001b[0m\u001b[0;34m)\u001b[0m\u001b[0;34m:\u001b[0m\u001b[0;34m\u001b[0m\u001b[0;34m\u001b[0m\u001b[0m\n",
      "\u001b[0;31mLinAlgError\u001b[0m: Last 2 dimensions of the array must be square"
     ]
    }
   ],
   "source": [
    "mat = np.array([[1.0, 1.0, -1.0], [1.0, -2.0, 3.0]])\n",
    "b = np.array([[1],[3]])\n",
    "x = np.linalg.solve(mat,b)\n",
    "print('A solução do sistema é\\n', x)"
   ]
  },
  {
   "cell_type": "markdown",
   "metadata": {},
   "source": [
    "=========================================================================================                                                                "
   ]
  },
  {
   "cell_type": "markdown",
   "metadata": {
    "slideshow": {
     "slide_type": "slide"
    }
   },
   "source": [
    "### 3. Mínimos quadrados\n",
    "\n",
    "Considere o seguinte problema, que não tem solução exata\n",
    "$$ \\begin{cases}\n",
    "  x + y  = 1, \\\\\n",
    "  x - 2y = 3, \\\\\n",
    "  x - y = 2,\n",
    "\\end{cases}\n",
    "$$\n",
    "Procuramos, então, resolver o problema\n",
    "$$\n",
    "\\min_{\\mathbf{u}\\in \\mathbb{R}^2} \\|A\\mathbf{u} - \\mathbf{b}\\|_2,\n",
    "$$\n",
    "onde\n",
    "$$  A = \\left[ \\begin{matrix} 1 & 1 \\\\ 1 & -2 \\\\ 1 & -1 \\end{matrix}\\right], \\qquad \\mathbf{b} = \\left( \\begin{matrix} 1 \\\\ 3 \\\\ 2 \\end{matrix} \\right).\n",
    "$$"
   ]
  },
  {
   "cell_type": "code",
   "execution_count": 183,
   "metadata": {
    "slideshow": {
     "slide_type": "fragment"
    }
   },
   "outputs": [
    {
     "name": "stdout",
     "output_type": "stream",
     "text": [
      "[[ 1.57142857]\n",
      " [-0.64285714]]\n"
     ]
    }
   ],
   "source": [
    "mat = np.array([[1.0, 1.0], [1.0, -2.0], [1.0, -1.0]])\n",
    "b = np.array([[1],[3], [2]])\n",
    "x = np.linalg.lstsq(mat,b, rcond=None)[0]\n",
    "print(x)"
   ]
  },
  {
   "cell_type": "markdown",
   "metadata": {
    "slideshow": {
     "slide_type": "slide"
    }
   },
   "source": [
    "### Mínimos quadrados em regressão linear\n",
    "\n",
    "Uma utilização corriqueira do método de mínimos quadrados é em regressão linear, onde buscamos ajustar  um conjunto de dados a uma função. Vamos construir dados sintéticos perturbando aleatoriamente dados em uma determinada reta. A perturbação aleatória é feita com o método [numpy.random.rand()](https://docs.scipy.org/doc/numpy/reference/generated/numpy.random.rand.html)."
   ]
  },
  {
   "cell_type": "code",
   "execution_count": 184,
   "metadata": {
    "slideshow": {
     "slide_type": "fragment"
    }
   },
   "outputs": [
    {
     "name": "stdout",
     "output_type": "stream",
     "text": [
      "[0.07915362 1.0919013  2.05945777 3.07501945 4.03045514 5.05719465\n",
      " 6.06273077 7.04304603 8.09139318 9.06041718]\n",
      "[1.46892101 2.01280571 2.31490645 3.70842839 3.99882428 4.47443827\n",
      " 4.27961927 5.58718272 6.12725477 5.94639292]\n"
     ]
    }
   ],
   "source": [
    "#import numpy as np\n",
    "#import matplotlib.pyplot as plt\n",
    "\n",
    "num_points = 10\n",
    "m = 0.5\n",
    "c = 1.2\n",
    "x = np.array(range(num_points)) + 0.1*np.random.rand(num_points)\n",
    "y = c*np.ones(num_points) + m*x + np.random.rand(num_points)\n",
    "print(x)\n",
    "print(y)"
   ]
  },
  {
   "cell_type": "markdown",
   "metadata": {
    "slideshow": {
     "slide_type": "slide"
    }
   },
   "source": [
    "### Gráfico"
   ]
  },
  {
   "cell_type": "code",
   "execution_count": 185,
   "metadata": {
    "slideshow": {
     "slide_type": "fragment"
    }
   },
   "outputs": [
    {
     "data": {
      "image/png": "[encoded data removed]",
      "text/plain": [
       "<Figure size 864x432 with 1 Axes>"
      ]
     },
     "metadata": {
      "needs_background": "light"
     },
     "output_type": "display_data"
    }
   ],
   "source": [
    "plt.figure(figsize=(12,6))\n",
    "plt.plot(x, y, 'o')\n",
    "plt.show()"
   ]
  },
  {
   "cell_type": "markdown",
   "metadata": {
    "slideshow": {
     "slide_type": "slide"
    }
   },
   "source": [
    "### Resolvendo via mínimos quadrados\n",
    "\n",
    "Queremos achar $m$ e $c$ tais que os pontos $(x_j,\\tilde y_j)$ determinados pela reta $\\tilde y = mx + c$ sejam uma \"melhor\" aproximação possível para os dados $(x_j,y_j)$. Interpretamos esse \"melhor\" como sendo no sentido de \"mínimos quadrados\". Para isso, precisamos resolver \n",
    "$$\n",
    "\\displaystyle \\min_{\\mathbf{u}\\in \\mathbb{R}^2} \\|A\\mathbf{u} - \\mathbf{b}\\|_2,\n",
    "$$\n",
    "onde\n",
    "$$ A = \\left[ \\begin{matrix} x_1 & 1 \\\\ \\vdots  & 1 \\\\ x_n & 1 \\end{matrix}\\right], \\qquad \\mathbf{u} = \\left( \\begin{matrix} m \\\\ c \\end{matrix}\\right), \\qquad \\mathbf{b} = \\left( \\begin{matrix} y_1 \\\\ \\vdots \\\\ y_n \\end{matrix} \\right).\n",
    "$$\n",
    "Utilizamos o método [numpy.vstack()](https://docs.scipy.org/doc/numpy/reference/generated/numpy.vstack.html) para montar a matriz de Vandermonde e o método [numpy.linagl.lstsq()](https://docs.scipy.org/doc/numpy/reference/generated/numpy.linalg.lstsq.html) para resolver o problema de mínimos quadrados:"
   ]
  },
  {
   "cell_type": "code",
   "execution_count": 186,
   "metadata": {
    "slideshow": {
     "slide_type": "fragment"
    }
   },
   "outputs": [
    {
     "name": "stdout",
     "output_type": "stream",
     "text": [
      "0.5319815135108122 1.563340856258035\n"
     ]
    }
   ],
   "source": [
    "A = np.vstack([x,np.ones(num_points)]).T\n",
    "m1, c1 = np.linalg.lstsq(A, y, rcond=None)[0]\n",
    "print(m1,c1)"
   ]
  },
  {
   "cell_type": "markdown",
   "metadata": {
    "slideshow": {
     "slide_type": "slide"
    }
   },
   "source": [
    "### Visualização"
   ]
  },
  {
   "cell_type": "code",
   "execution_count": 187,
   "metadata": {
    "slideshow": {
     "slide_type": "fragment"
    }
   },
   "outputs": [
    {
     "data": {
      "image/png": "[encoded data removed]",
      "text/plain": [
       "<Figure size 432x288 with 1 Axes>"
      ]
     },
     "metadata": {
      "needs_background": "light"
     },
     "output_type": "display_data"
    }
   ],
   "source": [
    "import matplotlib.pyplot as plt\n",
    "plt.plot(x, y, 'o', label='Dados')\n",
    "plt.plot(x, m1*x + c1, 'r', label='Aproximação linear')\n",
    "plt.legend()\n",
    "plt.show()"
   ]
  },
  {
   "cell_type": "markdown",
   "metadata": {
    "slideshow": {
     "slide_type": "slide"
    }
   },
   "source": [
    "## Propriedades termodinâmicas da água pura\n",
    "\n",
    "Dados no arquivo `dados/retirados do livro \"An Introduction to Fluid Dynamics\" do G. Batchelor. "
   ]
  },
  {
   "cell_type": "code",
   "execution_count": 189,
   "metadata": {
    "slideshow": {
     "slide_type": "fragment"
    }
   },
   "outputs": [],
   "source": [
    "from os import path\n",
    "import csv\n",
    "import numpy as np\n",
    "import pandas as pd\n",
    "\n",
    "arquivo = path.join('..', 'dados', 'agua', 'water_properties_from_Batchelor.csv')\n",
    "\n",
    "agua1 = list(csv.reader(open(arquivo, \"r\"), delimiter=\",\"))\n",
    "agua2 = np.array(agua1[2:]).astype(\"float\")\n",
    "agua3 = np.loadtxt(open(arquivo, \"rb\"), delimiter=\",\", skiprows=2)\n",
    "agua4 = pd.read_csv(arquivo, header=[0,1])"
   ]
  },
  {
   "cell_type": "code",
   "execution_count": 190,
   "metadata": {
    "slideshow": {
     "slide_type": "fragment"
    }
   },
   "outputs": [
    {
     "data": {
      "text/html": [
       "<div>\n",
       "<style scoped>\n",
       "    .dataframe tbody tr th:only-of-type {\n",
       "        vertical-align: middle;\n",
       "    }\n",
       "\n",
       "    .dataframe tbody tr th {\n",
       "        vertical-align: top;\n",
       "    }\n",
       "\n",
       "    .dataframe thead tr th {\n",
       "        text-align: left;\n",
       "    }\n",
       "</style>\n",
       "<table border=\"1\" class=\"dataframe\">\n",
       "  <thead>\n",
       "    <tr>\n",
       "      <th></th>\n",
       "      <th>temp</th>\n",
       "      <th>density</th>\n",
       "      <th>viscosity</th>\n",
       "    </tr>\n",
       "    <tr>\n",
       "      <th></th>\n",
       "      <th>Temperature (C)</th>\n",
       "      <th>Density (g/cm^3)</th>\n",
       "      <th>Viscosity (cm^2/s)</th>\n",
       "    </tr>\n",
       "  </thead>\n",
       "  <tbody>\n",
       "    <tr>\n",
       "      <th>0</th>\n",
       "      <td>0</td>\n",
       "      <td>0.9999</td>\n",
       "      <td>0.01787</td>\n",
       "    </tr>\n",
       "    <tr>\n",
       "      <th>1</th>\n",
       "      <td>5</td>\n",
       "      <td>1.0000</td>\n",
       "      <td>1.51400</td>\n",
       "    </tr>\n",
       "    <tr>\n",
       "      <th>2</th>\n",
       "      <td>10</td>\n",
       "      <td>0.9997</td>\n",
       "      <td>1.30400</td>\n",
       "    </tr>\n",
       "    <tr>\n",
       "      <th>3</th>\n",
       "      <td>15</td>\n",
       "      <td>0.9991</td>\n",
       "      <td>1.13800</td>\n",
       "    </tr>\n",
       "    <tr>\n",
       "      <th>4</th>\n",
       "      <td>20</td>\n",
       "      <td>0.9982</td>\n",
       "      <td>1.00400</td>\n",
       "    </tr>\n",
       "  </tbody>\n",
       "</table>\n",
       "</div>"
      ],
      "text/plain": [
       "             temp           density           viscosity\n",
       "  Temperature (C)  Density (g/cm^3)  Viscosity (cm^2/s)\n",
       "0               0            0.9999             0.01787\n",
       "1               5            1.0000             1.51400\n",
       "2              10            0.9997             1.30400\n",
       "3              15            0.9991             1.13800\n",
       "4              20            0.9982             1.00400"
      ]
     },
     "execution_count": 190,
     "metadata": {},
     "output_type": "execute_result"
    }
   ],
   "source": [
    "agua4.head()"
   ]
  },
  {
   "cell_type": "markdown",
   "metadata": {
    "slideshow": {
     "slide_type": "slide"
    }
   },
   "source": [
    "### Gráfico"
   ]
  },
  {
   "cell_type": "code",
   "execution_count": 191,
   "metadata": {
    "slideshow": {
     "slide_type": "fragment"
    }
   },
   "outputs": [
    {
     "data": {
      "image/png": "[encoded data removed]",
      "text/plain": [
       "<Figure size 432x288 with 2 Axes>"
      ]
     },
     "metadata": {
      "needs_background": "light"
     },
     "output_type": "display_data"
    }
   ],
   "source": [
    "fig, ax1 = plt.subplots()\n",
    "\n",
    "color = 'tab:red'\n",
    "ax1.set_xlabel(agua1[1][0])\n",
    "ax1.set_ylabel( agua1[1][1], color=color) \n",
    "ax1.plot(agua3[:,0], agua3[:,1], 'o', color=color)\n",
    "ax1.tick_params(axis='y', labelcolor=color)\n",
    "\n",
    "ax2 = ax1.twinx()  \n",
    "\n",
    "color = 'tab:blue'\n",
    "ax2.set_ylabel(agua1[1][2], color=color)\n",
    "ax2.plot(agua3[:,0], agua3[:,2], 'o', color=color)\n",
    "ax2.tick_params(axis='y', labelcolor=color)\n",
    "\n",
    "plt.show()"
   ]
  },
  {
   "cell_type": "markdown",
   "metadata": {
    "slideshow": {
     "slide_type": "slide"
    }
   },
   "source": [
    "## Aproximação quadrática\n",
    "\n",
    "Buscamos uma melhor aproximação para a densidade em função da temperatura.Talvez uma aproximação de segunda ordem $y = ax^2 + bx + c$. Como ela é linear nos coeficientes $(a,b,c)$, ainda é um problema de **regressão linear** e também pode ser facilmente resolvido via **método de mínimos quadrados**.\n",
    "\n",
    "\n",
    "Precisamos minimizar o resíduo $\\| A\\mathbf{u} - \\mathbf{y}\\|$, onde \n",
    "$$ A = \\left[ \\begin{matrix} x_1^2 & x_1 & 1 \\\\ \\vdots & \\vdots  & 1 \\\\ x_n^2 & x_n & 1 \\end{matrix}\\right], \\qquad \\mathbf{u} = \\left( \\begin{matrix} a \\\\ b \\\\ c \\end{matrix}\\right), \\qquad \\mathbf{b} = \\left( \\begin{matrix} y_1 \\\\ \\vdots \\\\ y_n \\end{matrix} \\right).\n",
    "$$"
   ]
  },
  {
   "cell_type": "code",
   "execution_count": 192,
   "metadata": {
    "slideshow": {
     "slide_type": "fragment"
    }
   },
   "outputs": [
    {
     "name": "stdout",
     "output_type": "stream",
     "text": [
      "[[0.000e+00 0.000e+00 1.000e+00]\n",
      " [2.500e+01 5.000e+00 1.000e+00]\n",
      " [1.000e+02 1.000e+01 1.000e+00]\n",
      " [2.250e+02 1.500e+01 1.000e+00]\n",
      " [4.000e+02 2.000e+01 1.000e+00]\n",
      " [6.250e+02 2.500e+01 1.000e+00]\n",
      " [9.000e+02 3.000e+01 1.000e+00]\n",
      " [1.225e+03 3.500e+01 1.000e+00]\n",
      " [1.600e+03 4.000e+01 1.000e+00]\n",
      " [2.500e+03 5.000e+01 1.000e+00]\n",
      " [3.600e+03 6.000e+01 1.000e+00]\n",
      " [4.900e+03 7.000e+01 1.000e+00]\n",
      " [6.400e+03 8.000e+01 1.000e+00]\n",
      " [8.100e+03 9.000e+01 1.000e+00]\n",
      " [1.000e+04 1.000e+02 1.000e+00]]\n"
     ]
    }
   ],
   "source": [
    "x = agua3[:,0]\n",
    "A = np.vstack([x**2, x,np.ones(len(x))]).T\n",
    "print(A)"
   ]
  },
  {
   "cell_type": "markdown",
   "metadata": {
    "slideshow": {
     "slide_type": "slide"
    }
   },
   "source": [
    "### Solução"
   ]
  },
  {
   "cell_type": "code",
   "execution_count": 193,
   "metadata": {
    "slideshow": {
     "slide_type": "fragment"
    }
   },
   "outputs": [
    {
     "name": "stdout",
     "output_type": "stream",
     "text": [
      "-3.6295100056675703e-06 -6.496768558465586e-05 1.000599183209899\n"
     ]
    }
   ],
   "source": [
    "y = agua3[:,1]\n",
    "a, b, c = np.linalg.lstsq(A, y, rcond=None)[0]\n",
    "print(a,b,c)"
   ]
  },
  {
   "cell_type": "markdown",
   "metadata": {
    "slideshow": {
     "slide_type": "slide"
    }
   },
   "source": [
    "### Visualização"
   ]
  },
  {
   "cell_type": "code",
   "execution_count": 194,
   "metadata": {
    "slideshow": {
     "slide_type": "fragment"
    }
   },
   "outputs": [
    {
     "data": {
      "image/png": "[encoded data removed]",
      "text/plain": [
       "<Figure size 432x288 with 1 Axes>"
      ]
     },
     "metadata": {
      "needs_background": "light"
     },
     "output_type": "display_data"
    }
   ],
   "source": [
    "import matplotlib.pyplot as plt\n",
    "plt.plot(x, y, 'o', label='Dados')\n",
    "plt.plot(x, a*x**2 + b*x + c, 'r', label='Aproximação quadrática lsq')\n",
    "plt.legend()\n",
    "plt.show()"
   ]
  },
  {
   "cell_type": "code",
   "execution_count": 15,
   "metadata": {
    "slideshow": {
     "slide_type": "fragment"
    }
   },
   "outputs": [
    {
     "data": {
      "text/plain": [
       "15"
      ]
     },
     "execution_count": 15,
     "metadata": {},
     "output_type": "execute_result"
    }
   ],
   "source": [
    "len(x)"
   ]
  },
  {
   "cell_type": "markdown",
   "metadata": {
    "slideshow": {
     "slide_type": "fragment"
    }
   },
   "source": [
    "15 parâmetros aproximados por apenas 3!"
   ]
  },
  {
   "cell_type": "markdown",
   "metadata": {
    "slideshow": {
     "slide_type": "slide"
    }
   },
   "source": [
    "### Comparando com aproximação linear"
   ]
  },
  {
   "cell_type": "code",
   "execution_count": 195,
   "metadata": {
    "slideshow": {
     "slide_type": "fragment"
    }
   },
   "outputs": [
    {
     "name": "stdout",
     "output_type": "stream",
     "text": [
      "-0.0004196534653465342 1.005672112211221\n"
     ]
    }
   ],
   "source": [
    "A1 = np.vstack([x,np.ones(len(x))]).T\n",
    "m, d = np.linalg.lstsq(A1, y, rcond=None)[0]\n",
    "print(m,d)"
   ]
  },
  {
   "cell_type": "code",
   "execution_count": 196,
   "metadata": {
    "slideshow": {
     "slide_type": "fragment"
    }
   },
   "outputs": [
    {
     "data": {
      "image/png": "[encoded data removed]",
      "text/plain": [
       "<Figure size 432x288 with 1 Axes>"
      ]
     },
     "metadata": {
      "needs_background": "light"
     },
     "output_type": "display_data"
    }
   ],
   "source": [
    "import matplotlib.pyplot as plt\n",
    "plt.plot(x, y, 'o', label='Dados')\n",
    "plt.plot(x, a*x**2 + b*x + c, 'r', label='Aproximação quadrática lsq')\n",
    "plt.plot(x, b*x + c, 'g', label='Aproximação linear desprezando a')\n",
    "plt.plot(x, m*x + d, 'b', label='Aproximação linear lsq')\n",
    "plt.legend()\n",
    "plt.show()"
   ]
  },
  {
   "cell_type": "markdown",
   "metadata": {
    "slideshow": {
     "slide_type": "slide"
    }
   },
   "source": [
    "## Erros quadráticos - resíduos\n",
    "\n",
    "O **erro quadrático** é o valor de $\\|A\\mathbf{x} - \\mathbf{y}\\|_2^2$ para a melhor aproximação encontrada, que é a soma do quadrado dos resíduos. O **resíduo** é o erro \n",
    "$$ r_j = (A\\mathbf{x})_j - y_j\n",
    "$$\n",
    "de cada medição.\n",
    "\n",
    "Vamos comparar os erros quadráticos de cada aproximação:"
   ]
  },
  {
   "cell_type": "code",
   "execution_count": 197,
   "metadata": {
    "slideshow": {
     "slide_type": "fragment"
    }
   },
   "outputs": [
    {
     "name": "stdout",
     "output_type": "stream",
     "text": [
      "Erro quadrático da aproximação linear: 0.0001383156353135149\n",
      "Erro quadrático aproximação de segunda ordem: 1.9912095541602e-06\n"
     ]
    }
   ],
   "source": [
    "print('Erro quadrático da aproximação linear:', np.linalg.lstsq(A1, y, rcond=None)[1][0])\n",
    "print('Erro quadrático aproximação de segunda ordem:', np.linalg.lstsq(A, y, rcond=None)[1][0])"
   ]
  },
  {
   "cell_type": "markdown",
   "metadata": {
    "slideshow": {
     "slide_type": "slide"
    }
   },
   "source": [
    "## Exercícios:\n",
    "\n",
    "1. Calcule aproximações de **segunda** e **terceira** ordens para os dados sintéticos do primeiro exemplo de regressão linear e exiba os gráficos dessas aproximações, em conjunto com os dados.\n",
    "1. Calcule aproximações polinomiais de **terceira** e **quarta** ordens para a **densidade** e verifique o erro residual.\n",
    "1. Ache uma \"boa\" aproximação polinomial para os dados da **viscosidade** da água pura, para temperaturas entre 5 e 100C (i.e. descartando o dado em 0C)."
   ]
  },
  {
   "cell_type": "markdown",
   "metadata": {
    "slideshow": {
     "slide_type": "skip"
    }
   },
   "source": [
    "---\n",
    "\n",
    "### Apresentação em slides\n",
    "\n",
    "Para visualizar na forma de slides, abrir um \"terminal\" *bash* e usar a linha de comando\n",
    "```bash\n",
    "jupyter nbconvert 01.00-Aula3.ipynb --to slides --post serve\n",
    "```\n",
    "\n",
    "sso abrirá uma aba, no seu navegador padrão, com o endereço\n",
    "```\n",
    "http://127.0.0.1:8000/01.00-Aula1.slides.html#/\n",
    "```\n",
    "\n",
    "Se quiser adicionar a possibilidade de rolar a página, caso algum *slide* seja muito longo, incluir a opção\n",
    "```bash\n",
    "--SlidesExporter.reveal_scroll=True\n",
    "```\n",
    "\n",
    "Para usar um tema diferente do padrão, temos a configuração via `SlidesExporter.reveal_theme`. Os temas disponíveis são `beige`, `black`, `blood`, `league`, `moon`, `night`, `serif`, `simple`, `sky`, `solarized`, `white`. O padrão é `white`. Um tema interessante é\n",
    "```bash\n",
    "--SlidesExporter.reveal_theme=solarized\n",
    "```\n",
    "\n",
    "Para usar um efeito de transição diferente do padrão, temos a configuração via `SlidesExporter.reveal_transition`. As opções são `none`, `fade`, `slide`, `convex`, `concave` e `zoom`. O padrão é `slide`. Uma transição interessante é \n",
    "```bash\n",
    "--SlidesExporter.reveal_transition=convex\n",
    "```\n",
    "\n",
    "Mais informações sobre o `nbconvert` em [Configuration options (for nbconvert)](https://nbconvert.readthedocs.io/en/latest/config_options.html) e [Present Your Data Science Projects with Jupyter Notebook Slides!](https://medium.com/learning-machine-learning/present-your-data-science-projects-with-jupyter-slides-75f20735eb0f)\n",
    "\n",
    "Para salvar a apresentação em pdf, não funciona \"imprimir\" essa página, pois ela só imprimirá slides individuais da apresentação. Para salvar a apresentação completa em pdf, uma opção é alterar o final do endereço acima, incluindo `/print-pdf` antes do final `#/`, ficando o endereço da forma\n",
    "```\n",
    "http://127.0.0.1:8000/01.00-Aula1.slides.html?print-pdf#/\n",
    "```"
   ]
  },
  {
   "cell_type": "code",
   "execution_count": 19,
   "metadata": {},
   "outputs": [
    {
     "name": "stdout",
     "output_type": "stream",
     "text": [
      "[NbConvertApp] Converting notebook 01.00-Aula1.ipynb to slides\n",
      "[NbConvertApp] Writing 412937 bytes to 01.00-Aula1.slides.html\n"
     ]
    }
   ],
   "source": [
    "!jupyter nbconvert 01.00-Aula1.ipynb --to slides"
   ]
  },
  {
   "cell_type": "markdown",
   "metadata": {
    "slideshow": {
     "slide_type": "skip"
    }
   },
   "source": [
    "<!--NAVIGATOR-->\n",
    "\n",
    "---\n",
    "[<- Página Inicial](00.00-Pagina_Inicial.ipynb) | [Página Inicial](00.00-Pagina_Inicial.ipynb) | [Aula 2: Analisando a oscilação de um pêndulo ->](02.00-Aula2.ipynb)\n",
    "\n",
    "<a href=\"https://colab.research.google.com/github/rmsrosa/modelagem_matematica/blob/modmat2019p1/aulas/01.00-Aula1.ipynb\"><img align=\"left\" src=\"https://colab.research.google.com/assets/colab-badge.svg\" alt=\"Open in Colab\" title=\"Open and Execute in Google Colaboratory\"></a>\n",
    "\n",
    "<a href=\"https://mybinder.org/v2/gh/rmsrosa/modelagem_matematica/modmat2019p1?filepath=aulas/01.00-Aula1.ipynb\"><img align=\"left\" src=\"https://mybinder.org/badge.svg\" alt=\"Open in binder\" title=\"Open and Execute in Binder\"></a>\n",
    "\n",
    "<a href=\"https://nbviewer.jupyter.org/github/rmsrosa/modelagem_matematica/blob/modmat2019p1/aulas/01.00-Aula1.slides.html\"><img align=\"left\" src=\"https://rmsrosa.github.io/jupyterbookmaker/badges/slides_badge.svg\" alt=\"Open slides\" title=\"Open and View Slides\"></a>\n",
    "&nbsp;"
   ]
  }
 ],
 "metadata": {
  "kernelspec": {
   "display_name": "Python 3",
   "language": "python",
   "name": "python3"
  },
  "language_info": {
   "codemirror_mode": {
    "name": "ipython",
    "version": 3
   },
   "file_extension": ".py",
   "mimetype": "text/x-python",
   "name": "python",
   "nbconvert_exporter": "python",
   "pygments_lexer": "ipython3",
   "version": "3.7.8"
  }
 },
 "nbformat": 4,
 "nbformat_minor": 4
}
