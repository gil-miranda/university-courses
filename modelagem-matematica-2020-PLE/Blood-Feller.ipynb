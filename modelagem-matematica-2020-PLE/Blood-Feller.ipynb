{
 "cells": [
  {
   "cell_type": "code",
   "execution_count": 1,
   "metadata": {},
   "outputs": [],
   "source": [
    "import numpy as np\n",
    "import matplotlib.pyplot as plt"
   ]
  },
  {
   "cell_type": "code",
   "execution_count": 2,
   "metadata": {},
   "outputs": [],
   "source": [
    "from math import factorial\n",
    "from scipy.special import binom"
   ]
  },
  {
   "cell_type": "markdown",
   "metadata": {},
   "source": [
    "# Blood Feller\n",
    "\n",
    "Temos que $N$ pessoas fazem um teste sanguíneo. Que pode ser feito de dois jeitos diferentes:\n",
    "\n",
    "- Cada pessoa pode ser testada separadamente\n",
    "- O teste pode ser feito em grupos de $k$ pessoas\n",
    "\n",
    "No primeiro caso são feitos $N$ testes. No segundo, se o teste é negativo, apenas um já é suficiente para as $k$ pessoas, caso contrário cada uma das $k$ pessoas precisa fazer o teste separado totalizando $k+1$ testes para as $k$ pessoas. Sendo que a probabilidade de o teste dar positivo é $p$ para todas as pessoas e elas são stocasticamente independentes.\n",
    "\n",
    "## A\n",
    "\n",
    "Sabendo que a probabilidade de 1 pessoa  testar positivo é de $p$ e que elas são esstocasticamente independentes, dado um teste de $k$ pessoas temos:\n",
    "$$\n",
    "P(T=+|k=1)=p\\\\\n",
    "P(T=+|k=2)=1-(1-p)^2\\\\\n",
    "\\vdots \\\\\n",
    "P(T=+|k=m)=1-(1-p)^m\n",
    "$$\n",
    "\n",
    "Pois basta que apenas 1 pessoa seja positiva para que o teste seja positivo sendo assim o único caso onde isto não ocorre é quando todas as pessoas são negativas.\n",
    "\n",
    "## B\n",
    "\n",
    "Temos que o valor esperado de testes no segundo caso é dado por:\n",
    "\n",
    "$$\n",
    "\\xi = \\left\\lfloor{\\frac{N}{k}}\\right\\rfloor\\\\\n",
    "E(X) =\\sum_{i=0}^\\xi \\left(\\begin{array}{c} \\xi\\\\ i\\end{array}\\right) \\left[(i+(\\xi-i)(k+1))(1-p)^{ik}(1-(1-p)^k)^{\\xi-i}\\right]+N-\\xi k\n",
    "$$\n"
   ]
  },
  {
   "cell_type": "code",
   "execution_count": 3,
   "metadata": {},
   "outputs": [],
   "source": [
    "N = 10\n",
    "\n",
    "k=4\n",
    "\n",
    "p = 0.1\n",
    "\n",
    "vp = [1-p,p]\n",
    "\n",
    "m = 10000\n",
    "\n",
    "num_t=[]\n",
    "for j in range(m):\n",
    "    n=0\n",
    "    for j in range(N//k):\n",
    "        v = np.random.choice([0,1],k,p=vp)\n",
    "        if 1 not in v:\n",
    "            n+=1\n",
    "        else:\n",
    "            n+=k+1\n",
    "    n+=N%k\n",
    "    num_t.append(n)"
   ]
  },
  {
   "cell_type": "code",
   "execution_count": 4,
   "metadata": {},
   "outputs": [
    {
     "data": {
      "text/plain": [
       "6.7672"
      ]
     },
     "execution_count": 4,
     "metadata": {},
     "output_type": "execute_result"
    }
   ],
   "source": [
    "np.mean(num_t)"
   ]
  },
  {
   "cell_type": "code",
   "execution_count": 5,
   "metadata": {},
   "outputs": [
    {
     "data": {
      "text/plain": [
       "(array([4260.,    0.,    0.,    0.,    0., 4562.,    0.,    0.,    0.,\n",
       "        1178.]),\n",
       " array([ 4. ,  4.8,  5.6,  6.4,  7.2,  8. ,  8.8,  9.6, 10.4, 11.2, 12. ]),\n",
       " <a list of 10 Patch objects>)"
      ]
     },
     "execution_count": 5,
     "metadata": {},
     "output_type": "execute_result"
    },
    {
     "data": {
      "image/png": "[encoded data removed]",
      "text/plain": [
       "<Figure size 432x288 with 1 Axes>"
      ]
     },
     "metadata": {
      "needs_background": "light"
     },
     "output_type": "display_data"
    }
   ],
   "source": [
    "plt.hist(num_t)"
   ]
  },
  {
   "cell_type": "code",
   "execution_count": 18,
   "metadata": {},
   "outputs": [],
   "source": [
    "def exp(N,k,p):\n",
    "    xi = N//k\n",
    "    pin = (1-p)**k\n",
    "    soma = 0\n",
    "    for j in range(xi+1):\n",
    "        b = binom(xi,j)\n",
    "        n = j+(int(k)+1)*(xi-j)\n",
    "        soma+=b*(n*pin**j*(1-pin)**(xi-j))\n",
    "    return soma+N%k"
   ]
  },
  {
   "cell_type": "code",
   "execution_count": 8,
   "metadata": {
    "scrolled": true
   },
   "outputs": [
    {
     "data": {
      "text/plain": [
       "6.438999999999999"
      ]
     },
     "execution_count": 8,
     "metadata": {},
     "output_type": "execute_result"
    }
   ],
   "source": [
    "exp(N,int(1/np.sqrt(p)),p)"
   ]
  },
  {
   "cell_type": "code",
   "execution_count": 22,
   "metadata": {},
   "outputs": [],
   "source": [
    "ks = np.linspace(1,300, 300)\n",
    "exps = [exp(N, int(ki), p) for ki in ks]"
   ]
  },
  {
   "cell_type": "code",
   "execution_count": 24,
   "metadata": {},
   "outputs": [
    {
     "data": {
      "text/plain": [
       "[<matplotlib.lines.Line2D at 0x7f7af5312520>]"
      ]
     },
     "execution_count": 24,
     "metadata": {},
     "output_type": "execute_result"
    },
    {
     "data": {
      "image/png": "[encoded data removed]",
      "text/plain": [
       "<Figure size 432x288 with 1 Axes>"
      ]
     },
     "metadata": {
      "needs_background": "light"
     },
     "output_type": "display_data"
    }
   ],
   "source": [
    "plt.plot(ks, exps)"
   ]
  },
  {
   "cell_type": "code",
   "execution_count": 9,
   "metadata": {},
   "outputs": [
    {
     "data": {
      "text/plain": [
       "6.324555320336759"
      ]
     },
     "execution_count": 9,
     "metadata": {},
     "output_type": "execute_result"
    }
   ],
   "source": [
    "2*N*np.sqrt(p)"
   ]
  },
  {
   "cell_type": "code",
   "execution_count": 125,
   "metadata": {},
   "outputs": [],
   "source": [
    "def exp2(N,k,p):\n",
    "    D=N/k\n",
    "    return D*((k+1)*(1-(1-p)**k)+(1-p)**k)"
   ]
  },
  {
   "cell_type": "code",
   "execution_count": 126,
   "metadata": {},
   "outputs": [
    {
     "data": {
      "text/plain": [
       "5.939"
      ]
     },
     "execution_count": 126,
     "metadata": {},
     "output_type": "execute_result"
    }
   ],
   "source": [
    "exp2(N,k,p)"
   ]
  },
  {
   "cell_type": "code",
   "execution_count": null,
   "metadata": {},
   "outputs": [],
   "source": []
  }
 ],
 "metadata": {
  "kernelspec": {
   "display_name": "Python 3",
   "language": "python",
   "name": "python3"
  },
  "language_info": {
   "codemirror_mode": {
    "name": "ipython",
    "version": 3
   },
   "file_extension": ".py",
   "mimetype": "text/x-python",
   "name": "python",
   "nbconvert_exporter": "python",
   "pygments_lexer": "ipython3",
   "version": "3.8.5"
  }
 },
 "nbformat": 4,
 "nbformat_minor": 4
}
