{
 "cells": [
  {
   "cell_type": "markdown",
   "metadata": {},
   "source": [
    "# Solução com Taylor\n",
    "> Gil Miranda<br>    "
   ]
  },
  {
   "cell_type": "markdown",
   "metadata": {},
   "source": [
    "### As equações diferenciais a serem estudadas\n",
    "\n",
    "$$\n",
    "m \\frac{\\mathrm{d}^2x}{\\mathrm{d}t^2} = -kx - c \\frac{\\mathrm{d}x}{\\mathrm{d}t}, m\\neq 0 \\label{eq1}\\tag{1}\\\\\n",
    "\\begin{cases}\n",
    "\\frac{\\mathrm{d}^2x}{\\mathrm{d}t^2} = -\\frac{k}{m}x - \\frac{c}{m} \\frac{\\mathrm{d}x}{\\mathrm{d}t}\\\\\n",
    "x(0) = P_0\\\\\n",
    "\\frac{\\mathrm{d}x}{\\mathrm{d}t} = V_0\n",
    "\\end{cases}\n",
    "$$\n",
    "e\n",
    "$$\n",
    "\\begin{cases}\n",
    "\\frac{\\mathrm{d}^2T}{\\mathrm{d}x^2} = f(x) \\label{eq2}\\tag{2}\\\\\n",
    "T(0) = \\Lambda\\\\\n",
    "T(L) = \\Theta\n",
    "\\end{cases}\n",
    "$$"
   ]
  },
  {
   "cell_type": "markdown",
   "metadata": {},
   "source": [
    "---\n",
    "### Expansão em Taylor das derivadas\n",
    "\n",
    "Expansão em Série de Taylor de $f(x)$ centrada em $x_0$ é dada por\n",
    "$$\n",
    "f(x) = \\sum_{n=0}^{\\infty} \\frac{f^{(n)}(x_0)}{n!}(x-x_0)^n\n",
    "$$\n",
    "##### Expansão da derivada passo à frente\n",
    "$$\n",
    "f(x_{k+1}) = f(x_k) + f'(x_k)(x_{k+1} - x_k) + \\frac{f''(x_k)}{2!}(x_{k+1} - x_k)^2 + \\dots\\\\\n",
    "f(x_{k+1}) = f(x_k) + f'(x_k)h + \\frac{f''(x_k)}{2!}h^2 + O(h^2)\\\\\n",
    "f'(x_k) = \\frac{f(x_{k+1}) - f(x_k) - \\frac{f''(x_k)}{2!}h}{h} + O(h^2) \\label{eqA}\\tag{A}\n",
    "$$\n",
    "\n",
    "##### Expansão da derivada passa atrás\n",
    "$$\n",
    "f(x_{k-1}) = f(x_k) + f'(x_k)(x_{k-1} - x_k) + \\frac{f''(x_k)}{2!}(x_{k-1} - x_k)^2 + \\dots\\\\\n",
    "f(x_{k-1}) = f(x_k) - f'(x_k)h + \\frac{f''(x_k)}{2!}h^2 + O(h^2)\\\\\n",
    "f'(x_k) = \\frac{f(x_k) -  f(x_{k-1}) + \\frac{f''(x_k)}{2!}h}{h} + O(h^2) \\label{eqB}\\tag{B}\n",
    "$$\n",
    "\n",
    "##### A+B, derivada segunda\n",
    "$$\n",
    "f(x_{k+1}) + f(x_{k-1}) = f(x_k) + f'(x_k)h + \\frac{f''(x_k)}{2!}h^2 + f(x_k) - f'(x_k)h + \\frac{f''(x_k)}{2!}h^2 + O(h^2)\\\\\n",
    "f''(x_k) = \\frac{f(x_{k+1}) + f(x_{k-1}) - 2 f(x_k)}{h^2} + O(h^2) \\label{eqC}\\tag{C}\n",
    "$$\n",
    "\n",
    "##### A-B, derivada primeira\n",
    "$$\n",
    "f(x_{k+1}) - f(x_{k-1}) = f(x_k) + f'(x_k)h + \\frac{f''(x_k)}{2!}h^2 - f(x_k) + f'(x_k)h - \\frac{f''(x_k)}{2!}h^2 + O(h^2)\\\\\n",
    "f'(x_k) = \\frac{f(x_{k+1}) - f(x_{k-1})}{2 h} + O(h^2) \\label{eqD}\\tag{D}\n",
    "$$"
   ]
  },
  {
   "cell_type": "markdown",
   "metadata": {},
   "source": [
    "---\n",
    "\n",
    "#### Resolvendo a equação 1 centrada em t = 0\n",
    "Pensando que podemos tomar $f(x_{k+1}) = f(x_k) + hf'(x_{k})$, chamaremos a este de passo.<br><br>\n",
    "$$\n",
    "\\frac{\\mathrm{d}^2x}{\\mathrm{d}t^2}(0) = -\\frac{k}{m}x(0) - \\frac{c}{m} \\frac{\\mathrm{d}x}{\\mathrm{d}t}(0)\\\\\n",
    "\\frac{\\mathrm{d}^2x}{\\mathrm{d}t^2}(0) = -\\frac{k}{m}P_0 - \\frac{c}{m} V_0\\\\\n",
    "$$\n",
    "Substituindo esse valor na equação <b>C</b>\n",
    "$$\n",
    "f''(0) = \\frac{f(1) + f(-1) - 2 f(0)}{h^2} + O(h^2)\\\\\n",
    "-\\frac{k}{m}P_0 - \\frac{c}{m} V_0 \\approx \\frac{f(1) + f(-1) - 2 P_0}{h^2}\\\\\n",
    "f(1) \\approx -(\\frac{k}{m}P_0 - \\frac{c}{m} V_0 ) h^2 - f(-1) + 2 P_0\\\\\n",
    "f(1) \\approx -(\\frac{k}{m}P_0 - \\frac{c}{m} V_0 ) h^2 - P_0 - hV_0 + 2 P_0\\\\\n",
    "f(1) \\approx -(\\frac{k}{m}P_0 - \\frac{c}{m} V_0 ) h^2 - hV_0 + P_0\\\\\n",
    "f(1) \\approx -\\frac{k}{m}P_0h^2 + \\frac{c}{m} V_0h^2 - hV_0 + P_0\\\\\n",
    "f(1) \\approx P_0(-\\frac{k}{m}h^2 + 1) + V_0h(\\frac{c}{m}h - 1)\n",
    "$$\n",
    "    \n",
    "Assim temos um termo para, dado um $t$, conseguirmos aproximar para $t+1$"
   ]
  },
  {
   "cell_type": "code",
   "execution_count": null,
   "metadata": {},
   "outputs": [],
   "source": []
  }
 ],
 "metadata": {
  "kernelspec": {
   "display_name": "Python 3",
   "language": "python",
   "name": "python3"
  },
  "language_info": {
   "codemirror_mode": {
    "name": "ipython",
    "version": 3
   },
   "file_extension": ".py",
   "mimetype": "text/x-python",
   "name": "python",
   "nbconvert_exporter": "python",
   "pygments_lexer": "ipython3",
   "version": "3.7.3"
  }
 },
 "nbformat": 4,
 "nbformat_minor": 2
}
