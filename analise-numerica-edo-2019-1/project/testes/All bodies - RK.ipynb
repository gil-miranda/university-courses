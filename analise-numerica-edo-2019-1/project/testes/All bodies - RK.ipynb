{
 "cells": [
  {
   "cell_type": "markdown",
   "metadata": {},
   "source": [
    "### Importando"
   ]
  },
  {
   "cell_type": "code",
   "execution_count": 1,
   "metadata": {},
   "outputs": [],
   "source": [
    "import numpy as np\n",
    "import math\n",
    "import matplotlib.pyplot as plt\n",
    "import matplotlib.ticker as ticker"
   ]
  },
  {
   "cell_type": "markdown",
   "metadata": {},
   "source": [
    "### Defining constants"
   ]
  },
  {
   "cell_type": "code",
   "execution_count": 2,
   "metadata": {},
   "outputs": [],
   "source": [
    "G = 6.67428e-11\n",
    "\n",
    "AU = (149.6e9)\n",
    "SCALE = 300/AU"
   ]
  },
  {
   "cell_type": "markdown",
   "metadata": {},
   "source": [
    "### The body class"
   ]
  },
  {
   "cell_type": "code",
   "execution_count": 25,
   "metadata": {},
   "outputs": [],
   "source": [
    "class Body:\n",
    "    ## All vectors are decomposed in x-axis and y-axis\n",
    "    ## p = (x,y) -> Actual Position Vector\n",
    "    ## v = (x,y) -> Actual Velocity Vector\n",
    "    ## pos_x -> List of all x-axis positions over time\n",
    "    ## pos_y -> List of all y-axis positions over time\n",
    "    ## color -> Orbit trace and planet color\n",
    "    \n",
    "    def __init__(self, name_of = 'UNNAMED', color_of = 'gray'):\n",
    "        self.name = name_of\n",
    "        self.color = color_of\n",
    "        \n",
    "    \n",
    "    mass = 0\n",
    "    v_x = v_y = v_x0 = v_y0 = 0\n",
    "    p_x = p_y = p_x0 = p_y0 = 0\n",
    "    pos_x = []\n",
    "    pos_y = []\n",
    "    size = 70\n",
    "    \n",
    "    ## vec = [self.p_x, self.p_y, self.v_x, self.v_y]\n",
    "    def model(self, vec):\n",
    "        acc_x = acc_y = 0\n",
    "        for other in bodies:\n",
    "            if self is other:\n",
    "                continue\n",
    "            d_x = (other.p_x - vec[0])\n",
    "            d_y = (other.p_y - vec[1])\n",
    "            d = math.sqrt(d_x**2 + d_y**2) ## Calculate the distance between the bodies\n",
    "            if d == 0:\n",
    "                raise ValueError('The bodies %r and %r collided' %(self.name, other.name))\n",
    "            \n",
    "            ## Compute acceleration OTHER causes on THIS\n",
    "            acc = G * other.mass / d**2\n",
    "        \n",
    "            ## Decomposing the acceleration on x-axis and y-axis\n",
    "            theta = math.atan2(d_y, d_x)\n",
    "            a_x = acc * math.cos(theta)\n",
    "            a_y = acc * math.sin(theta)\n",
    "            \n",
    "            acc_x += a_x\n",
    "            acc_y += a_y\n",
    "        return (vec[2], vec[3], acc_x, acc_y)\n",
    "    \n",
    "    def nextDerivative(self, iS, der, dt):\n",
    "        st = [0,0,0,0]\n",
    "        st[0] = iS[0] + der[0]*dt\n",
    "        st[1] = iS[1] + der[1]*dt\n",
    "        st[2] = iS[2] + der[2]*dt\n",
    "        st[3] = iS[3] + der[3]*dt\n",
    "        ax, ay = self.acceleration([st[0],st[1],st[2],st[3]])\n",
    "        return (st[2], st[3], ax, ay)"
   ]
  },
  {
   "cell_type": "markdown",
   "metadata": {},
   "source": [
    "### Simulation"
   ]
  },
  {
   "cell_type": "markdown",
   "metadata": {},
   "source": [
    "### Euler-Cromer"
   ]
  },
  {
   "cell_type": "code",
   "execution_count": 37,
   "metadata": {},
   "outputs": [],
   "source": [
    "def simulate(bodies, step = 1, period = 365, method = 'euler'):\n",
    "    step = 24*step*3600 # Total of seconds for each step: 24*3600 = one day\n",
    "    count = 0\n",
    "    pos = {}\n",
    "    \n",
    "    ## Routine that resets body position state in each simulation\n",
    "    for body in bodies:\n",
    "        pos[body.name] = []\n",
    "        body.p_x = body.p_x0\n",
    "        body.p_y = body.p_y0\n",
    "        body.v_x = body.v_x0\n",
    "        body.v_y = body.v_y0\n",
    "        \n",
    "    while count < period:\n",
    "        derivatives = {}\n",
    "        for body in bodies:\n",
    "            d_x, d_y, d_vx, d_vy = body.model([body.p_x, body.p_y, body.v_x, body.v_y])\n",
    "            derivatives[body] = (d_x, d_y, d_vx,d_vy)\n",
    "\n",
    "        for body in bodies:\n",
    "            pos[body.name].append((body.p_x,body.p_y))\n",
    "            \n",
    "            v_x, v_y, a_x, a_y = derivatives[body]               \n",
    "            if method == 'euler-cromer':\n",
    "                \n",
    "                body.v_x += a_x * step\n",
    "                body.v_y += a_y * step\n",
    "\n",
    "                body.p_x += v_x * step\n",
    "                body.p_y += v_y * step\n",
    "                \n",
    "            elif method == 'rk4':\n",
    "\n",
    "                body.p_x += (k1_px + 2 * (k2_px + k3_px) + k4_px)/6\n",
    "                body.p_y += (k1_py + 2 * (k2_py + k3_py) + k4_py)/6 \n",
    "                \n",
    "                body.v_x += (k1_vx + 2 * (k2_vx + k3_vx) + k4_vx)/6 \n",
    "                body.v_y += (k1_vy + 2 * (k2_vy + k3_vy) + k4_vy)/6 \n",
    "                \n",
    "            else:\n",
    "                body.p_x += v_x * step\n",
    "                body.p_y += v_y * step\n",
    "                       \n",
    "                body.v_x += a_x * step\n",
    "                body.v_y += a_y * step\n",
    "\n",
    "        count += 1\n",
    "    return pos"
   ]
  },
  {
   "cell_type": "markdown",
   "metadata": {},
   "source": [
    "### Plotter"
   ]
  },
  {
   "cell_type": "code",
   "execution_count": 27,
   "metadata": {},
   "outputs": [],
   "source": [
    "def orbit_plotter(pos, bodies, title = 'Orbits', scale = False):\n",
    "    for b in bodies:\n",
    "        b.pos_x = [i[0] for i in pos[b.name]]\n",
    "        b.pos_y = [i[1] for i in pos[b.name]]\n",
    "    \n",
    "    plt.figure(figsize=(10,10))\n",
    "    \n",
    "    for b in bodies:\n",
    "        plt.plot(b.pos_x, b.pos_y, label = b.name, color = b.color, linestyle=':' )\n",
    "        plt.scatter(b.pos_x[-1],b.pos_y[-1], color = b.color)\n",
    "    \n",
    "    plt.legend()\n",
    "    plt.grid(alpha=0.2)\n",
    "\n",
    "    \n",
    "    ax = plt.gca()\n",
    "    ax.set_facecolor('black')\n",
    "    \n",
    "    if scale == False:\n",
    "        ### Changing scale of plot\n",
    "        ticks = ticker.FuncFormatter(lambda x, pos: '{0:.2f}'.format(x/AU))\n",
    "        ax.xaxis.set_major_formatter(ticks)\n",
    "        ax.yaxis.set_major_formatter(ticks)\n",
    "        plt.xlabel('Latitudinal distance in AU')\n",
    "        plt.ylabel('Longitudinal distance in AU')\n",
    "    else:\n",
    "        plt.xlabel('Latitudinal distance in m')\n",
    "        plt.ylabel('Longitudinal distance in m')\n",
    "        \n",
    "    plt.title(title)\n",
    "    plt.show()\n",
    "    return ax"
   ]
  },
  {
   "cell_type": "code",
   "execution_count": 42,
   "metadata": {
    "scrolled": false
   },
   "outputs": [],
   "source": [
    "sun = Body('Sun', 'yellow')\n",
    "sun.mass = 1.98892e30\n",
    "sun.size = 20\n",
    "\n",
    "earth = Body('Earth', 'blue')\n",
    "earth.mass = 5.9742e24\n",
    "earth.p_x0 = -1*AU\n",
    "earth.v_y0 = 29.783e3\n",
    "earth.size = 1\n",
    "\n",
    "venus = Body('Venus', 'pink')\n",
    "venus.mass = 4.8685e24\n",
    "venus.p_x0 = 0.723 * AU\n",
    "venus.v_y0 = -35.02e3\n",
    "venus.size = 0.95\n",
    "    \n",
    "mercury = Body('Mercury', 'purple')\n",
    "mercury.mass = 0.3e24\n",
    "mercury.p_x0 = 0.387 * AU\n",
    "mercury.v_y0 = 47.7e3\n",
    "mercury.size = 0.38\n",
    "    \n",
    "mars = Body('Mars', 'red')\n",
    "mars.mass = 0.642e24\n",
    "mars.p_x0 = 1.405 * AU\n",
    "mars.v_y0 = 24.1e3\n",
    "mars.size = 0.53\n",
    "    \n",
    "jupiter = Body('Jupiter', 'orange')\n",
    "jupiter.mass = 1.898e27\n",
    "jupiter.p_x0 = 5.20 * AU\n",
    "jupiter.v_y0 = 13.1e3\n",
    "jupiter.size = 11.2\n",
    "    \n",
    "saturn = Body('Saturn', 'brown')\n",
    "saturn.mass = 5.68e26\n",
    "saturn.p_x0 = 9.58 * AU\n",
    "saturn.v_y0 = 9.7e3\n",
    "saturn.size = 9.45\n",
    "    \n",
    "uranus = Body('Uranus', 'green')\n",
    "uranus.mass = 8.6e25\n",
    "uranus.p_x0 = 19.20 * AU\n",
    "uranus.v_y0 = 6.8e3\n",
    "uranus.size = 4\n",
    "    \n",
    "neptune = Body('Neptune', 'dodgerblue')\n",
    "neptune.mass = 1.02e26\n",
    "neptune.p_x0 = 30.05 * AU\n",
    "neptune.v_y0 = 5.4e3\n",
    "neptune.size = 3.8\n",
    "    \n",
    "halley = Body('Halley', 'white')\n",
    "halley.mass = 1.02e14\n",
    "halley.p_x0 = 35 * AU\n",
    "halley.v_y0 = 1e3\n",
    "\n",
    "pluto = Body('Pluto', 'purple')\n",
    "pluto.mass = 0.0146e24\n",
    "pluto.p_x0 = 39.48 * AU\n",
    "pluto.v_y0 = 4.7e3"
   ]
  },
  {
   "cell_type": "markdown",
   "metadata": {},
   "source": [
    "### Full Solar System"
   ]
  },
  {
   "cell_type": "code",
   "execution_count": 43,
   "metadata": {},
   "outputs": [],
   "source": [
    "bodies = [sun, earth, venus, mercury, mars, jupiter, saturn, neptune, uranus, pluto, halley]\n",
    "pos = simulate(bodies, step = 1/(24*3600), period = 5000, method='euler-cromer')"
   ]
  },
  {
   "cell_type": "code",
   "execution_count": 44,
   "metadata": {},
   "outputs": [
    {
     "data": {
      "image/png": "[encoded data removed]",
      "text/plain": [
       "<Figure size 720x720 with 1 Axes>"
      ]
     },
     "metadata": {
      "needs_background": "light"
     },
     "output_type": "display_data"
    }
   ],
   "source": [
    "bodies_plot = [sun, earth, mercury, mars, venus]\n",
    "pl = orbit_plotter(pos, bodies_plot, title='The Solar System', scale=False)"
   ]
  },
  {
   "cell_type": "code",
   "execution_count": null,
   "metadata": {},
   "outputs": [],
   "source": [
    "pos = simulate(bodies, period = 500, method='euler')\n",
    "pl = orbit_plotter(pos, bodies_plot, title='The Solar System', scale=False)"
   ]
  },
  {
   "cell_type": "code",
   "execution_count": null,
   "metadata": {},
   "outputs": [],
   "source": [
    "prox0 = [abs(i) < 1e8 for i in pl.lines[8].get_data()[1]]\n",
    "prox0.count(True)"
   ]
  },
  {
   "cell_type": "code",
   "execution_count": null,
   "metadata": {
    "scrolled": true
   },
   "outputs": [],
   "source": [
    "print(pl.lines[8].get_data()[1])"
   ]
  },
  {
   "cell_type": "markdown",
   "metadata": {},
   "source": [
    "### Halley"
   ]
  },
  {
   "cell_type": "code",
   "execution_count": null,
   "metadata": {},
   "outputs": [],
   "source": [
    "comet = [sun, halley]\n",
    "pos = simulate(comet, step = 1, period = 27740)\n",
    "orbit_plotter(pos, comet, title=\"Halley's Comet Orbit\")"
   ]
  },
  {
   "cell_type": "code",
   "execution_count": null,
   "metadata": {},
   "outputs": [],
   "source": []
  },
  {
   "cell_type": "code",
   "execution_count": null,
   "metadata": {},
   "outputs": [],
   "source": [
    "a = zip(halley.pos_x,halley.pos_y)\n",
    "for i in a:\n",
    "    if abs(i[1]) == 0:\n",
    "        print(i)\n"
   ]
  },
  {
   "cell_type": "markdown",
   "metadata": {},
   "source": [
    "## Solar System with Halley"
   ]
  },
  {
   "cell_type": "code",
   "execution_count": null,
   "metadata": {
    "scrolled": false
   },
   "outputs": [],
   "source": [
    "bodies = [sun, earth, venus, mercury, mars]\n",
    "bodies_plot = [sun, earth, venus, mercury, mars]\n",
    "    \n",
    "pos = simulate(bodies, period = 225, step = 1)\n",
    "pl = orbit_plotter(pos, bodies_plot, title='The Solar System',scale = True)"
   ]
  },
  {
   "cell_type": "code",
   "execution_count": null,
   "metadata": {
    "scrolled": true
   },
   "outputs": [],
   "source": [
    "[abs(i) < 0.05e11 for i in venus.pos_y]"
   ]
  },
  {
   "cell_type": "code",
   "execution_count": null,
   "metadata": {},
   "outputs": [],
   "source": [
    "1.495e11,0.3e11"
   ]
  },
  {
   "cell_type": "markdown",
   "metadata": {},
   "source": [
    "### Inner Solar System"
   ]
  },
  {
   "cell_type": "code",
   "execution_count": null,
   "metadata": {},
   "outputs": [],
   "source": [
    "bodies = [sun, earth, venus, mercury, mars, jupiter, saturn, neptune, uranus, halley]\n",
    "bodies_plot = [sun, earth, venus, mercury, mars]\n",
    "    \n",
    "pos = simulate(bodies, period = 225)\n",
    "orbit_plotter(pos, bodies_plot, title='The Solar System')"
   ]
  },
  {
   "cell_type": "code",
   "execution_count": null,
   "metadata": {},
   "outputs": [],
   "source": [
    "3600*24"
   ]
  },
  {
   "cell_type": "markdown",
   "metadata": {},
   "source": [
    "---\n",
    "\n",
    "## Mudança de dimensões\n",
    "\n",
    "---"
   ]
  },
  {
   "cell_type": "code",
   "execution_count": null,
   "metadata": {},
   "outputs": [],
   "source": [
    "# G = 6.67428e-11\n",
    "solar_mass = 1.98892e30\n",
    "G = 4*math.pi**2\n",
    "\n",
    "AU = (149.6e9)\n",
    "SCALE = 300/AU\n",
    "period = 20000\n",
    "\n",
    "class Body:\n",
    "    ## All vectors are decomposed in x-axis and y-axis\n",
    "    ## p = (x,y) -> Actual Position Vector\n",
    "    ## v = (x,y) -> Actual Velocity Vector\n",
    "    ## pos_x -> List of all x-axis positions over time\n",
    "    ## pos_y -> List of all y-axis positions over time\n",
    "    ## color -> Orbit trace and planet color\n",
    "    \n",
    "    def __init__(self, name_of = 'UNNAMED', color_of = 'gray'):\n",
    "        self.name = name_of\n",
    "        self.color = color_of\n",
    "    \n",
    "    mass = 0\n",
    "    v_x = v_y = 0 ## A\n",
    "    p_x = p_y = 0\n",
    "    pos_x = []\n",
    "    pos_y = []\n",
    "    \n",
    "    def acceleration(self, other):\n",
    "        \n",
    "        if self is other:\n",
    "            raise ValueError(\"Attraction of object %r to itself requested\"\n",
    "                             % self.name)\n",
    "        \n",
    "        d_x = (other.p_x - self.p_x)\n",
    "        d_y = (other.p_y - self.p_y)\n",
    "        d = math.sqrt(d_x**2 + d_y**2) ## Calculate the distance between the bodies\n",
    "        if d == 0:\n",
    "            raise ValueError('The bodies %r and %r collided' %(self.name, other.name))\n",
    "            \n",
    "        ## Compute acceleration OTHER causes on THIS\n",
    "        acc = G * self.mass * other.mass / d**2\n",
    "        \n",
    "        ## Decomposing the acceleration on x-axis and y-axis\n",
    "        theta = math.atan2(d_y, d_x)\n",
    "        a_x = acc*math.cos(theta)\n",
    "        a_y = acc*math.sin(theta)\n",
    "        return a_x, a_y\n",
    "    \n",
    "def simulate(bodies, days_step = 1):\n",
    "    step = 1 # Total of seconds for each step: 24*3600 = one day\n",
    "    count = 0\n",
    "    pos = {}\n",
    "    for body in bodies:\n",
    "        pos[body.name] = []\n",
    "        \n",
    "    while count < period:\n",
    "        acc = {}\n",
    "        for body in bodies:\n",
    "            acc_x = acc_y = 0\n",
    "            for other in bodies:\n",
    "                if body is other:\n",
    "                    continue\n",
    "                a_x, a_y = body.acceleration(other)\n",
    "                acc_x += a_x\n",
    "                acc_y += a_y\n",
    "            acc[body] = (acc_x, acc_y)\n",
    "\n",
    "        for body in bodies:\n",
    "            a_x, a_y = acc[body]\n",
    "\n",
    "            body.v_x += a_x * step\n",
    "            body.v_y += a_y * step\n",
    "\n",
    "            body.p_x += body.v_x * step\n",
    "            body.p_y += body.v_y * step\n",
    "            \n",
    "            pos[body.name].append((body.p_x,body.p_y))\n",
    "        count += 1\n",
    "    return pos\n",
    "\n",
    "def orbit_plotter(pos, bodies):\n",
    "    for b in bodies:\n",
    "        b.pos_x = [i[0] for i in pos[b.name]]\n",
    "        b.pos_y = [i[1] for i in pos[b.name]]\n",
    "    \n",
    "    plt.figure(figsize=(10,10))\n",
    "    \n",
    "    for b in bodies:\n",
    "        plt.plot(b.pos_x, b.pos_y, label = b.name, color = b.color, linestyle=':' )\n",
    "        plt.scatter(b.pos_x[-1],b.pos_y[-1], color = b.color)\n",
    "    \n",
    "    plt.legend()\n",
    "    plt.grid(alpha=0.2)\n",
    "    plt.xlabel('Latitudinal distance in AU')\n",
    "    plt.ylabel('Longitudinal distance in AU')\n",
    "    ax = plt.gca()\n",
    "    ax.set_facecolor('black')\n",
    "    plt.show()"
   ]
  },
  {
   "cell_type": "code",
   "execution_count": null,
   "metadata": {
    "scrolled": false
   },
   "outputs": [],
   "source": [
    "def main():\n",
    "    solar_mass = 1.98892e30\n",
    "    AU_yr = 4.74371736111\n",
    "    \n",
    "    sun = Body('Sun', 'yellow')\n",
    "    sun.mass = 1\n",
    "\n",
    "    earth = Body('Earth', 'blue')\n",
    "    earth.mass = 5.9742e24/solar_mass\n",
    "    earth.p_x = -1\n",
    "    earth.v_y = 2*math.pi        # 29.783 km/sec\n",
    "\n",
    "    # Venus parameters taken from\n",
    "    # http://nssdc.gsfc.nasa.gov/planetary/factsheet/venusfact.html\n",
    "    venus = Body('Venus', 'pink')\n",
    "    venus.mass = 4.8685e24/solar_mass\n",
    "    venus.p_x = 0.723\n",
    "    venus.v_y = 3*math.pi\n",
    "    \n",
    "    mercury = Body('Mercury', 'purple')\n",
    "    mercury.mass = 3e25/solar_mass\n",
    "    mercury.p_x = 0.49\n",
    "    mercury.v_y = 47.7 / AU_yr\n",
    "    \n",
    "    mars = Body('Mars', 'red')\n",
    "    mars.mass = 6.42e25/solar_mass\n",
    "    mars.p_x = 1.405\n",
    "    mars.v_y = 24.1 / AU_yr\n",
    "    \n",
    "    jupiter = Body('Jupiter', 'orange')\n",
    "    jupiter.mass = 1.898e27/solar_mass\n",
    "    jupiter.p_x = 5.20\n",
    "    jupiter.v_y = 13.1 / AU_yr\n",
    "    \n",
    "    saturn = Body('Saturn', 'brown')\n",
    "    saturn.mass = 5.68e26/solar_mass\n",
    "    saturn.p_x = 9.58\n",
    "    saturn.v_y = 9.7 / AU_yr\n",
    "    \n",
    "    uranus = Body('Uranus', 'green')\n",
    "    uranus.mass = 8.6e25/solar_mass\n",
    "    uranus.p_x = 19.20\n",
    "    uranus.v_y = 6.8 / AU_yr\n",
    "    \n",
    "    neptune = Body('Neptune', 'dodgerblue')\n",
    "    neptune.mass = 1.02e26/solar_mass\n",
    "    neptune.p_x = 30.05\n",
    "    neptune.v_y = 5.4 / AU_yr\n",
    "    \n",
    "    \n",
    "    bodies = [sun, earth, venus, mercury]\n",
    "    pos = simulate(bodies, 1)\n",
    "\n",
    "    orbit_plotter(pos, bodies)\n",
    "    \n",
    "if __name__ == '__main__':\n",
    "    main()    "
   ]
  },
  {
   "cell_type": "code",
   "execution_count": null,
   "metadata": {},
   "outputs": [],
   "source": [
    "sun_m = 1.989e30\n",
    "\n",
    "1.898e27/sun_m"
   ]
  },
  {
   "cell_type": "code",
   "execution_count": null,
   "metadata": {},
   "outputs": [],
   "source": [
    "1/1047"
   ]
  },
  {
   "cell_type": "code",
   "execution_count": null,
   "metadata": {},
   "outputs": [],
   "source": [
    "3600*24*30*12"
   ]
  },
  {
   "cell_type": "code",
   "execution_count": null,
   "metadata": {},
   "outputs": [],
   "source": [
    "29.783 / 1.496e8"
   ]
  },
  {
   "cell_type": "code",
   "execution_count": null,
   "metadata": {},
   "outputs": [],
   "source": [
    "29.783/4.74371736111\n"
   ]
  },
  {
   "cell_type": "code",
   "execution_count": null,
   "metadata": {},
   "outputs": [],
   "source": [
    "4*math.pi**2\n"
   ]
  },
  {
   "cell_type": "code",
   "execution_count": 28,
   "metadata": {},
   "outputs": [],
   "source": [
    "def RK4Step(s, t, derivs, dt):\n",
    "    \"\"\"\n",
    "    Take a single RK4 step.\n",
    "    \"\"\"\n",
    "    dth=dt/2.0\n",
    "    f1 = derivs(s, t)\n",
    "    f2 = derivs(s+f1*dth, t+dth)\n",
    "    f3 = derivs(s+f2*dth, t+dth)\n",
    "    f4 = derivs(s+f3*dt, t+dt)\n",
    "    return s + (f1+2*f2+2*f3+f4)*dt/6.0"
   ]
  },
  {
   "cell_type": "code",
   "execution_count": 30,
   "metadata": {},
   "outputs": [
    {
     "name": "stderr",
     "output_type": "stream",
     "text": [
      "/home/gil/anaconda3/lib/python3.7/site-packages/matplotlib/figure.py:98: MatplotlibDeprecationWarning: \n",
      "Adding an axes using the same arguments as a previous axes currently reuses the earlier instance.  In a future version, a new instance will always be created and returned.  Meanwhile, this warning can be suppressed, and the future behavior ensured, by passing a unique label to each axes instance.\n",
      "  \"Adding an axes using the same arguments as a previous axes \"\n"
     ]
    },
    {
     "data": {
      "text/plain": [
       "[<matplotlib.lines.Line2D at 0x7f882b847400>]"
      ]
     },
     "execution_count": 30,
     "metadata": {},
     "output_type": "execute_result"
    },
    {
     "data": {
      "image/png": "[encoded data removed]",
      "text/plain": [
       "<Figure size 432x288 with 1 Axes>"
      ]
     },
     "metadata": {
      "needs_background": "light"
     },
     "output_type": "display_data"
    }
   ],
   "source": [
    "GMs = (2*np.pi)**2   # measure time in years, distance in AU\n",
    "\n",
    "def derivs_grav(s, step=None):\n",
    "    \"\"\"\n",
    "    Compute motion of Earth about the Sun\n",
    "    \"\"\"\n",
    "    r=s[:2]\n",
    "    v=s[2:]\n",
    "    if step==0:  # Verlet space-step\n",
    "        return np.append(v,np.zeros(2))\n",
    "\n",
    "    else:\n",
    "        rnorm = np.sqrt(sum(r*r))\n",
    "        a = -GMs*r/rnorm**3\n",
    "\n",
    "        if step is None:  # RK step\n",
    "            return np.append(v,a)\n",
    "\n",
    "        else: # Verlet velocity-step\n",
    "            return np.append(np.zeros(2),a)\n",
    "\n",
    "v = np.array([0.0,2*np.pi])\n",
    "r = np.array([1.0,0.0])\n",
    "s=np.append(r,v)\n",
    "t=0.0\n",
    "dt=0.01\n",
    "tlist=[t]\n",
    "xlist=[s[0]]\n",
    "ylist=[s[1]]\n",
    "\n",
    "while t<1:\n",
    "    s = RK4Step(s, t, derivs_grav, dt)\n",
    "    t += dt\n",
    "    tlist.append(t)\n",
    "    xlist.append(s[0])\n",
    "    ylist.append(s[1])\n",
    "\n",
    "\n",
    "plt.title(\"Earth Orbit\")\n",
    "plt.xlabel(\"x-position (AU)\")\n",
    "plt.ylabel(\"y-position (AU)\")\n",
    "plt.axes().set_aspect('equal')\n",
    "plt.axis([-1.1,1.1,-1.1,1.1])\n",
    "plt.plot(xlist, ylist)"
   ]
  },
  {
   "cell_type": "code",
   "execution_count": null,
   "metadata": {},
   "outputs": [],
   "source": []
  }
 ],
 "metadata": {
  "kernelspec": {
   "display_name": "Python 3",
   "language": "python",
   "name": "python3"
  },
  "language_info": {
   "codemirror_mode": {
    "name": "ipython",
    "version": 3
   },
   "file_extension": ".py",
   "mimetype": "text/x-python",
   "name": "python",
   "nbconvert_exporter": "python",
   "pygments_lexer": "ipython3",
   "version": "3.7.3"
  }
 },
 "nbformat": 4,
 "nbformat_minor": 2
}
