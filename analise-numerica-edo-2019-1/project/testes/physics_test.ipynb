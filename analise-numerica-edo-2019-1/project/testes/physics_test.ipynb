{
 "cells": [
  {
   "cell_type": "code",
   "execution_count": 1,
   "metadata": {},
   "outputs": [],
   "source": [
    "import numpy as np\n",
    "import matplotlib.pyplot as plt"
   ]
  },
  {
   "cell_type": "code",
   "execution_count": 10,
   "metadata": {},
   "outputs": [
    {
     "name": "stdout",
     "output_type": "stream",
     "text": [
      "Digite uma frase: eu sou o alfa\n",
      "Na língua do i: ii sii i ilfi\n"
     ]
    }
   ],
   "source": [
    "#Programa que pega uma string e transforma todas as vogais em 'i'\n",
    "vogais = ['a','e','i','o','u']\n",
    "frase = input(\"Digite uma frase: \").lower()\n",
    "frase_nova = ''\n",
    "for letra in frase:\n",
    "    for vogal in vogais:\n",
    "        if letra == vogal:\n",
    "            nova_letra = 'i'\n",
    "            break\n",
    "        else:\n",
    "            nova_letra = letra\n",
    "    frase_nova = frase_nova + nova_letra\n",
    "print(\"Na língua do i: %s\"%frase_nova)"
   ]
  },
  {
   "cell_type": "markdown",
   "metadata": {},
   "source": [
    "$$\n",
    "\\varphi = arctan(\\frac{y(t)}{x(t)})\n",
    "$$\n",
    "7.2921159 × 10−5"
   ]
  },
  {
   "cell_type": "code",
   "execution_count": null,
   "metadata": {},
   "outputs": [],
   "source": []
  }
 ],
 "metadata": {
  "kernelspec": {
   "display_name": "Python 3",
   "language": "python",
   "name": "python3"
  },
  "language_info": {
   "codemirror_mode": {
    "name": "ipython",
    "version": 3
   },
   "file_extension": ".py",
   "mimetype": "text/x-python",
   "name": "python",
   "nbconvert_exporter": "python",
   "pygments_lexer": "ipython3",
   "version": "3.7.3"
  }
 },
 "nbformat": 4,
 "nbformat_minor": 2
}
