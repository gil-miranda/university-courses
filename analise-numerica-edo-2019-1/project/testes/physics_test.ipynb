{
 "cells": [
  {
   "cell_type": "code",
   "execution_count": 1,
   "metadata": {},
   "outputs": [],
   "source": [
    "import numpy as np\n",
    "import matplotlib.pyplot as plt"
   ]
  },
  {
   "cell_type": "markdown",
   "metadata": {},
   "source": [
    "$$\n",
    "\\varphi = arctan\\left(\\frac{y(t)}{x(t)}\\right)\n",
    "$$\n",
    "7.2921159 × 10−5\n",
    "\n",
    "$$\n",
    "F = ma\n",
    "$$\n",
    "\n",
    "$$\n",
    "F = G \\frac{m_1 m_2}{d^2}\n",
    "$$\n",
    "\n",
    "$$\n",
    "\\ddot{r} = \\frac{-GM}{r^2}\\hat{r}\n",
    "$$\n",
    "com $\\hat{r} = \\frac{1}{\\lvert r\\rvert} r$"
   ]
  },
  {
   "cell_type": "code",
   "execution_count": null,
   "metadata": {},
   "outputs": [],
   "source": [
    "\n"
   ]
  },
  {
   "cell_type": "markdown",
   "metadata": {},
   "source": []
  },
  {
   "cell_type": "code",
   "execution_count": null,
   "metadata": {},
   "outputs": [],
   "source": []
  }
 ],
 "metadata": {
  "kernelspec": {
   "display_name": "Python 3",
   "language": "python",
   "name": "python3"
  },
  "language_info": {
   "codemirror_mode": {
    "name": "ipython",
    "version": 3
   },
   "file_extension": ".py",
   "mimetype": "text/x-python",
   "name": "python",
   "nbconvert_exporter": "python",
   "pygments_lexer": "ipython3",
   "version": "3.7.3"
  }
 },
 "nbformat": 4,
 "nbformat_minor": 2
}
