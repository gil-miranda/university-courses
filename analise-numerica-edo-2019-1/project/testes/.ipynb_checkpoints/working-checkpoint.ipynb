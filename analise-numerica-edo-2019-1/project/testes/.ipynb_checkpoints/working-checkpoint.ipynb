{
 "cells": [
  {
   "cell_type": "markdown",
   "metadata": {},
   "source": [
    "### Importando"
   ]
  },
  {
   "cell_type": "code",
   "execution_count": 53,
   "metadata": {},
   "outputs": [],
   "source": [
    "import numpy as np\n",
    "import math\n",
    "import matplotlib.pyplot as plt\n",
    "import matplotlib.ticker as ticker\n",
    "import time"
   ]
  },
  {
   "cell_type": "markdown",
   "metadata": {},
   "source": [
    "### Defining constants"
   ]
  },
  {
   "cell_type": "code",
   "execution_count": 2,
   "metadata": {},
   "outputs": [],
   "source": [
    "G = (2*np.pi)**2"
   ]
  },
  {
   "cell_type": "markdown",
   "metadata": {},
   "source": [
    "### The body class"
   ]
  },
  {
   "cell_type": "code",
   "execution_count": 3,
   "metadata": {},
   "outputs": [],
   "source": [
    "class Body:\n",
    "    ## All vectors are decomposed in x-axis and y-axis\n",
    "    ## p = (x,y) -> Actual Position Vector\n",
    "    ## v = (x,y) -> Actual Velocity Vector\n",
    "    ## pos_x -> List of all x-axis positions over time\n",
    "    ## pos_y -> List of all y-axis positions over time\n",
    "    ## color -> Orbit trace and planet color\n",
    "    \n",
    "    def __init__(self, name_of = 'UNNAMED', color_of = 'gray'):\n",
    "        self.name = name_of\n",
    "        self.color = color_of\n",
    "        \n",
    "    \n",
    "    mass = 0\n",
    "    v_x = v_y = v_x0 = v_y0 = 0\n",
    "    p_x = p_y = p_x0 = p_y0 = 0\n",
    "    pos_x = []\n",
    "    pos_y = []\n",
    "    \n",
    "    def acceleration(self, bodies, pos = [0,0]):\n",
    "        acc_x = acc_y = 0\n",
    "        for other in bodies:\n",
    "            if self is other:\n",
    "                continue\n",
    "            d_x = (other.p_x - pos[0])\n",
    "            d_y = (other.p_y - pos[1])\n",
    "            d = math.sqrt(d_x**2 + d_y**2) ## Calculate the distance between the bodies\n",
    "            if d == 0:\n",
    "                raise ValueError('The bodies %r and %r collided' %(self.name, other.name))\n",
    "\n",
    "            ## Compute acceleration OTHER causes on THIS\n",
    "            acc = G * other.mass / d**2\n",
    "\n",
    "            ## Decomposing the acceleration on x-axis and y-axis\n",
    "            theta = math.atan2(d_y, d_x)\n",
    "            a_x = acc*math.cos(theta)\n",
    "            a_y = acc*math.sin(theta)\n",
    "            \n",
    "            acc_x += a_x\n",
    "            acc_y += a_y\n",
    "        return acc_x, acc_y"
   ]
  },
  {
   "cell_type": "markdown",
   "metadata": {},
   "source": [
    "### Simulation"
   ]
  },
  {
   "cell_type": "code",
   "execution_count": 20,
   "metadata": {},
   "outputs": [],
   "source": [
    "def simulate(bodies, step = 1, period = 365, method = 'euler'):\n",
    "    count = 0\n",
    "    pos = {}\n",
    "    for body in bodies:\n",
    "        pos[body.name] = []\n",
    "        ## Routine that resets body position state in each simulation\n",
    "        body.p_x = body.p_x0\n",
    "        body.p_y = body.p_y0\n",
    "        body.v_x = body.v_x0\n",
    "        body.v_y = body.v_y0\n",
    "        \n",
    "    while count < period:\n",
    "        acc = {}\n",
    "        for body in bodies:\n",
    "            acc_x = acc_y = 0\n",
    "            for other in bodies:\n",
    "                if body is other:\n",
    "                    continue\n",
    "                acc_x, acc_y = body.acceleration(bodies, pos = [body.p_x, body.p_y])\n",
    "                acc[body] = (acc_x, acc_y)\n",
    "\n",
    "        for body in bodies:\n",
    "            pos[body.name].append((body.p_x,body.p_y))\n",
    "            \n",
    "            a_x, a_y = acc[body]\n",
    "            \n",
    "            if method == 'euler-cromer':\n",
    "            ## Sympletic 1st-order Euler\n",
    "                body.v_x += a_x * step\n",
    "                body.v_y += a_y * step\n",
    "\n",
    "                body.p_x += body.v_x * step\n",
    "                body.p_y += body.v_y * step\n",
    "            elif method == 'rk4':\n",
    "            ## Runge-kutta 4th-order\n",
    "                k1_x = step * body.v_x\n",
    "                k1_y = step * body.v_y\n",
    "                k1_vx = step * a_x\n",
    "                k1_vy = step * a_y\n",
    "                \n",
    "                ax_new, ay_new = body.acceleration(bodies, pos = [body.p_x + k1_x/2, body.p_y + k1_y/2])\n",
    "                \n",
    "                vhalf_x = body.v_x + 0.5 * step * ax_new\n",
    "                vhalf_y = body.v_y + 0.5 * step * ay_new\n",
    "                \n",
    "                k2_x = step * vhalf_x\n",
    "                k2_y = step * vhalf_y\n",
    "                k2_vx = step * ax_new\n",
    "                k2_vy = step * ay_new\n",
    "                \n",
    "                ax_new, ay_new = body.acceleration(bodies, pos = [body.p_x + k2_x/2, body.p_y + k2_y/2])\n",
    "                \n",
    "                vhalf_x = body.v_x + 0.5 * step * ax_new\n",
    "                vhalf_y = body.v_y + 0.5 * step * ay_new\n",
    "                \n",
    "                k3_x = step * vhalf_x\n",
    "                k3_y = step * vhalf_y\n",
    "                k3_vx = step *  ax_new\n",
    "                k3_vy = step *  ay_new\n",
    "                \n",
    "                ax_new, ay_new = body.acceleration(bodies, pos = [body.p_x + k3_x, body.p_y + k3_y])\n",
    "                \n",
    "                vhalf_x = body.v_x + step * ax_new\n",
    "                vhalf_y = body.v_y + step * ay_new\n",
    "                \n",
    "                k4_x = step * vhalf_x\n",
    "                k4_y = step * vhalf_y\n",
    "                k4_vx = step * ax_new\n",
    "                k4_vy = step * ay_new\n",
    "                \n",
    "                body.p_x += (k1_x + 2*(k2_x + k3_x)+ k4_x)/6 \n",
    "                body.p_y += (k1_y + 2*(k2_y + k3_y)+ k4_y)/6\n",
    "                body.v_x += (k1_vx + 2*(k2_vx + k3_vx)+ k4_vx)/6 \n",
    "                body.v_y += (k1_vy + 2*(k2_vy + k3_vy)+ k4_vy)/6\n",
    "                \n",
    "                \n",
    "            elif method == 'verlet':\n",
    "            ## Velocity Verlet / Leapfrog - Sympletic 2nd-order methods\n",
    "                vhalf_x = body.v_x +  0.5 * step * a_x\n",
    "                vhalf_y = body.v_y +  0.5 * step * a_y\n",
    "                \n",
    "                body.p_x += vhalf_x * step\n",
    "                body.p_y += vhalf_y * step\n",
    "                \n",
    "                ax_new, ay_new = body.acceleration(bodies, pos = [body.p_x, body.p_y])\n",
    "                \n",
    "                body.v_x = vhalf_x + ax_new * 0.5 * step\n",
    "                body.v_y = vhalf_y + ay_new * 0.5 * step\n",
    "            \n",
    "            else:\n",
    "            ## 1st-order Euler\n",
    "                body.p_x += body.v_x * step\n",
    "                body.p_y += body.v_y * step\n",
    "                \n",
    "                body.v_x += a_x * step\n",
    "                body.v_y += a_y * step\n",
    "        count += 1\n",
    "    return pos"
   ]
  },
  {
   "cell_type": "markdown",
   "metadata": {},
   "source": [
    "### Plotter"
   ]
  },
  {
   "cell_type": "code",
   "execution_count": 5,
   "metadata": {},
   "outputs": [],
   "source": [
    "def orbit_plotter(pos, bodies, title = 'Orbits', scale = False):\n",
    "    for b in bodies:\n",
    "        b.pos_x = [i[0] for i in pos[b.name]]\n",
    "        b.pos_y = [i[1] for i in pos[b.name]]\n",
    "    \n",
    "    plt.figure(figsize=(10,10))\n",
    "    \n",
    "    for b in bodies:\n",
    "        plt.plot(b.pos_x, b.pos_y, label = b.name, color = b.color, linestyle=':' )\n",
    "        plt.scatter(b.pos_x[-1],b.pos_y[-1], color = b.color)\n",
    "    \n",
    "    plt.legend()\n",
    "    plt.grid(alpha=0.2)\n",
    "\n",
    "    \n",
    "    ax = plt.gca()\n",
    "    ax.set_facecolor('black')\n",
    "    \n",
    "    plt.xlabel('Latitudinal distance in AU')\n",
    "    plt.ylabel('Longitudinal distance in AU')\n",
    "        \n",
    "    plt.title(title)\n",
    "    plt.show()\n",
    "    return ax"
   ]
  },
  {
   "cell_type": "code",
   "execution_count": 6,
   "metadata": {},
   "outputs": [
    {
     "data": {
      "text/plain": [
       "5.1284113991512987e-17"
      ]
     },
     "execution_count": 6,
     "metadata": {},
     "output_type": "execute_result"
    }
   ],
   "source": [
    "1.02e14/1.98892e30"
   ]
  },
  {
   "cell_type": "code",
   "execution_count": 7,
   "metadata": {
    "scrolled": false
   },
   "outputs": [],
   "source": [
    "sun = Body('Sun', 'yellow')\n",
    "sun.mass = 1\n",
    "\n",
    "earth = Body('Earth', 'blue')\n",
    "earth.mass = 3e-6\n",
    "earth.p_x0 = -1\n",
    "earth.v_y0 = np.sqrt(G/-earth.p_x0)\n",
    "\n",
    "venus = Body('Venus', 'pink')\n",
    "venus.mass = 2.4485e-7\n",
    "venus.p_x0 = 0.723\n",
    "venus.v_y0 = -np.sqrt(G/venus.p_x0)\n",
    "    \n",
    "mercury = Body('Mercury', 'purple')\n",
    "mercury.mass = 1.65919e-7\n",
    "mercury.p_x0 = 0.387\n",
    "mercury.v_y0 = np.sqrt(G/mercury.p_x0)\n",
    "    \n",
    "mars = Body('Mars', 'red')\n",
    "mars.mass = 3.22788e-7\n",
    "mars.p_x0 = 1.405\n",
    "mars.v_y0 = np.sqrt(G/mars.p_x0)\n",
    "    \n",
    "jupiter = Body('Jupiter', 'orange')\n",
    "jupiter.mass = 9.5428e-4\n",
    "jupiter.p_x0 = 5.20\n",
    "jupiter.v_y0 = np.sqrt(G/jupiter.p_x0)\n",
    "    \n",
    "saturn = Body('Saturn', 'brown')\n",
    "saturn.mass = 2.855e-4\n",
    "saturn.p_x0 = 9.58\n",
    "saturn.v_y0 = np.sqrt(G/saturn.p_x0)\n",
    "    \n",
    "uranus = Body('Uranus', 'green')\n",
    "uranus.mass = 4.36e-5\n",
    "uranus.p_x0 = 19.20\n",
    "uranus.v_y0 = np.sqrt(G/uranus.p_x0)\n",
    "    \n",
    "neptune = Body('Neptune', 'dodgerblue')\n",
    "neptune.mass = 5.1284e-5\n",
    "neptune.p_x0 = 30.05\n",
    "neptune.v_y0 = np.sqrt(G/neptune.p_x0)\n",
    "    \n",
    "halley = Body('Halley', 'white')\n",
    "halley.mass = 5.128e-17\n",
    "halley.p_x0 = -35\n",
    "halley.v_y0 = np.sqrt(G/-halley.p_x0)\n",
    "\n",
    "pluto = Body('Pluto', 'purple')\n",
    "pluto.mass = 7.34e-9\n",
    "pluto.p_x0 = 39.48\n",
    "pluto.v_y0 = np.sqrt(G/pluto.p_x0)"
   ]
  },
  {
   "cell_type": "markdown",
   "metadata": {},
   "source": [
    "### Full Solar System"
   ]
  },
  {
   "cell_type": "code",
   "execution_count": 49,
   "metadata": {},
   "outputs": [],
   "source": [
    "bodies = [sun, earth, venus, mars, mercury, jupiter, saturn, neptune, uranus]\n",
    "bodies_plot = [sun, earth, mars, venus, mercury]"
   ]
  },
  {
   "cell_type": "code",
   "execution_count": 61,
   "metadata": {},
   "outputs": [
    {
     "data": {
      "image/png": "[encoded data removed]",
      "text/plain": [
       "<Figure size 720x720 with 1 Axes>"
      ]
     },
     "metadata": {
      "needs_background": "light"
     },
     "output_type": "display_data"
    },
    {
     "name": "stdout",
     "output_type": "stream",
     "text": [
      "A execução foi feita em 0.5144658088684082 segundos\n"
     ]
    }
   ],
   "source": [
    "start_time = time.time()\n",
    "pos = simulate(bodies, period = 300, method='rk4', step = 0.001)\n",
    "pl = orbit_plotter(pos, bodies_plot, title='The Solar System')\n",
    "end_time = time.time()\n",
    "print('A simulação foi feita em %s segundos' % (end_time - start_time))"
   ]
  },
  {
   "cell_type": "code",
   "execution_count": null,
   "metadata": {},
   "outputs": [],
   "source": [
    "pos = simulate(bodies, period = 100, method='euler-cromer', step = 0.01)\n",
    "pl = orbit_plotter(pos, bodies_plot, title='The Solar System')"
   ]
  },
  {
   "cell_type": "code",
   "execution_count": null,
   "metadata": {},
   "outputs": [],
   "source": []
  },
  {
   "cell_type": "code",
   "execution_count": null,
   "metadata": {},
   "outputs": [],
   "source": [
    "np.sqrt(G/jupiter.p_x0)"
   ]
  },
  {
   "cell_type": "code",
   "execution_count": null,
   "metadata": {},
   "outputs": [],
   "source": [
    "prox0 = [abs(i) < 1e8 for i in pl.lines[8].get_data()[1]]\n",
    "prox0.count(True)"
   ]
  },
  {
   "cell_type": "code",
   "execution_count": null,
   "metadata": {
    "scrolled": true
   },
   "outputs": [],
   "source": [
    "print(pl.lines[8].get_data()[1])"
   ]
  },
  {
   "cell_type": "markdown",
   "metadata": {},
   "source": [
    "### Halley"
   ]
  },
  {
   "cell_type": "code",
   "execution_count": null,
   "metadata": {},
   "outputs": [],
   "source": [
    "comet = [sun, halley]\n",
    "pos = simulate(comet, step = 1, period = 27740)\n",
    "orbit_plotter(pos, comet, title=\"Halley's Comet Orbit\")"
   ]
  },
  {
   "cell_type": "code",
   "execution_count": null,
   "metadata": {},
   "outputs": [],
   "source": []
  },
  {
   "cell_type": "code",
   "execution_count": null,
   "metadata": {},
   "outputs": [],
   "source": [
    "a = zip(halley.pos_x,halley.pos_y)\n",
    "for i in a:\n",
    "    if abs(i[1]) == 0:\n",
    "        print(i)\n"
   ]
  },
  {
   "cell_type": "markdown",
   "metadata": {},
   "source": [
    "## Solar System with Halley"
   ]
  },
  {
   "cell_type": "code",
   "execution_count": null,
   "metadata": {
    "scrolled": false
   },
   "outputs": [],
   "source": [
    "bodies = [sun, earth, venus, mercury, mars]\n",
    "bodies_plot = [sun, earth, venus, mercury, mars]\n",
    "    \n",
    "pos = simulate(bodies, period = 225, step = 1)\n",
    "pl = orbit_plotter(pos, bodies_plot, title='The Solar System',scale = True)"
   ]
  },
  {
   "cell_type": "code",
   "execution_count": null,
   "metadata": {
    "scrolled": true
   },
   "outputs": [],
   "source": [
    "[abs(i) < 0.05e11 for i in venus.pos_y]"
   ]
  },
  {
   "cell_type": "code",
   "execution_count": null,
   "metadata": {},
   "outputs": [],
   "source": [
    "1.495e11,0.3e11"
   ]
  },
  {
   "cell_type": "markdown",
   "metadata": {},
   "source": [
    "### Inner Solar System"
   ]
  },
  {
   "cell_type": "code",
   "execution_count": null,
   "metadata": {},
   "outputs": [],
   "source": [
    "bodies = [sun, earth, venus, mercury, mars, jupiter, saturn, neptune, uranus, halley]\n",
    "bodies_plot = [sun, earth, venus, mercury, mars]\n",
    "    \n",
    "pos = simulate(bodies, period = 225)\n",
    "orbit_plotter(pos, bodies_plot, title='The Solar System')"
   ]
  },
  {
   "cell_type": "code",
   "execution_count": null,
   "metadata": {},
   "outputs": [],
   "source": [
    "3600*24"
   ]
  },
  {
   "cell_type": "markdown",
   "metadata": {},
   "source": [
    "---\n",
    "\n",
    "## Mudança de dimensões\n",
    "\n",
    "---"
   ]
  },
  {
   "cell_type": "code",
   "execution_count": null,
   "metadata": {},
   "outputs": [],
   "source": [
    "# G = 6.67428e-11\n",
    "solar_mass = 1.98892e30\n",
    "G = 4*math.pi**2\n",
    "\n",
    "AU = (149.6e9)\n",
    "SCALE = 300/AU\n",
    "period = 20000\n",
    "\n",
    "class Body:\n",
    "    ## All vectors are decomposed in x-axis and y-axis\n",
    "    ## p = (x,y) -> Actual Position Vector\n",
    "    ## v = (x,y) -> Actual Velocity Vector\n",
    "    ## pos_x -> List of all x-axis positions over time\n",
    "    ## pos_y -> List of all y-axis positions over time\n",
    "    ## color -> Orbit trace and planet color\n",
    "    \n",
    "    def __init__(self, name_of = 'UNNAMED', color_of = 'gray'):\n",
    "        self.name = name_of\n",
    "        self.color = color_of\n",
    "    \n",
    "    mass = 0\n",
    "    v_x = v_y = 0 ## A\n",
    "    p_x = p_y = 0\n",
    "    pos_x = []\n",
    "    pos_y = []\n",
    "    \n",
    "    def acceleration(self, other):\n",
    "        \n",
    "        if self is other:\n",
    "            raise ValueError(\"Attraction of object %r to itself requested\"\n",
    "                             % self.name)\n",
    "        \n",
    "        d_x = (other.p_x - self.p_x)\n",
    "        d_y = (other.p_y - self.p_y)\n",
    "        d = math.sqrt(d_x**2 + d_y**2) ## Calculate the distance between the bodies\n",
    "        if d == 0:\n",
    "            raise ValueError('The bodies %r and %r collided' %(self.name, other.name))\n",
    "            \n",
    "        ## Compute acceleration OTHER causes on THIS\n",
    "        acc = G * self.mass * other.mass / d**2\n",
    "        \n",
    "        ## Decomposing the acceleration on x-axis and y-axis\n",
    "        theta = math.atan2(d_y, d_x)\n",
    "        a_x = acc*math.cos(theta)\n",
    "        a_y = acc*math.sin(theta)\n",
    "        return a_x, a_y\n",
    "    \n",
    "def simulate(bodies, days_step = 1):\n",
    "    step = 1 # Total of seconds for each step: 24*3600 = one day\n",
    "    count = 0\n",
    "    pos = {}\n",
    "    for body in bodies:\n",
    "        pos[body.name] = []\n",
    "        \n",
    "    while count < period:\n",
    "        acc = {}\n",
    "        for body in bodies:\n",
    "            acc_x = acc_y = 0\n",
    "            for other in bodies:\n",
    "                if body is other:\n",
    "                    continue\n",
    "                a_x, a_y = body.acceleration(other)\n",
    "                acc_x += a_x\n",
    "                acc_y += a_y\n",
    "            acc[body] = (acc_x, acc_y)\n",
    "\n",
    "        for body in bodies:\n",
    "            a_x, a_y = acc[body]\n",
    "\n",
    "            body.v_x += a_x * step\n",
    "            body.v_y += a_y * step\n",
    "\n",
    "            body.p_x += body.v_x * step\n",
    "            body.p_y += body.v_y * step\n",
    "            \n",
    "            pos[body.name].append((body.p_x,body.p_y))\n",
    "        count += 1\n",
    "    return pos\n",
    "\n",
    "def orbit_plotter(pos, bodies):\n",
    "    for b in bodies:\n",
    "        b.pos_x = [i[0] for i in pos[b.name]]\n",
    "        b.pos_y = [i[1] for i in pos[b.name]]\n",
    "    \n",
    "    plt.figure(figsize=(10,10))\n",
    "    \n",
    "    for b in bodies:\n",
    "        plt.plot(b.pos_x, b.pos_y, label = b.name, color = b.color, linestyle=':' )\n",
    "        plt.scatter(b.pos_x[-1],b.pos_y[-1], color = b.color)\n",
    "    \n",
    "    plt.legend()\n",
    "    plt.grid(alpha=0.2)\n",
    "    plt.xlabel('Latitudinal distance in AU')\n",
    "    plt.ylabel('Longitudinal distance in AU')\n",
    "    ax = plt.gca()\n",
    "    ax.set_facecolor('black')\n",
    "    plt.show()"
   ]
  },
  {
   "cell_type": "code",
   "execution_count": null,
   "metadata": {
    "scrolled": false
   },
   "outputs": [],
   "source": [
    "def main():\n",
    "    solar_mass = 1.98892e30\n",
    "    AU_yr = 4.74371736111\n",
    "    \n",
    "    sun = Body('Sun', 'yellow')\n",
    "    sun.mass = 1\n",
    "\n",
    "    earth = Body('Earth', 'blue')\n",
    "    earth.mass = 5.9742e24/solar_mass\n",
    "    earth.p_x = -1\n",
    "    earth.v_y = 2*math.pi        # 29.783 km/sec\n",
    "\n",
    "    # Venus parameters taken from\n",
    "    # http://nssdc.gsfc.nasa.gov/planetary/factsheet/venusfact.html\n",
    "    venus = Body('Venus', 'pink')\n",
    "    venus.mass = 4.8685e24/solar_mass\n",
    "    venus.p_x = 0.723\n",
    "    venus.v_y = 3*math.pi\n",
    "    \n",
    "    mercury = Body('Mercury', 'purple')\n",
    "    mercury.mass = 3e25/solar_mass\n",
    "    mercury.p_x = 0.49\n",
    "    mercury.v_y = 47.7 / AU_yr\n",
    "    \n",
    "    mars = Body('Mars', 'red')\n",
    "    mars.mass = 6.42e25/solar_mass\n",
    "    mars.p_x = 1.405\n",
    "    mars.v_y = 24.1 / AU_yr\n",
    "    \n",
    "    jupiter = Body('Jupiter', 'orange')\n",
    "    jupiter.mass = 1.898e27/solar_mass\n",
    "    jupiter.p_x = 5.20\n",
    "    jupiter.v_y = 13.1 / AU_yr\n",
    "    \n",
    "    saturn = Body('Saturn', 'brown')\n",
    "    saturn.mass = 5.68e26/solar_mass\n",
    "    saturn.p_x = 9.58\n",
    "    saturn.v_y = 9.7 / AU_yr\n",
    "    \n",
    "    uranus = Body('Uranus', 'green')\n",
    "    uranus.mass = 8.6e25/solar_mass\n",
    "    uranus.p_x = 19.20\n",
    "    uranus.v_y = 6.8 / AU_yr\n",
    "    \n",
    "    neptune = Body('Neptune', 'dodgerblue')\n",
    "    neptune.mass = 1.02e26/solar_mass\n",
    "    neptune.p_x = 30.05\n",
    "    neptune.v_y = 5.4 / AU_yr\n",
    "    \n",
    "    \n",
    "    bodies = [sun, earth, venus, mercury]\n",
    "    pos = simulate(bodies, 1)\n",
    "\n",
    "    orbit_plotter(pos, bodies)\n",
    "    \n",
    "if __name__ == '__main__':\n",
    "    main()    "
   ]
  },
  {
   "cell_type": "code",
   "execution_count": null,
   "metadata": {},
   "outputs": [],
   "source": [
    "sun_m = 1.989e30\n",
    "\n",
    "1.898e27/sun_m"
   ]
  },
  {
   "cell_type": "code",
   "execution_count": null,
   "metadata": {},
   "outputs": [],
   "source": [
    "1/1047"
   ]
  },
  {
   "cell_type": "code",
   "execution_count": null,
   "metadata": {},
   "outputs": [],
   "source": [
    "3600*24*30*12"
   ]
  },
  {
   "cell_type": "code",
   "execution_count": null,
   "metadata": {},
   "outputs": [],
   "source": [
    "29.783 / 1.496e8"
   ]
  },
  {
   "cell_type": "code",
   "execution_count": null,
   "metadata": {},
   "outputs": [],
   "source": [
    "29.783/4.74371736111\n"
   ]
  },
  {
   "cell_type": "code",
   "execution_count": null,
   "metadata": {},
   "outputs": [],
   "source": [
    "4*math.pi**2\n"
   ]
  },
  {
   "cell_type": "code",
   "execution_count": null,
   "metadata": {},
   "outputs": [],
   "source": [
    "ano = 3.154e7"
   ]
  },
  {
   "cell_type": "code",
   "execution_count": null,
   "metadata": {},
   "outputs": [],
   "source": [
    "terra = 5.972e24"
   ]
  },
  {
   "cell_type": "code",
   "execution_count": null,
   "metadata": {},
   "outputs": [],
   "source": [
    "AU**3 * (1/terra) * (1/ano)"
   ]
  },
  {
   "cell_type": "code",
   "execution_count": null,
   "metadata": {},
   "outputs": [],
   "source": []
  }
 ],
 "metadata": {
  "kernelspec": {
   "display_name": "Python 3",
   "language": "python",
   "name": "python3"
  },
  "language_info": {
   "codemirror_mode": {
    "name": "ipython",
    "version": 3
   },
   "file_extension": ".py",
   "mimetype": "text/x-python",
   "name": "python",
   "nbconvert_exporter": "python",
   "pygments_lexer": "ipython3",
   "version": "3.7.3"
  }
 },
 "nbformat": 4,
 "nbformat_minor": 2
}
