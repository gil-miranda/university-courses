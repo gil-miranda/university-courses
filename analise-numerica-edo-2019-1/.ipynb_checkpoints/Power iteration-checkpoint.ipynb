{
 "cells": [
  {
   "cell_type": "markdown",
   "metadata": {},
   "source": [
    "# Resumo, Teoria e Prática - Power Iteration Method\n",
    "> Gil Miranda<br>\n",
    "> Fontes bibliográficas:\n",
    "* Bernardo Costa. (2018). <i>Notebooks de aula</i>.\n",
    "* Trefethen, L. & Bau, D. (1997) <i>Numerical Linear Algebra</i>. SIAM\n",
    "    \n",
    "---"
   ]
  },
  {
   "cell_type": "code",
   "execution_count": 1,
   "metadata": {},
   "outputs": [],
   "source": [
    "import numpy as np\n",
    "import matplotlib.pyplot as plt"
   ]
  },
  {
   "cell_type": "markdown",
   "metadata": {},
   "source": [
    "## Calculando autovetores\n",
    "> Um dos algoritmos mais clássicos de cálculo de autovetores é \"multiplicar e normalizar\":\n",
    "tome um vetor \"qualquer\" $u_0$ e aplique a matriz $A$, obtendo $w_1 = Au_0$.\n",
    "Normalize $w_1$, ou seja, divida pela sua norma para obter um vetor unitário de mesma direção,\n",
    "e chame-o de $u_1$.\n",
    "Repita: $w_2 = Au_1$, e $u_2 = \\frac{w_2}{N(w_2)}$.\n",
    "E assim por diante.\n",
    "Em geral (isso depende de $u_0$), a sequência dos $u_n$ converge para um autovetor $u$ correspondente\n",
    "ao autovalor de $A$ de maior módulo.\n",
    "\n",
    "Semana14-Parte1-Autovetores e autovalores Completo.ipynb - [Bernardo Freitas Paulo da Costa](http://www.im.ufrj.br/bernardofpc)\n",
    "\n",
    "Esse metódo é conhecido como Power Iteration Method, ou Metódo das Potências. O metódo converge sob certas condições, como a matriz $\\boldsymbol{A}$ ser simétrica e possuir um maior autovalor em módulo.<br>\n",
    "Dada estas condições, o metódo consegue fornecer uma boa aproximação do 'maior' autovetor e seu autovalor."
   ]
  },
  {
   "cell_type": "markdown",
   "metadata": {},
   "source": [
    "## Preparativos\n",
    "$\\renewcommand{\\blacksquare}{\\texttt{Q.E.D.}}$\n",
    "###### Definição: Autovalor e autovetor dominante\n",
    "Seja $\\{\\lambda_i\\}_{i \\in \\{1,\\dots,n\\}}$ autovalores de uma matriz $\\boldsymbol{A} \\, \\scriptsize{n \\times n}$.<br>\n",
    "$\\lambda_k \\in \\{\\lambda_i\\}_{i \\in \\{1,\\dots,n\\}}$ é dito autovalor dominante de $\\boldsymbol{A}$ se:\n",
    "$$\n",
    "|\\lambda_k| > |\\lambda_i|, \\forall i \\in \\{1,\\dots,n\\}\\setminus \\{k\\}\n",
    "$$\n",
    "O autovetor $\\boldsymbol{v_k}$ correspondente ao autovalor $\\lambda_k$ dominante é dito autovetor dominante. \n",
    "\n",
    "###### Produto de vetor linha e sua transposta\n",
    "Tomando um vetor $\\boldsymbol{v} \\in \\mathbb{R}^n$, vamos utilizar o seguinte fato\n",
    "$$\n",
    "\\boldsymbol{v} \\cdot \\boldsymbol{v^T} = ||\\boldsymbol{v}||^2\n",
    "$$\n",
    "Onde $\\odot$ denota a operação de produto de matrizes, para facilitar a notação escreveremos apenas $\\boldsymbol{vv^T}$\n",
    "\n",
    "---\n",
    "\n",
    "Proof: $\\boldsymbol{v}$ é uma matriz $\\scriptsize{1 \\times n}$, $\\boldsymbol{v^T}$ é então uma matriz $\\scriptsize{n \\times 1}$, logo o produto será uma matriz $\\scriptsize{1\\times1}$, que pode ser visto como um escalar.<br>\n",
    "Como estamos lidando com uma matriz e sua transposta, teremos a seguinte relação: seja $a_{i,j}$ o elemento associado a linha $i$ e coluna $j$ de $\\boldsymbol{v}$, então este mesmo elemento estará em $b_{j,i}$, elemento de $\\boldsymbol{v^T}$.<br>\n",
    "Seja $u_{1,1}$ o elemento único da matriz produto $\\boldsymbol{U}$ e utilizando o fato que $a_{i,j} = b_{j,i}$, temos:\n",
    "$$\n",
    "\\boldsymbol{U} = \\boldsymbol{vv^T}\\\\\n",
    "u_{1,1} = a_{1,1} \\cdot b_{1,1} + a_{1,2} \\cdot b_{2,1} + \\dots + a_{1,n} \\cdot b_{n,1}\\\\\n",
    "u_{1,1} = \\sum_{j = 1}^{n} a_{1,j}^2 \\\\\n",
    "\\therefore u_{1,1} = ||\\boldsymbol{v}||^2\\\\\n",
    "$$\n",
    "<div style=\"text-align: right\">$\\blacksquare$</div>\n",
    "\n",
    "---\n",
    "#### Calculando o autovalor - O quociente de Rayleigh\n",
    "Seja $\\boldsymbol{v}$ um autovetor associado a uma matriz $\\boldsymbol{A}$ de transformação linear, vamos olhar para seu autovalor\n",
    "$$\n",
    "\\boldsymbol{Av} = \\lambda \\boldsymbol{v}\\\\\n",
    "\\boldsymbol{v^T A v} = \\boldsymbol{v^T} \\lambda \\boldsymbol{v} \\\\\n",
    "\\boldsymbol{v^T A v} = \\lambda (\\boldsymbol{v^T v}) \\\\\n",
    "\\boldsymbol{A v} = \\lambda ||\\boldsymbol{v}||^2 \\\\\n",
    "\\therefore\n",
    "\\lambda = \\frac{\\boldsymbol{v^T A v}}{||\\boldsymbol{v}||^2}\n",
    "$$\n",
    "\n",
    "Esta aproximação, chamada de quociente de Rayleigh provem de um teorema creditado a John William Rayleigh (1842-1919). Esta fórmula será útil para estimarmos o autovalor e criar um critério de parada"
   ]
  },
  {
   "cell_type": "code",
   "execution_count": 2,
   "metadata": {},
   "outputs": [],
   "source": [
    "## Implementação do algoritmo acima para estimar um valor aproximado para o autovalor associado\n",
    "## ao autovetor v da matriz A\n",
    "\n",
    "def evalue_estimate(A,v):\n",
    "    norm2 = np.linalg.norm(v)**2 # Norma ao quadrado do vetor v\n",
    "    r = v.T@A@v  # v^T A v\n",
    "    return (r / norm2)"
   ]
  },
  {
   "cell_type": "markdown",
   "metadata": {},
   "source": [
    "###### Um critério de parada\n",
    "\n",
    "Tendo em mãos um candidato a autovetor $\\boldsymbol{v}$ da matriz $\\boldsymbol{A}$ como podemos verificar se este é de fato um autovetor?<br>\n",
    "Bom, se for um autovetor, então a seguinte relação é verdadeira:\n",
    "$$\n",
    "\\boldsymbol{Av} = \\lambda \\boldsymbol{v} \\\\\n",
    "||\\boldsymbol{Av}|| - ||\\lambda \\boldsymbol{v}|| = 0 \\\\\n",
    "$$\n",
    "\n",
    "Assumindo que sabemos quem é a matriz, e tendo o candidato a autovetor, podemos calcular seu autovalor pelo quociente de Rayleigh, caso seja realmente um autovetor então a segunda relação descrita nos fornece um bom critério de parada, como estamos lidando com metódos numéricos, assumimos uma tolerância a erro $\\epsilon$\n",
    "\n",
    "$$\n",
    "||\\boldsymbol{Av}|| - ||\\lambda \\boldsymbol{v}|| < \\epsilon \\\\\n",
    "$$\n",
    "\n",
    "Temos agora um critério de parada para o algoritmo a ser construído"
   ]
  },
  {
   "cell_type": "markdown",
   "metadata": {},
   "source": [
    "## O Algoritmo\n",
    "\n",
    "Seja $\\boldsymbol{A} \\in \\mathbb{R^{n\\times n}}$ uma matriz que admita uma base de autovetores, vamos tomar uma matriz simétrica e que possua autovetor e autovalor dominantes, então é possível construir uma sequência que converge para o autovetor e autovalor dominante da transformação linear<br>\n",
    "\n",
    "<br>Seja $\\boldsymbol{u_0} \\in \\mathbb{R}$ um vetor qualquer, tomamos $\\boldsymbol{x_0} = \\frac{ \\boldsymbol{u_0}}{||\\boldsymbol{u_0}||}$, o próximo termo da sequência é dado aplicando a transformação em  $\\boldsymbol{x_0}$ e normalizando\n",
    "\n",
    "$$\n",
    "\\boldsymbol{x_1} = \\boldsymbol{A}\\frac{\\boldsymbol{x_0}}{||\\boldsymbol{x_0}||}\\\\\n",
    "\\vdots\\\\\n",
    "\\boldsymbol{x_{k+1}} = \\boldsymbol{A}\\frac{\\boldsymbol{x_k}}{||\\boldsymbol{x_k}||} = \\boldsymbol{A^k}\\frac{\\boldsymbol{x_0}}{||\\boldsymbol{x_0}||}\\\\\n",
    "k \\to \\infty \\implies \\boldsymbol{x_{k+1}} \\to \\boldsymbol{v}\n",
    "$$\n",
    "Onde $\\boldsymbol{v}$ é o autovetor dominante\n",
    "\n",
    "---\n",
    "\n",
    "Proof: Como a matriz admite base de autovetores, tomamos então esta base $\\{\\boldsymbol{v_1},\\dots , \\boldsymbol{v_n}\\}$<br>\n",
    "Dado um vetor $\\boldsymbol{x_0}$, podemos escrever como combinação linear dos vetores da base\n",
    "$$\n",
    "\\boldsymbol{x_k} = c_1 \\boldsymbol{v_1} + c_2 \\boldsymbol{v_2} + c_3 \\boldsymbol{v_3} + \\dots + c_n \\boldsymbol{v_n}  \n",
    "$$\n",
    "Aplicando a transformação linear $k$ vezes e utilizando o fato que $\\boldsymbol{v_i}$ é autovetor\n",
    "$$\n",
    "\\boldsymbol{A^k} \\boldsymbol{x_k} = \\lambda_1^k c_1 \\boldsymbol{v_1} + \\lambda_2^k c_2 \\boldsymbol{v_2} + \\lambda_3^k c_3 \\boldsymbol{v_3} + \\dots + \\lambda_n^k c_n \\boldsymbol{v_n}  \n",
    "$$\n",
    "Como a soma de reais é comutativa, podemos reorganizar os termos de modo que $\\lambda_1$ seja o autovalor dominante, e fatorando este autovalor teremos\n",
    "$$\n",
    "\\boldsymbol{A^k} \\boldsymbol{x_k} = \\lambda_1^k \\left(c_1 \\boldsymbol{v_1} + \\frac{\\lambda_2^k}{\\lambda_1^k} c_2 \\boldsymbol{v_2} + \\frac{\\lambda_3^k}{\\lambda_3^k} c_3 \\boldsymbol{v_3} + \\dots + \\frac{\\lambda_n^k}{\\lambda_1^k} c_n \\boldsymbol{v_n}\\right)  \n",
    "$$\n",
    "Como $\\lambda_1$ é autovalor dominante, temos: \n",
    "$$\n",
    "lim_{k\\to \\infty} \\left|\\frac{\\lambda_i^k}{\\lambda_1^k}\\right| = 0\n",
    "$$\n",
    "Portanto\n",
    "$$\n",
    "\\boldsymbol{A^k} \\boldsymbol{x_k} = \\lambda_1^k \\left(c_1 \\boldsymbol{v_1} + 0 c_2 \\boldsymbol{v_2} + 0 c_3 \\boldsymbol{v_3} + \\dots + 0 c_n \\boldsymbol{v_n}\\right) \\\\\n",
    "\\boldsymbol{A^k} \\boldsymbol{x_k} = \\lambda_1^k c_1 \\boldsymbol{v_1}\n",
    "$$\n",
    "E\n",
    "$$\n",
    "\\boldsymbol{x_{k+1}} = \\boldsymbol{A} \\frac{\\boldsymbol{x_k}}{||\\boldsymbol{x_k}||} = \\lambda \\frac{\\boldsymbol{x_k}}{||\\boldsymbol{x_k}||}\n",
    "$$\n",
    "$ \\therefore \\boldsymbol{x_{k+1}}$ é um autovetor com módulo igual a seu autovalor\n",
    "<div style=\"text-align: right\">$\\blacksquare$</div>\n",
    "\n",
    "---"
   ]
  },
  {
   "cell_type": "code",
   "execution_count": 3,
   "metadata": {},
   "outputs": [],
   "source": [
    "# Implementação númerica\n",
    "def power_iter(A, tol=1e-12): # Recebe uma matriz A quadrada e uma tolerância de erro\n",
    "    n,m = np.shape(A)\n",
    "    assert n==m, 'Matriz A deve ser quadrada'\n",
    "    \n",
    "    u = np.random.rand(n) # Gera um vetor qualquer\n",
    "    control = False\n",
    "    while control == False:\n",
    "        u = A@u # Aplica a transformação linear\n",
    "        u_norm = np.linalg.norm(u)\n",
    "        u *= 1/u_norm # Normaliza\n",
    "        l = evalue_estimate(A,u) # Estimador de autovalor \n",
    "        err = np.linalg.norm(A@u - l*u)\n",
    "        if(err < tol): control = True\n",
    "    return u,l"
   ]
  },
  {
   "cell_type": "markdown",
   "metadata": {},
   "source": [
    "## Testando  o metódo\n",
    "\n",
    "Para testar se nosso metódo está funcionando bem, podemos utilizar da função `np.linalg.eig` da biblioteca `numpy`, por ser uma biblioteca númerica muito usada, podemos depositar uma 'confiança' e usar como uma referência para testar nosso algoritmo.<br>\n",
    "A ideia aqui é simples, gerar aleatoriamente uma matriz $\\boldsymbol{A}$ e encontrar um autovetor e um autovalor $p\\_v$ e $p\\_l$ pelo metódo das potências, e utilizar `np.linalg.eig` para retornar uma lista de todos os autovetores e autovalores da matriz, após isso pegamos o maior autovalor em módulo e seu autovetor associado e comparamos com $p\\_v$ e $p\\_l$, dada uma tolerância de $\\scriptsize{10 ^{-12}}$"
   ]
  },
  {
   "cell_type": "code",
   "execution_count": 4,
   "metadata": {},
   "outputs": [],
   "source": [
    "## Gerando 500 matrizes de tamanhos diferentes e comparando com o metódo do numpy, tol = 10^-8\n",
    "for i in range(500):\n",
    "    n = np.random.rand(1)\n",
    "    t = np.random.rand(1)*100\n",
    "    n = int(n*t)\n",
    "    if n == 0:\n",
    "          n = 1\n",
    "    A = np.random.rand(n,n) # Gera a matriz\n",
    "    p_v, p_l = power_iter(A) # autovetor e autovalor dominante\n",
    "    l, w = np.linalg.eig(A) # numpy\n",
    "    l_i = np.argmax(l) # indice do autovalor dominante\n",
    "    l = l[l_i] # autovalor dominante pelo numpy\n",
    "    w = w[:,l_i] # autovetor dominante pelo numpy\n",
    "    assert np.allclose(abs(w), abs(p_v), rtol=1e-8, atol=0)"
   ]
  }
 ],
 "metadata": {
  "kernelspec": {
   "display_name": "Python 3",
   "language": "python",
   "name": "python3"
  },
  "language_info": {
   "codemirror_mode": {
    "name": "ipython",
    "version": 3
   },
   "file_extension": ".py",
   "mimetype": "text/x-python",
   "name": "python",
   "nbconvert_exporter": "python",
   "pygments_lexer": "ipython3",
   "version": "3.7.1"
  }
 },
 "nbformat": 4,
 "nbformat_minor": 2
}
