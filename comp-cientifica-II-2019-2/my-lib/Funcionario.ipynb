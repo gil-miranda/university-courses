{
 "cells": [
  {
   "cell_type": "code",
   "execution_count": 1,
   "metadata": {},
   "outputs": [],
   "source": [
    "import matplotlib.pyplot as plt\n",
    "import numpy as np"
   ]
  },
  {
   "cell_type": "code",
   "execution_count": 8,
   "metadata": {},
   "outputs": [],
   "source": [
    "##### Vectorized forward euler\n",
    "### Input:  F -> Differential equation;\n",
    "###         y0 -> list or scalar for initial condition;\n",
    "###         ts -> list of points in time to evaluate the equation;\n",
    "###         p -> list or scalar for parameters for F, default is set to 0 if F has no extra parameters;\n",
    "### Output: ys -> numpy array with all solutions for each step t, ys is a Matrix\n",
    "##### Gil Miranda - last revision 15/09/2019\n",
    "def f_euler(F, ts, y0, p = 0):\n",
    "    ys = [y0]\n",
    "    h = ts[1]-ts[0]\n",
    "    for tnext in ts[1:]:\n",
    "        ynext = ys[-1] + F(tnext, ys[-1], p)*h\n",
    "        ys.append(ynext)\n",
    "        t = tnext\n",
    "    return np.array(ys)"
   ]
  },
  {
   "cell_type": "code",
   "execution_count": 52,
   "metadata": {},
   "outputs": [],
   "source": [
    "##### Vectorized Runge Kutta 4th Order\n",
    "### Input:  F -> Differential equation;\n",
    "###         y0 -> list or scalar for initial condition;\n",
    "###         ts -> list of points in time to evaluate the equation;\n",
    "###         p -> list or scalar for parameters for F, default is set to 0 if F has no extra parameters;\n",
    "### Output: ys -> numpy array with all solutions for each step t, ys is a Matrix\n",
    "##### Gil Miranda - last revision 15/09/2019\n",
    "def rk_4(F, ts, y0, p = 0):\n",
    "    ys = [y0]\n",
    "    t = ts[0]\n",
    "    h = ts[1] - ts[0]\n",
    "    for tnext in ts:\n",
    "        k1 = F(t, ys[-1], p)\n",
    "        k2 = F(t + h/2, ys[-1] + k1/2, p)\n",
    "        k3 = F(t + h/2, ys[-1] + k2/2, p)\n",
    "        k4 = F(t + h, ys[-1] + k3)\n",
    "        ynext = ys[-1] + h*(k1/6+k2/3+k3/3+k4/6)\n",
    "        ys.append(ynext)\n",
    "        t = tnext\n",
    "    return np.array(ys[:-1])"
   ]
  },
  {
   "cell_type": "code",
   "execution_count": 53,
   "metadata": {},
   "outputs": [],
   "source": [
    "##### Vectorized Runge Kutta 2/3 Order\n",
    "### Input:  F -> Differential equation;\n",
    "###         y0 -> list or scalar for initial condition;\n",
    "###         ts -> list of points in time to evaluate the equation;\n",
    "###         p -> list or scalar for parameters for F, default is set to 0 if F has no extra parameters;\n",
    "### Output: ys -> numpy array with all solutions for each step t, ys is a Matrix\n",
    "##### Gil Miranda - last revision 15/09/2019\n",
    "def rk_23(F, ts, y0, p = 0):\n",
    "    ys = [y0]\n",
    "    ys_til = [y0]\n",
    "    t = ts[0]\n",
    "    h = ts[1] - ts[0]\n",
    "    for tnext in ts:\n",
    "        k1 = F(t, ys[-1], p)\n",
    "        k2 = F(t + h/2, ys[-1] + k1/2, p)\n",
    "        k3 = F(t + 3*h/4, ys[-1] + 3*h*k2/4, p)\n",
    "        k4 = F(t + h, ys[-1] + h/9 * (2*k1 + 3*k2 + 4*k3))\n",
    "        ynext = ys[-1] + h/9 * (2*k1+3*k2+4*k3)\n",
    "        ynext_til = ys[-1] + h/24 * (7*k1+6*k2+8*k3+3*k4)\n",
    "        ys.append(ynext)\n",
    "        ys_til.append(ynext_til)\n",
    "        t = tnext\n",
    "    return np.array(ys[:-1]),np.array(ys_til[:-1])"
   ]
  },
  {
   "cell_type": "code",
   "execution_count": 54,
   "metadata": {},
   "outputs": [],
   "source": [
    "def dif_eq1(t, u, p = 0):\n",
    "    return -5*u"
   ]
  },
  {
   "cell_type": "code",
   "execution_count": 55,
   "metadata": {},
   "outputs": [],
   "source": [
    "ts = np.arange(-2,2,0.1)\n",
    "ys_e = f_euler(dif_eq1, ts, 1)\n",
    "ys_rk4 = rk_4(dif_eq1, ts, 1)\n",
    "ys_rk23 = rk_23(dif_eq1, ts, 1)"
   ]
  },
  {
   "cell_type": "code",
   "execution_count": 56,
   "metadata": {},
   "outputs": [
    {
     "data": {
      "image/png": "[encoded data removed]",
      "text/plain": [
       "<Figure size 432x288 with 1 Axes>"
      ]
     },
     "metadata": {
      "needs_background": "light"
     },
     "output_type": "display_data"
    }
   ],
   "source": [
    "for (m,n) in zip([ys_e, ys_rk23[1], ys_rk4],['Euler', 'Rk23', 'Rk4']):\n",
    "    plt.plot(ts, m, label = n)\n",
    "plt.legend()\n",
    "plt.show()"
   ]
  },
  {
   "cell_type": "code",
   "execution_count": 42,
   "metadata": {},
   "outputs": [
    {
     "data": {
      "text/plain": [
       "0.5000000000000022"
      ]
     },
     "execution_count": 42,
     "metadata": {},
     "output_type": "execute_result"
    }
   ],
   "source": [
    "ts[25]"
   ]
  },
  {
   "cell_type": "code",
   "execution_count": 46,
   "metadata": {},
   "outputs": [
    {
     "data": {
      "text/plain": [
       "(2.980232238769465e-08, 3.7637209499833537e-06, 0.0026877676182289513)"
      ]
     },
     "execution_count": 46,
     "metadata": {},
     "output_type": "execute_result"
    }
   ],
   "source": [
    "ys_e[25], ys_rk4[25], ys_rk23[1][25]"
   ]
  },
  {
   "cell_type": "code",
   "execution_count": null,
   "metadata": {},
   "outputs": [],
   "source": []
  }
 ],
 "metadata": {
  "kernelspec": {
   "display_name": "Python 3",
   "language": "python",
   "name": "python3"
  },
  "language_info": {
   "codemirror_mode": {
    "name": "ipython",
    "version": 3
   },
   "file_extension": ".py",
   "mimetype": "text/x-python",
   "name": "python",
   "nbconvert_exporter": "python",
   "pygments_lexer": "ipython3",
   "version": "3.8.0"
  }
 },
 "nbformat": 4,
 "nbformat_minor": 2
}
