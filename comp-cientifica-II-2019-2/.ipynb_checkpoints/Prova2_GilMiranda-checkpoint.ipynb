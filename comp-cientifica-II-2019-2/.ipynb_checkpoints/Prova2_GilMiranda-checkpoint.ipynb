{
 "cells": [
  {
   "cell_type": "markdown",
   "metadata": {},
   "source": [
    "# Prova II- Computação Centífica II\n",
    "> Autor: Gil Miranda<br>\n",
    "> Contato: gil.neto@ufrj.br; gilsmneto@gmail.com"
   ]
  },
  {
   "cell_type": "markdown",
   "metadata": {},
   "source": [
    "## Set-up of dependencies and libraries"
   ]
  },
  {
   "cell_type": "code",
   "execution_count": 2,
   "metadata": {},
   "outputs": [],
   "source": [
    "import numpy as np\n",
    "import matplotlib.pyplot as plt\n",
    "import scipy.integrate"
   ]
  },
  {
   "cell_type": "markdown",
   "metadata": {},
   "source": [
    "## The equation to solve"
   ]
  },
  {
   "cell_type": "markdown",
   "metadata": {},
   "source": [
    "$$\n",
    "\\epsilon \\frac{\\mathrm{d}^2u}{\\mathrm{d}x^2} + 2(1-x^2)u + u^2 = 1\n",
    "$$\n",
    "\n",
    "$$\n",
    "\\frac{\\mathrm{d}^2u}{\\mathrm{d}x^2} = \\frac{1 - 2(1-x^2)u - u^2}{\\epsilon}\n",
    "$$\n",
    "\n",
    "Tomando $\\frac{\\mathrm{d}^2u}{\\mathrm{d}x^2} = f(x)$, e uma solução como $u(x) \\approx u_h(x) = \\displaystyle\\sum^N_{j = 1} c_j \\varphi_j(x)$, podemos reescrever o problema em forma de um sistema\n",
    "$$\n",
    "A\\vec{c} = \\vec{f}\n",
    "$$\n",
    "\n",
    "Onde\n",
    "$$\n",
    "f_i = \\int^1_{-1}f(x)\\varphi_i \\mathrm{d}x\n",
    "$$\n",
    "$$\n",
    "A_{ij} = \\int^1_{-1}\\frac{\\mathrm{d}\\varphi_j}{\\mathrm{d}x}\\frac{\\mathrm{d}\\varphi_i}{\\mathrm{d}x} \\mathrm{d}x\n",
    "$$\n",
    "e $c_j$ podemos descobrir resolvendo o sistema, daí podemos utilizar a solução aproximada $u_h(x)$"
   ]
  },
  {
   "cell_type": "markdown",
   "metadata": {},
   "source": [
    "### Calculando a matriz A\n",
    "\n",
    "Vamos calcular primeiro os termos da matriz A, para isso resolvemos a integral acima, temos:\n",
    "$$\n",
    "\\varphi_j = sen(j\\pi x)\\\\\n",
    "\\frac{\\mathrm{d}\\varphi_j}{\\mathrm{d}x} = j\\pi cos(j \\pi x)\n",
    "$$\n",
    "Então a integral a ser resolvida é:\n",
    "$$\n",
    "\\int^1_{-1}(j\\pi cos(j \\pi x))(i\\pi cos(i \\pi x)) \\mathrm{d}x\n",
    "$$\n",
    "E utilizando a identidade: $cos(a)cos(b) = \\frac{1}{2}(cos(a+b)+cos(a-b))$, podemos resolver a integral\n",
    "$$\n",
    "\\begin{align}\n",
    "\\int^1_{-1}\\frac{\\pi^2 ij}{2} cos(\\pi x(j+i)) + cos(\\pi x(j-i)) \\mathrm{d}x &= \\frac{\\pi^2 ij}{2} \\left(\\int^1_{-1} cos(\\pi x(j+i))\\mathrm{d}x + \\int^1_{-1}cos(\\pi x(j-i)) \\mathrm{d}x \\right)\\\\\n",
    "&= \\frac{\\pi^2 ij}{2} \\left(\\frac{sen(\\pi x(j+i))}{\\pi(i+j)} + \\frac{sen(\\pi x(j-i))}{\\pi(j-i)}\\right)\\Big|_{-1}^{1}\\\\\n",
    "&= \\frac{\\pi^2 ij}{2} \\left(\\frac{sen(\\pi(j+i))}{\\pi(i+j)} + \\frac{sen(\\pi(j-i))}{\\pi(j-i)} - \\frac{sen(-\\pi(j+i))}{\\pi(i+j)} - \\frac{sen(-\\pi(j-i))}{\\pi(j-i)}\\right)\\\\\n",
    "&\\text{Como $j, i$ são números inteiros, temos que sua soma também é, e como $sen(n\\pi) = 0, n \\in \\mathbb{N}$}\\\\\n",
    "&= 0\n",
    "\\end{align}\n",
    "$$\n",
    "Portanto a integral é $0$, mas temos uma restrição em $i,j$ por conta do termo $(j-i)$ sendo dividido não podemos ter $j = i$ nesta integral, logo só é válida para $i \\neq j$, portanto\n",
    "$$A_{ij} = 0, \\, \\forall i \\neq j$$\n",
    "Olhando para o caso $i = j$, temos:\n",
    "$$\n",
    "\\int^1_{-1}(j\\pi cos(j \\pi x))(i\\pi cos(i \\pi x)) \\mathrm{d}x = \\int^1_{-1}j^2\\pi^2 cos^2(j \\pi x) \\mathrm{d}x\n",
    "$$\n",
    "E usando a identidade $cos^2(x) =  \\frac{1}{2}(1 + cos(2x)$\n",
    "$$\n",
    "\\begin{align}\n",
    "\\int^1_{-1}j^2\\pi^2 cos^2(j \\pi x) \\mathrm{d}x &= \\int^1_{-1}\\frac{j^2\\pi^2}{2} (1 + cos(2j \\pi x) ) \\mathrm{d}x\\\\\n",
    "&= \\frac{j^2\\pi^2}{2}\\int^1_{-1} (1 + cos(2j \\pi x) ) \\mathrm{d}x\\\\\n",
    "&= \\frac{j^2\\pi^2}{2}\\left(\\int^1_{-1} 1 \\mathrm{d}x + \\int^1_{-1} cos(2j \\pi x) ) \\mathrm{d}x\\right)\\\\\n",
    "&= \\frac{j^2\\pi^2}{2}\\left(x\\Big|_{-1}^{1} + \\frac{sen(2j \\pi x)}{2\\pi j}\\Big|_{-1}^{1}\\right)\\\\\n",
    "&= j^2\\pi^2\n",
    "\\end{align}\n",
    "$$\n",
    "Logo, para os elementos de $A$ com $i = j$, temos $A_{ij} = j^2 \\pi^2$"
   ]
  },
  {
   "cell_type": "markdown",
   "metadata": {},
   "source": [
    "### Defining necessaries"
   ]
  },
  {
   "cell_type": "code",
   "execution_count": null,
   "metadata": {},
   "outputs": [],
   "source": [
    "N = 5\n",
    "xs = np.linspace(-1,1,N)\n",
    "def base(j, x):\n",
    "    return np.sin(j*np.pi*x)"
   ]
  },
  {
   "cell_type": "code",
   "execution_count": null,
   "metadata": {},
   "outputs": [],
   "source": [
    "## Defining the Integrals of the basis function\n",
    "\n",
    "def F1(j,i,x):\n",
    "    a = (np.pi*i*j/2)\n",
    "    b = np.sin(np.pi*x*(i+j))/(i+j)\n",
    "    c = np.sin(np.pi*x*(j-i))/(j-i)\n",
    "    return a*(b+c)\n",
    "\n",
    "def F2(j):\n",
    "    #a = np.sin(2*np.pi*j*x)/np.pi*j\n",
    "    return (j**2)*(np.pi**2)"
   ]
  },
  {
   "cell_type": "code",
   "execution_count": null,
   "metadata": {},
   "outputs": [],
   "source": [
    "def F3(i,x):\n",
    "    return (i**2)*(np.pi**2)"
   ]
  },
  {
   "cell_type": "code",
   "execution_count": null,
   "metadata": {},
   "outputs": [],
   "source": [
    "A = np.zeros((N,N))"
   ]
  },
  {
   "cell_type": "code",
   "execution_count": null,
   "metadata": {},
   "outputs": [],
   "source": [
    "for i in range(N):\n",
    "    for j in range(N):\n",
    "        if i == j:\n",
    "            A[i][j] = F2(i+1)\n",
    "        else:\n",
    "            A[i][j] = F1(j+1,i+1,1) - F1(j+1,i+1, -1)"
   ]
  },
  {
   "cell_type": "code",
   "execution_count": null,
   "metadata": {},
   "outputs": [],
   "source": [
    "A"
   ]
  },
  {
   "cell_type": "code",
   "execution_count": null,
   "metadata": {},
   "outputs": [],
   "source": []
  }
 ],
 "metadata": {
  "kernelspec": {
   "display_name": "Python 3",
   "language": "python",
   "name": "python3"
  },
  "language_info": {
   "codemirror_mode": {
    "name": "ipython",
    "version": 3
   },
   "file_extension": ".py",
   "mimetype": "text/x-python",
   "name": "python",
   "nbconvert_exporter": "python",
   "pygments_lexer": "ipython3",
   "version": "3.7.3"
  }
 },
 "nbformat": 4,
 "nbformat_minor": 2
}
