{
 "cells": [
  {
   "cell_type": "markdown",
   "metadata": {},
   "source": [
    "# Prova II- Computação Centífica II\n",
    "> Autor: Gil Miranda<br>\n",
    "> Contato: gil.neto@ufrj.br; gilsmneto@gmail.com"
   ]
  },
  {
   "cell_type": "markdown",
   "metadata": {},
   "source": [
    "## Set-up of dependencies and libraries"
   ]
  },
  {
   "cell_type": "code",
   "execution_count": 1,
   "metadata": {},
   "outputs": [],
   "source": [
    "import numpy as np\n",
    "import matplotlib.pyplot as plt\n",
    "import scipy.integrate\n",
    "\n",
    "##### Vectorized Runge Kutta 4th Order\n",
    "### Input:  F -> Differential equation;\n",
    "###         y0 -> list or scalar for initial condition;\n",
    "###         ts -> list of points in time to evaluate the equation;\n",
    "###         p -> list or scalar for parameters for F, default is set to 0 if F has no extra parameters;\n",
    "### Output: ys -> numpy array with all solutions for each step t, ys is a Matrix\n",
    "##### Gil Miranda - last revision 26/10/2019\n",
    "def rk_4(F, ts, y0, p = 0):\n",
    "    ys = [y0]\n",
    "    t = ts[0]\n",
    "    h = ts[1] - ts[0]\n",
    "    for tnext in ts:\n",
    "        k1 = h*F(t, ys[-1], p)\n",
    "        k2 = h*F(t + h/2, ys[-1] + k1/2, p)\n",
    "        k3 = h*F(t + h/2, ys[-1] + k2/2, p)\n",
    "        k4 = h*F(t + h, ys[-1] + k3)\n",
    "        ynext = ys[-1] + (k1/6+k2/3+k3/3+k4/6)\n",
    "        ys.append(ynext)\n",
    "        t = tnext\n",
    "    return np.array(ys[:-1])\n",
    "\n",
    "##### Secant method for fixed point\n",
    "##### Gil Miranda - last revision 24/11/2019\n",
    "def sec(f,x,y, prec=1e-8, tol=1e-8, maxiter=200):\n",
    "    if maxiter == 0:\n",
    "        return None\n",
    "    dx = f(x)*(x-y)/(f(x)-f(y))\n",
    "    newx = x - dx\n",
    "    if abs(f(newx)-f(x))>tol:\n",
    "        if abs(dx) < prec:\n",
    "            return newx\n",
    "        else:\n",
    "            return sec(f,y,newx, prec=prec,maxiter=maxiter-1)\n",
    "    else:\n",
    "        return newx\n",
    "\n",
    "##### Shooting method\n",
    "##### Gil Miranda - last revision 24/11/2019    \n",
    "def shooting(F, y0, s, ts, beta = 0, p = 1):\n",
    "    def f(S):\n",
    "        return rk_4(F, ts,  [y0[0],S], p)[-1][0]-beta\n",
    "    return sec(f, y0[0], s)"
   ]
  },
  {
   "cell_type": "markdown",
   "metadata": {},
   "source": [
    "### Definindo constantes e funções necessárias"
   ]
  },
  {
   "cell_type": "code",
   "execution_count": 2,
   "metadata": {},
   "outputs": [],
   "source": [
    "N = 50 ## Number of grid points\n",
    "xs = np.linspace(-1,1,N) ## creating the grid\n",
    "eps = 1 ## epsilon\n",
    "\n",
    "def base(j, x): ## base function phi(x)\n",
    "    return np.sin(j*np.pi*x)"
   ]
  },
  {
   "cell_type": "markdown",
   "metadata": {},
   "source": [
    "## A equação"
   ]
  },
  {
   "cell_type": "markdown",
   "metadata": {},
   "source": [
    "$$\n",
    "\\epsilon \\frac{\\mathrm{d}^2u}{\\mathrm{d}x^2} + 2(1-x^2)u + u^2 = 1\n",
    "$$\n",
    "\n",
    "$$\n",
    "\\frac{\\mathrm{d}^2u}{\\mathrm{d}x^2} = \\frac{1 - 2(1-x^2)u - u^2}{\\epsilon}\n",
    "$$\n",
    "\n",
    "Tomando $\\frac{\\mathrm{d}^2u}{\\mathrm{d}x^2} = f(x)$, e uma solução como $u(x) \\approx u_h(x) = \\displaystyle\\sum^N_{j = 1} c_j \\varphi_j(x)$, podemos reescrever o problema em forma de um sistema\n",
    "$$\n",
    "A\\vec{c} = \\vec{f}\n",
    "$$\n",
    "\n",
    "Onde\n",
    "$$\n",
    "f_i = \\int^1_{-1}f(x)\\varphi_i \\mathrm{d}x\n",
    "$$\n",
    "$$\n",
    "A_{ij} = \\int^1_{-1}\\frac{\\mathrm{d}\\varphi_j}{\\mathrm{d}x}\\frac{\\mathrm{d}\\varphi_i}{\\mathrm{d}x} \\mathrm{d}x\n",
    "$$\n",
    "e $c_j$ podemos descobrir resolvendo o sistema, daí podemos utilizar a solução aproximada $u_h(x)$"
   ]
  },
  {
   "cell_type": "markdown",
   "metadata": {},
   "source": [
    "### Calculando a matriz A\n",
    "\n",
    "Vamos calcular primeiro os termos da matriz A, para isso resolvemos a integral acima, temos:\n",
    "$$\n",
    "\\varphi_j = sen(j\\pi x)\\\\\n",
    "\\frac{\\mathrm{d}\\varphi_j}{\\mathrm{d}x} = j\\pi cos(j \\pi x)\n",
    "$$\n",
    "Então a integral a ser resolvida é:\n",
    "$$\n",
    "\\int^1_{-1}(j\\pi cos(j \\pi x))(i\\pi cos(i \\pi x)) \\mathrm{d}x\n",
    "$$\n",
    "E utilizando a identidade: $cos(a)cos(b) = \\frac{1}{2}(cos(a+b)+cos(a-b))$, podemos resolver a integral\n",
    "$$\n",
    "\\begin{align}\n",
    "\\int^1_{-1}\\frac{\\pi^2 ij}{2} cos(\\pi x(j+i)) + cos(\\pi x(j-i)) \\mathrm{d}x &= \\frac{\\pi^2 ij}{2} \\left(\\int^1_{-1} cos(\\pi x(j+i))\\mathrm{d}x + \\int^1_{-1}cos(\\pi x(j-i)) \\mathrm{d}x \\right)\\\\\n",
    "&= \\frac{\\pi^2 ij}{2} \\left(\\frac{sen(\\pi x(j+i))}{\\pi(i+j)} + \\frac{sen(\\pi x(j-i))}{\\pi(j-i)}\\right)\\Big|_{-1}^{1}\\\\\n",
    "&= \\frac{\\pi^2 ij}{2} \\left(\\frac{sen(\\pi(j+i))}{\\pi(i+j)} + \\frac{sen(\\pi(j-i))}{\\pi(j-i)} - \\frac{sen(-\\pi(j+i))}{\\pi(i+j)} - \\frac{sen(-\\pi(j-i))}{\\pi(j-i)}\\right)\\\\\n",
    "&\\text{Como $j, i$ são números inteiros, temos que sua soma também é, e como $sen(n\\pi) = 0, n \\in \\mathbb{N}$}\\\\\n",
    "&= 0\n",
    "\\end{align}\n",
    "$$\n",
    "Portanto a integral é $0$, mas temos uma restrição em $i,j$ por conta do termo $(j-i)$ sendo dividido não podemos ter $j = i$ nesta integral, logo só é válida para $i \\neq j$, portanto\n",
    "$$A_{ij} = 0, \\, \\forall i \\neq j$$\n",
    "Olhando para o caso $i = j$, temos:\n",
    "$$\n",
    "\\int^1_{-1}(j\\pi cos(j \\pi x))(i\\pi cos(i \\pi x)) \\mathrm{d}x = \\int^1_{-1}j^2\\pi^2 cos^2(j \\pi x) \\mathrm{d}x\n",
    "$$\n",
    "E usando a identidade $cos^2(x) =  \\frac{1}{2}(1 + cos(2x)$\n",
    "$$\n",
    "\\begin{align}\n",
    "\\int^1_{-1}j^2\\pi^2 cos^2(j \\pi x) \\mathrm{d}x &= \\int^1_{-1}\\frac{j^2\\pi^2}{2} (1 + cos(2j \\pi x) ) \\mathrm{d}x\\\\\n",
    "&= \\frac{j^2\\pi^2}{2}\\int^1_{-1} (1 + cos(2j \\pi x) ) \\mathrm{d}x\\\\\n",
    "&= \\frac{j^2\\pi^2}{2}\\left(\\int^1_{-1} 1 \\mathrm{d}x + \\int^1_{-1} cos(2j \\pi x) ) \\mathrm{d}x\\right)\\\\\n",
    "&= \\frac{j^2\\pi^2}{2}\\left(x\\Big|_{-1}^{1} + \\frac{sen(2j \\pi x)}{2\\pi j}\\Big|_{-1}^{1}\\right)\\\\\n",
    "&= j^2\\pi^2\n",
    "\\end{align}\n",
    "$$\n",
    "Logo, para os elementos de $A$ com $i = j$, temos $A_{ij} = j^2 \\pi^2$"
   ]
  },
  {
   "cell_type": "code",
   "execution_count": 3,
   "metadata": {},
   "outputs": [],
   "source": [
    "## Definindo as funções que darão os valores das integrais\n",
    "\n",
    "## i != j\n",
    "def F1(j,i,x):\n",
    "    a = (np.pi*i*j/2)\n",
    "    b = np.sin(np.pi*x*(i+j))/(i+j)\n",
    "    c = np.sin(np.pi*x*(j-i))/(j-i)\n",
    "    return a*(b+c)\n",
    "\n",
    "## i = j\n",
    "def F2(j):\n",
    "    return (j**2)*(np.pi**2)"
   ]
  },
  {
   "cell_type": "code",
   "execution_count": 4,
   "metadata": {},
   "outputs": [],
   "source": [
    "## Criando a matriz A\n",
    "\n",
    "A = np.empty((N,N))\n",
    "for i in range(N):\n",
    "    for j in range(N):\n",
    "        if i == j:\n",
    "            A[i][j] = F2(i+1)\n",
    "        else:\n",
    "            A[i][j] = 0"
   ]
  },
  {
   "cell_type": "markdown",
   "metadata": {},
   "source": [
    "### Calculando o vetor f\n",
    "Como temos $f_i = \\int^{1}_{-1} f(x)\\varphi_i \\mathrm{d}x$, mas:\n",
    "$$\n",
    "f(x) = \\frac{1 - 2(1-x^2)u - u^2}{\\epsilon}\n",
    "$$\n",
    "Que depende dos termos $u(x), u(x)^2$ ao qual não conhecemos\\\\\n",
    "Precisamos de uma forma de calcular $f$ nos pontos do domínio para podermos encontrar o vetor $\\vec{f}$, para isso vamos resolver a EDO pelo metódo de Shooting, assim teremos $f(x)$ nos pontos do grid e poderemos continuar a montar nossa solução $u_h(x)$"
   ]
  },
  {
   "cell_type": "markdown",
   "metadata": {},
   "source": [
    "#### Econtrando numericamente $f(x)$"
   ]
  },
  {
   "cell_type": "markdown",
   "metadata": {},
   "source": [
    "Transformando a EDO de segunda ordem em um sistema de edos de primeira ordem\n",
    "\n",
    "$$\n",
    "\\begin{cases}\n",
    "\\frac{\\mathrm{d}u_1}{\\mathrm{d}x} &= u_2\\\\\n",
    "\\frac{\\mathrm{d}u_2}{\\mathrm{d}x} &= f(x)\n",
    "\\end{cases}\\\\\n",
    "u_1(-1) = 0\n",
    "$$"
   ]
  },
  {
   "cell_type": "code",
   "execution_count": 5,
   "metadata": {},
   "outputs": [],
   "source": [
    "def F(x, u, p = 1):\n",
    "    u1, u2 = u\n",
    "    return np.array([u2, (1-2*(1-x**2)*u1-u1**2)/p])"
   ]
  },
  {
   "cell_type": "markdown",
   "metadata": {},
   "source": [
    "Agora usamos o metódo de Shooting para transformar nosso problema de `Valor de Contorno` para um problema de `Valor inicial`, como agora temos um sistema de equações de primeira ordem, temos 2 equações mas apenas condição inicial de uma delas, com o `shooting` iremos encontrar o valor inicial da segunda "
   ]
  },
  {
   "cell_type": "code",
   "execution_count": 6,
   "metadata": {
    "scrolled": true
   },
   "outputs": [
    {
     "name": "stdout",
     "output_type": "stream",
     "text": [
      "u_2(-1) = 2.1413073185710805\n"
     ]
    }
   ],
   "source": [
    "iv = shooting(F, [0,0], 1, xs, 0, eps)\n",
    "sol = rk_4(F, xs, [0,iv], eps)\n",
    "print(f\"u_2(-1) = {iv}\")"
   ]
  },
  {
   "cell_type": "markdown",
   "metadata": {},
   "source": [
    "Com isso temos os valores da solução da Equação no grid $xs$, agora podemos utilizar esses valores para produzir a função $f(x) = \\frac{1 - 2(1-x^2)u - u^2}{\\epsilon}$"
   ]
  },
  {
   "cell_type": "code",
   "execution_count": 7,
   "metadata": {},
   "outputs": [],
   "source": [
    "def func_f(x,u):\n",
    "    return (1-2*(1-x**2)*u-u**2)/eps \n",
    "\n",
    "fx = func_f(xs, sol[:,0])"
   ]
  },
  {
   "cell_type": "code",
   "execution_count": 8,
   "metadata": {},
   "outputs": [
    {
     "data": {
      "image/png": "[encoded data removed]",
      "text/plain": [
       "<Figure size 1080x576 with 1 Axes>"
      ]
     },
     "metadata": {
      "needs_background": "light"
     },
     "output_type": "display_data"
    }
   ],
   "source": [
    "plt.figure(figsize=(15,8))\n",
    "plt.plot(xs, fx, label = '$f(x)$')\n",
    "plt.title(f\"$f(x)$ com $\\epsilon = {eps}$\")\n",
    "plt.grid(alpha = 0.5)\n",
    "plt.legend()\n",
    "plt.show()"
   ]
  },
  {
   "cell_type": "markdown",
   "metadata": {},
   "source": [
    "Agora temos os valores $f(x) = \\frac{\\mathrm{d}^2u}{\\mathrm{d}x^2}$ no grid $x$, podemos construir o vetor $\\vec{f}: f_i = \\int^1_{-1}f(x)\\varphi_i \\mathrm{d}x$, para isso vamos fazer a integração numericamente utilizando o metódo do `Trapézio`"
   ]
  },
  {
   "cell_type": "code",
   "execution_count": 9,
   "metadata": {},
   "outputs": [],
   "source": [
    "f_i = np.zeros(N)\n",
    "for i in range(N):\n",
    "    int_f = fx * base(i,xs)\n",
    "    f_i[i] = scipy.integrate.trapz(int_f, xs)"
   ]
  },
  {
   "cell_type": "markdown",
   "metadata": {},
   "source": [
    "### Encontrando o vetor $\\vec{c}$\n",
    "Do fato de que\n",
    "$$\n",
    "A \\vec{c} = \\vec{f}\n",
    "$$\n",
    "podemos tirar $\\vec{c}$ resolvendo o sistema"
   ]
  },
  {
   "cell_type": "code",
   "execution_count": 10,
   "metadata": {},
   "outputs": [],
   "source": [
    "c_i = np.linalg.solve(A,f_i)"
   ]
  },
  {
   "cell_type": "markdown",
   "metadata": {},
   "source": [
    "### Resolvendo a Equação do Problema com Elementos Finitos\n",
    "Usando o fato de que:  $u(x) \\approx u_h(x) = \\displaystyle\\sum^N_{j = 1} c_j \\varphi_j(x)$, temos agora todos os elementos para criar nossa função que aproxima a solução da equação diferencial"
   ]
  },
  {
   "cell_type": "code",
   "execution_count": 11,
   "metadata": {},
   "outputs": [],
   "source": [
    "def u_h(c):\n",
    "    def f(x):\n",
    "        soma = 0\n",
    "        for i in range(len(c)):\n",
    "            partial = c[i]*base(i+1,x)\n",
    "        soma += partial\n",
    "        return soma\n",
    "    return f"
   ]
  },
  {
   "cell_type": "code",
   "execution_count": 12,
   "metadata": {},
   "outputs": [
    {
     "data": {
      "image/png": "[encoded data removed]",
      "text/plain": [
       "<Figure size 1152x576 with 1 Axes>"
      ]
     },
     "metadata": {
      "needs_background": "light"
     },
     "output_type": "display_data"
    }
   ],
   "source": [
    "plt.figure(figsize=(16,8))\n",
    "plt.plot(xs, u_h(c_i)(xs))\n",
    "plt.grid(alpha = 0.5)\n",
    "plt.title('Solução da Equação Diferencial Utilizando F.E.M. | $\\epsilon = 1$')\n",
    "plt.show()"
   ]
  }
 ],
 "metadata": {
  "kernelspec": {
   "display_name": "Python 3",
   "language": "python",
   "name": "python3"
  },
  "language_info": {
   "codemirror_mode": {
    "name": "ipython",
    "version": 3
   },
   "file_extension": ".py",
   "mimetype": "text/x-python",
   "name": "python",
   "nbconvert_exporter": "python",
   "pygments_lexer": "ipython3",
   "version": "3.7.3"
  }
 },
 "nbformat": 4,
 "nbformat_minor": 2
}
