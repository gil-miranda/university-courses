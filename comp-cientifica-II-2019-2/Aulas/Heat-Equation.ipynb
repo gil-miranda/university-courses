{
 "cells": [
  {
   "cell_type": "markdown",
   "metadata": {},
   "source": [
    "$$\n",
    "-\\nabla(k\\nabla T) = 0\n",
    "$$\n",
    "<br><br>\n",
    "Condições de contorno:\n",
    "$$\n",
    "\\begin{cases}\n",
    "\\frac{\\partial T}{\\partial y}(x,0) = 0\\\\\n",
    "T(0,y) = Tleft\\\\\n",
    "\\frac{\\partial T}{\\partial y}(1,1)= 0\\\\\n",
    "T(1,y) = Tright\\\\\n",
    "\\end{cases}\n",
    "$$\n",
    "\n",
    "$$\n",
    "-\\frac{\\partial}{\\partial x}(k\\frac{\\partial T}{\\partial x})-\\frac{\\partial}{\\partial y}(k\\frac{\\partial T}{\\partial y}) = 0\\\\\n",
    "$$\n",
    "Discretizando <br>\n",
    "\n",
    "$$\n",
    "\\frac{k_{i+\\frac{1}{2},j}\\left(\\frac{T_{i+1,j} - T_{i,j}}{h_x}\\right) - k_{i-\\frac{1}{2}}\\left(\\frac{T_{i,j} - T_{i-1,j}}{h_x}\\right)}{h_x} + \\frac{k_{i+\\frac{1}{2},j}\\left(\\frac{T_{i,j+1} - T_{i,j}}{h_y}\\right) - k_{i-\\frac{1}{2}}\\left(\\frac{T_{i,j} - T_{i,j-1}}{h_y}\\right)}{h_y} = 0\n",
    "$$\n"
   ]
  },
  {
   "cell_type": "code",
   "execution_count": 1,
   "metadata": {},
   "outputs": [],
   "source": [
    "import numpy as np\n",
    "import matplotlib.pyplot as plt"
   ]
  },
  {
   "cell_type": "code",
   "execution_count": 31,
   "metadata": {},
   "outputs": [],
   "source": [
    "def f(x,y):\n",
    "    return 0\n",
    "\n",
    "def k(x,y):\n",
    "    return 410\n",
    "\n",
    "\n",
    "def solver_heat(f, Nx, Ny, cont):\n",
    "    A = []\n",
    "    b = np.zeros(Nx*Ny)\n",
    "    hx = 1/(Nx - 1)\n",
    "    hy = 1/(Ny + 1)\n",
    "    xs = [0]*Nx\n",
    "    ys = [0]*Ny\n",
    "    xs[0] = 0\n",
    "    ys[0] = hy\n",
    "    print(Nx*Ny)\n",
    "    for n in range(0,Nx*Ny):\n",
    "        j = n//Nx +1\n",
    "        i = n-Nx*(j-1)\n",
    "        print(f'{i} - {j}')\n",
    "        a = np.zeros(Nx*Ny)\n",
    "        a[n] = 1/hx * (k(xs[i-1], 0))\n",
    "        b[n] = 0\n",
    "        \n",
    "        ## Definindo os passos\n",
    "        ys[j-1] = j*hy\n",
    "        xs[i-1] = (i-1)*hx\n",
    "        y_half = ys[j-1] + hy/2\n",
    "        x_half = xs[i-1] + hx/2\n",
    "        \n",
    "        if i == 1:\n",
    "            b[n] += cont[1]\n",
    "        else:\n",
    "            a[n-1] = -1\n",
    "        \n",
    "        if i == Nx:\n",
    "            b[n] += cont[3]\n",
    "        else:\n",
    "            a[n] = -1\n",
    "        \n",
    "        if j == 1:\n",
    "            b[n] += cont[2]\n",
    "        else:\n",
    "            a[n-Nx] = -1\n",
    "        \n",
    "        if j == Ny:\n",
    "            b[n] += cont[0]\n",
    "        else:\n",
    "            a[n+Ny] = -1\n",
    "        A.append(a)\n",
    "    ys = np.linalg.solve(A,b)\n",
    "    M = []\n",
    "    for i in range(0,Nx*Ny,Nx):\n",
    "        m = ys[i:i+Nx]\n",
    "        M.append(m)\n",
    "    return M, ys"
   ]
  },
  {
   "cell_type": "code",
   "execution_count": 38,
   "metadata": {},
   "outputs": [
    {
     "name": "stdout",
     "output_type": "stream",
     "text": [
      "16\n",
      "0 - 1\n",
      "1 - 1\n",
      "2 - 1\n",
      "3 - 1\n",
      "0 - 2\n",
      "1 - 2\n",
      "2 - 2\n",
      "3 - 2\n",
      "0 - 3\n",
      "1 - 3\n",
      "2 - 3\n",
      "3 - 3\n",
      "0 - 4\n",
      "1 - 4\n",
      "2 - 4\n",
      "3 - 4\n"
     ]
    }
   ],
   "source": [
    "ys = solver_heat(f, 4, 4, [0,500,0,293])"
   ]
  },
  {
   "cell_type": "code",
   "execution_count": 41,
   "metadata": {},
   "outputs": [
    {
     "data": {
      "text/plain": [
       "array([ 2.50000000e+03, -5.00000000e+02,  1.00000000e+03, -2.50000000e+03,\n",
       "       -2.27373675e-13,  5.68434189e-14, -5.00000000e+02,  1.50000000e+03,\n",
       "       -0.00000000e+00, -5.68434189e-14, -5.00000000e+02,  1.50000000e+03,\n",
       "       -1.50000000e+03, -5.00000000e+02,  1.00000000e+03, -2.50000000e+03])"
      ]
     },
     "execution_count": 41,
     "metadata": {},
     "output_type": "execute_result"
    }
   ],
   "source": [
    "ys[1]"
   ]
  },
  {
   "cell_type": "code",
   "execution_count": 44,
   "metadata": {},
   "outputs": [
    {
     "data": {
      "text/plain": [
       "<matplotlib.contour.QuadContourSet at 0x7f9695c504c0>"
      ]
     },
     "execution_count": 44,
     "metadata": {},
     "output_type": "execute_result"
    },
    {
     "data": {
      "image/png": "[encoded data removed]",
      "text/plain": [
       "<Figure size 432x288 with 1 Axes>"
      ]
     },
     "metadata": {
      "needs_background": "light"
     },
     "output_type": "display_data"
    }
   ],
   "source": [
    "plt.contourf(ys[0])"
   ]
  },
  {
   "cell_type": "code",
   "execution_count": null,
   "metadata": {},
   "outputs": [],
   "source": []
  }
 ],
 "metadata": {
  "kernelspec": {
   "display_name": "Python 3",
   "language": "python",
   "name": "python3"
  },
  "language_info": {
   "codemirror_mode": {
    "name": "ipython",
    "version": 3
   },
   "file_extension": ".py",
   "mimetype": "text/x-python",
   "name": "python",
   "nbconvert_exporter": "python",
   "pygments_lexer": "ipython3",
   "version": "3.8.0"
  }
 },
 "nbformat": 4,
 "nbformat_minor": 2
}
