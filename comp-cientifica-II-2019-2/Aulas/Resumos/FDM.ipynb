{
 "cells": [
  {
   "cell_type": "code",
   "execution_count": 1,
   "metadata": {},
   "outputs": [],
   "source": [
    "import numpy as np\n",
    "import matplotlib.pyplot as plt"
   ]
  },
  {
   "cell_type": "markdown",
   "metadata": {},
   "source": [
    "# Finite Difference Method\n",
    "\n",
    "Um metódo de aproximação númerica das derivadas é a diferença finita, esta aproximação pode vir da série de `Taylor` para a função, fazendo aproximações com erros menores, ou da definição de derivada, assim seja $h$ o passo, $u$ a função e $k$ o tempo atual.<br>\n",
    "Da definição de derivada temos:<br>\n",
    "$$\n",
    "\\frac{\\mathrm{d}u}{\\mathrm{d}t}(x) = \\lim_{h \\to 0} \\frac{u(x + h) - u(x)}{h}\n",
    "$$\n",
    "Para $h$ suficientemente pequeno podemos escrever:<br>\n",
    "$$\n",
    "\\frac{\\mathrm{d}u}{\\mathrm{d}t}(t_k) = \\frac{u(t_k + h) - u(t_k)}{h} + \\mathcal{O}(h)\n",
    "$$\n",
    "onde $\\mathcal{O}(h)$ representa um erro de ordem $h$, esta aproximação pode também ser feita andando para trás no dominio, assim:<br>\n",
    "$$\n",
    "\\frac{\\mathrm{d}u}{\\mathrm{d}t}(t_k) = \\frac{u(t_k) - u(t_k - h)}{h} + \\mathcal{O}(h)\n",
    "$$\n",
    "Estas são aproximações para derivada por diferença finita, de ordem 1.<br>\n",
    "Pela expansão de Taylor podemos chegar no mesmo metódo de ordem 1<br>\n",
    "$$\n",
    "u(t_k + h) = u(t_k) + hu'(t_k) + h^2\\frac{u''(t_k)}{2}+ \\dots\n",
    "$$\n",
    "Se ignorarmos a partir do segundo termo, podemos considerar:\n",
    "$$\n",
    "u(t_k + h) = u(t_k) + hu'(t_k) + h^2\\frac{u''(\\xi)}{2}\n",
    "$$\n",
    "Onde $u''(\\xi)$ 'acumula' o erro das derivadas que estamos ignorando, assim podemos reescrever o metódo para a derivada primeira:\n",
    "$$\n",
    "\\frac{\\mathrm{d}u}{\\mathrm{d}t}(t_k) = \\frac{u(t_k+h) - u(t_k)}{h} - h\\frac{u''(\\xi)}{2}\n",
    "$$\n",
    "E transformando nosso termo em um erro, temos que o erro é de ordem $h$\n",
    "$$\n",
    "\\frac{\\mathrm{d}u}{\\mathrm{d}t}(t_k) = \\frac{u(t_k+h) - u(t_k)}{h} + \\mathcal{O}(h)\n",
    "$$\n",
    "Temos assim o Metódo de Diferenças Finitas de ordem 1. É costumeiro representar $u(t_k)$ por $u_k$ e $u(t_k +h)$ por $u_{k+1}$ quando estamos falando da função no valor númerico, enquanto $u(t_k)$ fica para o valor analítico, assim o `FDM` de 1ª ordem fica:\n",
    "$$\n",
    "\\frac{\\mathrm{d}u_{k}}{\\mathrm{d}t} = \\frac{u_{k+1} - u_k}{h}\n",
    "$$\n",
    "\n",
    "<br><br>\n",
    "Resolvendo uma equação diferencial com o metódo, seja $f'(x) = cos(x)$, queremos descobrir $f(x)$ com $f'(0) = 0$\n",
    "Queremos encontrar $u_{k+1} \\forall k$, então isolando o termo procurado\n",
    "$$\n",
    "u_{k+1} =  u_k + h\\frac{\\mathrm{d}u_{k}}{\\mathrm{d}t}\n",
    "$$\n",
    "\n",
    "Este é o metódo de Euler, anotações sobre no Notebook referente a metódo de Euler"
   ]
  },
  {
   "cell_type": "code",
   "execution_count": 9,
   "metadata": {},
   "outputs": [],
   "source": [
    "def dif_eq1(x):\n",
    "    return np.cos(x)\n",
    "\n",
    "u0 = 0\n",
    "h = 0.01\n",
    "ts = np.arange(-3,3,h)\n",
    "\n",
    "def fdm_1(F, ts, u0, h):\n",
    "    us = [u0]\n",
    "    for t in ts[1:]:\n",
    "        unew = us[-1] + h*F(t)\n",
    "        us.append(unew)\n",
    "    return us"
   ]
  },
  {
   "cell_type": "code",
   "execution_count": 10,
   "metadata": {},
   "outputs": [
    {
     "data": {
      "image/png": "[encoded data removed]",
      "text/plain": [
       "<Figure size 432x288 with 1 Axes>"
      ]
     },
     "metadata": {
      "needs_background": "light"
     },
     "output_type": "display_data"
    }
   ],
   "source": [
    "ys = fdm_1(dif_eq1, ts, u0, h)\n",
    "plt.plot(ts, ys)\n",
    "plt.grid(alpha = .5)\n",
    "plt.title('Solução da Eq Diferencial')\n",
    "plt.show()"
   ]
  },
  {
   "cell_type": "markdown",
   "metadata": {},
   "source": [
    "### Second Order FDM - Central Difference\n",
    "Fazendo Taylor para frente e para trás e somando podemos chegar em\n",
    "$$\n",
    "\\frac{\\mathrm{d}u_{k}}{\\mathrm{d}t} = \\frac{u_{k+1} - u_{k-1}}{2h}\n",
    "$$"
   ]
  },
  {
   "cell_type": "code",
   "execution_count": null,
   "metadata": {},
   "outputs": [],
   "source": []
  }
 ],
 "metadata": {
  "kernelspec": {
   "display_name": "Python 3",
   "language": "python",
   "name": "python3"
  },
  "language_info": {
   "codemirror_mode": {
    "name": "ipython",
    "version": 3
   },
   "file_extension": ".py",
   "mimetype": "text/x-python",
   "name": "python",
   "nbconvert_exporter": "python",
   "pygments_lexer": "ipython3",
   "version": "3.7.4"
  }
 },
 "nbformat": 4,
 "nbformat_minor": 2
}
