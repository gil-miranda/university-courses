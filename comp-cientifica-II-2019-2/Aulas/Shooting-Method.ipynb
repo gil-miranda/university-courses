{
 "cells": [
  {
   "cell_type": "markdown",
   "metadata": {},
   "source": [
    "## Shooting Method"
   ]
  },
  {
   "cell_type": "code",
   "execution_count": 1,
   "metadata": {},
   "outputs": [],
   "source": [
    "import numpy as np\n",
    "import matplotlib.pyplot as plt"
   ]
  },
  {
   "cell_type": "code",
   "execution_count": 2,
   "metadata": {},
   "outputs": [],
   "source": [
    "##### Vectorized forward euler\n",
    "### Input:  F -> Differential equation;\n",
    "###         y0 -> list or scalar for initial condition;\n",
    "###         ts -> list of points on time to evaluate the equation;\n",
    "###         p -> list or scalar for parameters for F, default is set to 0 if F has no extra parameters;\n",
    "### Output: ys -> numpy array with all solutions for each step t, ys is a Matrix\n",
    "##### Gil Miranda - last revision 29/08/2019\n",
    "def f_euler(F, y0, ts, p = 0):\n",
    "    ys = np.array([y0])  \n",
    "    h = ts[1]-ts[0]\n",
    "    for tnext in ts[1:]:\n",
    "        ynext = ys[-1] + F(ts,ys[-1], p)*h\n",
    "        ys = np.vstack((ys, ynext))\n",
    "        t = tnext\n",
    "    return np.array(ys)"
   ]
  },
  {
   "cell_type": "code",
   "execution_count": 3,
   "metadata": {},
   "outputs": [],
   "source": [
    "def rk_4(F, y0, ts, p = 0):\n",
    "    h = ts[1] - ts[0]\n",
    "    ys = np.array([y0])\n",
    "    for tnext in ts[1:]:\n",
    "        k1 = F(tnext, ys[-1])\n",
    "        k2 = F(tnext + h/2, ys[-1]+h*k1/2)\n",
    "        k3 = F(tnext + h/2, ys[-1] + h*k2/2)\n",
    "        k4 = F(tnext + h, ys[-1] + h*k3)\n",
    "        ynext = ys[-1] + (h/6) * (k1 + 2*k2 + 2*k3 + k4)\n",
    "        ys = np.vstack((ys, ynext))\n",
    "    return ys"
   ]
  },
  {
   "cell_type": "code",
   "execution_count": 4,
   "metadata": {},
   "outputs": [],
   "source": [
    "def sec(f,x,y, prec=1e-8, tol=1e-8, maxiter=200):\n",
    "    if maxiter == 0:\n",
    "        return None\n",
    "    dx = f(x)*(x-y)/(f(x)-f(y))\n",
    "    newx = x - dx\n",
    "    if abs(f(newx)-f(x))>tol:\n",
    "        if abs(dx) < prec:\n",
    "            return newx\n",
    "        else:\n",
    "            return sec(f,y,newx, prec=prec,maxiter=maxiter-1)\n",
    "    else:\n",
    "        return newx"
   ]
  },
  {
   "cell_type": "markdown",
   "metadata": {},
   "source": [
    "$$\n",
    "\\frac{\\mathrm{d}^2u}{\\mathrm{d}t^2} = \\lambda u\n",
    "$$"
   ]
  },
  {
   "cell_type": "code",
   "execution_count": 5,
   "metadata": {},
   "outputs": [],
   "source": [
    "def shooting(F, y0, s, ts, m = 'f_euler', beta = 1, p = 0):\n",
    "    if m == 'rk_4':\n",
    "        def f(S):\n",
    "            return rk_4(F, [y0[0],y0[1],S], ts)[-1][1]-beta\n",
    "    else:\n",
    "        def f(S):\n",
    "            return f_euler(F, [y0[0],y0[1],S], ts)[-1][1]-beta\n",
    "    \n",
    "    return sec(f, s[0], s[1])"
   ]
  },
  {
   "cell_type": "code",
   "execution_count": 6,
   "metadata": {},
   "outputs": [],
   "source": [
    "def F(t, x, p = 0):\n",
    "    f, v, u = x\n",
    "    return np.array([v, u, -f*u/2])"
   ]
  },
  {
   "cell_type": "code",
   "execution_count": 14,
   "metadata": {},
   "outputs": [],
   "source": [
    "ts = np.arange(0,100,1/100)\n",
    "iv = shooting(F, [0,0,0], (0,1), ts, m = 'rk_4')\n",
    "sol = rk_4(F, [0,0,iv], ts)"
   ]
  },
  {
   "cell_type": "code",
   "execution_count": 15,
   "metadata": {},
   "outputs": [
    {
     "data": {
      "text/plain": [
       "0.33030753715200406"
      ]
     },
     "execution_count": 15,
     "metadata": {},
     "output_type": "execute_result"
    }
   ],
   "source": [
    "shooting(F, [0,0,0], (0,1), ts, m = 'f_euler')"
   ]
  },
  {
   "cell_type": "code",
   "execution_count": 16,
   "metadata": {},
   "outputs": [
    {
     "data": {
      "text/plain": [
       "0.3320573362161192"
      ]
     },
     "execution_count": 16,
     "metadata": {},
     "output_type": "execute_result"
    }
   ],
   "source": [
    "shooting(F, [0,0,0], (0,1), ts, m = 'rk_4')"
   ]
  },
  {
   "cell_type": "code",
   "execution_count": 17,
   "metadata": {},
   "outputs": [
    {
     "data": {
      "image/png": "[encoded data removed]",
      "text/plain": [
       "<Figure size 432x288 with 1 Axes>"
      ]
     },
     "metadata": {
      "needs_background": "light"
     },
     "output_type": "display_data"
    }
   ],
   "source": [
    "plt.plot(ts, sol)\n",
    "plt.show()"
   ]
  },
  {
   "cell_type": "code",
   "execution_count": null,
   "metadata": {},
   "outputs": [],
   "source": []
  }
 ],
 "metadata": {
  "kernelspec": {
   "display_name": "Python 3",
   "language": "python",
   "name": "python3"
  },
  "language_info": {
   "codemirror_mode": {
    "name": "ipython",
    "version": 3
   },
   "file_extension": ".py",
   "mimetype": "text/x-python",
   "name": "python",
   "nbconvert_exporter": "python",
   "pygments_lexer": "ipython3",
   "version": "3.7.4"
  }
 },
 "nbformat": 4,
 "nbformat_minor": 2
}
