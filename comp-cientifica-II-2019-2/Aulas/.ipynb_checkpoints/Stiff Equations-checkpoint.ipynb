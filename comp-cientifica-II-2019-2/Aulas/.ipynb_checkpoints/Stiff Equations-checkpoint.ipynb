{
 "cells": [
  {
   "cell_type": "markdown",
   "metadata": {},
   "source": [
    "# Exercicio - Stiff Equations\n",
    "> Gil Miranda<br>\n",
    "> Repo: https://github.com/mirandagil/university-courses/tree/master/comp-cientifica-II-2019-2<br>\n",
    "> GitHub: @mirandagil\n",
    "   \n",
    "`last update: 29/08/2019`"
   ]
  },
  {
   "cell_type": "code",
   "execution_count": 1,
   "metadata": {},
   "outputs": [],
   "source": [
    "import numpy as np\n",
    "import matplotlib.pyplot as plt\n",
    "from mpl_toolkits import mplot3d"
   ]
  },
  {
   "cell_type": "code",
   "execution_count": 2,
   "metadata": {},
   "outputs": [],
   "source": [
    "##### Vectorized forward euler\n",
    "### Input:  F -> Differential equation;\n",
    "###         y0 -> list or scalar for initial condition;\n",
    "###         ts -> list of points on time to evaluate the equation;\n",
    "###         p -> list or scalar for parameters for F, default is set to 0 if F has no extra parameters;\n",
    "### Output: ys -> numpy array with all solutions for each step t, ys is a Matrix\n",
    "##### Gil Miranda - last revision 29/08/2019\n",
    "def f_euler(F, y0, ts, p = 0):\n",
    "    ys = np.array([y0])  \n",
    "    h = ts[1]-ts[0]\n",
    "    for tnext in ts[1:]:\n",
    "        ynext = ys[-1] + F(ys[-1], ts, p)*h\n",
    "        ys = np.vstack((ys, ynext))\n",
    "        t = tnext\n",
    "    return np.array(ys).T"
   ]
  },
  {
   "cell_type": "code",
   "execution_count": 3,
   "metadata": {},
   "outputs": [],
   "source": [
    "def stiff(u, t, k):\n",
    "    u_1 = -k[0]*u[0]+ k[1]*u[1]*u[2]\n",
    "    u_2 = k[0]*u[0] - k[1]*u[1]*u[2] - k[2]*u[1]**2\n",
    "    u_3 = k[2]*u[1]**2\n",
    "    return np.array([u_1, u_2, u_3])"
   ]
  },
  {
   "cell_type": "code",
   "execution_count": 4,
   "metadata": {},
   "outputs": [],
   "source": [
    "u = [1,0,0]\n",
    "k = [0.04, 1e4, 3e7]"
   ]
  },
  {
   "cell_type": "code",
   "execution_count": 5,
   "metadata": {},
   "outputs": [],
   "source": [
    "ts = np.arange(0,30,0.0001)"
   ]
  },
  {
   "cell_type": "code",
   "execution_count": 6,
   "metadata": {},
   "outputs": [],
   "source": [
    "sol = f_euler(stiff, u, ts, k)"
   ]
  },
  {
   "cell_type": "code",
   "execution_count": 7,
   "metadata": {},
   "outputs": [
    {
     "data": {
      "image/png": "[encoded data removed]",
      "text/plain": [
       "<Figure size 432x288 with 1 Axes>"
      ]
     },
     "metadata": {
      "needs_background": "light"
     },
     "output_type": "display_data"
    }
   ],
   "source": [
    "x = sol[0]\n",
    "y = sol[1]\n",
    "z = sol[2]\n",
    "plt.plot(ts, x, label='x')\n",
    "plt.plot(ts, y, label='y')\n",
    "plt.plot(ts, z, label='z')\n",
    "plt.legend()\n",
    "plt.show()"
   ]
  },
  {
   "cell_type": "code",
   "execution_count": null,
   "metadata": {},
   "outputs": [],
   "source": []
  }
 ],
 "metadata": {
  "kernelspec": {
   "display_name": "Python 3",
   "language": "python",
   "name": "python3"
  },
  "language_info": {
   "codemirror_mode": {
    "name": "ipython",
    "version": 3
   },
   "file_extension": ".py",
   "mimetype": "text/x-python",
   "name": "python",
   "nbconvert_exporter": "python",
   "pygments_lexer": "ipython3",
   "version": "3.7.4"
  }
 },
 "nbformat": 4,
 "nbformat_minor": 2
}
