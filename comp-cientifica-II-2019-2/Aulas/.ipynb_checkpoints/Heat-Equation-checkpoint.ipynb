{
 "cells": [
  {
   "cell_type": "markdown",
   "metadata": {},
   "source": [
    "$$\n",
    "-\\nabla(k\\nabla T) = 0\n",
    "$$\n",
    "<br><br>\n",
    "Condições de contorno:\n",
    "$$\n",
    "\\begin{cases}\n",
    "\\frac{\\partial T}{\\partial y}(x,0) = 0\\\\\n",
    "T(0,y) = Tleft\\\\\n",
    "\\frac{\\partial T}{\\partial y}(1,1)= 0\\\\\n",
    "T(1,y) = Tright\\\\\n",
    "\\end{cases}\n",
    "$$\n",
    "\n",
    "$$\n",
    "-\\frac{\\partial}{\\partial x}(k\\frac{\\partial T}{\\partial x})-\\frac{\\partial}{\\partial y}(k\\frac{\\partial T}{\\partial y}) = 0\\\\\n",
    "$$\n",
    "Discretizando <br>\n",
    "\n",
    "$$\n",
    "\\frac{k_{i+\\frac{1}{2},j}\\left(\\frac{T_{i+1,j} - T_{i,j}}{h_x}\\right) - k_{i-\\frac{1}{2}}\\left(\\frac{T_{i,j} - T_{i-1,j}}{h_x}\\right)}{h_x} + \\frac{k_{i+\\frac{1}{2},j}\\left(\\frac{T_{i,j+1} - T_{i,j}}{h_y}\\right) - k_{i-\\frac{1}{2}}\\left(\\frac{T_{i,j} - T_{i,j-1}}{h_y}\\right)}{h_y} = 0\n",
    "$$"
   ]
  },
  {
   "cell_type": "code",
   "execution_count": 1,
   "metadata": {},
   "outputs": [],
   "source": [
    "import numpy as np\n",
    "import matplotlib.pyplot as plt"
   ]
  },
  {
   "cell_type": "code",
   "execution_count": 9,
   "metadata": {},
   "outputs": [],
   "source": [
    "def f(x,y):\n",
    "    return 0\n",
    "\n",
    "def k(x,y):\n",
    "    return 410\n",
    "\n",
    "\n",
    "def solver_heat(f, Nx, Ny, cont):\n",
    "    A = []\n",
    "    b = np.zeros(Nx*Ny)\n",
    "    hx = 1/(Nx - 1)\n",
    "    hy = 1/(Ny + 1)\n",
    "    xs = [0]*Nx\n",
    "    ys = [0]*Ny\n",
    "    xs[0] = 0\n",
    "    ys[0] = hy\n",
    "    for n in range(Nx*Ny):\n",
    "        j = n//Nx +1\n",
    "        i = n-Nx*(j-1)+1\n",
    "        a = np.zeros(Nx*Ny)\n",
    "        a[n] = 1/hx * (k(xs[i]))\n",
    "        b[n] = 0\n",
    "        \n",
    "        ## Definindo os passos\n",
    "        ys[j] = j*hy\n",
    "        xs[i] = (i-1)*hx\n",
    "        y_half = ys[j] + hy/2\n",
    "        x_half = xs[i] + hx/2\n",
    "        \n",
    "        if i == 1:\n",
    "            b[n] += cont[1]\n",
    "        else:\n",
    "            a[n-1] = -1\n",
    "        \n",
    "        if i == Nx:\n",
    "            b[n] += cont[3]\n",
    "        else:\n",
    "            a[n+1] = -1\n",
    "        \n",
    "        if j == 1:\n",
    "            b[n] += cont[2]\n",
    "        else:\n",
    "            a[n-Nx] = -1\n",
    "        \n",
    "        if j == Ny:\n",
    "            b[n] += cont[0]\n",
    "        else:\n",
    "            a[n+Ny] = -1\n",
    "        A.append(a)\n",
    "    ys = np.linalg.solve(A,b)\n",
    "    M = []\n",
    "    for i in range(0,Nx*Ny,Nx):\n",
    "        m = ys[i:i+Nx]\n",
    "        M.append(m)\n",
    "    return M, ys"
   ]
  },
  {
   "cell_type": "code",
   "execution_count": 10,
   "metadata": {},
   "outputs": [
    {
     "ename": "TypeError",
     "evalue": "k() missing 1 required positional argument: 'y'",
     "output_type": "error",
     "traceback": [
      "\u001b[1;31m---------------------------------------------------------------------------\u001b[0m",
      "\u001b[1;31mTypeError\u001b[0m                                 Traceback (most recent call last)",
      "\u001b[1;32m<ipython-input-10-793e3b98d630>\u001b[0m in \u001b[0;36m<module>\u001b[1;34m\u001b[0m\n\u001b[1;32m----> 1\u001b[1;33m \u001b[0msolver_heat\u001b[0m\u001b[1;33m(\u001b[0m\u001b[0mf\u001b[0m\u001b[1;33m,\u001b[0m \u001b[1;36m3\u001b[0m\u001b[1;33m,\u001b[0m \u001b[1;36m4\u001b[0m\u001b[1;33m,\u001b[0m \u001b[1;33m[\u001b[0m\u001b[1;36m0\u001b[0m\u001b[1;33m,\u001b[0m\u001b[1;36m0\u001b[0m\u001b[1;33m,\u001b[0m\u001b[1;36m0\u001b[0m\u001b[1;33m,\u001b[0m\u001b[1;36m0\u001b[0m\u001b[1;33m]\u001b[0m\u001b[1;33m)\u001b[0m\u001b[1;33m\u001b[0m\u001b[1;33m\u001b[0m\u001b[0m\n\u001b[0m",
      "\u001b[1;32m<ipython-input-9-001d48763afc>\u001b[0m in \u001b[0;36msolver_heat\u001b[1;34m(f, Nx, Ny, cont)\u001b[0m\n\u001b[0;32m     19\u001b[0m         \u001b[0mi\u001b[0m \u001b[1;33m=\u001b[0m \u001b[0mn\u001b[0m\u001b[1;33m-\u001b[0m\u001b[0mNx\u001b[0m\u001b[1;33m*\u001b[0m\u001b[1;33m(\u001b[0m\u001b[0mj\u001b[0m\u001b[1;33m-\u001b[0m\u001b[1;36m1\u001b[0m\u001b[1;33m)\u001b[0m\u001b[1;33m+\u001b[0m\u001b[1;36m1\u001b[0m\u001b[1;33m\u001b[0m\u001b[1;33m\u001b[0m\u001b[0m\n\u001b[0;32m     20\u001b[0m         \u001b[0ma\u001b[0m \u001b[1;33m=\u001b[0m \u001b[0mnp\u001b[0m\u001b[1;33m.\u001b[0m\u001b[0mzeros\u001b[0m\u001b[1;33m(\u001b[0m\u001b[0mNx\u001b[0m\u001b[1;33m*\u001b[0m\u001b[0mNy\u001b[0m\u001b[1;33m)\u001b[0m\u001b[1;33m\u001b[0m\u001b[1;33m\u001b[0m\u001b[0m\n\u001b[1;32m---> 21\u001b[1;33m         \u001b[0ma\u001b[0m\u001b[1;33m[\u001b[0m\u001b[0mn\u001b[0m\u001b[1;33m]\u001b[0m \u001b[1;33m=\u001b[0m \u001b[1;36m1\u001b[0m\u001b[1;33m/\u001b[0m\u001b[0mhx\u001b[0m \u001b[1;33m*\u001b[0m \u001b[1;33m(\u001b[0m\u001b[0mk\u001b[0m\u001b[1;33m(\u001b[0m\u001b[0mxs\u001b[0m\u001b[1;33m[\u001b[0m\u001b[0mi\u001b[0m\u001b[1;33m]\u001b[0m\u001b[1;33m)\u001b[0m\u001b[1;33m)\u001b[0m\u001b[1;33m\u001b[0m\u001b[1;33m\u001b[0m\u001b[0m\n\u001b[0m\u001b[0;32m     22\u001b[0m         \u001b[0mb\u001b[0m\u001b[1;33m[\u001b[0m\u001b[0mn\u001b[0m\u001b[1;33m]\u001b[0m \u001b[1;33m=\u001b[0m \u001b[1;36m0\u001b[0m\u001b[1;33m\u001b[0m\u001b[1;33m\u001b[0m\u001b[0m\n\u001b[0;32m     23\u001b[0m \u001b[1;33m\u001b[0m\u001b[0m\n",
      "\u001b[1;31mTypeError\u001b[0m: k() missing 1 required positional argument: 'y'"
     ]
    }
   ],
   "source": [
    "solver_heat(f, 3, 4, [0,0,0,0])"
   ]
  },
  {
   "cell_type": "code",
   "execution_count": null,
   "metadata": {},
   "outputs": [],
   "source": []
  }
 ],
 "metadata": {
  "kernelspec": {
   "display_name": "Python 3",
   "language": "python",
   "name": "python3"
  },
  "language_info": {
   "codemirror_mode": {
    "name": "ipython",
    "version": 3
   },
   "file_extension": ".py",
   "mimetype": "text/x-python",
   "name": "python",
   "nbconvert_exporter": "python",
   "pygments_lexer": "ipython3",
   "version": "3.7.4"
  }
 },
 "nbformat": 4,
 "nbformat_minor": 2
}
