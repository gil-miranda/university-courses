{
 "cells": [
  {
   "cell_type": "markdown",
   "metadata": {},
   "source": [
    "$$\\frac{\\partial^2 u}{\\partial x^2} - \\frac{\\partial^2 u}{\\partial y^2} = f(x,y)$$\n",
    "\n",
    "$N_x, N_y \\in \\mathbb{N}$, são os números de pontos interiores do grid, para completar há ainda os pontos $x_0, y_0$ e $x_f, y_f$ ou seja se $N_x = N_y = 3$ então nosso grid é um quadrado $5 \\times 5$<br>\n",
    "\n",
    "Nas condições de contorno temos:\\\\\n",
    "$$\\begin{cases}\n",
    "(x,0) &= a\\\\\n",
    "(0,y) &= b\\\\\n",
    "(x, 1) &= c\\\\\n",
    "(1, y) &= d\n",
    "\\end{cases}\n",
    "$$\n",
    "\n",
    "Uma discretização é:\n",
    "$$\n",
    "- \\frac{U_{i+1,j} - 2U_{i,j} + U_{i-1,j}}{h^2_x} - \\frac{U_{i,j+1} - 2U_{i,j} + U_{i,j-1}}{h^2_y} = f(x_i, y_j)$$<br>\n",
    "\n",
    "Exemplo: $i=2, j=1$<br>\n",
    "\n",
    "$$\n",
    "-U_{3,1} + 2U_{2,1} - U_{1,1} - U_{2,2} + 2U_{2,1} - \\underbrace{U_{2,0}}_{a} = h^2 f(x_2, y_1)\\\\\n",
    "-U_{3,1} + 4U_{2,1} - U_{1,1} - U_{2,2} = h^2 f(x_2, y_1) + a\n",
    "$$\n",
    "<br>\n",
    "Algumas definições\n",
    "$$\n",
    "U_{i,j} = U_n\\\\\n",
    "n = (i-1)+ N_x(j-1)\\\\\n",
    "j = int \\left(\\frac{n}{N_x} +1 \\right)\\\\\n",
    "i = n-N_x(j-1)+1\n",
    "$$\n",
    "\n",
    "<br>\n",
    "Seja C o conjunto dos pontos de contorno, então\n",
    "$$\n",
    "i = 1 \\implies U_{n-1} \\in C, b += U_{n-1}\\\\\n",
    "i = N_x \\implies U_{n+1} \\in C, b += U_{n+1}\\\\\n",
    "j=1 \\implies U_{n-N_x} \\in C, b += U_{n-N_x}\\\\\n",
    "j = N_y \\implies U_{n+N_x} \\in C, b += U_{n+N_x}\\\\\n",
    "$$"
   ]
  },
  {
   "cell_type": "code",
   "execution_count": 5,
   "metadata": {},
   "outputs": [],
   "source": [
    "import numpy as np\n",
    "import matplotlib.pyplot as plt"
   ]
  },
  {
   "cell_type": "code",
   "execution_count": 9,
   "metadata": {},
   "outputs": [],
   "source": [
    "def f(x,y):\n",
    "    return 1\n",
    "\n",
    "def k(x,y):\n",
    "    return 410\n",
    "\n",
    "def solver_el(f, N, cont):\n",
    "    A = []\n",
    "    b = np.zeros(N**2)\n",
    "    for n in range(N**2):\n",
    "        \n",
    "        j = n//N +1\n",
    "        i = n-N*(j-1)+1\n",
    "        a = np.zeros(N**2)\n",
    "        h = 1/(N+1)\n",
    "        xs = np.arange(0,1, h)[1:]\n",
    "        ys = np.arange(0,1, h)[1:]    \n",
    "        a[n] = 4\n",
    "        b[n] = h**2*f(0,0)\n",
    "        \n",
    "        if i == 1:\n",
    "            b[n] += cont[1]\n",
    "        else:\n",
    "            a[n-1] = -1\n",
    "        \n",
    "        if i == N:\n",
    "            b[n] += cont[3]\n",
    "        else:\n",
    "            a[n+1] = -1\n",
    "        \n",
    "        if j == 1:\n",
    "            b[n] += cont[2]\n",
    "        else:\n",
    "            a[n-N] = -1\n",
    "        \n",
    "        if j == N:\n",
    "            b[n] += cont[0]\n",
    "        else:\n",
    "            a[n+N] = -1\n",
    "        A.append(a)\n",
    "    ys = np.linalg.solve(A,b)\n",
    "    M = []\n",
    "    for i in range(0,N**2,N):\n",
    "        m = ys[i:i+N]\n",
    "        M.append(m)\n",
    "    return ys, M"
   ]
  },
  {
   "cell_type": "code",
   "execution_count": 20,
   "metadata": {},
   "outputs": [],
   "source": [
    "cont = [0,0,0,0]\n",
    "ys,M = solver_el(f, 30, cont)"
   ]
  },
  {
   "cell_type": "code",
   "execution_count": 21,
   "metadata": {},
   "outputs": [
    {
     "data": {
      "image/png": "[encoded data removed]",
      "text/plain": [
       "<Figure size 432x288 with 1 Axes>"
      ]
     },
     "metadata": {
      "needs_background": "light"
     },
     "output_type": "display_data"
    }
   ],
   "source": [
    "plt.contourf(M, cmap = 'copper')\n",
    "plt.show()"
   ]
  },
  {
   "cell_type": "code",
   "execution_count": null,
   "metadata": {},
   "outputs": [],
   "source": []
  }
 ],
 "metadata": {
  "kernelspec": {
   "display_name": "Python 3",
   "language": "python",
   "name": "python3"
  },
  "language_info": {
   "codemirror_mode": {
    "name": "ipython",
    "version": 3
   },
   "file_extension": ".py",
   "mimetype": "text/x-python",
   "name": "python",
   "nbconvert_exporter": "python",
   "pygments_lexer": "ipython3",
   "version": "3.7.4"
  }
 },
 "nbformat": 4,
 "nbformat_minor": 2
}
