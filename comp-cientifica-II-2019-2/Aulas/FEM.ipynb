{
 "cells": [
  {
   "cell_type": "markdown",
   "metadata": {},
   "source": [
    "## Finite Element Methods\n",
    "\n",
    "(cai na prova)\n",
    "<br>\n",
    "\n",
    "$$\n",
    "u(x) \\approx u_h(x) = \\sum^N_{j=1} c_j\\phi_j(x)\n",
    "$$\n",
    "\n",
    "Onde $\\phi_j$ é uma base do espaço"
   ]
  },
  {
   "cell_type": "markdown",
   "metadata": {},
   "source": [
    "Vamos resolver \n",
    "$$\n",
    "-\\frac{\\mathrm{d}^2u}{\\mathrm{d}x^2} = f(x)\n",
    "$$\n",
    "Com BC: $u(0) = 0; u(1) = 0$\n",
    "\n",
    "Questão da prova: obter $phi_j$\n",
    "Aula 10 não cai na prova"
   ]
  },
  {
   "cell_type": "code",
   "execution_count": null,
   "metadata": {},
   "outputs": [],
   "source": []
  }
 ],
 "metadata": {
  "kernelspec": {
   "display_name": "Python 3",
   "language": "python",
   "name": "python3"
  },
  "language_info": {
   "codemirror_mode": {
    "name": "ipython",
    "version": 3
   },
   "file_extension": ".py",
   "mimetype": "text/x-python",
   "name": "python",
   "nbconvert_exporter": "python",
   "pygments_lexer": "ipython3",
   "version": "3.7.4"
  }
 },
 "nbformat": 4,
 "nbformat_minor": 2
}
