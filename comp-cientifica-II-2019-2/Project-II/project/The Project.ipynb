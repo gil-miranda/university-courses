{
 "cells": [
  {
   "cell_type": "markdown",
   "metadata": {},
   "source": [
    "# N-Body Problem and Symplectic Integrators\n",
    "> Author: Gil Miranda Neto<br>\n",
    "> Contact: gilsmneto@gmail.com<br>\n",
    "> Repo: [@mirandagil](https://github.com/mirandagil/university-courses/analise-numerica-edo-2019-1/project)<br>\n",
    "   \n",
    "`last update: 30/05/2019`\n",
    "\n",
    "---"
   ]
  },
  {
   "cell_type": "code",
   "execution_count": 1,
   "metadata": {
    "ExecuteTime": {
     "end_time": "2019-08-20T14:54:40.064065Z",
     "start_time": "2019-08-20T14:54:40.055105Z"
    }
   },
   "outputs": [],
   "source": [
    "import time\n",
    "\n",
    "## --- Body class\n",
    "from local_body import *\n",
    "\n",
    "## --- Functions to simulate and plot\n",
    "import local_functions as sim"
   ]
  },
  {
   "cell_type": "markdown",
   "metadata": {},
   "source": [
    "### Initializing the celestial bodies\n",
    "#### Setting Initial Values"
   ]
  },
  {
   "cell_type": "code",
   "execution_count": 2,
   "metadata": {
    "ExecuteTime": {
     "end_time": "2019-08-20T14:55:31.576150Z",
     "start_time": "2019-08-20T14:55:31.535981Z"
    }
   },
   "outputs": [],
   "source": [
    "sun = Body('Sun', 'yellow')\n",
    "sun.mass = 1.98855e30\n",
    "sun.size = 20\n",
    "\n",
    "earth = Body('Earth', 'darkblue')\n",
    "earth.mass = 5.9742e24\n",
    "earth.p_x0 = 152.1e9\n",
    "earth.v_y0 = 29.783e3\n",
    "earth.size = 1\n",
    "\n",
    "venus = Body('Venus', 'salmon')\n",
    "venus.mass = 4.8685e24\n",
    "venus.p_x0 = 108.9e9\n",
    "venus.v_y0 = -35.02e3\n",
    "venus.size = 0.95\n",
    "    \n",
    "mercury = Body('Mercury', 'darkmagenta')\n",
    "mercury.mass = 0.3e24\n",
    "mercury.p_x0 = 69.8e9\n",
    "mercury.v_y0 = 47.7e3\n",
    "mercury.size = 0.38\n",
    "    \n",
    "mars = Body('Mars', 'r')\n",
    "mars.mass = 0.642e24\n",
    "mars.p_x0 = 249.2e9\n",
    "mars.v_y0 = 24.1e3\n",
    "mars.size = 0.53\n",
    "    \n",
    "jupiter = Body('Jupiter', 'orangered')\n",
    "jupiter.mass = 1.898e27\n",
    "jupiter.p_x0 = 816.6e9\n",
    "jupiter.v_y0 = 13.1e3\n",
    "jupiter.size = 11.2\n",
    "    \n",
    "saturn = Body('Saturn', 'maroon')\n",
    "saturn.mass = 5.68e26\n",
    "saturn.p_x0 = 1514.5e9\n",
    "saturn.v_y0 = 9.7e3\n",
    "saturn.size = 9.45\n",
    "    \n",
    "uranus = Body('Uranus', 'darkgreen')\n",
    "uranus.mass = 8.6e25\n",
    "uranus.p_x0 = 3003.6e9\n",
    "uranus.v_y0 = 6.8e3\n",
    "uranus.size = 4\n",
    "    \n",
    "neptune = Body('Neptune', 'navy')\n",
    "neptune.mass = 1.02e26\n",
    "neptune.p_x0 = 4545.7e9\n",
    "neptune.v_y0 = 5.4e3\n",
    "neptune.size = 3.8\n",
    "    \n",
    "halley = Body('Halley', 'white')\n",
    "halley.mass = 1.02e14\n",
    "halley.p_x0 = 5248.2672e9\n",
    "halley.v_y0 = 1e3\n",
    "\n",
    "pluto = Body('Pluto', 'magenta')\n",
    "pluto.mass = 0.0146e24\n",
    "pluto.p_x0 = 737.9e9\n",
    "pluto.v_y0 = 4.7e3"
   ]
  },
  {
   "cell_type": "markdown",
   "metadata": {},
   "source": [
    "---\n",
    "### List with bodies object\n",
    "\n",
    "Separated in: Full solar system, Inner Solar System, Inner + Jupiter, Outter Solar System"
   ]
  },
  {
   "cell_type": "code",
   "execution_count": 3,
   "metadata": {
    "ExecuteTime": {
     "end_time": "2019-08-20T13:08:21.765542Z",
     "start_time": "2019-08-20T13:08:21.752500Z"
    }
   },
   "outputs": [],
   "source": [
    "bodies = [sun, mercury, venus, earth, mars, jupiter, saturn, uranus, neptune]\n",
    "bodies_jp = [sun, earth, venus, mars, mercury, jupiter]\n",
    "bodies_inner = [sun, earth, venus, mars, mercury]\n",
    "bodies_outter = [sun, jupiter, saturn, uranus, neptune]\n",
    "\n",
    "bodies_test = [sun, earth, mars]"
   ]
  },
  {
   "cell_type": "markdown",
   "metadata": {},
   "source": [
    "---\n",
    "### Setting List with the timesteps and methods to simulate"
   ]
  },
  {
   "cell_type": "code",
   "execution_count": 4,
   "metadata": {},
   "outputs": [],
   "source": [
    "hs = [3600*24]\n",
    "m = ['leapfrog']\n",
    "period = 1000"
   ]
  },
  {
   "cell_type": "markdown",
   "metadata": {},
   "source": [
    "#### Timer"
   ]
  },
  {
   "cell_type": "code",
   "execution_count": 5,
   "metadata": {},
   "outputs": [],
   "source": [
    "start = time.time()"
   ]
  },
  {
   "cell_type": "markdown",
   "metadata": {},
   "source": [
    "### Running Simulation #1"
   ]
  },
  {
   "cell_type": "code",
   "execution_count": 6,
   "metadata": {},
   "outputs": [],
   "source": [
    "pos, vel, pot, ang_mo = sim.big_simulation(methods = m, t = period, steps = hs, bod = bodies)"
   ]
  },
  {
   "cell_type": "markdown",
   "metadata": {},
   "source": [
    "### Calculating Momentum and Hamiltoniam"
   ]
  },
  {
   "cell_type": "code",
   "execution_count": 8,
   "metadata": {},
   "outputs": [],
   "source": [
    "momentum_p = sim.momentum_calc(bodies, methods = m, hs = hs, vel_vec = vel, t = period)\n",
    "potential_u = sim.potential_calc(bodies, methods = m, hs = hs, pot_vec = pot, t = period)\n",
    "angular_m = sim.ang_mo_calc(bodies, methods = m, hs = hs, mo_vec = ang_mo, t = period)"
   ]
  },
  {
   "cell_type": "markdown",
   "metadata": {},
   "source": [
    "### Plotting Hamiltoniam"
   ]
  },
  {
   "cell_type": "code",
   "execution_count": 9,
   "metadata": {
    "scrolled": true
   },
   "outputs": [
    {
     "data": {
      "image/png": "[encoded data removed]",
      "text/plain": [
       "<Figure size 864x576 with 1 Axes>"
      ]
     },
     "metadata": {
      "needs_background": "light"
     },
     "output_type": "display_data"
    }
   ],
   "source": [
    "sim.big_plotter(methods = m, t = period, steps = hs, graph = ['hamilton'], opt = [bodies, 'The Inner Solar System'], pos_vec = pos, p_vec = potential_u, u_vec = momentum_p)"
   ]
  },
  {
   "cell_type": "markdown",
   "metadata": {},
   "source": [
    "### Plotting Angular Momentum"
   ]
  },
  {
   "cell_type": "code",
   "execution_count": null,
   "metadata": {
    "scrolled": true
   },
   "outputs": [],
   "source": [
    "sim.big_plotter(methods = m, t = period, steps = hs, graph = ['momentum'], opt = [bodies, 'The Inner Solar System'], pos_vec = pos, ang_vec = angular_m)"
   ]
  },
  {
   "cell_type": "markdown",
   "metadata": {},
   "source": [
    "### Plotting Inner Orbits"
   ]
  },
  {
   "cell_type": "code",
   "execution_count": 10,
   "metadata": {
    "scrolled": false
   },
   "outputs": [
    {
     "data": {
      "image/png": "[encoded data removed]",
      "text/plain": [
       "<Figure size 720x720 with 1 Axes>"
      ]
     },
     "metadata": {
      "needs_background": "light"
     },
     "output_type": "display_data"
    }
   ],
   "source": [
    "sim.big_plotter(methods = m, steps = hs, graph = ['orbit'], opt = [bodies_inner, 'The Inner Solar System'], pos_vec = pos)"
   ]
  },
  {
   "cell_type": "markdown",
   "metadata": {},
   "source": [
    "### Plotting Outer Orbits"
   ]
  },
  {
   "cell_type": "code",
   "execution_count": null,
   "metadata": {
    "scrolled": false
   },
   "outputs": [],
   "source": [
    "sim.big_plotter(methods = m, steps = hs, graph = ['orbit'], opt = [bodies, 'The Inner Solar System'], pos_vec = pos)"
   ]
  },
  {
   "cell_type": "code",
   "execution_count": null,
   "metadata": {},
   "outputs": [],
   "source": [
    "end = time.time()"
   ]
  },
  {
   "cell_type": "code",
   "execution_count": null,
   "metadata": {},
   "outputs": [],
   "source": [
    "print(\"A simulação levou %f segundos\" % (end - start))"
   ]
  },
  {
   "cell_type": "code",
   "execution_count": null,
   "metadata": {},
   "outputs": [],
   "source": [
    "24000/60"
   ]
  },
  {
   "cell_type": "code",
   "execution_count": null,
   "metadata": {},
   "outputs": [],
   "source": [
    "sun = Body('Sun', 'black')\n",
    "sun.mass = 1\n",
    "sun.p_x0 = 1.38\n",
    "sun.p_y0 = 0\n",
    "sun.v_x0 = 0\n",
    "sun.v_y0 = 0.584\n",
    "\n",
    "\n",
    "planet = Body('Planet', 'purple')\n",
    "planet.mass = 1\n",
    "planet.p_x0 = 0\n",
    "planet.p_y0 = 0.15\n",
    "planet.v_x0 = 1.87\n",
    "planet.v_y0 = 0.01\n",
    "\n",
    "planet2 = Body('Planet 2', 'red')\n",
    "planet2.mass = 1\n",
    "planet2.p_x0 = -1.38\n",
    "planet2.p_y0 = 0\n",
    "planet2.v_x0 = 0\n",
    "planet2.v_y0 = -0.584\n",
    "\n",
    "planet2 = Body('Planet 3', 'red')\n",
    "planet2.mass = 1\n",
    "planet2.p_x0 = 0\n",
    "planet2.p_y0 = -0.15\n",
    "planet2.v_x0 = -1.87\n",
    "planet2.v_y0 = 0\n",
    "\n",
    "hs = [0.0025]\n",
    "period = 30000"
   ]
  },
  {
   "cell_type": "code",
   "execution_count": null,
   "metadata": {},
   "outputs": [],
   "source": [
    "pos, vel, pot, ang_mo = sim.big_simulation(methods = ['leapfrog'], t = period, steps = hs, bod = [sun, planet, planet2])"
   ]
  },
  {
   "cell_type": "code",
   "execution_count": null,
   "metadata": {},
   "outputs": [],
   "source": [
    "pos, _, _, _ = sim.simulate([sun, planet, planet2], step = hs[0], period = period, method = 'leapfrog', G = 0.01)"
   ]
  },
  {
   "cell_type": "code",
   "execution_count": null,
   "metadata": {},
   "outputs": [],
   "source": [
    "sim.orbit_plotter(pos, [sun, planet, planet2], title = 'Coreografia 1', scale = False, color = False)"
   ]
  },
  {
   "cell_type": "code",
   "execution_count": null,
   "metadata": {
    "ExecuteTime": {
     "end_time": "2019-08-20T15:03:03.961125Z",
     "start_time": "2019-08-20T15:03:03.953002Z"
    }
   },
   "outputs": [],
   "source": [
    "hs = [7200]\n",
    "m = ['euler', 'leapfrog']\n",
    "period = 10000\n",
    "bodies = [sun, earth, venus, mars]"
   ]
  },
  {
   "cell_type": "code",
   "execution_count": null,
   "metadata": {
    "ExecuteTime": {
     "end_time": "2019-08-20T15:03:11.003854Z",
     "start_time": "2019-08-20T15:03:04.696659Z"
    }
   },
   "outputs": [],
   "source": [
    "pos, vel, pot, ang_mo = sim.big_simulation(methods = m, t = period, steps = hs, bod = bodies)"
   ]
  },
  {
   "cell_type": "code",
   "execution_count": null,
   "metadata": {
    "ExecuteTime": {
     "end_time": "2019-08-20T15:03:12.171743Z",
     "start_time": "2019-08-20T15:03:11.007866Z"
    }
   },
   "outputs": [],
   "source": [
    "sim.big_plotter(methods = m, steps = hs, graph = ['orbit'], opt = [bodies, 'The Inner Solar System'], pos_vec = pos)"
   ]
  },
  {
   "cell_type": "code",
   "execution_count": null,
   "metadata": {},
   "outputs": [],
   "source": [
    "planet1 = Body('Planet 1', 'red')\n",
    "planet1.mass = 2e29\n",
    "planet1.p_x0 = 35e9\n",
    "planet1.p_v0 = 20e2 \n",
    "\n",
    "planet2 = Body('Planet 2', 'darkblue')\n",
    "planet2.mass = 6e24\n",
    "planet2.p_x0 = 150e9\n",
    "planet2.v_y0 = 45e2\n",
    "\n",
    "planet3 = Body('Planet 3', 'green')\n",
    "planet3.mass = 6e24\n",
    "planet3.p_x0 = -150e9\n",
    "planet3.v_y0 = 29e2"
   ]
  },
  {
   "cell_type": "code",
   "execution_count": null,
   "metadata": {},
   "outputs": [],
   "source": [
    "hs = [3600*24]\n",
    "bodies = [planet1, planet2, planet3]\n",
    "m = ['leapfrog']\n",
    "period = 1000"
   ]
  },
  {
   "cell_type": "code",
   "execution_count": null,
   "metadata": {},
   "outputs": [],
   "source": [
    "pos, vel, pot, ang_mo = sim.big_simulation(methods = m, t = period, steps = hs, bod = bodies)\n",
    "sim.big_plotter(methods = m, t = period, steps = hs, graph = ['orbit'], opt = [bodies, 'The Inner Solar System'], pos_vec = pos, p_vec = potential_u, u_vec = momentum_p)"
   ]
  },
  {
   "cell_type": "code",
   "execution_count": null,
   "metadata": {},
   "outputs": [],
   "source": [
    "earth2 = Body('Planet 1', 'blue')\n",
    "earth2.mass = 2e30\n",
    "earth2.p_x0 = 0\n",
    "earth2.p_v0 = 0\n",
    "\n",
    "moon = Body('Planet 2', 'gray')\n",
    "moon.mass = 7e22\n",
    "moon.p_x0 = 150e9+0.384e9\n",
    "moon.v_y0 = 1e3\n",
    "\n",
    "planet3 = Body('Planet 3', 'green')\n",
    "planet3.mass = 6e24\n",
    "planet3.p_x0 = -150e9\n",
    "planet3.v_y0 = 29.8e3"
   ]
  },
  {
   "cell_type": "code",
   "execution_count": null,
   "metadata": {},
   "outputs": [],
   "source": [
    "hs = [3600]\n",
    "bodies = [earth2, planet3, moon]\n",
    "m = ['euler']\n",
    "period = 10000"
   ]
  },
  {
   "cell_type": "code",
   "execution_count": null,
   "metadata": {},
   "outputs": [],
   "source": [
    "pos, vel, pot, ang_mo = sim.big_simulation(methods = m, t = period, steps = hs, bod = bodies)\n",
    "sim.big_plotter(methods = m, t = period, steps = hs, graph = ['orbit'], opt = [bodies, 'The Inner Solar System'], pos_vec = pos, p_vec = potential_u, u_vec = momentum_p)"
   ]
  },
  {
   "cell_type": "code",
   "execution_count": null,
   "metadata": {},
   "outputs": [],
   "source": []
  },
  {
   "cell_type": "code",
   "execution_count": null,
   "metadata": {},
   "outputs": [],
   "source": []
  }
 ],
 "metadata": {
  "kernelspec": {
   "display_name": "Python 3",
   "language": "python",
   "name": "python3"
  },
  "language_info": {
   "codemirror_mode": {
    "name": "ipython",
    "version": 3
   },
   "file_extension": ".py",
   "mimetype": "text/x-python",
   "name": "python",
   "nbconvert_exporter": "python",
   "pygments_lexer": "ipython3",
   "version": "3.7.3"
  }
 },
 "nbformat": 4,
 "nbformat_minor": 2
}
