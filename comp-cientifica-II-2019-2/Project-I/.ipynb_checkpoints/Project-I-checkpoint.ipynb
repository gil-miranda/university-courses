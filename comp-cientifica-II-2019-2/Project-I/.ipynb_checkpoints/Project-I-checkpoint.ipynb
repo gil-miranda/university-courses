{
 "cells": [
  {
   "cell_type": "markdown",
   "metadata": {},
   "source": [
    "# Projeto I - Computação Centífica II\n",
    "### Solução de EDOs\n",
    "> Autor: Gil Miranda<br>\n",
    "> Contato: gil.neto@ufrj.br<br>\n",
    "> Repo: [@mirandagil](https://github.com/mirandagil)<br>"
   ]
  },
  {
   "cell_type": "code",
   "execution_count": 1,
   "metadata": {
    "ExecuteTime": {
     "end_time": "2019-08-20T18:18:31.951945Z",
     "start_time": "2019-08-20T18:18:31.944417Z"
    }
   },
   "outputs": [],
   "source": [
    "import numpy as np\n",
    "import matplotlib.pyplot as plt"
   ]
  },
  {
   "cell_type": "markdown",
   "metadata": {},
   "source": [
    "### Encontrando a solução da EDO\n",
    "\n",
    "$$\\frac{\\mathrm{d}u}{\\mathrm{d}t} = Au + b$$\n",
    "Como é uma equação separável, podemos resolver da seguinte forma:\n",
    "$$\n",
    "\\begin{align}\n",
    "\\frac{\\mathrm{d}u}{Au + b} &= \\mathrm{d}t\\\\\n",
    "\\int \\frac{\\mathrm{d}u}{Au + b} &= \\int \\mathrm{d}t\\\\\n",
    "ln(Au+b)&= A(t+c)\\\\\n",
    "Au &= C_0 e^{At} - b\\\\\n",
    "u &= \\frac{C_0 e^{At}}{A} - \\frac{b}{A}\\\\\n",
    "\\text{Mas como A é uma matriz, a solução terá a forma}\\\\\n",
    "u(t) &= A^{-1} C_0 e^{At} - A^{-1} b\\\\\n",
    "\\text{Para descobrirmos $C_0$}\\\\\n",
    "u(0) &= A^{-1} C_0 e^{0} - A^{-1} b\\\\\n",
    "C_0 &= Au_0 + b\n",
    "\\end{align}\n",
    "$$"
   ]
  },
  {
   "cell_type": "markdown",
   "metadata": {},
   "source": [
    "### Verificando sanidade das matrizes"
   ]
  },
  {
   "cell_type": "code",
   "execution_count": 8,
   "metadata": {
    "ExecuteTime": {
     "end_time": "2019-08-20T19:34:46.517836Z",
     "start_time": "2019-08-20T19:34:46.498950Z"
    }
   },
   "outputs": [],
   "source": [
    "def verifica_defeituosa(A): ## input: A -> Matriz\n",
    "    def cauchy_schwarz(u,v): ## input: u - vetor nx1, v -> vetor nx1\n",
    "        norm_u = np.linalg.norm(u)\n",
    "        norm_v = np.linalg.norm(v)\n",
    "        scalar_product = np.dot(u,v)\n",
    "        if abs(scalar_product) == abs(norm_u * norm_v):\n",
    "            return 1\n",
    "        else:\n",
    "            return 0\n",
    "\n",
    "    M_eigen_vects = np.linalg.eig(A)[1] ## Retorna a matriz de autovetores em forma de coluna\n",
    "    eigen_vects = [M_eigen_vects[:,i] for i in range(0,M_eigen_vects.shape[1])] ## Retorna cada autovetor como um vetor linha\n",
    "    for i in range(0, len(eigen_vects)):\n",
    "        for j in range(1,len(eigen_vects)):\n",
    "            if i != j:\n",
    "                if cauchy_schwarz(eigen_vects[i],eigen_vects[j]):\n",
    "                    return 1\n",
    "                    break\n",
    "    return 0"
   ]
  },
  {
   "cell_type": "markdown",
   "metadata": {},
   "source": [
    "Caso matriz diagonalizavel\n",
    "$$e^{At} = Se^{\\Lambda t} S^{-1} $$"
   ]
  },
  {
   "cell_type": "code",
   "execution_count": 142,
   "metadata": {
    "ExecuteTime": {
     "end_time": "2019-08-20T19:31:31.824569Z",
     "start_time": "2019-08-20T19:31:31.811660Z"
    }
   },
   "outputs": [],
   "source": [
    "def e_to_diag(A, t):\n",
    "    eigen = np.linalg.eig(A) \n",
    "    M_eigen_vects = eigen[1] ## Retorna a matriz de autovetores em forma de coluna\n",
    "    eigen_values= eigen[0]*t\n",
    "    e_to = np.e**eigen_values\n",
    "    diag_A = np.diag(e_to)\n",
    "    inv_M = np.linalg.inv(M_eigen_vects)\n",
    "    return  M_eigen_vects @ (diag_A) @ inv_M"
   ]
  },
  {
   "cell_type": "markdown",
   "metadata": {},
   "source": [
    "Caso matriz defeituosa\n",
    "$$\n",
    "e^{At} = I + \\frac{At}{1!} + \\frac{A^2t^2}{2!} +\\frac{A^3t^3}{3} +\\frac{A^4t^4}{4!} + \\dots\n",
    "$$"
   ]
  },
  {
   "cell_type": "code",
   "execution_count": 143,
   "metadata": {},
   "outputs": [],
   "source": [
    "def e_to_defect(A, t, termo = 10):\n",
    "    I = np.identity(np.shape(A)[0])\n",
    "    #e_to = I + A*t + A@A * t**2/2 + (A@A@A) * t**3 /6 + (A@A@A@A) * t**4 /24 + (A@A@A@A@A) *t**5/120 +(A@A@A@A@A@A) *t**6/720 \n",
    "    e_to = I\n",
    "    for i in range(1,termo):\n",
    "        e_to += np.linalg.matrix_power(A*t, i)/np.math.factorial(i)\n",
    "    return e_to"
   ]
  },
  {
   "cell_type": "code",
   "execution_count": 155,
   "metadata": {
    "ExecuteTime": {
     "end_time": "2019-08-20T19:38:34.363719Z",
     "start_time": "2019-08-20T19:38:34.342994Z"
    }
   },
   "outputs": [],
   "source": [
    "def ed_solver(A, b, c, ts):\n",
    "    is_defect = verifica_defeituosa(A)\n",
    "    sol = [c]\n",
    "    for t in ts:\n",
    "        if is_defect:\n",
    "            e_to_A = e_to_defect(A, t)\n",
    "        else:\n",
    "            e_to_A = e_to_diag(A,t)\n",
    "        u_n = np.linalg.inv(A)*c*e_to_A - np.linalg.inv(A)*b\n",
    "        sol.append(u_n)\n",
    "    return sol"
   ]
  },
  {
   "cell_type": "code",
   "execution_count": 156,
   "metadata": {},
   "outputs": [
    {
     "data": {
      "text/plain": [
       "[[1, 1], array([[ 1.5, -1. ],\n",
       "        [ 4. , -1. ]]), array([[ 3.14607959, -0.64804147],\n",
       "        [ 9.63133645,  1.42219888]]), array([[ 5.95876917,  0.17019611],\n",
       "        [22.72313775,  7.72944832]]), array([[12.59650814,  2.31040113],\n",
       "        [56.96641803, 24.70633918]]), array([[ 30.02840445,   8.07713579],\n",
       "        [149.23417267,  70.75242162]]), array([[ 77.04240955,  23.72184568],\n",
       "        [399.54953094, 195.85685047]]), array([[ 204.61482261,   66.2298344 ],\n",
       "        [1079.67735046,  535.8884623 ]]), array([[ 551.25618445,  181.76716017],\n",
       "        [2928.27456279, 1460.16747878]]), array([[1493.44236224,  495.82327857],\n",
       "        [7953.17245707, 3972.60454418]]), array([[ 4054.51974579,  1349.51213643],\n",
       "        [21612.19418288, 10802.10820043]]), array([[11016.21942151,  3670.07650948],\n",
       "        [58741.22415163, 29366.61881376]]), array([[ 29940.06268406,   9978.02293807],\n",
       "        [159668.36700914,  79830.18759134]]), array([[ 81380.390752  ,  27124.79815671],\n",
       "        [434016.77050734, 217004.38773242]]), array([[ 221209.69299758,   73734.56508425],\n",
       "        [1179773.04134795,  589882.52217741]]), array([[ 601305.14025862,  200433.04720882],\n",
       "        [3206948.75534105, 1603470.37858241]]), array([[1634511.68512989,  544835.22865317],\n",
       "        [8717383.65845073, 4358687.82977845]]), array([[ 4443058.25958301,  1481017.42002873],\n",
       "        [23696298.72045974, 11848145.36056533]]), array([[12077479.37638071,  4025824.4588953 ],\n",
       "        [64413211.34232482, 32206601.67136588]]), array([[3.28299876e+07, 1.09433272e+07],\n",
       "        [1.75093255e+08, 8.75466235e+07]]), array([[8.92411535e+07, 2.97470492e+07],\n",
       "        [4.75952807e+08, 2.37976399e+08]])]"
      ]
     },
     "execution_count": 156,
     "metadata": {},
     "output_type": "execute_result"
    }
   ],
   "source": [
    "ts = np.arange(0,10,0.5)\n",
    "A = np.array([[-2,1],[-4,3]])\n",
    "ed_solver(A, 2, [1,1], ts)"
   ]
  },
  {
   "cell_type": "code",
   "execution_count": 150,
   "metadata": {
    "ExecuteTime": {
     "end_time": "2019-08-20T19:39:52.703244Z",
     "start_time": "2019-08-20T19:39:52.683326Z"
    }
   },
   "outputs": [],
   "source": [
    "\n",
    "\n",
    "def cauchy_schwarz(u,v): ## input: u - vetor nx1, v -> vetor nx1\n",
    "    norm_u = np.linalg.norm(u)\n",
    "    norm_v = np.linalg.norm(v)\n",
    "    scalar_product = np.dot(u,v)\n",
    "    if abs(scalar_product) == abs(norm_u * norm_v):\n",
    "        return 1\n",
    "    else:\n",
    "        return 0\n",
    "    \n",
    "M_eigen_vects = np.linalg.eig(A)[1] ## Retorna a matriz de autovetores em forma de coluna\n",
    "eigen_vects = [M_eigen_vects[:,i] for i in range(0,M_eigen_vects.shape[1])] ## Retorna cada autovetor como um vetor linha\n",
    "for i in range(0, len(eigen_vects)):\n",
    "    for j in range(1,len(eigen_vects)):\n",
    "        if i != j:\n",
    "            if cauchy_schwarz(eigen_vects[i],eigen_vects[j]):\n",
    "                print('foi')"
   ]
  },
  {
   "cell_type": "code",
   "execution_count": 48,
   "metadata": {
    "ExecuteTime": {
     "end_time": "2019-08-20T18:18:35.543768Z",
     "start_time": "2019-08-20T18:18:35.533005Z"
    }
   },
   "outputs": [],
   "source": [
    "B = np.array([[-1,0,0],[1,-1,0],[0,1,-1]])"
   ]
  },
  {
   "cell_type": "code",
   "execution_count": 49,
   "metadata": {
    "ExecuteTime": {
     "end_time": "2019-08-20T18:18:35.707253Z",
     "start_time": "2019-08-20T18:18:35.694162Z"
    }
   },
   "outputs": [
    {
     "data": {
      "text/plain": [
       "1"
      ]
     },
     "execution_count": 49,
     "metadata": {},
     "output_type": "execute_result"
    }
   ],
   "source": [
    "verifica_defeituosa(B)\n",
    "# cauchy_schwarz(B[0],B[2])"
   ]
  },
  {
   "cell_type": "code",
   "execution_count": 50,
   "metadata": {
    "ExecuteTime": {
     "end_time": "2019-08-20T18:18:36.225381Z",
     "start_time": "2019-08-20T18:18:36.214692Z"
    }
   },
   "outputs": [
    {
     "data": {
      "text/plain": [
       "0.0"
      ]
     },
     "execution_count": 50,
     "metadata": {},
     "output_type": "execute_result"
    }
   ],
   "source": [
    "eigen_vects[0].dot(eigen_vects[1])"
   ]
  },
  {
   "cell_type": "code",
   "execution_count": 68,
   "metadata": {
    "ExecuteTime": {
     "end_time": "2019-08-20T19:12:00.964313Z",
     "start_time": "2019-08-20T19:12:00.950054Z"
    }
   },
   "outputs": [],
   "source": []
  },
  {
   "cell_type": "code",
   "execution_count": 133,
   "metadata": {
    "ExecuteTime": {
     "end_time": "2019-08-20T19:25:47.693737Z",
     "start_time": "2019-08-20T19:25:47.677854Z"
    }
   },
   "outputs": [],
   "source": []
  },
  {
   "cell_type": "code",
   "execution_count": 152,
   "metadata": {
    "ExecuteTime": {
     "end_time": "2019-08-20T19:40:01.769869Z",
     "start_time": "2019-08-20T19:40:01.752640Z"
    }
   },
   "outputs": [
    {
     "data": {
      "text/plain": [
       "array([[ 1.91938849e+04, -1.33760345e-01],\n",
       "       [-1.23932860e+00,  4.03337095e-01]])"
      ]
     },
     "execution_count": 152,
     "metadata": {},
     "output_type": "execute_result"
    }
   ],
   "source": [
    "# A = np.array([[1,0],[0,1]])\n",
    "e_to_diag(A,2)"
   ]
  },
  {
   "cell_type": "code",
   "execution_count": 153,
   "metadata": {
    "ExecuteTime": {
     "end_time": "2019-08-20T19:40:02.745895Z",
     "start_time": "2019-08-20T19:40:02.738059Z"
    }
   },
   "outputs": [
    {
     "data": {
      "text/plain": [
       "array([[ 7884.35661376,  2469.37283951],\n",
       "       [17285.60987654,  5414.98377425]])"
      ]
     },
     "execution_count": 153,
     "metadata": {},
     "output_type": "execute_result"
    }
   ],
   "source": [
    "e_to_defect(A,2)"
   ]
  },
  {
   "cell_type": "code",
   "execution_count": 136,
   "metadata": {
    "ExecuteTime": {
     "end_time": "2019-08-20T19:25:49.605693Z",
     "start_time": "2019-08-20T19:25:49.596306Z"
    }
   },
   "outputs": [
    {
     "data": {
      "text/plain": [
       "7.3890560989306495"
      ]
     },
     "execution_count": 136,
     "metadata": {},
     "output_type": "execute_result"
    }
   ],
   "source": [
    "np.e**2"
   ]
  },
  {
   "cell_type": "code",
   "execution_count": 151,
   "metadata": {
    "ExecuteTime": {
     "end_time": "2019-08-20T19:39:55.925222Z",
     "start_time": "2019-08-20T19:39:55.916084Z"
    }
   },
   "outputs": [
    {
     "data": {
      "text/plain": [
       "(array([ 5.1925824, -0.1925824]), array([[ 0.41496214, -0.29890615],\n",
       "        [ 0.90983868,  0.95428251]]))"
      ]
     },
     "execution_count": 151,
     "metadata": {},
     "output_type": "execute_result"
    }
   ],
   "source": [
    "np.linalg.eig(A)"
   ]
  },
  {
   "cell_type": "code",
   "execution_count": null,
   "metadata": {},
   "outputs": [],
   "source": []
  }
 ],
 "metadata": {
  "kernelspec": {
   "display_name": "Python 3",
   "language": "python",
   "name": "python3"
  },
  "language_info": {
   "codemirror_mode": {
    "name": "ipython",
    "version": 3
   },
   "file_extension": ".py",
   "mimetype": "text/x-python",
   "name": "python",
   "nbconvert_exporter": "python",
   "pygments_lexer": "ipython3",
   "version": "3.7.3"
  }
 },
 "nbformat": 4,
 "nbformat_minor": 2
}
