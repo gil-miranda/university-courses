{
 "cells": [
  {
   "cell_type": "markdown",
   "metadata": {},
   "source": [
    "# Projeto I - Computação Centífica II\n",
    "### Solução de EDOs\n",
    "> Autor: Gil Miranda<br>\n",
    "> Contato: gil.neto@ufrj.br<br>\n",
    "> Repo: [@mirandagil](https://github.com/mirandagil)<br>"
   ]
  },
  {
   "cell_type": "code",
   "execution_count": 1,
   "metadata": {
    "ExecuteTime": {
     "end_time": "2019-08-26T11:47:15.827561Z",
     "start_time": "2019-08-26T11:47:11.842493Z"
    }
   },
   "outputs": [],
   "source": [
    "import numpy as np\n",
    "import matplotlib.pyplot as plt"
   ]
  },
  {
   "cell_type": "markdown",
   "metadata": {},
   "source": [
    "### Encontrando a solução da EDO\n",
    "\n",
    "$$\\frac{\\mathrm{d}u}{\\mathrm{d}t} = Au + b$$\n",
    "Como é uma equação separável, podemos resolver da seguinte forma:\n",
    "$$\n",
    "\\begin{align}\n",
    "\\frac{\\mathrm{d}u}{Au + b} &= \\mathrm{d}t\\\\\n",
    "\\int \\frac{\\mathrm{d}u}{Au + b} &= \\int \\mathrm{d}t\\\\\n",
    "ln(Au+b)&= A(t+c)\\\\\n",
    "Au &= C_0 e^{At} - b\\\\\n",
    "u &= \\frac{C_0 e^{At}}{A} - \\frac{b}{A}\\\\\n",
    "\\text{Mas como A é uma matriz, a solução terá a forma}\\\\\n",
    "u(t) &= A^{-1} C_0 e^{At} - A^{-1} b\\\\\n",
    "\\text{Para descobrirmos $C_0$}\\\\\n",
    "u(0) &= A^{-1} C_0 e^{0} - A^{-1} b\\\\\n",
    "C_0 &= Au_0 + b\n",
    "\\end{align}\n",
    "$$\n",
    "\n",
    "$$\n",
    "    u(t) = e^{At}u_0+ A^{-1} (e^{At}-I)g\n",
    "$$"
   ]
  },
  {
   "cell_type": "markdown",
   "metadata": {},
   "source": [
    "### Verificando sanidade das matrizes"
   ]
  },
  {
   "cell_type": "code",
   "execution_count": 2,
   "metadata": {
    "ExecuteTime": {
     "end_time": "2019-08-26T11:47:15.924946Z",
     "start_time": "2019-08-26T11:47:15.832050Z"
    }
   },
   "outputs": [],
   "source": [
    "def verifica_defeituosa(A): ## input: A -> Matriz\n",
    "    def cauchy_schwarz(u,v): ## input: u - vetor nx1, v -> vetor nx1\n",
    "        norm_u = np.linalg.norm(u)\n",
    "        norm_v = np.linalg.norm(v)\n",
    "        scalar_product = np.dot(u,v)\n",
    "        if abs(scalar_product) == abs(norm_u * norm_v):\n",
    "            return 1\n",
    "        else:\n",
    "            return 0\n",
    "\n",
    "    M_eigen_vects = np.linalg.eig(A)[1] ## Retorna a matriz de autovetores em forma de coluna\n",
    "    eigen_vects = [M_eigen_vects[:,i] for i in range(0,M_eigen_vects.shape[1])] ## Retorna cada autovetor como um vetor linha\n",
    "    for i in range(0, len(eigen_vects)):\n",
    "        for j in range(1,len(eigen_vects)):\n",
    "            if i != j:\n",
    "                if cauchy_schwarz(eigen_vects[i],eigen_vects[j]):\n",
    "                    return 1\n",
    "                    break\n",
    "    return 0"
   ]
  },
  {
   "cell_type": "markdown",
   "metadata": {},
   "source": [
    "Caso matriz diagonalizavel\n",
    "$$e^{At} = Se^{\\Lambda t} S^{-1} $$"
   ]
  },
  {
   "cell_type": "code",
   "execution_count": 3,
   "metadata": {
    "ExecuteTime": {
     "end_time": "2019-08-26T11:47:16.155567Z",
     "start_time": "2019-08-26T11:47:15.930212Z"
    }
   },
   "outputs": [],
   "source": [
    "def e_to_diag(A, t):\n",
    "    eigen = np.linalg.eig(A) \n",
    "    M_eigen_vects = eigen[1] ## Retorna a matriz de autovetores em forma de coluna\n",
    "    eigen_values= eigen[0]*t\n",
    "    e_to = np.e**eigen_values\n",
    "    diag_A = np.diag(e_to)\n",
    "    inv_M = np.linalg.inv(M_eigen_vects)\n",
    "    return  M_eigen_vects @ (diag_A) @ inv_M"
   ]
  },
  {
   "cell_type": "markdown",
   "metadata": {},
   "source": [
    "Caso matriz defeituosa\n",
    "$$\n",
    "e^{At} = I + \\frac{At}{1!} + \\frac{A^2t^2}{2!} +\\frac{A^3t^3}{3} +\\frac{A^4t^4}{4!} + \\dots\n",
    "$$"
   ]
  },
  {
   "cell_type": "code",
   "execution_count": 4,
   "metadata": {
    "ExecuteTime": {
     "end_time": "2019-08-26T11:47:16.309623Z",
     "start_time": "2019-08-26T11:47:16.161481Z"
    }
   },
   "outputs": [],
   "source": [
    "def e_to_defect(A, t, termo = 10):\n",
    "    I = np.identity(np.shape(A)[0])\n",
    "    #e_to = I + A*t + A@A * t**2/2 + (A@A@A) * t**3 /6 + (A@A@A@A) * t**4 /24 + (A@A@A@A@A) *t**5/120 +(A@A@A@A@A@A) *t**6/720 \n",
    "    e_to = I\n",
    "    for i in range(1,termo):\n",
    "        e_to += np.linalg.matrix_power(A*t, i)/np.math.factorial(i)\n",
    "    return e_to"
   ]
  },
  {
   "cell_type": "code",
   "execution_count": 74,
   "metadata": {
    "ExecuteTime": {
     "end_time": "2019-08-26T12:39:55.068513Z",
     "start_time": "2019-08-26T12:39:55.042754Z"
    }
   },
   "outputs": [],
   "source": [
    "def ed_solver(A, b, c, ts):\n",
    "    is_defect = verifica_defeituosa(A)\n",
    "    I = np.identity(np.shape(A)[0])\n",
    "    sol = c\n",
    "    for t in ts:\n",
    "        if is_defect:\n",
    "            e_to_A = e_to_defect(A, t)\n",
    "        else:\n",
    "            e_to_A = e_to_diag(A,t)\n",
    "            print((e_to_A-I)@b)\n",
    "            print('a')\n",
    "            print(e_to_A@c)\n",
    "            print('b')\n",
    "            print(e_to_A@c + np.linalg.inv(A)@(e_to_A-I)@b)\n",
    "        u_n = e_to_A@c + np.linalg.inv(A)@(e_to_A-I)@b\n",
    "        sol.append(u_n)\n",
    "    return sol"
   ]
  },
  {
   "cell_type": "code",
   "execution_count": 75,
   "metadata": {
    "ExecuteTime": {
     "end_time": "2019-08-26T12:39:55.596105Z",
     "start_time": "2019-08-26T12:39:55.579325Z"
    }
   },
   "outputs": [],
   "source": [
    "def ed_solver2(A, b, c, ts):\n",
    "    is_defect = verifica_defeituosa(A)\n",
    "    sol = [c]\n",
    "    for t in ts:\n",
    "        if is_defect:\n",
    "            e_to_A = e_to_defect(A, t)\n",
    "        else:\n",
    "            e_to_A = e_to_diag(A,t)\n",
    "        u_n = np.linalg.inv(A)*c*e_to_A - np.linalg.inv(A)*b\n",
    "        sol.append(u_n)\n",
    "    return sol"
   ]
  },
  {
   "cell_type": "code",
   "execution_count": 76,
   "metadata": {
    "ExecuteTime": {
     "end_time": "2019-08-26T12:39:56.042722Z",
     "start_time": "2019-08-26T12:39:56.003035Z"
    }
   },
   "outputs": [
    {
     "name": "stdout",
     "output_type": "stream",
     "text": [
      "[0. 0.]\n",
      "a\n",
      "[1. 1.]\n",
      "b\n",
      "[1. 1.]\n",
      "[-0.78693868 -0.78693868]\n",
      "a\n"
     ]
    },
    {
     "ename": "ValueError",
     "evalue": "matmul: Input operand 1 has a mismatch in its core dimension 0, with gufunc signature (n?,k),(k,m?)->(n?,m?) (size 3 is different from 2)",
     "output_type": "error",
     "traceback": [
      "\u001b[0;31m---------------------------------------------------------------------------\u001b[0m",
      "\u001b[0;31mValueError\u001b[0m                                Traceback (most recent call last)",
      "\u001b[0;32m<ipython-input-76-792a8fd31e02>\u001b[0m in \u001b[0;36m<module>\u001b[0;34m\u001b[0m\n\u001b[1;32m      1\u001b[0m \u001b[0mts\u001b[0m \u001b[0;34m=\u001b[0m \u001b[0mnp\u001b[0m\u001b[0;34m.\u001b[0m\u001b[0marange\u001b[0m\u001b[0;34m(\u001b[0m\u001b[0;36m0\u001b[0m\u001b[0;34m,\u001b[0m\u001b[0;36m10\u001b[0m\u001b[0;34m,\u001b[0m\u001b[0;36m0.5\u001b[0m\u001b[0;34m)\u001b[0m\u001b[0;34m\u001b[0m\u001b[0;34m\u001b[0m\u001b[0m\n\u001b[1;32m      2\u001b[0m \u001b[0mA\u001b[0m \u001b[0;34m=\u001b[0m \u001b[0mnp\u001b[0m\u001b[0;34m.\u001b[0m\u001b[0marray\u001b[0m\u001b[0;34m(\u001b[0m\u001b[0;34m[\u001b[0m\u001b[0;34m[\u001b[0m\u001b[0;34m-\u001b[0m\u001b[0;36m2\u001b[0m\u001b[0;34m,\u001b[0m\u001b[0;36m1\u001b[0m\u001b[0;34m]\u001b[0m\u001b[0;34m,\u001b[0m\u001b[0;34m[\u001b[0m\u001b[0;34m-\u001b[0m\u001b[0;36m4\u001b[0m\u001b[0;34m,\u001b[0m\u001b[0;36m3\u001b[0m\u001b[0;34m]\u001b[0m\u001b[0;34m]\u001b[0m\u001b[0;34m)\u001b[0m\u001b[0;34m\u001b[0m\u001b[0;34m\u001b[0m\u001b[0m\n\u001b[0;32m----> 3\u001b[0;31m \u001b[0med_solver\u001b[0m\u001b[0;34m(\u001b[0m\u001b[0mA\u001b[0m\u001b[0;34m,\u001b[0m \u001b[0;34m[\u001b[0m\u001b[0;36m2\u001b[0m\u001b[0;34m,\u001b[0m\u001b[0;36m2\u001b[0m\u001b[0;34m]\u001b[0m\u001b[0;34m,\u001b[0m \u001b[0;34m[\u001b[0m\u001b[0;36m1\u001b[0m\u001b[0;34m,\u001b[0m\u001b[0;36m1\u001b[0m\u001b[0;34m]\u001b[0m\u001b[0;34m,\u001b[0m \u001b[0mts\u001b[0m\u001b[0;34m)\u001b[0m\u001b[0;34m\u001b[0m\u001b[0;34m\u001b[0m\u001b[0m\n\u001b[0m\u001b[1;32m      4\u001b[0m \u001b[0;31m# plt.plot(ed_solver)\u001b[0m\u001b[0;34m\u001b[0m\u001b[0;34m\u001b[0m\u001b[0;34m\u001b[0m\u001b[0m\n",
      "\u001b[0;32m<ipython-input-74-bc5bc81d34c5>\u001b[0m in \u001b[0;36med_solver\u001b[0;34m(A, b, c, ts)\u001b[0m\n\u001b[1;32m     10\u001b[0m             \u001b[0mprint\u001b[0m\u001b[0;34m(\u001b[0m\u001b[0;34m(\u001b[0m\u001b[0me_to_A\u001b[0m\u001b[0;34m-\u001b[0m\u001b[0mI\u001b[0m\u001b[0;34m)\u001b[0m\u001b[0;34m@\u001b[0m\u001b[0mb\u001b[0m\u001b[0;34m)\u001b[0m\u001b[0;34m\u001b[0m\u001b[0;34m\u001b[0m\u001b[0m\n\u001b[1;32m     11\u001b[0m             \u001b[0mprint\u001b[0m\u001b[0;34m(\u001b[0m\u001b[0;34m'a'\u001b[0m\u001b[0;34m)\u001b[0m\u001b[0;34m\u001b[0m\u001b[0;34m\u001b[0m\u001b[0m\n\u001b[0;32m---> 12\u001b[0;31m             \u001b[0mprint\u001b[0m\u001b[0;34m(\u001b[0m\u001b[0me_to_A\u001b[0m\u001b[0;34m@\u001b[0m\u001b[0mc\u001b[0m\u001b[0;34m)\u001b[0m\u001b[0;34m\u001b[0m\u001b[0;34m\u001b[0m\u001b[0m\n\u001b[0m\u001b[1;32m     13\u001b[0m             \u001b[0mprint\u001b[0m\u001b[0;34m(\u001b[0m\u001b[0;34m'b'\u001b[0m\u001b[0;34m)\u001b[0m\u001b[0;34m\u001b[0m\u001b[0;34m\u001b[0m\u001b[0m\n\u001b[1;32m     14\u001b[0m             \u001b[0mprint\u001b[0m\u001b[0;34m(\u001b[0m\u001b[0me_to_A\u001b[0m\u001b[0;34m@\u001b[0m\u001b[0mc\u001b[0m \u001b[0;34m+\u001b[0m \u001b[0mnp\u001b[0m\u001b[0;34m.\u001b[0m\u001b[0mlinalg\u001b[0m\u001b[0;34m.\u001b[0m\u001b[0minv\u001b[0m\u001b[0;34m(\u001b[0m\u001b[0mA\u001b[0m\u001b[0;34m)\u001b[0m\u001b[0;34m@\u001b[0m\u001b[0;34m(\u001b[0m\u001b[0me_to_A\u001b[0m\u001b[0;34m-\u001b[0m\u001b[0mI\u001b[0m\u001b[0;34m)\u001b[0m\u001b[0;34m@\u001b[0m\u001b[0mb\u001b[0m\u001b[0;34m)\u001b[0m\u001b[0;34m\u001b[0m\u001b[0;34m\u001b[0m\u001b[0m\n",
      "\u001b[0;31mValueError\u001b[0m: matmul: Input operand 1 has a mismatch in its core dimension 0, with gufunc signature (n?,k),(k,m?)->(n?,m?) (size 3 is different from 2)"
     ]
    }
   ],
   "source": [
    "ts = np.arange(0,10,0.5)\n",
    "A = np.array([[-2,1],[-4,3]])\n",
    "ed_solver(A, [2,2], [1,1], ts)\n",
    "# plt.plot(ed_solver)"
   ]
  },
  {
   "cell_type": "code",
   "execution_count": 51,
   "metadata": {
    "ExecuteTime": {
     "end_time": "2019-08-26T12:29:13.388106Z",
     "start_time": "2019-08-26T12:29:13.329309Z"
    }
   },
   "outputs": [],
   "source": [
    "\n",
    "\n",
    "def cauchy_schwarz(u,v): ## input: u - vetor nx1, v -> vetor nx1\n",
    "    norm_u = np.linalg.norm(u)\n",
    "    norm_v = np.linalg.norm(v)\n",
    "    scalar_product = np.dot(u,v)\n",
    "    if abs(scalar_product) == abs(norm_u * norm_v):\n",
    "        return 1\n",
    "    else:\n",
    "        return 0\n",
    "    \n",
    "M_eigen_vects = np.linalg.eig(A)[1] ## Retorna a matriz de autovetores em forma de coluna\n",
    "eigen_vects = [M_eigen_vects[:,i] for i in range(0,M_eigen_vects.shape[1])] ## Retorna cada autovetor como um vetor linha\n",
    "for i in range(0, len(eigen_vects)):\n",
    "    for j in range(1,len(eigen_vects)):\n",
    "        if i != j:\n",
    "            if cauchy_schwarz(eigen_vects[i],eigen_vects[j]):\n",
    "                print('foi')"
   ]
  },
  {
   "cell_type": "code",
   "execution_count": 8,
   "metadata": {
    "ExecuteTime": {
     "end_time": "2019-08-26T11:47:17.481938Z",
     "start_time": "2019-08-26T11:47:17.296077Z"
    }
   },
   "outputs": [],
   "source": [
    "B = np.array([[-1,0,0],[1,-1,0],[0,1,-1]])"
   ]
  },
  {
   "cell_type": "code",
   "execution_count": 9,
   "metadata": {
    "ExecuteTime": {
     "end_time": "2019-08-26T11:47:17.623505Z",
     "start_time": "2019-08-26T11:47:17.489881Z"
    }
   },
   "outputs": [
    {
     "data": {
      "text/plain": [
       "1"
      ]
     },
     "execution_count": 9,
     "metadata": {},
     "output_type": "execute_result"
    }
   ],
   "source": [
    "verifica_defeituosa(B)\n",
    "# cauchy_schwarz(B[0],B[2])"
   ]
  },
  {
   "cell_type": "code",
   "execution_count": 10,
   "metadata": {
    "ExecuteTime": {
     "end_time": "2019-08-26T11:47:17.768153Z",
     "start_time": "2019-08-26T11:47:17.627560Z"
    }
   },
   "outputs": [
    {
     "data": {
      "text/plain": [
       "0.8574929257125443"
      ]
     },
     "execution_count": 10,
     "metadata": {},
     "output_type": "execute_result"
    }
   ],
   "source": [
    "eigen_vects[0].dot(eigen_vects[1])"
   ]
  },
  {
   "cell_type": "code",
   "execution_count": null,
   "metadata": {
    "ExecuteTime": {
     "end_time": "2019-08-20T19:12:00.964313Z",
     "start_time": "2019-08-20T19:12:00.950054Z"
    }
   },
   "outputs": [],
   "source": []
  },
  {
   "cell_type": "code",
   "execution_count": null,
   "metadata": {
    "ExecuteTime": {
     "end_time": "2019-08-20T19:25:47.693737Z",
     "start_time": "2019-08-20T19:25:47.677854Z"
    }
   },
   "outputs": [],
   "source": []
  },
  {
   "cell_type": "code",
   "execution_count": 11,
   "metadata": {
    "ExecuteTime": {
     "end_time": "2019-08-26T11:47:17.903317Z",
     "start_time": "2019-08-26T11:47:17.773447Z"
    }
   },
   "outputs": [
    {
     "data": {
      "text/plain": [
       "array([[-18.0189363 ,  18.15427158],\n",
       "       [-72.61708633,  72.75242162]])"
      ]
     },
     "execution_count": 11,
     "metadata": {},
     "output_type": "execute_result"
    }
   ],
   "source": [
    "# A = np.array([[1,0],[0,1]])\n",
    "e_to_diag(A,2)"
   ]
  },
  {
   "cell_type": "code",
   "execution_count": 12,
   "metadata": {
    "ExecuteTime": {
     "end_time": "2019-08-26T11:47:18.081206Z",
     "start_time": "2019-08-26T11:47:17.908134Z"
    }
   },
   "outputs": [
    {
     "data": {
      "text/plain": [
       "array([[-17.8712522 ,  18.00634921],\n",
       "       [-72.02539683,  72.16049383]])"
      ]
     },
     "execution_count": 12,
     "metadata": {},
     "output_type": "execute_result"
    }
   ],
   "source": [
    "e_to_defect(A,2)"
   ]
  },
  {
   "cell_type": "code",
   "execution_count": 13,
   "metadata": {
    "ExecuteTime": {
     "end_time": "2019-08-26T11:47:18.279173Z",
     "start_time": "2019-08-26T11:47:18.085787Z"
    }
   },
   "outputs": [
    {
     "data": {
      "text/plain": [
       "7.3890560989306495"
      ]
     },
     "execution_count": 13,
     "metadata": {},
     "output_type": "execute_result"
    }
   ],
   "source": [
    "np.e**2"
   ]
  },
  {
   "cell_type": "code",
   "execution_count": 14,
   "metadata": {
    "ExecuteTime": {
     "end_time": "2019-08-26T11:47:18.413729Z",
     "start_time": "2019-08-26T11:47:18.284776Z"
    }
   },
   "outputs": [
    {
     "data": {
      "text/plain": [
       "(array([-1.,  2.]), array([[-0.70710678, -0.24253563],\n",
       "        [-0.70710678, -0.9701425 ]]))"
      ]
     },
     "execution_count": 14,
     "metadata": {},
     "output_type": "execute_result"
    }
   ],
   "source": [
    "np.linalg.eig(A)"
   ]
  },
  {
   "cell_type": "code",
   "execution_count": null,
   "metadata": {},
   "outputs": [],
   "source": []
  }
 ],
 "metadata": {
  "kernelspec": {
   "display_name": "Python 3",
   "language": "python",
   "name": "python3"
  },
  "language_info": {
   "codemirror_mode": {
    "name": "ipython",
    "version": 3
   },
   "file_extension": ".py",
   "mimetype": "text/x-python",
   "name": "python",
   "nbconvert_exporter": "python",
   "pygments_lexer": "ipython3",
   "version": "3.7.3"
  }
 },
 "nbformat": 4,
 "nbformat_minor": 2
}
