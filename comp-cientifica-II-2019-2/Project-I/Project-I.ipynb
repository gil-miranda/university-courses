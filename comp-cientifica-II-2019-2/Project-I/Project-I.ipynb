{
 "cells": [
  {
   "cell_type": "markdown",
   "metadata": {},
   "source": [
    "# Projeto I - Computação Centífica II\n",
    "### Solução de EDOs\n",
    "> Autor: Gil Miranda<br>\n",
    "> Contato: gil.neto@ufrj.br<br>\n",
    "> Repo: [@mirandagil](https://github.com/mirandagil)<br>"
   ]
  },
  {
   "cell_type": "code",
   "execution_count": 45,
   "metadata": {
    "ExecuteTime": {
     "end_time": "2019-08-20T18:18:31.951945Z",
     "start_time": "2019-08-20T18:18:31.944417Z"
    }
   },
   "outputs": [],
   "source": [
    "import numpy as np\n",
    "import matplotlib.pyplot as plt"
   ]
  },
  {
   "cell_type": "markdown",
   "metadata": {},
   "source": [
    "### Encontrando a solução da EDO\n",
    "\n",
    "$$\\frac{\\mathrm{d}u}{\\mathrm{d}t} = Au + b$$\n",
    "Como é uma equação separável, podemos resolver da seguinte forma:\n",
    "$$\n",
    "\\begin{align}\n",
    "\\frac{\\mathrm{d}u}{Au + b} &= \\mathrm{d}t\\\\\n",
    "\\int \\frac{\\mathrm{d}u}{Au + b} &= \\int \\mathrm{d}t\\\\\n",
    "ln(Au+b)&= A(t+c)\\\\\n",
    "Au &= C_0 e^{At} - b\\\\\n",
    "u &= \\frac{C_0 e^{At}}{A} - \\frac{b}{A}\\\\\n",
    "\\text{Mas como A é uma matriz, a solução terá a forma}\\\\\n",
    "u(t) &= A^{-1} C_0 e^{At} - A^{-1} b\\\\\n",
    "\\text{Para descobrirmos $C_0$}\\\\\n",
    "u(0) &= A^{-1} C_0 e^{0} - A^{-1} b\\\\\n",
    "C_0 &= Au_0 + b\n",
    "\\end{align}\n",
    "$$"
   ]
  },
  {
   "cell_type": "markdown",
   "metadata": {},
   "source": [
    "### Verificando sanidade das matrizes"
   ]
  },
  {
   "cell_type": "code",
   "execution_count": 138,
   "metadata": {
    "ExecuteTime": {
     "end_time": "2019-08-20T19:34:46.517836Z",
     "start_time": "2019-08-20T19:34:46.498950Z"
    }
   },
   "outputs": [],
   "source": [
    "def verifica_defeituosa(A): ## input: A -> Matriz\n",
    "    def cauchy_schwarz(u,v): ## input: u - vetor nx1, v -> vetor nx1\n",
    "        norm_u = np.linalg.norm(u)\n",
    "        norm_v = np.linalg.norm(v)\n",
    "        scalar_product = np.dot(u,v)\n",
    "        if abs(scalar_product) == abs(norm_u * norm_v):\n",
    "            return 1\n",
    "        else:\n",
    "            return 0\n",
    "\n",
    "    M_eigen_vects = np.linalg.eig(A)[1] ## Retorna a matriz de autovetores em forma de coluna\n",
    "    eigen_vects = [M_eigen_vects[:,i] for i in range(0,M_eigen_vects.shape[1])] ## Retorna cada autovetor como um vetor linha\n",
    "    for i in range(0, len(eigen_vects)):\n",
    "        for j in range(1,len(eigen_vects)):\n",
    "            if i != j:\n",
    "                if cauchy_schwarz(eigen_vects[i],eigen_vects[j]):\n",
    "                    return 1\n",
    "                    break\n",
    "    return 0"
   ]
  },
  {
   "cell_type": "markdown",
   "metadata": {},
   "source": [
    "Caso matriz diagonalizavel\n",
    "$$e^{At} = S^{-1} \\Lambda S$$"
   ]
  },
  {
   "cell_type": "code",
   "execution_count": 137,
   "metadata": {
    "ExecuteTime": {
     "end_time": "2019-08-20T19:31:31.824569Z",
     "start_time": "2019-08-20T19:31:31.811660Z"
    }
   },
   "outputs": [],
   "source": [
    "def e_to_diag(A, t):\n",
    "    eigen = np.linalg.eig(A) \n",
    "    M_eigen_vects = eigen[1] ## Retorna a matriz de autovetores em forma de coluna\n",
    "    eigen_values= eigen[0]\n",
    "    diag_A = np.diag(eigen_values)\n",
    "    inv_M = np.linalg.inv(M_eigen_vects)\n",
    "    return inv_M * np.e**(diag_A*t) * M_eigen_vects"
   ]
  },
  {
   "cell_type": "markdown",
   "metadata": {},
   "source": [
    "Caso matriz defeituosa\n",
    "$$\n",
    "e^{At} = I + \\frac{At}{1!} + \\frac{A^2t^2}{2!} +\\frac{A^3t^3}{3} +\\frac{A^4t^4}{4!} + \\dots\n",
    "$$"
   ]
  },
  {
   "cell_type": "code",
   "execution_count": null,
   "metadata": {},
   "outputs": [],
   "source": [
    "def e_to_defect(A, t, termo = 10):\n",
    "    I = np.identity(2)\n",
    "    e_to = I\n",
    "    for i in range(1,termo):\n",
    "        e_to += np.linalg.matrix_power(A*t, i)/np.math.factorial(i)\n",
    "    return e_to"
   ]
  },
  {
   "cell_type": "code",
   "execution_count": 139,
   "metadata": {
    "ExecuteTime": {
     "end_time": "2019-08-20T19:38:34.363719Z",
     "start_time": "2019-08-20T19:38:34.342994Z"
    }
   },
   "outputs": [],
   "source": [
    "def ed_solver(A, b, c, t):\n",
    "    is_defect = verifica_defeituosa(A)\n",
    "    if is_defect:\n",
    "        e_to_A = e_to_defect(A, t)\n",
    "    else:\n",
    "        e_to_A = e_to_diag(A,t)\n",
    "        \n",
    "    u_n = np.linalg.inv(A)*c*e_to_A - np.linalg.inv(A)*b"
   ]
  },
  {
   "cell_type": "code",
   "execution_count": null,
   "metadata": {},
   "outputs": [],
   "source": [
    "ed_solver()"
   ]
  },
  {
   "cell_type": "code",
   "execution_count": 150,
   "metadata": {
    "ExecuteTime": {
     "end_time": "2019-08-20T19:39:52.703244Z",
     "start_time": "2019-08-20T19:39:52.683326Z"
    }
   },
   "outputs": [],
   "source": [
    "A = np.array([[3,1],[7,2]])\n",
    "\n",
    "def cauchy_schwarz(u,v): ## input: u - vetor nx1, v -> vetor nx1\n",
    "    norm_u = np.linalg.norm(u)\n",
    "    norm_v = np.linalg.norm(v)\n",
    "    scalar_product = np.dot(u,v)\n",
    "    if abs(scalar_product) == abs(norm_u * norm_v):\n",
    "        return 1\n",
    "    else:\n",
    "        return 0\n",
    "    \n",
    "M_eigen_vects = np.linalg.eig(A)[1] ## Retorna a matriz de autovetores em forma de coluna\n",
    "eigen_vects = [M_eigen_vects[:,i] for i in range(0,M_eigen_vects.shape[1])] ## Retorna cada autovetor como um vetor linha\n",
    "for i in range(0, len(eigen_vects)):\n",
    "    for j in range(1,len(eigen_vects)):\n",
    "        if i != j:\n",
    "            if cauchy_schwarz(eigen_vects[i],eigen_vects[j]):\n",
    "                print('foi')"
   ]
  },
  {
   "cell_type": "code",
   "execution_count": 48,
   "metadata": {
    "ExecuteTime": {
     "end_time": "2019-08-20T18:18:35.543768Z",
     "start_time": "2019-08-20T18:18:35.533005Z"
    }
   },
   "outputs": [],
   "source": [
    "B = np.array([[-1,0,0],[1,-1,0],[0,1,-1]])"
   ]
  },
  {
   "cell_type": "code",
   "execution_count": 49,
   "metadata": {
    "ExecuteTime": {
     "end_time": "2019-08-20T18:18:35.707253Z",
     "start_time": "2019-08-20T18:18:35.694162Z"
    }
   },
   "outputs": [
    {
     "data": {
      "text/plain": [
       "1"
      ]
     },
     "execution_count": 49,
     "metadata": {},
     "output_type": "execute_result"
    }
   ],
   "source": [
    "verifica_defeituosa(B)\n",
    "# cauchy_schwarz(B[0],B[2])"
   ]
  },
  {
   "cell_type": "code",
   "execution_count": 50,
   "metadata": {
    "ExecuteTime": {
     "end_time": "2019-08-20T18:18:36.225381Z",
     "start_time": "2019-08-20T18:18:36.214692Z"
    }
   },
   "outputs": [
    {
     "data": {
      "text/plain": [
       "0.0"
      ]
     },
     "execution_count": 50,
     "metadata": {},
     "output_type": "execute_result"
    }
   ],
   "source": [
    "eigen_vects[0].dot(eigen_vects[1])"
   ]
  },
  {
   "cell_type": "code",
   "execution_count": 68,
   "metadata": {
    "ExecuteTime": {
     "end_time": "2019-08-20T19:12:00.964313Z",
     "start_time": "2019-08-20T19:12:00.950054Z"
    }
   },
   "outputs": [],
   "source": []
  },
  {
   "cell_type": "code",
   "execution_count": 133,
   "metadata": {
    "ExecuteTime": {
     "end_time": "2019-08-20T19:25:47.693737Z",
     "start_time": "2019-08-20T19:25:47.677854Z"
    }
   },
   "outputs": [],
   "source": []
  },
  {
   "cell_type": "code",
   "execution_count": 152,
   "metadata": {
    "ExecuteTime": {
     "end_time": "2019-08-20T19:40:01.769869Z",
     "start_time": "2019-08-20T19:40:01.752640Z"
    }
   },
   "outputs": [
    {
     "data": {
      "text/plain": [
       "array([[ 1.91938849e+04, -1.33760345e-01],\n",
       "       [-1.23932860e+00,  4.03337095e-01]])"
      ]
     },
     "execution_count": 152,
     "metadata": {},
     "output_type": "execute_result"
    }
   ],
   "source": [
    "# A = np.array([[1,0],[0,1]])\n",
    "e_to_diag(A,2)"
   ]
  },
  {
   "cell_type": "code",
   "execution_count": 153,
   "metadata": {
    "ExecuteTime": {
     "end_time": "2019-08-20T19:40:02.745895Z",
     "start_time": "2019-08-20T19:40:02.738059Z"
    }
   },
   "outputs": [
    {
     "data": {
      "text/plain": [
       "array([[ 7884.35661376,  2469.37283951],\n",
       "       [17285.60987654,  5414.98377425]])"
      ]
     },
     "execution_count": 153,
     "metadata": {},
     "output_type": "execute_result"
    }
   ],
   "source": [
    "e_to_defect(A,2)"
   ]
  },
  {
   "cell_type": "code",
   "execution_count": 136,
   "metadata": {
    "ExecuteTime": {
     "end_time": "2019-08-20T19:25:49.605693Z",
     "start_time": "2019-08-20T19:25:49.596306Z"
    }
   },
   "outputs": [
    {
     "data": {
      "text/plain": [
       "7.3890560989306495"
      ]
     },
     "execution_count": 136,
     "metadata": {},
     "output_type": "execute_result"
    }
   ],
   "source": [
    "np.e**2"
   ]
  },
  {
   "cell_type": "code",
   "execution_count": 151,
   "metadata": {
    "ExecuteTime": {
     "end_time": "2019-08-20T19:39:55.925222Z",
     "start_time": "2019-08-20T19:39:55.916084Z"
    }
   },
   "outputs": [
    {
     "data": {
      "text/plain": [
       "(array([ 5.1925824, -0.1925824]), array([[ 0.41496214, -0.29890615],\n",
       "        [ 0.90983868,  0.95428251]]))"
      ]
     },
     "execution_count": 151,
     "metadata": {},
     "output_type": "execute_result"
    }
   ],
   "source": [
    "np.linalg.eig(A)"
   ]
  },
  {
   "cell_type": "code",
   "execution_count": null,
   "metadata": {},
   "outputs": [],
   "source": []
  }
 ],
 "metadata": {
  "kernelspec": {
   "display_name": "Python 3",
   "language": "python",
   "name": "python3"
  },
  "language_info": {
   "codemirror_mode": {
    "name": "ipython",
    "version": 3
   },
   "file_extension": ".py",
   "mimetype": "text/x-python",
   "name": "python",
   "nbconvert_exporter": "python",
   "pygments_lexer": "ipython3",
   "version": "3.7.3"
  }
 },
 "nbformat": 4,
 "nbformat_minor": 2
}
