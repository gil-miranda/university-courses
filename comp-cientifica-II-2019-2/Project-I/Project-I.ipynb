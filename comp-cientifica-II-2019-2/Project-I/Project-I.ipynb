{
 "cells": [
  {
   "cell_type": "markdown",
   "metadata": {},
   "source": [
    "# Projeto I - Computação Centífica II\n",
    "### Solução de EDOs\n",
    "> Autor: Gil Miranda<br>\n",
    "> Contato: gil.neto@ufrj.br<br>\n",
    "> Repo: [@mirandagil](https://github.com/mirandagil)<br>"
   ]
  },
  {
   "cell_type": "code",
   "execution_count": 133,
   "metadata": {
    "ExecuteTime": {
     "end_time": "2019-08-26T11:47:15.827561Z",
     "start_time": "2019-08-26T11:47:11.842493Z"
    }
   },
   "outputs": [],
   "source": [
    "import numpy as np\n",
    "import matplotlib.pyplot as plt\n",
    "import matplotlib.colors as plt_color"
   ]
  },
  {
   "cell_type": "markdown",
   "metadata": {},
   "source": [
    "### Encontrando a solução da EDO\n",
    "\n",
    "$$\\frac{\\mathrm{d}u}{\\mathrm{d}t} = Au + b$$\n",
    "Como é uma equação separável, podemos resolver da seguinte forma:\n",
    "$$\n",
    "\\begin{align}\n",
    "\\frac{\\mathrm{d}u}{Au + b} &= \\mathrm{d}t\\\\\n",
    "\\int \\frac{\\mathrm{d}u}{Au + b} &= \\int \\mathrm{d}t\\\\\n",
    "ln(Au+b)&= A(t+c)\\\\\n",
    "Au &= C_0 e^{At} - b\\\\\n",
    "u &= \\frac{C_0 e^{At}}{A} - \\frac{b}{A}\\\\\n",
    "\\text{Mas como A é uma matriz, a solução terá a forma}\\\\\n",
    "u(t) &= A^{-1} C_0 e^{At} - A^{-1} b\\\\\n",
    "\\text{Para descobrirmos $C_0$}\\\\\n",
    "u(0) &= A^{-1} C_0 e^{0} - A^{-1} b\\\\\n",
    "C_0 &= Au_0 + b\n",
    "\\end{align}\n",
    "$$\n",
    "\n",
    "$$\n",
    "    u(t) = e^{At}u_0+ A^{-1} (e^{At}-I)g\n",
    "$$"
   ]
  },
  {
   "cell_type": "markdown",
   "metadata": {},
   "source": [
    "### Verificando sanidade das matrizes"
   ]
  },
  {
   "cell_type": "code",
   "execution_count": 2,
   "metadata": {
    "ExecuteTime": {
     "end_time": "2019-08-26T11:47:15.924946Z",
     "start_time": "2019-08-26T11:47:15.832050Z"
    }
   },
   "outputs": [],
   "source": [
    "def verifica_defeituosa(A): ## input: A -> Matriz\n",
    "    def cauchy_schwarz(u,v): ## input: u - vetor nx1, v -> vetor nx1\n",
    "        norm_u = np.linalg.norm(u)\n",
    "        norm_v = np.linalg.norm(v)\n",
    "        scalar_product = np.dot(u,v)\n",
    "        if abs(scalar_product) == abs(norm_u * norm_v):\n",
    "            return 1\n",
    "        else:\n",
    "            return 0\n",
    "\n",
    "    M_eigen_vects = np.linalg.eig(A)[1] ## Retorna a matriz de autovetores em forma de coluna\n",
    "    eigen_vects = [M_eigen_vects[:,i] for i in range(0,M_eigen_vects.shape[1])] ## Retorna cada autovetor como um vetor linha\n",
    "    for i in range(0, len(eigen_vects)):\n",
    "        for j in range(1,len(eigen_vects)):\n",
    "            if i != j:\n",
    "                if cauchy_schwarz(eigen_vects[i],eigen_vects[j]):\n",
    "                    return 1\n",
    "                    break\n",
    "    return 0"
   ]
  },
  {
   "cell_type": "markdown",
   "metadata": {},
   "source": [
    "Caso matriz diagonalizavel\n",
    "$$e^{At} = Se^{\\Lambda t} S^{-1} $$"
   ]
  },
  {
   "cell_type": "code",
   "execution_count": 3,
   "metadata": {
    "ExecuteTime": {
     "end_time": "2019-08-26T11:47:16.155567Z",
     "start_time": "2019-08-26T11:47:15.930212Z"
    }
   },
   "outputs": [],
   "source": [
    "def e_to_diag(A, t):\n",
    "    eigen = np.linalg.eig(A) \n",
    "    M_eigen_vects = eigen[1] ## Retorna a matriz de autovetores em forma de coluna\n",
    "    eigen_values= eigen[0]*t\n",
    "    e_to = np.e**eigen_values\n",
    "    diag_A = np.diag(e_to)\n",
    "    inv_M = np.linalg.inv(M_eigen_vects)\n",
    "    return  M_eigen_vects @ (diag_A) @ inv_M"
   ]
  },
  {
   "cell_type": "markdown",
   "metadata": {},
   "source": [
    "Caso matriz defeituosa\n",
    "$$\n",
    "e^{At} = I + \\frac{At}{1!} + \\frac{A^2t^2}{2!} +\\frac{A^3t^3}{3} +\\frac{A^4t^4}{4!} + \\dots\n",
    "$$"
   ]
  },
  {
   "cell_type": "code",
   "execution_count": 4,
   "metadata": {
    "ExecuteTime": {
     "end_time": "2019-08-26T11:47:16.309623Z",
     "start_time": "2019-08-26T11:47:16.161481Z"
    }
   },
   "outputs": [],
   "source": [
    "def e_to_defect(A, t, termo = 10):\n",
    "    I = np.identity(np.shape(A)[0])\n",
    "    #e_to = I + A*t + A@A * t**2/2 + (A@A@A) * t**3 /6 + (A@A@A@A) * t**4 /24 + (A@A@A@A@A) *t**5/120 +(A@A@A@A@A@A) *t**6/720 \n",
    "    e_to = I\n",
    "    for i in range(1,termo):\n",
    "        e_to += np.linalg.matrix_power(A*t, i)/np.math.factorial(i)\n",
    "    return e_to"
   ]
  },
  {
   "cell_type": "code",
   "execution_count": 58,
   "metadata": {
    "ExecuteTime": {
     "end_time": "2019-08-26T12:39:55.068513Z",
     "start_time": "2019-08-26T12:39:55.042754Z"
    }
   },
   "outputs": [],
   "source": [
    "def ed_solver(A, b, c, ts):\n",
    "    is_defect = verifica_defeituosa(A)\n",
    "    I = np.identity(np.shape(A)[0])\n",
    "    sol = [c]\n",
    "    b_zero = not np.all(b)\n",
    "    if b_zero:\n",
    "        for t in ts:\n",
    "            if is_defect:\n",
    "                e_to_A = e_to_defect(A, t)\n",
    "            else:\n",
    "                e_to_A = e_to_diag(A,t)\n",
    "            u_n = e_to_A@c\n",
    "            sol.append(u_n)\n",
    "    else:\n",
    "        try:\n",
    "            A_inv = np.linalg.inv(A)\n",
    "            for t in ts:\n",
    "                if is_defect:\n",
    "                    e_to_A = e_to_defect(A, t)\n",
    "                else:\n",
    "                    e_to_A = e_to_diag(A,t)\n",
    "                u_n = e_to_A@c + A_inv@(e_to_A-I)@b\n",
    "                sol.append(u_n)\n",
    "        except:\n",
    "            print(\"A matriz A não é inversível, e portanto o problema não tem solução pois b é não nulo.\")\n",
    "    return np.array(sol)"
   ]
  },
  {
   "cell_type": "code",
   "execution_count": 232,
   "metadata": {},
   "outputs": [],
   "source": [
    "def exibe_solucao_1(A, b, c):\n",
    "    ts = np.arange(0,30,0.1)\n",
    "    sol = ed_solver(A, b, c, ts)\n",
    "    sol_T = sol.T\n",
    "    i = 0\n",
    "    n = len(sol_T)\n",
    "    colors = plt.cm.rainbow(np.linspace(0,5,n))\n",
    "    plt.figure(figsize = (8,5))\n",
    "    for s in sol_T:\n",
    "        i += 1\n",
    "        plt.plot(ts, s, label = '$x_'+ str(i) + '$', color = colors[i-1])\n",
    "    plt.legend(bbox_to_anchor = (1,1))\n",
    "    plt.title('Solução da Equação Diferencial Matricial', fontweight = 'bold')\n",
    "    plt.xlabel('tempo (t)')\n",
    "    plt.grid(alpha=0.3)\n",
    "    plt.show()"
   ]
  },
  {
   "cell_type": "code",
   "execution_count": 233,
   "metadata": {},
   "outputs": [
    {
     "name": "stderr",
     "output_type": "stream",
     "text": [
      "/home/gil/anaconda3/lib/python3.7/site-packages/numpy/core/numeric.py:501: ComplexWarning: Casting complex values to real discards the imaginary part\n",
      "  return array(a, dtype, copy=False, order=order)\n"
     ]
    },
    {
     "data": {
      "image/png": "[encoded data removed]",
      "text/plain": [
       "<Figure size 576x360 with 1 Axes>"
      ]
     },
     "metadata": {
      "needs_background": "light"
     },
     "output_type": "display_data"
    }
   ],
   "source": [
    "exibe_solucao_1(A,[0,0],np.array([3,0]))"
   ]
  },
  {
   "cell_type": "code",
   "execution_count": 219,
   "metadata": {},
   "outputs": [
    {
     "name": "stderr",
     "output_type": "stream",
     "text": [
      "/home/gil/anaconda3/lib/python3.7/site-packages/numpy/core/numeric.py:501: ComplexWarning: Casting complex values to real discards the imaginary part\n",
      "  return array(a, dtype, copy=False, order=order)\n"
     ]
    },
    {
     "data": {
      "image/png": "[encoded data removed]",
      "text/plain": [
       "<Figure size 432x288 with 1 Axes>"
      ]
     },
     "metadata": {
      "needs_background": "light"
     },
     "output_type": "display_data"
    }
   ],
   "source": [
    "ts = np.arange(0,10,0.05)\n",
    "A = np.array([[0,1],[-3,0]])\n",
    "b = [0,0]\n",
    "c = [-3,0]\n",
    "exibe_solucao_1(A, b, c)\n"
   ]
  },
  {
   "cell_type": "code",
   "execution_count": 9,
   "metadata": {
    "ExecuteTime": {
     "end_time": "2019-08-26T11:47:17.481938Z",
     "start_time": "2019-08-26T11:47:17.296077Z"
    }
   },
   "outputs": [],
   "source": [
    "B = np.array([[-1,0,0],[1,-1,0],[0,1,-1]])"
   ]
  },
  {
   "cell_type": "code",
   "execution_count": 10,
   "metadata": {
    "ExecuteTime": {
     "end_time": "2019-08-26T11:47:17.623505Z",
     "start_time": "2019-08-26T11:47:17.489881Z"
    }
   },
   "outputs": [
    {
     "data": {
      "text/plain": [
       "1"
      ]
     },
     "execution_count": 10,
     "metadata": {},
     "output_type": "execute_result"
    }
   ],
   "source": [
    "verifica_defeituosa(B)\n",
    "# cauchy_schwarz(B[0],B[2])"
   ]
  },
  {
   "cell_type": "code",
   "execution_count": 11,
   "metadata": {
    "ExecuteTime": {
     "end_time": "2019-08-26T11:47:17.768153Z",
     "start_time": "2019-08-26T11:47:17.627560Z"
    }
   },
   "outputs": [
    {
     "data": {
      "text/plain": [
       "0.857492925712544"
      ]
     },
     "execution_count": 11,
     "metadata": {},
     "output_type": "execute_result"
    }
   ],
   "source": [
    "eigen_vects[0].dot(eigen_vects[1])"
   ]
  },
  {
   "cell_type": "code",
   "execution_count": 12,
   "metadata": {
    "ExecuteTime": {
     "end_time": "2019-08-20T19:12:00.964313Z",
     "start_time": "2019-08-20T19:12:00.950054Z"
    }
   },
   "outputs": [
    {
     "ename": "SyntaxError",
     "evalue": "'continue' not properly in loop (<ipython-input-12-800dcfaa0b28>, line 10)",
     "output_type": "error",
     "traceback": [
      "\u001b[0;36m  File \u001b[0;32m\"<ipython-input-12-800dcfaa0b28>\"\u001b[0;36m, line \u001b[0;32m10\u001b[0m\n\u001b[0;31m    continue\u001b[0m\n\u001b[0m    ^\u001b[0m\n\u001b[0;31mSyntaxError\u001b[0m\u001b[0;31m:\u001b[0m 'continue' not properly in loop\n"
     ]
    }
   ],
   "source": [
    "a = [[1,0,0],[0,1,0],[0,0,0]]\n",
    "if 0 == 1:\n",
    "    print('oi')\n",
    "else:\n",
    "    try:\n",
    "        np.linalg.inv(a)\n",
    "        print('ops')\n",
    "    except:\n",
    "        print('ok')\n",
    "        continue\n",
    "    print('foda')"
   ]
  },
  {
   "cell_type": "code",
   "execution_count": null,
   "metadata": {
    "ExecuteTime": {
     "end_time": "2019-08-20T19:25:47.693737Z",
     "start_time": "2019-08-20T19:25:47.677854Z"
    }
   },
   "outputs": [],
   "source": []
  },
  {
   "cell_type": "code",
   "execution_count": 11,
   "metadata": {
    "ExecuteTime": {
     "end_time": "2019-08-26T11:47:17.903317Z",
     "start_time": "2019-08-26T11:47:17.773447Z"
    }
   },
   "outputs": [
    {
     "data": {
      "text/plain": [
       "array([[-18.0189363 ,  18.15427158],\n",
       "       [-72.61708633,  72.75242162]])"
      ]
     },
     "execution_count": 11,
     "metadata": {},
     "output_type": "execute_result"
    }
   ],
   "source": [
    "# A = np.array([[1,0],[0,1]])\n",
    "e_to_diag(A,2)"
   ]
  },
  {
   "cell_type": "code",
   "execution_count": 12,
   "metadata": {
    "ExecuteTime": {
     "end_time": "2019-08-26T11:47:18.081206Z",
     "start_time": "2019-08-26T11:47:17.908134Z"
    }
   },
   "outputs": [
    {
     "data": {
      "text/plain": [
       "array([[-17.8712522 ,  18.00634921],\n",
       "       [-72.02539683,  72.16049383]])"
      ]
     },
     "execution_count": 12,
     "metadata": {},
     "output_type": "execute_result"
    }
   ],
   "source": [
    "e_to_defect(A,2)"
   ]
  },
  {
   "cell_type": "code",
   "execution_count": 105,
   "metadata": {
    "ExecuteTime": {
     "end_time": "2019-08-26T11:47:18.279173Z",
     "start_time": "2019-08-26T11:47:18.085787Z"
    }
   },
   "outputs": [],
   "source": [
    "colors = plt.cm.jet(np.linspace(0,1,10))"
   ]
  },
  {
   "cell_type": "code",
   "execution_count": 106,
   "metadata": {
    "ExecuteTime": {
     "end_time": "2019-08-26T11:47:18.413729Z",
     "start_time": "2019-08-26T11:47:18.284776Z"
    }
   },
   "outputs": [
    {
     "data": {
      "text/plain": [
       "array([[0.        , 0.        , 0.5       , 1.        ],\n",
       "       [0.        , 0.        , 0.99910873, 1.        ],\n",
       "       [0.        , 0.37843137, 1.        , 1.        ],\n",
       "       [0.        , 0.83333333, 1.        , 1.        ],\n",
       "       [0.30044276, 1.        , 0.66729918, 1.        ],\n",
       "       [0.66729918, 1.        , 0.30044276, 1.        ],\n",
       "       [1.        , 0.90123457, 0.        , 1.        ],\n",
       "       [1.        , 0.48002905, 0.        , 1.        ],\n",
       "       [0.99910873, 0.07334786, 0.        , 1.        ],\n",
       "       [0.5       , 0.        , 0.        , 1.        ]])"
      ]
     },
     "execution_count": 106,
     "metadata": {},
     "output_type": "execute_result"
    }
   ],
   "source": [
    "colors"
   ]
  },
  {
   "cell_type": "code",
   "execution_count": 136,
   "metadata": {},
   "outputs": [
    {
     "data": {
      "text/plain": [
       "<matplotlib.colors.Colormap at 0x7f40da90b7b8>"
      ]
     },
     "execution_count": 136,
     "metadata": {},
     "output_type": "execute_result"
    }
   ],
   "source": [
    "plt_color.Colormap('bone',5)"
   ]
  },
  {
   "cell_type": "code",
   "execution_count": 142,
   "metadata": {},
   "outputs": [
    {
     "data": {
      "text/plain": [
       "(1.0, 0.1158089393383511, 0.0, 1.0)"
      ]
     },
     "execution_count": 142,
     "metadata": {},
     "output_type": "execute_result"
    }
   ],
   "source": [
    "plt.cm.hsv(5)"
   ]
  },
  {
   "cell_type": "code",
   "execution_count": null,
   "metadata": {},
   "outputs": [],
   "source": []
  }
 ],
 "metadata": {
  "kernelspec": {
   "display_name": "Python 3",
   "language": "python",
   "name": "python3"
  },
  "language_info": {
   "codemirror_mode": {
    "name": "ipython",
    "version": 3
   },
   "file_extension": ".py",
   "mimetype": "text/x-python",
   "name": "python",
   "nbconvert_exporter": "python",
   "pygments_lexer": "ipython3",
   "version": "3.7.3"
  }
 },
 "nbformat": 4,
 "nbformat_minor": 2
}
