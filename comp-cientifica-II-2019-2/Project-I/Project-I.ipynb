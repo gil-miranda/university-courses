{
 "cells": [
  {
   "cell_type": "markdown",
   "metadata": {},
   "source": [
    "# Projeto I - Computação Centífica II\n",
    "### Solução de EDOs\n",
    "> Autor: Gil Miranda<br>\n",
    "> Contato: gil.neto@ufrj.br<br>\n",
    "> Repo: [@mirandagil](https://github.com/mirandagil)<br>"
   ]
  },
  {
   "cell_type": "code",
   "execution_count": 1,
   "metadata": {
    "ExecuteTime": {
     "end_time": "2019-08-29T13:17:02.937829Z",
     "start_time": "2019-08-29T13:16:57.867684Z"
    }
   },
   "outputs": [],
   "source": [
    "import numpy as np\n",
    "import matplotlib.pyplot as plt\n",
    "import matplotlib.colors as plt_color"
   ]
  },
  {
   "cell_type": "markdown",
   "metadata": {},
   "source": [
    "### Encontrando a solução da EDO - refazer\n",
    "\n",
    "$$\\frac{\\mathrm{d}u}{\\mathrm{d}t} = Au + b$$\n",
    "Como é uma equação separável, podemos resolver da seguinte forma:\n",
    "$$\n",
    "\\begin{align}\n",
    "\\frac{\\mathrm{d}u}{Au + b} &= \\mathrm{d}t\\\\\n",
    "\\int \\frac{\\mathrm{d}u}{Au + b} &= \\int \\mathrm{d}t\\\\\n",
    "ln(Au+b)&= A(t+c)\\\\\n",
    "Au &= C_0 e^{At} - b\\\\\n",
    "u &= \\frac{C_0 e^{At}}{A} - \\frac{b}{A}\\\\\n",
    "\\text{Mas como A é uma matriz, a solução terá a forma}\\\\\n",
    "u(t) &= A^{-1} C_0 e^{At} - A^{-1} b\\\\\n",
    "\\text{Para descobrirmos $C_0$}\\\\\n",
    "u(0) &= A^{-1} C_0 e^{0} - A^{-1} b\\\\\n",
    "C_0 &= Au_0 + b\n",
    "\\end{align}\n",
    "$$\n",
    "\n",
    "$$\n",
    "    u(t) = e^{At}u_0+ A^{-1} (e^{At}-I)g\n",
    "$$"
   ]
  },
  {
   "cell_type": "markdown",
   "metadata": {},
   "source": [
    "### Verificando sanidade das matrizes"
   ]
  },
  {
   "cell_type": "code",
   "execution_count": 2,
   "metadata": {
    "ExecuteTime": {
     "end_time": "2019-08-29T13:17:03.034518Z",
     "start_time": "2019-08-29T13:17:02.942814Z"
    }
   },
   "outputs": [],
   "source": [
    "def verifica_defeituosa(A): ## input: A -> Matriz\n",
    "    def cauchy_schwarz(u,v): ## input: u - vetor nx1, v -> vetor nx1\n",
    "        norm_u = np.linalg.norm(u)\n",
    "        norm_v = np.linalg.norm(v)\n",
    "        scalar_product = np.dot(u,v)\n",
    "        if abs(scalar_product) == abs(norm_u * norm_v):\n",
    "            return 1\n",
    "        else:\n",
    "            return 0\n",
    "\n",
    "    M_eigen_vects = np.linalg.eig(A)[1] ## Retorna a matriz de autovetores em forma de coluna\n",
    "    eigen_vects = [M_eigen_vects[:,i] for i in range(0,M_eigen_vects.shape[1])] ## Retorna cada autovetor como um vetor linha\n",
    "    for i in range(0, len(eigen_vects)):\n",
    "        for j in range(1,len(eigen_vects)):\n",
    "            if i != j:\n",
    "                if cauchy_schwarz(eigen_vects[i],eigen_vects[j]):\n",
    "                    return 1\n",
    "                    break\n",
    "    return 0"
   ]
  },
  {
   "cell_type": "markdown",
   "metadata": {},
   "source": [
    "Caso matriz diagonalizavel\n",
    "$$e^{At} = Se^{\\Lambda t} S^{-1} $$"
   ]
  },
  {
   "cell_type": "code",
   "execution_count": 3,
   "metadata": {
    "ExecuteTime": {
     "end_time": "2019-08-29T13:17:11.909342Z",
     "start_time": "2019-08-29T13:17:11.894778Z"
    }
   },
   "outputs": [],
   "source": [
    "def e_to_diag(A, t):\n",
    "    eigen = np.linalg.eig(A) \n",
    "    M_eigen_vects = eigen[1] ## Retorna a matriz de autovetores em forma de coluna\n",
    "    eigen_values= eigen[0]*t\n",
    "    e_to = np.e**eigen_values\n",
    "    diag_A = np.diag(e_to)\n",
    "    inv_M = np.linalg.inv(M_eigen_vects)\n",
    "    return  M_eigen_vects @ (diag_A) @ inv_M"
   ]
  },
  {
   "cell_type": "markdown",
   "metadata": {},
   "source": [
    "Caso matriz defeituosa\n",
    "$$\n",
    "e^{At} = I + \\frac{At}{1!} + \\frac{A^2t^2}{2!} +\\frac{A^3t^3}{3} +\\frac{A^4t^4}{4!} + \\dots\n",
    "$$"
   ]
  },
  {
   "cell_type": "code",
   "execution_count": 4,
   "metadata": {
    "ExecuteTime": {
     "end_time": "2019-08-29T13:17:14.637049Z",
     "start_time": "2019-08-29T13:17:14.622753Z"
    }
   },
   "outputs": [],
   "source": [
    "def e_to_defect(A, t, termo = 10):\n",
    "    I = np.identity(np.shape(A)[0])\n",
    "    #e_to = I + A*t + A@A * t**2/2 + (A@A@A) * t**3 /6 + (A@A@A@A) * t**4 /24 + (A@A@A@A@A) *t**5/120 +(A@A@A@A@A@A) *t**6/720 \n",
    "    e_to = I\n",
    "    for i in range(1,termo):\n",
    "        e_to += np.linalg.matrix_power(A*t, i)/np.math.factorial(i)\n",
    "    return e_to"
   ]
  },
  {
   "cell_type": "markdown",
   "metadata": {},
   "source": [
    "### Solver para ED"
   ]
  },
  {
   "cell_type": "code",
   "execution_count": 5,
   "metadata": {
    "ExecuteTime": {
     "end_time": "2019-08-29T13:17:15.165957Z",
     "start_time": "2019-08-29T13:17:15.141474Z"
    }
   },
   "outputs": [],
   "source": [
    "def ed_solver(A, b, c, ts):\n",
    "    is_defect = verifica_defeituosa(A)\n",
    "    I = np.identity(np.shape(A)[0])\n",
    "    sol = [c]\n",
    "    b_zero = not np.all(b)\n",
    "    if b_zero:\n",
    "        for t in ts:\n",
    "            if is_defect:\n",
    "                e_to_A = e_to_defect(A, t)\n",
    "            else:\n",
    "                e_to_A = e_to_diag(A,t)\n",
    "            u_n = e_to_A@c\n",
    "            sol.append(u_n)\n",
    "    else:\n",
    "        try:\n",
    "            A_inv = np.linalg.inv(A)\n",
    "            for t in ts:\n",
    "                if is_defect:\n",
    "                    e_to_A = e_to_defect(A, t)\n",
    "                else:\n",
    "                    e_to_A = e_to_diag(A,t)\n",
    "                u_n = e_to_A@c + A_inv@(e_to_A-I)@b\n",
    "                sol.append(u_n)\n",
    "        except:\n",
    "            print(\"A matriz A não é inversível, e portanto o problema não tem solução pois b é não nulo.\")\n",
    "    return np.array(sol)"
   ]
  },
  {
   "cell_type": "markdown",
   "metadata": {},
   "source": [
    "### Função para exibir solução de uma edo dada a partir de uma Matriz"
   ]
  },
  {
   "cell_type": "code",
   "execution_count": 6,
   "metadata": {
    "ExecuteTime": {
     "end_time": "2019-08-29T13:19:10.215878Z",
     "start_time": "2019-08-29T13:19:10.193432Z"
    }
   },
   "outputs": [],
   "source": [
    "def exibe_solucao_1(A, b, c, t = [-3,3,0.1]):\n",
    "    ts = np.arange(t[0], t[1], t[2])\n",
    "    sol = ed_solver(A, b, c, ts)\n",
    "    sol = sol[1:]\n",
    "    sol_T = sol.T\n",
    "    i = 0\n",
    "    n = len(sol_T)\n",
    "#     colors = plt.cm.rainbow(np.linspace(0,5,n))\n",
    "    plt.figure(figsize = (10,5))\n",
    "    for s in sol_T:\n",
    "        i += 1\n",
    "        plt.plot(ts, s, label = '$x_'+ str(i) + '$')\n",
    "    plt.legend(bbox_to_anchor = (1,1))\n",
    "    plt.title('Solução da Equação Diferencial Matricial', fontweight = 'bold')\n",
    "    plt.xlabel('tempo (t)')\n",
    "    plt.grid(alpha=0.3)\n",
    "    plt.show()"
   ]
  },
  {
   "cell_type": "code",
   "execution_count": 7,
   "metadata": {
    "ExecuteTime": {
     "end_time": "2019-08-29T13:19:11.970362Z",
     "start_time": "2019-08-29T13:19:10.810188Z"
    }
   },
   "outputs": [
    {
     "ename": "NameError",
     "evalue": "name 'A' is not defined",
     "output_type": "error",
     "traceback": [
      "\u001b[0;31m---------------------------------------------------------------------------\u001b[0m",
      "\u001b[0;31mNameError\u001b[0m                                 Traceback (most recent call last)",
      "\u001b[0;32m<ipython-input-7-455fff763edf>\u001b[0m in \u001b[0;36m<module>\u001b[0;34m\u001b[0m\n\u001b[0;32m----> 1\u001b[0;31m \u001b[0mexibe_solucao_1\u001b[0m\u001b[0;34m(\u001b[0m\u001b[0mA\u001b[0m\u001b[0;34m,\u001b[0m\u001b[0;34m[\u001b[0m\u001b[0;36m0\u001b[0m\u001b[0;34m,\u001b[0m\u001b[0;36m0\u001b[0m\u001b[0;34m]\u001b[0m\u001b[0;34m,\u001b[0m\u001b[0mnp\u001b[0m\u001b[0;34m.\u001b[0m\u001b[0marray\u001b[0m\u001b[0;34m(\u001b[0m\u001b[0;34m[\u001b[0m\u001b[0;36m3\u001b[0m\u001b[0;34m,\u001b[0m\u001b[0;36m0\u001b[0m\u001b[0;34m]\u001b[0m\u001b[0;34m)\u001b[0m\u001b[0;34m)\u001b[0m\u001b[0;34m\u001b[0m\u001b[0;34m\u001b[0m\u001b[0m\n\u001b[0m",
      "\u001b[0;31mNameError\u001b[0m: name 'A' is not defined"
     ]
    }
   ],
   "source": [
    "exibe_solucao_1(A,[0,0],np.array([3,0]))"
   ]
  },
  {
   "cell_type": "code",
   "execution_count": 8,
   "metadata": {
    "ExecuteTime": {
     "end_time": "2019-08-29T13:21:07.641618Z",
     "start_time": "2019-08-29T13:21:07.217401Z"
    }
   },
   "outputs": [
    {
     "name": "stderr",
     "output_type": "stream",
     "text": [
      "/usr/lib/python3.7/site-packages/numpy/core/numeric.py:501: ComplexWarning: Casting complex values to real discards the imaginary part\n",
      "  return array(a, dtype, copy=False, order=order)\n"
     ]
    },
    {
     "data": {
      "image/png": "[encoded data removed]",
      "text/plain": [
       "<Figure size 720x360 with 1 Axes>"
      ]
     },
     "metadata": {
      "needs_background": "light"
     },
     "output_type": "display_data"
    }
   ],
   "source": [
    "ts = np.arange(0,30,0.05)\n",
    "A = np.array([[0,1],[-3,0]])\n",
    "b = [0,0]\n",
    "c = [-3,0]\n",
    "exibe_solucao_1(A, b, c)\n"
   ]
  },
  {
   "cell_type": "code",
   "execution_count": 9,
   "metadata": {
    "ExecuteTime": {
     "end_time": "2019-08-29T13:21:57.754604Z",
     "start_time": "2019-08-29T13:21:57.347059Z"
    }
   },
   "outputs": [
    {
     "data": {
      "image/png": "[encoded data removed]",
      "text/plain": [
       "<Figure size 720x360 with 1 Axes>"
      ]
     },
     "metadata": {
      "needs_background": "light"
     },
     "output_type": "display_data"
    }
   ],
   "source": [
    "ts = np.arange(0,30,0.05)\n",
    "A = np.array([[0,1],[-1,1]])\n",
    "b = [0,-1]\n",
    "c = [0,1]\n",
    "exibe_solucao_1(A, b, c)\n"
   ]
  },
  {
   "cell_type": "code",
   "execution_count": 10,
   "metadata": {
    "ExecuteTime": {
     "end_time": "2019-08-29T13:17:56.897912Z",
     "start_time": "2019-08-29T13:17:56.888692Z"
    }
   },
   "outputs": [],
   "source": [
    "B = np.array([[-1,0,0],[1,-1,0],[0,1,-1]])"
   ]
  },
  {
   "cell_type": "markdown",
   "metadata": {},
   "source": [
    "### Gerar matriz A, dada uma equação diferencial\n",
    "\n",
    "A função `gen_mAb(eq)` gera a matriz $A$ e o vetor $b$ dada uma lista com coeficientes da equação diferencial, para a forma\n",
    "$$\\frac{\\mathrm{d}u}{\\mathrm{d}t} = Au + b$$"
   ]
  },
  {
   "cell_type": "code",
   "execution_count": 19,
   "metadata": {},
   "outputs": [],
   "source": [
    "def gen_mAb(eq): ## Input -> eq: lista de coeficientes da ed.\n",
    "    col_len = len(eq) - 2 ## Armazena o tamanho da matrix A nxn, que é o tamanho do array retirados dois coeficientes\n",
    "    A = np.zeros(shape=(col_len, col_len)) ## Gera a matriz A com zeros\n",
    "    I = np.eye(col_len) ## Gera uma matriz identidade\n",
    "    I[0] = I[0]*0 ## Transforma a primeira linha de I em zeros\n",
    "    I_desl = np.roll(I, -1, 0) ## Desloca a matriz identidade para a direita\n",
    "    b = np.zeros(col_len) ## Gera o vetor b com zeros\n",
    "    b[-1] = eq[-1] ## Insere como último elemento de b a constante c\n",
    "    for (i,j) in zip(np.flip(eq[1:-1]),range(0,col_len)): ## Insere os coeficientes na última linha da matriz A\n",
    "        A[-1][j] = -i/eq[0]\n",
    "    A = A + I_desl ## Soma A com a identidade deslocada\n",
    "    print(A)\n",
    "    return A, b ## Output -> A: Matriz do sistema de edos de primeira ordem. b: Vetor constante\n"
   ]
  },
  {
   "cell_type": "markdown",
   "metadata": {},
   "source": [
    "$2y'' -y' + 5y = 0$"
   ]
  },
  {
   "cell_type": "code",
   "execution_count": 20,
   "metadata": {},
   "outputs": [],
   "source": [
    "eq = [-1,-2,1,-1]\n",
    "c = [1,1]"
   ]
  },
  {
   "cell_type": "code",
   "execution_count": 21,
   "metadata": {},
   "outputs": [],
   "source": [
    "def exibe_solucao_2(eq,c):\n",
    "    A, b = gen_mAb(eq)\n",
    "    c = np.flip(c)\n",
    "    exibe_solucao_1(A, b, c, t = [-3,3,0.1])"
   ]
  },
  {
   "cell_type": "code",
   "execution_count": 22,
   "metadata": {},
   "outputs": [
    {
     "name": "stdout",
     "output_type": "stream",
     "text": [
      "[[ 0.  1.]\n",
      " [ 1. -2.]]\n"
     ]
    },
    {
     "data": {
      "image/png": "[encoded data removed]",
      "text/plain": [
       "<Figure size 720x360 with 1 Axes>"
      ]
     },
     "metadata": {
      "needs_background": "light"
     },
     "output_type": "display_data"
    }
   ],
   "source": [
    "exibe_solucao_2(eq,[1,1])"
   ]
  },
  {
   "cell_type": "code",
   "execution_count": 237,
   "metadata": {},
   "outputs": [],
   "source": [
    "D = np.roll(I,-1,0)"
   ]
  },
  {
   "cell_type": "code",
   "execution_count": 121,
   "metadata": {},
   "outputs": [
    {
     "name": "stdout",
     "output_type": "stream",
     "text": [
      "2\n",
      "3\n",
      "4\n",
      "5\n",
      "6\n",
      "7\n"
     ]
    }
   ],
   "source": [
    "eq = [1,2,3,4,5,6,7,8]\n",
    "for i in eq[1:-1]:\n",
    "    print(i)"
   ]
  },
  {
   "cell_type": "code",
   "execution_count": null,
   "metadata": {},
   "outputs": [],
   "source": []
  }
 ],
 "metadata": {
  "kernelspec": {
   "display_name": "Python 3",
   "language": "python",
   "name": "python3"
  },
  "language_info": {
   "codemirror_mode": {
    "name": "ipython",
    "version": 3
   },
   "file_extension": ".py",
   "mimetype": "text/x-python",
   "name": "python",
   "nbconvert_exporter": "python",
   "pygments_lexer": "ipython3",
   "version": "3.7.4"
  }
 },
 "nbformat": 4,
 "nbformat_minor": 2
}
