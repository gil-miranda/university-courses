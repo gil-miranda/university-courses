{
 "cells": [
  {
   "cell_type": "code",
   "execution_count": 5,
   "metadata": {},
   "outputs": [],
   "source": [
    "import numpy as np\n",
    "import matplotlib.pyplot as plt"
   ]
  },
  {
   "cell_type": "markdown",
   "metadata": {},
   "source": [
    "$$\n",
    "-\\nabla k(\\nabla T) = 0\n",
    "$$\n",
    "Isto é\n",
    "$$\n",
    "-k \\cdot \\left(\\frac{\\partial^2 T}{\\partial x^2} + \\frac{\\partial^2 T}{\\partial y^2}\\right) = 0\n",
    "$$"
   ]
  },
  {
   "cell_type": "code",
   "execution_count": 16,
   "metadata": {},
   "outputs": [],
   "source": [
    "def f(x,y):\n",
    "    return 0\n",
    "\n",
    "def kappa_1(x,y):\n",
    "    return 410\n",
    "\n",
    "def g(x,y):\n",
    "    if x < 0.05:\n",
    "        return 410\n",
    "    else:\n",
    "        return 0.1\n",
    "    \n",
    "def solver_heat(f, Nx, Ny, b_values, k):\n",
    "        A = []\n",
    "        b = np.zeros(Nx*Ny)\n",
    "        hx = 1/(Nx+1)\n",
    "        hy = 1/(Ny-1)\n",
    "        xs = [i*hx for i in range(1,Nx+1)]\n",
    "        ys = [(j-1)*hy for j in range(1,Ny+1)]\n",
    "\n",
    "        for n in range(Nx*Ny):\n",
    "            j = n//Nx + 1\n",
    "            i = n - Nx*(j-1)+1\n",
    "\n",
    "            xi = xs[i-1]\n",
    "            yj = ys[j-1]\n",
    "            xi_half_b = xi-hx/2 ## x_{i-1/2}, backward half step\n",
    "            xi_half_f = xi+hx/2 ## x_{i+1/2}, forward half step\n",
    "            yj_half_b = yj-hy/2 ## y_{j-1/2}, backward half step\n",
    "            yj_half_f = yj+hy/2 ## y_{j+1/2}, forward half step\n",
    "\n",
    "            a = np.zeros(Nx*Ny)\n",
    "            a[n] = -(k(xi_half_f, yj) + k(xi_half_b, yj))/hx**2 - (k(xi, yj_half_f) + k(xi, yj_half_b))/hy**2 \n",
    "            if i == 1:\n",
    "                b[n] -= k(xi_half_b, yj)*b_values[0]/hx**2\n",
    "            else:\n",
    "                a[n-1] = k(xi_half_b, yj)/hx**2\n",
    "            if i == Nx:\n",
    "                b[n] -= k(xi_half_f, yj)*b_values[1]/hx**2\n",
    "            else:\n",
    "                a[n+1] = k(xi_half_f, yj)/hx**2\n",
    "            if j == 1:\n",
    "                a[n] += k(xi, yj_half_b)/hy**2\n",
    "            else:\n",
    "                a[n-Nx] = k(xi, yj_half_b)/hy**2\n",
    "            if j == Ny:\n",
    "                a[n] += k(xi, yj_half_f)/hy**2\n",
    "            else:\n",
    "                a[n+Nx] = k(xi, yj_half_f)/hy**2\n",
    "            A.append(a)\n",
    "        ys = np.linalg.solve(A,b)\n",
    "        M = []\n",
    "        \n",
    "        for i in range(0, Nx*Ny, Nx):\n",
    "            y = ys[i:i+Nx]\n",
    "            M.append(y)\n",
    "        return np.array(M)"
   ]
  },
  {
   "cell_type": "code",
   "execution_count": 18,
   "metadata": {},
   "outputs": [
    {
     "data": {
      "text/plain": [
       "<matplotlib.contour.QuadContourSet at 0x7fd74b523820>"
      ]
     },
     "execution_count": 18,
     "metadata": {},
     "output_type": "execute_result"
    },
    {
     "data": {
      "image/png": "[encoded data removed]",
      "text/plain": [
       "<Figure size 432x288 with 1 Axes>"
      ]
     },
     "metadata": {
      "needs_background": "light"
     },
     "output_type": "display_data"
    }
   ],
   "source": [
    "ys = solver_heat(f, 30, 30, [500,293], kappa_1)\n",
    "plt.contourf(ys)"
   ]
  },
  {
   "cell_type": "code",
   "execution_count": null,
   "metadata": {},
   "outputs": [],
   "source": []
  }
 ],
 "metadata": {
  "kernelspec": {
   "display_name": "Python 3",
   "language": "python",
   "name": "python3"
  },
  "language_info": {
   "codemirror_mode": {
    "name": "ipython",
    "version": 3
   },
   "file_extension": ".py",
   "mimetype": "text/x-python",
   "name": "python",
   "nbconvert_exporter": "python",
   "pygments_lexer": "ipython3",
   "version": "3.8.0"
  }
 },
 "nbformat": 4,
 "nbformat_minor": 2
}
