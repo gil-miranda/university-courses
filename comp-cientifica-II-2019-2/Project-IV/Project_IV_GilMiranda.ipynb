{
 "cells": [
  {
   "cell_type": "markdown",
   "metadata": {},
   "source": [
    "# Project IV - SciComp II\n",
    "## Heat Equation with Finite Difference on a non-square domain\n",
    "> Author: Gil Miranda Neto<br>\n",
    "> Contact: gilsmneto@gmail.com<br>\n",
    "> Repo: [@mirandagil](https://github.com/mirandagil/university-courses/tree/master/comp-cientifica-II-2019-2/Project-IV)<br>\n",
    "\n",
    "\n",
    "---"
   ]
  },
  {
   "cell_type": "code",
   "execution_count": 1,
   "metadata": {},
   "outputs": [],
   "source": [
    "import numpy as np\n",
    "import matplotlib.pyplot as plt\n",
    "import matplotlib.ticker as ticker"
   ]
  },
  {
   "cell_type": "markdown",
   "metadata": {},
   "source": [
    "## Preparando a equação e condições de contorno"
   ]
  },
  {
   "cell_type": "markdown",
   "metadata": {},
   "source": [
    "#### A equação\n",
    "\n",
    "$$\n",
    "-\\nabla \\kappa(\\nabla T) = 0\n",
    "$$\n",
    "\n",
    "#### Domínio\n",
    "\n",
    "A equação é resolvida num domínio $(x,y)$ obedecendo a relação: $x \\leq 0.61$ se $y \\geq 0.61$ e $y \\leq 0.61$ se $x \\geq 0.61$\n",
    "\n",
    "#### Discretização da equação\n",
    "\n",
    "$$\n",
    "\\frac{\\kappa_{i+\\frac{1}{2},j}\\left(\\frac{T_{i+1,j} - T_{i,j}}{h_x}\\right) - \\kappa_{i-\\frac{1}{2}}\\left(\\frac{T_{i,j} - T_{i-1,j}}{h_x}\\right)}{h_x} + \\frac{\\kappa_{i+\\frac{1}{2},j}\\left(\\frac{T_{i,j+1} - T_{i,j}}{h_y}\\right) - \\kappa_{i-\\frac{1}{2}}\\left(\\frac{T_{i,j} - T_{i,j-1}}{h_y}\\right)}{h_y} = 0\n",
    "$$\n",
    "\n",
    "#### Condições iniciais\n",
    "\n",
    "\n",
    "Onde temos condições de contorno de `Newton` $\\begin{cases}T_{out} = -11º\\\\\\kappa = 25 \\end{cases} \\implies \\kappa \\frac{\\partial T}{\\partial n} = \\kappa (T_n + 11)$<br>\n",
    "E temos condições de contorno de `Neumann` $\\kappa \\frac{\\partial T}{\\partial n} = 0 \\implies T_{n-1} = T_{n+1}$"
   ]
  },
  {
   "cell_type": "code",
   "execution_count": 2,
   "metadata": {},
   "outputs": [],
   "source": [
    "##### Heat Equation Solver\n",
    "### Input:  Nx -> number of points on the X grid;\n",
    "###         Ny -> number of points on the Y grid;\n",
    "###         b_values -> Boundary condition values for T and K;\n",
    "### Output: M -> Matrix of temperatures\n",
    "##### Gil Miranda - last revision 07/12/2019\n",
    "\n",
    "def solver_heat(Nx, Ny, b_values):\n",
    "    ## Function for kappa\n",
    "    def kappa(xi,yi):\n",
    "        ## Plaster\n",
    "        if (xi <= 0.02 or yj <= 0.02):\n",
    "            return 0.81\n",
    "        elif (xi<=0.14) or (yj <= 0.14):\n",
    "            return 0.049\n",
    "        elif (xi<=0.59) or (yj<=0.59):\n",
    "            return 0.5\n",
    "        elif (xi<=0.61) or (yj<=0.61):\n",
    "            return 0.99\n",
    "        else:\n",
    "            return 0\n",
    "    \n",
    "    ## Function to check if calculations are being made on the L domain\n",
    "    def check_domain(xi, yj):\n",
    "        if (xi >= 0.61 and yj >= 0.61):\n",
    "            return False\n",
    "        else:\n",
    "            return True\n",
    "        \n",
    "    A = []\n",
    "    b = np.zeros(Nx*Ny)\n",
    "    hx = 1.61/(Nx-1)\n",
    "    hy = 1.61/(Ny-1)\n",
    "    xs = np.linspace(0,1.61,Nx)\n",
    "    ys = np.linspace(0,1.61,Ny)\n",
    "        \n",
    "    for n in range(Nx*Ny):\n",
    "        j = n//Nx + 1\n",
    "        i = n - Nx*(j-1)+1\n",
    "        xi = xs[i-1]\n",
    "        yj = ys[j-1]\n",
    "            \n",
    "        xi_half_b = xi-hx/2 ## x_{i-1/2}, backward half step\n",
    "        xi_half_f = xi+hx/2 ## x_{i+1/2}, forward half step\n",
    "        yj_half_b = yj-hy/2 ## y_{j-1/2}, backward half step\n",
    "        yj_half_f = yj+hy/2 ## y_{j+1/2}, forward half step\n",
    "        \n",
    "        a = np.zeros(Nx*Ny)\n",
    "        a[n] += -kappa(xi_half_b, yj)/hx**2 -kappa(xi_half_f, yj)/hx**2 - kappa(xi, yj_half_f)/hy**2 - kappa(xi, yj_half_b)/hy**2\n",
    "        \n",
    "        if check_domain(xi, yj):\n",
    "            if i == Nx:\n",
    "                a[n-1] += kappa(xi, yj)/hx**2\n",
    "            else:\n",
    "                a[n+1] += kappa(xi_half_f, yj)/hx**2\n",
    "                \n",
    "            if np.isclose(xi,0.61,atol = hx) and yj > 0.61:\n",
    "                a[n] -= b_values[0][1]*2/hx\n",
    "                a[n-1] += kappa(xi, yj)/hx**2\n",
    "                b[n] -= b_values[0][1]*b_values[1][1]/hx\n",
    "            if j == Ny:\n",
    "                a[n-Nx] += kappa(xi, yj)/hy**2\n",
    "            else:\n",
    "                a[n+Nx] += kappa(xi, yj_half_f)/hy**2\n",
    "            if np.isclose(yj,0.61,atol = hy) and xi > 0.61:\n",
    "                a[n] -= b_values[0][1]*2/hy\n",
    "                a[n-Nx] += kappa(xi, yj)/hy**2\n",
    "                b[n] -= b_values[0][1]*b_values[1][1]/hy\n",
    "            if i == 1:\n",
    "                a[n] += b_values[0][0]*2/hx\n",
    "                a[n+1] += kappa(xi, yj)/hx**2\n",
    "                b[n] -= b_values[0][0]*-b_values[1][0]/hx\n",
    "            else:\n",
    "                a[n-1] += kappa(xi_half_b, yj)/hx**2\n",
    "            if j == 1:\n",
    "                a[n] += b_values[0][0]*2/hy\n",
    "                a[n+Nx] += kappa(xi, yj)/hy**2\n",
    "                b[n] -= b_values[0][0]*-b_values[1][0]/hy\n",
    "            else:\n",
    "                a[n-Nx] += kappa(xi, yj_half_b)/hy**2\n",
    "        else:\n",
    "            a[n] = 1\n",
    "            b[n] = 0\n",
    "        A.append(a)\n",
    "            \n",
    "            \n",
    "    ys = np.linalg.solve(A,b)\n",
    "    M = []\n",
    "        \n",
    "    for i in range(0, Nx*Ny, Nx):\n",
    "        y = ys[i:i+Nx]\n",
    "        M.append(y) \n",
    "    for n in range(Nx*Ny):\n",
    "            j = n//Nx + 1\n",
    "            i = n - Nx*(j-1)+1\n",
    "            i_c = (i)*1.61/Nx\n",
    "            j_c = (j)*1.61/Ny\n",
    "            if i_c >= 0.61 and j_c >= 0.61:\n",
    "                M[j-1][i-1] = np.nan\n",
    "    return M"
   ]
  },
  {
   "cell_type": "code",
   "execution_count": 3,
   "metadata": {},
   "outputs": [
    {
     "data": {
      "image/png": "[encoded data removed]",
      "text/plain": [
       "<Figure size 936x720 with 2 Axes>"
      ]
     },
     "metadata": {
      "needs_background": "light"
     },
     "output_type": "display_data"
    }
   ],
   "source": [
    "Nx = 80\n",
    "Ny = 80\n",
    "ys = solver_heat(Nx, Ny, [(25,6),(-11,20)])\n",
    "\n",
    "plt.figure(figsize = (13,10))\n",
    "\n",
    "ax = plt.gca()\n",
    "contourplot = plt.contourf(ys, cmap = \"Spectral_r\")\n",
    "ticks_x = ticker.FuncFormatter(lambda x, pos: '{0:.3f}'.format(x * 1.61/Nx))\n",
    "ticks_y = ticker.FuncFormatter(lambda y, pos: '{0:.3f}'.format(y * 1.61/Ny))\n",
    "ax.xaxis.set_major_formatter(ticks_x)\n",
    "ax.yaxis.set_major_formatter(ticks_y)\n",
    "plt.title('Heat Equation on different materials and L shaped domain')\n",
    "plt.xlabel('$x$ coordinate ($0$ to $1.61$)')\n",
    "plt.ylabel('$y$ coordinate ($0$ to $1.61$)')\n",
    "cbar = plt.colorbar(contourplot)\n",
    "plt.show()"
   ]
  },
  {
   "cell_type": "code",
   "execution_count": null,
   "metadata": {},
   "outputs": [],
   "source": []
  }
 ],
 "metadata": {
  "kernelspec": {
   "display_name": "Python 3",
   "language": "python",
   "name": "python3"
  },
  "language_info": {
   "codemirror_mode": {
    "name": "ipython",
    "version": 3
   },
   "file_extension": ".py",
   "mimetype": "text/x-python",
   "name": "python",
   "nbconvert_exporter": "python",
   "pygments_lexer": "ipython3",
   "version": "3.8.0"
  }
 },
 "nbformat": 4,
 "nbformat_minor": 2
}
