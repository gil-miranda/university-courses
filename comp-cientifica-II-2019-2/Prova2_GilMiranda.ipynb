{
 "cells": [
  {
   "cell_type": "markdown",
   "metadata": {},
   "source": [
    "# Prova II- Computação Centífica II\n",
    "> Autor: Gil Miranda<br>\n",
    "> Contato: gil.neto@ufrj.br; gilsmneto@gmail.com"
   ]
  },
  {
   "cell_type": "markdown",
   "metadata": {},
   "source": [
    "## Set-up of dependencies and libraries"
   ]
  },
  {
   "cell_type": "code",
   "execution_count": 1,
   "metadata": {},
   "outputs": [],
   "source": [
    "import numpy as np\n",
    "import matplotlib.pyplot as plt\n",
    "import scipy.integrate\n",
    "from sympy import init_printing\n",
    "init_printing() # doctest: +KIP"
   ]
  },
  {
   "cell_type": "markdown",
   "metadata": {},
   "source": [
    "## The equation to solve"
   ]
  },
  {
   "cell_type": "markdown",
   "metadata": {},
   "source": [
    "$$\n",
    "\\epsilon \\frac{\\mathrm{d}^2u}{\\mathrm{d}x^2} + 2(1-x^2)u + u^2 = 1\n",
    "$$\n",
    "\n",
    "$$\n",
    "\\frac{\\mathrm{d}^2u}{\\mathrm{d}x^2} = \\frac{1 - 2(1-x^2)u - u^2}{\\epsilon}\n",
    "$$"
   ]
  },
  {
   "cell_type": "markdown",
   "metadata": {},
   "source": [
    "### Defining necessaries"
   ]
  },
  {
   "cell_type": "code",
   "execution_count": 2,
   "metadata": {},
   "outputs": [],
   "source": [
    "N = 5\n",
    "xs = np.linspace(-1,1,N)\n",
    "def base(j, x):\n",
    "    return np.sin(j*np.pi*x)"
   ]
  },
  {
   "cell_type": "code",
   "execution_count": 15,
   "metadata": {},
   "outputs": [],
   "source": [
    "## Defining the Integrals of the basis function\n",
    "\n",
    "def F1(j,i,x):\n",
    "    a = (np.pi*i*j/2)\n",
    "    b = np.sin(np.pi*x*(i+j))/(i+j)\n",
    "    c = np.sin(np.pi*x*(j-i))/(j-i)\n",
    "    return a*(b+c)\n",
    "\n",
    "def F2(j,x):\n",
    "    a = np.sin(2*np.pi*j*x)/np.pi*j\n",
    "    return 1/4 * (a+2*x)"
   ]
  },
  {
   "cell_type": "code",
   "execution_count": 9,
   "metadata": {},
   "outputs": [],
   "source": [
    "def F3(i,x):\n",
    "    a = -2*np.pi**3*i**3\n",
    "    b = np.sin(np.pi*i*x)\n",
    "    c = np.cos(np.pi*i*x)\n",
    "    return a*b*c"
   ]
  },
  {
   "cell_type": "code",
   "execution_count": 11,
   "metadata": {},
   "outputs": [],
   "source": [
    "A = np.zeros((N,N))"
   ]
  },
  {
   "cell_type": "code",
   "execution_count": 12,
   "metadata": {},
   "outputs": [
    {
     "name": "stdout",
     "output_type": "stream",
     "text": [
      "1.0\n",
      "0.0\n",
      "-0.0\n",
      "0.0\n",
      "-0.0\n",
      "0.0\n",
      "1.0\n",
      "1.5389365549774318e-15\n",
      "-2.3084048324661477e-15\n",
      "3.0778731099548636e-15\n",
      "-0.0\n",
      "1.5389365549774318e-15\n",
      "0.9999999999999999\n",
      "4.6168096649322955e-15\n",
      "-6.155746219909727e-15\n",
      "0.0\n",
      "-2.3084048324661477e-15\n",
      "4.6168096649322955e-15\n",
      "0.9999999999999997\n",
      "9.233619329864591e-15\n",
      "-0.0\n",
      "3.0778731099548636e-15\n",
      "-6.155746219909727e-15\n",
      "9.233619329864591e-15\n",
      "0.9999999999999993\n"
     ]
    }
   ],
   "source": [
    "for i in range(N):\n",
    "    for j in range(N):\n",
    "        if i == j:\n",
    "            A[i][j] = F2(i,1) - F2(i,-1)\n",
    "            print(F2(i,1) - F2(i,-1))\n",
    "        else:\n",
    "            A[i][j] = F1(j,i,1) - F1(j,i, -1)\n",
    "            print(F1(j,i,1) - F1(j,i, -1))"
   ]
  },
  {
   "cell_type": "code",
   "execution_count": 14,
   "metadata": {},
   "outputs": [
    {
     "data": {
      "text/plain": [
       "array([[ 1.00000000e+00,  0.00000000e+00, -0.00000000e+00,\n",
       "         0.00000000e+00, -0.00000000e+00],\n",
       "       [ 0.00000000e+00,  1.00000000e+00,  1.53893655e-15,\n",
       "        -2.30840483e-15,  3.07787311e-15],\n",
       "       [-0.00000000e+00,  1.53893655e-15,  1.00000000e+00,\n",
       "         4.61680966e-15, -6.15574622e-15],\n",
       "       [ 0.00000000e+00, -2.30840483e-15,  4.61680966e-15,\n",
       "         1.00000000e+00,  9.23361933e-15],\n",
       "       [-0.00000000e+00,  3.07787311e-15, -6.15574622e-15,\n",
       "         9.23361933e-15,  1.00000000e+00]])"
      ]
     },
     "execution_count": 14,
     "metadata": {},
     "output_type": "execute_result"
    }
   ],
   "source": [
    "A"
   ]
  },
  {
   "cell_type": "code",
   "execution_count": null,
   "metadata": {},
   "outputs": [],
   "source": []
  }
 ],
 "metadata": {
  "kernelspec": {
   "display_name": "Python 3",
   "language": "python",
   "name": "python3"
  },
  "language_info": {
   "codemirror_mode": {
    "name": "ipython",
    "version": 3
   },
   "file_extension": ".py",
   "mimetype": "text/x-python",
   "name": "python",
   "nbconvert_exporter": "python",
   "pygments_lexer": "ipython3",
   "version": "3.8.0"
  }
 },
 "nbformat": 4,
 "nbformat_minor": 2
}
