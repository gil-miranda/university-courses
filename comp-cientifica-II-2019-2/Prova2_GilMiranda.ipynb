{
 "cells": [
  {
   "cell_type": "markdown",
   "metadata": {},
   "source": [
    "# Prova II- Computação Centífica II\n",
    "> Autor: Gil Miranda<br>\n",
    "> Contato: gil.neto@ufrj.br; gilsmneto@gmail.com"
   ]
  },
  {
   "cell_type": "markdown",
   "metadata": {},
   "source": [
    "## Set-up of dependencies and libraries"
   ]
  },
  {
   "cell_type": "code",
   "execution_count": 466,
   "metadata": {},
   "outputs": [],
   "source": [
    "import numpy as np\n",
    "import matplotlib.pyplot as plt\n",
    "import scipy.integrate"
   ]
  },
  {
   "cell_type": "markdown",
   "metadata": {},
   "source": [
    "## The equation to solve"
   ]
  },
  {
   "cell_type": "markdown",
   "metadata": {},
   "source": [
    "$$\n",
    "\\epsilon \\frac{\\mathrm{d}^2u}{\\mathrm{d}x^2} + 2(1-x^2)u + u^2 = 1\n",
    "$$\n",
    "\n",
    "$$\n",
    "\\frac{\\mathrm{d}^2u}{\\mathrm{d}x^2} = \\frac{1 - 2(1-x^2)u - u^2}{\\epsilon}\n",
    "$$\n",
    "\n",
    "Tomando $\\frac{\\mathrm{d}^2u}{\\mathrm{d}x^2} = f(x)$, e uma solução como $u(x) \\approx u_h(x) = \\displaystyle\\sum^N_{j = 1} c_j \\varphi_j(x)$, podemos reescrever o problema em forma de um sistema\n",
    "$$\n",
    "A\\vec{c} = \\vec{f}\n",
    "$$\n",
    "\n",
    "Onde\n",
    "$$\n",
    "f_i = \\int^1_{-1}f(x)\\varphi_i \\mathrm{d}x\n",
    "$$\n",
    "$$\n",
    "A_{ij} = \\int^1_{-1}\\frac{\\mathrm{d}\\varphi_j}{\\mathrm{d}x}\\frac{\\mathrm{d}\\varphi_i}{\\mathrm{d}x} \\mathrm{d}x\n",
    "$$\n",
    "e $c_j$ podemos descobrir resolvendo o sistema, daí podemos utilizar a solução aproximada $u_h(x)$"
   ]
  },
  {
   "cell_type": "markdown",
   "metadata": {},
   "source": [
    "### Calculando a matriz A\n",
    "\n",
    "Vamos calcular primeiro os termos da matriz A, para isso resolvemos a integral acima, temos:\n",
    "$$\n",
    "\\varphi_j = sen(j\\pi x)\\\\\n",
    "\\frac{\\mathrm{d}\\varphi_j}{\\mathrm{d}x} = j\\pi cos(j \\pi x)\n",
    "$$\n",
    "Então a integral a ser resolvida é:\n",
    "$$\n",
    "\\int^1_{-1}(j\\pi cos(j \\pi x))(i\\pi cos(i \\pi x)) \\mathrm{d}x\n",
    "$$\n",
    "E utilizando a identidade: $cos(a)cos(b) = \\frac{1}{2}(cos(a+b)+cos(a-b))$, podemos resolver a integral\n",
    "$$\n",
    "\\begin{align}\n",
    "\\int^1_{-1}\\frac{\\pi^2 ij}{2} cos(\\pi x(j+i)) + cos(\\pi x(j-i)) \\mathrm{d}x &= \\frac{\\pi^2 ij}{2} \\left(\\int^1_{-1} cos(\\pi x(j+i))\\mathrm{d}x + \\int^1_{-1}cos(\\pi x(j-i)) \\mathrm{d}x \\right)\\\\\n",
    "&= \\frac{\\pi^2 ij}{2} \\left(\\frac{sen(\\pi x(j+i))}{\\pi(i+j)} + \\frac{sen(\\pi x(j-i))}{\\pi(j-i)}\\right)\\Big|_{-1}^{1}\\\\\n",
    "&= \\frac{\\pi^2 ij}{2} \\left(\\frac{sen(\\pi(j+i))}{\\pi(i+j)} + \\frac{sen(\\pi(j-i))}{\\pi(j-i)} - \\frac{sen(-\\pi(j+i))}{\\pi(i+j)} - \\frac{sen(-\\pi(j-i))}{\\pi(j-i)}\\right)\\\\\n",
    "&\\text{Como $j, i$ são números inteiros, temos que sua soma também é, e como $sen(n\\pi) = 0, n \\in \\mathbb{N}$}\\\\\n",
    "&= 0\n",
    "\\end{align}\n",
    "$$\n",
    "Portanto a integral é $0$, mas temos uma restrição em $i,j$ por conta do termo $(j-i)$ sendo dividido não podemos ter $j = i$ nesta integral, logo só é válida para $i \\neq j$, portanto\n",
    "$$A_{ij} = 0, \\, \\forall i \\neq j$$\n",
    "Olhando para o caso $i = j$, temos:\n",
    "$$\n",
    "\\int^1_{-1}(j\\pi cos(j \\pi x))(i\\pi cos(i \\pi x)) \\mathrm{d}x = \\int^1_{-1}j^2\\pi^2 cos^2(j \\pi x) \\mathrm{d}x\n",
    "$$\n",
    "E usando a identidade $cos^2(x) =  \\frac{1}{2}(1 + cos(2x)$\n",
    "$$\n",
    "\\begin{align}\n",
    "\\int^1_{-1}j^2\\pi^2 cos^2(j \\pi x) \\mathrm{d}x &= \\int^1_{-1}\\frac{j^2\\pi^2}{2} (1 + cos(2j \\pi x) ) \\mathrm{d}x\\\\\n",
    "&= \\frac{j^2\\pi^2}{2}\\int^1_{-1} (1 + cos(2j \\pi x) ) \\mathrm{d}x\\\\\n",
    "&= \\frac{j^2\\pi^2}{2}\\left(\\int^1_{-1} 1 \\mathrm{d}x + \\int^1_{-1} cos(2j \\pi x) ) \\mathrm{d}x\\right)\\\\\n",
    "&= \\frac{j^2\\pi^2}{2}\\left(x\\Big|_{-1}^{1} + \\frac{sen(2j \\pi x)}{2\\pi j}\\Big|_{-1}^{1}\\right)\\\\\n",
    "&= j^2\\pi^2\n",
    "\\end{align}\n",
    "$$\n",
    "Logo, para os elementos de $A$ com $i = j$, temos $A_{ij} = j^2 \\pi^2$"
   ]
  },
  {
   "cell_type": "markdown",
   "metadata": {},
   "source": [
    "### Calculando o vetor f\n",
    "Como temos $f_i = \\int^{1}_{-1} f(x)\\varphi_i \\mathrm{d}x$, mas:\n",
    "$$\n",
    "f(x) = \\frac{1 - 2(1-x^2)u - u^2}{\\epsilon}\n",
    "$$\n",
    "Que depende dos termos $u(x), u(x)^2$ ao qual não conhecemos"
   ]
  },
  {
   "cell_type": "markdown",
   "metadata": {},
   "source": [
    "### Defining necessaries"
   ]
  },
  {
   "cell_type": "code",
   "execution_count": 537,
   "metadata": {},
   "outputs": [],
   "source": [
    "N = 30\n",
    "xs = np.linspace(-1,1,N)\n",
    "def base(j, x):\n",
    "    return np.sin(j*np.pi*x)"
   ]
  },
  {
   "cell_type": "code",
   "execution_count": 538,
   "metadata": {},
   "outputs": [],
   "source": [
    "## Defining the Integrals of the basis function\n",
    "\n",
    "def F1(j,i,x):\n",
    "    a = (np.pi*i*j/2)\n",
    "    b = np.sin(np.pi*x*(i+j))/(i+j)\n",
    "    c = np.sin(np.pi*x*(j-i))/(j-i)\n",
    "    return a*(b+c)\n",
    "\n",
    "def F2(j):\n",
    "    #a = np.sin(2*np.pi*j*x)/np.pi*j\n",
    "    return (j**2)*(np.pi**2)"
   ]
  },
  {
   "cell_type": "code",
   "execution_count": 539,
   "metadata": {},
   "outputs": [],
   "source": [
    "A = np.zeros((N,N))"
   ]
  },
  {
   "cell_type": "code",
   "execution_count": 540,
   "metadata": {},
   "outputs": [],
   "source": [
    "for i in range(N):\n",
    "    for j in range(N):\n",
    "        if i == j:\n",
    "            A[i][j] = F2(i+1)\n",
    "        else:\n",
    "            A[i][j] = F1(j+1,i+1,1) - F1(j+1,i+1, -1)"
   ]
  },
  {
   "cell_type": "code",
   "execution_count": 695,
   "metadata": {},
   "outputs": [],
   "source": [
    "def F(x, u, p = 1):\n",
    "    u1, u2 = u\n",
    "    return np.array([u2, (1-2*(1-x**2)*u1-u1**2)/p])"
   ]
  },
  {
   "cell_type": "code",
   "execution_count": 696,
   "metadata": {},
   "outputs": [],
   "source": [
    "\n",
    "##### Vectorized Runge Kutta 4th Order\n",
    "### Input:  F -> Differential equation;\n",
    "###         y0 -> list or scalar for initial condition;\n",
    "###         ts -> list of points in time to evaluate the equation;\n",
    "###         p -> list or scalar for parameters for F, default is set to 0 if F has no extra parameters;\n",
    "### Output: ys -> numpy array with all solutions for each step t, ys is a Matrix\n",
    "##### Gil Miranda - last revision 15/09/2019\n",
    "def rk_4(F, ts, y0, p = 0):\n",
    "    ys = [y0]\n",
    "    t = ts[0]\n",
    "    h = ts[1] - ts[0]\n",
    "    for tnext in ts:\n",
    "        k1 = h*F(t, ys[-1], p)\n",
    "        k2 = h*F(t + h/2, ys[-1] + k1/2, p)\n",
    "        k3 = h*F(t + h/2, ys[-1] + k2/2, p)\n",
    "        k4 = h*F(t + h, ys[-1] + k3)\n",
    "        ynext = ys[-1] + (k1/6+k2/3+k3/3+k4/6)\n",
    "        ys.append(ynext)\n",
    "        t = tnext\n",
    "    return np.array(ys[:-1])\n",
    "\n",
    "\n",
    "def sec(f,x,y, prec=1e-8, tol=1e-8, maxiter=200):\n",
    "    if maxiter == 0:\n",
    "        return None\n",
    "    dx = f(x)*(x-y)/(f(x)-f(y))\n",
    "    newx = x - dx\n",
    "    if abs(f(newx)-f(x))>tol:\n",
    "        if abs(dx) < prec:\n",
    "            return newx\n",
    "        else:\n",
    "            return sec(f,y,newx, prec=prec,maxiter=maxiter-1)\n",
    "    else:\n",
    "        return newx\n",
    "    \n",
    "def shooting(F, y0, s, ts, beta = 1, p = 1):\n",
    "    def f(S):\n",
    "        return rk_4(F, ts,  [y0[0],S], p)[-1][0]-beta\n",
    "    return sec(f, y0[0], s)"
   ]
  },
  {
   "cell_type": "code",
   "execution_count": 697,
   "metadata": {},
   "outputs": [],
   "source": [
    "ts = np.linspace(0,2)\n",
    "def F_FILHADAPUTA(t, u, p = 1):\n",
    "    return -5 * u"
   ]
  },
  {
   "cell_type": "code",
   "execution_count": 699,
   "metadata": {},
   "outputs": [
    {
     "name": "stdout",
     "output_type": "stream",
     "text": [
      "2.1163816519237817\n"
     ]
    }
   ],
   "source": [
    "eps = 1\n",
    "iv = shooting(F, [0,0], 1, xs, 0, eps)\n",
    "sol = rk_4(F, xs, [0,iv], eps)[:,0]\n",
    "print(iv)"
   ]
  },
  {
   "cell_type": "code",
   "execution_count": 715,
   "metadata": {},
   "outputs": [
    {
     "data": {
      "image/png": "[encoded data removed]",
      "text/plain": [
       "<Figure size 432x288 with 1 Axes>"
      ]
     },
     "metadata": {
      "needs_background": "light"
     },
     "output_type": "display_data"
    }
   ],
   "source": [
    "plt.plot(xs, sol)\n",
    "plt.show()"
   ]
  },
  {
   "cell_type": "code",
   "execution_count": 716,
   "metadata": {},
   "outputs": [
    {
     "data": {
      "text/plain": [
       "30"
      ]
     },
     "execution_count": 716,
     "metadata": {},
     "output_type": "execute_result"
    }
   ],
   "source": [
    "len(sol)"
   ]
  },
  {
   "cell_type": "code",
   "execution_count": 717,
   "metadata": {},
   "outputs": [],
   "source": [
    "def ret_F(x):\n",
    "    \n",
    "    return sol[x]*base(1, x)"
   ]
  },
  {
   "cell_type": "code",
   "execution_count": 718,
   "metadata": {},
   "outputs": [
    {
     "data": {
      "text/plain": [
       "1.81628692731073e-17"
      ]
     },
     "execution_count": 718,
     "metadata": {},
     "output_type": "execute_result"
    }
   ],
   "source": [
    "ret_F(1)"
   ]
  },
  {
   "cell_type": "code",
   "execution_count": 719,
   "metadata": {},
   "outputs": [
    {
     "data": {
      "text/plain": [
       "array([-0.00000000e+00, -3.18824987e-02, -1.26453784e-01, -2.77110794e-01,\n",
       "       -4.70435060e-01, -6.86749147e-01, -9.01573941e-01, -1.08794910e+00,\n",
       "       -1.21942499e+00, -1.27338440e+00, -1.23423710e+00, -1.09598119e+00,\n",
       "       -8.63664309e-01, -5.53412295e-01, -1.90907138e-01,  1.91544856e-01,\n",
       "        5.58962284e-01,  8.78072302e-01,  1.12146031e+00,  1.27085705e+00,\n",
       "        1.31909117e+00,  1.27047352e+00,  1.13964716e+00,  9.49178856e-01,\n",
       "        7.26339521e-01,  4.99597869e-01,  2.95331146e-01,  1.35157688e-01,\n",
       "        3.41471932e-02, -7.81787867e-32])"
      ]
     },
     "execution_count": 719,
     "metadata": {},
     "output_type": "execute_result"
    }
   ],
   "source": [
    "c = sol * b\n",
    "c"
   ]
  },
  {
   "cell_type": "code",
   "execution_count": null,
   "metadata": {},
   "outputs": [],
   "source": []
  },
  {
   "cell_type": "code",
   "execution_count": 720,
   "metadata": {},
   "outputs": [],
   "source": [
    "f_j = np.zeros(N)\n",
    "for i in range(N):\n",
    "    c = sol * base(1,xs)\n",
    "    f_i[i] = scipy.integrate.trapz(c, xs)"
   ]
  },
  {
   "cell_type": "code",
   "execution_count": 721,
   "metadata": {},
   "outputs": [
    {
     "data": {
      "text/plain": [
       "array([0., 0., 0., 0., 0., 0., 0., 0., 0., 0., 0., 0., 0., 0., 0., 0., 0.,\n",
       "       0., 0., 0., 0., 0., 0., 0., 0., 0., 0., 0., 0., 0.])"
      ]
     },
     "execution_count": 721,
     "metadata": {},
     "output_type": "execute_result"
    }
   ],
   "source": [
    "f_j"
   ]
  },
  {
   "cell_type": "code",
   "execution_count": 722,
   "metadata": {},
   "outputs": [
    {
     "data": {
      "text/plain": [
       "array([2.63222092e-03, 6.58055229e-04, 2.92468991e-04, 1.64513807e-04,\n",
       "       1.05288837e-04, 7.31172477e-05, 5.37187942e-05, 4.11284518e-05,\n",
       "       3.24965545e-05, 2.63222092e-05, 2.17538919e-05, 1.82793119e-05,\n",
       "       1.55752717e-05, 1.34296986e-05, 1.16987596e-05, 1.02821130e-05,\n",
       "       9.10803086e-06, 8.12413863e-06, 7.29147069e-06, 6.58055229e-06,\n",
       "       5.96875491e-06, 5.43847297e-06, 4.97584294e-06, 4.56982798e-06,\n",
       "       4.21155347e-06, 3.89381793e-06, 3.61072828e-06, 3.35742464e-06,\n",
       "       3.12987029e-06, 2.92468991e-06])"
      ]
     },
     "execution_count": 722,
     "metadata": {},
     "output_type": "execute_result"
    }
   ],
   "source": [
    "c_j = np.linalg.solve(A,f_i)\n",
    "c_j"
   ]
  },
  {
   "cell_type": "code",
   "execution_count": 723,
   "metadata": {},
   "outputs": [
    {
     "data": {
      "text/plain": [
       "array([-1.22464680e-16, -2.14970440e-01, -4.19889102e-01, -6.05174215e-01,\n",
       "       -7.62162055e-01, -8.83512044e-01, -9.63549993e-01, -9.98533414e-01,\n",
       "       -9.86826523e-01, -9.28976720e-01, -8.27688998e-01, -6.87699459e-01,\n",
       "       -5.15553857e-01, -3.19301530e-01, -1.08119018e-01,  1.08119018e-01,\n",
       "        3.19301530e-01,  5.15553857e-01,  6.87699459e-01,  8.27688998e-01,\n",
       "        9.28976720e-01,  9.86826523e-01,  9.98533414e-01,  9.63549993e-01,\n",
       "        8.83512044e-01,  7.62162055e-01,  6.05174215e-01,  4.19889102e-01,\n",
       "        2.14970440e-01,  1.22464680e-16])"
      ]
     },
     "execution_count": 723,
     "metadata": {},
     "output_type": "execute_result"
    }
   ],
   "source": [
    "base(1, xs)"
   ]
  },
  {
   "cell_type": "code",
   "execution_count": 724,
   "metadata": {},
   "outputs": [],
   "source": [
    "def u_h(cs):\n",
    "    def f(x):\n",
    "        soma = 0\n",
    "        for i in range(len(cs)):\n",
    "            partial = cs[i]*base(i,x)\n",
    "        soma += partial\n",
    "        return soma\n",
    "    return f"
   ]
  },
  {
   "cell_type": "code",
   "execution_count": 725,
   "metadata": {},
   "outputs": [
    {
     "data": {
      "text/plain": [
       "array([ 3.62065284e-24, -2.00612086e-20,  1.43630551e-21,  2.29338196e-20,\n",
       "        2.86899036e-21,  3.58533279e-21,  2.50828469e-20,  5.01801764e-21,\n",
       "        5.73436007e-21, -1.43304692e-20, -1.36141268e-20,  7.88338735e-21,\n",
       "        3.40443685e-21, -6.26980656e-21,  1.78253540e-20, -1.78253540e-20,\n",
       "        6.26980656e-21,  2.77673207e-20, -7.88338735e-21,  1.36141268e-20,\n",
       "       -2.72318742e-20, -5.73436007e-21,  1.57631540e-20, -2.50828469e-20,\n",
       "       -3.58533279e-21,  3.86933530e-20, -2.29338196e-20, -1.43630551e-21,\n",
       "        2.00612086e-20, -3.62065284e-24])"
      ]
     },
     "execution_count": 725,
     "metadata": {},
     "output_type": "execute_result"
    }
   ],
   "source": [
    "u_h(c_j)(xs)"
   ]
  },
  {
   "cell_type": "code",
   "execution_count": 726,
   "metadata": {},
   "outputs": [
    {
     "data": {
      "text/plain": [
       "[<matplotlib.lines.Line2D at 0x7ff5165b7eb0>]"
      ]
     },
     "execution_count": 726,
     "metadata": {},
     "output_type": "execute_result"
    },
    {
     "data": {
      "image/png": "[encoded data removed]",
      "text/plain": [
       "<Figure size 432x288 with 1 Axes>"
      ]
     },
     "metadata": {
      "needs_background": "light"
     },
     "output_type": "display_data"
    }
   ],
   "source": [
    "plt.plot(xs, u_h(c_j)(xs))"
   ]
  },
  {
   "cell_type": "code",
   "execution_count": null,
   "metadata": {},
   "outputs": [],
   "source": []
  },
  {
   "cell_type": "code",
   "execution_count": null,
   "metadata": {},
   "outputs": [],
   "source": []
  },
  {
   "cell_type": "code",
   "execution_count": null,
   "metadata": {},
   "outputs": [],
   "source": []
  }
 ],
 "metadata": {
  "kernelspec": {
   "display_name": "Python 3",
   "language": "python",
   "name": "python3"
  },
  "language_info": {
   "codemirror_mode": {
    "name": "ipython",
    "version": 3
   },
   "file_extension": ".py",
   "mimetype": "text/x-python",
   "name": "python",
   "nbconvert_exporter": "python",
   "pygments_lexer": "ipython3",
   "version": "3.8.0"
  }
 },
 "nbformat": 4,
 "nbformat_minor": 2
}
