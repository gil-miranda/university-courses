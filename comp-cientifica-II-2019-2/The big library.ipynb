{
 "cells": [
  {
   "cell_type": "code",
   "execution_count": 1,
   "metadata": {
    "ExecuteTime": {
     "end_time": "2019-08-27T11:26:24.901158Z",
     "start_time": "2019-08-27T11:26:20.458379Z"
    }
   },
   "outputs": [],
   "source": [
    "import numpy as np\n",
    "import matplotlib.pyplot as plt"
   ]
  },
  {
   "cell_type": "code",
   "execution_count": 3,
   "metadata": {
    "ExecuteTime": {
     "end_time": "2019-08-27T11:32:24.916326Z",
     "start_time": "2019-08-27T11:32:24.904602Z"
    }
   },
   "outputs": [],
   "source": [
    "def mylib_feuler(F, y0, ts, p = 0):\n",
    "    ys = np.array([y0])\n",
    "    h = ts[1]-ts[0]\n",
    "    for t in ts:\n",
    "        y_new = ys[-1] + h*F(ys[-1], t, p)\n",
    "        ys = np.stack(ys, y_new)\n",
    "    return ys"
   ]
  },
  {
   "cell_type": "code",
   "execution_count": null,
   "metadata": {},
   "outputs": [],
   "source": [
    "def mylib_beuler(F, y0, ts, p = 0):\n",
    "    ys = np.array([y0])\n",
    "    h = ts[1]-ts[0]\n",
    "    for t in ts:\n",
    "        y_new = ys[-1] + h*()"
   ]
  }
 ],
 "metadata": {
  "kernelspec": {
   "display_name": "Python 3",
   "language": "python",
   "name": "python3"
  },
  "language_info": {
   "codemirror_mode": {
    "name": "ipython",
    "version": 3
   },
   "file_extension": ".py",
   "mimetype": "text/x-python",
   "name": "python",
   "nbconvert_exporter": "python",
   "pygments_lexer": "ipython3",
   "version": "3.7.3"
  }
 },
 "nbformat": 4,
 "nbformat_minor": 2
}
