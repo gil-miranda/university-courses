{
 "cells": [
  {
   "cell_type": "code",
   "execution_count": 83,
   "metadata": {
    "ExecuteTime": {
     "end_time": "2018-11-13T18:54:20.169469Z",
     "start_time": "2018-11-13T18:54:20.165947Z"
    },
    "deletable": false,
    "editable": false,
    "nbgrader": {
     "checksum": "9a0d12aebda42709b295fd3af03f98f1",
     "grade": false,
     "grade_id": "cell-944003fd7eb65652",
     "locked": true,
     "schema_version": 1,
     "solution": false
    }
   },
   "outputs": [],
   "source": [
    "import numpy as np\n",
    "import matplotlib.pyplot as plt"
   ]
  },
  {
   "cell_type": "markdown",
   "metadata": {},
   "source": [
    "# Parte 1: Iteração de Rayleigh\n",
    "\n",
    "Vimos que podemos iterar um vetor $v$ pela matriz $A$, obtendo a sequência de vetores $A^nv$, por multiplicações sucessivas, e que isso permite encontrar um autovetor."
   ]
  },
  {
   "cell_type": "markdown",
   "metadata": {},
   "source": [
    "## Questão 1\n",
    "\n",
    "Implemente uma função `itera(A,v,tol,debug)` que itera o vetor $v$, normalizando a cada iteração, e que retorna $(v_\\lambda, \\lambda, n)$, respectivamente:\n",
    "- uma estimativa do autovetor\n",
    "- uma estimativa do autovalor correspondente\n",
    "- o número de iterações realizadas até atingir a precisão `tol`.\n",
    "\n",
    "Se `debug == True`, retorne também a lista dos vetores (unitários) produzidos ao longo do processo."
   ]
  },
  {
   "cell_type": "code",
   "execution_count": 110,
   "metadata": {
    "ExecuteTime": {
     "end_time": "2018-11-13T19:02:23.872335Z",
     "start_time": "2018-11-13T19:02:23.867948Z"
    },
    "deletable": false,
    "nbgrader": {
     "checksum": "88a85ba1027d704cff6c3ba1305d6b58",
     "grade": false,
     "grade_id": "cell-257384f421cba661",
     "locked": false,
     "schema_version": 1,
     "solution": true
    }
   },
   "outputs": [],
   "source": [
    "def itera(A,v, tol=1e-12, maxiter=1000, debug=False):\n",
    "    v = np.array(v)\n",
    "    n,m = np.shape(A)\n",
    "    assert n==m, 'A must be square'\n",
    "    \n",
    "    def eigenvector_normalizer(A,v,n=29):\n",
    "        answ = []\n",
    "        answ.append(v)\n",
    "        for i in range(0,n):\n",
    "            v_next = A @ answ[-1]\n",
    "            answ.append(v_next/np.linalg.norm(v_next))\n",
    "        return answ,n\n",
    "    \n",
    "    def eigenvalue_picker(v,u):\n",
    "        v_max = vs[-1]\n",
    "        print(v_max)\n",
    "        return v_max/u\n",
    "    \n",
    "    vs,it = eigenvector_normalizer(A,v)\n",
    "    l = np.linalg.norm(A@vs[-1])\n",
    "    if debug == True:\n",
    "        return vs[-1],l,it,vs\n",
    "    else:\n",
    "        return vs[-1],l,it "
   ]
  },
  {
   "cell_type": "code",
   "execution_count": 111,
   "metadata": {
    "ExecuteTime": {
     "end_time": "2018-11-13T19:02:24.421412Z",
     "start_time": "2018-11-13T19:02:24.418224Z"
    },
    "deletable": false,
    "editable": false,
    "nbgrader": {
     "checksum": "787947fddeca3eb3cd6a6ee9d8f2d809",
     "grade": true,
     "grade_id": "cell-80f43e99a64ee409",
     "locked": true,
     "points": 1,
     "schema_version": 1,
     "solution": false
    }
   },
   "outputs": [],
   "source": [
    "# Autovetores conhecidos\n",
    "A = [[1,2],[2,1]]\n",
    "alvo = np.array([1,1])/np.sqrt(2)\n",
    "\n",
    "v, l, n = itera(A,[1,2])\n",
    "\n",
    "assert(abs(l-3) < 1e-15)\n",
    "assert(all(abs(v-alvo) < 1e-12))\n",
    "assert(n < 30)"
   ]
  },
  {
   "cell_type": "code",
   "execution_count": 112,
   "metadata": {
    "ExecuteTime": {
     "end_time": "2018-11-13T19:02:25.197085Z",
     "start_time": "2018-11-13T19:02:25.193130Z"
    },
    "deletable": false,
    "editable": false,
    "nbgrader": {
     "checksum": "c38153cfb3c0bdd760eb1efe33e207e7",
     "grade": true,
     "grade_id": "cell-abf4f0438eefa28a",
     "locked": true,
     "points": 1,
     "schema_version": 1,
     "solution": false
    }
   },
   "outputs": [],
   "source": [
    "# Autovetores aleatórios: verificando que satisfaz (aproximadamente) a definição\n",
    "np.random.seed(4444)\n",
    "A = np.random.rand(4,4)\n",
    "v, l, n = itera(A, np.random.rand(4))\n",
    "err = np.dot(A,v) - l*v\n",
    "assert(np.linalg.norm(err) < 1e-12)\n",
    "assert(n < 30)"
   ]
  },
  {
   "cell_type": "markdown",
   "metadata": {},
   "source": [
    "## Questão 2: Convergência\n",
    "\n",
    "Temos o número de iterações, mas não vimos como o algoritmo \"converge\" para o autovetor.\n",
    "Assim, use os vetores intermediários e faça um gráfico da evolução do erro entre os $v$'s produzidos e o autovetor $v_\\lambda$."
   ]
  },
  {
   "cell_type": "code",
   "execution_count": 132,
   "metadata": {
    "ExecuteTime": {
     "end_time": "2018-11-13T19:09:01.298423Z",
     "start_time": "2018-11-13T19:09:01.199036Z"
    },
    "deletable": false,
    "nbgrader": {
     "checksum": "51941b7d97a8f55f40fc18421fbf6f81",
     "grade": false,
     "grade_id": "cell-5fbe094e6250b829",
     "locked": false,
     "schema_version": 1,
     "solution": true
    }
   },
   "outputs": [
    {
     "name": "stdout",
     "output_type": "stream",
     "text": [
      "30\n"
     ]
    },
    {
     "data": {
      "image/png": "[encoded data removed]",
      "text/plain": [
       "<Figure size 432x288 with 1 Axes>"
      ]
     },
     "metadata": {
      "needs_background": "light"
     },
     "output_type": "display_data"
    }
   ],
   "source": [
    "ax = None\n",
    "v,l,n, vs_intermediarios = itera(A, np.random.rand(4), debug=True)\n",
    "tam = len(vs_intermediarios)\n",
    "rng = (0,n)\n",
    "ks = [([v]*tam)/i for i in vs_intermediarios]\n",
    "#plt.plot(ks,rng)\n",
    "\n",
    "ax = plt.gca()\n",
    "plt.show()"
   ]
  },
  {
   "cell_type": "code",
   "execution_count": null,
   "metadata": {
    "deletable": false,
    "editable": false,
    "nbgrader": {
     "checksum": "a671926c9dab34fa10cbe8ff1f1264cb",
     "grade": true,
     "grade_id": "cell-64ee0faf69476729",
     "locked": true,
     "points": 2,
     "schema_version": 1,
     "solution": false
    }
   },
   "outputs": [],
   "source": [
    "assert ax.title.get_text() != \"\"\n",
    "assert len(ax.lines) == 1\n",
    "\n",
    "ys = ax.lines[0].get_ydata()\n",
    "\n",
    "assert min(ys) < 1e-12\n",
    "assert np.all(ys[:-1] > ys[1:])"
   ]
  },
  {
   "cell_type": "markdown",
   "metadata": {},
   "source": [
    "O que o último assert quer dizer?"
   ]
  },
  {
   "cell_type": "markdown",
   "metadata": {
    "deletable": false,
    "nbgrader": {
     "checksum": "2b7418c406ceb48b82b692953030a886",
     "grade": true,
     "grade_id": "cell-8432b1317c5a799a",
     "locked": false,
     "points": 1,
     "schema_version": 1,
     "solution": true
    }
   },
   "source": [
    "Compara se o $ys[i]$ é menor que $ys[i-1]$, ou seja, se a lista está convergindo"
   ]
  },
  {
   "cell_type": "markdown",
   "metadata": {},
   "source": [
    "## Questão 3: Convergência comparada\n",
    "\n",
    "Para cada um dos vetores `d1` e `d2` abaixo, considere a matriz $A = \\operatorname{diag}(d_i)$ correspondente."
   ]
  },
  {
   "cell_type": "code",
   "execution_count": null,
   "metadata": {},
   "outputs": [],
   "source": [
    "d1 = [1,10,20,30,31,32]\n",
    "d2 = [1,10,20,29,30,32]"
   ]
  },
  {
   "cell_type": "markdown",
   "metadata": {},
   "source": [
    "Qual é o autovetor com o maior autovalor para $A_1$ e $A_2$?"
   ]
  },
  {
   "cell_type": "markdown",
   "metadata": {
    "deletable": false,
    "nbgrader": {
     "checksum": "5a683d9a38d3efafda5d47e87cfaa5e9",
     "grade": true,
     "grade_id": "cell-80ff3d3111fd3705",
     "locked": false,
     "points": 1,
     "schema_version": 1,
     "solution": true
    }
   },
   "source": [
    "YOUR ANSWER HERE"
   ]
  },
  {
   "cell_type": "markdown",
   "metadata": {},
   "source": [
    "Agora, compare a velocidade de convergência do autovetor usando `itera` para cada uma destas matrizes,\n",
    "fazendo o gráfico do erro entre os vetores gerados para $A_1$ e $A_2$ no mesmo eixo."
   ]
  },
  {
   "cell_type": "code",
   "execution_count": null,
   "metadata": {
    "deletable": false,
    "nbgrader": {
     "checksum": "6f56cf96e2acd6acaa8b807ecc4b8c94",
     "grade": false,
     "grade_id": "cell-0ca9beaae72f048a",
     "locked": false,
     "schema_version": 1,
     "solution": true
    }
   },
   "outputs": [],
   "source": [
    "ax = []\n",
    "\n",
    "_,_,_,l_1 = itera(np.diag(d1), np.ones_like(d1), debug=True)\n",
    "_,_,_,l_2 = itera(np.diag(d2), np.ones_like(d2), debug=True)\n",
    "\n",
    "# YOUR CODE HERE\n",
    "raise NotImplementedError()\n",
    "\n",
    "ax = plt.gca()\n",
    "plt.show()"
   ]
  },
  {
   "cell_type": "code",
   "execution_count": null,
   "metadata": {
    "deletable": false,
    "editable": false,
    "nbgrader": {
     "checksum": "36a34c9984604b071062f50289573f94",
     "grade": true,
     "grade_id": "cell-b5b7998bcab31e94",
     "locked": true,
     "points": 2,
     "schema_version": 1,
     "solution": false
    }
   },
   "outputs": [],
   "source": [
    "assert ax.title.get_text() != \"\"\n",
    "assert len(ax.lines) == 2\n",
    "assert len(ax.legend().texts) == 2"
   ]
  },
  {
   "cell_type": "markdown",
   "metadata": {},
   "source": [
    "Para qual matriz há convergência mais rápida?  Como você explicaria isso?"
   ]
  },
  {
   "cell_type": "markdown",
   "metadata": {
    "deletable": false,
    "nbgrader": {
     "checksum": "dd2cc33a4dfede5f2ae8a3792c74cced",
     "grade": true,
     "grade_id": "cell-c2652af3d1fa97e1",
     "locked": false,
     "points": 2,
     "schema_version": 1,
     "solution": true
    }
   },
   "source": [
    "YOUR ANSWER HERE"
   ]
  },
  {
   "cell_type": "markdown",
   "metadata": {},
   "source": [
    "## Questão 4: Convergência?\n",
    "\n",
    "Sejam $\\theta \\in [0,2\\pi]$ e $\\alpha \\in \\mathbb{R}$,\n",
    "e considere a matriz \n",
    "$$A(\\theta, \\alpha) = \\begin{bmatrix} \n",
    "\\cos(\\theta) & \\sin(\\theta) & 0\\\\\n",
    "-\\sin(\\theta) &\\cos(\\theta) &  0\\\\\n",
    "0 & 0 & \\alpha\\\\\n",
    "\\end{bmatrix}.$$\n",
    "\n",
    "Qual a interpretação geométrica dessa matriz?"
   ]
  },
  {
   "cell_type": "markdown",
   "metadata": {
    "deletable": false,
    "nbgrader": {
     "checksum": "f3e315d21d30817427f1c97a5fa47dfe",
     "grade": true,
     "grade_id": "cell-549ef2ace83f1d22",
     "locked": false,
     "points": 1,
     "schema_version": 1,
     "solution": true
    }
   },
   "source": [
    "YOUR ANSWER HERE"
   ]
  },
  {
   "cell_type": "markdown",
   "metadata": {},
   "source": [
    "Quais são os autovetores de $A$ (em função de $\\theta$ e $\\alpha$)?"
   ]
  },
  {
   "cell_type": "markdown",
   "metadata": {
    "deletable": false,
    "nbgrader": {
     "checksum": "744ca49d1747aacd228bcc3dccdcc78f",
     "grade": true,
     "grade_id": "cell-c71fb25daa36f1e4",
     "locked": false,
     "points": 2,
     "schema_version": 1,
     "solution": true
    }
   },
   "source": [
    "YOUR ANSWER HERE"
   ]
  },
  {
   "cell_type": "markdown",
   "metadata": {},
   "source": [
    "Implemente a função abaixo que gera a matriz $A$:"
   ]
  },
  {
   "cell_type": "code",
   "execution_count": null,
   "metadata": {
    "deletable": false,
    "nbgrader": {
     "checksum": "78dcfc24094b6719a8697f4d002875a7",
     "grade": false,
     "grade_id": "cell-782a31adaac5452f",
     "locked": false,
     "schema_version": 1,
     "solution": true
    }
   },
   "outputs": [],
   "source": [
    "def make_matrix(theta,alpha):\n",
    "    # YOUR CODE HERE\n",
    "    raise NotImplementedError()"
   ]
  },
  {
   "cell_type": "code",
   "execution_count": null,
   "metadata": {
    "deletable": false,
    "editable": false,
    "nbgrader": {
     "checksum": "81c5c6ee789679ce1eaa1cd9326f3232",
     "grade": true,
     "grade_id": "cell-ec8cf18f333dc2d1",
     "locked": true,
     "points": 1,
     "schema_version": 1,
     "solution": false
    }
   },
   "outputs": [],
   "source": [
    "assert np.allclose(make_matrix(0,1),np.eye(3))\n",
    "assert np.allclose(make_matrix(np.pi,0.5),[[-1,0,0],[0,-1,0],[0,0,0.5]])"
   ]
  },
  {
   "cell_type": "markdown",
   "metadata": {},
   "source": [
    "Fixando $\\theta = \\dfrac{\\pi}{4}$,\n",
    "faça um gráfico do número de iterações necessários para calcular o maior autovetor,\n",
    "em função de $\\alpha \\in [0.5,1.5]$."
   ]
  },
  {
   "cell_type": "code",
   "execution_count": null,
   "metadata": {
    "deletable": false,
    "nbgrader": {
     "checksum": "4c5cce29753a4983d273f65c92b10dba",
     "grade": false,
     "grade_id": "cell-b784f741aca3e042",
     "locked": false,
     "schema_version": 1,
     "solution": true
    }
   },
   "outputs": [],
   "source": [
    "alphas = np.linspace(0.5,1.5,100)\n",
    "ax = []\n",
    "# YOUR CODE HERE\n",
    "raise NotImplementedError()\n",
    "\n",
    "ax = plt.gca()\n",
    "plt.show()"
   ]
  },
  {
   "cell_type": "code",
   "execution_count": null,
   "metadata": {
    "deletable": false,
    "editable": false,
    "nbgrader": {
     "checksum": "e607360e6bae8d898127b9cd2ccbf7ec",
     "grade": true,
     "grade_id": "cell-e13220288c2e5c20",
     "locked": true,
     "points": 2,
     "schema_version": 1,
     "solution": false
    }
   },
   "outputs": [],
   "source": [
    "assert ax.title.get_text() != \"\"\n",
    "assert len(ax.lines) == 1\n",
    "assert ax.get_xlabel() != \"\"\n",
    "\n",
    "ys = ax.lines[0].get_ydata()\n",
    "\n",
    "assert 100 > ys.min() > 60\n",
    "assert ys[55] < 600\n",
    "assert ys[50] > 900"
   ]
  },
  {
   "cell_type": "markdown",
   "metadata": {},
   "source": [
    "Agora, faça o gráfico com a estimativa do autovalor, novamente em função de $\\alpha$."
   ]
  },
  {
   "cell_type": "code",
   "execution_count": null,
   "metadata": {
    "deletable": false,
    "nbgrader": {
     "checksum": "eec80a850cd41c9dd50d3366b779d98d",
     "grade": false,
     "grade_id": "cell-496cb16ecaa50929",
     "locked": false,
     "schema_version": 1,
     "solution": true
    }
   },
   "outputs": [],
   "source": [
    "ax = []\n",
    "\n",
    "# YOUR CODE HERE\n",
    "raise NotImplementedError()\n",
    "\n",
    "ax = plt.gca()\n",
    "plt.show()"
   ]
  },
  {
   "cell_type": "code",
   "execution_count": null,
   "metadata": {
    "deletable": false,
    "editable": false,
    "nbgrader": {
     "checksum": "96f85ebabc2e6cc13aeb4dd6b41642b6",
     "grade": true,
     "grade_id": "cell-6bc7eba37b6f9533",
     "locked": true,
     "points": 2,
     "schema_version": 1,
     "solution": false
    }
   },
   "outputs": [],
   "source": [
    "assert ax.title.get_text() != \"\"\n",
    "assert len(ax.lines) == 1\n",
    "assert ax.get_xlabel() != \"\"\n",
    "\n",
    "ys = ax.lines[0].get_ydata()\n",
    "\n",
    "assert np.all(0.7 <= ys) and np.all(ys <= 1.5)"
   ]
  },
  {
   "cell_type": "markdown",
   "metadata": {},
   "source": [
    "Como explicar a variação no número de iterações? O que isso tem a ver com o autovalor retornado?"
   ]
  },
  {
   "cell_type": "markdown",
   "metadata": {
    "deletable": false,
    "nbgrader": {
     "checksum": "c65c06a6c6b5aefd1222f7d57ed3c506",
     "grade": true,
     "grade_id": "cell-d2c0a1630ea2b95b",
     "locked": false,
     "points": 2,
     "schema_version": 1,
     "solution": true
    }
   },
   "source": [
    "YOUR ANSWER HERE"
   ]
  },
  {
   "cell_type": "markdown",
   "metadata": {},
   "source": [
    "# Parte 2: Generalizando\n",
    "\n",
    "## Questão 5: Outra iteração, novos limites\n",
    "\n",
    "Em vez de iterar $A^n v$, é possível iterar $A^{-n} v$.\n",
    "Assim, em vez de \"aumentar\" os vetores correspondentes aos autovalores de módulo grande,\n",
    "estes serão \"diminuídos\", e sobra o vetor do \"menor\" (de novo, em módulo) autovalor.\n",
    "\n",
    "Mostre que $\\dfrac{A^{-n}v_0}{\\lVert A^{-n}v_0 \\rVert} \\rightarrow v_{min}$, onde $v_{min}$ é o \"menor\" autovalor de $A$."
   ]
  },
  {
   "cell_type": "markdown",
   "metadata": {
    "deletable": false,
    "nbgrader": {
     "checksum": "043c45c2fba19ffa8e6fafbd3900ddbb",
     "grade": true,
     "grade_id": "cell-2a5304089a37b9c3",
     "locked": false,
     "points": 2,
     "schema_version": 1,
     "solution": true
    }
   },
   "source": [
    "YOUR ANSWER HERE"
   ]
  },
  {
   "cell_type": "markdown",
   "metadata": {},
   "source": [
    "Agora, generalize um pouco mais:\n",
    "\n",
    "Seja $\\alpha \\in C$ um número complexo qualquer.\n",
    "Mostre que\n",
    "$$\\frac{(A - \\alpha I)^{-n}v_0}{\\lVert (A - \\alpha I)^{-n}v_0 \\rVert} \\rightarrow v_{\\alpha},$$\n",
    "onde $v_{\\alpha}$ é o autovetor de $A$ com autovalor mais próximo de $\\alpha$.\n",
    "\n",
    "Este método é conhecido como \"Iteração inversa deslocada\"."
   ]
  },
  {
   "cell_type": "markdown",
   "metadata": {
    "deletable": false,
    "nbgrader": {
     "checksum": "20498371d3d532575152755baeef463e",
     "grade": true,
     "grade_id": "cell-392fac8162a200d0",
     "locked": false,
     "points": 2,
     "schema_version": 1,
     "solution": true
    }
   },
   "source": [
    "YOUR ANSWER HERE"
   ]
  },
  {
   "cell_type": "markdown",
   "metadata": {},
   "source": [
    "## Questão 6: Iteração inversa com deslocamento\n",
    "\n",
    "Implemente a iteração inversa com deslocamento, com argumentos semelhantes a função `itera`."
   ]
  },
  {
   "cell_type": "code",
   "execution_count": null,
   "metadata": {
    "deletable": false,
    "nbgrader": {
     "checksum": "a1d8b736580d0a340d5218966308ca41",
     "grade": false,
     "grade_id": "cell-5f141db929de5e1e",
     "locked": false,
     "schema_version": 1,
     "solution": true
    }
   },
   "outputs": [],
   "source": [
    "def inverse_iteration(A, v, alpha=0, tol=1e-12, maxiter=1000, debug=False):\n",
    "\n",
    "    v = np.array(v)\n",
    "    n,m = np.shape(A)\n",
    "    assert n==m, 'A must be square'\n",
    "\n",
    "    # YOUR CODE HERE\n",
    "    raise NotImplementedError()"
   ]
  },
  {
   "cell_type": "code",
   "execution_count": null,
   "metadata": {
    "deletable": false,
    "editable": false,
    "nbgrader": {
     "checksum": "894fd2c449ce2cff7d87af896de1d444",
     "grade": true,
     "grade_id": "cell-8b0045caa01058ab",
     "locked": true,
     "points": 1,
     "schema_version": 1,
     "solution": false
    }
   },
   "outputs": [],
   "source": [
    "A = [[1,2],[2,1]]\n",
    "ans = np.array([-1,1])/np.sqrt(2)\n",
    "\n",
    "v, l, n = inverse_iteration(A,[1,2])\n",
    "\n",
    "assert np.allclose(np.linalg.norm(v),1)\n",
    "assert np.allclose(v,ans) or np.allclose(v, -ans)\n",
    "assert 20 < n < 40"
   ]
  },
  {
   "cell_type": "code",
   "execution_count": null,
   "metadata": {
    "deletable": false,
    "editable": false,
    "nbgrader": {
     "checksum": "4380f53a96d660f91b2528e6d2ee8c69",
     "grade": true,
     "grade_id": "cell-d414913a519ac195",
     "locked": true,
     "points": 2,
     "schema_version": 1,
     "solution": false
    }
   },
   "outputs": [],
   "source": [
    "A = [[1,2],[2,1]]\n",
    "ans = np.array([1,1])/np.sqrt(2)\n",
    "\n",
    "v, l, n = inverse_iteration(A,[1,2], alpha=2, maxiter=50)\n",
    "\n",
    "assert np.allclose(np.linalg.norm(v),1)\n",
    "assert np.allclose(v,ans) or np.allclose(v, -ans)\n",
    "assert 20 < n < 40"
   ]
  },
  {
   "cell_type": "code",
   "execution_count": null,
   "metadata": {
    "deletable": false,
    "editable": false,
    "nbgrader": {
     "checksum": "19cc012d02727689d4b33798a488cc26",
     "grade": true,
     "grade_id": "cell-d414913a19ac195",
     "locked": true,
     "points": 1,
     "schema_version": 1,
     "solution": false
    }
   },
   "outputs": [],
   "source": [
    "A = [[1,2],[2,1]]\n",
    "ans = np.array([1,1])/np.sqrt(2)\n",
    "\n",
    "v, l, n = inverse_iteration(A,[1,2], alpha=2.5, maxiter=50)\n",
    "\n",
    "assert np.allclose(np.linalg.norm(v),1)\n",
    "assert np.allclose(v,ans) or np.allclose(v, -ans)\n",
    "assert 10 < n < 20"
   ]
  },
  {
   "cell_type": "markdown",
   "metadata": {},
   "source": [
    "## Questão 7: Convergência comparada\n",
    "\n",
    "Faça o gráfico da velocidade de convergência dos autovetores da iteração inversa aplicada à matriz $A$ acima,\n",
    "para $\\alpha \\in \\{-2,0,2\\}$."
   ]
  },
  {
   "cell_type": "code",
   "execution_count": null,
   "metadata": {
    "deletable": false,
    "nbgrader": {
     "checksum": "b656c3f9f85850e5bb841edaba23b565",
     "grade": false,
     "grade_id": "cell-988f168c8c0c0f11",
     "locked": false,
     "schema_version": 1,
     "solution": true
    }
   },
   "outputs": [],
   "source": [
    "np.random.seed(1234)\n",
    "\n",
    "ax = []\n",
    "v0 = np.random.rand(2)\n",
    "\n",
    "\n",
    "# YOUR CODE HERE\n",
    "raise NotImplementedError()\n",
    "\n",
    "plt.ylabel('Distance to eigenvector')\n",
    "\n",
    "ax = plt.gca()\n",
    "plt.show()"
   ]
  },
  {
   "cell_type": "code",
   "execution_count": null,
   "metadata": {
    "deletable": false,
    "editable": false,
    "nbgrader": {
     "checksum": "05ec71bc2ee6796bb0fd844e0115b5a7",
     "grade": true,
     "grade_id": "cell-c527cad6149af9f9",
     "locked": true,
     "points": 2,
     "schema_version": 1,
     "solution": false
    }
   },
   "outputs": [],
   "source": [
    "assert ax.title.get_text() != \"\"\n",
    "assert len(ax.lines) == 3\n",
    "assert len(ax.legend().texts) == 3\n",
    "assert ax.get_xlabel() != \"\"\n",
    "\n",
    "ys = [l.get_ydata() for l in ax.lines]\n",
    "\n",
    "assert np.isclose(max(max(y) for y in ys),2)\n",
    "assert min(min(y) for y in ys) <= 1e-16"
   ]
  },
  {
   "cell_type": "markdown",
   "metadata": {},
   "source": [
    "Qual valor de $\\alpha$ levou à convergência mais rápida?\n",
    "Como você explicaria isso?"
   ]
  },
  {
   "cell_type": "markdown",
   "metadata": {
    "deletable": false,
    "nbgrader": {
     "checksum": "046d99b2b5fa0d31b5a2d230cb5ba0fd",
     "grade": true,
     "grade_id": "cell-76b8cdf1dea6689f",
     "locked": false,
     "points": 2,
     "schema_version": 1,
     "solution": true
    }
   },
   "source": [
    "YOUR ANSWER HERE"
   ]
  },
  {
   "cell_type": "markdown",
   "metadata": {},
   "source": [
    "O que mais você observa neste gráfico?"
   ]
  },
  {
   "cell_type": "markdown",
   "metadata": {
    "deletable": false,
    "nbgrader": {
     "checksum": "5028871eda79db2b6aadaa995c1a81b1",
     "grade": true,
     "grade_id": "cell-6d14678214b57b76",
     "locked": false,
     "points": 1,
     "schema_version": 1,
     "solution": true
    }
   },
   "source": [
    "YOUR ANSWER HERE"
   ]
  },
  {
   "cell_type": "markdown",
   "metadata": {},
   "source": [
    "## Questão 8: Zoom da convergência"
   ]
  },
  {
   "cell_type": "markdown",
   "metadata": {},
   "source": [
    "Agora, repita o mesmo gráfico para $\\alpha \\in \\{2, 2.5, 2.9, 2.99 \\}$."
   ]
  },
  {
   "cell_type": "code",
   "execution_count": null,
   "metadata": {
    "deletable": false,
    "nbgrader": {
     "checksum": "4b6d2d1ff8adb9faacb17d57f64319e8",
     "grade": false,
     "grade_id": "cell-1e0d97d3431b908c",
     "locked": false,
     "schema_version": 1,
     "solution": true
    }
   },
   "outputs": [],
   "source": [
    "np.random.seed(1234)\n",
    "\n",
    "ax = []\n",
    "v0 = np.random.rand(2)\n",
    "\n",
    "\n",
    "# YOUR CODE HERE\n",
    "raise NotImplementedError()\n",
    "\n",
    "plt.ylabel('Distance to eigenvector')\n",
    "\n",
    "ax = plt.gca()\n",
    "plt.show()"
   ]
  },
  {
   "cell_type": "code",
   "execution_count": null,
   "metadata": {
    "deletable": false,
    "editable": false,
    "nbgrader": {
     "checksum": "786a046d1652361d3545fbd74abc0810",
     "grade": true,
     "grade_id": "cell-ba4f76d9ce62cb01",
     "locked": true,
     "points": 1,
     "schema_version": 1,
     "solution": false
    }
   },
   "outputs": [],
   "source": [
    "assert ax.title.get_text() != \"\"\n",
    "assert len(ax.lines) == 4\n",
    "assert len(ax.legend().texts) == 4\n",
    "assert ax.get_xlabel() != \"\"\n",
    "\n",
    "ys = [l.get_ydata() for l in ax.lines]\n",
    "\n",
    "assert min(min(y) for y in ys) <= 1e-16"
   ]
  },
  {
   "cell_type": "markdown",
   "metadata": {},
   "source": [
    "O que este gráfico sugere quanto à velocidade de convergência da iteração inversa?\n",
    "Será que isso já era possível de \"ver\" no outro gráfico?"
   ]
  },
  {
   "cell_type": "markdown",
   "metadata": {
    "deletable": false,
    "nbgrader": {
     "checksum": "49a0d9a99c190633caedd86a342a2733",
     "grade": true,
     "grade_id": "cell-4dda5a6510d10977",
     "locked": false,
     "points": 2,
     "schema_version": 1,
     "solution": true
    }
   },
   "source": [
    "YOUR ANSWER HERE"
   ]
  }
 ],
 "metadata": {
  "kernelspec": {
   "display_name": "Python 3",
   "language": "python",
   "name": "python3"
  },
  "language_info": {
   "codemirror_mode": {
    "name": "ipython",
    "version": 3
   },
   "file_extension": ".py",
   "mimetype": "text/x-python",
   "name": "python",
   "nbconvert_exporter": "python",
   "pygments_lexer": "ipython3",
   "version": "3.7.1"
  }
 },
 "nbformat": 4,
 "nbformat_minor": 2
}
