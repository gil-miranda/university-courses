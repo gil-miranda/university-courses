{
 "cells": [
  {
   "cell_type": "code",
   "execution_count": 5,
   "metadata": {},
   "outputs": [],
   "source": [
    "import numpy as np\n",
    "import matplotlib.pyplot as plt"
   ]
  },
  {
   "cell_type": "markdown",
   "metadata": {},
   "source": [
    "# O método de Newton com aproximação da secante\n",
    "\n",
    "Podemos modifiar o método de Newton para que,\n",
    "em vez de usar a reta tangente, e com isso necessitar da derivada (que podemos não saber calcular de forma simples!)\n",
    "ele use uma secante, e desta forma apenas uma aproximação da derivada.\n",
    "\n",
    "Como vimos na parte anterior, a equação da reta secante é dada por\n",
    "$$ S_{f,x1,x2}(t) = f(x_1) + \\frac{f(x_2) - f(x_1)}{x_2 - x_1}(t - x_1), $$\n",
    "daonde vemos que $\\frac{f(x_2) - f(x_1)}{x_2 - x_1}$ é, naturalmente, uma aproximação da derivada.\n",
    "\n",
    "Substituindo diretamente no método de Newton, temos assim uma fórmula que usa dois valores:\n",
    "$$S_f(x_1,x_2) = x_1 - \\frac{f(x_1)}{\\frac{f(x_2) - f(x_1)}{x_2 - x_1}}.$$"
   ]
  },
  {
   "cell_type": "markdown",
   "metadata": {},
   "source": [
    "## Simetria\n",
    "\n",
    "É claro que a reta secante que passa em $x_1$ e $x_2$ não depende da ordem,\n",
    "e as fórmulas que obtivemos acima parecem privilegiar $x_1$ face a $x_2$.\n",
    "Isso é apenas porque não nos demos ao trabalho de explicitar a simetria:\n",
    "\n",
    "Para a equação da reta secante:\n",
    "$$\\begin{align}\n",
    "S_{f,x1,x2}(t)\n",
    "  & = f(x_1) + \\frac{f(x_2) - f(x_1)}{x_2 - x_1}(t - x_1) \\\\\n",
    "  & = \\frac{f(x_1)(x_2 - x_1) + \\big[f(x_2) - f(x_1)\\big]t - \\big[f(x_2) - f(x_1)\\big]x_1}{x_2 - x_1} \\\\\n",
    "  & = \\frac{x_2 f(x_1) - x_1 f(x_2) + t\\big[f(x_2) - f(x_1)\\big]}{x_2 - x_1}.\n",
    "\\end{align}$$\n",
    "Para encontrar o zero da secante, podemos agora tanto fazer diretamente da equação acima,\n",
    "igualando o numerador a zero,\n",
    "ou então simetrizando $S_f(x_1,x2)$,\n",
    "o que dá a mesma fórmula (ainda bem!):\n",
    "$$S_f(x_1,x_2)\n",
    "  = x_1 - \\frac{f(x_1)}{\\frac{f(x_2) - f(x_1)}{x_2 - x_1}}\n",
    "  = x_1 - \\frac{f(x_1)\\big( x_2 - x_1 \\big)}{f(x_2) - f(x_1)}\n",
    "  = \\frac{x_1 f(x_2) - x_2 f(x_1)}{f(x_2) - f(x_1)}.$$"
   ]
  },
  {
   "cell_type": "markdown",
   "metadata": {},
   "source": [
    "No caso de um método iterativo, podemos usar outros pontos de $f$ já calculados,\n",
    "para evitar chamar $f$ várias vezes!\n",
    "Assim, temos a seguinte recorrência:\n",
    "- Os valores $x_1$ e $x_2$ são tomados (\"ao acaso\", ou talvez \"espertamente\", dependendo se podemos ser espertos)\n",
    "- Iteramos $x_{n+2} = S_f(x_{n+1},x_n)$\n",
    "Neste caso, como temos uma _ordem_ entre os pontos utilizados,\n",
    "haverá uma certa assimetria no algoritmo."
   ]
  },
  {
   "cell_type": "code",
   "execution_count": 1,
   "metadata": {},
   "outputs": [],
   "source": [
    "def newton_sec(f,x1,x2, tol=1e-10, maxiter=100):\n",
    "    \"\"\"Método de Newton com aproximação da secante, para a função $f$, começando em x1 e x2.\"\"\"\n",
    "    prox = (x1*f(x2) - x2*f(x1))/(f(x2) - f(x1))\n",
    "    if abs(prox - x2) < tol: # Erro pequeno: convergiu\n",
    "        return prox\n",
    "    if maxiter == 0: # Não convergiu\n",
    "        return prox\n",
    "    \n",
    "    return newton_sec(f,x2,prox,tol, maxiter-1)"
   ]
  },
  {
   "cell_type": "code",
   "execution_count": 2,
   "metadata": {},
   "outputs": [],
   "source": [
    "import numpy as np"
   ]
  },
  {
   "cell_type": "code",
   "execution_count": 3,
   "metadata": {},
   "outputs": [
    {
     "data": {
      "text/plain": [
       "0.0"
      ]
     },
     "execution_count": 3,
     "metadata": {},
     "output_type": "execute_result"
    }
   ],
   "source": [
    "ans = newton_sec(np.cos, 0,3)\n",
    "ans - np.pi/2"
   ]
  },
  {
   "cell_type": "markdown",
   "metadata": {},
   "source": [
    "## Performance\n",
    "\n",
    "O \"método da secante\", como é conhecido, converge mais lentamente do que o método de Newton:\n",
    "podemos mostrar que os erros $e_i$ satisfazem uma \"recorrência de desigualdade\":\n",
    "$$ e_{n+1} < C (e_n \\cdot e_{n-1}). $$\n",
    "Mas, como este calcula menos vezes a função, ele converge mais rápido por número de chamadas a $f$."
   ]
  },
  {
   "cell_type": "markdown",
   "metadata": {},
   "source": [
    "### Exercício: Fazer uma comparação entre as velocidades de Newton e da Secante.\n",
    "\n",
    "Comece fazendo um gráfico simples, com a precisão da resposta em função do número de passos.\n",
    "Em seguida, faça o gráfico da precisão em função do número de vezes que a função $f$ é calculada.\n",
    "\n",
    "Se tiver tempo, faça desenhos indicando os pontos das iterações.\n",
    "Enfim, se você tiver mais tempo ainda, anime o desenho \"ao longo do tempo\":\n",
    "faça aparecer os pontos de Newton e da secante \"na ordem em que foram obtidos\"\n",
    "(em função do número de vezes que $f$ foi calculada)."
   ]
  },
  {
   "cell_type": "code",
   "execution_count": 96,
   "metadata": {},
   "outputs": [],
   "source": [
    "def newton_list(f,df,x, prec=1e-8, maxiter=100, iterr = 0, lst = [], reti = False):\n",
    "    if maxiter == iterr:\n",
    "        return None\n",
    "    dx = f(x)/df(x)\n",
    "    newx = x - dx\n",
    "    xs = lst[:]\n",
    "    xs.append(x)\n",
    "    if abs(dx) < prec:\n",
    "        if reti:\n",
    "            return xs, iterr\n",
    "        else:\n",
    "            return xs\n",
    "    else:\n",
    "        return newton_list(f,df,newx, prec,iterr = iterr+1, lst = xs)"
   ]
  },
  {
   "cell_type": "code",
   "execution_count": 97,
   "metadata": {},
   "outputs": [],
   "source": [
    "def newton_sec_list(f,x1,x2, tol=1e-10, maxiter=100, lst = []):\n",
    "    \"\"\"Método de Newton com aproximação da secante, para a função $f$, começando em x1 e x2.\"\"\"\n",
    "    prox = (x1*f(x2) - x2*f(x1))/(f(x2) - f(x1))\n",
    "    xs = lst[:]\n",
    "    xs.append(x1)\n",
    "    if abs(prox - x2) < tol: # Erro pequeno: convergiu\n",
    "        return xs\n",
    "    if maxiter == 0: # Não convergiu\n",
    "        return xs\n",
    "    \n",
    "    return newton_sec_list(f,x2,prox,tol, maxiter-1,xs)\n"
   ]
  },
  {
   "cell_type": "code",
   "execution_count": 140,
   "metadata": {},
   "outputs": [
    {
     "data": {
      "image/png": "[encoded data removed]",
      "text/plain": [
       "<Figure size 432x288 with 1 Axes>"
      ]
     },
     "metadata": {
      "needs_background": "light"
     },
     "output_type": "display_data"
    }
   ],
   "source": [
    "def f(x): return x**3 -5\n",
    "def df(x): return 3*x**2\n",
    "\n",
    "lnewton = newton_list(f,df,100)\n",
    "lsecante = newton_sec_list(f,100,200)\n",
    "ans = 5**(1/3)\n",
    "plt.semilogy(np.abs(np.array(lnewton) - ans), label='Newton')\n",
    "plt.semilogy(np.abs(np.array(lsecante) - ans), label='Secante')\n",
    "plt.legend()\n",
    "plt.show()"
   ]
  },
  {
   "cell_type": "code",
   "execution_count": 111,
   "metadata": {},
   "outputs": [
    {
     "data": {
      "text/plain": [
       "[3, 3.142546543074278, 3.141592653300477, 3.141592653589793]"
      ]
     },
     "execution_count": 111,
     "metadata": {},
     "output_type": "execute_result"
    }
   ],
   "source": [
    "a = newton_list(np.sin,np.cos,3,prec=1e-14)\n",
    "a"
   ]
  },
  {
   "cell_type": "markdown",
   "metadata": {},
   "source": [
    "Gráfico em função do andamento da função:"
   ]
  },
  {
   "cell_type": "code",
   "execution_count": 143,
   "metadata": {},
   "outputs": [
    {
     "data": {
      "image/png": "[encoded data removed]",
      "text/plain": [
       "<Figure size 1080x360 with 2 Axes>"
      ]
     },
     "metadata": {
      "needs_background": "light"
     },
     "output_type": "display_data"
    }
   ],
   "source": [
    "### Resposta aqui\n",
    "nwt_lst = newton_list(f,df,100)\n",
    "nwt_sec_lst = newton_sec_list(f,100,200)\n",
    "v1 = np.arange(0,len(nwt_lst),1)\n",
    "v2 = np.arange(0,len(nwt_sec_lst),1)\n",
    "\n",
    "_, [ax1, ax2] = plt.subplots(ncols=2, figsize=(15,5))\n",
    "ax1.set_title('Newton')\n",
    "ax1.semilogy(np.abs(np.array(nwt_lst) - np.pi))\n",
    "#ax1.plot(v2, nwt_sec_lst)\n",
    "\n",
    "ax2.set_title('Newton Secante')\n",
    "ax2.plot(v2, np.abs(np.array(nwt_sec_lst) - np.pi))\n",
    "plt.show()"
   ]
  },
  {
   "cell_type": "code",
   "execution_count": null,
   "metadata": {},
   "outputs": [],
   "source": []
  }
 ],
 "metadata": {
  "kernelspec": {
   "display_name": "Python 3",
   "language": "python",
   "name": "python3"
  },
  "language_info": {
   "codemirror_mode": {
    "name": "ipython",
    "version": 3
   },
   "file_extension": ".py",
   "mimetype": "text/x-python",
   "name": "python",
   "nbconvert_exporter": "python",
   "pygments_lexer": "ipython3",
   "version": "3.7.0"
  }
 },
 "nbformat": 4,
 "nbformat_minor": 1
}
