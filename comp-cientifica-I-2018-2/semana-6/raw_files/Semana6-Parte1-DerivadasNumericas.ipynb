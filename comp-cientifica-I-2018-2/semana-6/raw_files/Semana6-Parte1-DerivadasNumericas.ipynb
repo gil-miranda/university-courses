{
 "cells": [
  {
   "cell_type": "code",
   "execution_count": null,
   "metadata": {},
   "outputs": [],
   "source": [
    "import numpy as np\n",
    "import matplotlib.pyplot as plt"
   ]
  },
  {
   "cell_type": "markdown",
   "metadata": {},
   "source": [
    "# Derivadas aproximadas\n",
    "\n",
    "Nem sempre é possível calcular a derivada de uma função.\n",
    "Às vezes, a função em questão não é dada de forma explícita.\n",
    "Por exemplo,\n",
    "$$f(x) = \\min_{|y| < x} \\Big( \\frac{\\cos(2x^2 - 3y)}{20x - y}  \\Big).$$\n",
    "\n",
    "Assim, teremos que _estimar_ a derivada de $f$, sem calculá-la explicitamente."
   ]
  },
  {
   "cell_type": "markdown",
   "metadata": {},
   "source": [
    "A idéia principal é que\n",
    "$$ f'(x) = \\lim_{h \\to 0} \\frac{f(x+h) - f(x)}{h}, $$\n",
    "ou seja, que a derivada é o limite do \"quociente fundamental\".\n",
    "Podemos usar o computador para estimar este limite:"
   ]
  },
  {
   "cell_type": "code",
   "execution_count": null,
   "metadata": {},
   "outputs": [],
   "source": [
    "def df(f, x, h=1e-5):\n",
    "    return (f(x+h) - f(x))/h"
   ]
  },
  {
   "cell_type": "markdown",
   "metadata": {},
   "source": [
    "### Exercício: \"Esta função é vetorial\"?\n",
    "\n",
    "Ou seja, se passarmos um vetor `x` em argumento, vai dar certo?\n",
    "Em que condições?"
   ]
  },
  {
   "cell_type": "markdown",
   "metadata": {},
   "source": [
    "### Exercício\n",
    "\n",
    "Calcule a derivada do seno no intervalo $[0,7]$ por este método,\n",
    "e compare com o resultado teórico."
   ]
  },
  {
   "cell_type": "code",
   "execution_count": null,
   "metadata": {},
   "outputs": [],
   "source": [
    "xs = np.arange(0, 7, 0.05)\n",
    "### BEGIN SOLUTION\n",
    "dfx = np.cos(xs)\n",
    "dfx_approx = df(np.sin,xs)\n",
    "\n",
    "_, [ax1, ax2] = plt.subplots(ncols=2, figsize=(15,4))\n",
    "ax1.set_title('Cálculo da derivada')\n",
    "ax1.plot(xs, dfx_approx, label='aproximação')\n",
    "ax1.plot(xs, dfx, label='valor real')\n",
    "ax1.legend(loc=0)\n",
    "\n",
    "ax2.set_title('Erro de aproximação')\n",
    "ax2.plot(xs, dfx_approx - dfx)\n",
    "\n",
    "plt.show()\n",
    "### BEGIN SOLUTION"
   ]
  },
  {
   "cell_type": "markdown",
   "metadata": {},
   "source": [
    "### Exercício\n",
    "\n",
    "Muitas vezes, a função que vamos usar é \"vetorial\", como por exemplo `sin`, `exp`.\n",
    "Mas às vezes não é tão simples escrever uma forma vetorial para uma função.\n",
    "Nestes casos, não podemos usar tão diretamente as funções acima para fazer gráficos,\n",
    "e em vez disso devemos construir as listas (ou, melhor, `array`s) nós mesmos.\n",
    "\n",
    "Vejamos um exemplo:\n",
    "\n",
    "Seja $y = f(t)$ a raiz de $t\\cos(x) = x$.\n",
    "Uma forma de calcular $f$ seria, por exemplo,\n",
    "usando o método da bisseção.\n",
    "Por exemplo:"
   ]
  },
  {
   "cell_type": "code",
   "execution_count": null,
   "metadata": {},
   "outputs": [],
   "source": [
    "from rootfinding import bissection"
   ]
  },
  {
   "cell_type": "code",
   "execution_count": null,
   "metadata": {},
   "outputs": [],
   "source": [
    "def f(t):\n",
    "    def g(x):\n",
    "        return t*np.cos(x) - x\n",
    "    return bissection(g,-np.pi/2,np.pi/2, tol=1e-8)"
   ]
  },
  {
   "cell_type": "markdown",
   "metadata": {},
   "source": [
    "Agora, escreva uma função `fvect` que recebe um array do numpy e retorna o array correspondente a todas as $f(t)$\n",
    "para cada $t$ no array."
   ]
  },
  {
   "cell_type": "code",
   "execution_count": null,
   "metadata": {},
   "outputs": [],
   "source": [
    "### Resposta aqui\n"
   ]
  },
  {
   "cell_type": "markdown",
   "metadata": {},
   "source": [
    "E agora, veja o gráfico de f."
   ]
  },
  {
   "cell_type": "code",
   "execution_count": null,
   "metadata": {},
   "outputs": [],
   "source": [
    "v = np.arange(-3,3,0.05)\n",
    "plt.plot(v, fvect(v));\n",
    "plt.show()"
   ]
  },
  {
   "cell_type": "markdown",
   "metadata": {},
   "source": [
    "Com a ajuda da fvect, faça um gráfico da derivada de $f$."
   ]
  },
  {
   "cell_type": "code",
   "execution_count": null,
   "metadata": {},
   "outputs": [],
   "source": [
    "### Resposta aqui\n"
   ]
  },
  {
   "cell_type": "markdown",
   "metadata": {},
   "source": [
    "## Estimando o erro\n",
    "\n",
    "Uma atividade importante ao se construir um método numérico é calcular (ou ao menos estimar) o erro cometido.\n",
    "Em geral, estimativas de erros são feitas com mais do que as hipóteses mínimas para o método.\n",
    "Por exemplo, no caso do método de Newton, basta a função ser derivável para podermos usá-lo,\n",
    "mas para mostrar convergência quadrática, temos que supor que ela terá duas derivadas,\n",
    "e que o quociente $\\frac{f''(\\xi)}{2f'(x)}$ seja limitado no intervalo de convergência.\n",
    "\n",
    "Vamos, então, seguir este padrão: queremos calcular a primeira derivada,\n",
    "e para estimar o erro suporemos que a função é duas vezes derivável.\n",
    "Assim:\n",
    "$$ \\frac{f(x+h) - f(x)}{h} - f'(x) = \\frac{\\big(f(x) + h f'(x) + \\frac{h^2}{2} f''(\\xi) \\big) - f(x)}{h} - f'(x)\n",
    "   = \\frac{h f''(\\xi)}{2}.$$"
   ]
  },
  {
   "cell_type": "markdown",
   "metadata": {},
   "source": [
    "No caso de $f(x) = \\sin(x)$, o erro estará aproximadamente entre $h (-\\sin(x))/2$ e $h (-\\sin(x+h))/2$.\n",
    "Vejamos o quão próximo isto é de fato:"
   ]
  },
  {
   "cell_type": "code",
   "execution_count": null,
   "metadata": {},
   "outputs": [],
   "source": [
    "plt.title('Erro na estimativa do erro (\"erro do erro\")')\n",
    "plt.plot(xs, (dfx_approx - dfx) - (- 1e-5 * np.sin(xs) / 2))\n",
    "plt.show()"
   ]
  },
  {
   "cell_type": "markdown",
   "metadata": {},
   "source": [
    "O exemplo anterior mostra que, se desejamos aproximar a derivada de uma função \"bem-comportada\" pelo quociente fundamental,\n",
    "o erro será proporcional ao **passo** e à derivada segunda (que, em geral, não conhecemos!).\n",
    "Assim, para diminuir o erro, teremos que diminuir igualmente o passo.\n",
    "Mas isso pode resultar em erros de truncamento..."
   ]
  },
  {
   "cell_type": "code",
   "execution_count": null,
   "metadata": {},
   "outputs": [],
   "source": [
    "dfx_approx_2 = df(np.sin,xs, h=1e-10)\n",
    "\n",
    "_, [ax1, ax2] = plt.subplots(ncols=2, figsize=(15,4))\n",
    "ax1.set_title('Erro de aproximação')\n",
    "ax1.plot(xs, dfx_approx_2 - dfx)\n",
    "\n",
    "ax2.set_title('Erro na estimativa do erro')\n",
    "ax2.plot(xs, (dfx_approx_2 - dfx) - (- 1e-10 * np.sin(xs)/2))\n",
    "plt.show()"
   ]
  },
  {
   "cell_type": "markdown",
   "metadata": {},
   "source": [
    "### Exercício: vendo o truncamento\n",
    "\n",
    "Porque faz sentido, dados os gráficos acima,\n",
    "atribuir o erro de aproximação à precisão numérica do computador,\n",
    "e não à derivada segunda?"
   ]
  },
  {
   "cell_type": "markdown",
   "metadata": {},
   "source": [
    "Note que o erro de aproximação não está mais proporcional a $\\varepsilon$.\n",
    "Para resolver isso, precisamos de um método de cálculo cujo erro seja menor!"
   ]
  }
 ],
 "metadata": {
  "kernelspec": {
   "display_name": "Python 3",
   "language": "python",
   "name": "python3"
  },
  "language_info": {
   "codemirror_mode": {
    "name": "ipython",
    "version": 3
   },
   "file_extension": ".py",
   "mimetype": "text/x-python",
   "name": "python",
   "nbconvert_exporter": "python",
   "pygments_lexer": "ipython3"
  }
 },
 "nbformat": 4,
 "nbformat_minor": 1
}
