{
 "cells": [
  {
   "cell_type": "markdown",
   "metadata": {},
   "source": [
    "# O algoritmo da bisseção\n",
    "\n",
    "Imagine que temos uma função contínua $f$, e que conhecemos dois pontos $a$ e $b$ tais que $f(a) < 0$ e $f(b) > 0$.\n",
    "O [Teorema do valor intermediário](https://pt.wikipedia.org/wiki/Teorema_do_valor_intermedi%C3%A1rio) garante que existe um número real $c$ entre $a$ e $b$ tal que $f(c) = 0$.\n",
    "\n",
    "O que vamos ver é que a demonstração da _existência_ de $c$ também garante a **construção** de (uma aproximação de) $c$.\n",
    "Este tipo de demonstração é dito [efetivo](https://en.wikipedia.org/wiki/Effective_method),\n",
    "pois permite \"de fato\" obter este valor."
   ]
  },
  {
   "cell_type": "markdown",
   "metadata": {},
   "source": [
    "## A demonstração to TVI\n",
    "\n",
    "A ideia é bastante simples:\n",
    "primeiro, supomos sem perda de generalidade que $a < b$, e olhamos para o ponto médio do intervalo, $z = \\frac{a+b}{2}$.\n",
    "No ponto médio, temos 3 possibilidades:\n",
    "1. $f(z) = 0$, em que caso \"acabou\", pois achamos uma raiz\n",
    "2. $f(z) < 0$, em que caso temos um intervalo _menor_, $[z,b]$, com as mesmas propriedades de troca de sinal\n",
    "3. $f(z) > 0$, análogo ao anterior com $[a,z]$.\n",
    "\n",
    "Assim, podemos pensar que o algoritmo da bisseção toma uma aproximação \"ruim\" da raiz\n",
    "(um **intervalo** $[a,b]$ que contém a raiz)\n",
    "e cada passo divide o intervalo ao meio, com isso diminuindo a \"incerteza\" quanto ao local da raiz."
   ]
  },
  {
   "cell_type": "markdown",
   "metadata": {},
   "source": [
    "### Exercício\n",
    "\n",
    "Implemente esta ideia na função `bissecao_step(f,a,b)`,\n",
    "que retorna o próximo intervalo onde buscar a raiz."
   ]
  },
  {
   "cell_type": "code",
   "execution_count": 1,
   "metadata": {
    "collapsed": true
   },
   "outputs": [],
   "source": [
    "def bissecao_step(f,a,b):\n",
    "    ### Resposta aqui\n"
   ]
  },
  {
   "cell_type": "markdown",
   "metadata": {},
   "source": [
    "## Testando isso\n",
    "\n",
    "Vamos achar uma raiz para $\\cos(x) = x$:"
   ]
  },
  {
   "cell_type": "code",
   "execution_count": 2,
   "metadata": {
    "collapsed": true
   },
   "outputs": [],
   "source": [
    "import numpy as np"
   ]
  },
  {
   "cell_type": "code",
   "execution_count": 3,
   "metadata": {
    "collapsed": true
   },
   "outputs": [],
   "source": [
    "def f(x):\n",
    "    return np.cos(x) - x"
   ]
  },
  {
   "cell_type": "code",
   "execution_count": 4,
   "metadata": {},
   "outputs": [
    {
     "data": {
      "text/plain": [
       "(1.0, -0.45969769413186023)"
      ]
     },
     "execution_count": 4,
     "metadata": {},
     "output_type": "execute_result"
    }
   ],
   "source": [
    "# Verificando as condições\n",
    "f(0), f(1)"
   ]
  },
  {
   "cell_type": "markdown",
   "metadata": {},
   "source": [
    "Diminuindo o intervalo \"na mão\":"
   ]
  },
  {
   "cell_type": "code",
   "execution_count": 5,
   "metadata": {},
   "outputs": [
    {
     "data": {
      "text/plain": [
       "(0.5, 1)"
      ]
     },
     "execution_count": 5,
     "metadata": {},
     "output_type": "execute_result"
    }
   ],
   "source": [
    "bissecao_step(f, 0, 1)"
   ]
  },
  {
   "cell_type": "code",
   "execution_count": 6,
   "metadata": {},
   "outputs": [
    {
     "data": {
      "text/plain": [
       "(0.5, 0.75)"
      ]
     },
     "execution_count": 6,
     "metadata": {},
     "output_type": "execute_result"
    }
   ],
   "source": [
    "bissecao_step(f, 0.5, 1)"
   ]
  },
  {
   "cell_type": "code",
   "execution_count": 7,
   "metadata": {},
   "outputs": [
    {
     "data": {
      "text/plain": [
       "(0.625, 0.75)"
      ]
     },
     "execution_count": 7,
     "metadata": {},
     "output_type": "execute_result"
    }
   ],
   "source": [
    "bissecao_step(f, 0.5, 0.75)"
   ]
  },
  {
   "cell_type": "markdown",
   "metadata": {},
   "source": [
    "### Exercício\n",
    "\n",
    "Diminua o intervalo até que ele fique de tamanho menor do que `1e-6`.\n",
    "Não faça isso na mão, são muitas iterações...\n",
    "Há duas soluções, bastante equivalentes:\n",
    "- Usar uma função recursiva, que diminui o intervalo até acabar\n",
    "- Usar um _loop_, com o mesmo teste para sair.\n",
    "\n",
    "Vendo o que aconteceu acima, a solução com uma função recursiva, que chama a si mesma com o retorno \"da vez anterior\"\n",
    "é bastante natural."
   ]
  },
  {
   "cell_type": "code",
   "execution_count": 8,
   "metadata": {
    "collapsed": true
   },
   "outputs": [],
   "source": [
    "def bissecao(f,a,b,tol=1e-6):\n",
    "    \"\"\"Bissection algorithm for function f on the interval [a,b], stopping when the width becomes less than `tol`.\"\"\"\n",
    "    ### Resposta aqui\n"
   ]
  },
  {
   "cell_type": "code",
   "execution_count": 9,
   "metadata": {
    "collapsed": true
   },
   "outputs": [],
   "source": [
    "def bissecao2(f,a,b, tol=1e-6):\n",
    "    ### Resposta aqui\n"
   ]
  },
  {
   "cell_type": "code",
   "execution_count": 10,
   "metadata": {},
   "outputs": [
    {
     "data": {
      "text/plain": [
       "(0.7390842437744141, 0.7390851974487305)"
      ]
     },
     "execution_count": 10,
     "metadata": {},
     "output_type": "execute_result"
    }
   ],
   "source": [
    "bissecao2(f, 0, 1)"
   ]
  },
  {
   "cell_type": "markdown",
   "metadata": {},
   "source": [
    "### Exercício bonus\n",
    "\n",
    "O \"tipo\" natural para um intervalo é um _par_ de pontos `(a,b)` como usamos no retorno da função `bissecao_step`.\n",
    "Mas os argumentos foram as duas extremidades \"separadas\".\n",
    "Modifique o código para sempre passar intervalos como pares, ou seja:\n",
    "`bissecao_step(f,I)` e `bissecao(f,I,tol=1e-6)`.\n",
    "\n",
    "Dica: crie também uma função `width(I)` que retorna o comprimento do intervalo,\n",
    "para não precisar \"desempacotar\" `I` dentro da `bissecao`.\n",
    "Por outro lado, você provavelmente terá que fazer `a,b = I` dentro da `bissecao_step`."
   ]
  }
 ],
 "metadata": {
  "kernelspec": {
   "display_name": "Python 3",
   "language": "python",
   "name": "python3"
  },
  "language_info": {
   "codemirror_mode": {
    "name": "ipython",
    "version": 3
   },
   "file_extension": ".py",
   "mimetype": "text/x-python",
   "name": "python",
   "nbconvert_exporter": "python",
   "pygments_lexer": "ipython3",
   "version": "3.4.6"
  }
 },
 "nbformat": 4,
 "nbformat_minor": 2
}
