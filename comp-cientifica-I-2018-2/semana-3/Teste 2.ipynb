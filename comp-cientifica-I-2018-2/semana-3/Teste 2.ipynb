{
 "cells": [
  {
   "cell_type": "markdown",
   "metadata": {},
   "source": [
    "# Estimativas empíricas de erros\n",
    "\n",
    "Gostaríamos de obter estimativas do erro obtido com a solução numérica de uma EDO.\n",
    "Devido à natureza cumulativa dos erros no método de Euler, é razoável usar o ponto final,\n",
    "logo uma primeira idéia é comparar o valor no ponto final entre duas soluções,\n",
    "sendo uma com um número maior de pontos que a outra.\n",
    "\n",
    "A motivação deste método é que, se $y_1$ e $y_2$ são as estimativas do ponto final real $y$,\n",
    "com $|y_1 - y| < \\varepsilon_1$ e $|y_2 - y| < \\varepsilon_2$, então $|y_1 - y_2| < \\varepsilon_1 + \\varepsilon_2$.\n",
    "Entretanto, temos apenas como calcular $|y_1 - y_2|$,\n",
    "o que não garante (matematicamente) nada quanto aos valores que desejamos realmente calcular,\n",
    "$|y_1 - y|$ ou $|y_2 - y|$, mas pode dar uma indicação de sua ordem de grandeza.\n",
    "\n",
    "Veremos ao longo deste teste algumas das limitações deste método."
   ]
  },
  {
   "cell_type": "markdown",
   "metadata": {},
   "source": [
    "## Bibliotecas\n",
    "\n",
    "Além do numpy e da matplotlib, vamos precisar da `euler_npts` de uma aula anterior.\n",
    "Copie aqui o código da mesma (e da `eulerexplicito`, necessária para ela)."
   ]
  },
  {
   "cell_type": "code",
   "execution_count": null,
   "metadata": {
    "deletable": false,
    "editable": false,
    "nbgrader": {
     "checksum": "55e28d7939e7372ef9bdc117b16a445e",
     "grade": false,
     "grade_id": "cell-51e5c6a076cdac39",
     "locked": true,
     "schema_version": 1,
     "solution": false
    }
   },
   "outputs": [],
   "source": [
    "import numpy as np\n",
    "import matplotlib.pyplot as plt"
   ]
  },
  {
   "cell_type": "code",
   "execution_count": null,
   "metadata": {
    "deletable": false,
    "nbgrader": {
     "checksum": "503555ab0164b0b56e61cac24758e78f",
     "grade": false,
     "grade_id": "cell-59ed968e77d270f9",
     "locked": false,
     "schema_version": 1,
     "solution": true
    }
   },
   "outputs": [],
   "source": [
    "def eulerexplicito(F, t0, y0, ts):\n",
    "    \"\"\"Calcula uma solução aproximada da equação y' = F(t,y) pelo método de Euler, nos pontos [ts].\"\"\"\n",
    "    # YOUR CODE HERE\n",
    "    raise NotImplementedError()\n",
    "\n",
    "def euler_npts(F, I, y0, npts, retpts=False):\n",
    "    \"\"\"Calcula uma solução aproximada da equação  y' = F(t,y)  pelo método de Euler,\n",
    "    com `npts` pontos igualmente espaçados no intervalo `I`.\"\"\"\n",
    "    # YOUR CODE HERE\n",
    "    raise NotImplementedError()"
   ]
  },
  {
   "cell_type": "markdown",
   "metadata": {},
   "source": [
    "## Questão 1: Estimando o erro empiricamente.\n",
    "\n",
    "Implemente a função `estima_erro(F, I, y0, n1, n2)` que retorna a estimativa do erro a partir das soluções da equação diferencial $y'(t) = F(t, y(t))$ com `n1` pontos e `n2` pontos igualmente espaçados."
   ]
  },
  {
   "cell_type": "code",
   "execution_count": null,
   "metadata": {
    "deletable": false,
    "nbgrader": {
     "checksum": "119c8808b90d4d58479ee94d58787c88",
     "grade": false,
     "grade_id": "cell-167d9d30f0958df0",
     "locked": false,
     "schema_version": 1,
     "solution": true
    }
   },
   "outputs": [],
   "source": [
    "def estima_erro(F, I, y0, n1, n2):\n",
    "    # YOUR CODE HERE\n",
    "    raise NotImplementedError()"
   ]
  },
  {
   "cell_type": "markdown",
   "metadata": {},
   "source": [
    "### Alguns testes simples"
   ]
  },
  {
   "cell_type": "code",
   "execution_count": null,
   "metadata": {
    "deletable": false,
    "editable": false,
    "nbgrader": {
     "checksum": "92948e9be1f44ca52e33e320620fbd70",
     "grade": true,
     "grade_id": "cell-0466da9ea29d4cee",
     "locked": true,
     "points": 1,
     "schema_version": 1,
     "solution": false
    }
   },
   "outputs": [],
   "source": [
    "def f_exp(t,x): return x\n",
    "a1 = estima_erro(f_exp, [0,1], 1.2, 10,100)\n",
    "assert np.isclose(a1, 0.148, atol=0.01)"
   ]
  },
  {
   "cell_type": "code",
   "execution_count": null,
   "metadata": {
    "deletable": false,
    "editable": false,
    "nbgrader": {
     "checksum": "854cf701dc199c9df378c4a103fd4a46",
     "grade": true,
     "grade_id": "cell-3756d643be1f5178",
     "locked": true,
     "points": 1,
     "schema_version": 1,
     "solution": false
    }
   },
   "outputs": [],
   "source": [
    "def f_mexp(t,x): return -x\n",
    "a2 = estima_erro(f_mexp, [0,1], 2.2, 10,100)\n",
    "assert np.isclose(a2, 0.043, atol=0.01)"
   ]
  },
  {
   "cell_type": "code",
   "execution_count": null,
   "metadata": {
    "deletable": false,
    "editable": false,
    "nbgrader": {
     "checksum": "431f5d33fdf8680fcc42db206003fdea",
     "grade": true,
     "grade_id": "cell-5af53e64f1c2f3e5",
     "locked": true,
     "points": 1,
     "schema_version": 1,
     "solution": false
    }
   },
   "outputs": [],
   "source": [
    "def f_poly(t,x): return t**2 - 2*t\n",
    "a3 = estima_erro(f_poly, [-4,4], 100, 200,2000)\n",
    "assert np.isclose(a3, 0.292, atol=0.01)"
   ]
  },
  {
   "cell_type": "markdown",
   "metadata": {},
   "source": [
    "### E um gráfico\n",
    "\n",
    "Faça o gráfico da estimativa do erro para 10 e $n$ pontos, variando $n$ de 10 a 50.\n",
    "\n",
    "Dê um título para seu gráfico!"
   ]
  },
  {
   "cell_type": "code",
   "execution_count": null,
   "metadata": {
    "deletable": false,
    "nbgrader": {
     "checksum": "0674385b28dd3fd5588f819f49e10b29",
     "grade": true,
     "grade_id": "cell-3e26b5a6494fab3b",
     "locked": false,
     "points": 2,
     "schema_version": 1,
     "solution": true
    }
   },
   "outputs": [],
   "source": [
    "ns = np.arange(10,50)\n",
    "# YOUR CODE HERE\n",
    "raise NotImplementedError()\n",
    "plt.show()"
   ]
  },
  {
   "cell_type": "markdown",
   "metadata": {},
   "source": [
    "### Análise\n",
    "\n",
    "O erro parece crescer ou diminuir conforme $n$ aumenta? Comente/explique."
   ]
  },
  {
   "cell_type": "markdown",
   "metadata": {
    "deletable": false,
    "nbgrader": {
     "checksum": "01bc7a7642b2b223c645e871148f4c46",
     "grade": true,
     "grade_id": "cell-3e3f15e97941844a",
     "locked": false,
     "points": 2,
     "schema_version": 1,
     "solution": true
    }
   },
   "source": [
    "YOUR ANSWER HERE"
   ]
  },
  {
   "cell_type": "markdown",
   "metadata": {},
   "source": [
    "## Questão 2:\n",
    "\n",
    "Agora que temos uma estimativa de erro podemos construir um integrador que retorna a solução dentro de uma tolerância especificada a priori.\n",
    "\n",
    "Implemente a função `dobrador()` que calcula duas soluções com `n` e `2n` pontos respectivamente e caso o erro estimado esteja abaixo da tolerância `tol` retorna o par `(ts, ys)` da solução com mais pontos, caso contrário ele tenta o mesmo procedimento dobrando o valor inicial de `n`.\n",
    "\n",
    "**Dica:** Você pode modificar a função `estima_erro` para receber apenas $n$, e retornar os tempos de integração e a lista de pontos da solução com mais pontos."
   ]
  },
  {
   "cell_type": "code",
   "execution_count": null,
   "metadata": {
    "deletable": false,
    "nbgrader": {
     "checksum": "7bcf048ad81dfed36898bd273f9ff324",
     "grade": false,
     "grade_id": "cell-747b1c8864df66b7",
     "locked": false,
     "schema_version": 1,
     "solution": true
    }
   },
   "outputs": [],
   "source": [
    "def estima_erro_novo(F, I, y0, n):\n",
    "    # YOUR CODE HERE\n",
    "    raise NotImplementedError()"
   ]
  },
  {
   "cell_type": "code",
   "execution_count": null,
   "metadata": {
    "deletable": false,
    "nbgrader": {
     "checksum": "0054d51bfe6cd17edbe6baedb096e893",
     "grade": false,
     "grade_id": "cell-5b38d71b216fc96f",
     "locked": false,
     "schema_version": 1,
     "solution": true
    }
   },
   "outputs": [],
   "source": [
    "def dobrador(F, I, y0, n, tol, numit=False):\n",
    "    \"\"\"Calcula uma solução aproximada da equação y'(t) = F(t,y(t)) no intervalo I, com condição inicial y0,\n",
    "    dobrando o número de pontos intermediários até que a estimativa de erro seja < `tol`.\n",
    "    \n",
    "    Se `numit` = True, retorna o número de vezes que dobramos o número de pontos intermediários.\"\"\"\n",
    "    num_it = 0\n",
    "    # YOUR CODE HERE\n",
    "    raise NotImplementedError()"
   ]
  },
  {
   "cell_type": "markdown",
   "metadata": {},
   "source": [
    "Testes simples do dobrador: como temos apenas uma *estimativa* do erro, o teste de que está perto da solução real tem uma margem de segurança ;-)"
   ]
  },
  {
   "cell_type": "code",
   "execution_count": null,
   "metadata": {
    "deletable": false,
    "editable": false,
    "nbgrader": {
     "checksum": "bcf34a98dbc424d32f0882a30d42fb89",
     "grade": true,
     "grade_id": "cell-c82c76c5f9e2e968",
     "locked": true,
     "points": 2,
     "schema_version": 1,
     "solution": false
    }
   },
   "outputs": [],
   "source": [
    "ts, ys = dobrador(f_exp, [0,2], 2, 1, 1e-3)\n",
    "assert ys[0] == 2\n",
    "assert np.isclose(ys[-1], 2*np.exp(2), atol=2e-3)"
   ]
  },
  {
   "cell_type": "code",
   "execution_count": null,
   "metadata": {
    "deletable": false,
    "editable": false,
    "nbgrader": {
     "checksum": "54034ce9bf6fb44031a4c926c1498904",
     "grade": true,
     "grade_id": "cell-5f171e034d33f018",
     "locked": true,
     "points": 1,
     "schema_version": 1,
     "solution": false
    }
   },
   "outputs": [],
   "source": [
    "ts, ys = dobrador(f_mexp, [0,2], 2, 1, 1e-4)\n",
    "assert ys[0] == 2\n",
    "assert np.isclose(ys[-1], 2*np.exp(-2), atol=2e-4)"
   ]
  },
  {
   "cell_type": "code",
   "execution_count": null,
   "metadata": {
    "deletable": false,
    "editable": false,
    "nbgrader": {
     "checksum": "bc692c0b73baf69e33e493fdb845624e",
     "grade": true,
     "grade_id": "cell-c83ad88d7718d4ee",
     "locked": true,
     "points": 1,
     "schema_version": 1,
     "solution": false
    }
   },
   "outputs": [],
   "source": [
    "ts1, ys1, n1 = dobrador(f_mexp, [0,2], 2, 1, 1e-4, numit=True)\n",
    "ts2, ys2, n2 = dobrador(f_mexp, [0,2], 2, 1, 2e-4, numit=True)\n",
    "\n",
    "assert n1 - n2 == 1\n",
    "assert len(ts1) == 2*len(ts2)"
   ]
  },
  {
   "cell_type": "markdown",
   "metadata": {},
   "source": [
    "## Questão 3a: Exponencial\n",
    "\n",
    "Vamos verificar que esta ideia funciona para a EDO da família exponencial, $y'(t) = y(t)$.\n",
    "\n",
    "Faça o gráfico da solução numérica no intervalo $[0,2]$, com condição inicial $y(0) = 3/4$,\n",
    "tentando obter uma precisão de 2 casas decimais, e desenhe também a solução exata no mesmo gráfico.\n",
    "Lembre de botar:\n",
    "- legenda\n",
    "- título"
   ]
  },
  {
   "cell_type": "code",
   "execution_count": null,
   "metadata": {
    "deletable": false,
    "nbgrader": {
     "checksum": "8abde8baeaea20919a477eaa4d644ce5",
     "grade": false,
     "grade_id": "cell-d3e0e03acbb107d5",
     "locked": false,
     "schema_version": 1,
     "solution": true
    }
   },
   "outputs": [],
   "source": [
    "# Abaixo, faça as contas (com o `dobrador`) e dê os comandos de gráfico (plt.plot, etc).\n",
    "# A caixa seguinte contém alguns asserts, então é importante que você não use `plt.show()` no seu código,\n",
    "# pois senão o objeto `ax` estaria vazio...\n",
    "\n",
    "# YOUR CODE HERE\n",
    "raise NotImplementedError()\n",
    "\n",
    "ax = plt.gca()\n",
    "plt.show()"
   ]
  },
  {
   "cell_type": "code",
   "execution_count": null,
   "metadata": {
    "deletable": false,
    "editable": false,
    "nbgrader": {
     "checksum": "3cf61b8a90bd2cf0d7707e932733a9f4",
     "grade": true,
     "grade_id": "cell-ed62e72005956f1a",
     "locked": true,
     "points": 1,
     "schema_version": 1,
     "solution": false
    }
   },
   "outputs": [],
   "source": [
    "assert ax.title.get_text() != \"\"\n",
    "assert len(ax.lines) == 2\n",
    "assert len(ax.legend().texts) == 2"
   ]
  },
  {
   "cell_type": "code",
   "execution_count": null,
   "metadata": {
    "deletable": false,
    "editable": false,
    "nbgrader": {
     "checksum": "29f9d6b03669c74399fd93e1fababf2f",
     "grade": true,
     "grade_id": "cell-d927a3873fe3a154",
     "locked": true,
     "points": 2,
     "schema_version": 1,
     "solution": false
    }
   },
   "outputs": [],
   "source": [
    "# Testa que as curvas estão próximas da solução\n",
    "tf = []\n",
    "for l in ax.lines:\n",
    "    lx, ly = l.get_xdata(), l.get_ydata()\n",
    "    assert np.allclose(ly, 3/4*np.exp(lx), atol=2e-2)\n",
    "    tf.append( np.allclose(ly, 3/4*np.exp(lx), atol=1e-8) )\n",
    "\n",
    "# E que só UMA delas está próxima, a outra está um pouco longe porque é numérica\n",
    "assert all(tf) == False\n",
    "assert any(tf) == True"
   ]
  },
  {
   "cell_type": "markdown",
   "metadata": {},
   "source": [
    "Agora, faça o gráfico do **erro**: não esqueça do título."
   ]
  },
  {
   "cell_type": "code",
   "execution_count": null,
   "metadata": {
    "deletable": false,
    "nbgrader": {
     "checksum": "d39457ed25301bacfd75342c67c5743f",
     "grade": false,
     "grade_id": "cell-d3e8b20c31c68dac",
     "locked": false,
     "schema_version": 1,
     "solution": true
    }
   },
   "outputs": [],
   "source": [
    "# YOUR CODE HERE\n",
    "raise NotImplementedError()\n",
    "\n",
    "ax = plt.gca()\n",
    "plt.show()"
   ]
  },
  {
   "cell_type": "code",
   "execution_count": null,
   "metadata": {
    "deletable": false,
    "editable": false,
    "nbgrader": {
     "checksum": "58112678c18afb7cae5c32edd2d4a644",
     "grade": true,
     "grade_id": "cell-227abac7a38b508c",
     "locked": true,
     "points": 2,
     "schema_version": 1,
     "solution": false
    }
   },
   "outputs": [],
   "source": [
    "assert ax.title.get_text() != \"\"\n",
    "assert len(ax.lines) == 1\n",
    "ydata = ax.lines[0].get_ydata()\n",
    "assert min(ydata) > -0.01\n",
    "assert max(ydata) <  0.01"
   ]
  },
  {
   "cell_type": "markdown",
   "metadata": {},
   "source": [
    "Quantos pontos você precisou usar neste caso?\n",
    "Dê sua resposta na caixa abaixo, sob a forma de código python que calcule este valor a partir dos valores retornados pela função `dobrador()`."
   ]
  },
  {
   "cell_type": "code",
   "execution_count": null,
   "metadata": {
    "deletable": false,
    "nbgrader": {
     "checksum": "1fc0b45bfac945ba0560d89779aa65db",
     "grade": true,
     "grade_id": "cell-c05340e660325b73",
     "locked": false,
     "points": 1,
     "schema_version": 1,
     "solution": true
    }
   },
   "outputs": [],
   "source": [
    "# YOUR CODE HERE\n",
    "raise NotImplementedError()"
   ]
  },
  {
   "cell_type": "markdown",
   "metadata": {},
   "source": [
    "## Questão 3b: Exponencial decrescente\n",
    "\n",
    "Vejamos o que acontece se agora tentamos resolver a equação diferencial $y'(t) = - y(t)$, cuja solução é $e^{-t}y_0$.\n",
    "Faça os gráficos tanto das soluções como do erro da solução, no mesmo intervalo $[0,2]$ e para a mesma condição inicial,\n",
    "também almejando uma precisão de 2 casas decimais."
   ]
  },
  {
   "cell_type": "code",
   "execution_count": null,
   "metadata": {
    "deletable": false,
    "nbgrader": {
     "checksum": "668349106065dfc8db19c6b7536ea323",
     "grade": false,
     "grade_id": "cell-57e3c26c7cc52bc4",
     "locked": false,
     "schema_version": 1,
     "solution": true
    }
   },
   "outputs": [],
   "source": [
    "# Faça contas aqui\n",
    "# YOUR CODE HERE\n",
    "raise NotImplementedError()\n",
    "\n",
    "ax = plt.gca()\n",
    "plt.show()"
   ]
  },
  {
   "cell_type": "code",
   "execution_count": null,
   "metadata": {
    "deletable": false,
    "editable": false,
    "nbgrader": {
     "checksum": "02faa27f41873a349574be58877259c4",
     "grade": true,
     "grade_id": "cell-06406184fd88c4c6",
     "locked": true,
     "points": 1,
     "schema_version": 1,
     "solution": false
    }
   },
   "outputs": [],
   "source": [
    "assert ax.title.get_text() != \"\"\n",
    "assert len(ax.lines) == 2\n",
    "assert len(ax.legend().texts) == 2"
   ]
  },
  {
   "cell_type": "code",
   "execution_count": null,
   "metadata": {
    "deletable": false,
    "editable": false,
    "nbgrader": {
     "checksum": "bff419d939b3bfa8578f0d709e447bf1",
     "grade": true,
     "grade_id": "cell-c5c3c7ed0b89121f",
     "locked": true,
     "points": 1,
     "schema_version": 1,
     "solution": false
    }
   },
   "outputs": [],
   "source": [
    "# Testa que as curvas estão próximas da solução\n",
    "tf = []\n",
    "for l in ax.lines:\n",
    "    lx, ly = l.get_xdata(), l.get_ydata()\n",
    "    assert np.allclose(ly, 3/4*np.exp(-lx), atol=2e-2)\n",
    "    tf.append( np.allclose(ly, 3/4*np.exp(-lx), atol=1e-8) )\n",
    "\n",
    "# E que só UMA delas está próxima, a outra está um pouco longe porque é numérica\n",
    "assert all(tf) == False\n",
    "assert any(tf) == True"
   ]
  },
  {
   "cell_type": "markdown",
   "metadata": {},
   "source": [
    "E o erro:"
   ]
  },
  {
   "cell_type": "code",
   "execution_count": null,
   "metadata": {
    "deletable": false,
    "nbgrader": {
     "checksum": "1d6349a2eff4c9fbc68294772d59eade",
     "grade": false,
     "grade_id": "cell-39ccedaabd676921",
     "locked": false,
     "schema_version": 1,
     "solution": true
    }
   },
   "outputs": [],
   "source": [
    "# YOUR CODE HERE\n",
    "raise NotImplementedError()\n",
    "\n",
    "ax = plt.gca()\n",
    "plt.show()"
   ]
  },
  {
   "cell_type": "code",
   "execution_count": null,
   "metadata": {
    "deletable": false,
    "editable": false,
    "nbgrader": {
     "checksum": "035c58dde83094065ec4909ed046708d",
     "grade": true,
     "grade_id": "cell-d19bbb4fce578c3b",
     "locked": true,
     "points": 1,
     "schema_version": 1,
     "solution": false
    }
   },
   "outputs": [],
   "source": [
    "assert ax.title.get_text() != \"\"\n",
    "assert len(ax.lines) == 1\n",
    "ydata = ax.lines[0].get_ydata()\n",
    "assert min(ydata) > -0.01\n",
    "assert max(ydata) <  0.01"
   ]
  },
  {
   "cell_type": "markdown",
   "metadata": {},
   "source": [
    "Quantos pontos foram usados agora?"
   ]
  },
  {
   "cell_type": "code",
   "execution_count": null,
   "metadata": {
    "deletable": false,
    "nbgrader": {
     "checksum": "974721a505de946725fdb85d31c34011",
     "grade": true,
     "grade_id": "cell-4c2868f4cb2b7a6d",
     "locked": false,
     "points": 1,
     "schema_version": 1,
     "solution": true
    }
   },
   "outputs": [],
   "source": [
    "# YOUR CODE HERE\n",
    "raise NotImplementedError()"
   ]
  },
  {
   "cell_type": "markdown",
   "metadata": {},
   "source": [
    "### Análise\n",
    "\n",
    "Comente a diferença que você observou, tanto no número de pontos, quanto no comportamento do erro."
   ]
  },
  {
   "cell_type": "markdown",
   "metadata": {
    "deletable": false,
    "nbgrader": {
     "checksum": "a44958f23999530069634dfee3e93b50",
     "grade": true,
     "grade_id": "cell-ea556388b8bfcad8",
     "locked": false,
     "points": 3,
     "schema_version": 1,
     "solution": true
    }
   },
   "source": [
    "YOUR ANSWER HERE"
   ]
  },
  {
   "cell_type": "markdown",
   "metadata": {},
   "source": [
    "## Questão 4: Um defeito da estimativa\n",
    "\n",
    "Considere as \"equações diferenciais\" $y'(t) = \\cos(t)$ e $z'(t) = \\sin(t)$, cujas soluções são, respectivamente,\n",
    "$y(t) = y(0) + \\sin(t)$ e $z(t) = z(0) - \\sin(t)$.\n",
    "\n",
    "Observe atentamente os `assert`s abaixo:"
   ]
  },
  {
   "cell_type": "code",
   "execution_count": null,
   "metadata": {
    "deletable": false,
    "editable": false,
    "nbgrader": {
     "checksum": "eb6721856b21477405bfda4d70dd0f23",
     "grade": false,
     "grade_id": "cell-cd1ae336d47222b8",
     "locked": true,
     "schema_version": 1,
     "solution": false
    }
   },
   "outputs": [],
   "source": [
    "def F1(t,x):\n",
    "    return np.cos(t)\n",
    "\n",
    "def F2(t,x):\n",
    "    return np.sin(t)\n",
    "\n",
    "assert estima_erro(F1, [     0,2*np.pi], 0, n1=3, n2=5) < 1e-15\n",
    "assert estima_erro(F2, [-np.pi,  np.pi], 0, n1=3, n2=5) < 1e-15"
   ]
  },
  {
   "cell_type": "code",
   "execution_count": null,
   "metadata": {
    "deletable": false,
    "editable": false,
    "nbgrader": {
     "checksum": "9727b65e45019e87c01308e339d3404e",
     "grade": false,
     "grade_id": "cell-64f09115db477379",
     "locked": true,
     "schema_version": 1,
     "solution": false
    }
   },
   "outputs": [],
   "source": [
    "for k1, k2 in zip([-2,-1,0,1],[-1,0,1,2]):\n",
    "    assert estima_erro(F1, [2*k1*np.pi,2*k2*np.pi], 0, n1=3, n2=5) < 1e-15\n",
    "    assert estima_erro(F2, [2*k1*np.pi,2*k2*np.pi], 0, n1=3, n2=5) < 1e-15"
   ]
  },
  {
   "cell_type": "markdown",
   "metadata": {},
   "source": [
    "Aparentemente, usar 3 ou 5 pontos dá praticamente o mesmo valor para a solução ao final de um período da função.\n",
    "\n",
    "Faça o gráfico da solução aproximada da primeira equação para estes dois valores de $n$ no intervalo $[0,2\\pi]$,\n",
    "e inclua também a solução $\\sin(t)$.\n",
    "Dê uma legenda e um título!"
   ]
  },
  {
   "cell_type": "code",
   "execution_count": null,
   "metadata": {
    "deletable": false,
    "nbgrader": {
     "checksum": "0614d6eecd31944dbe603ad4f4ea9527",
     "grade": false,
     "grade_id": "cell-0852ce747c7f9dcb",
     "locked": false,
     "schema_version": 1,
     "solution": true
    }
   },
   "outputs": [],
   "source": [
    "# YOUR CODE HERE\n",
    "raise NotImplementedError()\n",
    "\n",
    "ax = plt.gca()\n",
    "plt.show()"
   ]
  },
  {
   "cell_type": "code",
   "execution_count": null,
   "metadata": {
    "deletable": false,
    "editable": false,
    "nbgrader": {
     "checksum": "50fa56910fbd804138168d494753d290",
     "grade": true,
     "grade_id": "cell-ab5b172ad5eda771",
     "locked": true,
     "points": 1,
     "schema_version": 1,
     "solution": false
    }
   },
   "outputs": [],
   "source": [
    "assert ax.title.get_text() != \"\"\n",
    "assert len(ax.lines) == 3\n",
    "assert len(ax.legend().texts) == 3"
   ]
  },
  {
   "cell_type": "code",
   "execution_count": null,
   "metadata": {
    "deletable": false,
    "editable": false,
    "nbgrader": {
     "checksum": "33faa270568d75486d7efd548f267431",
     "grade": true,
     "grade_id": "cell-b736e67da79ad345",
     "locked": true,
     "points": 2,
     "schema_version": 1,
     "solution": false
    }
   },
   "outputs": [],
   "source": [
    "npts_sorted = sorted([len(l.get_xdata()) for l in ax.lines])\n",
    "assert npts_sorted[0] == 3\n",
    "assert npts_sorted[1] == 5\n",
    "assert npts_sorted[2] > 20"
   ]
  },
  {
   "cell_type": "markdown",
   "metadata": {},
   "source": [
    "Agora, faça o gráfico dos erros:"
   ]
  },
  {
   "cell_type": "code",
   "execution_count": null,
   "metadata": {
    "deletable": false,
    "nbgrader": {
     "checksum": "ead88052a65031a689381d11c6109821",
     "grade": false,
     "grade_id": "cell-6b2e64caac7446ce",
     "locked": false,
     "schema_version": 1,
     "solution": true
    }
   },
   "outputs": [],
   "source": [
    "I = [0,2*np.pi]\n",
    "y0 = 0\n",
    "\n",
    "# YOUR CODE HERE\n",
    "raise NotImplementedError()\n",
    "\n",
    "ax = plt.gca()\n",
    "plt.show()"
   ]
  },
  {
   "cell_type": "code",
   "execution_count": null,
   "metadata": {
    "deletable": false,
    "editable": false,
    "nbgrader": {
     "checksum": "55186d371ccd3fb13cd9458e206161b2",
     "grade": true,
     "grade_id": "cell-7ddab8fb5c8a00e5",
     "locked": true,
     "points": 1,
     "schema_version": 1,
     "solution": false
    }
   },
   "outputs": [],
   "source": [
    "assert ax.title.get_text() != \"\"\n",
    "assert len(ax.lines) == 2\n",
    "assert len(ax.legend().texts) == 2"
   ]
  },
  {
   "cell_type": "markdown",
   "metadata": {},
   "source": [
    "Faça o gráfico da solução aproximada (e do erro, se quiser) para (\"muito\") mais pontos."
   ]
  },
  {
   "cell_type": "code",
   "execution_count": null,
   "metadata": {
    "deletable": false,
    "nbgrader": {
     "checksum": "1cfa069c7968dc41c9b06606d3c9e9fb",
     "grade": true,
     "grade_id": "cell-7bfb3e3f30e7bbb4",
     "locked": false,
     "points": 0,
     "schema_version": 1,
     "solution": true
    }
   },
   "outputs": [],
   "source": [
    "# YOUR CODE HERE\n",
    "raise NotImplementedError()\n",
    "plt.show()"
   ]
  },
  {
   "cell_type": "markdown",
   "metadata": {},
   "source": [
    "### Análise\n",
    "\n",
    "Porque a estimativa de erro calculada pelo valor final é tão pequena?\n",
    "Como seria possível contornar este problema, para termos uma noção melhor de que a solução já está \"boa o suficiente\"?"
   ]
  },
  {
   "cell_type": "markdown",
   "metadata": {
    "deletable": false,
    "nbgrader": {
     "checksum": "11f34ffadacdac7d1ab9f7dc479b3d11",
     "grade": true,
     "grade_id": "cell-256b52f820f651b4",
     "locked": false,
     "points": 3,
     "schema_version": 1,
     "solution": true
    }
   },
   "source": [
    "YOUR ANSWER HERE"
   ]
  }
 ],
 "metadata": {
  "kernelspec": {
   "display_name": "Python 3",
   "language": "python",
   "name": "python3"
  },
  "language_info": {
   "codemirror_mode": {
    "name": "ipython",
    "version": 3
   },
   "file_extension": ".py",
   "mimetype": "text/x-python",
   "name": "python",
   "nbconvert_exporter": "python",
   "pygments_lexer": "ipython3",
   "version": "3.6.6"
  }
 },
 "nbformat": 4,
 "nbformat_minor": 2
}
