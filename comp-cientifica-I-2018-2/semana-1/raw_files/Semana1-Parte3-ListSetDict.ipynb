{
 "cells": [
  {
   "cell_type": "markdown",
   "metadata": {},
   "source": [
    "# Listas, dicionários, conjuntos\n",
    "\n",
    "Provavelmente, as estruturas compostas mais utilizadas neste curso serão as listas;\n",
    "como dicionários e conjuntos também seguem princípios similares,\n",
    "vamos discuti-los juntos."
   ]
  },
  {
   "cell_type": "code",
   "execution_count": 1,
   "metadata": {},
   "outputs": [],
   "source": [
    "# Declarando variáveis\n",
    "li = [1,2,3,4,5,6]\n",
    "conj = {1, 2, 3, 4, 5, 6}\n",
    "dic = {1:2, 3:'4', \"5\":6}"
   ]
  },
  {
   "cell_type": "code",
   "execution_count": 2,
   "metadata": {},
   "outputs": [
    {
     "name": "stdout",
     "output_type": "stream",
     "text": [
      "[1, 2, 3, 4, 5, 6]\n",
      "{1, 2, 3, 4, 5, 6}\n",
      "{'5': 6, 1: 2, 3: '4'}\n"
     ]
    }
   ],
   "source": [
    "print(li)\n",
    "print(conj)\n",
    "print(dic)"
   ]
  },
  {
   "cell_type": "markdown",
   "metadata": {},
   "source": [
    "## Operações básicas\n",
    "\n",
    "Temos:\n",
    "- pertence\n",
    "- comprimento (\"tamanho\")\n",
    "- inclusão / remoção\n",
    "- iteração\n",
    "- acesso"
   ]
  },
  {
   "cell_type": "markdown",
   "metadata": {},
   "source": [
    "### Teste de pertencimento:"
   ]
  },
  {
   "cell_type": "code",
   "execution_count": 3,
   "metadata": {},
   "outputs": [
    {
     "data": {
      "text/plain": [
       "(True, True, True)"
      ]
     },
     "execution_count": 3,
     "metadata": {},
     "output_type": "execute_result"
    }
   ],
   "source": [
    "3 in li, 3 in conj, 3 in dic"
   ]
  },
  {
   "cell_type": "code",
   "execution_count": 4,
   "metadata": {},
   "outputs": [
    {
     "data": {
      "text/plain": [
       "(True, True, False)"
      ]
     },
     "execution_count": 4,
     "metadata": {},
     "output_type": "execute_result"
    }
   ],
   "source": [
    "2 in li, 2 in conj, 2 in dic"
   ]
  },
  {
   "cell_type": "markdown",
   "metadata": {},
   "source": [
    "### Calculando o comprimento:"
   ]
  },
  {
   "cell_type": "code",
   "execution_count": 5,
   "metadata": {},
   "outputs": [
    {
     "data": {
      "text/plain": [
       "(6, 6, 3)"
      ]
     },
     "execution_count": 5,
     "metadata": {},
     "output_type": "execute_result"
    }
   ],
   "source": [
    "len(li), len(conj), len(dic)"
   ]
  },
  {
   "cell_type": "markdown",
   "metadata": {},
   "source": [
    "### Modificação: inclusão e remoção."
   ]
  },
  {
   "cell_type": "code",
   "execution_count": 6,
   "metadata": {},
   "outputs": [
    {
     "data": {
      "text/plain": [
       "'4'"
      ]
     },
     "execution_count": 6,
     "metadata": {},
     "output_type": "execute_result"
    }
   ],
   "source": [
    "li.append(7)\n",
    "li.remove(3)\n",
    "conj.add(7)\n",
    "conj.remove(3)\n",
    "dic.update({7 : 8.})\n",
    "dic.pop(3)"
   ]
  },
  {
   "cell_type": "code",
   "execution_count": 7,
   "metadata": {},
   "outputs": [
    {
     "name": "stdout",
     "output_type": "stream",
     "text": [
      "[1, 2, 4, 5, 6, 7]\n",
      "{1, 2, 4, 5, 6, 7}\n",
      "{'5': 6, 1: 2, 7: 8.0}\n"
     ]
    }
   ],
   "source": [
    "print(li)\n",
    "print(conj)\n",
    "print(dic)"
   ]
  },
  {
   "cell_type": "markdown",
   "metadata": {},
   "source": [
    "### Iteração\n",
    "\n",
    "ou \"percorrer todos os elementos\".\n",
    "A sintaxe fundamental é `for <VARIÁVEL> in <ITERÁVEL>`,\n",
    "e `<VARIÁVEL>` permite se referir a um elemento a cada passagem do `for`."
   ]
  },
  {
   "cell_type": "code",
   "execution_count": 8,
   "metadata": {},
   "outputs": [
    {
     "name": "stdout",
     "output_type": "stream",
     "text": [
      "Lista\n",
      "1 1\n",
      "2 4\n",
      "4 16\n",
      "5 25\n",
      "6 36\n",
      "7 49\n",
      "\n",
      "Conjunto\n",
      "1 1\n",
      "2 4\n",
      "4 256\n",
      "5 3125\n",
      "6 46656\n",
      "7 823543\n",
      "\n",
      "Dicionário: chaves e valores\n",
      "5 6\n",
      "1 2\n",
      "7 8.0\n"
     ]
    }
   ],
   "source": [
    "print(\"Lista\")\n",
    "for x in li:\n",
    "    print (x, x*x)\n",
    "print()\n",
    "\n",
    "print(\"Conjunto\")\n",
    "for v in conj:\n",
    "    print(v, v**v)\n",
    "print()\n",
    "\n",
    "print(\"Dicionário: chaves e valores\")\n",
    "for k in dic:\n",
    "    print(k, dic[k])   "
   ]
  },
  {
   "cell_type": "markdown",
   "metadata": {},
   "source": [
    "Observações:\n",
    "- Apenas as **listas** tem ordem;\n",
    "  a ordem de percurso de dicionários e conjuntos não é garantida de nenhuma forma.\n",
    "- Num dicionário, o percurso é feito pelas _chaves_;\n",
    "  para acessar todos os valores, ou os pares (chave,valor), pode-se usar as funções `values()` ou `items()` respectivamente."
   ]
  },
  {
   "cell_type": "code",
   "execution_count": 9,
   "metadata": {},
   "outputs": [
    {
     "name": "stdout",
     "output_type": "stream",
     "text": [
      "5 6\n",
      "1 2\n",
      "7 8.0\n"
     ]
    }
   ],
   "source": [
    "for k,v in dic.items():\n",
    "    print(k,v)"
   ]
  },
  {
   "cell_type": "markdown",
   "metadata": {},
   "source": [
    "### Operações de acesso indexado"
   ]
  },
  {
   "cell_type": "code",
   "execution_count": 10,
   "metadata": {},
   "outputs": [
    {
     "data": {
      "text/plain": [
       "(2, 2, 7, 6)"
      ]
     },
     "execution_count": 10,
     "metadata": {},
     "output_type": "execute_result"
    }
   ],
   "source": [
    "li[1], dic[1], li[5], dic[\"5\"]"
   ]
  },
  {
   "cell_type": "markdown",
   "metadata": {},
   "source": [
    "Acesso e modificação simultâneos"
   ]
  },
  {
   "cell_type": "code",
   "execution_count": 11,
   "metadata": {},
   "outputs": [
    {
     "name": "stdout",
     "output_type": "stream",
     "text": [
      "[1, 2, 42, 5, 6, 7]\n",
      "{'5': 6, 1: [1, 2, 3], 7: 8.0}\n"
     ]
    }
   ],
   "source": [
    "li[2] = 42\n",
    "print(li)\n",
    "dic[1] = [1,2,3]\n",
    "print(dic)"
   ]
  },
  {
   "cell_type": "markdown",
   "metadata": {},
   "source": [
    "## Operações especiais para listas"
   ]
  },
  {
   "cell_type": "markdown",
   "metadata": {},
   "source": [
    "Índices negativos contam do final da lista:"
   ]
  },
  {
   "cell_type": "code",
   "execution_count": 12,
   "metadata": {},
   "outputs": [
    {
     "data": {
      "text/plain": [
       "(6, 2)"
      ]
     },
     "execution_count": 12,
     "metadata": {},
     "output_type": "execute_result"
    }
   ],
   "source": [
    "li[-2], li[-5]"
   ]
  },
  {
   "cell_type": "markdown",
   "metadata": {},
   "source": [
    "Fatias: gerando sub-listas"
   ]
  },
  {
   "cell_type": "code",
   "execution_count": 13,
   "metadata": {},
   "outputs": [
    {
     "data": {
      "text/plain": [
       "([1, 2, 42], [6, 7])"
      ]
     },
     "execution_count": 13,
     "metadata": {},
     "output_type": "execute_result"
    }
   ],
   "source": [
    "li[:3], li[-2:]"
   ]
  },
  {
   "cell_type": "code",
   "execution_count": 14,
   "metadata": {},
   "outputs": [
    {
     "data": {
      "text/plain": [
       "([5, 6], [2, 42, 5, 6], [42, 5, 6, 7])"
      ]
     },
     "execution_count": 14,
     "metadata": {},
     "output_type": "execute_result"
    }
   ],
   "source": [
    "# Os índices podem ser usados \"de qualquer forma\"\n",
    "li[3:-1], li[1:5], li[-4:6]"
   ]
  },
  {
   "cell_type": "markdown",
   "metadata": {},
   "source": [
    "Propriedade fundamental: `li[:n] + li[n:]`  é a \"mesma lista\"  que `li`"
   ]
  },
  {
   "cell_type": "code",
   "execution_count": 15,
   "metadata": {},
   "outputs": [
    {
     "data": {
      "text/plain": [
       "True"
      ]
     },
     "execution_count": 15,
     "metadata": {},
     "output_type": "execute_result"
    }
   ],
   "source": [
    "li[:3] + li[3:] == li"
   ]
  },
  {
   "cell_type": "markdown",
   "metadata": {},
   "source": [
    "### Exercício: indexando listas\n",
    "\n",
    "Será que podemos usar índices negativo e manter a propriedade acima verdadeira?"
   ]
  },
  {
   "cell_type": "markdown",
   "metadata": {},
   "source": [
    "### Exercício: Erros\n",
    "\n",
    "Se usarmos índices que não existem (numa lista, ou num dicionário) teremos um erro."
   ]
  },
  {
   "cell_type": "code",
   "execution_count": 16,
   "metadata": {},
   "outputs": [
    {
     "ename": "IndexError",
     "evalue": "list index out of range",
     "output_type": "error",
     "traceback": [
      "\u001b[0;31m---------------------------------------------------------------------------\u001b[0m",
      "\u001b[0;31mIndexError\u001b[0m                                Traceback (most recent call last)",
      "\u001b[0;32m<ipython-input-16-a89d33ecc67b>\u001b[0m in \u001b[0;36m<module>\u001b[0;34m()\u001b[0m\n\u001b[0;32m----> 1\u001b[0;31m \u001b[0mli\u001b[0m\u001b[0;34m[\u001b[0m\u001b[0;36m6\u001b[0m\u001b[0;34m]\u001b[0m\u001b[0;34m\u001b[0m\u001b[0m\n\u001b[0m",
      "\u001b[0;31mIndexError\u001b[0m: list index out of range"
     ]
    }
   ],
   "source": [
    "li[6]"
   ]
  },
  {
   "cell_type": "code",
   "execution_count": 17,
   "metadata": {},
   "outputs": [
    {
     "ename": "KeyError",
     "evalue": "2",
     "output_type": "error",
     "traceback": [
      "\u001b[0;31m---------------------------------------------------------------------------\u001b[0m",
      "\u001b[0;31mKeyError\u001b[0m                                  Traceback (most recent call last)",
      "\u001b[0;32m<ipython-input-17-6f0a202469b9>\u001b[0m in \u001b[0;36m<module>\u001b[0;34m()\u001b[0m\n\u001b[0;32m----> 1\u001b[0;31m \u001b[0mdic\u001b[0m\u001b[0;34m[\u001b[0m\u001b[0;36m2\u001b[0m\u001b[0;34m]\u001b[0m\u001b[0;34m\u001b[0m\u001b[0m\n\u001b[0m",
      "\u001b[0;31mKeyError\u001b[0m: 2"
     ]
    }
   ],
   "source": [
    "dic[2]"
   ]
  },
  {
   "cell_type": "markdown",
   "metadata": {},
   "source": [
    "Como explicar a diferença entre `li[6]` e `li[:6]`?"
   ]
  },
  {
   "cell_type": "code",
   "execution_count": 18,
   "metadata": {},
   "outputs": [
    {
     "data": {
      "text/plain": [
       "[1, 2, 42, 5, 6, 7]"
      ]
     },
     "execution_count": 18,
     "metadata": {},
     "output_type": "execute_result"
    }
   ],
   "source": [
    "li[:6]"
   ]
  },
  {
   "cell_type": "markdown",
   "metadata": {},
   "source": [
    "# Iteração: uma ferramenta poderosa\n",
    "\n",
    "Em geral, se queremos percorrer todos os elementos de uma lista,\n",
    "o mais recomendado é iterar seus elementos.\n",
    "Às vezes, podemos precisar de um pouco mais,\n",
    "e nestes casos duas construções são bastante úteis:\n",
    "- `enumerate`, para ter índices\n",
    "- `zip`, para iterar em várias listas em paralelo."
   ]
  },
  {
   "cell_type": "code",
   "execution_count": 19,
   "metadata": {},
   "outputs": [
    {
     "name": "stdout",
     "output_type": "stream",
     "text": [
      "0 1 1\n",
      "1 2 3\n",
      "2 42 44\n",
      "3 5 8\n",
      "4 6 10\n",
      "5 7 12\n"
     ]
    }
   ],
   "source": [
    "for i,x in enumerate(li):\n",
    "    print(i, x, x+i)"
   ]
  },
  {
   "cell_type": "code",
   "execution_count": 20,
   "metadata": {},
   "outputs": [
    {
     "name": "stdout",
     "output_type": "stream",
     "text": [
      "1 7\n",
      "2 6\n",
      "42 5\n",
      "5 42\n",
      "6 2\n",
      "7 1\n"
     ]
    }
   ],
   "source": [
    "li2 = reversed(li)\n",
    "for x,y in zip(li,li2):\n",
    "    print(x,y)"
   ]
  }
 ],
 "metadata": {
  "kernelspec": {
   "display_name": "Python 3",
   "language": "python",
   "name": "python3"
  },
  "language_info": {
   "codemirror_mode": {
    "name": "ipython",
    "version": 3
   },
   "file_extension": ".py",
   "mimetype": "text/x-python",
   "name": "python",
   "nbconvert_exporter": "python",
   "pygments_lexer": "ipython3",
   "version": "3.7.0"
  }
 },
 "nbformat": 4,
 "nbformat_minor": 1
}
