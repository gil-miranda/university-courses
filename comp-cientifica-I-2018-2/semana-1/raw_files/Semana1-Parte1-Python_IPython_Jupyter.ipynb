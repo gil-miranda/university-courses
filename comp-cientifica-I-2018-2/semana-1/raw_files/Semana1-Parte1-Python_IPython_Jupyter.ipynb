{
 "cells": [
  {
   "cell_type": "markdown",
   "metadata": {},
   "source": [
    "# [Python](http://www.python.org)\n",
    "\n",
    "Pode ser:\n",
    "\n",
    "- Uma linguagem de programação\n",
    "    - Possui duas versões atualmente (Python2 e Python3), sendo que a versão 2 receberá apenas suporte até 2020\n",
    "- Um programa (que você chama na linha de comando), que funciona como\n",
    "    - executável\n",
    "    - \"debugger\" interativo (_toplevel_)"
   ]
  },
  {
   "cell_type": "markdown",
   "metadata": {},
   "source": [
    "# [IPython](https://ipython.org/)\n",
    "\n",
    "Também vem em duas partes:\n",
    "- Uma interface **interativa** para o python, mais avançada do que a padrão\n",
    "- Um \"_kernel_\" python, que recebe comandos da interface, e retorna resultados"
   ]
  },
  {
   "cell_type": "markdown",
   "metadata": {},
   "source": [
    "# [Jupyter Notebook](http://jupyter.org/)\n",
    "\n",
    "Um programa que fornece uma interface web que combina, num mesmo documento:\n",
    "\n",
    "- execução de código via um _kernel_ (no nosso caso, o IPython)\n",
    "- comentários e documentação em [Markdown](https://daringfireball.net/projects/markdown/syntax) (como estes que você está lendo!)\n",
    "- gráficos (com a [matplotlib](http://matplotlib.org/), que vamos conhecer na Semana 2)"
   ]
  },
  {
   "cell_type": "markdown",
   "metadata": {},
   "source": [
    "Exemplo:"
   ]
  },
  {
   "cell_type": "code",
   "execution_count": 1,
   "metadata": {},
   "outputs": [
    {
     "name": "stdout",
     "output_type": "stream",
     "text": [
      "6\n",
      "[1, 2, 3] 6\n"
     ]
    }
   ],
   "source": [
    "print(1+2+3)\n",
    "a = [1,2,3]\n",
    "print(a, sum(a))"
   ]
  },
  {
   "cell_type": "markdown",
   "metadata": {},
   "source": [
    "Voltar acima, e incluir mais alguns comandos.\n",
    "O que acontece se um comando \"retorna\" algo, como\n",
    "\n",
    "    2 + 3\n",
    "ou como\n",
    "\n",
    "    5 == 6\n",
    "?"
   ]
  },
  {
   "cell_type": "markdown",
   "metadata": {},
   "source": [
    "# Ajuda\n",
    "\n",
    "Em Python, tudo, **tudo mesmo**, pode ser \"inspecionado\".\n",
    "Isso tem duas conseqüências:\n",
    "\n",
    "1. o IPython usa essas capacidades para\n",
    "    - guardar todas as entradas e saídas usadas (`In[..]` e `Out[...]`),\n",
    "    - saber quais são todas as variáveis que você tem,\n",
    "    - entender a estrutura de todas elas.\n",
    "2. e você pode usar isso para\n",
    "    - auto-completar variáveis, funções, etc. (com `<Tab>`),\n",
    "    - acessar a documentação on-line de funções e classes (com `<Shift-Tab>`, no Jupyter),\n",
    "    - e [muito mais](http://ipython.readthedocs.io/en/stable/)"
   ]
  },
  {
   "cell_type": "markdown",
   "metadata": {},
   "source": [
    "### Exercício\n",
    "\n",
    "Na célula abaixo:\n",
    "- Escreva \"su\" e aperte `<Tab>` (a tecla oficial de auto-completamento)\n",
    "- Mova para cima e para baixo entre as opções (com as flechas)\n",
    "- Complete \"sum\" (com `<Enter>`)\n",
    "- Aperte `<Shift-Tab>` e veja a documentação da função `sum`"
   ]
  },
  {
   "cell_type": "code",
   "execution_count": null,
   "metadata": {
    "collapsed": true
   },
   "outputs": [],
   "source": []
  },
  {
   "cell_type": "code",
   "execution_count": 3,
   "metadata": {},
   "outputs": [
    {
     "name": "stdout",
     "output_type": "stream",
     "text": [
      "print(1+2+3)\n",
      "a = [1,2,3]\n",
      "print(a, sum(a))\n"
     ]
    }
   ],
   "source": [
    "# Mesmo entradas que não estão mais visíveis ainda estão na memória\n",
    "print(In[1])"
   ]
  },
  {
   "cell_type": "markdown",
   "metadata": {},
   "source": [
    "### Exercício\n",
    "\n",
    "O que acontece se acessarmos uma saída que não existe via `Out[...]`?\n",
    "Pense o que deveria acontecer, e depois descubra executando na célula abaixo"
   ]
  },
  {
   "cell_type": "code",
   "execution_count": null,
   "metadata": {
    "collapsed": true
   },
   "outputs": [],
   "source": []
  },
  {
   "cell_type": "markdown",
   "metadata": {},
   "source": [
    "# Mais ajuda\n",
    "\n",
    "O Jupyter notebook, como _interface_, também permite uma série de operações úteis\n",
    "(copiar uma célula, juntar células, reiniciar, ...).\n",
    "Para ter uma lista destas operações, tecle `<Esc> <h>` (\"escape\" e depois \"h\").\n",
    "A tecla `<Esc>` muda a interface para o \"modo de comando\", que realiza as operações.\n",
    "\n",
    "Outras operações úteis:\n",
    "- Adicionar uma célula acima / abaixo (`<a>` / `<b>`)\n",
    "- Transformar uma célula em markdown (`<m>`)\n",
    "- Rodar a célula e ir abaixo (`<Shift-Enter>`)\n",
    "- Rodar a célula sem andar para baixo (`<Ctrl-Enter>`)\n",
    "- Find&Replace (`<f>`)"
   ]
  },
  {
   "cell_type": "markdown",
   "metadata": {},
   "source": [
    "### Exercício\n",
    "\n",
    "1. Copie a primeira célula aqui embaixo\n",
    "2. Execute a célula abaixo com o `print`\n",
    "3. Mova a célula abaixo desta para cima. O que acontece com a saída?"
   ]
  },
  {
   "cell_type": "code",
   "execution_count": 4,
   "metadata": {},
   "outputs": [
    {
     "name": "stdout",
     "output_type": "stream",
     "text": [
      "Consegui!\n"
     ]
    },
    {
     "data": {
      "text/plain": [
       "True"
      ]
     },
     "execution_count": 4,
     "metadata": {},
     "output_type": "execute_result"
    }
   ],
   "source": [
    "print('Consegui!')\n",
    "1+1==2"
   ]
  }
 ],
 "metadata": {
  "kernelspec": {
   "display_name": "Python 3",
   "language": "python",
   "name": "python3"
  },
  "language_info": {
   "codemirror_mode": {
    "name": "ipython",
    "version": 3
   },
   "file_extension": ".py",
   "mimetype": "text/x-python",
   "name": "python",
   "nbconvert_exporter": "python",
   "pygments_lexer": "ipython3",
   "version": "3.7.0"
  }
 },
 "nbformat": 4,
 "nbformat_minor": 1
}
