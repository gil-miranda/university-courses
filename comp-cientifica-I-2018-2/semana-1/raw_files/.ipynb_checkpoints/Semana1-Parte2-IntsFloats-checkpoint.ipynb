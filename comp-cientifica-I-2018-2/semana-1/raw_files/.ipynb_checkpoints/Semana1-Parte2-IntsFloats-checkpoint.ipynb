{
 "cells": [
  {
   "cell_type": "markdown",
   "metadata": {},
   "source": [
    "# Estruturas de dados\n",
    "\n",
    "A linguagem Python disponibiliza diversas estruturas de dados \"prontas para usar\".\n",
    "Dentre as mais comuns, e mais dominantes neste curso, ressaltamos as seguintes:\n",
    "\n",
    "* Primitivas\n",
    "    - Números\n",
    "    - Strings e \"bytestrings\"\n",
    "* Compostas\n",
    "    - Listas, dicionários, conjuntos\n",
    "    - Pares e seqüências\n",
    "\n",
    "Referência: https://docs.python.org/3/tutorial/index.html, em especial https://docs.python.org/3/tutorial/introduction.html"
   ]
  },
  {
   "cell_type": "markdown",
   "metadata": {},
   "source": [
    "# Números inteiros\n",
    "\n",
    "Os números inteiros em Python3 se comportam de forma \"normal\"."
   ]
  },
  {
   "cell_type": "markdown",
   "metadata": {},
   "source": [
    "## Operações aritméticas gerais"
   ]
  },
  {
   "cell_type": "code",
   "execution_count": 1,
   "metadata": {},
   "outputs": [
    {
     "data": {
      "text/plain": [
       "(23, 17, 60, 6.666666666666667, 8000)"
      ]
     },
     "execution_count": 1,
     "metadata": {},
     "output_type": "execute_result"
    }
   ],
   "source": [
    "20 + 3, 20 - 3, 20 * 3, 20 / 3, 20**3"
   ]
  },
  {
   "cell_type": "markdown",
   "metadata": {},
   "source": [
    "## Aritmética especial para inteiros"
   ]
  },
  {
   "cell_type": "code",
   "execution_count": 2,
   "metadata": {},
   "outputs": [
    {
     "data": {
      "text/plain": [
       "(6, 2)"
      ]
     },
     "execution_count": 2,
     "metadata": {},
     "output_type": "execute_result"
    }
   ],
   "source": [
    "# Divisão euclidiana: quociente e resto\n",
    "20 // 3, 20 % 3"
   ]
  },
  {
   "cell_type": "code",
   "execution_count": 3,
   "metadata": {},
   "outputs": [
    {
     "data": {
      "text/plain": [
       "(160, 2)"
      ]
     },
     "execution_count": 3,
     "metadata": {},
     "output_type": "execute_result"
    }
   ],
   "source": [
    "# Deslocamentos à esquerda e à direita, em base 2\n",
    "20 << 3, 20 >> 3"
   ]
  },
  {
   "cell_type": "markdown",
   "metadata": {},
   "source": [
    "## Big Ints\n",
    "\n",
    "Em Python, você pode criar números inteiros arbitrariamente grandes, desde que caibam na memória do seu computador.\n",
    "Estes são conhecidos de maneira informal como \"BigInts\" (em oposição aos \"inteiros clássicos\" que tem amplitude limitada definida pela linguagem de programação, em geral da ordem de $2^{32}$ ou $2^{64}$).\n",
    "\n",
    "De forma prática, é bem provável que isto nunca seja uma limitação para os exercícios deste curso."
   ]
  },
  {
   "cell_type": "code",
   "execution_count": 4,
   "metadata": {},
   "outputs": [
    {
     "data": {
      "text/plain": [
       "(1048576, 1073741824, 1267650600228229401496703205376)"
      ]
     },
     "execution_count": 4,
     "metadata": {},
     "output_type": "execute_result"
    }
   ],
   "source": [
    "2 ** 20, 2 ** 30, 2 ** 100"
   ]
  },
  {
   "cell_type": "code",
   "execution_count": 5,
   "metadata": {},
   "outputs": [
    {
     "data": {
      "text/plain": [
       "10715086071862673209484250490600018105614048117055336074437503883703510511249361224931983788156958581275946729175531468251871452856923140435984577574698574803934567774824230985421074605062371141877954182153046474983581941267398767559165543946077062914571196477686542167660429831652624386837205668069376"
      ]
     },
     "execution_count": 5,
     "metadata": {},
     "output_type": "execute_result"
    }
   ],
   "source": [
    "2**1000"
   ]
  },
  {
   "cell_type": "markdown",
   "metadata": {},
   "source": [
    "### Exercício\n",
    "\n",
    "Veja até que número o seu computador consegue calcular \"sem titubear\"!\n",
    "\n",
    "Cuidado! Esteja \"a postos\" para clicar no `Interrupt kernel` (o botão \"stop\" com um quadrado)\n",
    "depois de uns 10 segundos, sob pena de o seu computador ficar sem memória disponível\n",
    "e acontecerem coisas desagradáveis...\n",
    "Em geral, qualquer \"teste\" das capacidades do seu computador deveria ser feito\n",
    "\"sem mais nada de importante\" acontecendo.\n",
    "Ou seja, salve tudo antes de começar! (e talvez feche todos os outros programas...)"
   ]
  },
  {
   "cell_type": "markdown",
   "metadata": {},
   "source": [
    "Note que o tempo de cálculo com estes números pode ser muito **menor** do que o tempo para convertê-los em base 10."
   ]
  },
  {
   "cell_type": "code",
   "execution_count": 6,
   "metadata": {},
   "outputs": [
    {
     "name": "stdout",
     "output_type": "stream",
     "text": [
      "CPU times: user 8 µs, sys: 0 ns, total: 8 µs\n",
      "Wall time: 15 µs\n",
      "CPU times: user 226 µs, sys: 9 µs, total: 235 µs\n",
      "Wall time: 245 µs\n"
     ]
    }
   ],
   "source": [
    "%time x = 2**10000\n",
    "%time y = str(x)"
   ]
  },
  {
   "cell_type": "markdown",
   "metadata": {},
   "source": [
    "### Exercício\n",
    "\n",
    "1. Tente descobrir qual a regra de formação para o tempo de cálculo de $2^n$, em função de $n$, usando o `%time`\n",
    "   (ou `%timeit`, para ter maior precisão).\n",
    "2. Faça o mesmo para a conversão do número em base 10 (o resultado é uma string)."
   ]
  },
  {
   "cell_type": "code",
   "execution_count": 7,
   "metadata": {},
   "outputs": [
    {
     "name": "stdout",
     "output_type": "stream",
     "text": [
      "CPU times: user 0 ns, sys: 0 ns, total: 0 ns\n",
      "Wall time: 19.6 µs\n",
      "CPU times: user 20.9 ms, sys: 21 µs, total: 20.9 ms\n",
      "Wall time: 20.8 ms\n"
     ]
    }
   ],
   "source": [
    "%time x = 2**100000\n",
    "%time y = str(x)"
   ]
  },
  {
   "cell_type": "code",
   "execution_count": 8,
   "metadata": {},
   "outputs": [
    {
     "name": "stdout",
     "output_type": "stream",
     "text": [
      "100 loops, best of 3: 17.1 ms per loop\n"
     ]
    }
   ],
   "source": [
    "%timeit y = str(x)"
   ]
  },
  {
   "cell_type": "code",
   "execution_count": 9,
   "metadata": {},
   "outputs": [
    {
     "name": "stdout",
     "output_type": "stream",
     "text": [
      "10000 loops, best of 3: 21.8 µs per loop\n",
      "1000 loops, best of 3: 343 µs per loop\n",
      "100 loops, best of 3: 4.72 ms per loop\n"
     ]
    }
   ],
   "source": [
    "def f(n): return 2**n\n",
    "%timeit f(10000)\n",
    "%timeit f(100000)\n",
    "%timeit f(1000000)"
   ]
  },
  {
   "cell_type": "markdown",
   "metadata": {},
   "source": [
    "### Exercício\n",
    "\n",
    "Como isso se modifica para $3^n$?"
   ]
  },
  {
   "cell_type": "code",
   "execution_count": 10,
   "metadata": {},
   "outputs": [
    {
     "name": "stdout",
     "output_type": "stream",
     "text": [
      "The slowest run took 5.90 times longer than the fastest. This could mean that an intermediate result is being cached.\n",
      "100000 loops, best of 3: 1.84 µs per loop\n",
      "10000 loops, best of 3: 66.1 µs per loop\n",
      "100 loops, best of 3: 2.5 ms per loop\n"
     ]
    }
   ],
   "source": [
    "def f(n): return 3**n\n",
    "%timeit f(1000)\n",
    "%timeit f(10000)\n",
    "%timeit f(100000)"
   ]
  },
  {
   "cell_type": "markdown",
   "metadata": {},
   "source": [
    "# Números \"reais\"\n",
    "\n",
    "É impossível representar todos os números reais no computador:\n",
    "este tem uma capacidade finita, enquanto aqueles são infinitos (e, pior, não-enumeráveis...).\n",
    "Assim, utilizaremos uma _aproximação_ dos mesmos.\n",
    "\n",
    "Antes de escolher como representar os números reais, vamos pensar um pouco para quê eles serão utilizados."
   ]
  },
  {
   "cell_type": "markdown",
   "metadata": {},
   "source": [
    "### Exercício\n",
    "\n",
    "1. Pense em que casos seria necessário usar números \"reais\" para problemas concretos.\n",
    "2. Pense em que casos seria necessário usar números \"reais\" para problemas puramente matemáticos.\n",
    "3. Tem algum outro caso que você gostaria de usar números além dos inteiros num computador?"
   ]
  },
  {
   "cell_type": "markdown",
   "metadata": {},
   "source": [
    "### Exercício\n",
    "\n",
    "1. Constantes físicas e números reais\n",
    "    1. Use a Wikipédia e descubra uma constante física que seja conhecida com o maior número possível de **casas decimais**.\n",
    "    1. Observe também a **amplitude** das constantes físicas que você procurou\n",
    "    (ou seja, qual é a maior e a menor, em valores absolutos)."
   ]
  },
  {
   "cell_type": "markdown",
   "metadata": {},
   "source": [
    "### Exercício prático\n",
    "1. Matemática e números reais\n",
    "    1. De que forma você representaria a fração $1/3$? E a fração $1/7$?\n",
    "    1. Como representar os números $\\sqrt 2$, $\\pi$, $e$?\n",
    "    1. E como representar $(e-1)^{100}$?\n",
    "2. Agora, observe como o seu computador representa estes números."
   ]
  },
  {
   "cell_type": "code",
   "execution_count": 11,
   "metadata": {},
   "outputs": [
    {
     "data": {
      "text/plain": [
       "(0.3333333333333333, 0.14285714285714285)"
      ]
     },
     "execution_count": 11,
     "metadata": {},
     "output_type": "execute_result"
    }
   ],
   "source": [
    "1/3, 1/7"
   ]
  },
  {
   "cell_type": "code",
   "execution_count": 12,
   "metadata": {},
   "outputs": [
    {
     "data": {
      "text/plain": [
       "(1.4142135623730951, 3.141592653589793, 2.718281828459045)"
      ]
     },
     "execution_count": 12,
     "metadata": {},
     "output_type": "execute_result"
    }
   ],
   "source": [
    "from math import sqrt, pi, e\n",
    "sqrt(2), pi, e"
   ]
  },
  {
   "cell_type": "code",
   "execution_count": 13,
   "metadata": {},
   "outputs": [
    {
     "data": {
      "text/plain": [
       "3.2317646600489495e+23"
      ]
     },
     "execution_count": 13,
     "metadata": {},
     "output_type": "execute_result"
    }
   ],
   "source": [
    "(e-1)**100"
   ]
  },
  {
   "cell_type": "markdown",
   "metadata": {},
   "source": [
    "# Números de ponto flutuante\n",
    "\n",
    "Os \"números reais\" típicos do seu computador são ditos \"de ponto flutuante\".\n",
    "Veremos mais detalhes sobre eles em breve,\n",
    "mas de forma prática, eles se comportam também de forma bastante \"normal\", como os inteiros:"
   ]
  },
  {
   "cell_type": "markdown",
   "metadata": {},
   "source": [
    "## Operações aritméticas"
   ]
  },
  {
   "cell_type": "code",
   "execution_count": 14,
   "metadata": {},
   "outputs": [
    {
     "data": {
      "text/plain": [
       "(6.6, 2.4, 9.450000000000001, 2.142857142857143, 23.53673832109834)"
      ]
     },
     "execution_count": 14,
     "metadata": {},
     "output_type": "execute_result"
    }
   ],
   "source": [
    "4.5 + 2.1, 4.5 - 2.1, 4.5 * 2.1, 4.5 / 2.1, 4.5 ** 2.1"
   ]
  },
  {
   "cell_type": "code",
   "execution_count": 15,
   "metadata": {},
   "outputs": [
    {
     "data": {
      "text/plain": [
       "(2.0, 0.2999999999999998)"
      ]
     },
     "execution_count": 15,
     "metadata": {},
     "output_type": "execute_result"
    }
   ],
   "source": [
    "4.5 // 2.1, 4.5 % 2.1"
   ]
  },
  {
   "cell_type": "markdown",
   "metadata": {},
   "source": [
    "### Amplitude:\n",
    "\n",
    "Números de ponto flutuante também podem ser bem grandes!"
   ]
  },
  {
   "cell_type": "code",
   "execution_count": 16,
   "metadata": {},
   "outputs": [
    {
     "data": {
      "text/plain": [
       "3.273390607896142e+150"
      ]
     },
     "execution_count": 16,
     "metadata": {},
     "output_type": "execute_result"
    }
   ],
   "source": [
    "2. ** 500"
   ]
  },
  {
   "cell_type": "markdown",
   "metadata": {},
   "source": [
    "### Erros de truncamento\n",
    "\n",
    "Mas podem acontecer coisas estranhas..."
   ]
  },
  {
   "cell_type": "code",
   "execution_count": 17,
   "metadata": {},
   "outputs": [
    {
     "name": "stdout",
     "output_type": "stream",
     "text": [
      "1.020446049250313e-16 0.0\n",
      "1.0000000000000002\n",
      "2.220446049250313e-16\n",
      "1.0\n"
     ]
    }
   ],
   "source": [
    "x = 1.2e-16\n",
    "y = 1\n",
    "z1 = (y + x) - y - x\n",
    "z2 = (y + x) - x - y\n",
    "print(z1, z2)\n",
    "print(y+x)\n",
    "print((y+x) - y)\n",
    "print((y+x) - x)"
   ]
  }
 ],
 "metadata": {
  "kernelspec": {
   "display_name": "Python 3",
   "language": "python",
   "name": "python3"
  },
  "language_info": {
   "codemirror_mode": {
    "name": "ipython",
    "version": 3
   },
   "file_extension": ".py",
   "mimetype": "text/x-python",
   "name": "python",
   "nbconvert_exporter": "python",
   "pygments_lexer": "ipython3",
   "version": "3.7.0"
  }
 },
 "nbformat": 4,
 "nbformat_minor": 1
}
