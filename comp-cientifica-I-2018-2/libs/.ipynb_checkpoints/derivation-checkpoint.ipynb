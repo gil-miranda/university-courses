{
 "cells": [
  {
   "cell_type": "code",
   "execution_count": 1,
   "metadata": {},
   "outputs": [],
   "source": [
    "import numpy as np"
   ]
  },
  {
   "cell_type": "markdown",
   "metadata": {},
   "source": [
    "Seja $p(t) \\in \\mathcal{Pol}_n$<br>\n",
    "Seja $p_j$ o coeficiente de $p(t)$ associado ao termo de grau $j$, temos:\n",
    "$$\n",
    "\\frac{d}{dt}p(t) = \\sum\\limits_{j=0}^{n-1} (p_j \\cdot j) \\cdot t^{j-1}\n",
    "$$"
   ]
  },
  {
   "cell_type": "code",
   "execution_count": 15,
   "metadata": {},
   "outputs": [],
   "source": [
    "## Derivação de Polinômios\n",
    "## coefs: lista de coeficientes do polinômio de grau n = len(coefs)-1\n",
    "##        onde coefs[0] representa o termo x^0 e coefs[-1] o termo x^n\n",
    "## x: ponto a ser derivado\n",
    "def pol_derivator(coefs, x):\n",
    "    terms = [i*j * x**(j-1) for j,i in enumerate(coefs)]\n",
    "    return sum(terms)"
   ]
  },
  {
   "cell_type": "code",
   "execution_count": null,
   "metadata": {},
   "outputs": [],
   "source": []
  }
 ],
 "metadata": {
  "kernelspec": {
   "display_name": "Python 3",
   "language": "python",
   "name": "python3"
  },
  "language_info": {
   "codemirror_mode": {
    "name": "ipython",
    "version": 3
   },
   "file_extension": ".py",
   "mimetype": "text/x-python",
   "name": "python",
   "nbconvert_exporter": "python",
   "pygments_lexer": "ipython3",
   "version": "3.7.1"
  }
 },
 "nbformat": 4,
 "nbformat_minor": 2
}
