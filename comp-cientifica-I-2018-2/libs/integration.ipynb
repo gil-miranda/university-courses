{
 "cells": [
  {
   "cell_type": "markdown",
   "metadata": {},
   "source": [
    "## Function libs\n",
    "## @author: Gil Miranda\n",
    "## @email: gilsmneto@gmail.com\n",
    "## @github: mirandagil\n",
    "## @page: www.gilmiranda.me\n",
    "## @class of functions: METHODS FOR INTEGRATION\n",
    "## @last update: 22/10/2018\n",
    "## -- Computação Cientifica 2018.2 @ UFRJ --"
   ]
  },
  {
   "cell_type": "code",
   "execution_count": 16,
   "metadata": {},
   "outputs": [],
   "source": [
    "import numpy as np\n",
    "from rootfinding import bissection"
   ]
  },
  {
   "cell_type": "code",
   "execution_count": null,
   "metadata": {},
   "outputs": [],
   "source": []
  },
  {
   "cell_type": "code",
   "execution_count": 1,
   "metadata": {},
   "outputs": [],
   "source": [
    "\n",
    "\n",
    "### - TRAPEZOIDAL - ###\n",
    "\n",
    "    ### - BASIC TRAPEZOIDAL STEPPER - ###\n",
    "    ### - dependency: bissection from rootfinding - ###\n",
    "def trapezoidal_step(F,t,h,ycurr):\n",
    "    tnext = t+h\n",
    "    def aux(dy):\n",
    "        return (F(t,ycurr)+F(tnext,ycurr+dy))*h/2 - dy\n",
    "    valor = bissecao(aux,0,2*F(t,ycurr))\n",
    "    return valor\n",
    "\n",
    "    ### - BASIC TRAPEZOIDAL STEPPER - ###\n",
    "    ### - dependency: trapezoidal_step from integration - ###\n",
    "def trapezoidal(F,t0,y0,ts):\n",
    "    ys = [y0]\n",
    "    ycurr = y0\n",
    "    tcurr = t0\n",
    "    for tnext in ts[1:]:\n",
    "        ynext = ycurr + trapezoidal_step(F,tcurr,tnext-tcurr,ycurr)\n",
    "        ycurr = ynext\n",
    "        tcurr = tnext\n",
    "        ys.append(ynext)\n",
    "    return ys"
   ]
  },
  {
   "cell_type": "markdown",
   "metadata": {},
   "source": [
    "Seja $p(t) \\in \\mathcal{Pol}_n$<br>\n",
    "Seja $p_j$ o coeficiente de $p(t)$ associado ao termo de grau $j$, temos:\n",
    "$$\n",
    "\\int_{a}^{b} p(t) dt = \\sum\\limits_{j=0}^{n-1} p_j \\frac{b^{1+j} - a^{1+j}}{1+j}\n",
    "$$"
   ]
  },
  {
   "cell_type": "code",
   "execution_count": 15,
   "metadata": {},
   "outputs": [],
   "source": [
    "## Integração de Polinômios\n",
    "## coefs: lista de coeficientes do polinômio de grau n = len(coefs)-1\n",
    "##        onde coefs[0] representa o termo x^0 e coefs[-1] o termo x^n\n",
    "## a,b: limites de integração\n",
    "def pol_integrator(coefs, a, b):\n",
    "    term = [i*((b**(j+1) - a**(j+1))/(j+1)) for j,i in enumerate(coefs)]\n",
    "    return sum(term)"
   ]
  },
  {
   "cell_type": "code",
   "execution_count": null,
   "metadata": {},
   "outputs": [],
   "source": []
  },
  {
   "cell_type": "code",
   "execution_count": null,
   "metadata": {},
   "outputs": [],
   "source": []
  }
 ],
 "metadata": {
  "kernelspec": {
   "display_name": "Python 3",
   "language": "python",
   "name": "python3"
  },
  "language_info": {
   "codemirror_mode": {
    "name": "ipython",
    "version": 3
   },
   "file_extension": ".py",
   "mimetype": "text/x-python",
   "name": "python",
   "nbconvert_exporter": "python",
   "pygments_lexer": "ipython3",
   "version": "3.7.4"
  }
 },
 "nbformat": 4,
 "nbformat_minor": 2
}
