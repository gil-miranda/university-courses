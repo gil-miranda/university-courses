{
 "cells": [
  {
   "cell_type": "markdown",
   "metadata": {},
   "source": [
    "![CC-BY-SA](https://mirrors.creativecommons.org/presskit/buttons/88x31/svg/by-sa.svg)\n",
    "This notebook was created by [Bernardo Freitas Paulo da Costa](http://www.im.ufrj.br/bernardofpc),\n",
    "and is licensed under Creative Commons BY-SA"
   ]
  },
  {
   "cell_type": "code",
   "execution_count": null,
   "metadata": {},
   "outputs": [],
   "source": [
    "import numpy as np\n",
    "import matplotlib.pyplot as plt"
   ]
  },
  {
   "cell_type": "markdown",
   "metadata": {},
   "source": [
    "# Autovetores e autovalores\n",
    "\n",
    "Um autovetor de uma matriz quadrada $A$ é um vetor não nulo $v$ tal que $Av$ seja colinear a $v$.\n",
    "Em termos mais algébricos, existe um escalar $\\lambda$ tal que\n",
    "$$ Av = \\lambda v.$$\n",
    "\n",
    "Os autovetores fornecem uma nova forma de fatorar a matriz $A$.\n",
    "Se esta admitir uma base de autovetores (por exemplo, for simétrica!),\n",
    "podemos formar a _diagonalização_ da matriz $A$,\n",
    "que é dada pela matriz dos autovetores $V = [v_1, v_2, \\ldots, v_n]$\n",
    "e pela matriz diagonal dos autovalores $D = \\text{diag}(\\lambda_1, \\lambda_2, \\ldots, \\lambda_n)$:\n",
    "$$ AV = VD. $$\n",
    "\n",
    "Quando a matriz $A$ é simétrica, os autovetores são ortogonais entre si.\n",
    "Isso permite inverter a matriz $V$ com grande facilidade, já que\n",
    "$V^{T} V = \\text{diag}(N_1^2, N_2^2, \\ldots, N_n^2)$ onde $N_i$ é a _norma_ do vetor $v_i$.\n",
    "Em particular, se tivermos o cuidado de tomar autovetores de norma $1$,\n",
    "a transposta de $V$ será a sua inversa!"
   ]
  },
  {
   "cell_type": "markdown",
   "metadata": {},
   "source": [
    "## Calculando autovalores\n",
    "\n",
    "É possível determinar os autovalores de uma matriz através de uma equação polinomial em $\\lambda$:\n",
    "$$ \\det(A - \\lambda I) = 0. $$\n",
    "\n",
    "O cálculo \"pela definição\" do polinômio característico de uma matriz $n \\times n$\n",
    "requer calcular todas as $n!$ permutações.\n",
    "Isso é muito custoso, e após o quê ainda teríamos que achar as raízes de um polinômio de grau relativamente grande,\n",
    "o que dará trabalho também para o método de Newton (por exemplo).\n",
    "\n",
    "Existem métodos mais eficientes para calcular o polinômio característico,\n",
    "mas não vamos entrar no detalhe agora, pela razão a seguir:\n",
    "\n",
    "## Autovalores $\\not\\Rightarrow$ autovalores! \n",
    "\n",
    "Uma vez conhecidos os autovalores, podemos resolver o sistema $(A - \\lambda_k)v = 0$\n",
    "(que é **singular**!) e encontrar uma solução não-nula, determinando o autovetor correspondente.\n",
    "\n",
    "Em geral, calcular raízes de polinômios também se faz por um método iterativo\n",
    "(quando o grau é maior do que 4, por exemplo),\n",
    "e haverá um erro (numérico, por exemplo) no valor de $\\lambda$\n",
    "que será aproximado por $\\tilde\\lambda$.\n",
    "Assim, é possível que a matriz $A - \\tilde\\lambda I$ seja inversível,\n",
    "e que o sistema na verdade só tenha a solução $v = 0$, que não desejamos.\n",
    "Portanto, é preciso fazer as contas de $(A - \\lambda I)v = 0$ levando em conta que\n",
    "a matriz será \"quase-singular\" e que isto corresponde à liberdade necessária para achar um autovetor!\n",
    "\n",
    "Por todas estas razões, vamos fazer ao contrário: começaremos"
   ]
  },
  {
   "cell_type": "markdown",
   "metadata": {},
   "source": [
    "## Calculando autovetores\n",
    "\n",
    "Um dos algoritmos mais clássicos de cálculo de autovetores é \"multiplicar e normalizar\":\n",
    "tome um vetor \"qualquer\" $u_0$ e aplique a matriz $A$, obtendo $w_1 = Au_0$.\n",
    "Normalize $w_1$, ou seja, divida pela sua norma para obter um vetor unitário de mesma direção,\n",
    "e chame-o de $u_1$.\n",
    "Repita: $w_2 = Au_1$, e $u_2 = \\frac{w_2}{N(w_2)}$.\n",
    "E assim por diante.\n",
    "Em geral (isso depende de $u_0$), a sequência dos $u_n$ converge para um autovetor $u$ correspondente\n",
    "ao autovalor de $A$ de maior módulo."
   ]
  },
  {
   "cell_type": "markdown",
   "metadata": {},
   "source": [
    "### Exercício: Convertendo autovetores em autovalores\n",
    "\n",
    "Se o limite dos $v_n$ é um autovetor tal que $Av = \\lambda v$,\n",
    "como obter uma estimativa de $\\lambda$?\n",
    "\n",
    "###Dê sua resposta aqui\n"
   ]
  },
  {
   "cell_type": "markdown",
   "metadata": {},
   "source": [
    "### Exercício\n",
    "\n",
    "Implemente este algoritmo,\n",
    "e pense sobre o critério de parada para o mesmo."
   ]
  },
  {
   "cell_type": "code",
   "execution_count": null,
   "metadata": {},
   "outputs": [],
   "source": [
    "norm = np.linalg.norm"
   ]
  },
  {
   "cell_type": "code",
   "execution_count": null,
   "metadata": {},
   "outputs": [],
   "source": [
    "def autovetor(A, tol=1e-6):\n",
    "    n,m = np.shape(A)\n",
    "    assert n==m, 'A must be square'\n",
    "    \n",
    "    u = np.random.rand(n)\n",
    "    ### Resposta aqui\n"
   ]
  },
  {
   "cell_type": "markdown",
   "metadata": {},
   "source": [
    "Use este algoritmo para calcular o \"maior\" autovalor de algumas matrizes (por exemplo, a matriz de Hilbert!)."
   ]
  },
  {
   "cell_type": "code",
   "execution_count": null,
   "metadata": {},
   "outputs": [],
   "source": [
    "np.random.seed(123)\n",
    "A = np.random.rand(20,20)\n",
    "### Resposta aqui\n"
   ]
  },
  {
   "cell_type": "markdown",
   "metadata": {},
   "source": [
    "Como saber se o vetor que você retornou está perto de um autovetor \"de verdade\" de $A$?"
   ]
  },
  {
   "cell_type": "code",
   "execution_count": null,
   "metadata": {},
   "outputs": [],
   "source": [
    "### Resposta aqui\n"
   ]
  },
  {
   "cell_type": "markdown",
   "metadata": {},
   "source": [
    "### Exercício: convergência\n",
    "\n",
    "Agora, modifique o código de `autovetor` para retornar mais informações.\n",
    "\n",
    "O objetivo é obter um gráfico da velocidade de convergência como abaixo:"
   ]
  },
  {
   "cell_type": "code",
   "execution_count": null,
   "metadata": {},
   "outputs": [],
   "source": [
    "### Resposta aqui\n",
    "\n",
    "plt.show()"
   ]
  },
  {
   "cell_type": "markdown",
   "metadata": {},
   "source": [
    "## Análise de convergência\n",
    "\n",
    "Suponha que o \"segundo\" autovalor de $A$ seja $\\lambda_2$, em módulo menor do que $\\lambda_1$.\n",
    "Isso quer dizer que, para todo vetor $u = \\sum c_i v_i$ (onde os $v_i$ são os autovetores de $A$),\n",
    "temos\n",
    "$$ Au = \\sum \\lambda_i c_i v_i. $$\n",
    "Além disso, note que a normalização poderia ser feita depois:\n",
    "se definirmos $x_n = A^n u_0$, temos que $u_n = \\frac{x_n}{N(x_n)}$.\n",
    "\n",
    "Cada iteração deste método irá aumentar o peso do coeficiente de $v_1$,\n",
    "pois ele será multiplicado pelo maior dos números $\\lambda_i$,\n",
    "e temos $A^n u = \\sum \\lambda_i^n c_i v_i$.\n",
    "Para ver como o método converge, vamos olhar para o erro, ou seja,\n",
    "a componente de $u_n$ que não está na direção de $v_1$:\n",
    "$$ \\frac{\\sum _ {i > 1} \\lambda_i^n c_i v_i}{N(x_n)}. $$\n",
    "Só que a norma de $x_n$ é determinada principalmente por $c_1 \\lambda_1^n$,\n",
    "que é muito maior do que todos os outros.\n",
    "Idem, inclusive, para o termo de erro:\n",
    "a maior contribuição para sua norma vem de $c_2 \\lambda_2^n$.\n",
    "Assim, o erro é $\\left| \\frac{\\lambda_2}{\\lambda_1} \\right|^n \\to 0$."
   ]
  },
  {
   "cell_type": "markdown",
   "metadata": {},
   "source": [
    "# Calculando autovetores correspondentes a outros autovalores"
   ]
  },
  {
   "cell_type": "markdown",
   "metadata": {},
   "source": [
    "Poderíamos calcular o autovetor correspondente ao **menor** autovalor fazendo o contrário:\n",
    "multiplicamos $u_0$ por $A^{-1}$ sucessivamente, o que **divide** os coeficientes.\n",
    "Claro, isso só funciona se $A$ não tiver um autovalor igual a zero.\n",
    "\n",
    "Poderíamos modificar um pouco este procedimento:\n",
    "chutamos (de alguma forma) que há um autovalor próximo a $z$, um número complexo.\n",
    "Assim, vamos tentar calcular qual será o autovetor correspondente.\n",
    "Para isso, veja que $A_z = A - zI$ tem um autovalor bem próximo de zero,\n",
    "e assim iterando o procedimento acima, temos o autovetor correspondente."
   ]
  },
  {
   "cell_type": "markdown",
   "metadata": {},
   "source": [
    "### Exercício\n",
    "\n",
    "Incorpore a solução de sistemas lineares para implementar a multiplicação por $(A - zI)^{-1}$.\n",
    "Use a fatoração LU de $(A - zI)$ para tornar a solução mais rápida!"
   ]
  },
  {
   "cell_type": "code",
   "execution_count": null,
   "metadata": {},
   "outputs": [],
   "source": [
    "import scipy.linalg\n",
    "# Para usar scipy.linalg.lu_factor() e scipy.linalg.lu_solve()"
   ]
  },
  {
   "cell_type": "code",
   "execution_count": null,
   "metadata": {},
   "outputs": [],
   "source": [
    "def nearest_eigenvalue(A,z, tol=1e-6, nmax=100):\n",
    "    \"\"\" Finds the eigenvalue of  A  nearest to  z (complex). Iterative method. \"\"\"\n",
    "    n,m = np.shape(A)\n",
    "    assert n==m, 'A must be square'\n",
    "\n",
    "    u = np.random.rand(n)\n",
    "    ### Resposta aqui\n"
   ]
  },
  {
   "cell_type": "code",
   "execution_count": null,
   "metadata": {},
   "outputs": [],
   "source": [
    "vs, ls = nearest_eigenvalue(A, 1)\n",
    "### Resposta aqui\n"
   ]
  },
  {
   "cell_type": "code",
   "execution_count": null,
   "metadata": {},
   "outputs": [],
   "source": [
    "len(vs)"
   ]
  },
  {
   "cell_type": "code",
   "execution_count": null,
   "metadata": {},
   "outputs": [],
   "source": [
    "vs, ls = nearest_eigenvalue(A, 1+0.1j)\n",
    "### Resposta aqui\n"
   ]
  },
  {
   "cell_type": "code",
   "execution_count": null,
   "metadata": {},
   "outputs": [],
   "source": [
    "len(vs)"
   ]
  },
  {
   "cell_type": "code",
   "execution_count": null,
   "metadata": {},
   "outputs": [],
   "source": [
    "### Resposta aqui\n"
   ]
  },
  {
   "cell_type": "code",
   "execution_count": null,
   "metadata": {},
   "outputs": [],
   "source": [
    "### Resposta aqui\n"
   ]
  }
 ],
 "metadata": {
  "kernelspec": {
   "display_name": "Python 3",
   "language": "python",
   "name": "python3"
  },
  "language_info": {
   "codemirror_mode": {
    "name": "ipython",
    "version": 3
   },
   "file_extension": ".py",
   "mimetype": "text/x-python",
   "name": "python",
   "nbconvert_exporter": "python",
   "pygments_lexer": "ipython3",
   "version": "3.7.1"
  }
 },
 "nbformat": 4,
 "nbformat_minor": 1
}
