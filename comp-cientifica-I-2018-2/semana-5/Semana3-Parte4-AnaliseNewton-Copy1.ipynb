{
 "cells": [
  {
   "cell_type": "markdown",
   "metadata": {},
   "source": [
    "# Analisando o erro numérico\n",
    "\n",
    "Seja $z$ a raiz de $f$ para a qual o método de Newton converge.\n",
    "Temos $x_n$ e $x_{n+1}$, e queremos ver como o erro (ou seja, a distância até $z$) evolui com 1 passo."
   ]
  },
  {
   "cell_type": "markdown",
   "metadata": {},
   "source": [
    "## Relações que possuímos:\n",
    "\n",
    "- $x_{n+1} = x_n - f(x_n)/f'(x_n)$\n",
    "- Taylor: $f(x_n) = f(z) + f'(z)(x_n - z) + \\frac{f''(\\xi)}{2}(x_n - z)^2$\n",
    "\n",
    "Poderíamos usar esta expansão de Taylor, mas então teríamos que analisar $f'(z)$ e $f'(x_n)$.\n",
    "O que pode ser feito usando Taylor (de novo) para a primeira derivada, mas começam a aparecer muitos \"pontos intermediários\".\n",
    "\n",
    "Vamos usar uma outra expansão de Taylor:\n",
    "- $f(z) = f(x_n) + f'(x_n)(z - x_n) + \\frac{f''(\\xi)}{2}(z - x_n)^2$ (o $\\xi$ desta fórmula é diferente do da anterior!)"
   ]
  },
  {
   "cell_type": "markdown",
   "metadata": {},
   "source": [
    "### Comentário\n",
    "\n",
    "Aqui vemos a grande utilidade da técnica \"dar nome aos burros\" ao resolver um problema.\n",
    "Por mais que $z$ seja desconhecido, podemos incluí-lo em nossas fórmulas.\n",
    "Além disso, por mais que seja desconhecido, podemos também usar alguma propriedade -\n",
    "no nosso caso, $f(z) = 0$ - nas contas."
   ]
  },
  {
   "cell_type": "markdown",
   "metadata": {},
   "source": [
    "## Continuando as contas\n",
    "\n",
    "Da fórmula de Taylor, temos:\n",
    "$$\\begin{align}\n",
    "0 & = f(x_n) + f'(x_n)(z - x_n) + \\frac{f''(\\xi)}{2}(z - x_n)^2 \\\\\n",
    "- f(x_n) & = f'(x_n)(z - x_n) +  \\frac{f''(\\xi)}{2}(z - x_n)^2 \\\\\n",
    "- \\frac{f(x_n)}{f'(x_n)} & = (z - x_n) + \\frac{f''(\\xi)}{2 f'(x_n)}(z - x_n)^2.\n",
    "\\end{align}$$\n",
    "Portanto, $x_{n+1} = x_n + (z - x_n) + \\frac{f''(\\xi)}{2 f'(x_n)}(z - x_n)^2 = \\frac{f''(\\xi)}{2 f'(x_n)}(z - x_n)^2$.\n",
    "\n",
    "Isso mostra que o erro $\\varepsilon_{n+1} = x_{n+1} - z$ será, em função do erro anterior $\\varepsilon_n$:\n",
    "$$\\varepsilon_{n+1} = \\frac{f''(\\xi)}{2 f'(x_n)} \\varepsilon_n^2,$$\n",
    "que é a famosa propriedade de \"elevar o erro anterior ao quadrado\" (a menos de um fator)."
   ]
  },
  {
   "cell_type": "markdown",
   "metadata": {},
   "source": [
    "### Exercício\n",
    "\n",
    "Suponha que o quociente das derivadas seja sempre menor do que 2,\n",
    "e suponha que o erro inicial é 1/3.\n",
    "Em quantas etapas ele será menor do que `1e-16`?"
   ]
  },
  {
   "cell_type": "code",
   "execution_count": 1,
   "metadata": {
    "collapsed": true
   },
   "outputs": [],
   "source": [
    "def tempo_para_convergir(erro, max_quot, alvo):\n",
    "    \"\"\"Retorna o número de passos necessários para que o `erro` fique menor do que `alvo`,\n",
    "    se o quociente das derivadas do método de Newton for sempre menor do que `max_quot`. \"\"\"\n",
    "    i = 0\n",
    "    ### Resposta aqui\n",
    "\n",
    "    return i"
   ]
  },
  {
   "cell_type": "code",
   "execution_count": 2,
   "metadata": {},
   "outputs": [
    {
     "data": {
      "text/plain": [
       "6"
      ]
     },
     "execution_count": 2,
     "metadata": {},
     "output_type": "execute_result"
    }
   ],
   "source": [
    "tempo_para_convergir(1/3, 2, 1e-16)"
   ]
  },
  {
   "cell_type": "markdown",
   "metadata": {},
   "source": [
    "Como evolui o erro?"
   ]
  },
  {
   "cell_type": "code",
   "execution_count": 3,
   "metadata": {
    "collapsed": true
   },
   "outputs": [],
   "source": [
    "def tempo_para_convergir_lista(erro, max_quot, alvo):\n",
    "    \"\"\"Retorna a lista com os erros intermediários produzidos pelo método de Newton, cf `tempo_para_convergir`. \"\"\"\n",
    "    ### Resposta aqui\n"
   ]
  },
  {
   "cell_type": "code",
   "execution_count": 4,
   "metadata": {},
   "outputs": [
    {
     "data": {
      "text/plain": [
       "[0.3333333333333333,\n",
       " 0.1111111111111111,\n",
       " 0.012345679012345678,\n",
       " 0.00015241579027587256,\n",
       " 2.3230573125418767e-08,\n",
       " 5.396595277354286e-16,\n",
       " 2.9123240587562585e-31]"
      ]
     },
     "execution_count": 4,
     "metadata": {},
     "output_type": "execute_result"
    }
   ],
   "source": [
    "tempo_para_convergir_lista(1/3, 2, 1e-16)"
   ]
  },
  {
   "cell_type": "markdown",
   "metadata": {},
   "source": [
    "O que acontece se apenas garantimos que o fator é menor do que 4?\n",
    "E se for 10?"
   ]
  },
  {
   "cell_type": "code",
   "execution_count": 5,
   "metadata": {},
   "outputs": [
    {
     "data": {
      "text/plain": [
       "[0.3333333333333333,\n",
       " 0.2222222222222222,\n",
       " 0.09876543209876543,\n",
       " 0.019509221155311687,\n",
       " 0.0007612194201737221,\n",
       " 1.1589100112992354e-06,\n",
       " 2.686144828579188e-12,\n",
       " 1.443074808020543e-23]"
      ]
     },
     "execution_count": 5,
     "metadata": {},
     "output_type": "execute_result"
    }
   ],
   "source": [
    "tempo_para_convergir_lista(1/3, 4, 1e-16)"
   ]
  },
  {
   "cell_type": "code",
   "execution_count": 6,
   "metadata": {},
   "outputs": [
    {
     "data": {
      "text/plain": [
       "[]"
      ]
     },
     "execution_count": 6,
     "metadata": {},
     "output_type": "execute_result"
    }
   ],
   "source": [
    "tempo_para_convergir_lista(1/3, 10, 1e-16)"
   ]
  },
  {
   "cell_type": "markdown",
   "metadata": {},
   "source": [
    "O que fazer para ainda ter convergência caso só seja possível limitar o quociente das derivadas por 10??"
   ]
  },
  {
   "cell_type": "markdown",
   "metadata": {},
   "source": []
  },
  {
   "cell_type": "markdown",
   "metadata": {},
   "source": [
    "## Mas e o $\\xi$?\n",
    "\n",
    "A nossa fórmula já explica uma boa parte da rapidez de convergência do método de Newton,\n",
    "mas ela ainda contém vários elementos desconhecidos, como o $\\xi$, $f'(x_n)$,\n",
    "que dependem da função, do ponto onde estamos, etc.\n",
    "Para transformar esta conta exata, mas com termos variáveis,\n",
    "numa estimativa mais independente, o que vamos fazer é **supor** algo sobre a função $f$.\n",
    "\n",
    "Por exemplo, podemos supor que a segunda derivada é _limitada_ perto de $z$.\n",
    "Assim, quando estivermos \"perto\" da raiz, podemos supor (como fizemos acima) que uma parte do fator não é muito grande.\n",
    "Novamente, podemos supor que a primeira derivada não é **pequena demais** perto de $z$.\n",
    "Assim, o quociente estará certamente limitado, e, se estivermos \"perto o suficiente\" da raiz,\n",
    "vamos convergir bem rápido."
   ]
  },
  {
   "cell_type": "markdown",
   "metadata": {},
   "source": [
    "### Exercício\n",
    "\n",
    "Resolva a recorrência $x_{n+1} = Cx_n^2$, com $x_0 = \\delta$.\n",
    "Dica: escreva uns 5 termos, e veja o padrão em $\\delta$, $C$ e $n$!"
   ]
  }
 ],
 "metadata": {
  "kernelspec": {
   "display_name": "Python 3",
   "language": "python",
   "name": "python3"
  },
  "language_info": {
   "codemirror_mode": {
    "name": "ipython",
    "version": 3
   },
   "file_extension": ".py",
   "mimetype": "text/x-python",
   "name": "python",
   "nbconvert_exporter": "python",
   "pygments_lexer": "ipython3",
   "version": "3.7.3"
  }
 },
 "nbformat": 4,
 "nbformat_minor": 2
}
