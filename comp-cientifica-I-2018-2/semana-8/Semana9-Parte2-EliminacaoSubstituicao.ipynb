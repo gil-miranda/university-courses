{
 "cells": [
  {
   "cell_type": "markdown",
   "metadata": {},
   "source": [
    "# Implementando `numpy.linalg.solve()`\n",
    "\n",
    "Vamos implementar a nossa própria versão de \"solve\".\n",
    "A principal razão para fazê-lo é que a versão do `numpy` não é \"genérica\", ou seja,\n",
    "ela não funciona para uma matriz qualquer, mas apenas para matrizes de números.\n",
    "E poderíamos ter um sistema linear cujos coeficientes não fossem números.\n",
    "\n",
    "Por exemplo, imagine que queremos resolver o seguinte sistema:\n",
    "$$\\begin{align*}\n",
    "e^t x + e^{-t}y + \\ e^{3t} z & = 2 \\\\\n",
    "e^t x - e^{-t}y + 3e^{3t} z& = -1 \\\\\n",
    "e^t x + e^{-t}y + 9e^{3t} z& = 1\n",
    "\\end{align*}$$\n",
    "As variáveis $x$ e $y$ são **funções** de $t$,\n",
    "mas o mais importante é que este é um _sistema linear_ em $t$,\n",
    "logo podemos aplicar a mesma ideia da eliminação de Gauss!"
   ]
  },
  {
   "cell_type": "markdown",
   "metadata": {},
   "source": [
    "## Eliminação\n",
    "\n",
    "Para resolver um sistema linear, procedemos em duas etapas.\n",
    "A primeira é conhecida como \"eliminação de Gauss\", que vai eliminando sucessivamente os coeficientes."
   ]
  },
  {
   "cell_type": "code",
   "execution_count": 1,
   "metadata": {
    "collapsed": true
   },
   "outputs": [],
   "source": [
    "import numpy as np"
   ]
  },
  {
   "cell_type": "code",
   "execution_count": 2,
   "metadata": {
    "collapsed": true
   },
   "outputs": [],
   "source": [
    "def elim(A,b, debug=False):\n",
    "    \"\"\"Elimina as equações do sistema Ax = b, de cima para baixo.\n",
    "    Os dados de entrada são _alterados_ pela execução da função, para refletir o novo sistema.\"\"\"\n",
    "    m,n = np.shape(A)\n",
    "    ### Resposta aqui\n"
   ]
  },
  {
   "cell_type": "code",
   "execution_count": 3,
   "metadata": {},
   "outputs": [
    {
     "data": {
      "text/plain": [
       "([[1, 2, 3], [4, 5, 6], [7, 8, 9]], (3, 3))"
      ]
     },
     "execution_count": 3,
     "metadata": {},
     "output_type": "execute_result"
    }
   ],
   "source": [
    "A = [[1,2,3],[4,5,6],[7,8,9]]\n",
    "A, np.shape(A)"
   ]
  },
  {
   "cell_type": "code",
   "execution_count": 4,
   "metadata": {
    "collapsed": true
   },
   "outputs": [],
   "source": [
    "b = [1,3,3]"
   ]
  },
  {
   "cell_type": "code",
   "execution_count": 5,
   "metadata": {},
   "outputs": [
    {
     "name": "stdout",
     "output_type": "stream",
     "text": [
      "0\n",
      "[[1, 2, 3], [4, 5, 6], [7, 8, 9]]\n",
      "[1, 3, 3]\n",
      "\n",
      "1\n",
      "[[1, 2, 3], [0, -3.0, -6.0], [0, -6.0, -12.0]]\n",
      "[1, -1.0, -4.0]\n",
      "\n",
      "2\n",
      "[[1, 2, 3], [0, -3.0, -6.0], [0, 0, 0.0]]\n",
      "[1, -1.0, -2.0]\n",
      "\n",
      "end\n",
      "[[1, 2, 3], [0, -3.0, -6.0], [0, 0, 0.0]]\n",
      "[1, -1.0, -2.0]\n",
      "\n"
     ]
    }
   ],
   "source": [
    "elim(A,b, debug=True)"
   ]
  },
  {
   "cell_type": "code",
   "execution_count": 6,
   "metadata": {},
   "outputs": [
    {
     "data": {
      "text/plain": [
       "([[1, 2, 3], [0, -3.0, -6.0], [0, 0, 0.0]], [1, -1.0, -2.0])"
      ]
     },
     "execution_count": 6,
     "metadata": {},
     "output_type": "execute_result"
    }
   ],
   "source": [
    "A, b"
   ]
  },
  {
   "cell_type": "code",
   "execution_count": 7,
   "metadata": {
    "collapsed": true
   },
   "outputs": [],
   "source": [
    "A = np.random.rand(4,4)\n",
    "b = np.random.rand(4)\n",
    "elim(A,b)"
   ]
  },
  {
   "cell_type": "code",
   "execution_count": 8,
   "metadata": {
    "collapsed": true
   },
   "outputs": [],
   "source": [
    "A = np.random.rand(3,4)\n",
    "b = np.random.rand(3)\n",
    "elim(A,b)"
   ]
  },
  {
   "cell_type": "code",
   "execution_count": 9,
   "metadata": {
    "collapsed": true
   },
   "outputs": [],
   "source": [
    "A = np.random.rand(4,3)\n",
    "b = np.random.rand(4)\n",
    "elim(A,b)"
   ]
  },
  {
   "cell_type": "markdown",
   "metadata": {},
   "source": [
    "## Substituição\n",
    "\n",
    "A segunda etapa consiste em resolver \"de fato\" o sistema, de baixo para cima.\n",
    "Como encontramos as soluções e vamos substituindo os valores nas respectivas equações,\n",
    "este etapa se chama substituição."
   ]
  },
  {
   "cell_type": "code",
   "execution_count": 10,
   "metadata": {
    "collapsed": true
   },
   "outputs": [],
   "source": [
    "def subst(A,b):\n",
    "    \"\"\"Substitui as equações do sistema Ax = b, de baixo para cima,\n",
    "    e retorna o vetor x das soluções, sem alterar A nem b.\"\"\"\n",
    "    m,n = np.shape(A)\n",
    "    # Verifique que a matriz A está correta\n",
    "    ### Resposta aqui\n"
   ]
  },
  {
   "cell_type": "code",
   "execution_count": 11,
   "metadata": {},
   "outputs": [
    {
     "data": {
      "text/plain": [
       "[1.4310965894808454,\n",
       " 0.61839150518035457,\n",
       " -1.1122299978888677,\n",
       " -0.16541226490125571]"
      ]
     },
     "execution_count": 11,
     "metadata": {},
     "output_type": "execute_result"
    }
   ],
   "source": [
    "A = np.random.rand(4,4)\n",
    "b = np.random.rand(4)\n",
    "elim(A,b)\n",
    "subst(A,b)"
   ]
  },
  {
   "cell_type": "code",
   "execution_count": 12,
   "metadata": {},
   "outputs": [
    {
     "data": {
      "text/plain": [
       "array([ 0.96897068, -0.16287873, -2.36653882,  0.10070464])"
      ]
     },
     "execution_count": 12,
     "metadata": {},
     "output_type": "execute_result"
    }
   ],
   "source": [
    "np.dot(A,_)"
   ]
  },
  {
   "cell_type": "markdown",
   "metadata": {},
   "source": [
    "### Exercício\n",
    "\n",
    "Um dos maiores problemas do nosso código de eliminação é que ele modifica a matriz.\n",
    "Isso é ruim para verificar se a solução encontrada pela substituição satisfaz a equação original.\n",
    "(Podemos verificar que satisfaz o sistema \"eliminado\", pois a substituição não modifica $A$ ou $b$).\n",
    "\n",
    "Corrija isso, e verifique que o procedimento duplo (eliminação + substituição)\n",
    "de fato encontra uma solução."
   ]
  },
  {
   "cell_type": "code",
   "execution_count": 13,
   "metadata": {
    "collapsed": true
   },
   "outputs": [],
   "source": [
    "def elim(A,b, debug=False):\n",
    "    \"\"\"Elimina as equações do sistema Ax = b, de cima para baixo,\n",
    "    retornando (U,b') correspondentes ao sistema triangular superior Ux = b', sem alterar as matrizes A e b.\"\"\"\n",
    "    m,n = np.shape(A)\n",
    "    U = np.copy(A)\n",
    "    b_ = np.copy(b)\n",
    "    ### Resposta aqui\n"
   ]
  },
  {
   "cell_type": "code",
   "execution_count": 14,
   "metadata": {},
   "outputs": [
    {
     "data": {
      "text/plain": [
       "array([  0.00000000e+00,   2.22044605e-16,  -3.33066907e-16,\n",
       "         2.22044605e-16])"
      ]
     },
     "execution_count": 14,
     "metadata": {},
     "output_type": "execute_result"
    }
   ],
   "source": [
    "A = np.random.rand(4,4)\n",
    "b = np.random.rand(4)\n",
    "U, b_ = elim(A,b)\n",
    "x = subst(U,b_)\n",
    "# deveria dar bem perto de zero!\n",
    "np.dot(A,x) - b"
   ]
  },
  {
   "cell_type": "code",
   "execution_count": 15,
   "metadata": {
    "collapsed": true
   },
   "outputs": [],
   "source": [
    "def solve(A,b):\n",
    "    U,b_ = elim(A,b)\n",
    "    return subst(U,b_)"
   ]
  },
  {
   "cell_type": "code",
   "execution_count": 16,
   "metadata": {},
   "outputs": [
    {
     "data": {
      "text/plain": [
       "array([  3.99680289e-15,  -1.30451205e-15,   5.55111512e-16,\n",
       "        -2.66453526e-15])"
      ]
     },
     "execution_count": 16,
     "metadata": {},
     "output_type": "execute_result"
    }
   ],
   "source": [
    "x1 = solve(A,b)\n",
    "x2 = np.linalg.solve(A,b)\n",
    "x1 - x2"
   ]
  },
  {
   "cell_type": "code",
   "execution_count": 17,
   "metadata": {},
   "outputs": [
    {
     "data": {
      "text/plain": [
       "(array([  0.00000000e+00,   2.22044605e-16,  -3.33066907e-16,\n",
       "          2.22044605e-16]),\n",
       " array([ -1.11022302e-16,   1.11022302e-16,  -1.11022302e-16,\n",
       "          0.00000000e+00]))"
      ]
     },
     "execution_count": 17,
     "metadata": {},
     "output_type": "execute_result"
    }
   ],
   "source": [
    "np.dot(A,x1) - b, np.dot(A,x2) - b"
   ]
  },
  {
   "cell_type": "markdown",
   "metadata": {},
   "source": [
    "# Aplicação: sistemas racionais"
   ]
  },
  {
   "cell_type": "code",
   "execution_count": 18,
   "metadata": {
    "collapsed": true
   },
   "outputs": [],
   "source": [
    "from fractions import Fraction"
   ]
  },
  {
   "cell_type": "code",
   "execution_count": 19,
   "metadata": {
    "collapsed": true
   },
   "outputs": [],
   "source": [
    "A = [[3,2,3],[4,7,6],[7,8,7]]\n",
    "b = [1,2,1]"
   ]
  },
  {
   "cell_type": "code",
   "execution_count": 20,
   "metadata": {
    "collapsed": true
   },
   "outputs": [],
   "source": [
    "AF = [[Fraction(aij) for aij in ai] for ai in A]\n",
    "bF = [Fraction(bi) for bi in b]"
   ]
  },
  {
   "cell_type": "code",
   "execution_count": 21,
   "metadata": {},
   "outputs": [
    {
     "name": "stdout",
     "output_type": "stream",
     "text": [
      "0\n",
      "[[Fraction(3, 1) Fraction(2, 1) Fraction(3, 1)]\n",
      " [Fraction(4, 1) Fraction(7, 1) Fraction(6, 1)]\n",
      " [Fraction(7, 1) Fraction(8, 1) Fraction(7, 1)]]\n",
      "[Fraction(1, 1) Fraction(2, 1) Fraction(1, 1)]\n",
      "\n",
      "1\n",
      "[[Fraction(3, 1) Fraction(2, 1) Fraction(3, 1)]\n",
      " [0 Fraction(13, 3) Fraction(2, 1)]\n",
      " [0 Fraction(10, 3) Fraction(0, 1)]]\n",
      "[Fraction(1, 1) Fraction(2, 3) Fraction(-4, 3)]\n",
      "\n",
      "2\n",
      "[[Fraction(3, 1) Fraction(2, 1) Fraction(3, 1)]\n",
      " [0 Fraction(13, 3) Fraction(2, 1)]\n",
      " [0 0 Fraction(-20, 13)]]\n",
      "[Fraction(1, 1) Fraction(2, 3) Fraction(-24, 13)]\n",
      "\n",
      "end\n",
      "[[Fraction(3, 1) Fraction(2, 1) Fraction(3, 1)]\n",
      " [0 Fraction(13, 3) Fraction(2, 1)]\n",
      " [0 0 Fraction(-20, 13)]]\n",
      "[Fraction(1, 1) Fraction(2, 3) Fraction(-24, 13)]\n",
      "\n"
     ]
    },
    {
     "data": {
      "text/plain": [
       "(array([[Fraction(3, 1), Fraction(2, 1), Fraction(3, 1)],\n",
       "        [0, Fraction(13, 3), Fraction(2, 1)],\n",
       "        [0, 0, Fraction(-20, 13)]], dtype=object),\n",
       " array([Fraction(1, 1), Fraction(2, 3), Fraction(-24, 13)], dtype=object))"
      ]
     },
     "execution_count": 21,
     "metadata": {},
     "output_type": "execute_result"
    }
   ],
   "source": [
    "elim(AF, bF, debug=True)"
   ]
  },
  {
   "cell_type": "code",
   "execution_count": 22,
   "metadata": {},
   "outputs": [
    {
     "data": {
      "text/plain": [
       "[Fraction(-3, 5), Fraction(-2, 5), Fraction(6, 5)]"
      ]
     },
     "execution_count": 22,
     "metadata": {},
     "output_type": "execute_result"
    }
   ],
   "source": [
    "solve(AF, bF)"
   ]
  },
  {
   "cell_type": "code",
   "execution_count": 23,
   "metadata": {},
   "outputs": [
    {
     "data": {
      "text/plain": [
       "array([-0.6, -0.4,  1.2])"
      ]
     },
     "execution_count": 23,
     "metadata": {},
     "output_type": "execute_result"
    }
   ],
   "source": [
    "np.linalg.solve(A,b)"
   ]
  },
  {
   "cell_type": "code",
   "execution_count": 24,
   "metadata": {},
   "outputs": [
    {
     "ename": "TypeError",
     "evalue": "No loop matching the specified signature and casting\nwas found for ufunc solve1",
     "output_type": "error",
     "traceback": [
      "\u001b[0;31m---------------------------------------------------------------------------\u001b[0m",
      "\u001b[0;31mTypeError\u001b[0m                                 Traceback (most recent call last)",
      "\u001b[0;32m<ipython-input-24-077efc98efa4>\u001b[0m in \u001b[0;36m<module>\u001b[0;34m()\u001b[0m\n\u001b[0;32m----> 1\u001b[0;31m \u001b[0mnp\u001b[0m\u001b[0;34m.\u001b[0m\u001b[0mlinalg\u001b[0m\u001b[0;34m.\u001b[0m\u001b[0msolve\u001b[0m\u001b[0;34m(\u001b[0m\u001b[0mAF\u001b[0m\u001b[0;34m,\u001b[0m\u001b[0mbF\u001b[0m\u001b[0;34m)\u001b[0m\u001b[0;34m\u001b[0m\u001b[0m\n\u001b[0m",
      "\u001b[0;32m/usr/lib64/python3.4/site-packages/numpy/linalg/linalg.py\u001b[0m in \u001b[0;36msolve\u001b[0;34m(a, b)\u001b[0m\n\u001b[1;32m    373\u001b[0m     \u001b[0msignature\u001b[0m \u001b[0;34m=\u001b[0m \u001b[0;34m'DD->D'\u001b[0m \u001b[0;32mif\u001b[0m \u001b[0misComplexType\u001b[0m\u001b[0;34m(\u001b[0m\u001b[0mt\u001b[0m\u001b[0;34m)\u001b[0m \u001b[0;32melse\u001b[0m \u001b[0;34m'dd->d'\u001b[0m\u001b[0;34m\u001b[0m\u001b[0m\n\u001b[1;32m    374\u001b[0m     \u001b[0mextobj\u001b[0m \u001b[0;34m=\u001b[0m \u001b[0mget_linalg_error_extobj\u001b[0m\u001b[0;34m(\u001b[0m\u001b[0m_raise_linalgerror_singular\u001b[0m\u001b[0;34m)\u001b[0m\u001b[0;34m\u001b[0m\u001b[0m\n\u001b[0;32m--> 375\u001b[0;31m     \u001b[0mr\u001b[0m \u001b[0;34m=\u001b[0m \u001b[0mgufunc\u001b[0m\u001b[0;34m(\u001b[0m\u001b[0ma\u001b[0m\u001b[0;34m,\u001b[0m \u001b[0mb\u001b[0m\u001b[0;34m,\u001b[0m \u001b[0msignature\u001b[0m\u001b[0;34m=\u001b[0m\u001b[0msignature\u001b[0m\u001b[0;34m,\u001b[0m \u001b[0mextobj\u001b[0m\u001b[0;34m=\u001b[0m\u001b[0mextobj\u001b[0m\u001b[0;34m)\u001b[0m\u001b[0;34m\u001b[0m\u001b[0m\n\u001b[0m\u001b[1;32m    376\u001b[0m \u001b[0;34m\u001b[0m\u001b[0m\n\u001b[1;32m    377\u001b[0m     \u001b[0;32mreturn\u001b[0m \u001b[0mwrap\u001b[0m\u001b[0;34m(\u001b[0m\u001b[0mr\u001b[0m\u001b[0;34m.\u001b[0m\u001b[0mastype\u001b[0m\u001b[0;34m(\u001b[0m\u001b[0mresult_t\u001b[0m\u001b[0;34m,\u001b[0m \u001b[0mcopy\u001b[0m\u001b[0;34m=\u001b[0m\u001b[0;32mFalse\u001b[0m\u001b[0;34m)\u001b[0m\u001b[0;34m)\u001b[0m\u001b[0;34m\u001b[0m\u001b[0m\n",
      "\u001b[0;31mTypeError\u001b[0m: No loop matching the specified signature and casting\nwas found for ufunc solve1"
     ]
    }
   ],
   "source": [
    "np.linalg.solve(AF,bF)"
   ]
  }
 ],
 "metadata": {
  "kernelspec": {
   "display_name": "Python 3",
   "language": "python3.4",
   "name": "python3"
  },
  "language_info": {
   "codemirror_mode": {
    "name": "ipython",
    "version": 3
   },
   "file_extension": ".py",
   "mimetype": "text/x-python",
   "name": "python",
   "nbconvert_exporter": "python",
   "pygments_lexer": "ipython3",
   "version": "3.4.5"
  }
 },
 "nbformat": 4,
 "nbformat_minor": 2
}
