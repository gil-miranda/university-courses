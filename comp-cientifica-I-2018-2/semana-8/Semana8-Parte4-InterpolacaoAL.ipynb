{
 "cells": [
  {
   "cell_type": "code",
   "execution_count": 2,
   "metadata": {},
   "outputs": [],
   "source": [
    "import numpy as np\n",
    "import matplotlib.pyplot as plt"
   ]
  },
  {
   "cell_type": "markdown",
   "metadata": {},
   "source": [
    "# Interpolação polinomial\n",
    "\n",
    "Vimos que os métodos de integração podem ser obtidos através de _regras_ que,\n",
    "dados alguns pontos no intervalo-padrão $[-1,1]$,\n",
    "calculam o polinômio que passa por eles, e calcula a integral do polinômio correspondente.\n",
    "\n",
    "Este procedimento de \"passar um polinômio\" por pontos dados é conhecido como interpolação polinomial"
   ]
  },
  {
   "cell_type": "code",
   "execution_count": 3,
   "metadata": {},
   "outputs": [
    {
     "data": {
      "image/png": "[encoded data removed]",
      "text/plain": [
       "<Figure size 432x288 with 1 Axes>"
      ]
     },
     "metadata": {
      "needs_background": "light"
     },
     "output_type": "display_data"
    }
   ],
   "source": [
    "xs = [0,1,2,5,10]\n",
    "ys = [2,3,4,5,7]\n",
    "plt.plot(xs,ys, 'o:')\n",
    "plt.show()"
   ]
  },
  {
   "cell_type": "markdown",
   "metadata": {},
   "source": [
    "## Interpolação e Álgebra Linear\n",
    "\n",
    "A idéia fundamental da interpolação polinomial é que, dados $n+1$ pontos conhecidos,\n",
    "existe apenas um polinômio de grau $n$ que passa por eles.\n",
    "Este será o \"melhor\" polinômio de grau menor ou igual a $n$ que interpola estes dados,\n",
    "e não faz muito sentido tentar achar polinômios de mais alto grau,\n",
    "porque existem infinitos que vão passar pelos mesmos pontos!\n",
    "\n",
    "Assim, temos que descobrir $n+1$ coeficientes - digamos $a_0, a_1, \\ldots, a_n$ -\n",
    "para o nosso polinômio, em função de $n+1$ pontos $x$ e $y$.\n",
    "Ora, temos exatamente $n+1$ equações lineares nos coeficientes $a_j$:\n",
    "$$ y_i = P(x_i) = \\sum_{j=0}^n a_j x_i^j \\quad\\text{para $i=0\\ldots n$.} $$\n",
    "Portanto, dados $x_i$ e $y_i$, basta montar a matriz $M$ correspondente a este sistema linear,\n",
    "e depois pedir para `np.linalg.solve()` retornar o vetor-solução contendo os $a_j$!"
   ]
  },
  {
   "cell_type": "code",
   "execution_count": 4,
   "metadata": {},
   "outputs": [
    {
     "data": {
      "text/plain": [
       "array([0., 0., 1.])"
      ]
     },
     "execution_count": 4,
     "metadata": {},
     "output_type": "execute_result"
    }
   ],
   "source": [
    "def lagrange_coefs(xs,ys):\n",
    "    \"\"\" Calcula os coeficientes do polinômio interpolador dos pontos $(x_i, y_i)$. \"\"\"\n",
    "    assert(len(xs) == len(ys))\n",
    "    n = len(xs) - 1\n",
    "    ### Resposta aqui\n",
    "    \n",
    "    M = [np.ones_like(xs)]\n",
    "    line = []\n",
    "    for i in range(n):\n",
    "        M.append(M[-1]*xs)\n",
    "    M = np.array(M).T\n",
    "    return np.linalg.solve(M,ys)\n",
    "lagrange_coefs([0,1,2], [0,1,4])"
   ]
  },
  {
   "cell_type": "code",
   "execution_count": 5,
   "metadata": {},
   "outputs": [
    {
     "data": {
      "text/plain": [
       "array([0., 0., 1.])"
      ]
     },
     "execution_count": 5,
     "metadata": {},
     "output_type": "execute_result"
    }
   ],
   "source": [
    "lagrange_coefs([0,1,2], [0,1,4])"
   ]
  },
  {
   "cell_type": "code",
   "execution_count": 6,
   "metadata": {},
   "outputs": [
    {
     "data": {
      "text/plain": [
       "array([2., 3., 1.])"
      ]
     },
     "execution_count": 6,
     "metadata": {},
     "output_type": "execute_result"
    }
   ],
   "source": [
    "lagrange_coefs([0,1,2], [2,6,12])"
   ]
  },
  {
   "cell_type": "code",
   "execution_count": 7,
   "metadata": {},
   "outputs": [
    {
     "data": {
      "text/plain": [
       "array([ 9.9970002e+07, -1.9997000e+04,  1.0000000e+00])"
      ]
     },
     "execution_count": 7,
     "metadata": {},
     "output_type": "execute_result"
    }
   ],
   "source": [
    "lagrange_coefs([10000,10001,10002], [2,6,12])"
   ]
  },
  {
   "cell_type": "code",
   "execution_count": 8,
   "metadata": {},
   "outputs": [
    {
     "data": {
      "text/plain": [
       "array([ 2.        ,  1.66666667,  0.        , -0.66666667])"
      ]
     },
     "execution_count": 8,
     "metadata": {},
     "output_type": "execute_result"
    }
   ],
   "source": [
    "lagrange_coefs([-1,0,1,-2], [1,2,3,4])"
   ]
  },
  {
   "cell_type": "code",
   "execution_count": 9,
   "metadata": {},
   "outputs": [
    {
     "data": {
      "text/plain": [
       "array([ 2.        ,  0.88055556,  0.18972222, -0.07555556,  0.00527778])"
      ]
     },
     "execution_count": 9,
     "metadata": {},
     "output_type": "execute_result"
    }
   ],
   "source": [
    "lagrange_coefs(xs, ys)"
   ]
  },
  {
   "cell_type": "markdown",
   "metadata": {},
   "source": [
    "## Uma digressão: o método de Horner para calcular polinômios\n",
    "\n",
    "Um polinômio é definido por seus $n+1$ coeficientes.\n",
    "Imagine que você queira fazer uma função que calcula $P(x)$ dado um vetor de coeficientes.\n",
    "Uma forma é usar a definição:\n",
    "$$ P(x) = \\sum _ {k=0}^n a_k x^k $$\n",
    "que se traduz diretamente em código.\n",
    "Mas este método faz \"contas demais\".\n",
    "Note que ele faz $n$ multiplicações (para cada termo, menos o $i=0$), $n$ adições,\n",
    "e ainda tem que calcular as potências de $x$.\n",
    "\n",
    "A idéia é fazer as contas \"ao contrário\", pensando no polinômio da seguinte forma:\n",
    "$$ P(x) = a_0 + xQ(x) = a_0 + x(a_1 + xR(x)) = \\ldots = a_0 + x(a_1 + x(a_2 + x(\\cdots + x\\big(a _ {n-1} + x(a_n)\\big) \\cdots) )), $$\n",
    "e operar \"de dentro para fora dos parêntesis\".\n",
    "Este procedimento é conhecido como _método de Horner_ para polinômios."
   ]
  },
  {
   "cell_type": "code",
   "execution_count": 10,
   "metadata": {},
   "outputs": [],
   "source": [
    "def Horner(rcoeff):\n",
    "    \"\"\" Método de Horner. Dados os coeficientes em ordem inversa, [a_n, ... a_1, a_0],\n",
    "        retorna uma função que calcula o polinômio correspondente. \"\"\"\n",
    "    def H(x,p):\n",
    "        p0, *p_rest = p\n",
    "        if len(p_rest) == 0:\n",
    "            return p0 * np.ones_like(x)\n",
    "        else:\n",
    "            return p0 + x*H(x,p_rest)\n",
    "    \n",
    "    def p(x):\n",
    "        return H(x,rcoeff)\n",
    "        \n",
    "    return p"
   ]
  },
  {
   "cell_type": "code",
   "execution_count": 11,
   "metadata": {},
   "outputs": [
    {
     "name": "stdout",
     "output_type": "stream",
     "text": [
      "[3, 5, 6, 7]\n"
     ]
    }
   ],
   "source": [
    "c, *c_rest = [2,3,5,6,7]\n",
    "print(c_rest)"
   ]
  },
  {
   "cell_type": "code",
   "execution_count": 12,
   "metadata": {},
   "outputs": [],
   "source": [
    "def Horner_for(coeffs):\n",
    "    def p(x):\n",
    "        acc, *acc_rest = coeffs \n",
    "        for c in acc_rest:\n",
    "            acc *= x\n",
    "            acc += c\n",
    "        return acc\n",
    "    return p"
   ]
  },
  {
   "cell_type": "markdown",
   "metadata": {},
   "source": [
    "Agora, juntamos tudo numa função que retorna o polinômio interpolador:"
   ]
  },
  {
   "cell_type": "code",
   "execution_count": 13,
   "metadata": {},
   "outputs": [],
   "source": [
    "def lagrange(xs,ys):\n",
    "    \"\"\" Retorna uma função que calcula polinômio interpolador de Lagrange dos pontos $(x_i, y_i)$. \"\"\"\n",
    "    a = lagrange_coefs(xs,ys)\n",
    "    return Horner_for(a[::-1])"
   ]
  },
  {
   "cell_type": "markdown",
   "metadata": {},
   "source": [
    "Vejamos como fica o gráfico do polinômio interpolador para nossos dados!"
   ]
  },
  {
   "cell_type": "code",
   "execution_count": 14,
   "metadata": {},
   "outputs": [
    {
     "data": {
      "image/png": "[encoded data removed]",
      "text/plain": [
       "<Figure size 432x288 with 1 Axes>"
      ]
     },
     "metadata": {
      "needs_background": "light"
     },
     "output_type": "display_data"
    }
   ],
   "source": [
    "p_i_l = lagrange(xs,ys)\n",
    "ts = np.linspace(-1,11,100)\n",
    "plt.plot(ts, p_i_l(ts))\n",
    "plt.plot(xs,ys, 'o')\n",
    "plt.show()"
   ]
  },
  {
   "cell_type": "markdown",
   "metadata": {},
   "source": [
    "O que vemos aqui é um fenômeno estranho:\n",
    "apesar de os dados serem crescentes, o interpolador não é crescente!\n",
    "\n",
    "Este é um dos problemas que atingem a interpolação de Lagrange.\n",
    "Veremos porquê."
   ]
  },
  {
   "cell_type": "markdown",
   "metadata": {},
   "source": [
    "## Interpolação de Lagrange: mais Álgebra Linear\n",
    "\n",
    "Apesar de termos formulado o problema de interpolação de Lagrange como a solução de um sistema linear,\n",
    "é possível expressar a solução de outras formas."
   ]
  },
  {
   "cell_type": "markdown",
   "metadata": {},
   "source": [
    "### Polinômios especiais\n",
    "\n",
    "Como estamos trabalhando com polinômios de grau 4 (porque temos 5 pontos),\n",
    "o maior número de zeros que um tal polinômio pode ter é 4.\n",
    "Aliás, é exatamente isso que garante que a solução é _única_.\n",
    "\n",
    "Vejamos que, dados 5 pontos, existem polinômios de grau 4 que são \"mais especiais\" do que outros.\n",
    "Especial também pode ser \"simples\", e por isso vamos tentar achar polinômios \"mais simples\".\n",
    "Uma idéia nessa direção é a seguinte: para cada um dos pontos $x_i$,\n",
    "existe um único polinômio $P_i$ que vale $1$ neste ponto, e $0$ nos outros 4.\n",
    "Como ele vale zero em 4 pontos e tem grau 4, ele tem que ser da forma\n",
    "$$ P_i(x) = C_i \\prod_{j \\neq i} (x - x_j), $$\n",
    "onde $C_i$ é uma constante.\n",
    "Ora, se $P_i(x_i) = 1$, isso dá uma equação para $C_i$:\n",
    "$$ 1 = C_i \\prod_{j \\neq i} (x_i - x_j). $$\n",
    "Assim, temos:\n",
    "$$ P_i = \\prod_{j \\neq i} \\frac{x - x_j}{x_i - x_j}.$$"
   ]
  },
  {
   "cell_type": "markdown",
   "metadata": {},
   "source": [
    "Agora, note que se uma função $f$ vale $y_0 \\neq 0$ em $x_0$\n",
    "a _única_ forma de, usando os $P_i$, obter este valor será usando $y_0 \\times P_i(x)$."
   ]
  },
  {
   "cell_type": "markdown",
   "metadata": {},
   "source": [
    "### Exercício\n",
    "\n",
    "Deduza a fórmula _de Lagrange_ do polinômio interpolador dos pontos $(x_i, y_i)$:\n",
    "$$ I(x) = \\sum_{i = 0}^n \\left[ y_i \\prod_{j \\neq i} \\frac{x - x_j}{x_i - x_j} \\right]. $$\n",
    "\n",
    "### Exercício\n",
    "\n",
    "Faça o gráfico dos 5 polinômios $P_i$ para os pontos $x = [0,1,2,5,10]$."
   ]
  },
  {
   "cell_type": "code",
   "execution_count": 17,
   "metadata": {},
   "outputs": [
    {
     "ename": "SyntaxError",
     "evalue": "unexpected EOF while parsing (<ipython-input-17-9c34612d62f2>, line 2)",
     "output_type": "error",
     "traceback": [
      "\u001b[0;36m  File \u001b[0;32m\"<ipython-input-17-9c34612d62f2>\"\u001b[0;36m, line \u001b[0;32m2\u001b[0m\n\u001b[0;31m    ### Resposta aqui\u001b[0m\n\u001b[0m                     ^\u001b[0m\n\u001b[0;31mSyntaxError\u001b[0m\u001b[0;31m:\u001b[0m unexpected EOF while parsing\n"
     ]
    }
   ],
   "source": [
    "def lagrange_basis(xs):\n",
    "    ### Resposta aqui\n"
   ]
  },
  {
   "cell_type": "code",
   "execution_count": 18,
   "metadata": {},
   "outputs": [
    {
     "ename": "NameError",
     "evalue": "name 'lagrange_basis' is not defined",
     "output_type": "error",
     "traceback": [
      "\u001b[0;31m---------------------------------------------------------------------------\u001b[0m",
      "\u001b[0;31mNameError\u001b[0m                                 Traceback (most recent call last)",
      "\u001b[0;32m<ipython-input-18-9e86b903e2d0>\u001b[0m in \u001b[0;36m<module>\u001b[0;34m()\u001b[0m\n\u001b[0;32m----> 1\u001b[0;31m \u001b[0mPis\u001b[0m \u001b[0;34m=\u001b[0m \u001b[0mlagrange_basis\u001b[0m\u001b[0;34m(\u001b[0m\u001b[0mxs\u001b[0m\u001b[0;34m)\u001b[0m\u001b[0;34m\u001b[0m\u001b[0m\n\u001b[0m",
      "\u001b[0;31mNameError\u001b[0m: name 'lagrange_basis' is not defined"
     ]
    }
   ],
   "source": [
    "Pis = lagrange_basis(xs)"
   ]
  },
  {
   "cell_type": "code",
   "execution_count": 19,
   "metadata": {},
   "outputs": [
    {
     "ename": "NameError",
     "evalue": "name 'Pis' is not defined",
     "output_type": "error",
     "traceback": [
      "\u001b[0;31m---------------------------------------------------------------------------\u001b[0m",
      "\u001b[0;31mNameError\u001b[0m                                 Traceback (most recent call last)",
      "\u001b[0;32m<ipython-input-19-55e19513678b>\u001b[0m in \u001b[0;36m<module>\u001b[0;34m()\u001b[0m\n\u001b[1;32m      1\u001b[0m \u001b[0mts\u001b[0m \u001b[0;34m=\u001b[0m \u001b[0mnp\u001b[0m\u001b[0;34m.\u001b[0m\u001b[0mlinspace\u001b[0m\u001b[0;34m(\u001b[0m\u001b[0;34m-\u001b[0m\u001b[0;36m1\u001b[0m\u001b[0;34m,\u001b[0m\u001b[0;36m11\u001b[0m\u001b[0;34m,\u001b[0m\u001b[0;36m200\u001b[0m\u001b[0;34m)\u001b[0m\u001b[0;34m\u001b[0m\u001b[0m\n\u001b[0;32m----> 2\u001b[0;31m \u001b[0;32mfor\u001b[0m \u001b[0mi\u001b[0m\u001b[0;34m,\u001b[0m\u001b[0mP\u001b[0m \u001b[0;32min\u001b[0m \u001b[0menumerate\u001b[0m\u001b[0;34m(\u001b[0m\u001b[0mPis\u001b[0m\u001b[0;34m)\u001b[0m\u001b[0;34m:\u001b[0m\u001b[0;34m\u001b[0m\u001b[0m\n\u001b[0m\u001b[1;32m      3\u001b[0m     \u001b[0mplt\u001b[0m\u001b[0;34m.\u001b[0m\u001b[0mplot\u001b[0m\u001b[0;34m(\u001b[0m\u001b[0mts\u001b[0m\u001b[0;34m,\u001b[0m \u001b[0mP\u001b[0m\u001b[0;34m(\u001b[0m\u001b[0mts\u001b[0m\u001b[0;34m)\u001b[0m\u001b[0;34m,\u001b[0m \u001b[0mlabel\u001b[0m\u001b[0;34m=\u001b[0m\u001b[0mstr\u001b[0m\u001b[0;34m(\u001b[0m\u001b[0mi\u001b[0m\u001b[0;34m)\u001b[0m\u001b[0;34m)\u001b[0m\u001b[0;34m\u001b[0m\u001b[0m\n\u001b[1;32m      4\u001b[0m \u001b[0mplt\u001b[0m\u001b[0;34m.\u001b[0m\u001b[0mplot\u001b[0m\u001b[0;34m(\u001b[0m\u001b[0mxs\u001b[0m\u001b[0;34m,\u001b[0m \u001b[0mnp\u001b[0m\u001b[0;34m.\u001b[0m\u001b[0mzeros_like\u001b[0m\u001b[0;34m(\u001b[0m\u001b[0mxs\u001b[0m\u001b[0;34m)\u001b[0m\u001b[0;34m,\u001b[0m \u001b[0;34m'o'\u001b[0m\u001b[0;34m)\u001b[0m\u001b[0;34m\u001b[0m\u001b[0m\n\u001b[1;32m      5\u001b[0m \u001b[0mplt\u001b[0m\u001b[0;34m.\u001b[0m\u001b[0mlegend\u001b[0m\u001b[0;34m(\u001b[0m\u001b[0;34m)\u001b[0m\u001b[0;34m\u001b[0m\u001b[0m\n",
      "\u001b[0;31mNameError\u001b[0m: name 'Pis' is not defined"
     ]
    }
   ],
   "source": [
    "ts = np.linspace(-1,11,200)\n",
    "for i,P in enumerate(Pis):\n",
    "    plt.plot(ts, P(ts), label=str(i))\n",
    "plt.plot(xs, np.zeros_like(xs), 'o')\n",
    "plt.legend()\n",
    "plt.show()"
   ]
  },
  {
   "cell_type": "code",
   "execution_count": 20,
   "metadata": {},
   "outputs": [],
   "source": [
    "### Resposta aqui\n"
   ]
  },
  {
   "cell_type": "code",
   "execution_count": null,
   "metadata": {},
   "outputs": [],
   "source": []
  }
 ],
 "metadata": {
  "kernelspec": {
   "display_name": "Python 3",
   "language": "python",
   "name": "python3"
  },
  "language_info": {
   "codemirror_mode": {
    "name": "ipython",
    "version": 3
   },
   "file_extension": ".py",
   "mimetype": "text/x-python",
   "name": "python",
   "nbconvert_exporter": "python",
   "pygments_lexer": "ipython3",
   "version": "3.7.0"
  }
 },
 "nbformat": 4,
 "nbformat_minor": 1
}
