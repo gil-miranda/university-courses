{
 "cells": [
  {
   "cell_type": "code",
   "execution_count": 1,
   "metadata": {
    "deletable": false,
    "editable": false,
    "nbgrader": {
     "checksum": "77f7bd4bc4ca3e1dd08cfcbdb74f24f7",
     "grade": false,
     "grade_id": "cell-7dd2dd349bf8342b",
     "locked": true,
     "schema_version": 1,
     "solution": false
    }
   },
   "outputs": [],
   "source": [
    "import numpy as np\n",
    "import math"
   ]
  },
  {
   "cell_type": "markdown",
   "metadata": {
    "deletable": false,
    "editable": false,
    "nbgrader": {
     "checksum": "96ae83d1cc72adf5cfb874985c50d596",
     "grade": false,
     "grade_id": "cell-dfb3997479201010",
     "locked": true,
     "schema_version": 1,
     "solution": false
    }
   },
   "source": [
    "# Teste 0: O primeiro treino\n",
    "\n",
    "Este teste tem como intuito revisar os conceitos básicos de computação assim como de acostumar você aluno com a plataforma jupyter que usaremos durante os todo o curso de Científica I."
   ]
  },
  {
   "cell_type": "markdown",
   "metadata": {
    "deletable": false,
    "editable": false,
    "nbgrader": {
     "checksum": "c33f2c4e87205b13b4508b57ecee7680",
     "grade": false,
     "grade_id": "cell-8a3c6a2c393d4913",
     "locked": true,
     "schema_version": 1,
     "solution": false
    }
   },
   "source": [
    "## Conceitos chave\n",
    "\n",
    "Nas primeiras semanas do curso, além das operações aritméticas básicas (`+`, `-`, `*`, `/` e `**`),\n",
    "iremos usar na maior parte do tempo apenas três conceitos básicos do Python,\n",
    "logo é de suma importância estar confortável com eles:\n",
    "- `if/else`, para controle;\n",
    "- `for` para iterações;\n",
    "- a chamada de funções.\n",
    "\n",
    "Além disso, usaremos principalmente listas como estrutura de dados,\n",
    "então é bom estar confortável com\n",
    "- Acesso e modificação em listas; e\n",
    "- `append()`, para agregar elementos (em geral dentro de `for`s).\n",
    "\n",
    "Enfim, a função\n",
    "- `print()`, é bastante útil para debug.\n",
    "\n",
    "A recomendação aqui é que começando já nesse teste você começe a usar o `print` para visualizar a execução das funções que você elaborou e entender melhor se o código executa as tarefas da mesma maneira que você havia planejado (sempre que houver necessidade desse esforço adicional, é claro)."
   ]
  },
  {
   "cell_type": "markdown",
   "metadata": {
    "deletable": false,
    "editable": false,
    "nbgrader": {
     "checksum": "cdaa9c33e688b091f9e38d87a5735283",
     "grade": false,
     "grade_id": "cell-9ac85b490d5538ae",
     "locked": true,
     "schema_version": 1,
     "solution": false
    }
   },
   "source": [
    "# Potências de 2\n",
    "\n",
    "## Questão 1\n",
    "Escreva a função `list_pow_2` que dado um $n \\geq 0$ retorna a lista com as $n$ primeiras potências de $2$.\n",
    "\n",
    "Na célula abaixo você irá escrever sua solução, essa solução será usada para executar os testes na célula seguinte."
   ]
  },
  {
   "cell_type": "code",
   "execution_count": 2,
   "metadata": {
    "deletable": false,
    "nbgrader": {
     "checksum": "7238dcbd23ebb0d2a7c2f9cc61ce2579",
     "grade": false,
     "grade_id": "cell-b8a056316e17efc0",
     "locked": false,
     "schema_version": 1,
     "solution": true
    },
    "scrolled": true
   },
   "outputs": [],
   "source": [
    "def list_pow_2(n):\n",
    "    lst = []\n",
    "    while n>0:\n",
    "        pot = 2**(n-1) ## Calcula 2^n\n",
    "        lst.append(pot) ## Insere na lista lst[] o termo 2^n\n",
    "        n-=1\n",
    "    lst.reverse() ## invertendo a lista, pois foi inserido do maior para o menor\n",
    "    return lst"
   ]
  },
  {
   "cell_type": "markdown",
   "metadata": {},
   "source": [
    "#### Dica:\n",
    "\n",
    "Se os `assert`s estiverem dando errado, faça uma nova caixa com:\n",
    "```\n",
    "print(list_pow_2(1))\n",
    "print(list_pow_2(4))\n",
    "```"
   ]
  },
  {
   "cell_type": "code",
   "execution_count": 3,
   "metadata": {
    "deletable": false,
    "editable": false,
    "nbgrader": {
     "checksum": "c3e38352cea768734f3c91b5b5f469f5",
     "grade": true,
     "grade_id": "cell-682d08ec1b8faa91",
     "locked": true,
     "points": 2,
     "schema_version": 1,
     "solution": false
    }
   },
   "outputs": [],
   "source": [
    "assert list_pow_2(1) == [1]\n",
    "assert list_pow_2(4) == [1,2,4,8]\n",
    "assert list_pow_2(10) == [1,2,4,8,16,32,64,128,256,512]"
   ]
  },
  {
   "cell_type": "markdown",
   "metadata": {},
   "source": [
    "## Questão 2:\n",
    "\n",
    "Escreva a função `sum_pow_2` que retorna a soma das potências $2^0 + 2^1 + ... + 2^{n-1}$"
   ]
  },
  {
   "cell_type": "markdown",
   "metadata": {},
   "source": [
    "Dica: use uma função que você já fez!"
   ]
  },
  {
   "cell_type": "code",
   "execution_count": 27,
   "metadata": {
    "deletable": false,
    "nbgrader": {
     "checksum": "9e67fd9693ce67ac5b73c10d4fbf6f19",
     "grade": false,
     "grade_id": "cell-b4caf8aa9dc3f1ee",
     "locked": false,
     "schema_version": 1,
     "solution": true
    }
   },
   "outputs": [],
   "source": [
    "def sum_pow_2(n):    \n",
    "    return sum(list_pow_2(n))"
   ]
  },
  {
   "cell_type": "code",
   "execution_count": 28,
   "metadata": {
    "deletable": false,
    "editable": false,
    "nbgrader": {
     "checksum": "bd0c8838dc74f116e8cc922b621061c4",
     "grade": true,
     "grade_id": "cell-69dfa48327bd4131",
     "locked": true,
     "points": 2,
     "schema_version": 1,
     "solution": false
    }
   },
   "outputs": [],
   "source": [
    "assert sum_pow_2(1) == 1\n",
    "assert sum_pow_2(4) == 15\n",
    "assert sum_pow_2(10) == 1023"
   ]
  },
  {
   "cell_type": "code",
   "execution_count": 29,
   "metadata": {
    "deletable": false,
    "editable": false,
    "nbgrader": {
     "checksum": "5a978831a2ee5a9594ab1e3f814bdb71",
     "grade": true,
     "grade_id": "cell-92d3249f6f5b4ee6",
     "locked": true,
     "points": 2,
     "schema_version": 1,
     "solution": false
    }
   },
   "outputs": [],
   "source": [
    "## Nesta célula há testes ocultos: não a apague\n"
   ]
  },
  {
   "cell_type": "markdown",
   "metadata": {},
   "source": [
    "# Brincando com polinômios\n",
    "\n",
    "Nessa parte, iremos representar um polinômio\n",
    "$p(x) = a_0 + a_1x^1 + \\cdots + a_nx^n$\n",
    "pela sua lista de coeficientes $[a_0, \\ldots, a_n]$.\n",
    "\n",
    "## Questão 3: Calculando o valor do polinômio em um ponto\n",
    "\n",
    "Implemente a função `eval_pol(x,coefs)` que, dado um ponto $x$ e os coeficientes do polinômio,\n",
    "retorna o valor de $p(x)$."
   ]
  },
  {
   "cell_type": "code",
   "execution_count": 30,
   "metadata": {
    "deletable": false,
    "nbgrader": {
     "checksum": "252dd56009fc6dc18c347661d88768b7",
     "grade": false,
     "grade_id": "cell-6af30ea719e02d17",
     "locked": false,
     "schema_version": 1,
     "solution": true
    }
   },
   "outputs": [],
   "source": [
    "def eval_pol(x,coefs):    \n",
    "    lst = []\n",
    "    i=0\n",
    "    while i<len(coefs):\n",
    "        pol = (x**i)*coefs[i]\n",
    "        lst.append(pol)\n",
    "        i+=1 \n",
    "    return sum(lst)\n",
    "        "
   ]
  },
  {
   "cell_type": "code",
   "execution_count": 31,
   "metadata": {},
   "outputs": [
    {
     "data": {
      "text/plain": [
       "4"
      ]
     },
     "execution_count": 31,
     "metadata": {},
     "output_type": "execute_result"
    }
   ],
   "source": [
    "## Teste sua solução nesta caixa!\n",
    "\n",
    "p = [0,0,1] # p(x) = x^2\n",
    "eval_pol(2,p) ## p(2) = 2^2\n",
    "\n",
    "# Você pode também usar print() se quiser, mas talvez seja mais fácil criar novas caixas e ver o resultado ;-)"
   ]
  },
  {
   "cell_type": "code",
   "execution_count": 32,
   "metadata": {
    "deletable": false,
    "editable": false,
    "nbgrader": {
     "checksum": "7e2fa0070a6b1045bfbd51182efce76f",
     "grade": true,
     "grade_id": "cell-dfed93db43e1afd5",
     "locked": true,
     "points": 2,
     "schema_version": 1,
     "solution": false
    }
   },
   "outputs": [],
   "source": [
    "# Um polinômio simples\n",
    "p1 = [0,0,1]\n",
    "\n",
    "assert eval_pol(1,p1) == 1\n",
    "assert eval_pol(2,p1) == 4\n",
    "assert eval_pol(10,p1) == 100"
   ]
  },
  {
   "cell_type": "code",
   "execution_count": 33,
   "metadata": {
    "deletable": false,
    "editable": false,
    "nbgrader": {
     "checksum": "d427d67b6a775d4d5d7535da2a937cdb",
     "grade": true,
     "grade_id": "cell-6dcfde37a4aebfac",
     "locked": true,
     "points": 2,
     "schema_version": 1,
     "solution": false
    }
   },
   "outputs": [],
   "source": [
    "# Um polinômio um pouco mais complicado\n",
    "p2 = [0,1,2,3]\n",
    "assert eval_pol(1,p2) == 6\n",
    "assert eval_pol(2,p2) == 34"
   ]
  },
  {
   "cell_type": "code",
   "execution_count": 34,
   "metadata": {
    "deletable": false,
    "editable": false,
    "nbgrader": {
     "checksum": "4449616125aded687eede60cd573e7a5",
     "grade": true,
     "grade_id": "cell-3dc43f68fefc54e3",
     "locked": true,
     "points": 3,
     "schema_version": 1,
     "solution": false
    }
   },
   "outputs": [],
   "source": [
    "## Mais testes ocultos\n"
   ]
  },
  {
   "cell_type": "markdown",
   "metadata": {
    "deletable": false,
    "editable": false,
    "nbgrader": {
     "checksum": "78b4abbdcc9cfc5795c8ad0ecffef8a6",
     "grade": false,
     "grade_id": "cell-ac1ed26b7f2d6916",
     "locked": true,
     "schema_version": 1,
     "solution": false
    }
   },
   "source": [
    "## Questão 4: Integrando um polinômio de grau conhecido\n",
    "\n",
    "Durante todo o nosso curso, integração será um assunto importante.\n",
    "Comecemos então com a nossa primeira integral numérica (não tão numérica assim...).\n",
    "\n",
    "Escreva a função `integrate_small(x,coefs)` que,\n",
    "dados um número real $x$ e a lista de coeficientes do polinômio $p(x) = a_0 + a_1x + a_2x^2$ (de grau 2)\n",
    "retorna o valor da sua integral definida: $q(x) = \\int_{0}^{x} p(t)dt.$"
   ]
  },
  {
   "cell_type": "code",
   "execution_count": 44,
   "metadata": {
    "deletable": false,
    "nbgrader": {
     "checksum": "6dfe0502be4ffb93f3c52271c18c83a6",
     "grade": false,
     "grade_id": "cell-b94cb1ac19375726",
     "locked": false,
     "schema_version": 1,
     "solution": true
    }
   },
   "outputs": [],
   "source": [
    "def integrate_small(x,coefs):    \n",
    "    ## Aplicando o TFC terminamos com o polinomio: a_0*x + (a_1*x^2)/2 + (a_2*x^3)/3\n",
    "    coefs[1]=coefs[1]/2.0 ## altera a lista para o TFC aplicado ao coeficiente\n",
    "    coefs[2]=coefs[2]/3.0 ## altera a lista para o TFC aplicado ao coeficiente\n",
    "    coefs.reverse() ## inverte a lista para proposito seguinte: [a_2,a_1,a_0]\n",
    "    coefs.append(0) ## insere coeficiente 0 onde x=0: [a_2,a_1,a_0,0]\n",
    "    coefs.reverse() ## inverte a lista novamente para criar a lista: [0,a_0,a_1,a_2]\n",
    "    return eval_pol(x,coefs) ##soma o polinomio 0+a_0*x+(a_1)/2*x^2+(a_2)/3*x^3\n",
    "    integrate_small(1,[0,2,0])\n",
    "    #eval_pol(n)\n",
    "    #lst = []\n",
    "    #i=0\n",
    "    #while i<len(coefs):\n",
    "    #    pol = (x**i)*coefs[i]\n",
    "    #    lst.append(pol)\n",
    "    #    i+=1\n",
    "    #return sum(lst)\n",
    "\n",
    "   # valor=0\n",
    "    #for i in range(1,len(coefs)+1):\n",
    "    #    valor += (coefs[i-1]/(i))*(x**i)\n",
    "    #return valor"
   ]
  },
  {
   "cell_type": "code",
   "execution_count": 50,
   "metadata": {},
   "outputs": [],
   "source": [
    "assert integrate_small(2,[0,2,0]) == 4"
   ]
  },
  {
   "cell_type": "code",
   "execution_count": 51,
   "metadata": {
    "deletable": false,
    "editable": false,
    "nbgrader": {
     "checksum": "fb4f96aa4d1e40f5802d8882b393ddcf",
     "grade": true,
     "grade_id": "cell-fb520fb7ec4ddfe7",
     "locked": true,
     "points": 2,
     "schema_version": 1,
     "solution": false
    }
   },
   "outputs": [
    {
     "ename": "AssertionError",
     "evalue": "",
     "output_type": "error",
     "traceback": [
      "\u001b[1;31m---------------------------------------------------------------------------\u001b[0m",
      "\u001b[1;31mAssertionError\u001b[0m                            Traceback (most recent call last)",
      "\u001b[1;32m<ipython-input-51-61e21acc0c3d>\u001b[0m in \u001b[0;36m<module>\u001b[1;34m()\u001b[0m\n\u001b[0;32m      3\u001b[0m \u001b[1;33m\u001b[0m\u001b[0m\n\u001b[0;32m      4\u001b[0m \u001b[1;32massert\u001b[0m \u001b[0mintegrate_small\u001b[0m\u001b[1;33m(\u001b[0m\u001b[1;36m1\u001b[0m\u001b[1;33m,\u001b[0m\u001b[0mp1\u001b[0m\u001b[1;33m)\u001b[0m \u001b[1;33m==\u001b[0m \u001b[1;36m1\u001b[0m\u001b[1;33m\u001b[0m\u001b[0m\n\u001b[1;32m----> 5\u001b[1;33m \u001b[1;32massert\u001b[0m \u001b[0mintegrate_small\u001b[0m\u001b[1;33m(\u001b[0m\u001b[1;36m2\u001b[0m\u001b[1;33m,\u001b[0m\u001b[0mp1\u001b[0m\u001b[1;33m)\u001b[0m \u001b[1;33m==\u001b[0m \u001b[1;36m4\u001b[0m\u001b[1;33m\u001b[0m\u001b[0m\n\u001b[0m\u001b[0;32m      6\u001b[0m \u001b[1;32massert\u001b[0m \u001b[0mintegrate_small\u001b[0m\u001b[1;33m(\u001b[0m\u001b[1;36m3\u001b[0m\u001b[1;33m,\u001b[0m\u001b[0mp2\u001b[0m\u001b[1;33m)\u001b[0m \u001b[1;33m==\u001b[0m \u001b[1;36m12\u001b[0m\u001b[1;33m\u001b[0m\u001b[0m\n\u001b[0;32m      7\u001b[0m \u001b[1;32massert\u001b[0m \u001b[0mintegrate_small\u001b[0m\u001b[1;33m(\u001b[0m\u001b[1;33m-\u001b[0m\u001b[1;36m3\u001b[0m\u001b[1;33m,\u001b[0m\u001b[0mp2\u001b[0m\u001b[1;33m)\u001b[0m \u001b[1;33m==\u001b[0m \u001b[1;33m-\u001b[0m\u001b[1;36m12\u001b[0m \u001b[1;31m# Essa resposta faz sentido???\u001b[0m\u001b[1;33m\u001b[0m\u001b[0m\n",
      "\u001b[1;31mAssertionError\u001b[0m: "
     ]
    }
   ],
   "source": [
    "p1 = [0,2,0]\n",
    "p2 = [1,0,1]\n",
    "\n",
    "assert integrate_small(1,p1) == 1\n",
    "assert integrate_small(2,p1) == 4\n",
    "assert integrate_small(3,p2) == 12\n",
    "assert integrate_small(-3,p2) == -12 # Essa resposta faz sentido???"
   ]
  },
  {
   "cell_type": "markdown",
   "metadata": {
    "deletable": false,
    "editable": false,
    "nbgrader": {
     "checksum": "7ea1ab852180a838ae98c08a3069792f",
     "grade": false,
     "grade_id": "cell-52b232a04d7dd25d",
     "locked": true,
     "schema_version": 1,
     "solution": false
    }
   },
   "source": [
    "## Questão 5: Integrando polinômios de grau qualquer\n",
    "\n",
    "Agora, implemente a função `integrate(x,coefs)` que,\n",
    "dados um número real $x$ e a lista de coeficientes (de tamanho arbitrário) $[a_0,a_1,...,a_n]$,\n",
    "retorna o valor da sua integral definida $q(x) = \\int_{0}^{x} p(t) \\, dt$."
   ]
  },
  {
   "cell_type": "code",
   "execution_count": 37,
   "metadata": {
    "deletable": false,
    "nbgrader": {
     "checksum": "dc462db2865eef7846900a4c58fc203f",
     "grade": false,
     "grade_id": "cell-ec1e51bfe8d5dff8",
     "locked": false,
     "schema_version": 1,
     "solution": true
    }
   },
   "outputs": [],
   "source": [
    "def integrate(x,coefs):\n",
    "    valor=0\n",
    "    for i in range(1,len(coefs)+1):\n",
    "        valor += (coefs[i-1]/(i))*(x**i)\n",
    "    return valor\n"
   ]
  },
  {
   "cell_type": "code",
   "execution_count": 38,
   "metadata": {
    "deletable": false,
    "editable": false,
    "nbgrader": {
     "checksum": "39356c557ba1b53f2d2490f5dd3f1174",
     "grade": true,
     "grade_id": "cell-d6c15346a27ae121",
     "locked": true,
     "points": 2,
     "schema_version": 1,
     "solution": false
    }
   },
   "outputs": [],
   "source": [
    "assert np.isclose(integrate(3, [1,4,0,2,-1]), 12.9, atol=1e-12, rtol=1e-12)\n",
    "assert np.isclose(integrate(1, [1,2,3,4,5,6,7,8,9,10]), 10, atol=1e-12, rtol=1e-12)"
   ]
  },
  {
   "cell_type": "code",
   "execution_count": 39,
   "metadata": {
    "deletable": false,
    "editable": false,
    "nbgrader": {
     "checksum": "df43f5a937630067abd19e1ecc45a1c8",
     "grade": true,
     "grade_id": "cell-9bbae83af8841907",
     "locked": true,
     "points": 2,
     "schema_version": 1,
     "solution": false
    }
   },
   "outputs": [],
   "source": [
    "# Se tudo deu certo, os asserts \"aleatórios\" a seguir deveriam funcionar\n",
    "\n",
    "np.random.seed(1)\n",
    "valores = np.random.random(100) # Gera 100 números aleatórios entre 0 e 1\n",
    "\n",
    "def gera_coefs(n):\n",
    "    \"\"\"Gera os coeficientes de um polinômio de grau $n$\"\"\"\n",
    "    coefs = []    \n",
    "    for k in range(n+1):\n",
    "        coefs.append(1/math.factorial(k))\n",
    "    return coefs\n",
    "\n",
    "coefs = gera_coefs(10) # Gera os coeficientes do polinômio\n",
    "\n",
    "for x in valores:\n",
    "    diferenca = eval_pol(x, coefs) - integrate(x, coefs)\n",
    "    assert abs(diferenca - 1) < 0.01 # Testa se a diferença está próxima de 1"
   ]
  },
  {
   "cell_type": "markdown",
   "metadata": {
    "deletable": false,
    "editable": false,
    "nbgrader": {
     "checksum": "92f9a9112337da81c100456dbd393104",
     "grade": false,
     "grade_id": "cell-993c489371822f5e",
     "locked": true,
     "schema_version": 1,
     "solution": false
    }
   },
   "source": [
    "No teste acima vimos que o polinômio $p(x)$ é tal que $\\int_{0}^{x} p(t)\\,dt \\approx p(x) - 1$.\n",
    "\n",
    "#### Pergunta: \n",
    "Qual função do cálculo 1 você conhece que se comporta de forma parecida com esse polinômio?\n",
    "Responda na caixa abaixo."
   ]
  },
  {
   "cell_type": "markdown",
   "metadata": {
    "deletable": false,
    "nbgrader": {
     "checksum": "e4a27edd242f4cee353e2e9f8f6fe780",
     "grade": true,
     "grade_id": "cell-7f0c198eca46aef5",
     "locked": false,
     "points": 3,
     "schema_version": 1,
     "solution": true
    }
   },
   "source": [
    "$$f(x) = e^x$$"
   ]
  },
  {
   "cell_type": "markdown",
   "metadata": {
    "deletable": false,
    "editable": false,
    "nbgrader": {
     "checksum": "501618dcc44870c0d2fb6115c4e02eaf",
     "grade": false,
     "grade_id": "cell-5da9bb9326ef23d8",
     "locked": true,
     "schema_version": 1,
     "solution": false
    }
   },
   "source": [
    "## Questão 6 (Bônus): Produto de dois polinômios\n",
    "\n",
    "Escreva a função `prod_pol(p,q)` que,\n",
    "dadas duas listas com os coeficientes de $p(x) = a_0 + a_1x + ... + a_nx^{n-1}$ e $q(x) = b_0 + b_1x + ... + b_mx^{m-1}$ retorne a lista dos coeficientes de $r(x) = p(x)q(x)$."
   ]
  },
  {
   "cell_type": "code",
   "execution_count": 17,
   "metadata": {
    "deletable": false,
    "nbgrader": {
     "checksum": "d423b3a910927d92c809a3d7e197cb3d",
     "grade": false,
     "grade_id": "cell-ea9ddeb9e516b54e",
     "locked": false,
     "schema_version": 1,
     "solution": true
    }
   },
   "outputs": [],
   "source": [
    "def prod_pol(p,q):\n",
    "    r = [] ## Polinomio produto\n",
    "    pol = [] ## Matriz auxiliar do calculo\n",
    "    \n",
    "    ## Criação da variavel grau, que guarda o grau do polinomio produto r(x)\n",
    "    ## Grau de r(x): pegar o termo de maior grau de cada polinomio e somar seus \"graus\"\n",
    "    grau=len(p)+len(q)-1\n",
    "    ## montagem das linhas da matriz auxiliar\n",
    "    for i in range(len(p)):\n",
    "        pol.append([])\n",
    "        i+=1\n",
    "    ## Criando a matriz pol[]\n",
    "    for i in range(len(p)):\n",
    "        \n",
    "        ## Preenchendo com 0 os termos iniciais de cada linha da matriz, onde necessário for\n",
    "        if(i>0):\n",
    "            for w in range (i):\n",
    "                pol[i].append(0)\n",
    "                w+=1\n",
    "        ## Preenchendo os coeficientes na matriz        \n",
    "        for j in range(len(q)):\n",
    "            pol[i].append(p[i]*q[j])\n",
    "        ## Preenchendo com 0 os termos finais da matriz, onde necessário for\n",
    "        for z in range(grau-len(pol[i])):\n",
    "            pol[i].append(0)\n",
    "            z+=1\n",
    "    \n",
    "    for i in range(grau): ## Criação do polinomio r(x)\n",
    "        r.append(0)\n",
    "\n",
    "    ## Somando os termos de mesmo grau e preenchendo os coeficientes em r(x)\n",
    "    for i in range(grau):\n",
    "        for j in range(len(p)):\n",
    "            r[i] += pol[j][i]\n",
    "    return r"
   ]
  },
  {
   "cell_type": "code",
   "execution_count": 18,
   "metadata": {
    "deletable": false,
    "editable": false,
    "nbgrader": {
     "checksum": "59cfb64cc6633a51c6d5310c3d029baf",
     "grade": true,
     "grade_id": "cell-2baabbecab39a3a3",
     "locked": true,
     "points": 1,
     "schema_version": 1,
     "solution": false
    }
   },
   "outputs": [],
   "source": [
    "assert prod_pol([1,2],[2,1]) == [2,5,2]\n",
    "assert prod_pol([0,1],[0,0,1]) == [0,0,0,1]"
   ]
  },
  {
   "cell_type": "code",
   "execution_count": 19,
   "metadata": {
    "deletable": false,
    "editable": false,
    "nbgrader": {
     "checksum": "b76fe21e0d83e2ad74509aa4d8cef5cd",
     "grade": true,
     "grade_id": "cell-17405b137643c561",
     "locked": true,
     "points": 1,
     "schema_version": 1,
     "solution": false
    }
   },
   "outputs": [],
   "source": [
    "assert prod_pol([1,2,3],[1,2]) == [1,4,7,6]\n",
    "assert prod_pol([1,2,3],[3,2,1]) == [3,8,14,8,3]"
   ]
  },
  {
   "cell_type": "code",
   "execution_count": 20,
   "metadata": {
    "deletable": false,
    "editable": false,
    "nbgrader": {
     "checksum": "a4a824a74d4f43502591026d23d49333",
     "grade": true,
     "grade_id": "cell-8cf952b54a4de37e",
     "locked": true,
     "points": 1,
     "schema_version": 1,
     "solution": false
    }
   },
   "outputs": [],
   "source": [
    "coefs = prod_pol([0],[1,2,3])\n",
    "\n",
    "for x in np.random.random(100):\n",
    "    assert eval_pol(x,prod_pol([0],[1,2,3])) == 0 # Produto por zero deveria ser o polinômio zero não?"
   ]
  },
  {
   "cell_type": "code",
   "execution_count": 21,
   "metadata": {
    "deletable": false,
    "editable": false,
    "nbgrader": {
     "checksum": "259b26eedb4ca9cca5ed7aab8e0a36fd",
     "grade": true,
     "grade_id": "cell-17d18eccd1ee0615",
     "locked": true,
     "points": 2,
     "schema_version": 1,
     "solution": false
    }
   },
   "outputs": [],
   "source": [
    "# Testando com polinômios de tamanho e coeficientes aleatórios\n"
   ]
  }
 ],
 "metadata": {
  "kernelspec": {
   "display_name": "Python 3",
   "language": "python",
   "name": "python3"
  },
  "language_info": {
   "codemirror_mode": {
    "name": "ipython",
    "version": 3
   },
   "file_extension": ".py",
   "mimetype": "text/x-python",
   "name": "python",
   "nbconvert_exporter": "python",
   "pygments_lexer": "ipython3",
   "version": "3.6.5"
  }
 },
 "nbformat": 4,
 "nbformat_minor": 2
}
