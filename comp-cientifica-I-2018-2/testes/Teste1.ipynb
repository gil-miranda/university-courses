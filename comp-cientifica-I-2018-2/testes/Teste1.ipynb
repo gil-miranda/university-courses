{
 "cells": [
  {
   "cell_type": "code",
   "execution_count": 1,
   "metadata": {},
   "outputs": [],
   "source": [
    "import numpy as np"
   ]
  },
  {
   "cell_type": "markdown",
   "metadata": {
    "deletable": false,
    "editable": false,
    "nbgrader": {
     "checksum": "2cdefa4aeed3d534525f1e599ed68c57",
     "grade": false,
     "grade_id": "cell-7c28685c985c514c",
     "locked": true,
     "schema_version": 1,
     "solution": false
    }
   },
   "source": [
    "## Questão 1:\n",
    "\n",
    "Continuando de onde paramos no último teste, implemente a função `derivate_pol(x, coefs)`,\n",
    "que calcula a derivada do polinômio $p(t) = a_0 + a_1 t + a_2 t^2 + ... + a_n t^n$,\n",
    "representado pela sua lista de coeficientes $[a_0, a_1, \\ldots, a_n]$ no ponto `x`.\n",
    "\n",
    "**Dica:** Use a função [`enumerate()`](https://docs.python.org/3/library/functions.html#enumerate)."
   ]
  },
  {
   "cell_type": "code",
   "execution_count": 2,
   "metadata": {
    "deletable": false,
    "nbgrader": {
     "checksum": "48e53f9f26a80f28753d8ea6650ec66b",
     "grade": false,
     "grade_id": "cell-ce4bdb4be2877a6b",
     "locked": false,
     "schema_version": 1,
     "solution": true
    }
   },
   "outputs": [],
   "source": [
    "def derivate_pol(x, coefs):\n",
    "    ## enumerate() fará com que cada coeficiente fique associado a seu respectivo grau em uma tupla (x,y)\n",
    "    pol = list(enumerate(coefs))\n",
    "    lst = [] ## lista a receber os coeficientes já derivados e aplicados ao ponto x\n",
    "    for i in pol:\n",
    "        n = ((i[1])*(i[0]))*(x**(i[0]-1)) ## (a_n*n)*(x^(n-1))\n",
    "        lst.append(n)\n",
    "    dDx = sum(lst)\n",
    "    return dDx"
   ]
  },
  {
   "cell_type": "code",
   "execution_count": 3,
   "metadata": {
    "deletable": false,
    "editable": false,
    "nbgrader": {
     "checksum": "01d3805c65264aa1c890966172ca9b63",
     "grade": true,
     "grade_id": "cell-94529d3a790872c4",
     "locked": true,
     "points": 1,
     "schema_version": 1,
     "solution": false
    }
   },
   "outputs": [],
   "source": [
    "assert derivate_pol(2,[0,0,1]) == 4"
   ]
  },
  {
   "cell_type": "code",
   "execution_count": 4,
   "metadata": {
    "deletable": false,
    "editable": false,
    "nbgrader": {
     "checksum": "a246bb3405a72329febc570ebecfd1d5",
     "grade": true,
     "grade_id": "cell-6aa429f167c494db",
     "locked": true,
     "points": 1,
     "schema_version": 1,
     "solution": false
    }
   },
   "outputs": [],
   "source": [
    "assert derivate_pol(1,[1,2,3]) == 8\n",
    "assert derivate_pol(1,[0,3,1,1,2]) == 16"
   ]
  },
  {
   "cell_type": "code",
   "execution_count": 5,
   "metadata": {
    "deletable": false,
    "editable": false,
    "nbgrader": {
     "checksum": "31b3d68fda6254d140883e67f7771305",
     "grade": true,
     "grade_id": "cell-82ea03a4dfa5c380",
     "locked": true,
     "points": 1,
     "schema_version": 1,
     "solution": false
    }
   },
   "outputs": [],
   "source": [
    "## A derivada de uma função constante deveria ser zero para todo ponto\n",
    "\n",
    "xs = np.random.random(10)\n",
    "c = np.random.random(1)\n",
    "\n",
    "for x in xs:\n",
    "    assert derivate_pol(x,[c]) == 0    "
   ]
  },
  {
   "cell_type": "code",
   "execution_count": 6,
   "metadata": {
    "deletable": false,
    "editable": false,
    "nbgrader": {
     "checksum": "9a9c7159e051ee2eca9961a4658c668b",
     "grade": true,
     "grade_id": "cell-de1b5e71d76c18cb",
     "locked": true,
     "points": 1,
     "schema_version": 1,
     "solution": false
    }
   },
   "outputs": [],
   "source": [
    "## Uma fórmula conhecida\n",
    "\n",
    "for n in range(100):\n",
    "    assert derivate_pol(1,np.ones(n+1)) == n*(n+1) / 2"
   ]
  },
  {
   "cell_type": "markdown",
   "metadata": {},
   "source": [
    "Que fórmula é essa?\n",
    "\n",
    "**Dica:** Qual é o grau polinômio gerado por [`np.ones(6)`](https://docs.scipy.org/doc/numpy-1.15.0/reference/generated/numpy.ones.html)?"
   ]
  },
  {
   "cell_type": "markdown",
   "metadata": {
    "deletable": false,
    "nbgrader": {
     "checksum": "4cb0158db50fa483d5ccf6060ca940b9",
     "grade": true,
     "grade_id": "cell-93d8818f173bd650",
     "locked": false,
     "points": 2,
     "schema_version": 1,
     "solution": true
    }
   },
   "source": [
    "É a soma da PA de n termos "
   ]
  },
  {
   "cell_type": "markdown",
   "metadata": {},
   "source": [
    "## Questão 2:\n",
    "\n",
    "Escreva a função `completar(l1,l2)` que recebe duas listas `l1` e `l2`\n",
    "e retorna duas listas de mesmo comprimento, preenchendo a menor das duas com zeros.\n",
    "\n",
    "**Exemplo:**\n",
    "\n",
    "`Entrada:` $[1,2,3,4]$, $[1,2]$  \n",
    "`Saída:` $[1,2,3,4]$, $[1,2,0,0]$"
   ]
  },
  {
   "cell_type": "code",
   "execution_count": 7,
   "metadata": {
    "deletable": false,
    "nbgrader": {
     "checksum": "c627018d11d755ddef0720f9b841689c",
     "grade": false,
     "grade_id": "cell-8ea0b18c4951d12f",
     "locked": false,
     "schema_version": 1,
     "solution": true
    }
   },
   "outputs": [],
   "source": [
    "def completar(l1,l2):\n",
    "    \"\"\" Retorna duas listas, L1 e L2, idênticas a l1 e l2 em seus primeiros elementos,\n",
    "    e preenchendo a menor com zeros para que fiquem com o mesmo comprimento.\"\"\"\n",
    "    \n",
    "    ## Criando as variaveis necessarias para o loop de preenchimento\n",
    "    ## n -> número de 0 a ser adicionado\n",
    "    ## menor -> ponteiro da lista a ser preenchida\n",
    "    if len(l1)>len(l2):\n",
    "        n = len(l1)-len(l2)\n",
    "        menor = l2\n",
    "    elif len(l1)<len(l2):\n",
    "        n = len(l2)-len(l1)\n",
    "        menor = l1\n",
    "    else:\n",
    "        n = 0\n",
    "        menor = []\n",
    "        \n",
    "    ## Loop de preenchimento da lista menor\n",
    "    for i in range(n):\n",
    "        menor.append(0)\n",
    "        \n",
    "    \n",
    "    ## Copia das listas para L1 e L2    \n",
    "    L1 = l1.copy()\n",
    "    L2 = l2.copy()\n",
    "    \n",
    "    return L1,L2"
   ]
  },
  {
   "cell_type": "markdown",
   "metadata": {},
   "source": [
    "Testando que é a \"resposta esperada\":"
   ]
  },
  {
   "cell_type": "code",
   "execution_count": 8,
   "metadata": {
    "deletable": false,
    "editable": false,
    "nbgrader": {
     "checksum": "7e3ad560717fc50a3eb3cd70461a4e9b",
     "grade": true,
     "grade_id": "cell-7f2ed2890293568a",
     "locked": true,
     "points": 1,
     "schema_version": 1,
     "solution": false
    }
   },
   "outputs": [],
   "source": [
    "assert completar([1,2],[1,2,4,8]) == ([1,2,0,0],[1,2,4,8])"
   ]
  },
  {
   "cell_type": "code",
   "execution_count": 9,
   "metadata": {
    "deletable": false,
    "editable": false,
    "nbgrader": {
     "checksum": "5644e5f8cd7d50832402d2dd17cdf268",
     "grade": true,
     "grade_id": "cell-d6d2a525a7e1b12c",
     "locked": true,
     "points": 1,
     "schema_version": 1,
     "solution": false
    }
   },
   "outputs": [],
   "source": [
    "assert completar([0,1,2],[8]) == ([0,1,2],[8,0,0])"
   ]
  },
  {
   "cell_type": "code",
   "execution_count": 10,
   "metadata": {
    "deletable": false,
    "editable": false,
    "nbgrader": {
     "checksum": "9d491253a23bfa530ada7710f2d297aa",
     "grade": true,
     "grade_id": "cell-65ee53d9fb1c0884",
     "locked": true,
     "points": 2,
     "schema_version": 1,
     "solution": false
    }
   },
   "outputs": [],
   "source": [
    "v1 = [np.pi]*10\n",
    "v2 = [1,1,1,1,1,1]\n",
    "v3 = list(np.random.random(3))\n",
    "\n",
    "assert completar([1,2,3],v1) == ([1,2,3,0,0,0,0,0,0,0],v1)\n",
    "assert completar([1,2,3],v2) == ([1,2,3,0,0,0],v2)\n",
    "assert completar([1,2,3],v3) == ([1,2,3],v3)"
   ]
  },
  {
   "cell_type": "markdown",
   "metadata": {},
   "source": [
    "Testando que a resposta \"satisfaz algumas propriedades\":"
   ]
  },
  {
   "cell_type": "code",
   "execution_count": 11,
   "metadata": {
    "deletable": false,
    "editable": false,
    "nbgrader": {
     "checksum": "fb0414c5c4ad51b8d270eecad0740e3e",
     "grade": true,
     "grade_id": "cell-3a9812fb64ef40d1",
     "locked": true,
     "points": 2,
     "schema_version": 1,
     "solution": false
    }
   },
   "outputs": [],
   "source": [
    "np.random.seed(1)\n",
    "\n",
    "# Duas listas de tamanho aleatório\n",
    "n1 = np.random.randint(100)\n",
    "n2 = np.random.randint(100)\n",
    "\n",
    "u = list(np.random.randn(n1))\n",
    "v = list(np.random.randn(n2))\n",
    "\n",
    "unew, vnew = completar(u,v)\n",
    "assert len(unew) == len(vnew)\n",
    "assert len(unew) >= len(u)\n",
    "assert len(vnew) >= len(v)"
   ]
  },
  {
   "cell_type": "markdown",
   "metadata": {},
   "source": [
    "## Questão 3: Soma de dois polinômios\n",
    "\n",
    "Escreva a função `soma_pol(p1,p2)` que recebe como entrada os coeficientes de dois polinômios `p1` e `p2` e retorna os coeficientes da soma desses polinômios.\n",
    "\n",
    "**Dica:** Use a função [`zip`](https://docs.python.org/3.3/library/functions.html#zip)."
   ]
  },
  {
   "cell_type": "code",
   "execution_count": 12,
   "metadata": {
    "deletable": false,
    "nbgrader": {
     "checksum": "7008cd8f71e13f0f6689a6f22332694f",
     "grade": false,
     "grade_id": "cell-213886f094f40d71",
     "locked": false,
     "schema_version": 1,
     "solution": true
    }
   },
   "outputs": [],
   "source": [
    "def soma_pol(p1,p2):\n",
    "    \n",
    "    completar(p1,p2) ## Completar o menor polinomio para facilitar no loop de soma\n",
    "    lst = list(zip(p1, p2)) ## associa os coeficientes devidos de mesmo grau\n",
    "    r = [] ## lista para receber a soma\n",
    "    for i in range(len(lst)):\n",
    "        r.append(lst[i][0]+lst[i][1])\n",
    "    return r"
   ]
  },
  {
   "cell_type": "code",
   "execution_count": 13,
   "metadata": {
    "deletable": false,
    "editable": false,
    "nbgrader": {
     "checksum": "112776eaa1ec67854545051ba7aac4af",
     "grade": true,
     "grade_id": "cell-3cbd02277ab48c0c",
     "locked": true,
     "points": 2,
     "schema_version": 1,
     "solution": false
    }
   },
   "outputs": [],
   "source": [
    "p1 = [0,0,0,1]\n",
    "p2 = [0,0,1]\n",
    "p3 = [1,2,3,4,5,6]\n",
    "\n",
    "assert soma_pol(p1,p2) == [0,0,1,1]\n",
    "assert soma_pol(p1,p3) == [1,2,3,5,5,6]"
   ]
  },
  {
   "cell_type": "code",
   "execution_count": 14,
   "metadata": {
    "deletable": false,
    "editable": false,
    "nbgrader": {
     "checksum": "f9b7f301d3317011110e7df2b137bb9c",
     "grade": true,
     "grade_id": "cell-fcb459d80541f811",
     "locked": true,
     "points": 2,
     "schema_version": 1,
     "solution": false
    }
   },
   "outputs": [],
   "source": [
    "p3 = [1,2,3,4,5,6]\n",
    "p4 = [-1,-2,-3,-4,-5,-6]\n",
    "assert sum(soma_pol(p3,p4)) == 0"
   ]
  },
  {
   "cell_type": "code",
   "execution_count": 15,
   "metadata": {
    "deletable": false,
    "editable": false,
    "nbgrader": {
     "checksum": "167799d7f9117606d6a1d792efba2887",
     "grade": true,
     "grade_id": "cell-d62556fe07dc857b",
     "locked": true,
     "points": 2,
     "schema_version": 1,
     "solution": false
    }
   },
   "outputs": [],
   "source": [
    "# Propriedades da soma\n",
    "\n",
    "np.random.seed(5)\n",
    "\n",
    "# Dois polinômios de grau aleatório\n",
    "n1 = np.random.randint(10)\n",
    "n2 = np.random.randint(10)\n",
    "\n",
    "p1 = list(np.random.randn(n1))\n",
    "p2 = list(np.random.randn(n2))\n",
    "\n",
    "assert soma_pol(p1,p2) == soma_pol(p2,p1)\n",
    "assert derivate_pol(1,p1) + derivate_pol(1,p2) == derivate_pol(1,soma_pol(p1,p2))"
   ]
  },
  {
   "cell_type": "code",
   "execution_count": 16,
   "metadata": {
    "deletable": false,
    "editable": false,
    "nbgrader": {
     "checksum": "29a7fc8cc1875a88f1eed0158cb2a235",
     "grade": true,
     "grade_id": "cell-5a9ac67a05943fa5",
     "locked": true,
     "points": 1,
     "schema_version": 1,
     "solution": false
    }
   },
   "outputs": [],
   "source": [
    "p3 = list(np.random.randn(5))\n",
    "\n",
    "soma1 = soma_pol(soma_pol(p1,p2),p3)\n",
    "soma2 = soma_pol(p1,soma_pol(p2,p3))\n",
    "\n",
    "assert np.allclose(soma_pol(soma_pol(p1,p2),p3), soma_pol(p1,soma_pol(p2,p3)), atol=1e-15, rtol=1e-15)"
   ]
  },
  {
   "cell_type": "code",
   "execution_count": 17,
   "metadata": {
    "deletable": false,
    "editable": false,
    "nbgrader": {
     "checksum": "e50234fc4afb0203ae59c9a9a656b5e1",
     "grade": false,
     "grade_id": "cell-6607fa7291c852a4",
     "locked": true,
     "schema_version": 1,
     "solution": false
    }
   },
   "outputs": [
    {
     "name": "stdout",
     "output_type": "stream",
     "text": [
      " -1.454499523335841538  -1.454499523335841538, diff = 0.0\n",
      " -0.415022208172582285  -0.415022208172582230, diff = -5.551115123125783e-17\n",
      " -2.646221689750319683  -2.646221689750319683, diff = 0.0\n",
      " -0.021419876264760829  -0.021419876264760829, diff = 0.0\n",
      "  3.786964524446553515   3.786964524446553515, diff = 0.0\n",
      "  0.789676258852572088   0.789676258852572088, diff = 0.0\n"
     ]
    }
   ],
   "source": [
    "# Infelizmente, a soma não é associativa, mas \"quase\"...\n",
    "for c1,c2 in zip(soma1,soma2):\n",
    "    print('{: 22.18f} {: 22.18f}, diff = {}'.format(c1, c2, c1-c2))"
   ]
  },
  {
   "cell_type": "markdown",
   "metadata": {},
   "source": [
    "## Questão 4: Método de Euler\n",
    "\n",
    "Usando o método de Euler, implemente o método `eulerexplicito()` que calcula a solução da EDO\n",
    "$$ \\begin{cases} y'(t) = - \\cos(t + y(t)) \\\\ y(0) = 2\\end{cases} $$"
   ]
  },
  {
   "cell_type": "code",
   "execution_count": 18,
   "metadata": {
    "deletable": false,
    "nbgrader": {
     "checksum": "f3520bad4804224bcbeaae14cdf91a65",
     "grade": false,
     "grade_id": "cell-675e601ebc79135f",
     "locked": false,
     "schema_version": 1,
     "solution": true
    }
   },
   "outputs": [],
   "source": [
    "def eulerexplicito(T, npts, y0):\n",
    "    ts, h = np.linspace(0, T, num=npts, retstep=True)\n",
    "    ys = [y0]\n",
    "    for t in ts:\n",
    "        yt = ys[-1]\n",
    "        ynext = yt + (-np.cos(t+yt))*h\n",
    "        ys.append(ynext)\n",
    "    return ts, ys[:-1]"
   ]
  },
  {
   "cell_type": "code",
   "execution_count": 19,
   "metadata": {
    "deletable": false,
    "editable": false,
    "nbgrader": {
     "checksum": "608b11bfd7263b57dfae3c4fe6164cf2",
     "grade": true,
     "grade_id": "cell-a0fa4baba5dc00c7",
     "locked": true,
     "points": 2,
     "schema_version": 1,
     "solution": false
    }
   },
   "outputs": [],
   "source": [
    "ts, sol = eulerexplicito(4,30,2)\n",
    "assert np.isclose(sol[-1], 1.728, atol=2e-3)\n",
    "assert np.isclose(sol[10], 3.038, atol=2e-3)"
   ]
  },
  {
   "cell_type": "code",
   "execution_count": 20,
   "metadata": {
    "deletable": false,
    "editable": false,
    "nbgrader": {
     "checksum": "3b56d0cc20f8f4e25d7baa25850a02b6",
     "grade": true,
     "grade_id": "cell-57d9e33bfbace5f6",
     "locked": true,
     "points": 2,
     "schema_version": 1,
     "solution": false
    }
   },
   "outputs": [],
   "source": [
    "ts, sol = eulerexplicito(4,100,2)\n",
    "assert np.isclose(sol[-1], 1.711, atol=2e-3)\n",
    "assert np.isclose(sol[10], 2.259, atol=2e-3)"
   ]
  },
  {
   "cell_type": "markdown",
   "metadata": {},
   "source": [
    "Um gráfico para ver o resultado:"
   ]
  },
  {
   "cell_type": "code",
   "execution_count": 21,
   "metadata": {
    "deletable": false,
    "editable": false,
    "nbgrader": {
     "checksum": "1e1d67b730509a5161f9dc2a8f92f160",
     "grade": false,
     "grade_id": "cell-3d192e27c6a8ea4b",
     "locked": true,
     "schema_version": 1,
     "solution": false
    }
   },
   "outputs": [
    {
     "data": {
      "text/plain": [
       "<Figure size 640x480 with 1 Axes>"
      ]
     },
     "metadata": {},
     "output_type": "display_data"
    }
   ],
   "source": [
    "import matplotlib.pyplot as plt\n",
    "T = 4\n",
    "y0 = 2\n",
    "\n",
    "t30,  y30  = eulerexplicito(T, 30,  y0)\n",
    "t100, y100 = eulerexplicito(T, 100, y0)\n",
    "plt.plot(t30,  y30,  label='30')\n",
    "plt.plot(t100, y100, label='100')\n",
    "plt.legend()\n",
    "plt.show()"
   ]
  },
  {
   "cell_type": "markdown",
   "metadata": {},
   "source": [
    "Observando o gráfico, pode parecer estranho que `sol[10]` tenha mudado tanto ao trocar de 30 para 100 pontos.\n",
    "O que aconteceu?"
   ]
  },
  {
   "cell_type": "markdown",
   "metadata": {
    "deletable": false,
    "nbgrader": {
     "checksum": "db19baf564316b7d6af8b2acd8ad2597",
     "grade": true,
     "grade_id": "cell-7573e4975322bdcb",
     "locked": false,
     "points": 2,
     "schema_version": 1,
     "solution": true
    }
   },
   "source": [
    "Com 30 pontos a solução contém muito ruído, percorrendo pontos errado de uma possível solução analitica fazendo com o que o erro seja de ordem grande"
   ]
  },
  {
   "cell_type": "markdown",
   "metadata": {},
   "source": [
    "Dê abaixo um valor de $n$ que garanta que o erro será menor do que `1e-5`:"
   ]
  },
  {
   "cell_type": "code",
   "execution_count": 22,
   "metadata": {
    "deletable": false,
    "nbgrader": {
     "checksum": "353fccab8949fb6d4d1136981fa748bb",
     "grade": false,
     "grade_id": "cell-93e141da98f18154",
     "locked": false,
     "schema_version": 1,
     "solution": true
    }
   },
   "outputs": [],
   "source": [
    "n = 25990"
   ]
  },
  {
   "cell_type": "code",
   "execution_count": 23,
   "metadata": {
    "deletable": false,
    "editable": false,
    "nbgrader": {
     "checksum": "664c1cbdcd66c1c384e5b8faa85001eb",
     "grade": true,
     "grade_id": "cell-f8c7cb6005db5052",
     "locked": true,
     "points": 2,
     "schema_version": 1,
     "solution": false
    }
   },
   "outputs": [],
   "source": [
    "_, sol = eulerexplicito(4,n,2)\n",
    "assert np.isclose(sol[-1], 1.70430262, atol=1e-5)"
   ]
  }
 ],
 "metadata": {
  "kernelspec": {
   "display_name": "Python 3",
   "language": "python",
   "name": "python3"
  },
  "language_info": {
   "codemirror_mode": {
    "name": "ipython",
    "version": 3
   },
   "file_extension": ".py",
   "mimetype": "text/x-python",
   "name": "python",
   "nbconvert_exporter": "python",
   "pygments_lexer": "ipython3",
   "version": "3.7.0"
  }
 },
 "nbformat": 4,
 "nbformat_minor": 2
}
