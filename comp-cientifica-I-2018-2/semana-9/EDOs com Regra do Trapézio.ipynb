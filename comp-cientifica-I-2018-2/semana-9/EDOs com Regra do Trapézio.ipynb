{
 "cells": [
  {
   "cell_type": "code",
   "execution_count": 5,
   "metadata": {},
   "outputs": [],
   "source": [
    "import numpy as np"
   ]
  },
  {
   "cell_type": "code",
   "execution_count": 53,
   "metadata": {},
   "outputs": [],
   "source": [
    "def F(t,y):\n",
    "    return t-np.cos(y)\n",
    "\n",
    "def bissecaoStep(f,a,b):\n",
    "    z = (a+b)/2\n",
    "    if f(z) == 0:\n",
    "        return (z,z)\n",
    "    elif f(a)*f(z) < 0:\n",
    "        return (a,z)\n",
    "    else:\n",
    "        return (z,b)\n",
    "\n",
    "def bissection(f, a, b, tol=1e-6, i=0):\n",
    "    if (b-a) < tol:\n",
    "        if abs(f((b+a)/2)) < abs(f(b)) and abs(f((b+a)/2)) < abs(f(a)):\n",
    "            retv = (b+a)/2\n",
    "        elif abs(f(b)) < abs(f(a)):\n",
    "            retv = b\n",
    "        else:\n",
    "            retv = a\n",
    "        return retv\n",
    "    else:\n",
    "        a, b = bissecaoStep(f, a, b)\n",
    "        i += 1\n",
    "        return bissection(f, a, b, tol, i)\n",
    "\n",
    "def solveF(F,t,y,h):\n",
    "    def aux(dy):\n",
    "        return dy - (F(0,y) + F(h,y+dy))*h/2\n",
    "    return bissection(aux, 0, np.pi )\n",
    "\n",
    "def trapezoidal_step(F, t0, y0, ts):\n",
    "    ys = [y0]\n",
    "    t = t0\n",
    "    for tnext in ts:\n",
    "        y = ys[-1]\n",
    "        ynext = y + solveF(F,t,y,(tnext-t))\n",
    "        ys.append(ynext)\n",
    "        t = tnext\n",
    "    return ys[:-1]\n"
   ]
  },
  {
   "cell_type": "code",
   "execution_count": 54,
   "metadata": {},
   "outputs": [
    {
     "data": {
      "text/plain": [
       "0.4161468365471424"
      ]
     },
     "execution_count": 54,
     "metadata": {},
     "output_type": "execute_result"
    }
   ],
   "source": [
    "def implicit_euler(solveF, t0, y0, ts):\n",
    "    ys = [y0]\n",
    "    t = t0\n",
    "    for tnext in ts:\n",
    "        y = ys[-1]\n",
    "        dy = solveF(t,y,(tnext-t))\n",
    "        ynext = y + dy\n",
    "        ys.append(ynext)\n",
    "        t = tnext\n",
    "    return ys[:-1]\n",
    "\n",
    "F(0,2)"
   ]
  },
  {
   "cell_type": "code",
   "execution_count": 51,
   "metadata": {},
   "outputs": [
    {
     "data": {
      "text/plain": [
       "[0, 1.1871513270121692, 4.3287432315879055, 4.369279123316217]"
      ]
     },
     "execution_count": 51,
     "metadata": {},
     "output_type": "execute_result"
    }
   ],
   "source": [
    "trapezoidal_step(F,1,0,[0,0.1,0.2,0.3])"
   ]
  },
  {
   "cell_type": "markdown",
   "metadata": {},
   "source": []
  },
  {
   "cell_type": "code",
   "execution_count": null,
   "metadata": {},
   "outputs": [],
   "source": []
  }
 ],
 "metadata": {
  "kernelspec": {
   "display_name": "Python 3",
   "language": "python",
   "name": "python3"
  },
  "language_info": {
   "codemirror_mode": {
    "name": "ipython",
    "version": 3
   },
   "file_extension": ".py",
   "mimetype": "text/x-python",
   "name": "python",
   "nbconvert_exporter": "python",
   "pygments_lexer": "ipython3",
   "version": "3.7.0"
  }
 },
 "nbformat": 4,
 "nbformat_minor": 2
}
