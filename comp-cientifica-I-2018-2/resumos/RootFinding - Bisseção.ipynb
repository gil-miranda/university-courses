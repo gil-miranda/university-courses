{
 "cells": [
  {
   "cell_type": "markdown",
   "metadata": {},
   "source": [
    "# Resumo, Teoria e Prática - Metódo da Bisseção\n",
    "> Autor: Gil Miranda<br>\n",
    "> Contato: gilsmneto@gmail.com<br>\n",
    "> Repo: http://www.gilmiranda.me<br>\n",
    "> GitHub: [@mirandagil](https://github.com/mirandagil)<br>\n",
    "> Fontes bibliográficas:\n",
    "   * http://www.im.ufrj.br/bernardofpc/cursos/cientificaI/2017/Semana2-Parte2-Bissecao.ipynb\n",
    "   \n",
    "`last update: 12/10/2018`"
   ]
  },
  {
   "cell_type": "code",
   "execution_count": 99,
   "metadata": {},
   "outputs": [],
   "source": [
    "import numpy as np\n",
    "import matplotlib.pyplot as plt"
   ]
  },
  {
   "cell_type": "markdown",
   "metadata": {},
   "source": [
    "### Teorema de Bolzano (caso particular do Teorema do Valor Intermediário)\n",
    "\n",
    "Seja $f$ uma função contínua $f: [a,b]\\rightarrow\\mathbb{R}$ e $f(a) < 0 < f(b) $ então existe $z \\in [a,b] $ tal que $f(z) = 0$<br>\n",
    "<span style=\"color: #f2cf4a; font-family: Babas; font-size: .8em;\">\n",
    "`Referência: SPIVAK, M. 1967 Calculus. p. 100. Theorem 1.`\n",
    "</span>\n",
    "\n",
    "---\n",
    "Vejamos o caso abaixo, onde<br>$f(x) = x^5 - 2$<br> $a = \\frac{1}{2}$ e $b = \\frac{3}{2}$<br>\n",
    "O teorema garante que existe $ z = \\sqrt[5]{2}$ tal que $f(z) = 0$"
   ]
  },
  {
   "cell_type": "code",
   "execution_count": 54,
   "metadata": {},
   "outputs": [
    {
     "data": {
      "text/plain": [
       "<matplotlib.legend.Legend at 0x7f1e89ed2630>"
      ]
     },
     "execution_count": 54,
     "metadata": {},
     "output_type": "execute_result"
    },
    {
     "data": {
      "image/png": "[encoded data removed]",
      "text/plain": [
       "<Figure size 504x360 with 1 Axes>"
      ]
     },
     "metadata": {
      "needs_background": "light"
     },
     "output_type": "display_data"
    }
   ],
   "source": [
    "def f(x):\n",
    "    return x**5-2\n",
    "\n",
    "a = 1/2\n",
    "b = 3/2\n",
    "z = 2**(1/5)\n",
    "\n",
    "fig, ax = plt.subplots(nrows=1,ncols=1,figsize=(7,5))\n",
    "ax.spines['right'].set_color('none')\n",
    "ax.spines['top'].set_color('none')\n",
    "ax.spines['bottom'].set_position(('data',0))\n",
    "ax.spines['left'].set_position(('data',0))\n",
    "ax.set_ylim(-10,10)\n",
    "ax.set_xlim(-2,4)\n",
    "\n",
    "x = np.arange(-2,10,0.01)\n",
    "ax.plot(x,f(x))\n",
    "ax.plot(a,0,'o',label='$a$')\n",
    "ax.plot(b,0,'o', label='$b$')\n",
    "ax.plot(a,f(a),'o',label='$f(a)$')\n",
    "ax.plot(b,f(b),'o', label='$f(b)$')\n",
    "ax.plot(z,f(z),'X',label='$f(z)$')\n",
    "\n",
    "ax.legend(loc='best')"
   ]
  },
  {
   "cell_type": "markdown",
   "metadata": {},
   "source": [
    "O metódo da bisseção consiste em, utilizando o Teorema de bolzano, ou T.V.I., determinar $z$, ou uma boa aproximação para $z$ ou um intervalo suficientemente pequeno que contenha $z$\n",
    "\n",
    "O método é feito da seguinte maneira:<br>\n",
    "1. Determinar um intervalo $[a,b]$ tal que $f(a) \\cdot f(b) < 0$ e que contenha uma raíz de $f$\n",
    "2. Tomar $m = \\frac{a+b}{2}$\n",
    "3. Testar onde está $z$\n",
    "    * $f(a)\\cdot f(b) < 0 \\implies z \\in [a,m]$\n",
    "    * $f(a)\\cdot f(b) > 0 \\implies z \\in [m,b]$\n",
    "    * $f(a)\\cdot f(b) = 0 \\implies z = a $ ou $ z = b$\n",
    "4. Repetir os passos até o intervalo ser suficientemente pequeno"
   ]
  },
  {
   "cell_type": "markdown",
   "metadata": {},
   "source": [
    "### Oh o bicho vindo, montando o algoritmo da bisseção \n",
    "\n",
    "Dividiremos o algoritmo em duas partes que juntas completam o metódo da bisseção.<br>\n",
    "A primeira parte `bissection_step(f,a,b)` recebe a função e um dado intervalo que contenha a raíz, e retorna um intervalo dividido ao meio, ou seja, faz um passo da bisseção.<br>\n",
    "A segunda parte `bissection` fará a iteração do metódo até o intervalo ser satisfatoriamente pequeno, ou encontrar a raíz exata.<br>\n",
    "Essa divisão se torna importante pois assim podemos criar mais de uma maneira de fazer a bisseção, sendo iterativa ou recursiva.<br>"
   ]
  },
  {
   "cell_type": "markdown",
   "metadata": {},
   "source": [
    "###### bissection_step"
   ]
  },
  {
   "cell_type": "code",
   "execution_count": 58,
   "metadata": {},
   "outputs": [],
   "source": [
    "def bissection_step(f, a, b):\n",
    "    if (f(a)*f(b)) > 0:\n",
    "        print('ERRO! O dado intervalo [' + str(a)+','+str(b)+'] não contém uma raíz.')\n",
    "        return (a,b)\n",
    "    else:\n",
    "        m = (a+b)/2\n",
    "        if(f(m) == 0):\n",
    "            return (m,m)\n",
    "        elif (f(a)*f(m) < 0):\n",
    "            return (a,m)\n",
    "        elif (f(m)*f(b) < 0):\n",
    "            return (m,b)"
   ]
  },
  {
   "cell_type": "markdown",
   "metadata": {},
   "source": [
    "##### bissection(f,a,b,tol,retsteps)"
   ]
  },
  {
   "cell_type": "code",
   "execution_count": 95,
   "metadata": {},
   "outputs": [],
   "source": [
    "def bissection(f,a,b,tol=1e-6,count=0,retsteps=False):\n",
    "    if (abs(b-a) <= tol):\n",
    "        if (f((b+a)/2)) < f(b) and f((b+a)/2) < f(a):\n",
    "            if (retsteps):\n",
    "                return ((b+a)/2,count)\n",
    "            else:\n",
    "                return (b+a)/2\n",
    "        elif (f(b)<f(a)):\n",
    "            if (retsteps):\n",
    "                return (b,count)\n",
    "            else:\n",
    "                return b\n",
    "        else:\n",
    "            if (retsteps):\n",
    "                return (a,count)\n",
    "            else:\n",
    "                return a\n",
    "    else:\n",
    "        a, b = bissection_step(f, a, b)\n",
    "        count += 1\n",
    "        return bissection(f, a, b, tol, count, retsteps)"
   ]
  },
  {
   "cell_type": "markdown",
   "metadata": {},
   "source": [
    "Aplicando o metódo para encontrar a raíz do exemplo\n",
    "$f = x^5 - 2$"
   ]
  },
  {
   "cell_type": "code",
   "execution_count": 98,
   "metadata": {},
   "outputs": [
    {
     "data": {
      "text/plain": [
       "(1.148698354997035, 1.1486983549548313, 4.2203796013495776e-11, 34)"
      ]
     },
     "execution_count": 98,
     "metadata": {},
     "output_type": "execute_result"
    }
   ],
   "source": [
    "raiz, c = bissection(f,a,b,retsteps=True, tol=1e-10)\n",
    "assert (z-raiz < 1e-10)\n",
    "(z,raiz,z-raiz, c)"
   ]
  }
 ],
 "metadata": {
  "kernelspec": {
   "display_name": "Python 3",
   "language": "python",
   "name": "python3"
  },
  "language_info": {
   "codemirror_mode": {
    "name": "ipython",
    "version": 3
   },
   "file_extension": ".py",
   "mimetype": "text/x-python",
   "name": "python",
   "nbconvert_exporter": "python",
   "pygments_lexer": "ipython3",
   "version": "3.7.0"
  },
  "latex_metadata": {
   "affiliation": "UFRJ",
   "author": "Gil Sales Miranda Neto",
   "title": "RootFinding - Bisseção"
  }
 },
 "nbformat": 4,
 "nbformat_minor": 2
}
