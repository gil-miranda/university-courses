{
 "cells": [
  {
   "cell_type": "markdown",
   "metadata": {},
   "source": [
    "# Resumo, Teoria e Prática - Metódo da Bisseção\n",
    "> Autor: Gil Miranda<br>\n",
    "> Contato: gilsmneto@gmail.com<br>\n",
    "> Repo: http://www.gilmiranda.me<br>\n",
    "> GitHub: [@mirandagil](https://github.com/mirandagil)<br>\n",
    "> Fontes bibliográficas:\n",
    "   * http://www.im.ufrj.br/bernardofpc/cursos/cientificaI/2017/Semana2-Parte2-Bissecao.ipynb\n",
    "   \n",
    "`last update: 26/02/2019`"
   ]
  },
  {
   "cell_type": "code",
   "execution_count": 6,
   "metadata": {},
   "outputs": [],
   "source": [
    "import numpy as np\n",
    "import matplotlib.pyplot as plt"
   ]
  },
  {
   "cell_type": "markdown",
   "metadata": {},
   "source": [
    "### Teorema de Bolzano (caso particular do Teorema do Valor Intermediário)\n",
    "\n",
    "Seja $f$ uma função contínua $f: [a,b]\\rightarrow\\mathbb{R}$ e $f(a) < 0 < f(b) $ então existe $z \\in [a,b] $ tal que $f(z) = 0$<br>\n",
    "<span style=\"color: #f2cf4a; font-family: Babas; font-size: .8em;\">\n",
    "`Referência: SPIVAK, M. 1967 Calculus. p. 100. Theorem 1.`\n",
    "</span>\n",
    "\n",
    "---\n",
    "Vejamos o caso abaixo, onde<br>$f(x) = x^5 - 2$<br> $a = \\frac{1}{2}$ e $b = \\frac{3}{2}$<br>\n",
    "O teorema garante que existe $ z = \\sqrt[5]{2}$ tal que $f(z) = 0$"
   ]
  },
  {
   "cell_type": "code",
   "execution_count": 7,
   "metadata": {},
   "outputs": [
    {
     "data": {
      "text/plain": [
       "<matplotlib.legend.Legend at 0x7fce60c64ac8>"
      ]
     },
     "execution_count": 7,
     "metadata": {},
     "output_type": "execute_result"
    },
    {
     "data": {
      "image/png": "[encoded data removed]",
      "text/plain": [
       "<Figure size 504x360 with 1 Axes>"
      ]
     },
     "metadata": {
      "needs_background": "light"
     },
     "output_type": "display_data"
    }
   ],
   "source": [
    "def f(x):\n",
    "    return x**5-2\n",
    "\n",
    "a = 1/2\n",
    "b = 3/2\n",
    "z = 2**(1/5)\n",
    "\n",
    "fig, ax = plt.subplots(nrows=1,ncols=1,figsize=(7,5))\n",
    "ax.spines['right'].set_color('none')\n",
    "ax.spines['top'].set_color('none')\n",
    "ax.spines['bottom'].set_position(('data',0))\n",
    "ax.spines['left'].set_position(('data',0))\n",
    "ax.set_ylim(-10,10)\n",
    "ax.set_xlim(-2,4)\n",
    "\n",
    "x = np.arange(-2,10,0.01)\n",
    "ax.plot(x,f(x))\n",
    "ax.plot(a,0,'o',label='$a$')\n",
    "ax.plot(b,0,'o', label='$b$')\n",
    "ax.plot(a,f(a),'o',label='$f(a)$')\n",
    "ax.plot(b,f(b),'o', label='$f(b)$')\n",
    "ax.plot(z,f(z),'X',label='$f(z)$')\n",
    "\n",
    "ax.legend(loc='best')"
   ]
  },
  {
   "cell_type": "markdown",
   "metadata": {},
   "source": [
    "O metódo da bisseção consiste em, determinar $z$, ou uma boa aproximação para $z$ ou um intervalo suficientemente pequeno que contenha $z$<br>\n",
    "Utilizando o Teorema de bolzano, ou T.V.I. em um intervalo correto conseguimos garantir a existência de $z$ \n",
    "O método é feito da seguinte maneira:<br>\n",
    "1. Tomar a função $f$ a ser bissectada, sendo $f$ contínua\n",
    "1. Determinar um intervalo $[a,b]$ tal que $f(a) \\cdot f(b) < 0$\n",
    "1. Tomar $m = \\frac{a+b}{2}$\n",
    "1. Testar onde está $z$\n",
    "    * $f(a)\\cdot f(b) < 0 \\implies z \\in [a,m]$\n",
    "    * $f(a)\\cdot f(b) > 0 \\implies z \\in [m,b]$\n",
    "    * $f(a)\\cdot f(b) = 0 \\implies z = a $ ou $ z = b$\n",
    "1. Repetir os passos até o intervalo ser suficientemente pequeno, ou seja, dado uma tolerância tem-se: $|f(a)-f(b)| < tol$"
   ]
  },
  {
   "cell_type": "markdown",
   "metadata": {},
   "source": [
    "### Oh o bicho vindo, montando o algoritmo da bisseção \n",
    "\n",
    "Dividiremos o algoritmo em duas partes que juntas completam o metódo da bisseção.<br>\n",
    "A primeira parte `bissection_step(f,a,b)` recebe a função e um dado intervalo que contenha a raíz, e retorna um intervalo dividido ao meio, ou seja, faz um passo da bisseção.<br>\n",
    "A segunda parte `bissection` fará a iteração do metódo até o intervalo ser satisfatoriamente pequeno, ou encontrar a raíz exata.<br>\n",
    "Essa divisão se torna importante pois assim podemos criar mais de uma maneira de fazer a bisseção, sendo iterativa ou recursiva.<br>"
   ]
  },
  {
   "cell_type": "markdown",
   "metadata": {},
   "source": [
    "###### bissection_step"
   ]
  },
  {
   "cell_type": "code",
   "execution_count": 8,
   "metadata": {},
   "outputs": [],
   "source": [
    "def bissection_step(f, a, b):\n",
    "    z = (a+b)/2\n",
    "    if(f(z) == 0):\n",
    "        return (z,z)\n",
    "    elif (f(a)*f(z) < 0):\n",
    "        return (a,z)\n",
    "    elif (f(z)*f(b) < 0):\n",
    "        return (z,b)"
   ]
  },
  {
   "cell_type": "markdown",
   "metadata": {},
   "source": [
    "Função bem simples, tomamos a média do intervalo $[a,b]$ e verificamos se é raíz, se for retornamos o intervalo degenerado $[z,z]$<br>\n",
    "Caso não seja raíz, verificamos se a raíz está em $[a,z]$ ou em $[z,b]$. Essa verificação é feita testando quais destes tem sinal oposto nos extremos, para reaplicar o TVI"
   ]
  },
  {
   "cell_type": "markdown",
   "metadata": {},
   "source": [
    "##### bissection(f,a,b,tol,count,retsteps)"
   ]
  },
  {
   "cell_type": "code",
   "execution_count": 14,
   "metadata": {},
   "outputs": [],
   "source": [
    "def bissection(f,a,b,tol=1e-6,count=0,retsteps=False):\n",
    "    if f(a)*f(b) > 0:\n",
    "         raise ValueError('Non-opposite signs for bissection')\n",
    "    if f(a) == 0:\n",
    "        if (retsteps):\n",
    "            return (a,count)\n",
    "        else:\n",
    "            return a\n",
    "    elif f(b) == 0:\n",
    "        if (retsteps):\n",
    "            return (b,count)\n",
    "        else:\n",
    "            return b\n",
    "    else:  \n",
    "        if (abs(b-a) <= tol):\n",
    "            if (retsteps):\n",
    "                return ((b+a)/2,count)\n",
    "            else:\n",
    "                return (b+a)/2\n",
    "        else:\n",
    "            a, b = bissection_step(f, a, b)\n",
    "            count += 1\n",
    "            return bissecao(f, a, b, tol, count, retsteps)"
   ]
  },
  {
   "cell_type": "markdown",
   "metadata": {},
   "source": [
    "Já de inicio tratamos um erro, e se o intervalo não possuir raíz?<br>\n",
    "Depois verificamos se algum dos extermos é raíz, com tudo isso feito podemos partir para o algoritmo recursivo<br>\n",
    "Se já estivermos abaixo da tolerância, retorna o ponto. Caso não, escolhemos o próximo intervalo $[a,b]$ com a `bissection_step` e chamamos por recursão a própria `bissection`"
   ]
  },
  {
   "cell_type": "markdown",
   "metadata": {},
   "source": [
    "A Bisseção acima está um pouco mais robusta que o usual, dá para obter o mesmo resultado de maneira satisfatória com uma bisseção muito mais simples.<br>\n",
    "O único motivo da função um pouco mais complicada é a robustez de e liberdade:\n",
    "- Tratamento de erro, se o intervalo dado não tiver sinais oposto já é acusado um erro, impedindo que o algoritmo fique em um loop, ou dê uma resposta errada\n",
    "- Verificar antes se algum ponto dos extermos é a raíz, evitando assim rodar o algoritmo desnecessariamente\n",
    "- Liberdade na escolha de retornar ou não o número de iterações"
   ]
  },
  {
   "cell_type": "code",
   "execution_count": 12,
   "metadata": {},
   "outputs": [],
   "source": [
    "def bissecao_simples(f,a,b, tol=1e-8):\n",
    "    # YOUR CODE HERE\n",
    "    count = 0\n",
    "    while b-a >= tol:\n",
    "        count += 1\n",
    "        z = (a+b)/2\n",
    "        if f(z) == 0:\n",
    "            return z, count\n",
    "        if f(a)*f(z) < 0:\n",
    "            b = z\n",
    "        else:\n",
    "            a = z\n",
    "    return z, count"
   ]
  },
  {
   "cell_type": "markdown",
   "metadata": {},
   "source": [
    "Aplicando o metódo para encontrar a raíz do exemplo\n",
    "$f = x^5 - 2$"
   ]
  },
  {
   "cell_type": "code",
   "execution_count": 13,
   "metadata": {},
   "outputs": [
    {
     "data": {
      "text/plain": [
       "(1.148698354997035, 1.1486983549839351, 1.3099965556762072e-11, 34)"
      ]
     },
     "execution_count": 13,
     "metadata": {},
     "output_type": "execute_result"
    }
   ],
   "source": [
    "raiz, c = bissection(f,a,b,retsteps=True, tol=1e-10)\n",
    "assert (z-raiz < 1e-10)\n",
    "(z,raiz,z-raiz, c)"
   ]
  },
  {
   "cell_type": "code",
   "execution_count": null,
   "metadata": {},
   "outputs": [],
   "source": []
  }
 ],
 "metadata": {
  "kernelspec": {
   "display_name": "Python 3",
   "language": "python",
   "name": "python3"
  },
  "language_info": {
   "codemirror_mode": {
    "name": "ipython",
    "version": 3
   },
   "file_extension": ".py",
   "mimetype": "text/x-python",
   "name": "python",
   "nbconvert_exporter": "python",
   "pygments_lexer": "ipython3",
   "version": "3.7.4"
  },
  "latex_metadata": {
   "affiliation": "UFRJ",
   "author": "Gil Sales Miranda Neto",
   "title": "RootFinding - Bisseção"
  }
 },
 "nbformat": 4,
 "nbformat_minor": 2
}
