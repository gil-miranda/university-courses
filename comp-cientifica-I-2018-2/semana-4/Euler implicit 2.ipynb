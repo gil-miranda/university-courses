{
 "cells": [
  {
   "cell_type": "code",
   "execution_count": 5,
   "metadata": {},
   "outputs": [],
   "source": [
    "import numpy as np\n",
    "import matplotlib.pyplot as plt"
   ]
  },
  {
   "cell_type": "code",
   "execution_count": 44,
   "metadata": {},
   "outputs": [],
   "source": [
    "def bissecaoStep(f,a,b):\n",
    "    z = (a+b)/2\n",
    "    if f(z) == 0:\n",
    "        return (z,z)\n",
    "    elif f(a)*f(z) < 0:\n",
    "        return (a,z)\n",
    "    else:\n",
    "        return (z,b)\n",
    "\n",
    "def bissection(f, a, b, tol=1e-6, i=0):\n",
    "    if (b-a) < tol:\n",
    "        if abs(f((b+a)/2)) < abs(f(b)) and abs(f((b+a)/2)) < abs(f(a)):\n",
    "            retv = (b+a)/2\n",
    "        elif abs(f(b)) < abs(f(a)):\n",
    "            retv = b\n",
    "        else:\n",
    "            retv = a\n",
    "        return retv\n",
    "    else:\n",
    "        a, b = bissecaoStep(f, a, b)\n",
    "        i += 1\n",
    "        return bissection(f, a, b, tol, i)\n",
    "    \n",
    "def eulerExplicito(F, t0, y0, ts):\n",
    "    \"\"\"Calcula uma solução aproximada da equação y' = F(t,y) pelo método de Euler, nos pontos [ts].\"\"\"\n",
    "    ys = [y0]\n",
    "    t = t0\n",
    "    for tnext in ts:\n",
    "        ynext = ys[-1] + F(t, ys[-1])*(tnext-t)\n",
    "        ys.append(ynext)\n",
    "        t = tnext\n",
    "    return ys\n",
    "\n",
    "def euler_npts(F, I, y0, npts, retpts=False):\n",
    "    if retpts:\n",
    "        ts, h = np.linspace(I[0], I[-1], num = npts, retstep = True)\n",
    "    else:\n",
    "        ts = np.linspace(I[0], I[-1], num = npts)\n",
    "    ys = eulerExplicito(F, I[0], y0, ts[1:])\n",
    "    if retpts:\n",
    "        return ts, ys\n",
    "    else:\n",
    "        return ys    "
   ]
  },
  {
   "cell_type": "markdown",
   "metadata": {},
   "source": [
    "# Resolvendo a equação implícita\n",
    "\n",
    "Vejamos o que acontece quando tentamos resolver a EDO\n",
    "$$ y'(t) = t - \\cos(y) $$\n",
    "\n",
    "pelo método de Euler implícito.\n",
    "Agora, temos que resolver a equação (**implícita!**) em $dy$:\n",
    "\n",
    "$$dy = (t - \\cos(y + dy))h.$$\n",
    "\n",
    "Como fazer para encontrar uma solução?"
   ]
  },
  {
   "cell_type": "markdown",
   "metadata": {},
   "source": [
    "# Vamos por partes\n",
    "\n",
    "Como sempre!\n",
    "\n",
    "1. Uma função para resolver a equação\n",
    "2. Incorporar esta função dentro do método de Euler\n",
    "3. Generalizando, depois."
   ]
  },
  {
   "cell_type": "code",
   "execution_count": 45,
   "metadata": {},
   "outputs": [],
   "source": [
    "def solve_dy(t, y, h):\n",
    "    \"\"\"Resolve a equação implícita dy = th - cos(y+dy)*h.\"\"\"\n",
    "    ### Resposta aqui\n",
    "    def aux(dy):\n",
    "        return dy - t*h + h*np.cos(y+dy)\n",
    "    return bissection(aux, 0, t*h-h*np.cos(y))\n"
   ]
  },
  {
   "cell_type": "code",
   "execution_count": 61,
   "metadata": {},
   "outputs": [
    {
     "data": {
      "text/plain": [
       "-0.05403023058681398"
      ]
     },
     "execution_count": 61,
     "metadata": {},
     "output_type": "execute_result"
    }
   ],
   "source": [
    "solve_dy(0, 1, 0.1)"
   ]
  },
  {
   "cell_type": "code",
   "execution_count": 62,
   "metadata": {},
   "outputs": [
    {
     "data": {
      "text/plain": [
       "-0.1620906917604419"
      ]
     },
     "execution_count": 62,
     "metadata": {},
     "output_type": "execute_result"
    }
   ],
   "source": [
    "solve_dy(0, 1, 0.3)"
   ]
  },
  {
   "cell_type": "code",
   "execution_count": 48,
   "metadata": {},
   "outputs": [],
   "source": [
    "# Copiar o código da aula Euler implicit, e modificar\n",
    "# Dados\n",
    "T = 5\n",
    "npts = 30\n",
    "y0 = 1\n",
    "\n",
    "# 1\n",
    "ts, h = np.linspace(0, T, num=npts, retstep=True)\n",
    "\n",
    "# 2\n",
    "### Resposta aqui\n",
    "ys = [y0]\n",
    "for tnext in ts[1:]:\n",
    "    yt = ys[-1]\n",
    "    ynext = yt + solve_dy(tnext, yt, h)\n",
    "    ys.append(ynext)"
   ]
  },
  {
   "cell_type": "code",
   "execution_count": 49,
   "metadata": {},
   "outputs": [
    {
     "data": {
      "image/png": "[encoded data removed]",
      "text/plain": [
       "<Figure size 432x288 with 1 Axes>"
      ]
     },
     "metadata": {
      "needs_background": "light"
     },
     "output_type": "display_data"
    }
   ],
   "source": [
    "plt.plot(ts, ys)\n",
    "plt.show()"
   ]
  },
  {
   "cell_type": "markdown",
   "metadata": {},
   "source": [
    "Comparando com o método explícito"
   ]
  },
  {
   "cell_type": "code",
   "execution_count": 63,
   "metadata": {},
   "outputs": [],
   "source": [
    "def G(t,y):\n",
    "    return t - np.cos(y)"
   ]
  },
  {
   "cell_type": "code",
   "execution_count": 64,
   "metadata": {},
   "outputs": [],
   "source": [
    "ts_expl, ys_expl = euler(G, [0,5], 1, npts=30, retpts=True)"
   ]
  },
  {
   "cell_type": "code",
   "execution_count": 65,
   "metadata": {},
   "outputs": [
    {
     "data": {
      "image/png": "[encoded data removed]",
      "text/plain": [
       "<Figure size 432x288 with 1 Axes>"
      ]
     },
     "metadata": {
      "needs_background": "light"
     },
     "output_type": "display_data"
    }
   ],
   "source": [
    "plt.plot(ts, ys - np.exp(-10*ts), label='implicito')\n",
    "plt.plot(ts_expl, ys_expl - np.exp(-10*ts_expl), label='explicito')\n",
    "plt.legend()\n",
    "plt.show()"
   ]
  },
  {
   "cell_type": "markdown",
   "metadata": {},
   "source": [
    "E agora, quem está certo?  (ou _menos errado_...)"
   ]
  },
  {
   "cell_type": "code",
   "execution_count": 66,
   "metadata": {},
   "outputs": [],
   "source": [
    "ts_expl, ys_expl = euler_npts(G, [0,5], 1, npts=300, retpts=True)"
   ]
  },
  {
   "cell_type": "code",
   "execution_count": 67,
   "metadata": {},
   "outputs": [
    {
     "data": {
      "image/png": "[encoded data removed]",
      "text/plain": [
       "<Figure size 432x288 with 1 Axes>"
      ]
     },
     "metadata": {
      "needs_background": "light"
     },
     "output_type": "display_data"
    }
   ],
   "source": [
    "plt.plot(ts, ys - np.exp(-10*ts), label='implicito')\n",
    "plt.plot(ts_expl, ys_expl - np.exp(-10*ts_expl), label='explicito')\n",
    "plt.legend()\n",
    "plt.show()"
   ]
  },
  {
   "cell_type": "markdown",
   "metadata": {},
   "source": [
    "# Passando para uma função\n",
    "\n",
    "Temos que resolver, a cada etapa, a equação\n",
    "\n",
    "$$ y(t_{i+1}) = y(t_i) + F(t_{i+1}, y(t_{i+1})) (t_{i+1} - t_i), $$\n",
    "\n",
    "dados $y(t_i)$, $t_{i+1}$ e $t_i$.\n",
    "\n",
    "Re-escrevendo em função dos passos:\n",
    "\n",
    "$$ \\delta y = F(t_{i+1}, y + \\delta y) h.$$\n",
    "\n",
    "Assim, precisamos de uma função que retorne $\\delta y$, dados $y(t_i)$, $t_{i+1}$ e $h$."
   ]
  },
  {
   "cell_type": "markdown",
   "metadata": {},
   "source": [
    "### Gerando a função `solveF` numericamente.\n",
    "\n",
    "Agora, não vamos ter uma fórmula fechada, e precisamos fabricar `solve_dy` dada a função $F$."
   ]
  },
  {
   "cell_type": "code",
   "execution_count": 58,
   "metadata": {},
   "outputs": [],
   "source": [
    "def generate_solveF(F):\n",
    "    t = 1\n",
    "    n = 30\n",
    "    h = t*n\n",
    "    y = euler_npts(F, t, 1, npts=n, retpts = False)\n",
    "    def solveF(t, y, h):\n",
    "        # Bisseção abaixo\n",
    "        ### Resposta aqui\n",
    "        \n",
    "        return bissection(F, 0, euler_npts(F, t, 1, npts=30, retpts = False)) \n",
    "    return solveF"
   ]
  },
  {
   "cell_type": "code",
   "execution_count": null,
   "metadata": {},
   "outputs": [],
   "source": []
  },
  {
   "cell_type": "code",
   "execution_count": 59,
   "metadata": {},
   "outputs": [],
   "source": [
    "# Copiar o código de eulerimplicit, e modificar\n",
    "# Explicar porque devemos passar solveF\n",
    "def implicit_euler(F, t0, y0, ts):\n",
    "    \"\"\"Calcula uma solução aproximada da equação y' = F(t,y) pelo método de Euler implícito, nos pontos [ts].\n",
    "    A função solveF(t,y,h) dá a solução de dy = F(t,y+dy)*h.\"\"\"\n",
    "    solveF = generate_solveF(F)\n",
    "    ### Resposta aqui\n",
    "    T = 5\n",
    "    npts = 30\n",
    "    y0 = 1\n",
    "    # 1\n",
    "    ts, h = np.linspace(0, T, num=npts, retstep=True)\n",
    "    # 2\n",
    "    ### Resposta aqui\n",
    "    ys = [y0]\n",
    "    for tnext in ts[1:]:\n",
    "        yt = ys[-1]\n",
    "        ynext = yt + solve_dy(tnext, yt, h)\n",
    "        ys.append(ynext)"
   ]
  },
  {
   "cell_type": "code",
   "execution_count": null,
   "metadata": {},
   "outputs": [],
   "source": []
  },
  {
   "cell_type": "code",
   "execution_count": 60,
   "metadata": {},
   "outputs": [
    {
     "ename": "NameError",
     "evalue": "name 't' is not defined",
     "output_type": "error",
     "traceback": [
      "\u001b[0;31m---------------------------------------------------------------------------\u001b[0m",
      "\u001b[0;31mNameError\u001b[0m                                 Traceback (most recent call last)",
      "\u001b[0;32m<ipython-input-60-4f866a3c7a96>\u001b[0m in \u001b[0;36m<module>\u001b[0;34m()\u001b[0m\n\u001b[1;32m      2\u001b[0m \u001b[0;31m### Resposta aqui\u001b[0m\u001b[0;34m\u001b[0m\u001b[0;34m\u001b[0m\u001b[0m\n\u001b[1;32m      3\u001b[0m \u001b[0;34m\u001b[0m\u001b[0m\n\u001b[0;32m----> 4\u001b[0;31m \u001b[0mplt\u001b[0m\u001b[0;34m.\u001b[0m\u001b[0mplot\u001b[0m\u001b[0;34m(\u001b[0m\u001b[0mt\u001b[0m\u001b[0;34m,\u001b[0m \u001b[0mys\u001b[0m\u001b[0;34m,\u001b[0m \u001b[0mlabel\u001b[0m\u001b[0;34m=\u001b[0m\u001b[0;34m\"30\"\u001b[0m\u001b[0;34m)\u001b[0m\u001b[0;34m\u001b[0m\u001b[0m\n\u001b[0m\u001b[1;32m      5\u001b[0m \u001b[0;34m\u001b[0m\u001b[0m\n\u001b[1;32m      6\u001b[0m \u001b[0mplt\u001b[0m\u001b[0;34m.\u001b[0m\u001b[0mlegend\u001b[0m\u001b[0;34m(\u001b[0m\u001b[0;34m)\u001b[0m\u001b[0;34m\u001b[0m\u001b[0m\n",
      "\u001b[0;31mNameError\u001b[0m: name 't' is not defined"
     ]
    }
   ],
   "source": [
    "# Fazer o gráfico para 30 e 300 pontos, e comparar com Euler_explicito com 1000 pontos\n",
    "### Resposta aqui\n",
    "\n",
    "plt.plot(t, ys, label=\"30\")\n",
    "\n",
    "plt.legend()\n",
    "plt.title(\"Solução\")\n",
    "plt.show()"
   ]
  },
  {
   "cell_type": "markdown",
   "metadata": {},
   "source": [
    "# Mais uma dificuldade...\n",
    "\n",
    "Será que realmente estamos encontrando uma raiz da equação ao usar a bisseção?\n",
    "Inclua um `assert` de que há de fato uma raiz testando sinais opostos."
   ]
  },
  {
   "cell_type": "code",
   "execution_count": 17,
   "metadata": {},
   "outputs": [],
   "source": [
    "def generate_solveF(F):\n",
    "    def solveF(t, y, h):\n",
    "        # Bisseção abaixo\n",
    "        ### Resposta aqui\n",
    "\n",
    "    return solveF"
   ]
  },
  {
   "cell_type": "code",
   "execution_count": 14,
   "metadata": {
    "scrolled": false
   },
   "outputs": [
    {
     "ename": "NameError",
     "evalue": "name 'G' is not defined",
     "output_type": "error",
     "traceback": [
      "\u001b[0;31m---------------------------------------------------------------------------\u001b[0m",
      "\u001b[0;31mNameError\u001b[0m                                 Traceback (most recent call last)",
      "\u001b[0;32m<ipython-input-14-23008cace650>\u001b[0m in \u001b[0;36m<module>\u001b[0;34m()\u001b[0m\n\u001b[1;32m      1\u001b[0m \u001b[0mts\u001b[0m \u001b[0;34m=\u001b[0m \u001b[0mnp\u001b[0m\u001b[0;34m.\u001b[0m\u001b[0mlinspace\u001b[0m\u001b[0;34m(\u001b[0m\u001b[0;36m0\u001b[0m\u001b[0;34m,\u001b[0m\u001b[0;36m5\u001b[0m\u001b[0;34m,\u001b[0m\u001b[0mnum\u001b[0m\u001b[0;34m=\u001b[0m\u001b[0;36m30\u001b[0m\u001b[0;34m)\u001b[0m\u001b[0;34m\u001b[0m\u001b[0m\n\u001b[0;32m----> 2\u001b[0;31m \u001b[0mys\u001b[0m \u001b[0;34m=\u001b[0m \u001b[0mimplicit_euler\u001b[0m\u001b[0;34m(\u001b[0m\u001b[0mG\u001b[0m\u001b[0;34m,\u001b[0m \u001b[0;36m0\u001b[0m\u001b[0;34m,\u001b[0m \u001b[0;36m1\u001b[0m\u001b[0;34m,\u001b[0m \u001b[0mts\u001b[0m\u001b[0;34m[\u001b[0m\u001b[0;36m1\u001b[0m\u001b[0;34m:\u001b[0m\u001b[0;34m]\u001b[0m\u001b[0;34m)\u001b[0m\u001b[0;34m\u001b[0m\u001b[0m\n\u001b[0m",
      "\u001b[0;31mNameError\u001b[0m: name 'G' is not defined"
     ]
    }
   ],
   "source": [
    "ts = np.linspace(0,5,num=30)\n",
    "ys = implicit_euler(G, 0, 1, ts[1:])"
   ]
  },
  {
   "cell_type": "markdown",
   "metadata": {},
   "source": [
    "Vamos tentar \"dar um pouco mais de margem\", com o dobro do passo:"
   ]
  },
  {
   "cell_type": "code",
   "execution_count": 19,
   "metadata": {},
   "outputs": [],
   "source": [
    "def generate_solveF(F):\n",
    "    def solveF(t, y, h):\n",
    "        # Bisseção abaixo\n",
    "        ### Resposta aqui\n",
    "\n",
    "    return solveF"
   ]
  },
  {
   "cell_type": "code",
   "execution_count": 20,
   "metadata": {},
   "outputs": [],
   "source": [
    "ts = np.linspace(0,5,num=30)\n",
    "ys = implicit_euler(G, 0, 1, ts[1:])"
   ]
  },
  {
   "cell_type": "code",
   "execution_count": 21,
   "metadata": {},
   "outputs": [
    {
     "data": {
      "image/png": "[encoded data removed]",
      "text/plain": [
       "<Figure size 432x288 with 1 Axes>"
      ]
     },
     "metadata": {},
     "output_type": "display_data"
    }
   ],
   "source": [
    "# Fazer o gráfico para 30 e 300 pontos, e comparar com Euler_explicito com 1000 pontos\n",
    "### Resposta aqui\n",
    "\n",
    "plt.legend()\n",
    "plt.title(\"Solução\")\n",
    "plt.show()"
   ]
  }
 ],
 "metadata": {
  "kernelspec": {
   "display_name": "Python 3",
   "language": "python",
   "name": "python3"
  },
  "language_info": {
   "codemirror_mode": {
    "name": "ipython",
    "version": 3
   },
   "file_extension": ".py",
   "mimetype": "text/x-python",
   "name": "python",
   "nbconvert_exporter": "python",
   "pygments_lexer": "ipython3",
   "version": "3.7.3"
  }
 },
 "nbformat": 4,
 "nbformat_minor": 2
}
